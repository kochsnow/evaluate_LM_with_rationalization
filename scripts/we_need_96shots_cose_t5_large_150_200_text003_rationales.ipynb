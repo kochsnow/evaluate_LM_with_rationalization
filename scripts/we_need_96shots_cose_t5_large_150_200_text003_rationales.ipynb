{
 "cells": [
  {
   "cell_type": "code",
   "execution_count": 1,
   "id": "f5286ba7",
   "metadata": {},
   "outputs": [
    {
     "name": "stderr",
     "output_type": "stream",
     "text": [
      "\u001b[34m\u001b[1mwandb\u001b[0m: Currently logged in as: \u001b[33mdengdenghuang\u001b[0m (\u001b[33mcuhk_lavilab\u001b[0m). Use \u001b[1m`wandb login --relogin`\u001b[0m to force relogin\n"
     ]
    },
    {
     "name": "stdout",
     "output_type": "stream",
     "text": [
      "env: WANDB_PROJECT=evaluate_LM_with_rationalization\n"
     ]
    }
   ],
   "source": [
    "import wandb\n",
    "wandb.login()\n",
    "\n",
    "%env WANDB_PROJECT=evaluate_LM_with_rationalization"
   ]
  },
  {
   "cell_type": "code",
   "execution_count": 2,
   "id": "30300ea6",
   "metadata": {},
   "outputs": [],
   "source": [
    "# import gpt3\n",
    "import logging\n",
    "import math\n",
    "import os\n",
    "\n",
    "from typing import List, Dict, Any, NewType\n",
    "\n",
    "InputDataClass = NewType(\"InputDataClass\", Any)\n",
    "os.environ[\"CUDA_VISIBLE_DEVICES\"] = \"0\"\n",
    "from transformers import (\n",
    "    T5Config,\n",
    "    T5ForConditionalGeneration,\n",
    "    T5Tokenizer,\n",
    "    HfArgumentParser,\n",
    "    TrainingArguments,\n",
    "    set_seed,\n",
    "    EarlyStoppingCallback\n",
    ")\n",
    "from transformers.trainer_utils import EvaluationStrategy\n",
    "from transformers.integrations import TensorBoardCallback\n",
    "import transformers\n",
    "from transformers import Trainer\n",
    "\n",
    "#from feature_conversion_methods import format_instance\n",
    "\n",
    "from custom_args import (\n",
    "    DataTrainingArguments,\n",
    "    ModelArguments\n",
    ")\n",
    "from metrics import evaluate\n",
    "import torch\n",
    "import datasets\n",
    "import git\n",
    "import time\n",
    "from datetime import datetime\n",
    "import sys\n",
    "from tqdm import trange\n",
    "import random \n",
    "import pandas as pd \n",
    "import jsonlines\n",
    "from copy import deepcopy \n",
    "\n",
    "logger = logging.getLogger(__name__)\n",
    "transformers.logging.set_verbosity_info()\n",
    "import re\n",
    "def set_global_logging_level(level=logging.ERROR, prefices=[\"\"]):\n",
    "    \"\"\"\n",
    "    Override logging levels of different modules based on their name as a prefix.\n",
    "    It needs to be invoked after the modules have been loaded so that their loggers have been initialized.\n",
    "\n",
    "    Args:\n",
    "        - level: desired level. e.g. logging.INFO. Optional. Default is logging.ERROR\n",
    "        - prefices: list of one or more str prefices to match (e.g. [\"transformers\", \"torch\"]). Optional.\n",
    "          Default is `[\"\"]` to match all active loggers.\n",
    "          The match is a case-sensitive `module_name.startswith(prefix)`\n",
    "    \"\"\"\n",
    "    prefix_re = re.compile(fr'^(?:{ \"|\".join(prefices) })')\n",
    "    for name in logging.root.manager.loggerDict:\n",
    "        if re.match(prefix_re, name):\n",
    "            logging.getLogger(name).setLevel(level)\n",
    "set_global_logging_level(logging.ERROR, [\"datasets\"])\n",
    "\n",
    "\n",
    "CONFIG_MAPPING = {\"t5\": T5Config}\n",
    "MODEL_MAPPING = {\"t5\": T5ForConditionalGeneration}\n",
    "TOKENIZER_MAPPING = {\"t5\": T5Tokenizer}\n",
    "\n",
    "\n",
    "def set_other_seeds(seed):\n",
    "    torch.backends.cudnn.benchmark = False\n",
    "    #torch.backends.cudnn.deterministic = True\n",
    "    os.environ['PYTHONHASHSEED'] = str(seed)\n",
    "\n",
    "# inspired by DefaultDataCollator from:\n",
    "# https://github.com/huggingface/transformers/blob/master/src/transformers/data/data_collator.py\n",
    "# modified to perform batch-level padding.\n",
    "class SequenceCollator:\n",
    "    def __init__(self, model, pad_token):\n",
    "        self.model = model\n",
    "        self.pad_token_mapping = {\n",
    "            \"labels\": -100,\n",
    "            \"attention_mask\": 0,\n",
    "            \"decoder_attention_mask\": 0,\n",
    "            \"input_ids\": pad_token,\n",
    "        }\n",
    "\n",
    "        self.columns = [\n",
    "            \"input_ids\",\n",
    "            \"attention_mask\",\n",
    "            \"labels\",\n",
    "            \"decoder_attention_mask\",\n",
    "        ]\n",
    "\n",
    "    def __call__(self, examples: List[Dict[str, InputDataClass]]) -> Dict[str, torch.Tensor]:\n",
    "        # re-format inputs for training\n",
    "        batch = {}\n",
    "        for key in examples[0].keys():\n",
    "            if key in self.columns:\n",
    "                tmp_list = []\n",
    "                for item in examples:\n",
    "                    tmp_list.append(item[key])\n",
    "\n",
    "                # pad lists to max length\n",
    "                if isinstance(tmp_list[0], list):\n",
    "                    max_length = max(map(len, tmp_list))\n",
    "                    tmp_list = [\n",
    "                        el + [self.pad_token_mapping[key]] * (max_length - len(el))\n",
    "                        for el in tmp_list\n",
    "                    ]\n",
    "\n",
    "                batch[key] = torch.tensor(tmp_list, dtype=torch.long)\n",
    "        return batch\n"
   ]
  },
  {
   "cell_type": "code",
   "execution_count": 3,
   "id": "2fa5a75a",
   "metadata": {},
   "outputs": [],
   "source": [
    "from collections import defaultdict\n",
    "import random\n",
    "\"\"\"\n",
    "Example-to-Feature conversion methods\n",
    "Modified from\n",
    "https://github.com/salesforce/cos-e/blob/master/code/generation/train_commonsenseqa_v1.0.py and \"\"_v1.11.py (identical)\n",
    "as well as Tensorflow code for WTF?: \n",
    "https://github.com/google-research/google-research/blob/master/wt5/wt5/preprocessors.py\n",
    "\"\"\"\n",
    "# This code is based on https://github.com/allenai/label_rationale_association/blob/main/feature_conversion_methods.py\n",
    "\n",
    "unified_qa_esnli_label_mapping = {0: 'yes', 1: 'maybe', 2: 'no'}\n",
    "unified_qa_esnli_label_mapping_upper = {0: 'Yes', 1: 'Maybe', 2: 'No'} \n",
    "wt5_esnli_label_mapping = {0: 'entailment', 1: 'neutral', 2: 'contradiction'} \n",
    "unified_qa_sbic_label_mapping = {\"offensive\": 'Yes', \"not offensive\": 'No'}\n",
    "\n",
    "def format_instance(\n",
    "        example,\n",
    "        tokenizer,\n",
    "        explanation_sep,\n",
    "        max_seq_length=None,\n",
    "        datasource=None,\n",
    "        io_format=None, \n",
    "):\n",
    "    assert datasource in {\"cos_e\", \"esnli\", \"sbic\", \"sensemaking\", \"ecqa\"}\n",
    "\n",
    "    if datasource in [\"cos_e\", \"ecqa\"]:\n",
    "        input_string, answer_string = cqa_formatting(example, io_format, explanation_sep, datasource)\n",
    "    elif datasource == \"esnli\":\n",
    "        input_string, answer_string = esnli_formatting(example, io_format, explanation_sep)\n",
    "    elif datasource == 'sbic':\n",
    "        input_string, answer_string = sbic_formatting(example, io_format, explanation_sep)\n",
    "    elif datasource == 'sensemaking':\n",
    "        input_string, answer_string = sensemaking_formatting(example, io_format, explanation_sep)\n",
    "    else:\n",
    "        raise ValueError(\"Unknown task. Currently supported: esnli, cos_e, sbic, sensemaking, ecqa.\")\n",
    "    \n",
    "    if 'unified' in io_format and 'unifew' not in io_format:\n",
    "        input_string += '</s>'\n",
    "\n",
    "    input_string = ' '.join(input_string.split())\n",
    "    answer_string = ' '.join(answer_string.split())\n",
    "\n",
    "    input_string = ' '.join(input_string.split())\n",
    "    answer_string = ' '.join(answer_string.split())\n",
    "\n",
    "    encodings = tokenizer.encode_plus(\n",
    "        input_string,\n",
    "        max_length=max_seq_length,\n",
    "        pad_to_max_length=False,\n",
    "        return_token_type_ids=False,\n",
    "        return_attention_mask=True,\n",
    "    )\n",
    "\n",
    "\n",
    "    # note even with \"lm_labels.shift_right()\", the decoder attention mask length is still correct since we remove the last token\n",
    "    dec = tokenizer.encode_plus(\n",
    "        answer_string,\n",
    "        max_length=max_seq_length,\n",
    "        pad_to_max_length=False,\n",
    "        return_token_type_ids=False,\n",
    "        return_attention_mask=True,\n",
    "    )\n",
    "\n",
    "    encodings[\"labels\"] = dec[\"input_ids\"]\n",
    "    encodings[\"decoder_attention_mask\"] = dec[\"attention_mask\"]\n",
    "    encodings[\"question_encoding\"] = encodings[\"input_ids\"]\n",
    "\n",
    "    #return encodings\n",
    "    return {**example, **encodings}\n",
    "\n",
    "#这里很简单 定义好输入输出string就可以的\n",
    "def cqa_formatting(item, io_format, explanation_sep, datasource):\n",
    "    question = item[\"question\"]\n",
    "    answer = item[\"answer\"]\n",
    "    abstr_expl = item[\"abstractive_explanation\"].lower() if datasource == 'cos_e' else item[\"explanation\"].lower()\n",
    "\n",
    "\n",
    "    if io_format == 't5_fewshot_infilling_with_choices':\n",
    "        input_string = f\"explain {datasource} question: {question} choice: \" + \" choice: \".join(item[\"choices\"]) + f\" <extra_id_0> {explanation_sep} <extra_id_1>\"\n",
    "        answer_string = f\"<extra_id_0> {answer} <extra_id_1> {abstr_expl} <extra_id_2>\"\n",
    "    elif io_format == 't5_fewshot_infilling_more_natural':\n",
    "        input_string = f\"explain {datasource} question: {question} choice: \" + \" choice: \".join(item[\"choices\"]) + f\" The answer is <extra_id_0> {explanation_sep} <extra_id_1>\"\n",
    "        answer_string = f\"<extra_id_0> {answer} <extra_id_1> {abstr_expl} <extra_id_2>\"\n",
    "    elif io_format == \"squad\": \n",
    "        input_string = f\"explain {datasource} question: {question} context: \" + ', '.join(item['choices']) # explain cos_e question: When getting in shape you need to have this in between workouts? context: give up, period of recovery, jogging\n",
    "        answer_string = f\"{answer} {explanation_sep} {abstr_expl}\" # period of recovery because without a period of recovery you will not get any gains.\n",
    "    elif io_format == \"record\": \n",
    "        # might not work because cos_e doesn't have a passage \n",
    "        input_string = f\"explain {datasource} query: {question} entities: \" + ', '.join(item['choices']) # explain cos_e query: When getting in shape you need to have this in between workouts? entities: give up, period of recovery, jogging\n",
    "        answer_string = f\"{answer} {explanation_sep} {abstr_expl}\" # period of recovery because without a period of recovery you will not get any gains.\n",
    "    elif io_format == 'unifiedqa_matching':\n",
    "        choice_ids = ['(A)', '(B)', '(C)', '(D)', '(E)']\n",
    "        input_string = f'explain {question.lower()} \\\\n'\n",
    "        for choice_id, choice in zip(choice_ids, item[\"choices\"]):\n",
    "            input_string += f' {choice_id} {choice.lower()}'\n",
    "        answer_string = f\"{answer.lower()} {explanation_sep} {abstr_expl.lower()}\"\n",
    "        answer_string = answer_string.lower()\n",
    "    elif io_format == 't5_fewshot_infilling_without_choices_use_refined_expl':\n",
    "        input_string = f\"explain {datasource} question: {question} choice: \" + \" choice: \".join(item[\"choices\"]) + f\" <extra_id_0> {explanation_sep} <extra_id_1>\"\n",
    "        input_string = f\"explain {datasource} question: {question} answer: {answer}\" + f\" {explanation_sep} <extra_id_0>\"\n",
    "        answer_string = f\"<extra_id_0> {item['our_explanation']} <extra_id_1>\"\n",
    "\n",
    "    else:\n",
    "        raise ValueError(\"The IO format is not supported. Choose `standard` or `masked_cause_generate`.\")\n",
    "    \n",
    "    return input_string, answer_string\n",
    "\n",
    "\n",
    "def esnli_formatting(item, io_format, explanation_sep):\n",
    "\n",
    "    premise = item[\"premise\"]\n",
    "    hypothesis = item[\"hypothesis\"]\n",
    "    answer = unified_qa_esnli_label_mapping[item[\"label\"]] if 'unified' in io_format else wt5_esnli_label_mapping[item[\"label\"]]\n",
    "    abstr_expl = item[\"explanation_1\"].lower() \n",
    "    # Dev/test instances have more than one explanation annotated; merge them into one sequence separated by [SEP] \n",
    "    for k in [2,3]:\n",
    "        if f\"explanation_{k}\" in item and item[f'explanation_{k}']!='': \n",
    "            abstr_expl += f\" [SEP] {item[f'explanation_{k}'].lower()}\"\n",
    "\n",
    "    if io_format == 'standard':\n",
    "        input_string = f\"explain nli hypothesis: {hypothesis} premise: {premise}\"\n",
    "        answer_string = f\"{answer} {explanation_sep} {abstr_expl}\"\n",
    "    elif io_format == 't5_fewshot_infilling':\n",
    "        input_string = f\"explain nli hypothesis: {hypothesis} premise: {premise} <extra_id_0> {explanation_sep} <extra_id_1>\"\n",
    "        answer_string = f\"<extra_id_0> {answer} <extra_id_1> {abstr_expl} <extra_id_2>\"\n",
    "    elif io_format == 't5_fewshot_infilling_more_natural':\n",
    "        input_string = f\"explain nli hypothesis: {hypothesis} premise: {premise} This is <extra_id_0> {explanation_sep} <extra_id_1>\"\n",
    "        answer_string = f\"<extra_id_0> {answer} <extra_id_1> {abstr_expl} <extra_id_2>\"\n",
    "    elif io_format == \"squad\": \n",
    "        input_string = f\"explain nli question: Is this entailment? context: {hypothesis} {premise}\"  \n",
    "        answer_ynm = unified_qa_esnli_label_mapping[item[\"label\"]]\n",
    "        answer_string = f\"{answer_ynm} {explanation_sep} {abstr_expl}\" \n",
    "    elif io_format == \"squad_endswith_what\":\n",
    "        input_string = f\"explain nli question: What is this? context: {hypothesis} {premise}\"  \n",
    "        answer_string = f\"{answer} {explanation_sep} {abstr_expl}\"  \n",
    "    elif io_format == \"squad_nli_mix\": \n",
    "        input_string = f\"explain nli question: Is this entailment? context: hypothesis: {hypothesis} premise: {premise}\"  \n",
    "        answer_ynm = unified_qa_esnli_label_mapping[item[\"label\"]]\n",
    "        answer_string = f\"{answer_ynm} {explanation_sep} {abstr_expl}\"  \n",
    "    elif io_format == \"squad_nli_mix_endswith_what\":  \n",
    "        input_string = f\"explain nli question: What is this? context: hypothesis: {hypothesis} premise: {premise}\"  \n",
    "        answer_string = f\"{answer} {explanation_sep} {abstr_expl}\"   \n",
    "    elif io_format == 'unifiedqa_unifew':\n",
    "        hypothesis = hypothesis.lower().rstrip('.')\n",
    "        unified_qa_esnli_label_mapping_upper = {0: 'Yes', 1: 'Maybe', 2: 'No'}\n",
    "        answer = unified_qa_esnli_label_mapping_upper[item[\"label\"]]\n",
    "        input_string = f'explain {premise} Is {hypothesis}? \\\\n (A) Yes (B) Maybe (C) No'\n",
    "        answer_string = f\"{answer} {explanation_sep} {abstr_expl}\"  \n",
    "    elif io_format == 'unifiedqa_unifew_nli_mix':\n",
    "        premise = premise.lower().rstrip('.')\n",
    "        unified_qa_esnli_label_mapping_upper = {0: 'Yes', 1: 'Maybe', 2: 'No'}\n",
    "        input_string = f'explain hypothesis: {hypothesis} Is premise: {premise}? \\\\n (A) Yes (B) Maybe (C) No'\n",
    "        answer_string = f\"{answer} {explanation_sep} {abstr_expl}\"  \n",
    "    elif io_format == 'unifiedqa_ynm': \n",
    "        input_string = f'explain is this entailment? \\\\n {hypothesis.lower()} {premise.lower()}'  \n",
    "        answer = unified_qa_esnli_label_mapping[item[\"label\"]]\n",
    "        answer_string = f\"{answer} {explanation_sep} {abstr_expl.lower()}\"  \n",
    "    elif io_format == 'unifiedqa_snli_mix_ynm': \n",
    "        input_string = f'explain is this entailment? \\\\n hypothesis: {hypothesis.lower()} premise: {premise.lower()}' \n",
    "        answer = unified_qa_esnli_label_mapping[item[\"label\"]]\n",
    "        answer_string = f\"{answer} {explanation_sep} {abstr_expl.lower()}\"  \n",
    "    elif io_format == 'unifiedqa_snli_mix_ynm_with_choices': \n",
    "        input_string = f'explain is this entailment? \\\\n (A) yes (B) maybe (C) no \\\\n hypothesis: {hypothesis.lower()} premise: {premise.lower()}'  \n",
    "        answer = unified_qa_esnli_label_mapping[item[\"label\"]]\n",
    "        answer_string = f\"{answer} {explanation_sep} {abstr_expl.lower()}\"  \n",
    "    elif io_format == 'unifiedqa_what_v2': \n",
    "        input_string = f'explain what is this? \\\\n {hypothesis.lower()} {premise.lower()}'  \n",
    "        answer = wt5_esnli_label_mapping[item[\"label\"]]\n",
    "        answer_string = f\"{answer} {explanation_sep} {abstr_expl.lower()}\"  \n",
    "    elif io_format == 'unifiedqa_snli_mix_what_v2': \n",
    "        input_string = f'explain what is this? \\\\n hypothesis: {hypothesis.lower()} premise: {premise.lower()}'  \n",
    "        answer = wt5_esnli_label_mapping[item[\"label\"]]\n",
    "        answer_string = f\"{answer} {explanation_sep} {abstr_expl.lower()}\"  \n",
    "    elif io_format == 'unifiedqa_snli_mix_what_with_choices_v2': \n",
    "        input_string = f'explain what is this? \\\\n (A) entailment (B) neutral (C) contradiction \\\\n hypothesis: {hypothesis.lower()} premise: {premise.lower()}'  \n",
    "        answer = wt5_esnli_label_mapping[item[\"label\"]]\n",
    "        answer_string = f\"{answer} {explanation_sep} {abstr_expl.lower()}\"     \n",
    "    else:\n",
    "        raise ValueError(\"The IO format is not supported.\")\n",
    "\n",
    "    return input_string, answer_string\n",
    "\n",
    "\n",
    "def sbic_formatting(item, io_format, explanation_sep):\n",
    "    # We pre-processed the SBIC dataset such that we join multiple implied statements with the [SEP] token for dev/test instances \n",
    "    # Each annotation in the training split is a separate instance\n",
    "    post = item['post']\n",
    "    answer = unified_qa_sbic_label_mapping[item[\"offensiveYN\"]] if 'unified' in io_format else item[\"offensiveYN\"].replace(\"not offensive\", \"not_offensive\")\n",
    "    abstr_expl = item[\"targetStereotype\"]\n",
    "    \n",
    "\n",
    "    if io_format == 'cola':\n",
    "        input_string = f\"explain sbic sentence: {post}\"\n",
    "        answer_string = f\"{answer} {explanation_sep} {abstr_expl}\"  \n",
    "    elif io_format == 't5_fewshot_infilling':\n",
    "        input_string = f\"explain sbic sentence: {post} <extra_id_0> {explanation_sep} <extra_id_1>\"\n",
    "        answer_string = f\"<extra_id_0> {answer} <extra_id_1> {abstr_expl} <extra_id_2>\"\n",
    "    elif io_format == 't5_fewshot_infilling_bool':\n",
    "        answer_bool = 'True' if item[\"offensiveYN\"] == 'offensive' else 'False'\n",
    "        input_string = f\"explain sbic sentence: {post} It is <extra_id_0> that this is offensive {explanation_sep} <extra_id_1>\"\n",
    "        answer_string = f\"<extra_id_0> {answer} <extra_id_1> {abstr_expl} <extra_id_2>\"\n",
    "    elif io_format == 't5_fewshot_infilling_more_natural':\n",
    "        input_string = f\"explain sbic sentence: {post} This is <extra_id_0> {explanation_sep} <extra_id_1>\"\n",
    "        answer_string = f\"<extra_id_0> {answer} <extra_id_1> {abstr_expl} <extra_id_2>\"\n",
    "    elif io_format == 'squad_yn': \n",
    "        input_string = f\"explain sbic question: Is this offensive? context: {post}\" # explain sbic question: Is this offensive? context: It's only happened to you like two times.\n",
    "        answer_yn = unified_qa_sbic_label_mapping[item[\"offensiveYN\"]] \n",
    "        answer_string = f\"{answer_yn} {explanation_sep} {abstr_expl}\" #  No because this post does not imply anything offensive\n",
    "    elif io_format == 'squad_yn_with_tags': \n",
    "        input_string = f\"explain sbic question: Is this offensive? context: post: {post}\" # explain sbic question: Is this offensive? context: It's only happened to you like two times.\n",
    "        answer_yn = unified_qa_sbic_label_mapping[item[\"offensiveYN\"]] \n",
    "        answer_string = f\"{answer_yn} {explanation_sep} {abstr_expl}\" #  No because this post does not imply anything offensive\n",
    "    elif io_format == 'squad_what': \n",
    "        input_string = f\"explain sbic question: What is this? context: {post}\" # explain sbic question: This is what? context: It's only happened to you like two times.\n",
    "        answer = item[\"offensiveYN\"].replace(\"not offensive\", \"not_offensive\")        \n",
    "        answer_string = f\"{answer} {explanation_sep} {abstr_expl}\" # not_offensive because this post does not imply anything offensive    \n",
    "    elif io_format == 'squad_what_with_tags': \n",
    "        input_string = f\"explain sbic question: What is this? context: post: {post}\" # explain sbic question: This is what? context: It's only happened to you like two times.\n",
    "        answer = item[\"offensiveYN\"].replace(\"not offensive\", \"not_offensive\")        \n",
    "        answer_string = f\"{answer} {explanation_sep} {abstr_expl}\" # not_offensive because this post does not imply anything offensive    \n",
    "    elif io_format == 'unified_qa_yn':\n",
    "        input_string = f'explain is this offensive? \\\\n {post.lower()}'\n",
    "        answer_string = f\"{answer} {explanation_sep} {abstr_expl.lower()}\" \n",
    "    elif io_format == 'unified_qa_yn_with_tags':\n",
    "        input_string = f'explain is this offensive? \\\\n post: {post.lower()}'\n",
    "        answer_string = f\"{answer} {explanation_sep} {abstr_expl.lower()}\"  \n",
    "    elif io_format == 'unified_qa_yn_with_choices':\n",
    "        input_string = f'explain is this offensive? \\\\n (A) yes (B) no \\\\n {post.lower()}'\n",
    "        answer_string = f\"{answer} {explanation_sep} {abstr_expl.lower()}\"\n",
    "    elif io_format == 'unified_qa_yn_with_choices_and_tags':\n",
    "        input_string = f'explain is this offensive? \\\\n (A) yes (B) no \\\\n post: {post.lower()}'\n",
    "        answer_string = f\"{answer} {explanation_sep} {abstr_expl.lower()}\"  \n",
    "    elif io_format == 'unified_qa_what':\n",
    "        input_string = f'explain what is this? \\\\n {post.lower()}'\n",
    "        answer = item[\"offensiveYN\"].replace(\"not offensive\", \"not_offensive\")\n",
    "        answer_string = f\"{answer} {explanation_sep} {abstr_expl.lower()}\"  \n",
    "    elif io_format == 'unified_qa_what_with_tags':\n",
    "        input_string = f'explain what is this? \\\\n post: {post.lower()}'\n",
    "        answer = item[\"offensiveYN\"].replace(\"not offensive\", \"not_offensive\")\n",
    "        answer_string = f\"{answer} {explanation_sep} {abstr_expl.lower()}\"  \n",
    "    elif io_format == 'unified_qa_what_with_choices':\n",
    "        input_string = f'explain what is this? \\\\n (A) offensive (B) not_offensive \\\\n {post.lower()}'\n",
    "        answer = item[\"offensiveYN\"].replace(\"not offensive\", \"not_offensive\")\n",
    "        answer_string = f\"{answer} {explanation_sep} {abstr_expl.lower()}\"\n",
    "    elif io_format == 'unified_qa_what_with_choices_and_tags':\n",
    "        input_string = f'explain what is this? \\\\n (A) offensive (B) not_offensive \\\\n post: {post.lower()}'\n",
    "        answer = item[\"offensiveYN\"].replace(\"not offensive\", \"not_offensive\")\n",
    "        answer_string = f\"{answer} {explanation_sep} {abstr_expl.lower()}\"  \n",
    "    elif io_format == 'unifiedqa_unifew':\n",
    "        input_string = f\"Topic? \\\\n (A) offensive (B) not_offensive \\\\n {post}\"\n",
    "        answer = item[\"offensiveYN\"].replace(\"not offensive\", \"not_offensive\")\n",
    "        answer_string = f\"{answer} {explanation_sep} {abstr_expl}\"\n",
    "    else:\n",
    "        raise ValueError(\"The IO format is not supported. Choose `standard` or `masked_cause_generate`.\")\n",
    "\n",
    "    input_string = ' '.join(input_string.split())\n",
    "    answer_string = ' '.join(answer_string.split())\n",
    "    return input_string, answer_string\n",
    "\n",
    "def sensemaking_formatting(item, io_format, explanation_sep):\n",
    "    # TODO: explore whether removing periods makes difference? \n",
    "    sent0 = item['sent0']\n",
    "    sent1 = item['sent1']\n",
    "    nonsensical_sentence = str(int(item['label'])+1)\n",
    "    explanation = item['explanation'].lower()\n",
    "\n",
    "    if io_format == 'copa_with_question':\n",
    "        input_string = f\"explain sensemaking choice1: {sent0} choice2: {sent1} question: nonsensical\"\n",
    "        answer_string = f\"choice{nonsensical_sentence} {explanation_sep} {explanation}\"\n",
    "    elif io_format == 'copa_bool':  \n",
    "        answer_bool = str(bool(int(item['label']))) # True if choice2 is more nonsensical    \n",
    "        input_string = f\"explain sensemaking choice1: {sent0} choice2: {sent1} Less common is choice2\"\n",
    "        answer_string = f\"{answer_bool} {explanation_sep} {explanation}\"\n",
    "    elif io_format == 't5_fewshot_infilling':  \n",
    "        input_string = f\"explain sensemaking choice1: {sent0} choice2: {sent1} <extra_id_0> {explanation_sep} <extra_id_1>\"\n",
    "        answer_string = f\"<extra_id_0> choice{nonsensical_sentence} <extra_id_1> {explanation} <extra_id_2>\"\n",
    "    elif io_format == 't5_fewshot_infilling_bool':  \n",
    "        answer_bool = str(bool(int(item['label']))) # True if choice2 is more nonsensical    \n",
    "        input_string = f\"explain sensemaking choice1: {sent0} choice2: {sent1} It is <extra_id_0> that choice2 is less common {explanation_sep} <extra_id_1>\"\n",
    "        answer_string = f\"<extra_id_0> {answer_bool} <extra_id_1> {explanation} <extra_id_2>\"\n",
    "    elif io_format == \"squad_yn\": \n",
    "        input_string = f\"explain sensemaking question: Is choice2 more nonsensical? context: choice1: {sent0} choice2: {sent1}\" # explain sensemaking question: What is nonsensical, choice1 or choice2? context: choice1: All state flowers are the scarlet carnation. choice2: The New Jersey state flower is the scarlet carnation\n",
    "        answer = \"Yes\" if bool(int(item['label'])) else \"No\"\n",
    "        answer_string = f\"{answer} {explanation_sep} {explanation}\" #  choice1 because state flowers are unique to each state.  \n",
    "    elif io_format == \"squad_yn_no_tags\": \n",
    "        input_string = f\"explain sensemaking question: Is choice2 more nonsensical? context: {sent0} {sent1}\" # explain sensemaking question: What is nonsensical, choice1 or choice2? context: choice1: All state flowers are the scarlet carnation. choice2: The New Jersey state flower is the scarlet carnation\n",
    "        answer = \"Yes\" if bool(int(item['label'])) else \"No\"\n",
    "        answer_string = f\"{answer} {explanation_sep} {explanation}\" #  choice1 because state flowers are unique to each state.  \n",
    "    elif io_format == \"squad_what\": \n",
    "        input_string = f\"explain sensemaking question: What is more nonsensical? context: choice1: {sent0} choice2: {sent1}\" # explain sensemaking question: What is nonsensical, choice1 or choice2? context: choice1: All state flowers are the scarlet carnation. choice2: The New Jersey state flower is the scarlet carnation\n",
    "        answer_string = f\"choice{nonsensical_sentence} {explanation_sep} {explanation}\" #  choice1 because state flowers are unique to each state.  \n",
    "    elif io_format == \"squad_what_no_tags\": \n",
    "        input_string = f\"explain sensemaking question: What is more nonsensical? context: {sent0} {sent1}\" # explain sensemaking question: What is nonsensical, choice1 or choice2? context: choice1: All state flowers are the scarlet carnation. choice2: The New Jersey state flower is the scarlet carnation\n",
    "        answer_string = f\"choice{nonsensical_sentence} {explanation_sep} {explanation}\" #  choice1 because state flowers are unique to each state.  \n",
    "    elif io_format == \"record\": \n",
    "        input_string = f\"explain sensemaking query: What is more nonsensical? entities: choice1, choice2 passage: choice1: {sent0} choice2: {sent1}\" # explain sensemaking query: What is nonsensical? entities: choice1, choice2 passage: choice1: All state flowers are the scarlet carnation. choice2: The New Jersey state flower is the scarlet carnation.\n",
    "        answer_string = f\"choice{nonsensical_sentence} {explanation_sep} {explanation}\" # choice1 because state flowers are unique to each state.\n",
    "    elif io_format == 'unifiedqa_yn_with_choices':\n",
    "        answer = \"yes\" if bool(int(item['label'])) else \"no\"\n",
    "        input_string = f'explain is choice2 more nonsensical? \\\\n (A) yes (B) no \\\\n choice1: {sent0.lower()} choice2: {sent1.lower()}'\n",
    "        answer_string = f\"{answer} {explanation_sep} {explanation.lower()}\" \n",
    "    elif io_format == 'unifiedqa_yn':\n",
    "        answer = \"yes\" if bool(int(item['label'])) else \"no\"\n",
    "        input_string = f'explain is choice2 more nonsensical? \\\\n choice1: {sent0.lower()} choice2: {sent1.lower()}'\n",
    "        answer_string = f\"{answer} {explanation_sep} {explanation.lower()}\"  \n",
    "    elif io_format == 'unifiedqa_yn_no_tags':\n",
    "        answer = \"yes\" if bool(int(item['label'])) else \"no\"\n",
    "        input_string = f'explain is choice2 more nonsensical? \\\\n {sent0.lower()} {sent1.lower()}'\n",
    "        answer_string = f\"{answer} {explanation_sep} {explanation.lower()}\"  \n",
    "    elif io_format == 'unifiedqa_what_with_choices':\n",
    "        nonsensical_sentence = str(int(item['label'])+1)\n",
    "        input_string = f'explain what is more nonsensical? \\\\n (A) choice1 (B) choice2 \\\\n choice1: {sent0.lower()} choice2: {sent1.lower()}'\n",
    "        answer_string = f\"choice{nonsensical_sentence} {explanation_sep} {explanation.lower()}\"  # use \" BECAUSE \"\n",
    "    elif io_format == 'unifiedqa_what':\n",
    "        nonsensical_sentence = str(int(item['label'])+1)\n",
    "        input_string = f'explain what is more nonsensical? \\\\n choice1: {sent0.lower()} choice2: {sent1.lower()}'\n",
    "        answer_string = f\"choice{nonsensical_sentence} {explanation_sep} {explanation.lower()}\"  # use \" BECAUSE \"\n",
    "    elif io_format == 'unifiedqa_what_no_tags':\n",
    "        nonsensical_sentence = str(int(item['label'])+1)\n",
    "        input_string = f'explain what is more nonsensical? \\\\n {sent0.lower()} {sent1.lower()}'\n",
    "        answer_string = f\"choice{nonsensical_sentence} {explanation_sep} {explanation.lower()}\"  # use \" BECAUSE \"\n",
    "\n",
    "\n",
    "    input_string = ' '.join(input_string.split())\n",
    "    answer_string = ' '.join(answer_string.split())\n",
    "    return input_string, answer_string"
   ]
  },
  {
   "cell_type": "code",
   "execution_count": 4,
   "id": "dde6c7e1",
   "metadata": {},
   "outputs": [
    {
     "name": "stderr",
     "output_type": "stream",
     "text": [
      "PyTorch: setting up devices\n",
      "The default value for the training argument `--report_to` will change in v5 (from all installed integrations to none). In v5, you will need to use `--report_to all` to get the same behavior as now. You should start updating your code and make this info disappear :-).\n",
      "01/12/2023 15:59:20 - WARNING - __main__ -   Process rank: -1, device: cuda:0, n_gpu: 1, distributed training: False, 16-bits training: False\n",
      "01/12/2023 15:59:20 - INFO - __main__ -   Save path: ./cos_e_output_t5_large/011223_155920\n",
      "01/12/2023 15:59:20 - INFO - __main__ -   Git branch: dev\n",
      "01/12/2023 15:59:20 - INFO - __main__ -   Git hash: 1cbb5c3b4e53baf31cbafc20d9655c63f091f901\n"
     ]
    }
   ],
   "source": [
    "og_start_time = time.time()\n",
    "\n",
    "#parser = HfArgumentParser(\n",
    "#    (ModelArguments, DataTrainingArguments, TrainingArguments)\n",
    "#)\n",
    "parser = HfArgumentParser(\n",
    "    (ModelArguments, DataTrainingArguments, TrainingArguments)\n",
    ")\n",
    "\n",
    "model_args, data_args, training_args, unused_args = parser.parse_args_into_dataclasses(\n",
    "    [\"--model_type\", \"t5-3b\",\n",
    "     \"--tokenizer_name\", \"t5-3b\",\n",
    "     \"--task_name\", \"cos_e\", \n",
    "     \"--output_dir\", \"./cos_e_output_t5_large\", \n",
    "     \"--n_shots\", \"10\",\n",
    "     \"--do_train\", \"True\"], return_remaining_strings=True)\n",
    "if unused_args != []:\n",
    "    raise ValueError(f\"Received unused arguments: {unused_args}\")\n",
    "# make sure only one dataset split pick if manually specifying evaluation file\n",
    "\n",
    "if model_args.use_gpt3:\n",
    "    assert training_args.do_train\n",
    "    assert not training_args.do_eval\n",
    "    assert data_args.generations_filepath is None\n",
    "    if data_args.gpt3_max_eval_size is not None:\n",
    "        assert data_args.gpt3_max_eval_size <= data_args.fewshot_eval_size\n",
    "        assert data_args.gpt3_max_eval_size % 2 == 0\n",
    "        assert data_args.gpt3_max_eval_size % 3 == 0\n",
    "\n",
    "if data_args.generations_filepath is not None:\n",
    "    training_args.do_train = False\n",
    "    training_args.do_eval = False\n",
    "    if \"train\" in data_args.generations_filepath:\n",
    "        data_args.train_predict = True\n",
    "        data_args.test_predict = False\n",
    "        data_args.dev_predict = False\n",
    "    elif \"test\" in data_args.generations_filepath:\n",
    "        data_args.train_predict = False\n",
    "        data_args.test_predict = True\n",
    "        data_args.dev_predict = False\n",
    "    elif \"validation\" in data_args.generations_filepath:\n",
    "        data_args.train_predict = False\n",
    "        data_args.test_predict = False\n",
    "        data_args.dev_predict = True\n",
    "\n",
    "if not training_args.do_train and data_args.generations_filepath is None:\n",
    "    if not model_args.pretrained_model_file:\n",
    "        raise Exception(\n",
    "            \"if not training a model from scratch, must specify a trained model to load for evaluation\"\n",
    "        )\n",
    "\n",
    "if training_args.do_train:\n",
    "    # create a save directory and a logfile\n",
    "    training_args.output_dir = os.path.join(\n",
    "        training_args.output_dir, datetime.now().strftime(\"%m%d%y_%H%M%S\")\n",
    "    )\n",
    "    training_args.logging_dir = training_args.output_dir\n",
    "    assert not os.path.exists(training_args.output_dir)\n",
    "    os.makedirs(training_args.output_dir)\n",
    "\n",
    "    if (\n",
    "            os.path.exists(training_args.output_dir)\n",
    "            and os.listdir(training_args.output_dir)\n",
    "            and training_args.do_train\n",
    "            and not training_args.overwrite_output_dir\n",
    "    ):\n",
    "        raise ValueError(\n",
    "            f\"Output directory ({training_args.output_dir}) already exists and is not empty. Use --overwrite_output_dir to overcome.\"\n",
    "        )\n",
    "    handlers = [\n",
    "        logging.FileHandler(os.path.join(training_args.output_dir, \"logger.log\")),\n",
    "        logging.StreamHandler(),\n",
    "    ]\n",
    "else:\n",
    "    # don't overwrite existing logfile or create new directory\n",
    "    training_args.output_dir = model_args.pretrained_model_file\n",
    "    handlers = [logging.StreamHandler()]\n",
    "\n",
    "# Setup logging\n",
    "logging.basicConfig(\n",
    "    format=\"%(asctime)s - %(levelname)s - %(name)s -   %(message)s\",\n",
    "    datefmt=\"%m/%d/%Y %H:%M:%S\",\n",
    "    level=logging.INFO if training_args.local_rank in [-1, 0] else logging.WARN,\n",
    "    handlers=handlers,\n",
    ")\n",
    "logger.warning(\n",
    "    \"Process rank: %s, device: %s, n_gpu: %s, distributed training: %s, 16-bits training: %s\",\n",
    "    training_args.local_rank,\n",
    "    training_args.device,\n",
    "    training_args.n_gpu,\n",
    "    bool(training_args.local_rank != -1),\n",
    "    training_args.fp16,\n",
    ")\n",
    "logger.info(\"Save path: %s\" % training_args.output_dir)\n",
    "\n",
    "# get git hash and branch where deployed\n",
    "repo = git.Repo(search_parent_directories=True)\n",
    "git_hash = repo.head.object.hexsha\n",
    "git_branch = repo.active_branch.name\n",
    "logger.info(\"Git branch: %s\" % git_branch)\n",
    "logger.info(\"Git hash: %s\" % git_hash)\n",
    "\n",
    "model_class = \"t5\"\n",
    "assert data_args.task_name in {\"cos_e\", \"esnli\", \"sbic\", \"sensemaking\", \"ecqa\"}\n",
    "\n",
    "if training_args.do_train:\n",
    "    # write command and args to file\n",
    "    with open(\n",
    "            os.path.join(training_args.output_dir, \"commandline_args.txt\"), \"w\"\n",
    "    ) as f:\n",
    "        f.write(\"Git branch: \" + git_branch + \"\\n\")\n",
    "        f.write(\"Git hash: \" + git_hash + \"\\n\")\n",
    "        f.write(\"Command:\\n\")\n",
    "        f.write(\"\\n\".join(sys.argv[1:]))\n",
    "\n",
    "# Set seed\n",
    "set_seed(training_args.seed)\n",
    "set_other_seeds(training_args.seed)\n",
    "\n",
    "# Load pretrained model and tokenizer\n",
    "#\n",
    "# Distributed training:\n",
    "# The .from_pretrained methods guarantee that only one local process can concurrently\n",
    "# download model & vocab."
   ]
  },
  {
   "cell_type": "code",
   "execution_count": 5,
   "id": "684646b4",
   "metadata": {},
   "outputs": [
    {
     "data": {
      "text/plain": [
       "device(type='cuda', index=0)"
      ]
     },
     "execution_count": 5,
     "metadata": {},
     "output_type": "execute_result"
    }
   ],
   "source": [
    "training_args.set_device = \"cuda:0\"\n",
    "training_args.device"
   ]
  },
  {
   "cell_type": "code",
   "execution_count": 6,
   "id": "18a3172a",
   "metadata": {},
   "outputs": [
    {
     "name": "stderr",
     "output_type": "stream",
     "text": [
      "01/12/2023 15:59:20 - INFO - __main__ -   Loading pretrained tokenizer...\n",
      "loading file https://huggingface.co/t5-large/resolve/main/spiece.model from cache at /home/huangyongfeng/.cache/huggingface/transformers/71ee551f54e246045a7b94dd449c33759924b864712e6d235bbba5245c9f6296.3b69006860e7b5d0a63ffdddc01ddcd6b7c318a6f4fd793596552c741734c62d\n",
      "loading file https://huggingface.co/t5-large/resolve/main/added_tokens.json from cache at None\n",
      "loading file https://huggingface.co/t5-large/resolve/main/special_tokens_map.json from cache at None\n",
      "loading file https://huggingface.co/t5-large/resolve/main/tokenizer_config.json from cache at None\n",
      "loading file https://huggingface.co/t5-large/resolve/main/tokenizer.json from cache at /home/huangyongfeng/.cache/huggingface/transformers/276094e085ecb12227136f2e755dc1f68be6f5da32df55ebfb104c791fbbc3c1.8627f1bd5d270a9fd2e5a51c8bec3223896587cc3cfe13edeabb0992ab43c529\n",
      "loading configuration file https://huggingface.co/t5-large/resolve/main/config.json from cache at /home/huangyongfeng/.cache/huggingface/transformers/1adb1f57c3579debfcce7b94ee03f6144e0ff7a0c2825e48b3f9cde9ce290c7d.75cc627adbf83d06473fdad6b036e8594b465394bf31d84bc54a373c9c5a5563\n",
      "Model config T5Config {\n",
      "  \"architectures\": [\n",
      "    \"T5ForConditionalGeneration\"\n",
      "  ],\n",
      "  \"d_ff\": 4096,\n",
      "  \"d_kv\": 64,\n",
      "  \"d_model\": 1024,\n",
      "  \"decoder_start_token_id\": 0,\n",
      "  \"dropout_rate\": 0.1,\n",
      "  \"eos_token_id\": 1,\n",
      "  \"feed_forward_proj\": \"relu\",\n",
      "  \"gradient_checkpointing\": false,\n",
      "  \"initializer_factor\": 1.0,\n",
      "  \"is_encoder_decoder\": true,\n",
      "  \"layer_norm_epsilon\": 1e-06,\n",
      "  \"model_type\": \"t5\",\n",
      "  \"n_positions\": 512,\n",
      "  \"num_decoder_layers\": 24,\n",
      "  \"num_heads\": 16,\n",
      "  \"num_layers\": 24,\n",
      "  \"output_past\": true,\n",
      "  \"pad_token_id\": 0,\n",
      "  \"relative_attention_num_buckets\": 32,\n",
      "  \"task_specific_params\": {\n",
      "    \"summarization\": {\n",
      "      \"early_stopping\": true,\n",
      "      \"length_penalty\": 2.0,\n",
      "      \"max_length\": 200,\n",
      "      \"min_length\": 30,\n",
      "      \"no_repeat_ngram_size\": 3,\n",
      "      \"num_beams\": 4,\n",
      "      \"prefix\": \"summarize: \"\n",
      "    },\n",
      "    \"translation_en_to_de\": {\n",
      "      \"early_stopping\": true,\n",
      "      \"max_length\": 300,\n",
      "      \"num_beams\": 4,\n",
      "      \"prefix\": \"translate English to German: \"\n",
      "    },\n",
      "    \"translation_en_to_fr\": {\n",
      "      \"early_stopping\": true,\n",
      "      \"max_length\": 300,\n",
      "      \"num_beams\": 4,\n",
      "      \"prefix\": \"translate English to French: \"\n",
      "    },\n",
      "    \"translation_en_to_ro\": {\n",
      "      \"early_stopping\": true,\n",
      "      \"max_length\": 300,\n",
      "      \"num_beams\": 4,\n",
      "      \"prefix\": \"translate English to Romanian: \"\n",
      "    }\n",
      "  },\n",
      "  \"transformers_version\": \"4.9.2\",\n",
      "  \"use_cache\": true,\n",
      "  \"vocab_size\": 32128\n",
      "}\n",
      "\n",
      "loading configuration file https://huggingface.co/t5-large/resolve/main/config.json from cache at /home/huangyongfeng/.cache/huggingface/transformers/1adb1f57c3579debfcce7b94ee03f6144e0ff7a0c2825e48b3f9cde9ce290c7d.75cc627adbf83d06473fdad6b036e8594b465394bf31d84bc54a373c9c5a5563\n",
      "Model config T5Config {\n",
      "  \"architectures\": [\n",
      "    \"T5ForConditionalGeneration\"\n",
      "  ],\n",
      "  \"d_ff\": 4096,\n",
      "  \"d_kv\": 64,\n",
      "  \"d_model\": 1024,\n",
      "  \"decoder_start_token_id\": 0,\n",
      "  \"dropout_rate\": 0.1,\n",
      "  \"eos_token_id\": 1,\n",
      "  \"feed_forward_proj\": \"relu\",\n",
      "  \"gradient_checkpointing\": false,\n",
      "  \"initializer_factor\": 1.0,\n",
      "  \"is_encoder_decoder\": true,\n",
      "  \"layer_norm_epsilon\": 1e-06,\n",
      "  \"model_type\": \"t5\",\n",
      "  \"n_positions\": 512,\n",
      "  \"num_decoder_layers\": 24,\n",
      "  \"num_heads\": 16,\n",
      "  \"num_layers\": 24,\n",
      "  \"output_past\": true,\n",
      "  \"pad_token_id\": 0,\n",
      "  \"relative_attention_num_buckets\": 32,\n",
      "  \"task_specific_params\": {\n",
      "    \"summarization\": {\n",
      "      \"early_stopping\": true,\n",
      "      \"length_penalty\": 2.0,\n",
      "      \"max_length\": 200,\n",
      "      \"min_length\": 30,\n",
      "      \"no_repeat_ngram_size\": 3,\n",
      "      \"num_beams\": 4,\n",
      "      \"prefix\": \"summarize: \"\n",
      "    },\n",
      "    \"translation_en_to_de\": {\n",
      "      \"early_stopping\": true,\n",
      "      \"max_length\": 300,\n",
      "      \"num_beams\": 4,\n",
      "      \"prefix\": \"translate English to German: \"\n",
      "    },\n",
      "    \"translation_en_to_fr\": {\n",
      "      \"early_stopping\": true,\n",
      "      \"max_length\": 300,\n",
      "      \"num_beams\": 4,\n",
      "      \"prefix\": \"translate English to French: \"\n",
      "    },\n",
      "    \"translation_en_to_ro\": {\n",
      "      \"early_stopping\": true,\n",
      "      \"max_length\": 300,\n",
      "      \"num_beams\": 4,\n",
      "      \"prefix\": \"translate English to Romanian: \"\n",
      "    }\n",
      "  },\n",
      "  \"transformers_version\": \"4.9.2\",\n",
      "  \"use_cache\": true,\n",
      "  \"vocab_size\": 32128\n",
      "}\n",
      "\n",
      "loading weights file https://huggingface.co/t5-large/resolve/main/pytorch_model.bin from cache at /home/huangyongfeng/.cache/huggingface/transformers/750feca8cedcd171eb121bd47c3ae16924a473d89f334c7d22f83bfa3a6c80f6.62fbd66ec15bdf6e5322f44f1546f0d475cf07a90caca0912ead31408a83a319\n",
      "All model checkpoint weights were used when initializing T5ForConditionalGeneration.\n",
      "\n",
      "All the weights of T5ForConditionalGeneration were initialized from the model checkpoint at t5-large.\n",
      "If your task is similar to the task the model of the checkpoint was trained on, you can already use T5ForConditionalGeneration for predictions without further training.\n"
     ]
    }
   ],
   "source": [
    "import logging\n",
    "logger = logging.getLogger(__name__)\n",
    "CONFIG_MAPPING = {\"t5\": T5Config}\n",
    "MODEL_MAPPING = {\"t5\": T5ForConditionalGeneration}\n",
    "TOKENIZER_MAPPING = {\"t5\": T5Tokenizer}\n",
    "model_class = \"t5\"\n",
    "tokenizer_name = TOKENIZER_MAPPING[model_class]\n",
    "logger.info(\"Loading pretrained tokenizer...\")\n",
    "model_args.tokenizer_name='t5-large'\n",
    "tokenizer = tokenizer_name.from_pretrained(model_args.tokenizer_name)#, cache_dir=model_args.cache_dir)\n",
    "\n",
    "model = T5ForConditionalGeneration.from_pretrained(\"t5-large\")"
   ]
  },
  {
   "cell_type": "code",
   "execution_count": 7,
   "id": "62eef1a8",
   "metadata": {},
   "outputs": [
    {
     "data": {
      "text/plain": [
       "DataTrainingArguments(task_name='cos_e', early_stopping_patience=10, overwrite_cache=False, train_predict=False, test_predict=False, dev_predict=False, version_name='v1.11', generations_filepath=None, n_shots=10, fewshot_eval_size=350, io_format='t5_fewshot_infilling_without_choices_use_refined_expl', explanation_sep='explanation', data_path=None, gpt3_max_eval_size=None)"
      ]
     },
     "execution_count": 7,
     "metadata": {},
     "output_type": "execute_result"
    }
   ],
   "source": [
    "data_splits = {'train': None, 'validation': None, 'test': None}\n",
    "original_data_splits = {'train': None, 'validation': None, 'test': None}  \n",
    "data_args.io_format=\"t5_fewshot_infilling_without_choices_use_refined_expl\"\n",
    "data_args"
   ]
  },
  {
   "cell_type": "code",
   "execution_count": 8,
   "id": "efc49c0c",
   "metadata": {},
   "outputs": [
    {
     "data": {
      "application/json": {
       "ascii": false,
       "bar_format": null,
       "colour": null,
       "elapsed": 0.014652252197265625,
       "initial": 0,
       "n": 0,
       "ncols": null,
       "nrows": 60,
       "postfix": null,
       "prefix": "",
       "rate": null,
       "total": 2,
       "unit": "it",
       "unit_divisor": 1000,
       "unit_scale": false
      },
      "application/vnd.jupyter.widget-view+json": {
       "model_id": "9b86f53f0a384399bf4d6ca4cb1a24c7",
       "version_major": 2,
       "version_minor": 0
      },
      "text/plain": [
       "  0%|          | 0/2 [00:00<?, ?it/s]"
      ]
     },
     "metadata": {},
     "output_type": "display_data"
    },
    {
     "data": {
      "text/plain": [
       "dict_keys(['question', 'id', 'answer', 'abstractive_explanation', 'choices', 'extractive_explanation'])"
      ]
     },
     "execution_count": 8,
     "metadata": {},
     "output_type": "execute_result"
    }
   ],
   "source": [
    "dataset = datasets.load_dataset(data_args.task_name, data_args.version_name)\n",
    "train_ids_list=[x['id'] for x in dataset[\"train\"]]\n",
    "dataset['train'][0].keys()"
   ]
  },
  {
   "cell_type": "code",
   "execution_count": 9,
   "id": "294780bc",
   "metadata": {},
   "outputs": [
    {
     "data": {
      "application/json": {
       "ascii": false,
       "bar_format": null,
       "colour": null,
       "elapsed": 0.01298069953918457,
       "initial": 0,
       "n": 0,
       "ncols": null,
       "nrows": 60,
       "postfix": null,
       "prefix": "",
       "rate": null,
       "total": 1,
       "unit": "it",
       "unit_divisor": 1000,
       "unit_scale": false
      },
      "application/vnd.jupyter.widget-view+json": {
       "model_id": "f8e24ce7cf154804a0b03f8221b37717",
       "version_major": 2,
       "version_minor": 0
      },
      "text/plain": [
       "  0%|          | 0/1 [00:00<?, ?it/s]"
      ]
     },
     "metadata": {},
     "output_type": "display_data"
    },
    {
     "name": "stdout",
     "output_type": "stream",
     "text": [
      "[6723, 3269, 12, 6020, 7815, 0, 13, 7, 3556, 4587, 3166, 2607, 1999, 332, 8571, 2, 3520, 6, 1425, 2361, 3764, 7728, 8352, 1273, 5191, 496, 11, 8143, 6929, 4552, 4652, 7764, 6736, 401, 147, 8339, 3128, 5556, 8769, 4417, 8778, 7145, 1279, 6297, 7149, 5884, 10, 5747, 6273, 8, 9504, 8057, 1307, 2183, 1699, 88, 3228, 7178, 2140, 4048, 1041, 1, 3, 5868, 111, 7889, 5370, 8886, 2137, 6980, 9117, 1891, 7827, 1484, 14, 3668, 7090, 5, 7817, 6213, 4656, 5074, 7514, 5896, 4, 9, 7991, 58, 1887, 1598, 3994, 2212, 2274, 6830, 8826, 1604, 9008, 2013, 6521, 4793, 4338, 3923, 8091, 4904, 3938, 3900, 8156, 5806, 8363, 1787, 1496, 5753, 6351, 1104, 1222]\n"
     ]
    },
    {
     "data": {
      "text/plain": [
       "115"
      ]
     },
     "execution_count": 9,
     "metadata": {},
     "output_type": "execute_result"
    }
   ],
   "source": [
    "#rationale generation labeled data construction 115\n",
    "import pandas as pd\n",
    "scr_csqa_labeled_path=\"/cognitive_comp/huangyongfeng/evaluate_LM_with_rationalization/few_shot_explanations/data/handwritten_cose_v1.11_examples.csv\"\n",
    "scr_csqa_label_df=pd.read_csv(scr_csqa_labeled_path)\n",
    "scr_csqa_label_data=datasets.load_dataset('csv', data_files=scr_csqa_labeled_path)\n",
    "scr_csqa_label_ids_list=[x['id'] for x in scr_csqa_label_data['train']]\n",
    "scr_csqa_indexs_list=[train_ids_list.index(id_) for id_ in scr_csqa_label_ids_list]\n",
    "scr_csqa_label_our_explanations_list=[x['our_explanation'] for x in scr_csqa_label_data['train']]\n",
    "print(scr_csqa_indexs_list)\n",
    "data_splits={}\n",
    "data_splits['train']=dataset['train'].select(scr_csqa_indexs_list)\n",
    "\n",
    "refine_train_data=[]\n",
    "for kk, (ex,da) in enumerate(zip(scr_csqa_label_our_explanations_list, data_splits['train'])):\n",
    "#     print(da)\n",
    "    data_splits['train'][kk]['our_explanation']=ex\n",
    "    #print(type(data_splits['train'][kk]),data_splits['train'][kk].keys())\n",
    "    da['our_explanation']=ex\n",
    "    refine_train_data.append(da)\n",
    "\n",
    "len(data_splits['train'])"
   ]
  },
  {
   "cell_type": "code",
   "execution_count": 10,
   "id": "1d97f507",
   "metadata": {},
   "outputs": [
    {
     "data": {
      "application/json": {
       "ascii": false,
       "bar_format": null,
       "colour": null,
       "elapsed": 0.012827396392822266,
       "initial": 0,
       "n": 0,
       "ncols": null,
       "nrows": 60,
       "postfix": null,
       "prefix": "",
       "rate": null,
       "total": 1,
       "unit": "it",
       "unit_divisor": 1000,
       "unit_scale": false
      },
      "application/vnd.jupyter.widget-view+json": {
       "model_id": "97eae30e5d784905a020daebe5005ccf",
       "version_major": 2,
       "version_minor": 0
      },
      "text/plain": [
       "  0%|          | 0/1 [00:00<?, ?it/s]"
      ]
     },
     "metadata": {},
     "output_type": "display_data"
    },
    {
     "data": {
      "text/plain": [
       "{'id': '5b8a3081c3235d62bc77e2d15f3ad454',\n",
       " 'question': 'A town between two mountains is located in a what?',\n",
       " 'choices': ['valley', 'hospital', 'state', 'train station', 'michigan'],\n",
       " 'answer': 'valley',\n",
       " 'abstractive_explanation': 'valleys are always between two mountains',\n",
       " 'extractive_explanation': 'A town between two mountains',\n",
       " 'our_explanation': 'A valley is usually between two mountains, where it is located in the place where the mountains are closest to each other.'}"
      ]
     },
     "execution_count": 10,
     "metadata": {},
     "output_type": "execute_result"
    }
   ],
   "source": [
    "#rationale unlabeled data construction 991\n",
    "import pdb\n",
    "scr_csqa_unlabeled_test_file=\"/cognitive_comp/huangyongfeng/evaluate_LM_with_rationalization/few_shot_explanations/data/acceptability_annotations/commonsenseqa_test.csv\"\n",
    "fse_csqa_dev_dataset = datasets.load_dataset('csv', data_files=scr_csqa_unlabeled_test_file)\n",
    "scr_csqa_unlabeled_test_df=pd.read_csv(scr_csqa_unlabeled_test_file)\n",
    "fse_csqa_dev_data_dict={}\n",
    "for kk, da in enumerate(fse_csqa_dev_dataset['train']):\n",
    "    #pdb.set_trace()\n",
    "    id_=da['Input.id']\n",
    "    if da['Answer.acceptable']:\n",
    "        answer_accept=set(da['Answer.acceptable'].split('|'))\n",
    "    else:\n",
    "        answer_accept=set()\n",
    "    explanation_list=[da['Input.explanation_1'], \n",
    "                      da['Input.explanation_2'],\n",
    "                      da['Input.explanation_3'],\n",
    "                      da['Input.explanation_4'],\n",
    "                      da['Input.explanation_5']]\n",
    "    if id_ not in fse_csqa_dev_data_dict.keys():\n",
    "        fse_csqa_dev_data_dict[id_]={\"index\":kk,\"id\":id_,\n",
    "                                     \"question\":da[\"Input.question\"],\n",
    "                                     'answer':da['Input.gold_label'],\n",
    "                                     \"accept_set_list\":[answer_accept],\n",
    "                                     \"explanation_list\":explanation_list}\n",
    "        #[[kk, id_, answer_accept, explanation_list]]\n",
    "    else:\n",
    "        fse_csqa_dev_data_dict[id_][\"accept_set_list\"].append(answer_accept)\n",
    "    if len(fse_csqa_dev_data_dict[id_][\"accept_set_list\"])==3:\n",
    "        fse_csqa_dev_data_dict[id_][\"common_expl_list\"]=[]\n",
    "        common_accept_expl_sample=set.intersection(fse_csqa_dev_data_dict[id_][\"accept_set_list\"][0], \n",
    "                                                   fse_csqa_dev_data_dict[id_][\"accept_set_list\"][1], \n",
    "                                                   fse_csqa_dev_data_dict[id_][\"accept_set_list\"][2])\n",
    "        for idx in list(common_accept_expl_sample):\n",
    "            idx=int(idx)-1\n",
    "            fse_csqa_dev_data_dict[id_][\"common_expl_list\"].append(fse_csqa_dev_data_dict[id_][\"explanation_list\"][idx])\n",
    "        \n",
    "#discriminate 3/3 id\n",
    "id_accept_expl_list=[]\n",
    "our_accept_expl_list=[]\n",
    "id_unaccept_expl_list=[]\n",
    "for k,v in fse_csqa_dev_data_dict.items():\n",
    "    accept_set_list=v['accept_set_list']\n",
    "    assert len(accept_set_list)==3\n",
    "    #pdb.set_trace()\n",
    "    common_accept_expl_sample=set.intersection(accept_set_list[0], accept_set_list[1], accept_set_list[2])\n",
    "    #print(accept_set_list,common_accept_expl_sample)\n",
    "    #pdb.set_trace()\n",
    "    if common_accept_expl_sample:\n",
    "        id_accept_expl_list.append(k)\n",
    "        our_expl=\"\"\n",
    "        for idx in list(common_accept_expl_sample):\n",
    "            idx=int(idx)-1\n",
    "            if len(v['explanation_list'][idx]) > len(our_expl):\n",
    "                our_expl = v['explanation_list'][idx]\n",
    "                our_accept_expl_list.append(our_expl)\n",
    "    else:\n",
    "        id_unaccept_expl_list.append(k)\n",
    "\n",
    "dev_ids_list=[x['id'] for x in dataset['validation']]\n",
    "dev_accept_indexs_list=[dev_ids_list.index(id_) for id_ in id_accept_expl_list]\n",
    "dev_unaccpet_indexs_list=[dev_ids_list.index(id_) for id_ in id_unaccept_expl_list]\n",
    "dev_accept_data=dataset['validation'].select(dev_accept_indexs_list)\n",
    "dev_unaccept_data=dataset['validation'].select(dev_unaccpet_indexs_list)\n",
    "\n",
    "\n",
    "\n",
    "new_dev_accept_data=[]\n",
    "new_dev_unaccept_data=[]\n",
    "for oexp, da in zip(our_accept_expl_list,dev_accept_data):\n",
    "    da[\"our_explanation\"]=oexp\n",
    "    new_dev_accept_data.append(da)\n",
    "for da in dev_unaccept_data:\n",
    "    da[\"our_explanation\"]=oexp\n",
    "    new_dev_unaccept_data.append(da)\n",
    "        \n",
    "new_dev_accept_data[0]\n",
    "        "
   ]
  },
  {
   "cell_type": "code",
   "execution_count": 11,
   "id": "ffe13707",
   "metadata": {},
   "outputs": [
    {
     "data": {
      "text/plain": [
       "{'index': 0,\n",
       " 'id': '5b8a3081c3235d62bc77e2d15f3ad454',\n",
       " 'question': 'A town between two mountains is located in a what?',\n",
       " 'answer': 'valley',\n",
       " 'accept_set_list': [{'2', '4', '5'}, {'2', '4', '5'}, {'2', '4', '5'}],\n",
       " 'explanation_list': ['Because all of the mountains are to the left of this town, if one was looking on a map, one would be able to see the town in the valley.',\n",
       "  'A valley is usually between two mountains, where it is located in the place where the mountains are closest to each other.',\n",
       "  'Because rivers end in valleys; assuming the river is the one of interest, this sentence is likely referring to the geographical location of the town.',\n",
       "  'A town in between mountains presumably would be in a valley, in which case it is plausable that it would be surrounded by heights in every direction.',\n",
       "  'A valley is a low area between two mountains.'],\n",
       " 'common_expl_list': ['A valley is usually between two mountains, where it is located in the place where the mountains are closest to each other.',\n",
       "  'A town in between mountains presumably would be in a valley, in which case it is plausable that it would be surrounded by heights in every direction.',\n",
       "  'A valley is a low area between two mountains.']}"
      ]
     },
     "execution_count": 11,
     "metadata": {},
     "output_type": "execute_result"
    }
   ],
   "source": [
    "fse_csqa_dev_data_dict['5b8a3081c3235d62bc77e2d15f3ad454']\n"
   ]
  },
  {
   "cell_type": "code",
   "execution_count": 12,
   "id": "3161874f",
   "metadata": {},
   "outputs": [],
   "source": [
    "# for k,v in fse_csqa_dev_data_dict.items():\n",
    "#     #print(v.keys())\n",
    "#     print(\"******\")\n",
    "#     print(v['question'])\n",
    "#     print(v['answer'])\n",
    "#     print(v['common_expl_list'])\n",
    "#     print(\"******\")    \n",
    "# for k,v in fse_csqa_train_data_dict.items():\n",
    "#     #print(v.keys())\n",
    "#     print(\"******\")\n",
    "#     print(v['question'])\n",
    "#     print(v['answer'])\n",
    "#     print(v['common_expl_list'])\n",
    "#     print(\"******\") \n"
   ]
  },
  {
   "cell_type": "code",
   "execution_count": 13,
   "id": "3e0e8a2d",
   "metadata": {},
   "outputs": [
    {
     "data": {
      "application/json": {
       "ascii": false,
       "bar_format": null,
       "colour": null,
       "elapsed": 0.012667417526245117,
       "initial": 0,
       "n": 0,
       "ncols": null,
       "nrows": 60,
       "postfix": null,
       "prefix": "",
       "rate": null,
       "total": 1,
       "unit": "it",
       "unit_divisor": 1000,
       "unit_scale": false
      },
      "application/vnd.jupyter.widget-view+json": {
       "model_id": "76d874cd79cf42c3b7377e9d219678de",
       "version_major": 2,
       "version_minor": 0
      },
      "text/plain": [
       "  0%|          | 0/1 [00:00<?, ?it/s]"
      ]
     },
     "metadata": {},
     "output_type": "display_data"
    },
    {
     "data": {
      "text/plain": [
       "{'id': 'ed53cbea1f21072fab892031b31192d1',\n",
       " 'question': 'Where can you likely buy many poems?',\n",
       " 'choices': ['book of poetry',\n",
       "  'literature book',\n",
       "  'book store',\n",
       "  'poetry book',\n",
       "  'bookshelf'],\n",
       " 'answer': 'book store',\n",
       " 'abstractive_explanation': 'book store book',\n",
       " 'extractive_explanation': 'buy many poems',\n",
       " 'our_explanation': 'A bookstore sells a variety of books, including poetry books; chains of bookstores sometimes specialize in categories such as poetry or literature.'}"
      ]
     },
     "execution_count": 13,
     "metadata": {},
     "output_type": "execute_result"
    }
   ],
   "source": [
    "#rationale unlabeled data construction 991\n",
    "import pdb\n",
    "scr_csqa_unlabeled_train_file=\"/cognitive_comp/huangyongfeng/evaluate_LM_with_rationalization/few_shot_explanations/data/acceptability_annotations/commonsenseqa_train.csv\"\n",
    "fse_csqa_train_dataset = datasets.load_dataset('csv', data_files=scr_csqa_unlabeled_train_file)\n",
    "scr_csqa_unlabeled_train_df=pd.read_csv(scr_csqa_unlabeled_train_file)\n",
    "fse_csqa_train_data_dict={}\n",
    "for kk, da in enumerate(fse_csqa_train_dataset['train']):\n",
    "    #pdb.set_trace()\n",
    "    id_=da['Input.id']\n",
    "    if da['Answer.acceptable']:\n",
    "        answer_accept=set(da['Answer.acceptable'].split('|'))\n",
    "    else:\n",
    "        answer_accept=set()\n",
    "    explanation_list=[da['Input.explanation_1'], \n",
    "                      da['Input.explanation_2'],\n",
    "                      da['Input.explanation_3'],\n",
    "                      da['Input.explanation_4'],\n",
    "                      da['Input.explanation_5']]\n",
    "    if id_ not in fse_csqa_train_data_dict.keys():\n",
    "        fse_csqa_train_data_dict[id_]={\"index\":kk,\"id\":id_,\n",
    "                                     \"question\":da[\"Input.question\"],\n",
    "                                     'answer':da['Input.gold_label'],\n",
    "                                     \"accept_set_list\":[answer_accept],\n",
    "                                     \"explanation_list\":explanation_list}\n",
    "        #[[kk, id_, answer_accept, explanation_list]]\n",
    "    else:\n",
    "        fse_csqa_train_data_dict[id_][\"accept_set_list\"].append(answer_accept)\n",
    "        \n",
    "    if len(fse_csqa_train_data_dict[id_][\"accept_set_list\"])==3:\n",
    "        fse_csqa_train_data_dict[id_][\"common_expl_list\"]=[]\n",
    "        common_accept_expl_sample=set.intersection(fse_csqa_train_data_dict[id_][\"accept_set_list\"][0], \n",
    "                                                   fse_csqa_train_data_dict[id_][\"accept_set_list\"][1], \n",
    "                                                   fse_csqa_train_data_dict[id_][\"accept_set_list\"][2])\n",
    "        for idx in list(common_accept_expl_sample):\n",
    "            idx=int(idx)-1\n",
    "            fse_csqa_train_data_dict[id_][\"common_expl_list\"].append(fse_csqa_train_data_dict[id_][\"explanation_list\"][idx])\n",
    "\n",
    "    \n",
    "#discriminate 3/3 id\n",
    "id_accept_expl_list=[]\n",
    "our_accept_expl_list=[]\n",
    "id_unaccept_expl_list=[]\n",
    "for k,v in fse_csqa_train_data_dict.items():\n",
    "    accept_set_list=v['accept_set_list']\n",
    "    assert len(accept_set_list)==3\n",
    "    #pdb.set_trace()\n",
    "    common_accept_expl_sample=set.intersection(accept_set_list[0], accept_set_list[1], accept_set_list[2])\n",
    "    #print(accept_set_list,common_accept_expl_sample)\n",
    "    #pdb.set_trace()\n",
    "    if common_accept_expl_sample:\n",
    "        id_accept_expl_list.append(k)\n",
    "        our_expl=\"\"\n",
    "        for idx in list(common_accept_expl_sample):\n",
    "            idx=int(idx)-1\n",
    "            if len(v['explanation_list'][idx]) > len(our_expl):\n",
    "                our_expl = v['explanation_list'][idx]\n",
    "                our_accept_expl_list.append(our_expl)\n",
    "    else:\n",
    "        id_unaccept_expl_list.append(k)\n",
    "\n",
    "train_ids_list=[x['id'] for x in dataset['train']]\n",
    "train_accept_indexs_list=[train_ids_list.index(id_) for id_ in id_accept_expl_list]\n",
    "train_unaccpet_indexs_list=[train_ids_list.index(id_) for id_ in id_unaccept_expl_list]\n",
    "train_accept_data=dataset['train'].select(train_accept_indexs_list)\n",
    "train_unaccept_data=dataset['train'].select(train_unaccpet_indexs_list)\n",
    "\n",
    "\n",
    "\n",
    "new_train_accept_data=[]\n",
    "new_train_unaccept_data=[]\n",
    "for oexp, da in zip(our_accept_expl_list,train_accept_data):\n",
    "    da[\"our_explanation\"]=oexp\n",
    "    new_train_accept_data.append(da)\n",
    "for da in train_unaccept_data:\n",
    "    da[\"our_explanation\"]=oexp\n",
    "    new_train_unaccept_data.append(da)\n",
    "        \n",
    "new_train_accept_data[0]"
   ]
  },
  {
   "cell_type": "code",
   "execution_count": 14,
   "id": "595b9453",
   "metadata": {},
   "outputs": [
    {
     "data": {
      "text/plain": [
       "(set(), set())"
      ]
     },
     "execution_count": 14,
     "metadata": {},
     "output_type": "execute_result"
    }
   ],
   "source": [
    "refine_train_data=refine_train_data\n",
    "refine_dev_data=new_train_accept_data + new_dev_accept_data\n",
    "refine_test_data=new_train_unaccept_data + new_dev_unaccept_data\n",
    "\n",
    "refine_train_ids_list=[x['id'] for x in refine_train_data]\n",
    "refine_dev_ids_list=[x['id'] for x in refine_dev_data]\n",
    "refine_test_ids_list=[x['id'] for x in refine_test_data]\n",
    "\n",
    "set(refine_train_ids_list).intersection(set(refine_dev_ids_list)),set(refine_train_ids_list).intersection(set(refine_test_ids_list))\n",
    "\n"
   ]
  },
  {
   "cell_type": "code",
   "execution_count": 15,
   "id": "48e4ec26",
   "metadata": {},
   "outputs": [
    {
     "data": {
      "text/plain": [
       "dict_keys(['id', 'question', 'choices', 'answer', 'abstractive_explanation', 'extractive_explanation', 'our_explanation'])"
      ]
     },
     "execution_count": 15,
     "metadata": {},
     "output_type": "execute_result"
    }
   ],
   "source": [
    "our_data_splits={}\n",
    "our_data_splits['train']=refine_train_data\n",
    "our_data_splits['dev']=refine_dev_data\n",
    "our_data_splits['test']=refine_test_data\n",
    "refine_train_data[0].keys()"
   ]
  },
  {
   "cell_type": "markdown",
   "id": "0fcdf34f",
   "metadata": {},
   "source": [
    "# shots number"
   ]
  },
  {
   "cell_type": "code",
   "execution_count": 16,
   "id": "bd43fe66",
   "metadata": {},
   "outputs": [],
   "source": [
    "id_list = [\n",
    " '71519c19654251cced50c5718fd527c1',\n",
    " '44195d210c81c8c550174d0edbd3ad5d',\n",
    " '5a5da37b685ec9c6f15228128ce30437',\n",
    " 'cabdfc174953b4bdb8bdcc89d6592c74',\n",
    " 'eac3a4080127e8924034651b57dfa289',\n",
    " 'c0013f31657294b9b5ad819123513ca7',\n",
    " '2681697be70cd5425899ed6deb84b18a',\n",
    " '47f60340b869552e795fa6782224f3d2',\n",
    " '7e8a6eac93147eb52d8151bab7b40003',\n",
    " 'f34267f498c8a78383e35057fbcfa2ce',\n",
    " 'f024f923d78e5c0a4c0c4baa3ddccf05',\n",
    " 'e148c710d0c26849cf1f15293481038b',\n",
    " 'bdf437d7498815f36c255f64a8e6571c',\n",
    " '2282e0c80be28aadadb79a822fec9dac',\n",
    " 'bdd05e96876342b4b5999709439a7f4e',\n",
    " '494b8316614fc64c5c27757aeaffce23_1',\n",
    " 'c4494b402264250dc70931613d482295',\n",
    " 'fcfbf207c5586294fdce33b645b613f1',\n",
    " '9c583bcbe68989a644433302545fb31e',\n",
    " '0e684d779d98e6eecda167c10af42bbb',\n",
    " 'ac0462d09b9fddd40c3c77aedf48a870',\n",
    " '1dbfb41e04a10bdbb085bfe667c0df99',\n",
    " 'cd0c0ef3b8ce0eb09ff26823f6059be6',\n",
    " 'e6b67184b99375d05d3f2887f684c684',\n",
    " 'ae9f6f1e17b3fdd3a86b494933809f45',\n",
    " 'f149604169936a30b7e4c8d599d604b5',\n",
    " 'd7c8377953e0175ef57d59f3a8e63a8e',\n",
    " '1837216ac7745121b82a6491b2318c09',\n",
    " 'b5fe238d45e55ca5d802b7823ad390ef',\n",
    " 'b2fbeb0b48bd5e575af0f7dc24cdd85d',\n",
    " '9bdfb101c487ac598f6e4686cf774703',\n",
    " '206c7116ee2246180fcc0c5a1d0e7205',\n",
    " '5cd7f44bbf730dfae5ef2a362d2e5149',\n",
    " '45d0ea781ffd49b07d6eae94d47a8945',\n",
    " '89afdea1d76272fda8e1538a7d3b7a3f',\n",
    " '38a514fe54108527e1d6e89d9812da93',\n",
    " 'ebf347934a3e90ea46d3d87726fb5d25',\n",
    " '90226a6ecd7308ae1e6220a15ae24bc6',\n",
    " '5cae8057e75e3adf5c338a43b3ba97fb',\n",
    " '388a363c49e1b0aca8eaf18ccdde0caf',\n",
    " '9ed3af82152dfcd7000bf4631b095f71',\n",
    " '2d5805d894bba224c5fe91e70b8c0f77',\n",
    " 'd5aa464a16b72c9b9f3091abd461e3ef',\n",
    " '381b11c54be4cc432a95053ca34cbf6b',\n",
    " '807a3a2dabdd50ed0c76052fd2612632',\n",
    " '5172041c750d22e9a5081cc024de0fa6',\n",
    " 'd32a45ab3b751110d0578a78e54c0e64',\n",
    " '28ca5cbe27774746c34f6ebe84fc6d0c']\n",
    "\n",
    "chatGPT_rationales = [\n",
    "    \"A cup is a common vessel used for holding and drinking liquids, such as water, coffee, or tea. When you want to get yourself a drink, you might typically get a cup from a cabinet or other storage area in order to hold the drink. A cup is a convenient and practical choice for getting a drink because it is easy to hold and use, and it can hold a reasonable amount of liquid. There are many different types of cups available, including ceramic, glass, plastic, and metal cups, each with their own unique features and benefits. Whether you are at home, at work, or out in public, a cup is a handy item to have on hand when you need to quench your thirst.\",\n",
    "    \"A front yard is the lawn that is typically located in front of a house, near the street. The front yard is the part of the property that is visible from the street and is often used for decorative purposes, such as landscaping or gardening. Many people take pride in their front yards and may spend time and resources maintaining and improving them. The front yard is often the first thing that visitors see when they arrive at a house, and it can make a strong impression on them. In contrast, the back yard is typically located behind the house and is often used for more practical purposes, such as outdoor recreation or gardening.\",\n",
    "    \"A swimming pool is a recreational water feature that is typically used for swimming and other aquatic activities. While shallow water, such as that found in a kiddie pool or a shallow end of a pool, can be enjoyable for some people, it may not be sufficient for many summer activities. A swimming pool that is deep enough for diving and other activities is more likely to provide more opportunities for summer fun. In addition, a swimming pool that is clean and chlorinated is more likely to be safe and enjoyable for swimming, as it will be free of contaminants and bacteria that can cause illness.\",\n",
    "    \"In most places, it is illegal for people under the age of 21 to purchase or consume alcohol. This is because alcohol can have negative effects on the developing brain and body of young people. It can also contribute to risky behaviors and accidents. Therefore, many governments have set a minimum age for alcohol consumption and purchase to help protect the health and safety of young people. If someone is under the age of 21 and attempts to purchase alcohol, they may be denied the sale or face legal consequences. It is important for young people to understand and adhere to the laws and regulations regarding the purchase and consumption of alcohol in their area.\",\n",
    "    \"When someone shaves, they typically use a razor to remove hair from their face or body. The process of shaving can leave a lot of hair in the sink, as the hair is trimmed off and falls into the sink as it is being shaved. It is common for people to shave in the bathroom, where a sink is typically located. The sink provides a convenient place to rinse the razor and wash off any excess hair or shaving cream. It is important to clean the sink after shaving to remove any hair and prevent clogs in the drain.\",\n",
    "    \"A hamburger is a type of sandwich that consists of a cooked patty of ground meat, typically beef, placed between two slices of bread or a bun. Hamburgers are often served with various toppings, such as lettuce, tomato, onion, cheese, and condiments like ketchup and mustard. However, if someone is suffering from great hunger, they may not care about the toppings and just want to eat the hamburger itself. In this case, the person may be more focused on satisfying their hunger and getting nourishment rather than worrying about additional ingredients or flavors.\",\n",
    "    \"If a person notices popcorn and cotton candy on the grass, they are likely at fairgrounds. Fairgrounds are outdoor areas that are used for hosting fairs and other events, such as carnivals, festivals, and exhibitions. These events often feature food stalls and vendors that sell a variety of treats, including popcorn and cotton candy. Popcorn and cotton candy are both popular carnival foods that are often sold at fairs and other events. The presence of these foods on the ground at fairgrounds suggests that a fair or similar event is taking place there.\",\n",
    "    \"When snow on a mountain becomes heavy, it can trigger an avalanche. An avalanche is a rapid flow of snow down a slope, often triggered by the weight of the snow or external factors such as a change in temperature. Avalanches can be dangerous and destructive, as they can bury and sweep away anything in their path, including people, buildings, and vehicles. Avalanches can occur on any slope with a steep enough incline and a sufficient amount of snow. They are most common on mountains, but they can also occur in other snowy areas, such as forests or valleys. It is important for people to be aware of the risk of avalanches and to take precautions when traveling in areas prone to avalanches.\",\n",
    "    \"A police officer typically reports their work through the use of case reports or incident reports. These reports are written documents that detail the events of a specific case or incident that the officer has worked on. Case reports or incident reports typically include information such as the date and time of the incident, the location, the people involved, and the actions taken by the officer. They may also include witness statements, evidence collected, and any other relevant details. Case reports or incident reports are used by police officers to document their work and provide a record of the incidents they have dealt with. They are also used by supervisors and other authorities to review and evaluate the performance of the officer and the effectiveness of their actions.\",\n",
    "    \"Teachers play many roles in the lives of their students, including mentor, counselor, and role model. However, they get the most out of their job by simply teaching children. Teaching children is the primary responsibility of a teacher, and it is what they are trained and paid to do. Teaching involves imparting knowledge, skills, and values to students, and helping them to develop the skills and habits they need to succeed in life. Teachers have the opportunity to make a positive impact on the lives of their students by providing them with a strong foundation in academic subjects and helping them to become curious, engaged learners. Teachers often derive a great deal of satisfaction from helping their students to achieve their potential and succeed in their studies.\",\n",
    "    \"A person might go to get counseling for a variety of reasons. One reason is to better understand themselves. Counseling can provide a safe and supportive environment for individuals to explore their thoughts, feelings, and behaviors, and to gain insight into why they act and feel the way they do. Counseling can also help a person to identify and work through any underlying issues or challenges that may be causing them distress or hindering their personal growth. Through counseling, a person can learn more about themselves and how to navigate their emotions and relationships more effectively. Counseling can be particularly helpful for individuals who are struggling with mental health issues, relationship problems, or other personal challenges.\",\n",
    "    \"If the kids wanted to cool off, they might go swimming as a way to refresh and beat the heat. Swimming is a fun and enjoyable activity that can provide relief from hot weather and help to cool the body. Swimming can also provide a great workout and has numerous health benefits, such as improving cardiovascular fitness and flexibility. There are many different places where kids can go swimming, such as pools, lakes, rivers, or the ocean. No matter where they go, kids can have fun and cool off while enjoying the water.\",\n",
    "    \"When remembering a tragedy in the past, many people may feel depressed. Depression is a common emotional reaction to experiencing a traumatic or stressful event, such as a tragedy. Depression is a mental health disorder characterized by persistent feelings of sadness, hopelessness, and low energy. It can also cause physical symptoms such as changes in appetite and sleep patterns, fatigue, and difficulty concentrating. Remembering a tragedy can be emotionally difficult and may trigger feelings of sadness, grief, and guilt. It is important for people who are struggling with depression to seek support and treatment to help manage their symptoms and improve their mental health.\",\n",
    "    \"Death Valley is a national park located in the Mojave Desert, in the state of California, United States. It is situated on the North American continent. The North American continent is one of the seven continents of the world and is located in the western hemisphere. It is the third largest continent in terms of land area, after Asia and Africa, and is home to a diverse range of cultures, languages, and environments. Death Valley is known for its extreme desert climate and is the lowest, hottest, and driest place in North America. It is a popular destination for tourists, who come to see its unique geological features, such as sand dunes, salt flats, and canyons.\",\n",
    "    \"When in a serious relationship, understanding better requires effort. Relationships require effort and work to maintain and grow. In order to understand your partner better, you need to be willing to put in the time and effort to communicate with them, listen to their perspectives, and try to see things from their point of view. This may involve asking questions, expressing your own feelings and needs, and being open to feedback and compromise. Understanding your partner better can help to strengthen the bond between you and improve the quality of your relationship. It is important to remember that relationships are dynamic and evolving, and that ongoing communication and effort are necessary to maintain a healthy and fulfilling relationship.\",\n",
    "    \"Cats are able to make a variety of vocalizations, including meows, purrs, and growls, as a way of communicating with humans and other animals. Cats use these vocalizations to convey a range of emotions and needs, such as hunger, happiness, or discomfort. Meowing is a common vocalization that cats use to communicate with humans. Cats may meow when they want attention, food, or to be let outside. Cats may also meow when they are feeling anxious or stressed. Although cats cannot talk in the same way that humans do, they are skilled at using their voices to communicate with their owners and other animals.\",\n",
    "    \"If you need a vessel that is similar to a battleship but faster, you might consider using a corvette. A corvette is a small, fast warship that is typically used for convoy escort, patrol, and other shallow water duties. Corvettes are generally smaller and less heavily armed than battleships, but they are more agile and have a higher speed. They are typically equipped with a variety of weapons, including guns, missiles, and torpedoes, and are used for defending against enemy ships and aircraft. Corvettes are often used for coastal defense, as well as for patrolling and enforcing maritime laws. They are capable of operating in a variety of environments, including open ocean and littoral (nearshore) waters.\",\n",
    "    \"Water in the sky comes from rain clouds. Rain clouds are clouds that form when moist air rises and cools, forming tiny water droplets that condense around particles in the air. As the droplets grow, they eventually become heavy enough to fall from the cloud as rain. Rain clouds are typically gray or white in color and are often accompanied by other types of clouds, such as cumulus or stratocumulus clouds. Rain clouds can form in a variety of ways, such as when warm, moist air from the ground rises and cools, or when moist air from the ocean is carried inland by the wind. Rain clouds can be found in many parts of the world and are a common source of precipitation, especially during the warmer months.\",\n",
    "    \"If John rented a hotel room while on a business trip and it was a company-sponsored event, it is possible that the hotel was a resort. Resorts are hotels or vacation properties that offer a variety of amenities and activities for guests, such as swimming pools, golf courses, spas, and restaurants. They are often located in scenic or recreational areas and are designed to provide a relaxing and enjoyable experience for guests. Many resorts offer conference and meeting facilities and are popular destinations for business events and retreats. If John's company sponsored the business trip and provided the hotel accommodations, it is likely that they chose a resort with the amenities and facilities needed to support the event.\",\n",
    "    \"An expressway might leave the United States and go to Canada. The United States and Canada are neighboring countries that share a border, and there are several expressways that cross the border between the two countries. Expressways are high-speed, limited-access roads that are designed for fast and efficient travel. They typically have multiple lanes and may include features such as grade separations, interchanges, and controlled access points. Expressways are used for long-distance travel and are often the main routes connecting major cities and regions. If an expressway leaves the United States, it is likely that it is heading towards Canada, which is located to the north of the United States.\",\n",
    "    \"If you were walking on a sidewalk near a small corner shop run by John, you would look for it on the street corner. A corner shop is a small retail store that is typically located at the intersection of two streets. It is often a convenience store or a neighborhood shop that sells a variety of goods, such as groceries, household items, and other supplies. Corner shops are often located in busy urban areas, where they are easily accessible to pedestrians and motorists. If you were walking on a sidewalk near a corner shop, you would look for it at the intersection of the street where you are walking and another street. The shop is likely to be located in a building on the corner, with windows and doors facing the street.\",\n",
    "    \"One way that a company can efficiently sell things to their customers is through mail order. Mail order is a method of selling goods or services by advertising them in a catalog or other publication and allowing customers to place orders by mail, telephone, or online. Mail order is a convenient and efficient way for companies to reach a wide customer base, as it allows them to sell products to customers who may not be located near their physical store or who may not have the time or inclination to shop in person. Mail order companies typically have a centralized warehouse or distribution center where orders are processed and shipped to customers. They may also offer options such as easy returns and exchanges, as well as customer service support to assist with any questions or issues that customers may have.\",\n",
    "    \"If he enjoyed the factory work and liked the idea that he did it for sale, it is likely that he enjoyed producing goods. Factory work typically involves the production of goods, such as products or materials, using machines, tools, and other equipment. Factory workers are responsible for operating and maintaining the equipment and ensuring that the goods being produced meet quality standards. The goods produced in a factory may be sold directly to consumers or to other businesses, and may be used for a variety of purposes, such as manufacturing, construction, or distribution. If a person enjoys factory work, they may find satisfaction in the idea that they are contributing to the production of goods that will be sold and used by others.\",\n",
    "    \"If returning to work was easy for Dan after his treatment and he was completely painless, it is likely that he had undergone some form of medical treatment or therapy to address a health issue or injury. Painless indicates that Dan was no longer experiencing pain or discomfort, which may have been a result of the treatment or therapy he received. It is not clear from the information provided what specific health issue or injury Dan was dealing with, or what treatment or therapy he received. However, it is possible that Dan was able to return to work more easily after his treatment because he was feeling better and was no longer experiencing any pain or discomfort.\",\n",
    "    \"If index cards were on display at the museum, it is likely that the museum was a library. Libraries are institutions that provide access to a wide range of resources, including books, periodicals, and other printed materials, as well as digital resources such as e-books, databases, and online research tools. Libraries often have exhibits and displays of various types of materials, including rare or unique items, and may have special collections or archives that are of particular interest to researchers or historians. Index cards are small, rectangular pieces of paper that are used for organizing information, such as names, dates, or research notes. They may be used in a variety of settings, including libraries, offices, and schools. If index cards were on display at the museum, it is possible that they were part of a historical exhibit or collection related to the history of libraries or research.\",\n",
    "    \"If she was a human in America who wanted to live well, it is likely that the given for her situation was the need for money. In general, money is an important factor in enabling people to live well and meet their basic needs and desires. Money allows people to purchase the goods and services that they need to sustain themselves and their families, such as food, clothing, housing, and healthcare. It also enables people to pursue their interests and hobbies, travel, and engage in various forms of leisure and entertainment. In America, and in many other countries around the world, the cost of living can be high, and people often need to earn and save money in order to achieve a desired standard of living. As such, the need for money is a given for many people in order to live well.\",\n",
    "    \"A place that could have one back garden is a house. A garden is a piece of land that is used for growing plants, flowers, vegetables, or other types of vegetation. Gardens can be found in a variety of settings, including residential properties, public parks, and commercial properties. A house is a building that is used as a dwelling for one or more people, and it typically includes living spaces, such as bedrooms, bathrooms, and a kitchen, as well as outdoor areas, such as a front yard, side yard, and back yard. A back yard is a private outdoor space that is typically located behind a house and is often used for recreational or leisure activities, such as gardening, grilling, or playing games. If a house has a back garden, it is likely that the garden is located in the back yard.\",\n",
    "    \"People gather at a football stadium to see large men in pads play a game where they run and smash into each other. Football is a popular sport that is played on a rectangular field by two teams of eleven players. The game involves running, passing, and tackling, and players wear pads and other protective gear to reduce the risk of injury. Football is a physical and intense sport, and players often collide with each other at high speeds. Football stadiums are large, open-air facilities that are designed to host football games and other sporting events. They typically have a grass or artificial turf field, seating for spectators, and a variety of amenities, such as concessions stands, restrooms, and VIP areas. Football stadiums are popular places for people to gather and watch football games, and they can be found in cities and towns throughout the world.\",\n",
    "    \"One place where someone can get a flute is a musical instrument store. A musical instrument store is a retail establishment that specializes in selling musical instruments and related accessories. They may carry a wide range of instruments, including brass instruments, woodwind instruments, string instruments, percussion instruments, and keyboards. Flutes are woodwind instruments that are played by blowing air into a narrow opening and producing sound by vibrating the lips against a metal or wooden reed. They are popular instruments that are used in a variety of musical styles, including classical, jazz, and folk music. If someone is looking to purchase a flute, they may be able to find a selection of flutes at a musical instrument store. In addition to flutes, musical instrument stores may also offer a variety of other instruments, as well as sheet music, instructional materials, and accessories such as cases, stands, and cleaning supplies.\",\n",
    "    \"It is not clear what someone who has a greed for energy would do. The word greed typically refers to an excessive or insatiable desire for wealth, power, or material possessions. It is not clear how this concept would relate to energy or how it might influence someone's actions. It is possible that someone who has a lot of energy or who is very active might have a high appetite for food and might seek out sources of fuel or nutrition to sustain their energy levels. In this case, they might buy food as a way to obtain the energy they need. However, it is not accurate to say that someone who has a greed for energy would necessarily do this. It is important to note that the concept of greed is generally considered to be negative, as it suggests an unhealthy or unsustainable desire for something.\",\n",
    "    \"A forklift is a type of industrial vehicle that is used for moving and lifting heavy loads, such as pallets, crates, and boxes. Forklifts are equipped with a hydraulic lift mechanism and a set of prongs or forks that can be used to lift and transport loads. They are commonly used in warehouses and other distribution centers to move and stack materials, such as boxes, onto shelves or other storage areas. If you were using a forklift to stack boxes onto shelves, it is likely that you were in a warehouse or a similar facility. Warehouses are large, commercial buildings that are used for storing and distributing goods. They often have high ceilings, wide aisles, and multiple levels, and they may be equipped with a variety of material handling equipment, such as forklifts, conveyor belts, and cranes, to facilitate the movement and storage of goods.\",\n",
    "    \"You are likely to receive mouthwash in a little paper cup at a dentist's office. Dentist's offices are healthcare facilities that are staffed by dentists and other dental professionals, and they are used for the diagnosis and treatment of dental problems and the maintenance of oral health. One common practice at a dentist's office is to rinse the mouth with mouthwash, which is a liquid that is used to freshen breath, kill bacteria, and reduce the risk of gum disease and other oral health issues. Mouthwash is typically used after brushing and flossing to help remove any remaining food particles or plaque from the mouth. It may be dispensed in a little paper cup, which can be used to rinse the mouth and then disposed of after use.\",\n",
    "    \"A doctor's office can help you with an illness. A doctor's office is a healthcare facility that is staffed by medical doctors and other healthcare professionals, and it is used for the diagnosis and treatment of medical conditions and the maintenance of overall health. If you are experiencing an illness, such as a cold, flu, or more serious health issue, you may visit a doctor's office to seek medical care and treatment. At a doctor's office, you may receive a physical examination, diagnostic tests, and other forms of medical treatment, depending on the nature of your illness and your specific needs. Doctors are trained to diagnose and treat a wide range of medical conditions, and they can provide you with the care and support you need to recover from your illness and get back to good health.\",\n",
    "    \"A bug looking for wildflowers and no human interruption might go to a meadow. A meadow is a grassland area that is characterized by its open, grassy landscape and the presence of wildflowers and other types of vegetation. Meadows can be found in a variety of settings, including rural areas, forests, and parkland, and they are often home to a variety of animal and plant species. Because meadows are relatively undisturbed by human activity, they can be a good place for a bug to find wildflowers and other types of plants without interference from humans. Meadows are often considered to be peaceful, serene places, and they may be attractive to a bug that is seeking a quiet, natural environment in which to explore and forage.\",\n",
    "    \"If a bride and groom are taking care of proposals, the likely ceremony is a marriage. A marriage is a formal union between two people that is recognized by law and typically involves a public ceremony and the exchange of vows. A marriage proposal is a request for someone to marry another person, and it is typically made by one partner to the other. The process of planning a marriage often involves taking care of a variety of details and arrangements, such as choosing a venue, selecting a date, inviting guests, and organizing the ceremony and reception. If a bride and groom are taking care of proposals, it is likely that they are in the process of planning their marriage and preparing for the wedding ceremony.\",\n",
    "    \"You could put some olives in a jar to prevent them from getting nearby food wet. A jar is a container that is typically made of glass or ceramic and has a wide mouth and a secure, tight-fitting lid. Jars are often used for storing food items, such as olives, pickles, jams, and other types of preserved or dried goods. Because they have a sealed lid, jars can help to keep food fresh and prevent it from coming into contact with air or other substances that might spoil or contaminate it. If you want to prevent olives from getting nearby food wet, you could put them in a jar and close the lid to create an airtight seal. This would help to keep the olives separate from other foods and prevent them from coming into contact with moisture or other liquids.\",\n",
    "    \"If the graveyard was zoned by the pastor, it is likely that it was located on church property. Church property refers to land or buildings that are owned by a church or religious organization. This may include the main church building, as well as other structures such as a rectory, school, or community center. Church property may also include a graveyard or cemetery, which is a place where people are buried after they die. Pastors, who are ordained leaders in a church, often play a central role in the management and oversight of church property, and they may be responsible for zoning or designating areas within the property for specific purposes, such as a graveyard or a garden. If the pastor has zoned the graveyard, it is likely that it is located on church property and is being used as a place for burial by members of the church or community.\",\n",
    "    \"If a family wanted to live with carpeting, they may have ended up putting it in their houses. Houses are structures that are designed and built to be used as homes, and they typically have a number of rooms that are used for different purposes, such as sleeping, cooking, eating, and relaxing. Carpeting is a type of floor covering that is made of soft, flexible materials, such as wool, nylon, or polypropylene, and it is often used in houses to provide warmth, comfort, and insulation. If a family wanted to live with carpeting, they may have chosen to install carpeting in some or all of the rooms in their houses, in order to create a warm and cozy atmosphere and to improve the overall comfort and livability of their homes.\",\n",
    "    \"If a boss likes an employee's ambition, the employee may be put in charge of a project. A project is a specific task or set of tasks that is undertaken in order to achieve a specific goal or objective. Projects may be large or small, complex or simple, and they may involve a wide range of activities, such as research, design, development, testing, and implementation. If an employee is ambitious and demonstrates a strong desire to succeed and make a positive contribution to their organization, their boss may choose to put them in charge of a project, in order to give them the opportunity to demonstrate their skills and abilities and to take on more responsibility. Being put in charge of a project can be a challenging and rewarding experience, and it may provide an employee with the chance to learn new things, develop their skills, and make a meaningful contribution to their organization.\",\n",
    "    \"A county highway can be viewed as a line on a map. A map is a graphic representation of an area or region that shows the locations of various features, such as roads, rivers, mountains, and cities. Maps are often used to help people navigate and find their way around unfamiliar places, and they can be very useful for understanding the layout and geography of an area. County highways are roads that are maintained and operated by a county or local government, and they are typically used for local travel and transportation within a county or region. On a map, a county highway may be represented as a line, with a specific color or symbol used to indicate its location and route. By viewing a county highway as a line on a map, it is possible to get a sense of the route and layout of the road, and to use the map to plan a journey or navigate to a specific destination.\",\n",
    "    \"After going for a run, someone may feel tired. Running is a form of physical activity that involves moving quickly and continuously on foot, typically by running or jogging. It is a popular form of exercise that can help to improve cardiovascular fitness, build endurance, and strengthen the muscles of the legs and lower body. However, running can also be physically demanding, and it requires a certain level of fitness and stamina to be able to sustain the activity for an extended period of time. As a result, it is common for people to feel tired after going for a run, especially if they are not used to the activity or if they have pushed themselves to run for a longer distance or at a faster pace than usual. Tiredness after a run may be accompanied by other physical sensations, such as muscle fatigue, thirst, or a sense of accomplishment.\",\n",
    "    \"If a car was going from Florida to Ohio, it was heading north. Florida is a state in the southeastern region of the United States, and Ohio is a state in the midwestern region of the country. When traveling from Florida to Ohio, a person would need to go north in order to reach their destination. North is a direction that is opposite to south on a map or compass, and it is typically associated with higher latitude, colder climates, and longer nights. When traveling north, a person may encounter different landscapes, weather patterns, and cultural experiences than they would when traveling south, depending on the specific route and the distance traveled. By heading north from Florida to Ohio, a person would be leaving behind the warm, tropical climate of Florida and entering into a more temperate, mid-latitude region with cooler temperatures and a more diverse range of landscapes and ecosystems.\",\n",
    "    \"During a typical week, a teacher is likely to spend most of their time working in school. A teacher is a person who is trained and qualified to teach students in a school or educational setting, and their primary job is to provide instruction and guidance to help students learn and develop their skills and knowledge. Teachers may work in a variety of settings, including primary schools, secondary schools, and universities, and they may teach a wide range of subjects, including math, science, English, history, and the arts. In order to fulfill their duties as a teacher, a person is likely to spend most of their time working in a school or educational setting, where they will be responsible for preparing and delivering lessons, grading assignments, communicating with students and parents, and performing other tasks related to their job. Teachers typically work on a schedule that follows the school year, and they may work full-time or part-time, depending on their specific circumstances and the needs of their students.\",\n",
    "    \"In a predicament, an animal might choose to fight for its life as an alternative to fleeing. Predicament is a term that refers to a difficult or challenging situation, typically one that involves a choice or decision that needs to be made. When an animal finds itself in a predicament, it may have to decide how to respond in order to survive and protect itself. One option that an animal may have is to flee or run away from the situation in an effort to escape danger or avoid conflict. Another option that an animal may have is to fight for its life, using whatever means are available to defend itself and protect its survival. The choice that an animal makes in a predicament will depend on a variety of factors, including the specific nature of the situation, the animal's size, strength, and abilities, and the resources and options that are available to it.\",\n",
    "    \"It is not common for people to fight each other when they find a good deal. A good deal is typically defined as an opportunity to purchase something at a price that is lower than what it is usually worth, or to obtain a product or service that provides more value or benefits than what is expected. When people find a good deal, they may feel excited or pleased about the opportunity to save money or get more for their money, and they may take action to take advantage of the deal. However, it is generally not considered acceptable or appropriate for people to fight each other over a good deal or to engage in physical violence or aggression in order to obtain it. There are many other ways that people can express their interest in a good deal, such as by negotiating with the seller, making an offer, or simply making a purchase if the price is acceptable.\",\n",
    "    \"An altar is a platform or structure that is used for religious ceremonies, rituals, or worship. Altars are often found in places of worship, such as temples, churches, synagogues, mosques, and other religious buildings. When a person is standing in front of an altar, they are likely to be in a temple or other place of worship. Altars can be used for a variety of purposes in different religions and spiritual traditions, such as offering sacrifices, making offerings, praying, or performing other religious practices. They may be decorated with symbols, images, or other items that are significant to the religion or spiritual tradition that is being practiced. Altars may also be used as a place for people to meditate, reflect, or seek spiritual guidance.\",\n",
    "    \"Joe bought a bunch of grapes because he likes to use them to top his desserts. A dessert is a type of food that is typically served at the end of a meal, and it is usually sweet or rich in flavor. There are many different types of desserts that people enjoy, including cakes, cookies, ice cream, pie, and other sweet treats. One way that people may use grapes as a topping for their desserts is by placing them on top of a fruit pie, tart, or crisp. Grapes can add flavor and texture to a dessert, and they may also be used to decorate a dessert or to add visual appeal. Grapes are a versatile fruit that can be used in many different types of desserts, and they can be eaten fresh, frozen, or preserved in various ways.\",\n",
    "    \"Well water is water that is obtained from underground sources, typically through the use of a well. A well is a hole or shaft that is dug into the ground in order to access water that is contained in underground aquifers or other water-bearing formations. Well water is typically used for drinking, irrigation, and other purposes, and it is often considered to be of high quality because it is filtered and purified naturally as it flows through the ground. To obtain well water, a person can dig a well or have one dug by a professional well driller. The depth of the well will depend on the location and the geology of the area, and a pump or other mechanical system may be used to bring the water to the surface.\",\n",
    "]"
   ]
  },
  {
   "cell_type": "code",
   "execution_count": 17,
   "id": "013e06f0",
   "metadata": {},
   "outputs": [],
   "source": [
    "import glob\n",
    "import json\n",
    "import pdb\n",
    "chatgpt_50_100_rationales_dir = \"./chatgpt_rationales/150_200_text003\"\n",
    "file_list = glob.glob(\"{}/*.json\".format(chatgpt_50_100_rationales_dir))\n",
    "chatgpt_rationales_dict = {}\n",
    "for file in file_list:\n",
    "    with open(file, 'r') as f:\n",
    "        da = json.load(f)\n",
    "        #print(da.keys())\n",
    "        chatgpt_rationales_dict[da['id']] = da['150_to_200_words']\n",
    "        #pdb.set_trace()"
   ]
  },
  {
   "cell_type": "code",
   "execution_count": 18,
   "id": "d9681ea9",
   "metadata": {},
   "outputs": [],
   "source": [
    "def list2dict(refine_data):\n",
    "    refine_data_dict={}\n",
    "    for key in refine_data[0].keys():\n",
    "        refine_data_dict[key]=[x[key] for x in refine_data]\n",
    "    return refine_data_dict\n",
    "\n",
    "select_refine_train_data = []\n",
    "for da in refine_train_data:\n",
    "    #pdb.set_trace()\n",
    "    if da['id'] in chatgpt_rationales_dict.keys():\n",
    "        da['our_explanation'] = chatgpt_rationales_dict[da['id']]\n",
    "        select_refine_train_data.append(da) \n",
    "        \n",
    "select_refine_train_data_dict = list2dict(select_refine_train_data)\n",
    "our_data_splits['train'] = datasets.Dataset.from_dict(select_refine_train_data_dict).shuffle().select(range(96))\n",
    "\n",
    "refine_dev_data_dict = list2dict(refine_dev_data)\n",
    "our_data_splits['dev'] = datasets.Dataset.from_dict(refine_dev_data_dict)\n",
    "\n",
    "refine_test_data_dict = list2dict(refine_test_data)\n",
    "our_data_splits['test'] = datasets.Dataset.from_dict(refine_test_data_dict)\n",
    "\n"
   ]
  },
  {
   "cell_type": "code",
   "execution_count": 19,
   "id": "53ab0e1a",
   "metadata": {},
   "outputs": [],
   "source": [
    "import datasets\n",
    "class SequenceCollator:\n",
    "    def __init__(self, pad_token):\n",
    "        # self.pad_token_mapping = {\n",
    "        #     \"lm_labels\": -100,\n",
    "        #     \"attention_mask\": 0,\n",
    "        #     \"decoder_attention_mask\": 0,\n",
    "        #     \"input_ids\": pad_token,\n",
    "        # }\n",
    "        # self.columns = [\n",
    "        #     \"input_ids\",\n",
    "        #     \"attention_mask\",\n",
    "        #     \"lm_labels\",\n",
    "        #     \"decoder_attention_mask\",\n",
    "        # ]\n",
    "        self.pad_token_mapping = {\n",
    "            \"labels\": -100,\n",
    "            \"attention_mask\": 0,\n",
    "            \"decoder_attention_mask\": 0,\n",
    "            \"input_ids\": pad_token,\n",
    "        }\n",
    "        self.columns = [\n",
    "            \"input_ids\",\n",
    "            \"attention_mask\",\n",
    "            \"labels\",\n",
    "            \"decoder_attention_mask\",\n",
    "        ]\n",
    "\n",
    "    def collate_batch(self, examples):\n",
    "\n",
    "        # batch inputs for training\n",
    "        batch = {}\n",
    "        for key in examples[0].keys():\n",
    "            if key in self.columns:\n",
    "                tmp_list = []\n",
    "                for item in examples:\n",
    "                    tmp_list.append(item[key])\n",
    "\n",
    "                # pad lists to max length\n",
    "                if isinstance(tmp_list[0], list):\n",
    "                    max_length = max(map(len, tmp_list))\n",
    "                    tmp_list = [\n",
    "                        el + [self.pad_token_mapping[key]] * (max_length - len(el))\n",
    "                        for el in tmp_list\n",
    "                    ]\n",
    "\n",
    "                batch[key] = torch.tensor(tmp_list, dtype=torch.long)\n",
    "        return batch\n",
    "    \n",
    "    def __call__(self, examples: List[Dict[str, InputDataClass]]) -> Dict[str, torch.Tensor]:\n",
    "        # re-format inputs for training\n",
    "        batch = {}\n",
    "        for key in examples[0].keys():\n",
    "            if key in self.columns:\n",
    "                tmp_list = []\n",
    "                for item in examples:\n",
    "                    tmp_list.append(item[key])\n",
    "\n",
    "                # pad lists to max length\n",
    "                if isinstance(tmp_list[0], list):\n",
    "                    max_length = max(map(len, tmp_list))\n",
    "                    tmp_list = [\n",
    "                        el + [self.pad_token_mapping[key]] * (max_length - len(el))\n",
    "                        for el in tmp_list\n",
    "                    ]\n",
    "\n",
    "                batch[key] = torch.tensor(tmp_list, dtype=torch.long)\n",
    "        return batch\n",
    "# dataset = datasets.load_dataset(data_args.task_name, data_args.version_name)"
   ]
  },
  {
   "cell_type": "code",
   "execution_count": 20,
   "id": "219866fe",
   "metadata": {},
   "outputs": [
    {
     "data": {
      "application/json": {
       "ascii": false,
       "bar_format": null,
       "colour": null,
       "elapsed": 0.013828039169311523,
       "initial": 0,
       "n": 0,
       "ncols": null,
       "nrows": 60,
       "postfix": null,
       "prefix": "",
       "rate": null,
       "total": 96,
       "unit": "ex",
       "unit_divisor": 1000,
       "unit_scale": false
      },
      "application/vnd.jupyter.widget-view+json": {
       "model_id": "11470966e34a4b23b7f58dd2f2d1740e",
       "version_major": 2,
       "version_minor": 0
      },
      "text/plain": [
       "  0%|          | 0/96 [00:00<?, ?ex/s]"
      ]
     },
     "metadata": {},
     "output_type": "display_data"
    },
    {
     "data": {
      "application/json": {
       "ascii": false,
       "bar_format": null,
       "colour": null,
       "elapsed": 0.013103485107421875,
       "initial": 0,
       "n": 0,
       "ncols": null,
       "nrows": 60,
       "postfix": null,
       "prefix": "",
       "rate": null,
       "total": 986,
       "unit": "ex",
       "unit_divisor": 1000,
       "unit_scale": false
      },
      "application/vnd.jupyter.widget-view+json": {
       "model_id": "97f5c65a3e64450789ac2161396cd30b",
       "version_major": 2,
       "version_minor": 0
      },
      "text/plain": [
       "  0%|          | 0/986 [00:00<?, ?ex/s]"
      ]
     },
     "metadata": {},
     "output_type": "display_data"
    },
    {
     "data": {
      "application/json": {
       "ascii": false,
       "bar_format": null,
       "colour": null,
       "elapsed": 0.01295781135559082,
       "initial": 0,
       "n": 0,
       "ncols": null,
       "nrows": 60,
       "postfix": null,
       "prefix": "",
       "rate": null,
       "total": 255,
       "unit": "ex",
       "unit_divisor": 1000,
       "unit_scale": false
      },
      "application/vnd.jupyter.widget-view+json": {
       "model_id": "a926785a94f644c9950c62f8b508d574",
       "version_major": 2,
       "version_minor": 0
      },
      "text/plain": [
       "  0%|          | 0/255 [00:00<?, ?ex/s]"
      ]
     },
     "metadata": {},
     "output_type": "display_data"
    }
   ],
   "source": [
    "# seq_collector = SequenceCollator(0)\n",
    "# train_ds = seq_collector.__call__(dataset['train'])\n",
    "# train_ds\n",
    "# dataset['train'][0].keys()\n",
    "for split in ['train','dev','test']:\n",
    "    our_data_splits[split] = our_data_splits[split].map(\n",
    "            lambda x: format_instance(\n",
    "                x,\n",
    "                tokenizer,\n",
    "                data_args.explanation_sep,\n",
    "                datasource=data_args.task_name,\n",
    "                io_format=data_args.io_format\n",
    "            ),\n",
    "            batched=False,\n",
    "            load_from_cache_file=False,\n",
    "        )"
   ]
  },
  {
   "cell_type": "code",
   "execution_count": null,
   "id": "0c120e04",
   "metadata": {},
   "outputs": [],
   "source": []
  },
  {
   "cell_type": "code",
   "execution_count": 21,
   "id": "81048fad",
   "metadata": {},
   "outputs": [],
   "source": [
    "chatGPT_rationales = [\n",
    "    \"A cup is a common vessel used for holding and drinking liquids, such as water, coffee, or tea. When you want to get yourself a drink, you might typically get a cup from a cabinet or other storage area in order to hold the drink. A cup is a convenient and practical choice for getting a drink because it is easy to hold and use, and it can hold a reasonable amount of liquid. There are many different types of cups available, including ceramic, glass, plastic, and metal cups, each with their own unique features and benefits. Whether you are at home, at work, or out in public, a cup is a handy item to have on hand when you need to quench your thirst.\",\n",
    "    \"A front yard is the lawn that is typically located in front of a house, near the street. The front yard is the part of the property that is visible from the street and is often used for decorative purposes, such as landscaping or gardening. Many people take pride in their front yards and may spend time and resources maintaining and improving them. The front yard is often the first thing that visitors see when they arrive at a house, and it can make a strong impression on them. In contrast, the back yard is typically located behind the house and is often used for more practical purposes, such as outdoor recreation or gardening.\",\n",
    "    \"A swimming pool is a recreational water feature that is typically used for swimming and other aquatic activities. While shallow water, such as that found in a kiddie pool or a shallow end of a pool, can be enjoyable for some people, it may not be sufficient for many summer activities. A swimming pool that is deep enough for diving and other activities is more likely to provide more opportunities for summer fun. In addition, a swimming pool that is clean and chlorinated is more likely to be safe and enjoyable for swimming, as it will be free of contaminants and bacteria that can cause illness.\",\n",
    "    \"In most places, it is illegal for people under the age of 21 to purchase or consume alcohol. This is because alcohol can have negative effects on the developing brain and body of young people. It can also contribute to risky behaviors and accidents. Therefore, many governments have set a minimum age for alcohol consumption and purchase to help protect the health and safety of young people. If someone is under the age of 21 and attempts to purchase alcohol, they may be denied the sale or face legal consequences. It is important for young people to understand and adhere to the laws and regulations regarding the purchase and consumption of alcohol in their area.\",\n",
    "    \"When someone shaves, they typically use a razor to remove hair from their face or body. The process of shaving can leave a lot of hair in the sink, as the hair is trimmed off and falls into the sink as it is being shaved. It is common for people to shave in the bathroom, where a sink is typically located. The sink provides a convenient place to rinse the razor and wash off any excess hair or shaving cream. It is important to clean the sink after shaving to remove any hair and prevent clogs in the drain.\",\n",
    "    \"A hamburger is a type of sandwich that consists of a cooked patty of ground meat, typically beef, placed between two slices of bread or a bun. Hamburgers are often served with various toppings, such as lettuce, tomato, onion, cheese, and condiments like ketchup and mustard. However, if someone is suffering from great hunger, they may not care about the toppings and just want to eat the hamburger itself. In this case, the person may be more focused on satisfying their hunger and getting nourishment rather than worrying about additional ingredients or flavors.\",\n",
    "    \"If a person notices popcorn and cotton candy on the grass, they are likely at fairgrounds. Fairgrounds are outdoor areas that are used for hosting fairs and other events, such as carnivals, festivals, and exhibitions. These events often feature food stalls and vendors that sell a variety of treats, including popcorn and cotton candy. Popcorn and cotton candy are both popular carnival foods that are often sold at fairs and other events. The presence of these foods on the ground at fairgrounds suggests that a fair or similar event is taking place there.\",\n",
    "    \"When snow on a mountain becomes heavy, it can trigger an avalanche. An avalanche is a rapid flow of snow down a slope, often triggered by the weight of the snow or external factors such as a change in temperature. Avalanches can be dangerous and destructive, as they can bury and sweep away anything in their path, including people, buildings, and vehicles. Avalanches can occur on any slope with a steep enough incline and a sufficient amount of snow. They are most common on mountains, but they can also occur in other snowy areas, such as forests or valleys. It is important for people to be aware of the risk of avalanches and to take precautions when traveling in areas prone to avalanches.\",\n",
    "    \"A police officer typically reports their work through the use of case reports or incident reports. These reports are written documents that detail the events of a specific case or incident that the officer has worked on. Case reports or incident reports typically include information such as the date and time of the incident, the location, the people involved, and the actions taken by the officer. They may also include witness statements, evidence collected, and any other relevant details. Case reports or incident reports are used by police officers to document their work and provide a record of the incidents they have dealt with. They are also used by supervisors and other authorities to review and evaluate the performance of the officer and the effectiveness of their actions.\",\n",
    "    \"Teachers play many roles in the lives of their students, including mentor, counselor, and role model. However, they get the most out of their job by simply teaching children. Teaching children is the primary responsibility of a teacher, and it is what they are trained and paid to do. Teaching involves imparting knowledge, skills, and values to students, and helping them to develop the skills and habits they need to succeed in life. Teachers have the opportunity to make a positive impact on the lives of their students by providing them with a strong foundation in academic subjects and helping them to become curious, engaged learners. Teachers often derive a great deal of satisfaction from helping their students to achieve their potential and succeed in their studies.\",\n",
    "    \"A person might go to get counseling for a variety of reasons. One reason is to better understand themselves. Counseling can provide a safe and supportive environment for individuals to explore their thoughts, feelings, and behaviors, and to gain insight into why they act and feel the way they do. Counseling can also help a person to identify and work through any underlying issues or challenges that may be causing them distress or hindering their personal growth. Through counseling, a person can learn more about themselves and how to navigate their emotions and relationships more effectively. Counseling can be particularly helpful for individuals who are struggling with mental health issues, relationship problems, or other personal challenges.\",\n",
    "    \"If the kids wanted to cool off, they might go swimming as a way to refresh and beat the heat. Swimming is a fun and enjoyable activity that can provide relief from hot weather and help to cool the body. Swimming can also provide a great workout and has numerous health benefits, such as improving cardiovascular fitness and flexibility. There are many different places where kids can go swimming, such as pools, lakes, rivers, or the ocean. No matter where they go, kids can have fun and cool off while enjoying the water.\",\n",
    "    \"When remembering a tragedy in the past, many people may feel depressed. Depression is a common emotional reaction to experiencing a traumatic or stressful event, such as a tragedy. Depression is a mental health disorder characterized by persistent feelings of sadness, hopelessness, and low energy. It can also cause physical symptoms such as changes in appetite and sleep patterns, fatigue, and difficulty concentrating. Remembering a tragedy can be emotionally difficult and may trigger feelings of sadness, grief, and guilt. It is important for people who are struggling with depression to seek support and treatment to help manage their symptoms and improve their mental health.\",\n",
    "    \"Death Valley is a national park located in the Mojave Desert, in the state of California, United States. It is situated on the North American continent. The North American continent is one of the seven continents of the world and is located in the western hemisphere. It is the third largest continent in terms of land area, after Asia and Africa, and is home to a diverse range of cultures, languages, and environments. Death Valley is known for its extreme desert climate and is the lowest, hottest, and driest place in North America. It is a popular destination for tourists, who come to see its unique geological features, such as sand dunes, salt flats, and canyons.\",\n",
    "    \"When in a serious relationship, understanding better requires effort. Relationships require effort and work to maintain and grow. In order to understand your partner better, you need to be willing to put in the time and effort to communicate with them, listen to their perspectives, and try to see things from their point of view. This may involve asking questions, expressing your own feelings and needs, and being open to feedback and compromise. Understanding your partner better can help to strengthen the bond between you and improve the quality of your relationship. It is important to remember that relationships are dynamic and evolving, and that ongoing communication and effort are necessary to maintain a healthy and fulfilling relationship.\",\n",
    "    \"Cats are able to make a variety of vocalizations, including meows, purrs, and growls, as a way of communicating with humans and other animals. Cats use these vocalizations to convey a range of emotions and needs, such as hunger, happiness, or discomfort. Meowing is a common vocalization that cats use to communicate with humans. Cats may meow when they want attention, food, or to be let outside. Cats may also meow when they are feeling anxious or stressed. Although cats cannot talk in the same way that humans do, they are skilled at using their voices to communicate with their owners and other animals.\",\n",
    "    \"If you need a vessel that is similar to a battleship but faster, you might consider using a corvette. A corvette is a small, fast warship that is typically used for convoy escort, patrol, and other shallow water duties. Corvettes are generally smaller and less heavily armed than battleships, but they are more agile and have a higher speed. They are typically equipped with a variety of weapons, including guns, missiles, and torpedoes, and are used for defending against enemy ships and aircraft. Corvettes are often used for coastal defense, as well as for patrolling and enforcing maritime laws. They are capable of operating in a variety of environments, including open ocean and littoral (nearshore) waters.\",\n",
    "    \"Water in the sky comes from rain clouds. Rain clouds are clouds that form when moist air rises and cools, forming tiny water droplets that condense around particles in the air. As the droplets grow, they eventually become heavy enough to fall from the cloud as rain. Rain clouds are typically gray or white in color and are often accompanied by other types of clouds, such as cumulus or stratocumulus clouds. Rain clouds can form in a variety of ways, such as when warm, moist air from the ground rises and cools, or when moist air from the ocean is carried inland by the wind. Rain clouds can be found in many parts of the world and are a common source of precipitation, especially during the warmer months.\",\n",
    "    \"If John rented a hotel room while on a business trip and it was a company-sponsored event, it is possible that the hotel was a resort. Resorts are hotels or vacation properties that offer a variety of amenities and activities for guests, such as swimming pools, golf courses, spas, and restaurants. They are often located in scenic or recreational areas and are designed to provide a relaxing and enjoyable experience for guests. Many resorts offer conference and meeting facilities and are popular destinations for business events and retreats. If John's company sponsored the business trip and provided the hotel accommodations, it is likely that they chose a resort with the amenities and facilities needed to support the event.\",\n",
    "    \"An expressway might leave the United States and go to Canada. The United States and Canada are neighboring countries that share a border, and there are several expressways that cross the border between the two countries. Expressways are high-speed, limited-access roads that are designed for fast and efficient travel. They typically have multiple lanes and may include features such as grade separations, interchanges, and controlled access points. Expressways are used for long-distance travel and are often the main routes connecting major cities and regions. If an expressway leaves the United States, it is likely that it is heading towards Canada, which is located to the north of the United States.\",\n",
    "    \"If you were walking on a sidewalk near a small corner shop run by John, you would look for it on the street corner. A corner shop is a small retail store that is typically located at the intersection of two streets. It is often a convenience store or a neighborhood shop that sells a variety of goods, such as groceries, household items, and other supplies. Corner shops are often located in busy urban areas, where they are easily accessible to pedestrians and motorists. If you were walking on a sidewalk near a corner shop, you would look for it at the intersection of the street where you are walking and another street. The shop is likely to be located in a building on the corner, with windows and doors facing the street.\",\n",
    "    \"One way that a company can efficiently sell things to their customers is through mail order. Mail order is a method of selling goods or services by advertising them in a catalog or other publication and allowing customers to place orders by mail, telephone, or online. Mail order is a convenient and efficient way for companies to reach a wide customer base, as it allows them to sell products to customers who may not be located near their physical store or who may not have the time or inclination to shop in person. Mail order companies typically have a centralized warehouse or distribution center where orders are processed and shipped to customers. They may also offer options such as easy returns and exchanges, as well as customer service support to assist with any questions or issues that customers may have.\",\n",
    "    \"If he enjoyed the factory work and liked the idea that he did it for sale, it is likely that he enjoyed producing goods. Factory work typically involves the production of goods, such as products or materials, using machines, tools, and other equipment. Factory workers are responsible for operating and maintaining the equipment and ensuring that the goods being produced meet quality standards. The goods produced in a factory may be sold directly to consumers or to other businesses, and may be used for a variety of purposes, such as manufacturing, construction, or distribution. If a person enjoys factory work, they may find satisfaction in the idea that they are contributing to the production of goods that will be sold and used by others.\",\n",
    "    \"If returning to work was easy for Dan after his treatment and he was completely painless, it is likely that he had undergone some form of medical treatment or therapy to address a health issue or injury. Painless indicates that Dan was no longer experiencing pain or discomfort, which may have been a result of the treatment or therapy he received. It is not clear from the information provided what specific health issue or injury Dan was dealing with, or what treatment or therapy he received. However, it is possible that Dan was able to return to work more easily after his treatment because he was feeling better and was no longer experiencing any pain or discomfort.\",\n",
    "    \"If index cards were on display at the museum, it is likely that the museum was a library. Libraries are institutions that provide access to a wide range of resources, including books, periodicals, and other printed materials, as well as digital resources such as e-books, databases, and online research tools. Libraries often have exhibits and displays of various types of materials, including rare or unique items, and may have special collections or archives that are of particular interest to researchers or historians. Index cards are small, rectangular pieces of paper that are used for organizing information, such as names, dates, or research notes. They may be used in a variety of settings, including libraries, offices, and schools. If index cards were on display at the museum, it is possible that they were part of a historical exhibit or collection related to the history of libraries or research.\",\n",
    "    \"If she was a human in America who wanted to live well, it is likely that the given for her situation was the need for money. In general, money is an important factor in enabling people to live well and meet their basic needs and desires. Money allows people to purchase the goods and services that they need to sustain themselves and their families, such as food, clothing, housing, and healthcare. It also enables people to pursue their interests and hobbies, travel, and engage in various forms of leisure and entertainment. In America, and in many other countries around the world, the cost of living can be high, and people often need to earn and save money in order to achieve a desired standard of living. As such, the need for money is a given for many people in order to live well.\",\n",
    "    \"A place that could have one back garden is a house. A garden is a piece of land that is used for growing plants, flowers, vegetables, or other types of vegetation. Gardens can be found in a variety of settings, including residential properties, public parks, and commercial properties. A house is a building that is used as a dwelling for one or more people, and it typically includes living spaces, such as bedrooms, bathrooms, and a kitchen, as well as outdoor areas, such as a front yard, side yard, and back yard. A back yard is a private outdoor space that is typically located behind a house and is often used for recreational or leisure activities, such as gardening, grilling, or playing games. If a house has a back garden, it is likely that the garden is located in the back yard.\",\n",
    "    \"People gather at a football stadium to see large men in pads play a game where they run and smash into each other. Football is a popular sport that is played on a rectangular field by two teams of eleven players. The game involves running, passing, and tackling, and players wear pads and other protective gear to reduce the risk of injury. Football is a physical and intense sport, and players often collide with each other at high speeds. Football stadiums are large, open-air facilities that are designed to host football games and other sporting events. They typically have a grass or artificial turf field, seating for spectators, and a variety of amenities, such as concessions stands, restrooms, and VIP areas. Football stadiums are popular places for people to gather and watch football games, and they can be found in cities and towns throughout the world.\",\n",
    "    \"One place where someone can get a flute is a musical instrument store. A musical instrument store is a retail establishment that specializes in selling musical instruments and related accessories. They may carry a wide range of instruments, including brass instruments, woodwind instruments, string instruments, percussion instruments, and keyboards. Flutes are woodwind instruments that are played by blowing air into a narrow opening and producing sound by vibrating the lips against a metal or wooden reed. They are popular instruments that are used in a variety of musical styles, including classical, jazz, and folk music. If someone is looking to purchase a flute, they may be able to find a selection of flutes at a musical instrument store. In addition to flutes, musical instrument stores may also offer a variety of other instruments, as well as sheet music, instructional materials, and accessories such as cases, stands, and cleaning supplies.\",\n",
    "    \"It is not clear what someone who has a greed for energy would do. The word greed typically refers to an excessive or insatiable desire for wealth, power, or material possessions. It is not clear how this concept would relate to energy or how it might influence someone's actions. It is possible that someone who has a lot of energy or who is very active might have a high appetite for food and might seek out sources of fuel or nutrition to sustain their energy levels. In this case, they might buy food as a way to obtain the energy they need. However, it is not accurate to say that someone who has a greed for energy would necessarily do this. It is important to note that the concept of greed is generally considered to be negative, as it suggests an unhealthy or unsustainable desire for something.\",\n",
    "    \"A forklift is a type of industrial vehicle that is used for moving and lifting heavy loads, such as pallets, crates, and boxes. Forklifts are equipped with a hydraulic lift mechanism and a set of prongs or forks that can be used to lift and transport loads. They are commonly used in warehouses and other distribution centers to move and stack materials, such as boxes, onto shelves or other storage areas. If you were using a forklift to stack boxes onto shelves, it is likely that you were in a warehouse or a similar facility. Warehouses are large, commercial buildings that are used for storing and distributing goods. They often have high ceilings, wide aisles, and multiple levels, and they may be equipped with a variety of material handling equipment, such as forklifts, conveyor belts, and cranes, to facilitate the movement and storage of goods.\",\n",
    "    \"You are likely to receive mouthwash in a little paper cup at a dentist's office. Dentist's offices are healthcare facilities that are staffed by dentists and other dental professionals, and they are used for the diagnosis and treatment of dental problems and the maintenance of oral health. One common practice at a dentist's office is to rinse the mouth with mouthwash, which is a liquid that is used to freshen breath, kill bacteria, and reduce the risk of gum disease and other oral health issues. Mouthwash is typically used after brushing and flossing to help remove any remaining food particles or plaque from the mouth. It may be dispensed in a little paper cup, which can be used to rinse the mouth and then disposed of after use.\",\n",
    "    \"A doctor's office can help you with an illness. A doctor's office is a healthcare facility that is staffed by medical doctors and other healthcare professionals, and it is used for the diagnosis and treatment of medical conditions and the maintenance of overall health. If you are experiencing an illness, such as a cold, flu, or more serious health issue, you may visit a doctor's office to seek medical care and treatment. At a doctor's office, you may receive a physical examination, diagnostic tests, and other forms of medical treatment, depending on the nature of your illness and your specific needs. Doctors are trained to diagnose and treat a wide range of medical conditions, and they can provide you with the care and support you need to recover from your illness and get back to good health.\",\n",
    "    \"A bug looking for wildflowers and no human interruption might go to a meadow. A meadow is a grassland area that is characterized by its open, grassy landscape and the presence of wildflowers and other types of vegetation. Meadows can be found in a variety of settings, including rural areas, forests, and parkland, and they are often home to a variety of animal and plant species. Because meadows are relatively undisturbed by human activity, they can be a good place for a bug to find wildflowers and other types of plants without interference from humans. Meadows are often considered to be peaceful, serene places, and they may be attractive to a bug that is seeking a quiet, natural environment in which to explore and forage.\",\n",
    "    \"If a bride and groom are taking care of proposals, the likely ceremony is a marriage. A marriage is a formal union between two people that is recognized by law and typically involves a public ceremony and the exchange of vows. A marriage proposal is a request for someone to marry another person, and it is typically made by one partner to the other. The process of planning a marriage often involves taking care of a variety of details and arrangements, such as choosing a venue, selecting a date, inviting guests, and organizing the ceremony and reception. If a bride and groom are taking care of proposals, it is likely that they are in the process of planning their marriage and preparing for the wedding ceremony.\",\n",
    "    \"You could put some olives in a jar to prevent them from getting nearby food wet. A jar is a container that is typically made of glass or ceramic and has a wide mouth and a secure, tight-fitting lid. Jars are often used for storing food items, such as olives, pickles, jams, and other types of preserved or dried goods. Because they have a sealed lid, jars can help to keep food fresh and prevent it from coming into contact with air or other substances that might spoil or contaminate it. If you want to prevent olives from getting nearby food wet, you could put them in a jar and close the lid to create an airtight seal. This would help to keep the olives separate from other foods and prevent them from coming into contact with moisture or other liquids.\",\n",
    "    \"If the graveyard was zoned by the pastor, it is likely that it was located on church property. Church property refers to land or buildings that are owned by a church or religious organization. This may include the main church building, as well as other structures such as a rectory, school, or community center. Church property may also include a graveyard or cemetery, which is a place where people are buried after they die. Pastors, who are ordained leaders in a church, often play a central role in the management and oversight of church property, and they may be responsible for zoning or designating areas within the property for specific purposes, such as a graveyard or a garden. If the pastor has zoned the graveyard, it is likely that it is located on church property and is being used as a place for burial by members of the church or community.\",\n",
    "    \"If a family wanted to live with carpeting, they may have ended up putting it in their houses. Houses are structures that are designed and built to be used as homes, and they typically have a number of rooms that are used for different purposes, such as sleeping, cooking, eating, and relaxing. Carpeting is a type of floor covering that is made of soft, flexible materials, such as wool, nylon, or polypropylene, and it is often used in houses to provide warmth, comfort, and insulation. If a family wanted to live with carpeting, they may have chosen to install carpeting in some or all of the rooms in their houses, in order to create a warm and cozy atmosphere and to improve the overall comfort and livability of their homes.\",\n",
    "    \"If a boss likes an employee's ambition, the employee may be put in charge of a project. A project is a specific task or set of tasks that is undertaken in order to achieve a specific goal or objective. Projects may be large or small, complex or simple, and they may involve a wide range of activities, such as research, design, development, testing, and implementation. If an employee is ambitious and demonstrates a strong desire to succeed and make a positive contribution to their organization, their boss may choose to put them in charge of a project, in order to give them the opportunity to demonstrate their skills and abilities and to take on more responsibility. Being put in charge of a project can be a challenging and rewarding experience, and it may provide an employee with the chance to learn new things, develop their skills, and make a meaningful contribution to their organization.\",\n",
    "    \"A county highway can be viewed as a line on a map. A map is a graphic representation of an area or region that shows the locations of various features, such as roads, rivers, mountains, and cities. Maps are often used to help people navigate and find their way around unfamiliar places, and they can be very useful for understanding the layout and geography of an area. County highways are roads that are maintained and operated by a county or local government, and they are typically used for local travel and transportation within a county or region. On a map, a county highway may be represented as a line, with a specific color or symbol used to indicate its location and route. By viewing a county highway as a line on a map, it is possible to get a sense of the route and layout of the road, and to use the map to plan a journey or navigate to a specific destination.\",\n",
    "    \"After going for a run, someone may feel tired. Running is a form of physical activity that involves moving quickly and continuously on foot, typically by running or jogging. It is a popular form of exercise that can help to improve cardiovascular fitness, build endurance, and strengthen the muscles of the legs and lower body. However, running can also be physically demanding, and it requires a certain level of fitness and stamina to be able to sustain the activity for an extended period of time. As a result, it is common for people to feel tired after going for a run, especially if they are not used to the activity or if they have pushed themselves to run for a longer distance or at a faster pace than usual. Tiredness after a run may be accompanied by other physical sensations, such as muscle fatigue, thirst, or a sense of accomplishment.\",\n",
    "    \"If a car was going from Florida to Ohio, it was heading north. Florida is a state in the southeastern region of the United States, and Ohio is a state in the midwestern region of the country. When traveling from Florida to Ohio, a person would need to go north in order to reach their destination. North is a direction that is opposite to south on a map or compass, and it is typically associated with higher latitude, colder climates, and longer nights. When traveling north, a person may encounter different landscapes, weather patterns, and cultural experiences than they would when traveling south, depending on the specific route and the distance traveled. By heading north from Florida to Ohio, a person would be leaving behind the warm, tropical climate of Florida and entering into a more temperate, mid-latitude region with cooler temperatures and a more diverse range of landscapes and ecosystems.\",\n",
    "    \"During a typical week, a teacher is likely to spend most of their time working in school. A teacher is a person who is trained and qualified to teach students in a school or educational setting, and their primary job is to provide instruction and guidance to help students learn and develop their skills and knowledge. Teachers may work in a variety of settings, including primary schools, secondary schools, and universities, and they may teach a wide range of subjects, including math, science, English, history, and the arts. In order to fulfill their duties as a teacher, a person is likely to spend most of their time working in a school or educational setting, where they will be responsible for preparing and delivering lessons, grading assignments, communicating with students and parents, and performing other tasks related to their job. Teachers typically work on a schedule that follows the school year, and they may work full-time or part-time, depending on their specific circumstances and the needs of their students.\",\n",
    "    \"In a predicament, an animal might choose to fight for its life as an alternative to fleeing. Predicament is a term that refers to a difficult or challenging situation, typically one that involves a choice or decision that needs to be made. When an animal finds itself in a predicament, it may have to decide how to respond in order to survive and protect itself. One option that an animal may have is to flee or run away from the situation in an effort to escape danger or avoid conflict. Another option that an animal may have is to fight for its life, using whatever means are available to defend itself and protect its survival. The choice that an animal makes in a predicament will depend on a variety of factors, including the specific nature of the situation, the animal's size, strength, and abilities, and the resources and options that are available to it.\",\n",
    "    \"It is not common for people to fight each other when they find a good deal. A good deal is typically defined as an opportunity to purchase something at a price that is lower than what it is usually worth, or to obtain a product or service that provides more value or benefits than what is expected. When people find a good deal, they may feel excited or pleased about the opportunity to save money or get more for their money, and they may take action to take advantage of the deal. However, it is generally not considered acceptable or appropriate for people to fight each other over a good deal or to engage in physical violence or aggression in order to obtain it. There are many other ways that people can express their interest in a good deal, such as by negotiating with the seller, making an offer, or simply making a purchase if the price is acceptable.\",\n",
    "    \"An altar is a platform or structure that is used for religious ceremonies, rituals, or worship. Altars are often found in places of worship, such as temples, churches, synagogues, mosques, and other religious buildings. When a person is standing in front of an altar, they are likely to be in a temple or other place of worship. Altars can be used for a variety of purposes in different religions and spiritual traditions, such as offering sacrifices, making offerings, praying, or performing other religious practices. They may be decorated with symbols, images, or other items that are significant to the religion or spiritual tradition that is being practiced. Altars may also be used as a place for people to meditate, reflect, or seek spiritual guidance.\",\n",
    "    \"Joe bought a bunch of grapes because he likes to use them to top his desserts. A dessert is a type of food that is typically served at the end of a meal, and it is usually sweet or rich in flavor. There are many different types of desserts that people enjoy, including cakes, cookies, ice cream, pie, and other sweet treats. One way that people may use grapes as a topping for their desserts is by placing them on top of a fruit pie, tart, or crisp. Grapes can add flavor and texture to a dessert, and they may also be used to decorate a dessert or to add visual appeal. Grapes are a versatile fruit that can be used in many different types of desserts, and they can be eaten fresh, frozen, or preserved in various ways.\",\n",
    "    \"Well water is water that is obtained from underground sources, typically through the use of a well. A well is a hole or shaft that is dug into the ground in order to access water that is contained in underground aquifers or other water-bearing formations. Well water is typically used for drinking, irrigation, and other purposes, and it is often considered to be of high quality because it is filtered and purified naturally as it flows through the ground. To obtain well water, a person can dig a well or have one dug by a professional well driller. The depth of the well will depend on the location and the geology of the area, and a pump or other mechanical system may be used to bring the water to the surface.\",\n",
    "]"
   ]
  },
  {
   "cell_type": "code",
   "execution_count": null,
   "id": "69fa8109",
   "metadata": {},
   "outputs": [],
   "source": []
  },
  {
   "cell_type": "code",
   "execution_count": 22,
   "id": "01fdee8d",
   "metadata": {},
   "outputs": [],
   "source": [
    "id_list = [\n",
    " '71519c19654251cced50c5718fd527c1',\n",
    " '44195d210c81c8c550174d0edbd3ad5d',\n",
    " '5a5da37b685ec9c6f15228128ce30437',\n",
    " 'cabdfc174953b4bdb8bdcc89d6592c74',\n",
    " 'eac3a4080127e8924034651b57dfa289',\n",
    " 'c0013f31657294b9b5ad819123513ca7',\n",
    " '2681697be70cd5425899ed6deb84b18a',\n",
    " '47f60340b869552e795fa6782224f3d2',\n",
    " '7e8a6eac93147eb52d8151bab7b40003',\n",
    " 'f34267f498c8a78383e35057fbcfa2ce',\n",
    " 'f024f923d78e5c0a4c0c4baa3ddccf05',\n",
    " 'e148c710d0c26849cf1f15293481038b',\n",
    " 'bdf437d7498815f36c255f64a8e6571c',\n",
    " '2282e0c80be28aadadb79a822fec9dac',\n",
    " 'bdd05e96876342b4b5999709439a7f4e',\n",
    " '494b8316614fc64c5c27757aeaffce23_1',\n",
    " 'c4494b402264250dc70931613d482295',\n",
    " 'fcfbf207c5586294fdce33b645b613f1',\n",
    " '9c583bcbe68989a644433302545fb31e',\n",
    " '0e684d779d98e6eecda167c10af42bbb',\n",
    " 'ac0462d09b9fddd40c3c77aedf48a870',\n",
    " '1dbfb41e04a10bdbb085bfe667c0df99',\n",
    " 'cd0c0ef3b8ce0eb09ff26823f6059be6',\n",
    " 'e6b67184b99375d05d3f2887f684c684',\n",
    " 'ae9f6f1e17b3fdd3a86b494933809f45',\n",
    " 'f149604169936a30b7e4c8d599d604b5',\n",
    " 'd7c8377953e0175ef57d59f3a8e63a8e',\n",
    " '1837216ac7745121b82a6491b2318c09',\n",
    " 'b5fe238d45e55ca5d802b7823ad390ef',\n",
    " 'b2fbeb0b48bd5e575af0f7dc24cdd85d',\n",
    " '9bdfb101c487ac598f6e4686cf774703',\n",
    " '206c7116ee2246180fcc0c5a1d0e7205',\n",
    " '5cd7f44bbf730dfae5ef2a362d2e5149',\n",
    " '45d0ea781ffd49b07d6eae94d47a8945',\n",
    " '89afdea1d76272fda8e1538a7d3b7a3f',\n",
    " '38a514fe54108527e1d6e89d9812da93',\n",
    " 'ebf347934a3e90ea46d3d87726fb5d25',\n",
    " '90226a6ecd7308ae1e6220a15ae24bc6',\n",
    " '5cae8057e75e3adf5c338a43b3ba97fb',\n",
    " '388a363c49e1b0aca8eaf18ccdde0caf',\n",
    " '9ed3af82152dfcd7000bf4631b095f71',\n",
    " '2d5805d894bba224c5fe91e70b8c0f77',\n",
    " 'd5aa464a16b72c9b9f3091abd461e3ef',\n",
    " '381b11c54be4cc432a95053ca34cbf6b',\n",
    " '807a3a2dabdd50ed0c76052fd2612632',\n",
    " '5172041c750d22e9a5081cc024de0fa6',\n",
    " 'd32a45ab3b751110d0578a78e54c0e64',\n",
    " '28ca5cbe27774746c34f6ebe84fc6d0c']"
   ]
  },
  {
   "cell_type": "code",
   "execution_count": null,
   "id": "51445c67",
   "metadata": {},
   "outputs": [],
   "source": []
  },
  {
   "cell_type": "code",
   "execution_count": 23,
   "id": "dabe3306",
   "metadata": {},
   "outputs": [],
   "source": [
    "# our_wrong_data_splits['dev']=[]\n",
    "# for x in our_data_splits['dev']:\n",
    "#     for ii in range(5):\n",
    "#         new_x={'id':x['id'], 'real_answer':x['answer'], \n",
    "#                'answer':x['choices'][ii], 'question':x['question'],\n",
    "#                'choices':x['choices'],\n",
    "#                'abstractive_explanation':x['abstractive_explanation'],\n",
    "#                'extractive_explanation':x['extractive_explanation'],\n",
    "#                'our_explanation':x['our_explanation']}\n",
    "#         our_wrong_data_splits['dev'].append(new_x)\n",
    "#     #print(x)\n",
    "#     #pdb.set_trace()\n",
    "# # wandb.init()\n",
    "# our_wrong_dev_data_dict = list2dict(our_wrong_data_splits['dev'])\n",
    "# our_wrong_data_splits['dev'] = datasets.Dataset.from_dict(our_wrong_dev_data_dict)"
   ]
  },
  {
   "cell_type": "code",
   "execution_count": 24,
   "id": "7b62bdf5",
   "metadata": {},
   "outputs": [],
   "source": [
    "# our_wrong_data_splits['train'][0],our_wrong_data_splits['train'][0].keys()\n",
    "# our_wrong_data_splits['train'] = our_wrong_data_splits['train'].map(\n",
    "#             lambda x: format_instance(\n",
    "#                 x,\n",
    "#                 tokenizer,\n",
    "#                 data_args.explanation_sep,\n",
    "#                 datasource=data_args.task_name,\n",
    "#                 io_format=data_args.io_format\n",
    "#             ),\n",
    "#             batched=False,\n",
    "#             load_from_cache_file=False,\n",
    "#         )"
   ]
  },
  {
   "cell_type": "code",
   "execution_count": 25,
   "id": "b421f892",
   "metadata": {},
   "outputs": [],
   "source": [
    "# for da in our_wrong_data_splits['dev']:\n",
    "#     print(\"*******\")\n",
    "#     print(\"question: {}\".format(da['question']))\n",
    "#     print(\"real_answer: {}\".format(da['real_answer']))\n",
    "#     print(\"answer: {}\".format(da['answer']))\n",
    "#     print(\"choices: {}\".format(da['choices']))\n",
    "#     print(\"our_explanation: {}\".format(da['our_explanation']))\n",
    "#     inp_ids = torch.tensor(da[\"input_ids\"], device=model.device).reshape(1, -1)\n",
    "#     out = model.generate(\n",
    "#                     inp_ids,\n",
    "#                     max_length=100,\n",
    "#                     pad_token_id=tokenizer.pad_token_id,\n",
    "#                     eos_token_id=tokenizer.eos_token_id,\n",
    "#                 )\n",
    "#     skip_special_tokens = False if \"infilling\" in data_args.io_format else True\n",
    "#     words = tokenizer.decode(out[0].tolist(), skip_special_tokens=skip_special_tokens)\n",
    "#     print(\"generated explanation: {}\".format(words))\n",
    "#     print(\"#######\")"
   ]
  },
  {
   "cell_type": "code",
   "execution_count": 26,
   "id": "dfa34701",
   "metadata": {},
   "outputs": [],
   "source": [
    "# our_wrong_data_splits['train'][0],our_wrong_data_splits['train'][0].keys()\n",
    "# our_wrong_data_splits['dev'] = our_wrong_data_splits['dev'].map(\n",
    "#             lambda x: format_instance(\n",
    "#                 x,\n",
    "#                 tokenizer,\n",
    "#                 data_args.explanation_sep,\n",
    "#                 datasource=data_args.task_name,\n",
    "#                 io_format=data_args.io_format\n",
    "#             ),\n",
    "#             batched=False,\n",
    "#             load_from_cache_file=False,\n",
    "#         )"
   ]
  },
  {
   "cell_type": "code",
   "execution_count": 27,
   "id": "2e6d6437",
   "metadata": {},
   "outputs": [],
   "source": [
    "# for da in our_wrong_data_splits['dev']:\n",
    "#     print(\"*******\")\n",
    "#     print(\"question: {}\".format(da['question']))\n",
    "#     print(\"real_answer: {}\".format(da['real_answer']))\n",
    "#     print(\"answer: {}\".format(da['answer']))\n",
    "#     print(\"choices: {}\".format(da['choices']))\n",
    "#     print(\"our_explanation: {}\".format(da['our_explanation']))\n",
    "#     inp_ids = torch.tensor(da[\"input_ids\"], device=model.device).reshape(1, -1)\n",
    "#     out = model.generate(\n",
    "#                     inp_ids,\n",
    "#                     max_length=100,\n",
    "#                     pad_token_id=tokenizer.pad_token_id,\n",
    "#                     eos_token_id=tokenizer.eos_token_id,\n",
    "#                 )\n",
    "#     skip_special_tokens = False if \"infilling\" in data_args.io_format else True\n",
    "#     words = tokenizer.decode(out[0].tolist(), skip_special_tokens=skip_special_tokens)\n",
    "#     print(\"generated explanation: {}\".format(words))\n",
    "#     print(\"#######\")"
   ]
  },
  {
   "cell_type": "code",
   "execution_count": 28,
   "id": "91605cfc",
   "metadata": {},
   "outputs": [],
   "source": [
    "# for da in our_wrong_data_splits['train']:\n",
    "#     print(\"*******\")\n",
    "#     print(\"question: {}\".format(da['question']))\n",
    "#     print(\"real_answer: {}\".format(da['real_answer']))\n",
    "#     print(\"answer: {}\".format(da['answer']))\n",
    "#     print(\"choices: {}\".format(da['choices']))\n",
    "#     print(\"our_explanation: {}\".format(da['our_explanation']))\n",
    "#     inp_ids = torch.tensor(da[\"input_ids\"], device=model.device).reshape(1, -1)\n",
    "#     out = model.generate(\n",
    "#                     inp_ids,\n",
    "#                     max_length=100,\n",
    "#                     pad_token_id=tokenizer.pad_token_id,\n",
    "#                     eos_token_id=tokenizer.eos_token_id,\n",
    "#                 )\n",
    "#     skip_special_tokens = False if \"infilling\" in data_args.io_format else True\n",
    "#     words = tokenizer.decode(out[0].tolist(), skip_special_tokens=skip_special_tokens)\n",
    "#     print(\"generated explanation: {}\".format(words))\n",
    "#     print(\"#######\")"
   ]
  },
  {
   "cell_type": "code",
   "execution_count": 29,
   "id": "cbc3e763",
   "metadata": {},
   "outputs": [],
   "source": [
    "# import wandb\n",
    "# training_args.run_name=\"\"\n",
    "training_args.logging_steps=3\n",
    "training_args.save_steps=5\n",
    "training_args.evaluation_strategy=\"epoch\"\n",
    "training_args.num_train_epochs=25\n",
    "training_args.do_eval=True"
   ]
  },
  {
   "cell_type": "code",
   "execution_count": 30,
   "id": "317de5d7",
   "metadata": {},
   "outputs": [
    {
     "data": {
      "text/plain": [
       "TrainingArguments(\n",
       "_n_gpu=1,\n",
       "adafactor=False,\n",
       "adam_beta1=0.9,\n",
       "adam_beta2=0.999,\n",
       "adam_epsilon=1e-08,\n",
       "dataloader_drop_last=False,\n",
       "dataloader_num_workers=0,\n",
       "dataloader_pin_memory=True,\n",
       "ddp_find_unused_parameters=None,\n",
       "debug=[],\n",
       "deepspeed=None,\n",
       "disable_tqdm=False,\n",
       "do_eval=True,\n",
       "do_predict=False,\n",
       "do_train=True,\n",
       "eval_accumulation_steps=None,\n",
       "eval_steps=None,\n",
       "evaluation_strategy=epoch,\n",
       "fp16=False,\n",
       "fp16_backend=auto,\n",
       "fp16_full_eval=False,\n",
       "fp16_opt_level=O1,\n",
       "gradient_accumulation_steps=1,\n",
       "greater_is_better=None,\n",
       "group_by_length=False,\n",
       "ignore_data_skip=False,\n",
       "label_names=None,\n",
       "label_smoothing_factor=0.0,\n",
       "learning_rate=5e-05,\n",
       "length_column_name=length,\n",
       "load_best_model_at_end=False,\n",
       "local_rank=-1,\n",
       "log_level=-1,\n",
       "log_level_replica=-1,\n",
       "log_on_each_node=True,\n",
       "logging_dir=./cos_e_output_t5_large/011223_155920,\n",
       "logging_first_step=False,\n",
       "logging_steps=3,\n",
       "logging_strategy=IntervalStrategy.STEPS,\n",
       "lr_scheduler_type=SchedulerType.LINEAR,\n",
       "max_grad_norm=1.0,\n",
       "max_steps=-1,\n",
       "metric_for_best_model=None,\n",
       "mp_parameters=,\n",
       "no_cuda=False,\n",
       "num_train_epochs=25,\n",
       "output_dir=./cos_e_output_t5_large/011223_155920,\n",
       "overwrite_output_dir=False,\n",
       "past_index=-1,\n",
       "per_device_eval_batch_size=8,\n",
       "per_device_train_batch_size=8,\n",
       "prediction_loss_only=False,\n",
       "push_to_hub=False,\n",
       "push_to_hub_model_id=cos_e_output_t5_large,\n",
       "push_to_hub_organization=None,\n",
       "push_to_hub_token=None,\n",
       "remove_unused_columns=True,\n",
       "report_to=['tensorboard', 'wandb'],\n",
       "resume_from_checkpoint=None,\n",
       "run_name=./cos_e_output_t5_large,\n",
       "save_on_each_node=False,\n",
       "save_steps=5,\n",
       "save_strategy=IntervalStrategy.STEPS,\n",
       "save_total_limit=None,\n",
       "seed=42,\n",
       "sharded_ddp=[],\n",
       "skip_memory_metrics=True,\n",
       "tpu_metrics_debug=False,\n",
       "tpu_num_cores=None,\n",
       "use_legacy_prediction_loop=False,\n",
       "warmup_ratio=0.0,\n",
       "warmup_steps=0,\n",
       "weight_decay=0.0,\n",
       ")"
      ]
     },
     "execution_count": 30,
     "metadata": {},
     "output_type": "execute_result"
    }
   ],
   "source": [
    "training_args"
   ]
  },
  {
   "cell_type": "code",
   "execution_count": 31,
   "id": "de79fb60",
   "metadata": {},
   "outputs": [
    {
     "data": {
      "text/plain": [
       "TrainingArguments(\n",
       "_n_gpu=1,\n",
       "adafactor=False,\n",
       "adam_beta1=0.9,\n",
       "adam_beta2=0.999,\n",
       "adam_epsilon=1e-08,\n",
       "dataloader_drop_last=False,\n",
       "dataloader_num_workers=0,\n",
       "dataloader_pin_memory=True,\n",
       "ddp_find_unused_parameters=None,\n",
       "debug=[],\n",
       "deepspeed=None,\n",
       "disable_tqdm=False,\n",
       "do_eval=True,\n",
       "do_predict=False,\n",
       "do_train=True,\n",
       "eval_accumulation_steps=None,\n",
       "eval_steps=None,\n",
       "evaluation_strategy=epoch,\n",
       "fp16=False,\n",
       "fp16_backend=auto,\n",
       "fp16_full_eval=False,\n",
       "fp16_opt_level=O1,\n",
       "gradient_accumulation_steps=1,\n",
       "greater_is_better=None,\n",
       "group_by_length=False,\n",
       "ignore_data_skip=False,\n",
       "label_names=None,\n",
       "label_smoothing_factor=0.0,\n",
       "learning_rate=5e-05,\n",
       "length_column_name=length,\n",
       "load_best_model_at_end=False,\n",
       "local_rank=-1,\n",
       "log_level=-1,\n",
       "log_level_replica=-1,\n",
       "log_on_each_node=True,\n",
       "logging_dir=./cos_e_output_t5_large/011223_155920,\n",
       "logging_first_step=False,\n",
       "logging_steps=3,\n",
       "logging_strategy=IntervalStrategy.STEPS,\n",
       "lr_scheduler_type=SchedulerType.LINEAR,\n",
       "max_grad_norm=1.0,\n",
       "max_steps=-1,\n",
       "metric_for_best_model=None,\n",
       "mp_parameters=,\n",
       "no_cuda=False,\n",
       "num_train_epochs=25,\n",
       "output_dir=./cos_e_output_t5_large/011223_155920,\n",
       "overwrite_output_dir=False,\n",
       "past_index=-1,\n",
       "per_device_eval_batch_size=8,\n",
       "per_device_train_batch_size=8,\n",
       "prediction_loss_only=False,\n",
       "push_to_hub=False,\n",
       "push_to_hub_model_id=cos_e_output_t5_large,\n",
       "push_to_hub_organization=None,\n",
       "push_to_hub_token=None,\n",
       "remove_unused_columns=True,\n",
       "report_to=['tensorboard', 'wandb'],\n",
       "resume_from_checkpoint=None,\n",
       "run_name=./cos_e_output_t5_large,\n",
       "save_on_each_node=False,\n",
       "save_steps=5,\n",
       "save_strategy=IntervalStrategy.STEPS,\n",
       "save_total_limit=None,\n",
       "seed=42,\n",
       "sharded_ddp=[],\n",
       "skip_memory_metrics=True,\n",
       "tpu_metrics_debug=False,\n",
       "tpu_num_cores=None,\n",
       "use_legacy_prediction_loop=False,\n",
       "warmup_ratio=0.0,\n",
       "warmup_steps=0,\n",
       "weight_decay=0.0,\n",
       ")"
      ]
     },
     "execution_count": 31,
     "metadata": {},
     "output_type": "execute_result"
    }
   ],
   "source": [
    "training_args.per_device_eval_batch_size=8\n",
    "training_args.per_device_train_batch_size=8\n",
    "training_args"
   ]
  },
  {
   "cell_type": "code",
   "execution_count": 32,
   "id": "e80480ec",
   "metadata": {},
   "outputs": [],
   "source": [
    "# data_splits = {'train': None, 'validation': None, 'test': None}\n",
    "# original_data_splits = {'train': None, 'validation': None, 'test': None}  \n",
    "# data_args.io_format=\"t5_fewshot_infilling_with_choices\"\n",
    "# # Data loading from huggingface's datasets\n",
    "# if data_args.task_name in {\"cos_e\", \"esnli\"}:\n",
    "#     version_arg = None\n",
    "#     if data_args.task_name == \"cos_e\":\n",
    "#         assert data_args.version_name in {\"v1.11\", \"v1.0\"}\n",
    "#         version_arg = data_args.version_name\n",
    "\n",
    "#     load_train = True\n",
    "#     if (not training_args.do_train\n",
    "#         and not training_args.do_eval\n",
    "#         and not data_args.train_predict\n",
    "#     ):\n",
    "#         # don't load training dataset\n",
    "#         dataset = {}\n",
    "#         dataset[\"train\"] = None\n",
    "#         dataset[\"validation\"] = datasets.load_dataset(\n",
    "#             data_args.task_name, version_arg, split=\"validation\"\n",
    "#         )\n",
    "#         data_splits['validation'] = dataset[\"validation\"]\n",
    "\n",
    "#         if data_args.task_name == \"esnli\":\n",
    "#             dataset[\"test\"] = datasets.load_dataset(data_args.task_name, split=\"test\")\n",
    "#             data_splits['test'] = dataset[\"test\"]\n",
    "#         load_train = False\n",
    "#     else:\n",
    "#         dataset = datasets.load_dataset(data_args.task_name, version_arg)\n",
    "\n",
    "#         if data_args.n_shots > 0: # Shots = number of training examples **per label** \n",
    "#             if data_args.task_name == 'esnli': # Construct a *balanced* random sample of the size `data_args.n_shots*len(labels)` (for train) or `data_args.fewshot_eval_size` (for eval)\n",
    "#                 for split in [\"train\", \"validation\", \"test\"]:\n",
    "#                     split_data = dataset[split]\n",
    "#                     label_subsets = []\n",
    "#                     labels = split_data.features['label'].names\n",
    "#                     sample_size = data_args.n_shots if split == \"train\" else int(data_args.fewshot_eval_size/len(labels))\n",
    "#                     if data_args.gpt3_max_eval_size is not None and split != 'train':\n",
    "#                         assert len(labels) == 3\n",
    "#                         sample_size = data_args.gpt3_max_eval_size // len(labels)\n",
    "#                     for label in labels:\n",
    "#                         # The following is a hack to only run on `neutral` labels of `esnli` to get data for human eval\n",
    "#                         # if data_args.gpt3_max_eval_size is not None and split != 'train' and label != 'neutral':\n",
    "#                         #     continue\n",
    "#                         label_int = split_data.features['label'].str2int(label)\n",
    "#                         label_set = split_data.filter(lambda example: example['label'] == label_int).shuffle() # all instances of labeled as `label`\n",
    "#                         label_subset = label_set.select(range(sample_size)) #select `sample_size` random instances labeled as `label`\n",
    "#                         label_subsets.append(label_subset)\n",
    "#                     dataset[split] = datasets.concatenate_datasets(label_subsets) #merge all label-specific instances\n",
    "#             elif data_args.task_name == 'cos_e': \n",
    "#                 for split in [\"train\", \"validation\"]: \n",
    "#                     split_data = dataset[split]\n",
    "#                     sample_size = data_args.n_shots if split == \"train\" else int(data_args.fewshot_eval_size) #Shots for QA are not label-specific, i.e., `n_shots` is the training data size\n",
    "#                     if data_args.gpt3_max_eval_size is not None and split != 'train':\n",
    "#                         sample_size = data_args.gpt3_max_eval_size\n",
    "#                     dataset[split] = split_data#.shuffle().select(range(sample_size)) # select `sample_size` random instances\n",
    "#             else: \n",
    "#                 raise ValueError('Only cos_e and esnli are supported by Huggingface datasets.')\n",
    "#     # Apply method, and format dataset to torch.Tensor outputs\n",
    "# #     fse_csqa_train_file=\"/cognitive_comp/huangyongfeng/evaluate_LM_with_rationalization/few_shot_explanations/data/acceptability_annotations/commonsenseqa_train.csv\"\n",
    "# #     fse_csqa_dev_file=\"/cognitive_comp/huangyongfeng/evaluate_LM_with_rationalization/few_shot_explanations/data/acceptability_annotations/commonsenseqa_test.csv\"\n",
    "# #     fse_csqa_train_dataset = datasets.load_dataset('csv', data_files=fse_csqa_train_file)\n",
    "# #     fse_csqa_dev_dataset = datasets.load_dataset('csv', data_files=fse_csqa_dev_file)\n",
    "# #     train_ids_list=[x['id'] for x in data_splits[\"train\"]]\n",
    "# #     dev_ids_list=[x['id'] for x in data_splits[\"validation\"]]\n",
    "# #     fse_train_ids_list=[x['Input.id'] for x in fse_csqa_train_dataset['train']]\n",
    "# #     fse_dev_ids_list=[x['Input.id'] for x in fse_csqa_dev_dataset['train']]\n",
    "# #     fse_train_indexs_list=[train_ids_list.index(id_) for id_ in fse_train_ids_list]\n",
    "# #     fse_dev_indexs_list=[dev_ids_list.index(id_) for id_ in fse_dev_ids_list]\n",
    "# #     print(len(fse_train_indexs_list), len(fse_dev_indexs_list))\n",
    "# #     # print(fse_train_indexs_list,fse_dev_indexs_list)\n",
    "# #     fse_data_splits={}\n",
    "# #     data_splits['train']=data_splits[\"train\"].select(fse_train_indexs_list)\n",
    "# #     data_splits['validation']=data_splits[\"validation\"].select(fse_train_indexs_list)\n",
    "#     for split in dataset.keys():\n",
    "#         if dataset[split] is not None:\n",
    "#             dataset[split] = dataset[split].map(\n",
    "#                 lambda x: format_instance(\n",
    "#                     x,\n",
    "#                     tokenizer,\n",
    "#                     data_args.explanation_sep,\n",
    "#                     datasource=data_args.task_name,\n",
    "#                     io_format=data_args.io_format\n",
    "#                 ),\n",
    "#                 batched=False,\n",
    "#                 load_from_cache_file=False,\n",
    "#             )\n",
    "#     data_splits[\"train\"] = deepcopy(dataset[\"train\"])\n",
    "#     data_splits[\"validation\"] = deepcopy(dataset[\"validation\"])\n",
    "#     if data_args.task_name == \"esnli\":\n",
    "#         data_splits[\"test\"] = deepcopy(dataset[\"test\"])\n",
    "\n",
    "#     original_data_splits[\"train\"] = deepcopy(dataset[\"train\"])\n",
    "#     original_data_splits[\"validation\"] = deepcopy(dataset[\"validation\"])\n",
    "#     if data_args.task_name == \"esnli\":\n",
    "#         original_data_splits[\"test\"] = deepcopy(dataset[\"test\"])"
   ]
  },
  {
   "cell_type": "code",
   "execution_count": 33,
   "id": "2f4cb867",
   "metadata": {},
   "outputs": [],
   "source": [
    "# import pandas as pd\n",
    "# # new_data_splits={'train': None, 'validation': None}\n",
    "# # new_data_splits['train']=deepcopy(dataset[\"train\"])\n",
    "# # new_data_splits['validation']=deepcopy(dataset[\"validation\"])\n",
    "# fse_csqa_train_file=\"/cognitive_comp/huangyongfeng/evaluate_LM_with_rationalization/few_shot_explanations/data/acceptability_annotations/commonsenseqa_train.csv\"\n",
    "# fse_csqa_dev_file=\"/cognitive_comp/huangyongfeng/evaluate_LM_with_rationalization/few_shot_explanations/data/acceptability_annotations/commonsenseqa_test.csv\"\n",
    "# # fse_csqa_train_dataset = datasets.load_dataset('csv', data_files=fse_csqa_train_file)\n",
    "# # fse_csqa_dev_dataset = datasets.load_dataset('csv', data_files=fse_csqa_dev_file)\n",
    "\n",
    "# train_df=pd.read_csv(fse_csqa_train_file)\n",
    "\n",
    "# dev_df=pd.read_csv(fse_csqa_dev_file)\n",
    "\n",
    "# dev_df\n"
   ]
  },
  {
   "cell_type": "code",
   "execution_count": 34,
   "id": "42739e9b",
   "metadata": {},
   "outputs": [],
   "source": [
    "# len(fse_train_ids_list),len(list(set(fse_train_ids_list)))"
   ]
  },
  {
   "cell_type": "code",
   "execution_count": 35,
   "id": "c78ea825",
   "metadata": {},
   "outputs": [],
   "source": [
    "# train_ids_list=[x['id'] for x in data_splits[\"train\"]]\n",
    "# dev_ids_list=[x['id'] for x in data_splits[\"validation\"]]\n",
    "# fse_train_ids_list=[x['Input.id'] for x in fse_csqa_train_dataset['train']]\n",
    "# fse_dev_ids_list=[x['Input.id'] for x in fse_csqa_dev_dataset['train']]\n"
   ]
  },
  {
   "cell_type": "code",
   "execution_count": 36,
   "id": "80395518",
   "metadata": {},
   "outputs": [],
   "source": [
    "# fse_train_indexs_list=[train_ids_list.index(id_) for id_ in fse_train_ids_list]\n",
    "# fse_dev_indexs_list=[dev_ids_list.index(id_) for id_ in fse_dev_ids_list]\n",
    "# print(len(fse_train_indexs_list), len(fse_dev_indexs_list))\n",
    "# # print(fse_train_indexs_list,fse_dev_indexs_list)\n",
    "# fse_data_splits={}\n",
    "# fse_data_splits['train']=data_splits[\"train\"].select(fse_train_indexs_list)\n",
    "# fse_data_splits['validation']=data_splits[\"validation\"].select(fse_train_indexs_list)"
   ]
  },
  {
   "cell_type": "code",
   "execution_count": 37,
   "id": "4d186954",
   "metadata": {},
   "outputs": [],
   "source": [
    "# fse_csqa_train_dataset['train'][0].keys()"
   ]
  },
  {
   "cell_type": "code",
   "execution_count": 38,
   "id": "66dd71d4",
   "metadata": {},
   "outputs": [],
   "source": [
    "class SequenceCollator:\n",
    "    def __init__(self, model, pad_token):\n",
    "        self.model = model\n",
    "        self.pad_token_mapping = {\n",
    "            \"labels\": -100,\n",
    "            \"attention_mask\": 0,\n",
    "            \"decoder_attention_mask\": 0,\n",
    "            \"input_ids\": pad_token,\n",
    "        }\n",
    "\n",
    "        self.columns = [\n",
    "            \"input_ids\",\n",
    "            \"attention_mask\",\n",
    "            \"labels\",\n",
    "            \"decoder_attention_mask\",\n",
    "        ]\n",
    "\n",
    "    def __call__(self, examples: List[Dict[str, InputDataClass]]) -> Dict[str, torch.Tensor]:\n",
    "        # re-format inputs for training\n",
    "        batch = {}\n",
    "        for key in examples[0].keys():\n",
    "            if key in self.columns:\n",
    "                tmp_list = []\n",
    "                for item in examples:\n",
    "                    tmp_list.append(item[key])\n",
    "\n",
    "                # pad lists to max length\n",
    "                if isinstance(tmp_list[0], list):\n",
    "                    max_length = max(map(len, tmp_list))\n",
    "                    tmp_list = [\n",
    "                        el + [self.pad_token_mapping[key]] * (max_length - len(el))\n",
    "                        for el in tmp_list\n",
    "                    ]\n",
    "\n",
    "                batch[key] = torch.tensor(tmp_list, dtype=torch.long)\n",
    "        return batch"
   ]
  },
  {
   "cell_type": "code",
   "execution_count": 39,
   "id": "f144515d",
   "metadata": {},
   "outputs": [
    {
     "name": "stderr",
     "output_type": "stream",
     "text": [
      "You are adding a <class 'transformers.integrations.TensorBoardCallback'> to the callbacks of this Trainer, but there is already one. The currentlist of callbacks is\n",
      ":DefaultFlowCallback\n",
      "TensorBoardCallback\n",
      "WandbCallback\n",
      "The following columns in the training set  don't have a corresponding argument in `T5ForConditionalGeneration.forward` and have been ignored: question, id, answer, abstractive_explanation, question_encoding, our_explanation, choices, extractive_explanation.\n",
      "***** Running training *****\n",
      "  Num examples = 96\n",
      "  Num Epochs = 25\n",
      "  Instantaneous batch size per device = 8\n",
      "  Total train batch size (w. parallel, distributed & accumulation) = 8\n",
      "  Gradient Accumulation steps = 1\n",
      "  Total optimization steps = 300\n",
      "Automatic Weights & Biases logging enabled, to disable set os.environ[\"WANDB_DISABLED\"] = \"true\"\n"
     ]
    },
    {
     "data": {
      "text/html": [
       "Changes to your `wandb` environment variables will be ignored because your `wandb` session has already started. For more information on how to modify your settings with `wandb.init()` arguments, please refer to <a href=\"https://wandb.me/wandb-init\" target=\"_blank\">the W&B docs</a>."
      ],
      "text/plain": [
       "<IPython.core.display.HTML object>"
      ]
     },
     "metadata": {},
     "output_type": "display_data"
    },
    {
     "data": {
      "text/html": [
       "wandb version 0.13.8 is available!  To upgrade, please run:\n",
       " $ pip install wandb --upgrade"
      ],
      "text/plain": [
       "<IPython.core.display.HTML object>"
      ]
     },
     "metadata": {},
     "output_type": "display_data"
    },
    {
     "data": {
      "text/html": [
       "Tracking run with wandb version 0.13.5"
      ],
      "text/plain": [
       "<IPython.core.display.HTML object>"
      ]
     },
     "metadata": {},
     "output_type": "display_data"
    },
    {
     "data": {
      "text/html": [
       "Run data is saved locally in <code>/cognitive_comp/huangyongfeng/evaluate_LM_with_rationalization/scripts/wandb/run-20230112_155954-1uqe2sr5</code>"
      ],
      "text/plain": [
       "<IPython.core.display.HTML object>"
      ]
     },
     "metadata": {},
     "output_type": "display_data"
    },
    {
     "data": {
      "text/html": [
       "Syncing run <strong><a href=\"https://wandb.ai/cuhk_lavilab/evaluate_LM_with_rationalization/runs/1uqe2sr5\" target=\"_blank\">./cos_e_output_t5_large</a></strong> to <a href=\"https://wandb.ai/cuhk_lavilab/evaluate_LM_with_rationalization\" target=\"_blank\">Weights & Biases</a> (<a href=\"https://wandb.me/run\" target=\"_blank\">docs</a>)<br/>"
      ],
      "text/plain": [
       "<IPython.core.display.HTML object>"
      ]
     },
     "metadata": {},
     "output_type": "display_data"
    },
    {
     "data": {
      "text/html": [
       "\n",
       "    <div>\n",
       "      \n",
       "      <progress value='300' max='300' style='width:300px; height:20px; vertical-align: middle;'></progress>\n",
       "      [300/300 12:55, Epoch 25/25]\n",
       "    </div>\n",
       "    <table border=\"1\" class=\"dataframe\">\n",
       "  <thead>\n",
       "    <tr style=\"text-align: left;\">\n",
       "      <th>Step</th>\n",
       "      <th>Training Loss</th>\n",
       "      <th>Validation Loss</th>\n",
       "    </tr>\n",
       "  </thead>\n",
       "  <tbody>\n",
       "  </tbody>\n",
       "</table><p>"
      ],
      "text/plain": [
       "<IPython.core.display.HTML object>"
      ]
     },
     "metadata": {},
     "output_type": "display_data"
    },
    {
     "name": "stderr",
     "output_type": "stream",
     "text": [
      "Saving model checkpoint to ./cos_e_output_t5_large/011223_155920/checkpoint-5\n",
      "Configuration saved in ./cos_e_output_t5_large/011223_155920/checkpoint-5/config.json\n",
      "Model weights saved in ./cos_e_output_t5_large/011223_155920/checkpoint-5/pytorch_model.bin\n",
      "Saving model checkpoint to ./cos_e_output_t5_large/011223_155920/checkpoint-10\n",
      "Configuration saved in ./cos_e_output_t5_large/011223_155920/checkpoint-10/config.json\n",
      "Model weights saved in ./cos_e_output_t5_large/011223_155920/checkpoint-10/pytorch_model.bin\n",
      "Saving model checkpoint to ./cos_e_output_t5_large/011223_155920/checkpoint-15\n",
      "Configuration saved in ./cos_e_output_t5_large/011223_155920/checkpoint-15/config.json\n",
      "Model weights saved in ./cos_e_output_t5_large/011223_155920/checkpoint-15/pytorch_model.bin\n",
      "Saving model checkpoint to ./cos_e_output_t5_large/011223_155920/checkpoint-20\n",
      "Configuration saved in ./cos_e_output_t5_large/011223_155920/checkpoint-20/config.json\n",
      "Model weights saved in ./cos_e_output_t5_large/011223_155920/checkpoint-20/pytorch_model.bin\n",
      "Saving model checkpoint to ./cos_e_output_t5_large/011223_155920/checkpoint-25\n",
      "Configuration saved in ./cos_e_output_t5_large/011223_155920/checkpoint-25/config.json\n",
      "Model weights saved in ./cos_e_output_t5_large/011223_155920/checkpoint-25/pytorch_model.bin\n",
      "Saving model checkpoint to ./cos_e_output_t5_large/011223_155920/checkpoint-30\n",
      "Configuration saved in ./cos_e_output_t5_large/011223_155920/checkpoint-30/config.json\n",
      "Model weights saved in ./cos_e_output_t5_large/011223_155920/checkpoint-30/pytorch_model.bin\n",
      "Saving model checkpoint to ./cos_e_output_t5_large/011223_155920/checkpoint-35\n",
      "Configuration saved in ./cos_e_output_t5_large/011223_155920/checkpoint-35/config.json\n",
      "Model weights saved in ./cos_e_output_t5_large/011223_155920/checkpoint-35/pytorch_model.bin\n",
      "Saving model checkpoint to ./cos_e_output_t5_large/011223_155920/checkpoint-40\n",
      "Configuration saved in ./cos_e_output_t5_large/011223_155920/checkpoint-40/config.json\n",
      "Model weights saved in ./cos_e_output_t5_large/011223_155920/checkpoint-40/pytorch_model.bin\n",
      "Saving model checkpoint to ./cos_e_output_t5_large/011223_155920/checkpoint-45\n",
      "Configuration saved in ./cos_e_output_t5_large/011223_155920/checkpoint-45/config.json\n",
      "Model weights saved in ./cos_e_output_t5_large/011223_155920/checkpoint-45/pytorch_model.bin\n",
      "Saving model checkpoint to ./cos_e_output_t5_large/011223_155920/checkpoint-50\n",
      "Configuration saved in ./cos_e_output_t5_large/011223_155920/checkpoint-50/config.json\n",
      "Model weights saved in ./cos_e_output_t5_large/011223_155920/checkpoint-50/pytorch_model.bin\n",
      "Saving model checkpoint to ./cos_e_output_t5_large/011223_155920/checkpoint-55\n",
      "Configuration saved in ./cos_e_output_t5_large/011223_155920/checkpoint-55/config.json\n",
      "Model weights saved in ./cos_e_output_t5_large/011223_155920/checkpoint-55/pytorch_model.bin\n",
      "Saving model checkpoint to ./cos_e_output_t5_large/011223_155920/checkpoint-60\n",
      "Configuration saved in ./cos_e_output_t5_large/011223_155920/checkpoint-60/config.json\n",
      "Model weights saved in ./cos_e_output_t5_large/011223_155920/checkpoint-60/pytorch_model.bin\n",
      "Saving model checkpoint to ./cos_e_output_t5_large/011223_155920/checkpoint-65\n",
      "Configuration saved in ./cos_e_output_t5_large/011223_155920/checkpoint-65/config.json\n",
      "Model weights saved in ./cos_e_output_t5_large/011223_155920/checkpoint-65/pytorch_model.bin\n",
      "Saving model checkpoint to ./cos_e_output_t5_large/011223_155920/checkpoint-70\n",
      "Configuration saved in ./cos_e_output_t5_large/011223_155920/checkpoint-70/config.json\n",
      "Model weights saved in ./cos_e_output_t5_large/011223_155920/checkpoint-70/pytorch_model.bin\n",
      "Saving model checkpoint to ./cos_e_output_t5_large/011223_155920/checkpoint-75\n",
      "Configuration saved in ./cos_e_output_t5_large/011223_155920/checkpoint-75/config.json\n",
      "Model weights saved in ./cos_e_output_t5_large/011223_155920/checkpoint-75/pytorch_model.bin\n",
      "Saving model checkpoint to ./cos_e_output_t5_large/011223_155920/checkpoint-80\n",
      "Configuration saved in ./cos_e_output_t5_large/011223_155920/checkpoint-80/config.json\n",
      "Model weights saved in ./cos_e_output_t5_large/011223_155920/checkpoint-80/pytorch_model.bin\n",
      "Saving model checkpoint to ./cos_e_output_t5_large/011223_155920/checkpoint-85\n",
      "Configuration saved in ./cos_e_output_t5_large/011223_155920/checkpoint-85/config.json\n",
      "Model weights saved in ./cos_e_output_t5_large/011223_155920/checkpoint-85/pytorch_model.bin\n",
      "Saving model checkpoint to ./cos_e_output_t5_large/011223_155920/checkpoint-90\n",
      "Configuration saved in ./cos_e_output_t5_large/011223_155920/checkpoint-90/config.json\n",
      "Model weights saved in ./cos_e_output_t5_large/011223_155920/checkpoint-90/pytorch_model.bin\n",
      "Saving model checkpoint to ./cos_e_output_t5_large/011223_155920/checkpoint-95\n",
      "Configuration saved in ./cos_e_output_t5_large/011223_155920/checkpoint-95/config.json\n",
      "Model weights saved in ./cos_e_output_t5_large/011223_155920/checkpoint-95/pytorch_model.bin\n",
      "Saving model checkpoint to ./cos_e_output_t5_large/011223_155920/checkpoint-100\n",
      "Configuration saved in ./cos_e_output_t5_large/011223_155920/checkpoint-100/config.json\n",
      "Model weights saved in ./cos_e_output_t5_large/011223_155920/checkpoint-100/pytorch_model.bin\n",
      "Saving model checkpoint to ./cos_e_output_t5_large/011223_155920/checkpoint-105\n",
      "Configuration saved in ./cos_e_output_t5_large/011223_155920/checkpoint-105/config.json\n",
      "Model weights saved in ./cos_e_output_t5_large/011223_155920/checkpoint-105/pytorch_model.bin\n",
      "Saving model checkpoint to ./cos_e_output_t5_large/011223_155920/checkpoint-110\n",
      "Configuration saved in ./cos_e_output_t5_large/011223_155920/checkpoint-110/config.json\n",
      "Model weights saved in ./cos_e_output_t5_large/011223_155920/checkpoint-110/pytorch_model.bin\n",
      "Saving model checkpoint to ./cos_e_output_t5_large/011223_155920/checkpoint-115\n",
      "Configuration saved in ./cos_e_output_t5_large/011223_155920/checkpoint-115/config.json\n",
      "Model weights saved in ./cos_e_output_t5_large/011223_155920/checkpoint-115/pytorch_model.bin\n",
      "Saving model checkpoint to ./cos_e_output_t5_large/011223_155920/checkpoint-120\n",
      "Configuration saved in ./cos_e_output_t5_large/011223_155920/checkpoint-120/config.json\n",
      "Model weights saved in ./cos_e_output_t5_large/011223_155920/checkpoint-120/pytorch_model.bin\n",
      "Saving model checkpoint to ./cos_e_output_t5_large/011223_155920/checkpoint-125\n",
      "Configuration saved in ./cos_e_output_t5_large/011223_155920/checkpoint-125/config.json\n",
      "Model weights saved in ./cos_e_output_t5_large/011223_155920/checkpoint-125/pytorch_model.bin\n",
      "Saving model checkpoint to ./cos_e_output_t5_large/011223_155920/checkpoint-130\n",
      "Configuration saved in ./cos_e_output_t5_large/011223_155920/checkpoint-130/config.json\n",
      "Model weights saved in ./cos_e_output_t5_large/011223_155920/checkpoint-130/pytorch_model.bin\n",
      "Saving model checkpoint to ./cos_e_output_t5_large/011223_155920/checkpoint-135\n",
      "Configuration saved in ./cos_e_output_t5_large/011223_155920/checkpoint-135/config.json\n",
      "Model weights saved in ./cos_e_output_t5_large/011223_155920/checkpoint-135/pytorch_model.bin\n",
      "Saving model checkpoint to ./cos_e_output_t5_large/011223_155920/checkpoint-140\n",
      "Configuration saved in ./cos_e_output_t5_large/011223_155920/checkpoint-140/config.json\n",
      "Model weights saved in ./cos_e_output_t5_large/011223_155920/checkpoint-140/pytorch_model.bin\n",
      "Saving model checkpoint to ./cos_e_output_t5_large/011223_155920/checkpoint-145\n",
      "Configuration saved in ./cos_e_output_t5_large/011223_155920/checkpoint-145/config.json\n",
      "Model weights saved in ./cos_e_output_t5_large/011223_155920/checkpoint-145/pytorch_model.bin\n",
      "Saving model checkpoint to ./cos_e_output_t5_large/011223_155920/checkpoint-150\n",
      "Configuration saved in ./cos_e_output_t5_large/011223_155920/checkpoint-150/config.json\n",
      "Model weights saved in ./cos_e_output_t5_large/011223_155920/checkpoint-150/pytorch_model.bin\n",
      "Saving model checkpoint to ./cos_e_output_t5_large/011223_155920/checkpoint-155\n",
      "Configuration saved in ./cos_e_output_t5_large/011223_155920/checkpoint-155/config.json\n",
      "Model weights saved in ./cos_e_output_t5_large/011223_155920/checkpoint-155/pytorch_model.bin\n",
      "Saving model checkpoint to ./cos_e_output_t5_large/011223_155920/checkpoint-160\n",
      "Configuration saved in ./cos_e_output_t5_large/011223_155920/checkpoint-160/config.json\n"
     ]
    },
    {
     "name": "stderr",
     "output_type": "stream",
     "text": [
      "Model weights saved in ./cos_e_output_t5_large/011223_155920/checkpoint-160/pytorch_model.bin\n",
      "Saving model checkpoint to ./cos_e_output_t5_large/011223_155920/checkpoint-165\n",
      "Configuration saved in ./cos_e_output_t5_large/011223_155920/checkpoint-165/config.json\n",
      "Model weights saved in ./cos_e_output_t5_large/011223_155920/checkpoint-165/pytorch_model.bin\n",
      "Saving model checkpoint to ./cos_e_output_t5_large/011223_155920/checkpoint-170\n",
      "Configuration saved in ./cos_e_output_t5_large/011223_155920/checkpoint-170/config.json\n",
      "Model weights saved in ./cos_e_output_t5_large/011223_155920/checkpoint-170/pytorch_model.bin\n",
      "Saving model checkpoint to ./cos_e_output_t5_large/011223_155920/checkpoint-175\n",
      "Configuration saved in ./cos_e_output_t5_large/011223_155920/checkpoint-175/config.json\n",
      "Model weights saved in ./cos_e_output_t5_large/011223_155920/checkpoint-175/pytorch_model.bin\n",
      "Saving model checkpoint to ./cos_e_output_t5_large/011223_155920/checkpoint-180\n",
      "Configuration saved in ./cos_e_output_t5_large/011223_155920/checkpoint-180/config.json\n",
      "Model weights saved in ./cos_e_output_t5_large/011223_155920/checkpoint-180/pytorch_model.bin\n",
      "Saving model checkpoint to ./cos_e_output_t5_large/011223_155920/checkpoint-185\n",
      "Configuration saved in ./cos_e_output_t5_large/011223_155920/checkpoint-185/config.json\n",
      "Model weights saved in ./cos_e_output_t5_large/011223_155920/checkpoint-185/pytorch_model.bin\n",
      "Saving model checkpoint to ./cos_e_output_t5_large/011223_155920/checkpoint-190\n",
      "Configuration saved in ./cos_e_output_t5_large/011223_155920/checkpoint-190/config.json\n",
      "Model weights saved in ./cos_e_output_t5_large/011223_155920/checkpoint-190/pytorch_model.bin\n",
      "Saving model checkpoint to ./cos_e_output_t5_large/011223_155920/checkpoint-195\n",
      "Configuration saved in ./cos_e_output_t5_large/011223_155920/checkpoint-195/config.json\n",
      "Model weights saved in ./cos_e_output_t5_large/011223_155920/checkpoint-195/pytorch_model.bin\n",
      "Saving model checkpoint to ./cos_e_output_t5_large/011223_155920/checkpoint-200\n",
      "Configuration saved in ./cos_e_output_t5_large/011223_155920/checkpoint-200/config.json\n",
      "Model weights saved in ./cos_e_output_t5_large/011223_155920/checkpoint-200/pytorch_model.bin\n",
      "Saving model checkpoint to ./cos_e_output_t5_large/011223_155920/checkpoint-205\n",
      "Configuration saved in ./cos_e_output_t5_large/011223_155920/checkpoint-205/config.json\n",
      "Model weights saved in ./cos_e_output_t5_large/011223_155920/checkpoint-205/pytorch_model.bin\n",
      "Saving model checkpoint to ./cos_e_output_t5_large/011223_155920/checkpoint-210\n",
      "Configuration saved in ./cos_e_output_t5_large/011223_155920/checkpoint-210/config.json\n",
      "Model weights saved in ./cos_e_output_t5_large/011223_155920/checkpoint-210/pytorch_model.bin\n",
      "Saving model checkpoint to ./cos_e_output_t5_large/011223_155920/checkpoint-215\n",
      "Configuration saved in ./cos_e_output_t5_large/011223_155920/checkpoint-215/config.json\n",
      "Model weights saved in ./cos_e_output_t5_large/011223_155920/checkpoint-215/pytorch_model.bin\n",
      "Saving model checkpoint to ./cos_e_output_t5_large/011223_155920/checkpoint-220\n",
      "Configuration saved in ./cos_e_output_t5_large/011223_155920/checkpoint-220/config.json\n",
      "Model weights saved in ./cos_e_output_t5_large/011223_155920/checkpoint-220/pytorch_model.bin\n",
      "Saving model checkpoint to ./cos_e_output_t5_large/011223_155920/checkpoint-225\n",
      "Configuration saved in ./cos_e_output_t5_large/011223_155920/checkpoint-225/config.json\n",
      "Model weights saved in ./cos_e_output_t5_large/011223_155920/checkpoint-225/pytorch_model.bin\n",
      "Saving model checkpoint to ./cos_e_output_t5_large/011223_155920/checkpoint-230\n",
      "Configuration saved in ./cos_e_output_t5_large/011223_155920/checkpoint-230/config.json\n",
      "Model weights saved in ./cos_e_output_t5_large/011223_155920/checkpoint-230/pytorch_model.bin\n",
      "Saving model checkpoint to ./cos_e_output_t5_large/011223_155920/checkpoint-235\n",
      "Configuration saved in ./cos_e_output_t5_large/011223_155920/checkpoint-235/config.json\n",
      "Model weights saved in ./cos_e_output_t5_large/011223_155920/checkpoint-235/pytorch_model.bin\n",
      "Saving model checkpoint to ./cos_e_output_t5_large/011223_155920/checkpoint-240\n",
      "Configuration saved in ./cos_e_output_t5_large/011223_155920/checkpoint-240/config.json\n",
      "Model weights saved in ./cos_e_output_t5_large/011223_155920/checkpoint-240/pytorch_model.bin\n",
      "Saving model checkpoint to ./cos_e_output_t5_large/011223_155920/checkpoint-245\n",
      "Configuration saved in ./cos_e_output_t5_large/011223_155920/checkpoint-245/config.json\n",
      "Model weights saved in ./cos_e_output_t5_large/011223_155920/checkpoint-245/pytorch_model.bin\n",
      "Saving model checkpoint to ./cos_e_output_t5_large/011223_155920/checkpoint-250\n",
      "Configuration saved in ./cos_e_output_t5_large/011223_155920/checkpoint-250/config.json\n",
      "Model weights saved in ./cos_e_output_t5_large/011223_155920/checkpoint-250/pytorch_model.bin\n",
      "Saving model checkpoint to ./cos_e_output_t5_large/011223_155920/checkpoint-255\n",
      "Configuration saved in ./cos_e_output_t5_large/011223_155920/checkpoint-255/config.json\n",
      "Model weights saved in ./cos_e_output_t5_large/011223_155920/checkpoint-255/pytorch_model.bin\n",
      "Saving model checkpoint to ./cos_e_output_t5_large/011223_155920/checkpoint-260\n",
      "Configuration saved in ./cos_e_output_t5_large/011223_155920/checkpoint-260/config.json\n",
      "Model weights saved in ./cos_e_output_t5_large/011223_155920/checkpoint-260/pytorch_model.bin\n",
      "Saving model checkpoint to ./cos_e_output_t5_large/011223_155920/checkpoint-265\n",
      "Configuration saved in ./cos_e_output_t5_large/011223_155920/checkpoint-265/config.json\n",
      "Model weights saved in ./cos_e_output_t5_large/011223_155920/checkpoint-265/pytorch_model.bin\n",
      "Saving model checkpoint to ./cos_e_output_t5_large/011223_155920/checkpoint-270\n",
      "Configuration saved in ./cos_e_output_t5_large/011223_155920/checkpoint-270/config.json\n",
      "Model weights saved in ./cos_e_output_t5_large/011223_155920/checkpoint-270/pytorch_model.bin\n",
      "Saving model checkpoint to ./cos_e_output_t5_large/011223_155920/checkpoint-275\n",
      "Configuration saved in ./cos_e_output_t5_large/011223_155920/checkpoint-275/config.json\n",
      "Model weights saved in ./cos_e_output_t5_large/011223_155920/checkpoint-275/pytorch_model.bin\n",
      "Saving model checkpoint to ./cos_e_output_t5_large/011223_155920/checkpoint-280\n",
      "Configuration saved in ./cos_e_output_t5_large/011223_155920/checkpoint-280/config.json\n",
      "Model weights saved in ./cos_e_output_t5_large/011223_155920/checkpoint-280/pytorch_model.bin\n",
      "Saving model checkpoint to ./cos_e_output_t5_large/011223_155920/checkpoint-285\n",
      "Configuration saved in ./cos_e_output_t5_large/011223_155920/checkpoint-285/config.json\n",
      "Model weights saved in ./cos_e_output_t5_large/011223_155920/checkpoint-285/pytorch_model.bin\n",
      "Saving model checkpoint to ./cos_e_output_t5_large/011223_155920/checkpoint-290\n",
      "Configuration saved in ./cos_e_output_t5_large/011223_155920/checkpoint-290/config.json\n",
      "Model weights saved in ./cos_e_output_t5_large/011223_155920/checkpoint-290/pytorch_model.bin\n",
      "Saving model checkpoint to ./cos_e_output_t5_large/011223_155920/checkpoint-295\n",
      "Configuration saved in ./cos_e_output_t5_large/011223_155920/checkpoint-295/config.json\n",
      "Model weights saved in ./cos_e_output_t5_large/011223_155920/checkpoint-295/pytorch_model.bin\n",
      "Saving model checkpoint to ./cos_e_output_t5_large/011223_155920/checkpoint-300\n",
      "Configuration saved in ./cos_e_output_t5_large/011223_155920/checkpoint-300/config.json\n",
      "Model weights saved in ./cos_e_output_t5_large/011223_155920/checkpoint-300/pytorch_model.bin\n",
      "\n",
      "\n",
      "Training completed. Do not forget to share your model on huggingface.co/models =)\n",
      "\n",
      "\n"
     ]
    },
    {
     "data": {
      "text/html": [
       "Waiting for W&B process to finish... <strong style=\"color:green\">(success).</strong>"
      ],
      "text/plain": [
       "<IPython.core.display.HTML object>"
      ]
     },
     "metadata": {},
     "output_type": "display_data"
    },
    {
     "data": {
      "text/html": [
       "<style>\n",
       "    table.wandb td:nth-child(1) { padding: 0 10px; text-align: left ; width: auto;} td:nth-child(2) {text-align: left ; width: 100%}\n",
       "    .wandb-row { display: flex; flex-direction: row; flex-wrap: wrap; justify-content: flex-start; width: 100% }\n",
       "    .wandb-col { display: flex; flex-direction: column; flex-basis: 100%; flex: 1; padding: 10px; }\n",
       "    </style>\n",
       "<div class=\"wandb-row\"><div class=\"wandb-col\"><h3>Run history:</h3><br/><table class=\"wandb\"><tr><td>train/epoch</td><td>▁▁▁▁▂▂▂▂▂▃▃▃▃▃▃▄▄▄▄▄▅▅▅▅▅▆▆▆▆▆▆▇▇▇▇▇████</td></tr><tr><td>train/global_step</td><td>▁▁▁▁▂▂▂▂▂▃▃▃▃▃▃▄▄▄▄▄▅▅▅▅▅▆▆▆▆▆▆▇▇▇▇▇████</td></tr><tr><td>train/learning_rate</td><td>████▇▇▇▇▇▆▆▆▆▆▆▅▅▅▅▅▄▄▄▄▄▄▃▃▃▃▃▂▂▂▂▂▂▁▁▁</td></tr><tr><td>train/loss</td><td>█▄▃▃▂▂▂▂▂▂▂▂▂▂▂▁▁▁▁▁▁▁▁▁▁▁▁▁▁▁▁▁▁▁▁▁▁▁▁▁</td></tr><tr><td>train/total_flos</td><td>▁</td></tr><tr><td>train/train_loss</td><td>▁</td></tr><tr><td>train/train_runtime</td><td>▁</td></tr><tr><td>train/train_samples_per_second</td><td>▁</td></tr><tr><td>train/train_steps_per_second</td><td>▁</td></tr></table><br/></div><div class=\"wandb-col\"><h3>Run summary:</h3><br/><table class=\"wandb\"><tr><td>train/epoch</td><td>25.0</td></tr><tr><td>train/global_step</td><td>300</td></tr><tr><td>train/learning_rate</td><td>0.0</td></tr><tr><td>train/loss</td><td>1.2204</td></tr><tr><td>train/total_flos</td><td>411358986240000.0</td></tr><tr><td>train/train_loss</td><td>1.78365</td></tr><tr><td>train/train_runtime</td><td>782.9115</td></tr><tr><td>train/train_samples_per_second</td><td>3.065</td></tr><tr><td>train/train_steps_per_second</td><td>0.383</td></tr></table><br/></div></div>"
      ],
      "text/plain": [
       "<IPython.core.display.HTML object>"
      ]
     },
     "metadata": {},
     "output_type": "display_data"
    },
    {
     "data": {
      "text/html": [
       "Synced <strong style=\"color:#cdcd00\">./cos_e_output_t5_large</strong>: <a href=\"https://wandb.ai/cuhk_lavilab/evaluate_LM_with_rationalization/runs/1uqe2sr5\" target=\"_blank\">https://wandb.ai/cuhk_lavilab/evaluate_LM_with_rationalization/runs/1uqe2sr5</a><br/>Synced 6 W&B file(s), 0 media file(s), 0 artifact file(s) and 0 other file(s)"
      ],
      "text/plain": [
       "<IPython.core.display.HTML object>"
      ]
     },
     "metadata": {},
     "output_type": "display_data"
    },
    {
     "data": {
      "text/html": [
       "Find logs at: <code>./wandb/run-20230112_155954-1uqe2sr5/logs</code>"
      ],
      "text/plain": [
       "<IPython.core.display.HTML object>"
      ]
     },
     "metadata": {},
     "output_type": "display_data"
    }
   ],
   "source": [
    "# os.environ[\"WANDB_DISABLED\"] = \"True\"\n",
    "if data_args.generations_filepath is None:\n",
    "    callbacks = [TensorBoardCallback()]\n",
    "    if data_args.early_stopping_patience > 0:\n",
    "        callbacks.append(EarlyStoppingCallback(early_stopping_patience=data_args.early_stopping_patience))\n",
    "        training_args.load_best_model_at_end = True\n",
    "    else:\n",
    "        training_args.load_best_model_at_end = False  # use the last model state\n",
    "    training_args.metric_for_best_model = 'eval_loss'\n",
    "    training_args.greater_is_better = False\n",
    "    if training_args.eval_steps is None:\n",
    "        training_args.evaluation_strategy = EvaluationStrategy.EPOCH\n",
    "    else:\n",
    "        training_args.evaluation_strategy = EvaluationStrategy.STEPS\n",
    "\n",
    "    trainer = Trainer(\n",
    "        model=model,\n",
    "        args=training_args,\n",
    "        train_dataset=our_data_splits['train'],\n",
    "        eval_dataset=our_data_splits['dev'],\n",
    "        data_collator=SequenceCollator(\n",
    "            model=model_class, pad_token=tokenizer.pad_token_id\n",
    "        ),\n",
    "        callbacks=callbacks,\n",
    "    )\n",
    "\n",
    "# Training. Don't train if it is use_gpt3\n",
    "if training_args.do_train and not model_args.use_gpt3:\n",
    "    start_time = time.time()\n",
    "    trainer.train()\n",
    "    train_time = time.time() - start_time\n",
    "    model = trainer.model\n",
    "    wandb.finish()\n",
    "else:\n",
    "    start_time = time.time()\n",
    "    train_time = time.time() - start_time"
   ]
  },
  {
   "cell_type": "code",
   "execution_count": 40,
   "id": "ade3c632",
   "metadata": {},
   "outputs": [],
   "source": [
    "# print(our_data_splits['dev'][0]['our_explanation'])\n",
    "# inp_ids=torch.tensor(our_data_splits['dev'][0][\"input_ids\"], device=model.device).reshape(1, -1)\n",
    "# out = model.generate(\n",
    "#                     inp_ids,\n",
    "#                     max_length=100,\n",
    "#                     pad_token_id=tokenizer.pad_token_id,\n",
    "#                     eos_token_id=tokenizer.eos_token_id,\n",
    "#                 )\n",
    "# skip_special_tokens = False if \"infilling\" in data_args.io_format else True\n",
    "# words = tokenizer.decode(out[0].tolist(), skip_special_tokens=skip_special_tokens)\n",
    "# print(words)"
   ]
  },
  {
   "cell_type": "code",
   "execution_count": 41,
   "id": "b88935f8",
   "metadata": {},
   "outputs": [],
   "source": [
    "# len(our_data_splits['dev']),len(our_data_splits['train'])"
   ]
  },
  {
   "cell_type": "code",
   "execution_count": 42,
   "id": "8eda472b",
   "metadata": {},
   "outputs": [],
   "source": [
    "# our_data_splits['dev']"
   ]
  },
  {
   "cell_type": "code",
   "execution_count": 43,
   "id": "77c15190",
   "metadata": {},
   "outputs": [],
   "source": [
    "# for da in our_data_splits['train']:\n",
    "#     print(\"*******\")\n",
    "#     print(\"question: {}\".format(da['question']))\n",
    "#     print(\"answer: {}\".format(da['answer']))\n",
    "#     print(\"choices: {}\".format(da['choices']))\n",
    "#     print(\"our_explanation: {}\".format(da['our_explanation']))\n",
    "#     inp_ids = torch.tensor(da[\"input_ids\"], device=model.device).reshape(1, -1)\n",
    "#     out = model.generate(\n",
    "#                     inp_ids,\n",
    "#                     max_length=100,\n",
    "#                     pad_token_id=tokenizer.pad_token_id,\n",
    "#                     eos_token_id=tokenizer.eos_token_id,\n",
    "#                 )\n",
    "#     skip_special_tokens = False if \"infilling\" in data_args.io_format else True\n",
    "#     words = tokenizer.decode(out[0].tolist(), skip_special_tokens=skip_special_tokens)\n",
    "#     print(\"generated explanation: {}\".format(words))\n",
    "#     print(\"#######\")"
   ]
  },
  {
   "cell_type": "code",
   "execution_count": 44,
   "id": "2ca6cbe4",
   "metadata": {},
   "outputs": [],
   "source": [
    "# for da in our_data_splits['dev']:\n",
    "#     print(\"*******\")\n",
    "#     print(\"question: {}\".format(da['question']))\n",
    "#     print(\"answer: {}\".format(da['answer']))\n",
    "#     print(\"choices: {}\".format(da['choices']))\n",
    "#     print(\"our_explanation: {}\".format(da['our_explanation']))\n",
    "#     inp_ids = torch.tensor(da[\"input_ids\"], device=model.device).reshape(1, -1)\n",
    "#     out = model.generate(\n",
    "#                     inp_ids,\n",
    "#                     max_length=100,\n",
    "#                     pad_token_id=tokenizer.pad_token_id,\n",
    "#                     eos_token_id=tokenizer.eos_token_id,\n",
    "#                 )\n",
    "#     skip_special_tokens = False if \"infilling\" in data_args.io_format else True\n",
    "#     words = tokenizer.decode(out[0].tolist(), skip_special_tokens=skip_special_tokens)\n",
    "#     print(\"generated explanation: {}\".format(words))\n",
    "#     print(\"#######\")"
   ]
  },
  {
   "cell_type": "code",
   "execution_count": 45,
   "id": "69977540",
   "metadata": {},
   "outputs": [],
   "source": [
    "# good_model = T5ForConditionalGeneration.from_pretrained(\"./cos_e_output_t5_3b/112022_235539/checkpoint-30\")"
   ]
  },
  {
   "cell_type": "code",
   "execution_count": 46,
   "id": "62fca4b8",
   "metadata": {},
   "outputs": [],
   "source": [
    "# for da in our_data_splits['dev']:\n",
    "#     print(\"*******\")\n",
    "#     print(\"question: {}\".format(da['question']))\n",
    "#     print(\"answer: {}\".format(da['answer']))\n",
    "#     print(\"choices: {}\".format(da['choices']))\n",
    "#     print(\"our_explanation: {}\".format(da['our_explanation']))\n",
    "#     inp_ids = torch.tensor(da[\"input_ids\"], device=model.device).reshape(1, -1)\n",
    "#     out = good_model.generate(\n",
    "#                     inp_ids,\n",
    "#                     max_length=100,\n",
    "#                     pad_token_id=tokenizer.pad_token_id,\n",
    "#                     eos_token_id=tokenizer.eos_token_id,\n",
    "#                 )\n",
    "#     skip_special_tokens = False if \"infilling\" in data_args.io_format else True\n",
    "#     words = tokenizer.decode(out[0].tolist(), skip_special_tokens=skip_special_tokens)\n",
    "#     print(\"generated explanation: {}\".format(words))\n",
    "#     print(\"#######\")"
   ]
  },
  {
   "cell_type": "code",
   "execution_count": 47,
   "id": "3a7de102",
   "metadata": {},
   "outputs": [],
   "source": [
    "# train_output = trainer.evaluate(our_data_splits['train'].select([0,1,2,3,4]))\n",
    "# train_output"
   ]
  },
  {
   "cell_type": "code",
   "execution_count": 48,
   "id": "f43528ca",
   "metadata": {},
   "outputs": [],
   "source": [
    "# results = {}\n",
    "# if training_args.do_eval:\n",
    "#     start_time = time.time()\n",
    "#     logger.info(\"*** Evaluate on train set***\")\n",
    "#     logger.info(len(data_splits['train']))\n",
    "#     train_output = trainer.evaluate(our_data_splits['train'])\n",
    "#     perplexity = math.exp(train_output[\"eval_loss\"])\n",
    "#     results[\"perplexity_train\"] = perplexity\n",
    "\n",
    "#     # repeat\n",
    "#     logger.info(\"*** Evaluate on dev set***\")\n",
    "#     logger.info(len(data_splits['validation']))\n",
    "#     eval_output = trainer.evaluate(data_splits['validation'])\n",
    "#     perplexity = math.exp(eval_output[\"eval_loss\"])\n",
    "#     results[\"perplexity_validation\"] = perplexity"
   ]
  },
  {
   "cell_type": "markdown",
   "id": "3d2d2ec9",
   "metadata": {},
   "source": [
    "# Rationale Discriminator"
   ]
  },
  {
   "cell_type": "markdown",
   "id": "bd5eeaa4",
   "metadata": {},
   "source": [
    "## Construction of generated rationale and accepted rationale pairs\n"
   ]
  },
  {
   "cell_type": "code",
   "execution_count": 49,
   "id": "e7f1c257",
   "metadata": {},
   "outputs": [
    {
     "data": {
      "text/plain": [
       "250"
      ]
     },
     "execution_count": 49,
     "metadata": {},
     "output_type": "execute_result"
    }
   ],
   "source": [
    "len(fse_csqa_dev_data_dict)"
   ]
  },
  {
   "cell_type": "code",
   "execution_count": 50,
   "id": "c7bcb573",
   "metadata": {},
   "outputs": [
    {
     "name": "stderr",
     "output_type": "stream",
     "text": [
      "\r",
      "  0%|                                                                                                                                                                               | 0/986 [00:00<?, ?it/s]"
     ]
    },
    {
     "name": "stdout",
     "output_type": "stream",
     "text": [
      "*******\n",
      "question: Where can you likely buy many poems?\n",
      "answer: book store\n",
      "choices: ['book of poetry', 'literature book', 'book store', 'poetry book', 'bookshelf']\n",
      "common expl list: ['A bookstore sells a variety of books, including poetry books; chains of bookstores sometimes specialize in categories such as poetry or literature.', 'A book store is a place where you can buy books, including poetry books.']\n"
     ]
    },
    {
     "name": "stderr",
     "output_type": "stream",
     "text": [
      "\r",
      "  0%|▏                                                                                                                                                                    | 1/986 [00:05<1:32:47,  5.65s/it]"
     ]
    },
    {
     "name": "stdout",
     "output_type": "stream",
     "text": [
      "generated explanation: <pad> <extra_id_0> A book store is a great place to buy many poems because they are often inexpensive to purchase and are often available in a variety of sizes. Book stores are also a great place to find poetry for students of all ages. Books are a great way to keep up with the latest poetry and to find out what’s new in the field. They often have a large selection of poems for sale, so you can browse through them without having to leave the house. Book stores also have a variety of poetry for sale, including classics, such as poetry, such as poems, and other books. They are often a great place to find the right for you, and often have the poems you need for writing. They have a variety of prices, and are often located in the country.<extra_id_1> </s>\n",
      "########\n",
      "*******\n",
      "question: What could bringing suit do to a rivalry?\n",
      "answer: aggravation\n",
      "choices: ['going to court', 'randomness', 'anger', 'aggravation', 'tensions']\n",
      "common expl list: ['Bringing suit against a rival could aggravate the rivalry.']\n"
     ]
    },
    {
     "name": "stderr",
     "output_type": "stream",
     "text": [
      "\r",
      "  0%|▎                                                                                                                                                                    | 2/986 [00:20<3:01:58, 11.10s/it]"
     ]
    },
    {
     "name": "stdout",
     "output_type": "stream",
     "text": [
      "generated explanation: <pad> <extra_id_0> A rivalry can be a source of aggravation if one party fails to act in a fair manner, and the other party may be able to use force to enforce the law. This could include threatening to sue or bringing suit to show that the other party is acting in a wrong way. This could lead to a physical altercation, which could lead to physical injuries, or even death. This could lead to physical physical contact between the parties, as well as a physical altercation. This can lead to physical, mental stress, which can lead to emotional distress, which can cause emotional distress and emotional distress. The stress and stress can lead to a situation that could escalate to the relationship. This can lead to a legal problem in the relationship between the parties, causing emotional and physical and emotional distress. A legal action could also lead to a situation that could lead to a potential for a civil dispute.<extra_id_1> </s>\n",
      "########\n",
      "*******\n",
      "question: A person who yawns and paces to help pass the time is likely feeling what?\n",
      "answer: boredom\n",
      "choices: ['ridiculous', 'excitement', 'meanness', 'terrorism', 'boredom']\n",
      "common expl list: ['A bored person would pace and yawn to make time go by faster.', 'Yawning and pacing is a sign of being bored, etc...', 'By yawning and pacing one shows signs of being bored.']\n"
     ]
    },
    {
     "name": "stderr",
     "output_type": "stream",
     "text": [
      "\r",
      "  0%|▌                                                                                                                                                                    | 3/986 [00:38<3:56:07, 14.41s/it]"
     ]
    },
    {
     "name": "stdout",
     "output_type": "stream",
     "text": [
      "generated explanation: <pad> <extra_id_0> A person who yawns and paces to help pass the time likely feels what? boredom. Boredom is a feeling of being in a state of boredom, where there is a lack of stimulation, and a desire to be occupied. By yawning and pausing, the individual is likely feeling bored, and this can be a sign that they are bored. By pacing, the individual is able to pass the time while also absorbing information. By yawning, the person is likely feeling bored, and is likely to pass the time. By yawning, the person is likely feeling bored. By yawning, the person is likely feeling bored. By taking a moment of rest, the person is likely to help pass the time. By ya moment, the person is likely feeling bored, which is a sign that the person is bored. By pacing, the person is likely feeling bored.<extra_id_1> </s>\n",
      "########\n",
      "*******\n",
      "question: I only like fiction books, why should I read a non-fiction book?\n",
      "answer: knowledge\n",
      "choices: ['knowledge', 'been printed new', 'many words', 'for fun', 'cover']\n",
      "common expl list: ['Non-fiction books contain knowledge.']\n"
     ]
    },
    {
     "name": "stderr",
     "output_type": "stream",
     "text": [
      "\r",
      "  0%|▋                                                                                                                                                                    | 4/986 [00:46<3:13:43, 11.84s/it]"
     ]
    },
    {
     "name": "stdout",
     "output_type": "stream",
     "text": [
      "generated explanation: <pad> <extra_id_0> I only like fiction books, so I should only read non-fiction books. I do not like reading fiction because I am not interested in reading non-fiction books. I also do not like reading fiction because I think it is more interesting and engaging than reading fiction because it is more engaging and engaging. I also think non-fiction books are more accessible and more accessible than fiction books because they are more purposeful and provide more depth of information than fiction books. I also think that non-fiction books are more interesting because they are more engaging and provide more information than fiction books because they are more informative and more information than fiction books, which is more interesting than fiction books because they provide more information, which is more accessible to readers, and can help them to gain more depth of information. Finally, non-fiction books provide us with more depth and depth of information, which can help us gain more knowledge.<extra_id_1> </s>\n",
      "########\n",
      "*******\n",
      "question: An American might hike a mountain north to get to what?\n",
      "answer: canada\n",
      "choices: ['canada', 'switzerland', 'orlando', 'austria', 'surface of earth']\n",
      "common expl list: ['If an American hiked north, they would likely end up in Canada.']\n"
     ]
    },
    {
     "name": "stderr",
     "output_type": "stream",
     "text": [
      "\r",
      "  1%|▊                                                                                                                                                                    | 5/986 [01:10<4:24:41, 16.19s/it]"
     ]
    },
    {
     "name": "stdout",
     "output_type": "stream",
     "text": [
      "generated explanation: <pad> <extra_id_0> An American might hike a mountain north to reach Canada. Canada is located in the northern part of North America, and it is a great place to hike. Hiking in Canada is an excellent way to experience the natural beauty of the Canadian landscape and the culture of the country. Canada is also a great place to experience the culture and history of the country, as well as the culture and people that make it such a special place. Canada is also home to many interesting places that are worth exploring, such as the Rocky Mountains and the Yukon Rivers. The American can also hike in Canada by hiking in Canada, which are great for the culture and history. The hike in Canada is also a great place to explore the culture and history, as well as well as it is a country. Canada is a great place to explore the culture and history, as well as it is also a great place to see the culture and people from the country. Canada is also a great place to see the Canadians, and to explore, and the culture of the country.<extra_id_1> </s>\n",
      "########\n",
      "*******\n",
      "question: Sam spent most of his time standing up.  His job was hectic and he never got any rest. But he was the best cashier at his workplace.    Where might he work?\n",
      "answer: supermarket\n",
      "choices: ['bookstore', 'count till', 'supermarket', 'shop', 'preschool']\n",
      "common expl list: [\"The best cashiers work setting up lines of products, yhis is usually done from being on one's feet. Supermarkets use till systems to swipe credit cards, thus cashiering is done by standing up.\", 'Since one spends most of his time standing when working as a cashier, Sam probably works at a supermarket where groceries are sold. Because his workplace is full of activities and punten, he never gets any rest.']\n"
     ]
    },
    {
     "name": "stderr",
     "output_type": "stream",
     "text": [
      "\r",
      "  1%|█                                                                                                                                                                    | 6/986 [01:20<3:47:28, 13.93s/it]"
     ]
    },
    {
     "name": "stdout",
     "output_type": "stream",
     "text": [
      "generated explanation: <pad> <extra_id_0> Sam worked in a supermarket because he was the best cashier there. A supermarket is a place where people go to buy food and buy food in bulk. This requires that cashiers are able to work in a variety of ways, including delivering groceries, assisting customers, and assisting customers with their purchases. This includes cashiering out groceries, delivering food, and assisting customers with their purchase. A supermarket is a place where cashiers work in a crowded environment, and there is no room for rest. Sam is the best cashier at a supermarket because he is a great job because he is a cashier because he can work anywhere he can easily and he can work in any of different locations, and can work in different locations. He can work in different locations, and even livelier than other jobs in different locations.<extra_id_1> </s>\n",
      "########\n",
      "*******\n",
      "question: James raked fallen leaves into a pile. Where might he leave the pile?\n",
      "answer: ground\n",
      "choices: ['forest', 'roof', 'garden', 'tree', 'ground']\n",
      "common expl list: ['Leaves are often raked into piles on the ground.']\n"
     ]
    },
    {
     "name": "stderr",
     "output_type": "stream",
     "text": [
      "\r",
      "  1%|█▏                                                                                                                                                                   | 7/986 [01:33<3:42:32, 13.64s/it]"
     ]
    },
    {
     "name": "stdout",
     "output_type": "stream",
     "text": [
      "generated explanation: <pad> <extra_id_0> James might leave the pile of fallen leaves on the ground because the leaves are a natural part of the landscape. They fall into a pile when raked and then deposited on the ground. The leaves are a byproduct of the natural cycle of decay and are a waste of water. They can be left on the ground for several weeks or even months depending on the amount of time they have been raked. This can lead to a buildup of dust, dirt, and other debris. The leaves also have a chemical reaction to the soil, which can cause a pile of dust, dirt, dirt, which can help to grow. The dust can also help keep the ground clean and dry up, which can help to keep the pile tidy and dry. The pile of leaves can be left on the ground, and the pile can be removed by a pile of fallen leaves, removing the top of the pile.<extra_id_1> </s>\n",
      "########\n",
      "*******\n",
      "question: What happens when we fail at something we attempt?\n",
      "answer: leave\n",
      "choices: ['leave', 'give up', 'trying', 'we get shunned', 'fail']\n",
      "common expl list: ['If we fail at something, we usually leave (quit) that activity; failing is an action, while giving up and trying are both ways of not acting.', \"If we engage in an activity, like a sport, and fail, we don't want to continue doing it. It's much easier simply to leave.\"]\n"
     ]
    },
    {
     "name": "stderr",
     "output_type": "stream",
     "text": [
      "\r",
      "  1%|█▎                                                                                                                                                                   | 8/986 [01:42<3:18:13, 12.16s/it]"
     ]
    },
    {
     "name": "stdout",
     "output_type": "stream",
     "text": [
      "generated explanation: <pad> <extra_id_0> When we fail at something attempting to learn, we are often left with a feeling of failure. We are not able to learn as much as we would like to, and we often leave the learning process behind. This can be a time-consuming and frustrating process, but it is also the most important part of learning. We must be able to accept that we will never be perfect, and that we must learn from our mistakes. We must also be able to identify the reasons why we are failing and move on. Failure can lead to a lot of learning and growth opportunities for others to gain from the knowledge and skills they need to improve their lives. Failure can also lead to a learning process that we have invested in order to improve. Failure can leave people with a feeling of failure, and a sense of frustration and frustration.<extra_id_1> </s>\n",
      "########\n",
      "*******\n",
      "question: The referee wasn't specialized in one thing. He refereed many games.  He was offered a job but wasn't sure what it would be.  What did he know it would be?\n",
      "answer: sporting event\n",
      "choices: ['side with opponent', 'football', 'hockey game', 'part two boxers', 'sporting event']\n",
      "common expl list: ['Referees are specialized in sports, and so, they would be expected to know how to referee a sporting event.']\n"
     ]
    },
    {
     "name": "stderr",
     "output_type": "stream",
     "text": [
      "\r",
      "  1%|█▌                                                                                                                                                                   | 9/986 [02:00<3:49:59, 14.12s/it]"
     ]
    },
    {
     "name": "stdout",
     "output_type": "stream",
     "text": [
      "generated explanation: <pad> <extra_id_0> The referee wasn't sure what job he would be offered because he was offered a job that was not specialized in one thing. He was offered a job refereed many games and he wasn't sure what to do with them. Refereed games are games that are played in a sporting environment, such as football games, basketball games, and baseball games. Referees are there to help the teams win, and to help the referees make the right decisions. Referees are there to make the right decisions about the right decision making it easier to make the right decision to make the right choice for the right job. They can make decisions about the right choice for the right job, as it is to refereed. They can refereed if they were not specialized in one sport, or a specific event. They can refereed to be a game or a sporting event.<extra_id_1> </s>\n",
      "########\n",
      "*******\n",
      "question: Susan threw the highly elastic ball at the wall.  The ball did what?\n",
      "answer: rebound\n",
      "choices: ['bounce', 'recoil', 'rebound', 'underwear', 'stretch']\n",
      "common expl list: ['Elastic balls collide with the wall, and boom bounce back after a collision.']\n"
     ]
    },
    {
     "name": "stderr",
     "output_type": "stream",
     "text": [
      "\r",
      "  1%|█▋                                                                                                                                                                  | 10/986 [02:51<6:51:26, 25.29s/it]"
     ]
    },
    {
     "name": "stdout",
     "output_type": "stream",
     "text": [
      "generated explanation: <pad> <extra_id_0> Susan threw the highly elastic ball at the wall. The ball bounced back and she was able to throw the ball back to the wall. The ball did this because it was extremely elastic, making it extremely durable and bouncy. This made it very easy for Susan to throw the ball back at the wall. The ball also had a high bounce rate, which means it was able to rebound quickly and easily. This made it possible for Susan to achieve her goal of throwing the ball back at the wall. The ball also had a high-dimensions, which allowed her to get back to the wall. The ball also had a high bounce, which made it easier for Susan to throw again and again. The ball also helped her to rebound, which helped Susan to throw back at the wall. The ball also helped her to the wall, which was much easier than a higher bounce, which was not as it was able to absorb the wall, which helped her to get back into the wall. The ball also helped to her throws the wall, which made it more powerful and helped her throw. It also helped her to get back into the wall, which made it easier for her to throw the ball to throw again.<extra_id_26> </s>\n",
      "########\n",
      "*******\n",
      "question: John lived in a small island surrounded by flowing liquid H2O   Where might he live?\n",
      "answer: mississippi river\n",
      "choices: ['japan', 'hawaii', 'mississippi river', 'pacific ocean', 'body of water']\n",
      "common expl list: ['there are numerous islands in the mississippi river in the united states, making it possible that John may have lived on one.']\n"
     ]
    },
    {
     "name": "stderr",
     "output_type": "stream",
     "text": [
      "\r",
      "  1%|█▊                                                                                                                                                                  | 11/986 [03:06<6:03:51, 22.39s/it]"
     ]
    },
    {
     "name": "stdout",
     "output_type": "stream",
     "text": [
      "generated explanation: <pad> <extra_id_0> John might have lived on an island surrounded by flowing liquid H2O. This is because the island is surrounded by flowing liquid H2O. The island is surrounded by a large body of water, known as the Mississippi River, which flows through the area and is the source of much of the liquid that John would need to survive. The Mississippi River is home to a large number of small islands, many of which are located in the southern part of the state. The islands are often surrounded by flowing liquid H2O, which would be able to survive on an island if the river. The river is a great place to live in the area, and the area, providing a great place for fishing, boating, boat, fishing, and other aquatic life. The Mississippi River is also a great place to enjoy the outdoors, as it is a great place to enjoy the outdoors, and enjoy the outdoors.<extra_id_1> </s>\n",
      "########\n",
      "*******\n",
      "question: What will the student have to do on the test?\n",
      "answer: solve equation\n",
      "choices: ['finish college', 'begin teaching', 'write', 'answer question', 'solve equation']\n",
      "common expl list: ['A student has to solve equations to learn a given theory that is presented in class.']\n"
     ]
    },
    {
     "name": "stderr",
     "output_type": "stream",
     "text": [
      "\r",
      "  1%|█▉                                                                                                                                                                  | 12/986 [03:23<5:36:28, 20.73s/it]"
     ]
    },
    {
     "name": "stdout",
     "output_type": "stream",
     "text": [
      "generated explanation: <pad> <extra_id_0> The student will be asked to solve an equation in order to determine the correct answer. This is done by using a variety of strategies, such as estimating the number of steps in a sequence, and determining the appropriate number of steps to complete the equation. The student will be able to determine the answer to each of the four questions in order to find the correct answer. The student will also need to identify the order of the steps in the sequence. This will help them to understand the concepts being tested and to make sense of the answers. Finally, the student will have to analyze the answers in order to determine the correct answer. The answer to the problem will help the student to answer the right answer to the correct answer in order to answer. The answer to the student will be able to determine the answer to the answer to the correct answer to the answer to the correct answer. The student will have to find the correct answer in the right equation and the correct answer.<extra_id_1> </s>\n",
      "########\n",
      "*******\n",
      "question: The tourists saw what they thought was a statue, but they soon discovered it was performance art went it began what?\n",
      "answer: moving\n",
      "choices: ['growing mold', 'moving', 'accent garden', 'green', 'painting']\n",
      "common expl list: ['Performance art is art that is performed, rather than being a static object. In this case, the statue was moving, which is a sign of performance art.']\n"
     ]
    },
    {
     "name": "stderr",
     "output_type": "stream",
     "text": [
      "\r",
      "  1%|██▏                                                                                                                                                                 | 13/986 [03:31<4:30:54, 16.71s/it]"
     ]
    },
    {
     "name": "stdout",
     "output_type": "stream",
     "text": [
      "generated explanation: <pad> <extra_id_0> The tourists soon discovered that the moving art was performance art. Performance art is art that is created and displayed in a way that is unique and engaging. It is a form of art that is often interpreted in a different way than a statue, such as a painting, sculpture, or other visual art. It is a form of performance art, which is a form of art that is created and displayed by moving objects. The moving objects are created to create a sense of space and time, and are intended to be seen by people. It is also a way to create a sense of movement, which is a sense of time and space, as it.<extra_id_1> </s>\n",
      "########\n",
      "*******\n",
      "question: What is a good way to carry a small dog?\n",
      "answer: backpack\n",
      "choices: ['good hands', 'backpack', 'chinese food', 'grocery bag', 'basket']\n",
      "common expl list: ['Backpacks are a good way to carry things, and small dogs are things.']\n"
     ]
    },
    {
     "name": "stderr",
     "output_type": "stream",
     "text": [
      "\r",
      "  1%|██▎                                                                                                                                                                 | 14/986 [03:56<5:11:40, 19.24s/it]"
     ]
    },
    {
     "name": "stdout",
     "output_type": "stream",
     "text": [
      "generated explanation: <pad> <extra_id_0> A backpack is a great way to carry a small dog because it allows you to carry it in a secure manner. It can be carried comfortably and safely, and it is easy to store your dog. It is also a great way to carry a small dog because it is easy to carry and store. A backpack is a great way to carry a small dog because it is easy to store, organize, and transport your dog. A backpack also allows you to store and transport your dog in a safe and secure manner, making it a great choice for small dogs. A backpack is a great way to carry a small dog safely and security for your pet safe and secure. A backpack is a great way to carry a small dog safely and easy way to carry a small dog safely and easily accessible to be able to find a good way to get a good deal of security when it is important for a small dog in a backpack.<extra_id_1> </s>\n",
      "########\n",
      "*******\n",
      "question: Both sides in World War I used what to cause death that is now banned?\n",
      "answer: poisonous gas\n",
      "choices: ['homicide', 'poisonous gas', 'cyanide', 'nuclear weapons', 'massive weapons']\n",
      "common expl list: ['Poison gas is a chemical known for its ability to kill (therefore, if both sides used it, people on both sides died from its use), and it has since gone on to be outlawed in many countries.']\n"
     ]
    },
    {
     "name": "stderr",
     "output_type": "stream",
     "text": [
      "\r",
      "  2%|██▍                                                                                                                                                                 | 15/986 [04:27<6:10:56, 22.92s/it]"
     ]
    },
    {
     "name": "stdout",
     "output_type": "stream",
     "text": [
      "generated explanation: <pad> <extra_id_0> Both sides in World War I used poisonous gas to cause death. This was due to the fact that poisonous gas was used to cause death. The gas was a byproduct of a chemical reaction that was occurring in the atmosphere, and it could have caused heat stroke, heart attack, and even stroke. It also caused the breathing of the enemy to become uncontrollable, causing the body to contract anaphylactic shock, heart attack, and other serious injuries. The gas also caused a rapid drop of blood, which can cause of any type of poisoning. It was used to cause death, and other weapons. It was also used to cause death, which included in the air, as it could have caused death, which could have been used to cause a variety of other factors that could have been used by the war. The gas was also used to cause of the enemy, and could have been banned in the past. The gas was used to cause death, and other symptoms. It was used to cause death.<extra_id_1> </s>\n",
      "########\n",
      "*******\n",
      "question: Where is disease often spread but shouldn't be?\n",
      "answer: hospital\n",
      "choices: ['ghost town', 'third world country', 'human body', 'rug', 'hospital']\n",
      "common expl list: ['Disease is spread most commonly in hospitals, where sick patients are treated and recovered hosts of disease are found.', 'Hospitals are places where people go to get better, and therefore disease is often spread there.']\n"
     ]
    },
    {
     "name": "stderr",
     "output_type": "stream",
     "text": [
      "\r",
      "  2%|██▋                                                                                                                                                                 | 16/986 [04:33<4:47:55, 17.81s/it]"
     ]
    },
    {
     "name": "stdout",
     "output_type": "stream",
     "text": [
      "generated explanation: <pad> <extra_id_0> In a hospital, disease is often spread because of the environment and the staff. Hospitals are often the first stop for hospitalized patients to seek treatment. This is because hospitals are typically the only place where patients can seek treatment. Hospitals also provide a sense of security and safety, as they are often the first to receive emergency care. Hospitals also provide a safe environment for patients to stay, as they are able to access care quickly and safely. This is because the hospital is the primary place of care for patients and their families. This is why hospitals are often the best way to spread disease.<extra_id_1> </s>\n",
      "########\n",
      "*******\n",
      "question: As things get colder, temperature does what?\n",
      "answer: drop to zero\n",
      "choices: ['increase', 'drop to zero', 'heat up', 'dropping quickly', 'arctic']\n",
      "common expl list: ['As things get colder, they get closer to zero degrees.']\n"
     ]
    },
    {
     "name": "stderr",
     "output_type": "stream",
     "text": [
      "\r",
      "  2%|██▊                                                                                                                                                                 | 17/986 [04:56<5:12:15, 19.33s/it]"
     ]
    },
    {
     "name": "stdout",
     "output_type": "stream",
     "text": [
      "generated explanation: <pad> <extra_id_0> As temperatures get colder, temperature does<extra_id_1> change<extra_id_2> As temperatures drop, temperature changes<extra_id_3> slows down, causing the air to lose its<extra_id_4> vapor<extra_id_5>. The air becomes colder<extra_id_6>, which can lead to<extra_id_7> The air becomes colder, which can lead to<extra_id_8> decreases in<extra_id_9> humidity, which<extra_id_10> the air temperature<extra_id_11> decreases in pressure and temperature. This is because<extra_id_12> air loses<extra_id_13> water and<extra_id_14> vapor. This is because the air loses heat and the oxygen in the air, which is why the air becomes colder. It can also be disturbed by the air around the winter months. This can cause the temperature to drop to zero, which can lead to extremes. The air becomes colder and the air becomes less humidifying the air becomes colder. This can lead to a significant reduction in the air, which can lead to the winter months later in the winter months. This is a resultant that the air becomes colder and less humidifies the colder the air becomes less colder.<extra_id_1> </s>\n",
      "########\n",
      "*******\n",
      "question: Where is one unlikely to get popcorn?\n",
      "answer: soccer game\n",
      "choices: ['restaurant', 'movie house', 'soccer game', 'carnival', 'movie theater']\n",
      "common expl list: ['Soccer games usually lack popcorn machines.', 'Soccer games are usually snacks-free affairs; snacks, including popcorn, tend to be present at more recreational venues, but less so in settings where food is unnecessary because there are translatable goods sellers, i.e., vendors that sell things like popcorn', 'Most soccer games lack concession stands, which are necessary to sell movie theaters popcorn.']\n"
     ]
    },
    {
     "name": "stderr",
     "output_type": "stream",
     "text": [
      "\r",
      "  2%|██▉                                                                                                                                                                 | 18/986 [05:03<4:13:11, 15.69s/it]"
     ]
    },
    {
     "name": "stdout",
     "output_type": "stream",
     "text": [
      "generated explanation: <pad> <extra_id_0> It is unlikely that someone would get popcorn at a soccer game because soccer is a physical activity. Unlike other sports, such as baseball or football, popcorn is not commonly available at a soccer game. This is due to the fact that popcorn is a sweet treat that is usually consumed during a game. In addition, popcorn is not a common ingredient in most popcorns, making it unlikely that anyone would get it at a soccer game. Soccer games are also a great place to get popcorn because of the proximity to other fans, which is often a game. Additionally, popcorn is often not available at a game, so it is likely that the majority of the majority of the game. The fact that popcorn is often consumed during a soccer games is unlikely that popcorn is available at a soccer game is likely to be eaten by the player.<extra_id_1> </s>\n",
      "########\n",
      "*******\n",
      "question: Where are files likely to be hanging?\n",
      "answer: filing cabinet\n",
      "choices: ['filing cabinet', 'tree', 'suitcase', 'computer', 'desk drawer']\n",
      "common expl list: ['Files are likely to be hanging in a filing cabinet, since they are often organized by topic, and filing cabinets are often used to organize files.', 'Filing cabinets are used to store files sometimes; these files can then be found by opening the filing cabinet and looking for hanging folders.']\n"
     ]
    },
    {
     "name": "stderr",
     "output_type": "stream",
     "text": [
      "\r",
      "  2%|███▏                                                                                                                                                                | 19/986 [05:08<3:20:44, 12.46s/it]"
     ]
    },
    {
     "name": "stdout",
     "output_type": "stream",
     "text": [
      "generated explanation: <pad> <extra_id_0> File cabinets are often used to store and organize documents. They are typically made of wood, plastic, or metal, and feature a metal hook to hang files. This hook is typically found in the top of a filing cabinet, usually in the back, behind a file, or in a cabinet in the front. The hook is typically a long, thin piece of wire that hangs from the back of the cabinet, which is typically made of metal or wood. The wires are usually bundled together to form a single unit, and can be easily removed from the cabinet by a file cabinet. The filing cabinet is typically made of metal, making it ideal for storing files in a cabinet.<extra_id_1> </s>\n",
      "########\n",
      "*******\n",
      "question: What is required to go on vacation before anything else?\n",
      "answer: have money\n",
      "choices: ['pack', 'pay bills', 'save money', 'have money', 'reliable car']\n",
      "common expl list: ['Vacations often require the purchase of travel services, such as airline or hotel tickets.']\n"
     ]
    },
    {
     "name": "stderr",
     "output_type": "stream",
     "text": [
      "\r",
      "  2%|███▎                                                                                                                                                                | 20/986 [05:28<3:54:40, 14.58s/it]"
     ]
    },
    {
     "name": "stdout",
     "output_type": "stream",
     "text": [
      "generated explanation: <pad> <extra_id_0> Before going on vacation, it is necessary to have money. Money is needed to pay for things like airfare, hotel accommodations, and other necessities. Money is also needed to pay for any entertainment that is offered, such as shows, movies, and entertainment that is available. Money is also needed to cover the cost of food and entertainment that is provided. Money is also necessary to pay for transportation to and from the vacation destination. Money can also be used to purchase souvenirs, such as souvenirs, art, and souvenirs. Having money also allows you to spend it on vacations. It is also important to have money to pay for the trip. Money is also required to have if you want to make a trip to the destination. Money can be spent on vacation, as it can be used to pay for entertainment or entertainment that is a vacation. Money can also be used to purchase souvenirs or for other trips. Vacations can be used to pay for entertainment or for travel.<extra_id_1> </s>\n",
      "########\n",
      "*******\n",
      "question: The roadway passed a sign and gate house, what was behind the gatehouse?\n",
      "answer: subdivision\n",
      "choices: ['city', 'narnia', 'subdivision', 'neighborhood', 'countryside']\n",
      "common expl list: ['Subdivisions are residential areas that are often gated, and so, if you see a gatehouse, you might be in a subdivision.', 'A subdivision contains houses that formed around it; therefore, a subdivision has a gatehouse that controls who goes in and out.']\n"
     ]
    },
    {
     "name": "stderr",
     "output_type": "stream",
     "text": [
      "\r",
      "  2%|███▍                                                                                                                                                                | 21/986 [05:36<3:23:19, 12.64s/it]"
     ]
    },
    {
     "name": "stdout",
     "output_type": "stream",
     "text": [
      "generated explanation: <pad> <extra_id_0> The subdivision was a residential area that was located behind a sign and gate house. The sign and gate house were located behind the gatehouse, which is located behind a fence. The sign and gate house were located in a rural area of the country, and the gatehouse was located behind a subdivision. The subdivision was located in the town of Longmont, Montana, USA. The subdivision was located behind a gatehouse, which was located behind a sign and gate house. The sign and gate house were located in a rural area, and was designed to provide residents with a sense of security. The gatehouse was designed to provide security for privacy and security. The sign and gatehouse were located in the subdivision. The subdivision was designed to provide a sense of privacy, and security for residents. The sign and gatehouse were clearly identified the property.<extra_id_1> </s>\n",
      "########\n",
      "*******\n",
      "question: The invasive A.I. was designed to scan the crowd, where most saw a mass of humanity the evil machine could pick out each what?\n",
      "answer: individual\n",
      "choices: ['solitary', 'single person', 'few people', 'crowd', 'individual']\n",
      "common expl list: [\"Machine intelligence is better able to find isolated individuals than crowded groups. Machines need to scan a large group of people to be able to find a single person--but when the single person doesn't blend in, it makes them easier to find.\"]\n"
     ]
    },
    {
     "name": "stderr",
     "output_type": "stream",
     "text": [
      "\r",
      "  2%|███▋                                                                                                                                                                | 22/986 [06:20<5:54:52, 22.09s/it]"
     ]
    },
    {
     "name": "stdout",
     "output_type": "stream",
     "text": [
      "generated explanation: <pad> <extra_id_0> The invasive A.I. was designed to scan a mass of humanity, where most saw a mass of humanity, where most saw a crowd, where most saw a mass of humanity. The A.I. was designed to pick out individual humans and identify them based on their characteristics, such as age, gender, and physical characteristics. The machine could then identify the individual individuals based on their physical characteristics, such as their gender, age, and physical characteristics. The machine could then identify the individuals based on their characteristics, based on their personality, personality, or their personality traits, such as their personality, their personality, such as gender, age, gender, or other humans. It could then use its own to identify the A. It could then identify the human population, and then use its abilities, such as gender, such as a person’s gender, and gender. The A.I could then use the machine could then pick out the individual personality of the crowd, and identify the person’s personality. The A. I was designed to find out the crowd, and determine based on the type of the person. The A.I was designed to identify the individual, and I was designed to pick out of the person’s.<extra_id_24> </s>\n",
      "########\n",
      "*******\n",
      "question: Is has been speculated that a aliens could be communicating by doing this?\n",
      "answer: thinking\n",
      "choices: ['effort', 'farting', 'thinking', 'laugh', 'medium']\n",
      "common expl list: ['Aliens could quite possibly be using thought as a way to communicate between themselves.']\n"
     ]
    },
    {
     "name": "stderr",
     "output_type": "stream",
     "text": [
      "\r",
      "  2%|███▊                                                                                                                                                                | 23/986 [06:35<5:22:03, 20.07s/it]"
     ]
    },
    {
     "name": "stdout",
     "output_type": "stream",
     "text": [
      "generated explanation: <pad> <extra_id_0> It has been speculated that aliens are communicating by using this method. This is because it is thought that aliens may be using this method to communicate with one another. This type of communication is often used to communicate with one another in order to gain information or to gain access to information. It is also believed that by using this method, aliens are able to communicate with one another in a way that is both a natural and a technological way. This is because it is believed that aliens are using this method to gain information or even to get to communicate with one another. It is also possible that aliens may also be a way to gain access to other species. This is also because it is also believed that aliens are using this method to communicate with humans, and to gain access to other aliens. This is also used to gain access to other species, and to communicate with one another.<extra_id_1> </s>\n",
      "########\n",
      "*******\n",
      "question: What can occur in fencing if you are not careful?\n",
      "answer: severe injuries\n",
      "choices: ['competition', 'severe injuries', 'fever', 'perspiration', 'small cuts']\n",
      "common expl list: ['The sport of fencing causes people to be hit by weapons, which may cause cuts or other wounds if someone is not careful.', 'Fencing is a sport, which involves hitting your opponent with a sharp piece of metal, which will almost certainly result in some physical pain.', 'Fencing is a sport that involves hitting your opponent with a sword, and if you are not careful, you can get injured.']\n"
     ]
    },
    {
     "name": "stderr",
     "output_type": "stream",
     "text": [
      "\r",
      "  2%|███▉                                                                                                                                                               | 24/986 [07:59<10:29:32, 39.26s/it]"
     ]
    },
    {
     "name": "stdout",
     "output_type": "stream",
     "text": [
      "generated explanation: <pad> <extra_id_0> If you are not careful, you can be subject to severe injuries. Fencing is a sport that is physically demanding, physically demanding, and can be done in a fast and fun way. It is a sport that is often viewed as dangerous, as it can be physically demanding and violent. If you are not careful, you can cause severe injuries. This is because fencing is a sport that requires sustained physical exertion, which can lead to injury. It is important to be as safe as possible, as it is a form of sport. It is important to be as well as it is possible to be as well-intention and is important to avoid injuries. It is important to be kept safe and organized. This can lead to serious injuries. If you are not careful, severe injuries can occur if you are not careful. If you are not careful, you can cause severe injuries. If you are not careful, you can be injuring your safety and may cause severe injuries. If you are not careful, you can cause severe injuries. If you are not careful, you can be in danger and you can cause severe injuries and may cause severe injuries. If you are not careful, you can cause serious injuries and you are vulnerable to serious injuries. If you are not careful, you can cause severe injuries, you may cause severe injuries and you may be unable to take care of your injuries are too careful, you can cause severe injuries. If you are not careful, you can cause severe injuries.<extra_id_1> </s>\n",
      "########\n",
      "*******\n",
      "question: If you stretch out your socks they will then have what kind of fit?\n",
      "answer: loose\n",
      "choices: ['cramped', 'loose', 'contract', 'park', 'compressing']\n",
      "common expl list: ['When stretched out, socks will be loose.']\n"
     ]
    },
    {
     "name": "stderr",
     "output_type": "stream",
     "text": [
      "\r",
      "  3%|████▏                                                                                                                                                               | 25/986 [08:05<7:47:37, 29.20s/it]"
     ]
    },
    {
     "name": "stdout",
     "output_type": "stream",
     "text": [
      "generated explanation: <pad> <extra_id_0> If you stretch out your socks, they will then have a loose fit. This is because socks are designed to be worn at a relaxed fit. By stretching out your socks, the fabric of the socks is able to move freely, allowing them to move freely. This allows the socks to be more comfortable to wear. By stretching out your socks, the fabric of the socks can be able to stretch more, allowing them to have a looser feel. This is because socks are designed to be more breathable, allowing them to move easily, a looser. The stretch of the socks will also help to help to keep your socks looking great looking and feel.<extra_id_1> </s>\n",
      "########\n",
      "*******\n",
      "question: John ran out of pencils.  Where did  he go to get more?\n",
      "answer: office depot\n",
      "choices: ['desk drawer', 'cup', 'pencil case', 'shelf', 'office depot']\n",
      "common expl list: ['John can buy new pencils at an office depot.', 'Office Depot is a company that specializes in office furniture; it also sells pens and pencils.', 'Office Depot is a store that sells office supplies, including pencils.', 'When people need pencils (or pens), they often buy them at office depots.', 'Pencils can be found at an office supply store, e.g., an office depot.']\n"
     ]
    },
    {
     "name": "stderr",
     "output_type": "stream",
     "text": [
      "\r",
      "  3%|████▎                                                                                                                                                               | 26/986 [08:33<7:39:34, 28.72s/it]"
     ]
    },
    {
     "name": "stdout",
     "output_type": "stream",
     "text": [
      "generated explanation: <pad> <extra_id_0> John ran out of pencils at office depot. Office depot is a great place to get pencils. They have a large selection of pencils, so he can find the right one for the job. Office depot has pencils for every occasion, from daily writing to grading papers. John also ran out of erasers and pencils for the first time. John went to office depot because the place was close to home, so he could get more pencils. Office depot also has a wide selection of colored pencils, so he could get more from the store. John also found at office depot, which is a great place to get more pencils for his needs. The pencils also come in a variety of different sizes, so he could get more. Finally, office depot has a variety of pencils, so he can get more writing tools and more. Office depot is a great place to get pen and paper. It is also a great place to get more of the supplies for the necessities.<extra_id_1> </s>\n",
      "########\n",
      "*******\n",
      "question: What does a confident person do?\n",
      "answer: trust himself\n",
      "choices: ['feel important', 'own house', 'trust himself', 'know what time', 'cry']\n",
      "common expl list: ['A confident person is sure of his abilities and the trust in himself/herself to do things or accomplish goals.', 'People whose confidence is high tend to believe themselves more strongly, and so the confident person might believe in their own abilities and do things such as trust themselves.']\n"
     ]
    },
    {
     "name": "stderr",
     "output_type": "stream",
     "text": [
      "\r",
      "  3%|████▍                                                                                                                                                               | 27/986 [08:47<6:31:25, 24.49s/it]"
     ]
    },
    {
     "name": "stdout",
     "output_type": "stream",
     "text": [
      "generated explanation: <pad> <extra_id_0> A confident person will<extra_id_1> A confident person will trust himself and others in the process. Trust is a key component of trusting oneself, as it helps to build self-confidence and to gain the trust of those around them. They can rely on their abilities and knowledge to make sound decisions and make informed decisions. By trusting themselves, the confident person can build a sense of security and confidence in themselves and others. They can also rely on their instincts and knowledge to make sound decisions and act on them without hesitation. They can also a sense of accomplishments and can also be a great help to build relationships and gain knowledge and develop. Trusting oneself can help to build a sense of self-confidence and self-esteem, which can lead to building a sense of self-confidence and self-reliance. Finally, trusting one can help to build a relationship with others and build trust in the process.<extra_id_1> </s>\n",
      "########\n",
      "*******\n",
      "question: James thought that analyzing all the data would help him learn more, but it did not.  It only gave him what?\n",
      "answer: headache\n",
      "choices: ['headache', 'better understanding', 'papercuts', 'enlightened', 'discovering truth']\n",
      "common expl list: ['Analysis requires a lot of thinking with maybe little reward, which can give one a headache.']\n"
     ]
    },
    {
     "name": "stderr",
     "output_type": "stream",
     "text": [
      "\r",
      "  3%|████▋                                                                                                                                                               | 28/986 [08:54<5:04:37, 19.08s/it]"
     ]
    },
    {
     "name": "stdout",
     "output_type": "stream",
     "text": [
      "generated explanation: <pad> <extra_id_0> James thought that analyzing all the data would help him learn more, but it did not. It gave him a headache. James thought that analyzing all the data would help him learn more, but it only gave him headaches. James thought that analyzing all the data would help him learn more, and he was right. However, analyzing all the data did not help him learn more, and it only gave him headaches. James thought that analyzing all the data would help him learn more, but it only gave him headaches. James was frustrated, frustrated, and stressed out. He was left him with headaches. He was also frustrated with his studies revealed that he had already had learned about the data, and he had already been able to understand more about himself.<extra_id_1> </s>\n",
      "########\n",
      "*******\n",
      "question: What makes people happy when it is surprising and unexpected?\n",
      "answer: humor\n",
      "choices: ['joke', 'humor', 'frightened', 'fight', 'laughter']\n",
      "common expl list: ['A surprise is a stimulus that is not generally predicted before exposing it to a subject. It may be surprising things that cause laughter, or unexpected things that people see as funny.']\n"
     ]
    },
    {
     "name": "stderr",
     "output_type": "stream",
     "text": [
      "\r",
      "  3%|████▊                                                                                                                                                              | 29/986 [10:32<11:24:02, 42.89s/it]"
     ]
    },
    {
     "name": "stdout",
     "output_type": "stream",
     "text": [
      "generated explanation: <pad> <extra_id_0> Humor makes people happy when it is unexpected and surprising. It is a way for people to express themselves and make others laugh. It also makes people feel good when they are surprised and unexpected, which is why it is so popular. People enjoy humor because it is a way to express themselves and make others laugh. It also makes people feel good about themselves and makes them feel good about themselves and others. It is a way for people to express themselves and make others laugh. It is a way for people to connect and build relationships. It is a positive, and makes people feel good when people laugh and unexpected things happen. It is a way to make people feel good news and make people feel good mood. It is a way to make people feel good when people feel good times of surprise and unexpected things that they are unexpected and make people feel good when they are unexpected. It is a way for people to feel good when unexpected things happen. It is a way to make people feel good when people are surprised and surprised and unexpected and it makes people feel good to share their feelings and share their stories. It is a way to make people feel good. It is a way for people feel good and makes people feel good. It is a way to make people feel good and makes them feel good. It is also a way to share their own feelings and makes them feel good. It is a way to make people feel good and it makes people feel good. It makes them feel good and makes them feel good because it makes people feel good. It is a way to make people feel good. It makes people feel good when unexpected and unexpected and unexpected. It is a way of sharing.<extra_id_26> </s>\n",
      "########\n",
      "*******\n",
      "question: What is someone who wants a lot of money?\n",
      "answer: greedy\n",
      "choices: ['selfish', 'weird', 'greedy', 'ridiculous', 'hungry']\n",
      "common expl list: ['Greed is defined as \"the desire to obtain something, especially wealth, through selfish means, typically at the expense of others.', 'A person who is greedy wants more things that people typically take for granted, i.e., money, success, etc. This is a lot of stuff.', 'Greed is a strong desire to possess a lot of money; a greedy person therefore wants it a lot.']\n"
     ]
    },
    {
     "name": "stderr",
     "output_type": "stream",
     "text": [
      "\r",
      "  3%|████▉                                                                                                                                                              | 30/986 [11:46<13:52:06, 52.22s/it]"
     ]
    },
    {
     "name": "stdout",
     "output_type": "stream",
     "text": [
      "generated explanation: <pad> <extra_id_0> Someone who wants to have a lot of money is usually greedy because it is a sign of power and powerlessness. Greed is a way of life that is characterized by a desire for money and material possessions. It is a way of life that is characterized by a need to make a lot of money and material possessions. Greed is a way of life that is characterized by an intense need for money and material possessions. Greed is a way of life that is a person who is a lot of money and money. Greed are motivated by their desire for money and power. The greedy person is a way to gain access to money and power that can be a lot of power and power to gain more money than they have to have power and can take advantage of the power to gain access to other resources. Greed money is also a way to gain control over and power. Gree is a way to gain control over others. It is a way of a way to gain control and power. It is a way of a person’s power to gain power and control over others.<extra_id_1> </s>\n",
      "########\n",
      "*******\n",
      "question: Where do you keep a book to read before bed?\n",
      "answer: bedside table\n",
      "choices: ['school room', 'allen key', 'classroom', 'bedside table', 'coffee table']\n",
      "common expl list: ['Bedside tables are where people keep things they use before bed, such as books, glasses, and water.', 'Bedside tables are convenient for keeping things, e.g., a book, reading materials, glasses, etc., that you wish to keep near your bed for regular access; particularly things.']\n"
     ]
    },
    {
     "name": "stderr",
     "output_type": "stream",
     "text": [
      "\r",
      "  3%|█████                                                                                                                                                              | 31/986 [11:53<10:11:52, 38.44s/it]"
     ]
    },
    {
     "name": "stdout",
     "output_type": "stream",
     "text": [
      "generated explanation: <pad> <extra_id_0> A bedside table is a great place to keep a book before bed. It is a place for a book to be placed in a safe and convenient place, such as a bookcase, bookcase, book rack, or book shelf. It is a great place to keep a book while you are reading, as it provides a place to store it safely and easily. It also allows you to easily access it from any location, such as the kitchen, bathroom, or bedroom. This allows you to read a book without having to be easily accessible and easily accessible, and easy to reach. The book can also be placed on the bed, making it easier to read, as well as it is easy to access and easy to find.<extra_id_1> </s>\n",
      "########\n",
      "*******\n",
      "question: Where is a knight likely to be found in the US?\n",
      "answer: chess set\n",
      "choices: ['middle ages', 'chess set', 'historical novel', 'castle', 'guarding the king']\n",
      "common expl list: ['A knight is a piece in the game of chess, which is played on a chess set.']\n"
     ]
    },
    {
     "name": "stderr",
     "output_type": "stream",
     "text": [
      "\r",
      "  3%|█████▎                                                                                                                                                             | 32/986 [12:42<11:05:51, 41.88s/it]"
     ]
    },
    {
     "name": "stdout",
     "output_type": "stream",
     "text": [
      "generated explanation: <pad> <extra_id_0> A chess set is a common place to find a king in the United States. It is a game of chess, and a king is a pawn of a king. Chess sets are also a common form of entertainment, as they are often used to play board games, strategy games, and other board games. They are also a great way to socialize with other players, and to build a sense of community. Chess sets are also a great way to learn about the role of a knight in a game of strategy and tactically. The game can be played in a knight, and the game, and the players of the game of strategy, as they are often the most common place to find a knight in a chess game. The chesstreme to play a chesskn to win. The chess set is a great place to play a knight. The chess set is also a great way to play with the players, and learn to play chess. The US chess the game, as the players are a great way to play a great place to play, and to learn, and to have fun.<extra_id_1> </s>\n",
      "########\n",
      "*******\n",
      "question: Jack saw little point to communicating beyond the basics.  To him, it was just a means to do what?\n",
      "answer: exchange information\n",
      "choices: ['go swimming', 'making friends', 'exchange information', 'people to think', 'confusion']\n",
      "common expl list: [\"Keeping the communication sparse would allow him to conserve energy by speaking less. Since communication is just a means to exchanging information, Jack would not see much 'point', to say, a conversation beyond the basics.\"]\n"
     ]
    },
    {
     "name": "stderr",
     "output_type": "stream",
     "text": [
      "\r",
      "  3%|█████▍                                                                                                                                                              | 33/986 [12:56<8:49:35, 33.34s/it]"
     ]
    },
    {
     "name": "stdout",
     "output_type": "stream",
     "text": [
      "generated explanation: <pad> <extra_id_0> Jack saw little point to communicating beyond the basics because he saw little point to a means of exchanging information. He believed that communication was a means to an end, and that communication was a means to an end. Communication is a means to an end, and that it is a means to an end. It is a means to an end because it is a means to an end. It is a means to an end, and that it is a means to an end. Communication is a means to an end. It is a means to exchange information between two parties. It is a means to exchange information, and to exchange information with one another. It is a means of a means to an end. It is a means of a means to exchange information between two people, and it is a means to an end. Communication is a means to an end.<extra_id_1> </s>\n",
      "########\n",
      "*******\n",
      "question: I as a person don't kill others, why do I not?\n",
      "answer: value life\n",
      "choices: ['experience pleasure', 'laws', 'value life', 'thank god', 'go into debt']\n",
      "common expl list: [\"Someone who does not kill might have a great deal of respect for life; as a person's life is valuable, the opposite is true about the act of taking a life.\"]\n"
     ]
    },
    {
     "name": "stderr",
     "output_type": "stream",
     "text": [
      "\r",
      "  3%|█████▋                                                                                                                                                              | 34/986 [13:21<8:09:17, 30.84s/it]"
     ]
    },
    {
     "name": "stdout",
     "output_type": "stream",
     "text": [
      "generated explanation: <pad> <extra_id_0> I as a person don't kill others because I as a person value life. I value life because it is the source of my own happiness and well-being. I also value the lives of others because it is the only way I can help them. By valuing life, I can ensure that others have a happy and fulfilling life. I can also ensure that others have a safe and healthy environment to live in. By valuing life, I can ensure that others have a better chance of survival and that I am not in the short-terms. I also try to ensure that I am doing my own selfishness and my own good. I do this by taking care about the life of others and for myself. By doing so, I can't harm myself and for others. By putting my own happiness and the world, I can also help others to grow. I can also ensure that I am a good and a better place for myself and that my own happiness and that others can help them reach their own.<extra_id_1> </s>\n",
      "########\n",
      "*******\n",
      "question: What is likely to be a child's reaction to going to play?\n",
      "answer: happiness\n",
      "choices: ['happiness', 'tears', 'sit', 'being entertained', 'laugh']\n",
      "common expl list: ['Children like to play.']\n"
     ]
    },
    {
     "name": "stderr",
     "output_type": "stream",
     "text": [
      "\r",
      "  4%|█████▊                                                                                                                                                              | 35/986 [13:26<6:09:01, 23.28s/it]"
     ]
    },
    {
     "name": "stdout",
     "output_type": "stream",
     "text": [
      "generated explanation: <pad> <extra_id_0> When children go out to play, they are likely to feel happiness because they are having fun and are able to have a good time. Playing can also provide a safe environment for them to play with other children, and it can provide them with a sense of accomplishment and accomplishment. Playing can also provide a sense of accomplishment and accomplishment, as it can provide them with a sense of accomplishment and accomplishment. Playing can also provide a sense of accomplishment and accomplishment, which can be a great source of satisfaction and pride. It can also lead to develop friendships, as well as well as it can provide a positive experience.<extra_id_1> </s>\n",
      "########\n",
      "*******\n",
      "question: Where could you find multiple ruler that are owned by different people?\n",
      "answer: office\n",
      "choices: ['measure distance', 'england', 'office', 'drawer', 'desk']\n",
      "common expl list: ['Office buildings often have rulers.', 'When someone works in an office, even if it is part-time or freelance, they may be required to measure distances e.g., in departments or cubicles, and so, offices are a good place to find ruler.']\n"
     ]
    },
    {
     "name": "stderr",
     "output_type": "stream",
     "text": [
      "\r",
      "  4%|█████▉                                                                                                                                                              | 36/986 [13:46<5:52:31, 22.26s/it]"
     ]
    },
    {
     "name": "stdout",
     "output_type": "stream",
     "text": [
      "generated explanation: <pad> <extra_id_0> Offices are the most common place to find multiple rulers that are owned by different people. Offices are typically located in a building or building complex, and each office has its own ruler. Offices are typically located in a central location, so there is ample supply of rulers for employees to use. Offices also have a variety of different types of furniture, such as desks, chairs, shelves, and desks. Offices also have a variety of different types of furniture, such as chairs, desks, and chairs. Additionally, there are many different rulers, which makes them easier to use. This is also the easiest way to find multiple rulers because they are easily accessible and can be used by employees. Furthermore, the office is a central location, which makes it easy to find multiple rulers that can be easily accessible from multiples. Additionally, the office is the most common place to find multiple rulers that are owned by different people.<extra_id_1> </s>\n",
      "########\n",
      "*******\n",
      "question: When remembering you referencing things that you have what?\n",
      "answer: prior knowledge of\n",
      "choices: ['memory cells', 'learning about', 'prior knowledge of', 'brain cells', 'nerve cells']\n",
      "common expl list: ['Most of the things a person knows come from learning in the past and usually have some recollection involved.']\n"
     ]
    },
    {
     "name": "stderr",
     "output_type": "stream",
     "text": [
      "\r",
      "  4%|██████▏                                                                                                                                                             | 37/986 [14:01<5:16:30, 20.01s/it]"
     ]
    },
    {
     "name": "stdout",
     "output_type": "stream",
     "text": [
      "generated explanation: <pad> <extra_id_0> You can refer to things that you have prior knowledge of because prior knowledge is what you have when referencing things. This knowledge can include prior knowledge of the subject, the subject matter, and the context in which it is presented. This knowledge can be used to help you make decisions and plan for the future. Prior knowledge can also be used to help you make decisions based on the information you have already learned. This knowledge can help you make decisions in the future. This knowledge can help you make decisions based on the information you have already made in the moment. For example, you have taken into account the future events that could have occurred, or even after you have had previously taken a certain situations, or events. This knowledge can help you remember things you have already done in the past. This can help you make decisions and make better decisions. This can also help you remember the things that you have already made decisions and to make decisions.<extra_id_1> </s>\n",
      "########\n",
      "*******\n",
      "question: After running twenty six miles he felt like he had lost twenty six pounds, this was from all the what?\n",
      "answer: sweat\n",
      "choices: ['exercise', 'sweat', 'pass out', 'collapse', 'drink water']\n",
      "common expl list: ['Sweating is a way to cool down the body, and so after running for a long time, a person might sweat a lot.']\n"
     ]
    },
    {
     "name": "stderr",
     "output_type": "stream",
     "text": [
      "\r",
      "  4%|██████▎                                                                                                                                                             | 38/986 [14:30<5:57:48, 22.65s/it]"
     ]
    },
    {
     "name": "stdout",
     "output_type": "stream",
     "text": [
      "generated explanation: <pad> <extra_id_0> After running twenty six miles, a person will likely feel like they have lost twenty six pounds because of sweat. This is because sweat is the body’s natural detoxifier, which helps to increase circulating energy throughout the body, which helps to burn calories and to help with weight loss. In addition, sweat can also help to reduce body fat, which can help to prevent the formation of new fat cells that can lead to fat storage and breakdown, making it easier to burn calories and reducing body fat. This can lead to a reduction in body, which can help to help to maintain a healthy body weight loss by working with the body. It also helps to keep calories intake of sweat helps to help to keep the body cool down, which helps to keep up the sweat production, which can help to keep it ensuring that it is always there is plenty of sweat to help to keep the body and to lose weight as it is a natural process, which helps to help to maintain a healthy body’s natural process.<extra_id_1> </s>\n",
      "########\n",
      "*******\n",
      "question: In what western sate might one find a bald eagle?\n",
      "answer: colorado\n",
      "choices: ['captivity', 'colorado', 'zoo', 'canada', 'in washington']\n",
      "common expl list: ['Eagles are native to the western United States, and Colorado is a western state.']\n"
     ]
    },
    {
     "name": "stderr",
     "output_type": "stream",
     "text": [
      "\r",
      "  4%|██████▍                                                                                                                                                             | 39/986 [15:01<6:35:17, 25.04s/it]"
     ]
    },
    {
     "name": "stdout",
     "output_type": "stream",
     "text": [
      "generated explanation: <pad> <extra_id_0> The bald eagle is found in the western United States, primarily in the state of Colorado. It is found in the mountains, deserts, and plains, and is a symbol of strength and courage. It is also a species of vulture that is threatened by hunting and entanglement. Balagles are found in a wide variety of habitats, including rocky cliffs, wetlands, and forests. Bald eagles can be seen in the winter months due to the calagles are often found in the wild in the wild in the summer months of the year-tip of the engles. Bald eagles can be found in the summer months and in the winter months of the eagle's nest in the s enchants. Bald egles can be found in agle in the spring and fall season. Bald eagle can be found in the winter in the winter season.<extra_id_1> </s>\n",
      "########\n",
      "*******\n",
      "question: When a retired person returns to work they likely need to do what?\n",
      "answer: earn money\n",
      "choices: ['key', 'earn money', 'get out of bed', 'need money', 'understand themselves']\n",
      "common expl list: ['When a person is retired, they probably are not making enough money through a pension benefit to support themselves after retirement, so they work again, perhaps full-time, in order to have enough money.(money key)']\n"
     ]
    },
    {
     "name": "stderr",
     "output_type": "stream",
     "text": [
      "\r",
      "  4%|██████▋                                                                                                                                                             | 40/986 [15:46<8:09:35, 31.05s/it]"
     ]
    },
    {
     "name": "stdout",
     "output_type": "stream",
     "text": [
      "generated explanation: <pad> <extra_id_0> When a retired person returns to work they likely have to earn money. Earning money typically means earning money for a company or organization, such as a bank or credit union. Earning money can also be earned through volunteering, teaching, or other forms of work. This can be done through teaching, volunteering, or other forms of volunteer work. Earning money can also be earned through earning a salary or commissions. Earning money can also be earned through a variety of other activities, such as gardening, painting, or even performing a variety of other activities. This can be a great way to earn money for the retirement. Earning money is a great way to earn money and retireedoo earn money can help a person stay in the house or retirement. Earning money can help a person retireedo earn enough to buy groceries, or other activities, or even when they are not in the retirement. Earning money can also be used to help with any other financial needs, such as insurance, or other activities, such as, or other forms of work.<extra_id_1> </s>\n",
      "########\n",
      "*******\n",
      "question: What can be the result of meeting people with similar attitudes?\n",
      "answer: making new friends\n",
      "choices: ['anxiety', 'being bored', 'love', 'making new friends', 'new job']\n",
      "common expl list: ['People with similar interests are likely to be friends, or familiars to each other, having many opportunities to meet each other and have things in common to discuss.', \"Friends often share some interests and/or attitudes, and when someone meets people with similar attires, that's a good indicator they might be good candidates for becoming friends.\"]\n"
     ]
    },
    {
     "name": "stderr",
     "output_type": "stream",
     "text": [
      "\r",
      "  4%|██████▊                                                                                                                                                             | 41/986 [15:51<6:07:56, 23.36s/it]"
     ]
    },
    {
     "name": "stdout",
     "output_type": "stream",
     "text": [
      "generated explanation: <pad> <extra_id_0> Making new friends is a great way to meet people with similar attitudes and interests. It can be a great way to build a community of people who enjoy the same activities, hobbies, and social activities that you do. People can also make new friends by sharing interests, interests, and hobbies. This can help to build a stronger network of people and can also help you to find a partner or a job that will help you to achieve your goals. People with similar values and beliefs can also be attracted to each other because they are more comfortable with people and feel comfortable with each other, and can share stories. This can help to make new friends and can lead to friendships. It can also lead to a stronger bond, which can lead to a greater sense of connection and can lead to a positive and can help to develop.<extra_id_1> </s>\n",
      "########\n",
      "*******\n",
      "question: Danny noticed a ceramic object on the table and picked a grape out of it.  What might have been on the table?\n",
      "answer: bowl of fruit\n",
      "choices: ['kitchen', 'painting of fruits', 'fruit basket', 'bowl of fruit', 'fruit stand']\n",
      "common expl list: ['A bowl of fruit is an appropriate item to put on a table, as it can hold many kinds of fruit.']\n"
     ]
    },
    {
     "name": "stderr",
     "output_type": "stream",
     "text": [
      "\r",
      "  4%|██████▉                                                                                                                                                             | 42/986 [16:30<7:23:11, 28.17s/it]"
     ]
    },
    {
     "name": "stdout",
     "output_type": "stream",
     "text": [
      "generated explanation: <pad> <extra_id_0> Danny picked a grape from a bowl of fruit on the table. The fruit was picked from a bowl made of ceramic, which is a common kitchen item. The grape was picked from a bowl made of ceramic, which is a common kitchen item. The grape was picked from a bowl made of ceramic, which is a popular choice for serving fresh fruit. The bowl is usually made of ceramic, which is a great option for serving fresh fruit, as it is easy to clean and maintain. The fruit is usually small, so it was easy to pick up, making it easy to pick a fresh grapes from the table. The bowl of fruit is a great way to pick up the grapes, as it can be used to use, as a great way to display a fruit, as it can be used to a fruit, as it can be used to serve as a variety of different types of different colors depending on the grape. The fruit is also a great way to create a memorable moment for a lasting impression.<extra_id_1> </s>\n",
      "########\n",
      "*******\n",
      "question: The nose dipped and alarms went off inside the what?\n",
      "answer: aircraft\n",
      "choices: ['car', 'sniff', 'aircraft', 'upper respiratory tract', 'missile']\n",
      "common expl list: ['The nose dips and alarms go off inside the cockpit of an aircraft when the nose of the aircraft dips too low.']\n"
     ]
    },
    {
     "name": "stderr",
     "output_type": "stream",
     "text": [
      "\r",
      "  4%|███████                                                                                                                                                            | 43/986 [18:35<14:57:46, 57.12s/it]"
     ]
    },
    {
     "name": "stdout",
     "output_type": "stream",
     "text": [
      "generated explanation: <pad> <extra_id_0> The aircraft dipped when the nose was lifted and the alarms went off. The aircraft was in flight and the aircraft was able to register a low pitch before it could take off. This allowed the pilot to react quickly and accurately to the situation, and the aircraft was able to avoid a collision. The nose dipped when the aircraft was lifted and the aircraft began to take off. The aircraft was able to land safely and the alarms were able to be heard inside the aircraft. The nose dipped when the aircraft, and the radar, and radar signals. The aircraft was able to detect the ground and to send out to the pilot. The nose dipped when the plane was a signal, which was sent out to the pilot and the aircraft’s radio transmitters to warn of the situation. The alarms were able to detect the pilot and to warn the aircraft of the aircraft was in flight. The alarms were sent out of the aircraft and the radar were able to warn the pilot of the aircraft when the aircraft. The nose dipped when the radar signals were activated by the radar, and the aircraft was able to detect the radar signals. The aircraft was able to warn<extra_id_27> for the aircraft was in flight, and the pilots were able to warn the pilot and alerted. The nose dipped when the aircraft was averted, and the radar signals were sent inside the aircraft before it was a warning. The nose dipped and the radar was a warning before it was clear that the warning. The radar was in flight, and the radar signals were sent out, and the aircraft was then followed by the radio signals and the radar. The aircraft was able to warn the a panicked before it was able to warn the a panic<extra_id_27> </s>\n",
      "########\n",
      "*******\n",
      "question: Where is a cord likely to be on a tent?\n",
      "answer: sporting goods store\n",
      "choices: ['inside tent', 'delivery room', 'hardware store', 'backpack', 'sporting goods store']\n",
      "common expl list: ['Sporting goods stores likely have tents on display which generally come with their cords.']\n"
     ]
    },
    {
     "name": "stderr",
     "output_type": "stream",
     "text": [
      "\r",
      "  4%|███████▎                                                                                                                                                           | 44/986 [19:17<13:44:45, 52.53s/it]"
     ]
    },
    {
     "name": "stdout",
     "output_type": "stream",
     "text": [
      "generated explanation: <pad> <extra_id_0> A cord is likely to be found on a tent at a sporting goods store. It is typically used to connect a tent to a roof, which is typically a flat surface. This is because a tent is typically made up of several sections, such as a bed, a floor, and a roof. It is also used to help prevent the tent from slipping, and to provide additional support for the tent when it is in use. A tent also needs to be able to provide adequate ventilation, so a tent may need to provide the tent with a high-quality, which is often found in stores. Finally, a camping store can provide a variety of options for tents, including a roof, and other features, such as a few pieces of equipment, such as a tent, such as a tent, such as a tent, a a tent, or a a tent, and a great investment in the tent. A sporting goods store is a great place to find the right size of a tent and size.<extra_id_1> </s>\n",
      "########\n",
      "*******\n",
      "question: The man reduced the town to rubble out of hate, what was his goal?\n",
      "answer: destroy enemy\n",
      "choices: ['wage war', 'play nice', 'fight enemy', 'stab to death', 'destroy enemy']\n",
      "common expl list: ['someone who is completely obsessed with destroying an enemy (going so far as to want them completely obliterated from existance) is not a person who is playing nice.']\n"
     ]
    },
    {
     "name": "stderr",
     "output_type": "stream",
     "text": [
      "\r",
      "  5%|███████▍                                                                                                                                                           | 45/986 [19:49<12:07:56, 46.41s/it]"
     ]
    },
    {
     "name": "stdout",
     "output_type": "stream",
     "text": [
      "generated explanation: <pad> <extra_id_0> The man destroyed the town out of hate. He destroyed the town out of hate, in order to destroy the enemy and gain control of the town. By destroying the town, he was able to gain control over the town and gain control of the area. He was able to make a lasting impression on the town and its residents, as well as the enemy. He was able to create a scene that was both destructive and aesthetically pleasing, as the destruction was done with a sense of humor and a sense of accomplishment. The man was able to create a scene and a scene of the town, as he created a scene of his hate. He was able to create a sense of a sense of satisfaction and anger and destroy the town. He was able to create a sense of a sense of a sense of belonging and a sense of power and a sense of control over the town and control of the town and gain control over the town, and the town.<extra_id_1> </s>\n",
      "########\n",
      "*******\n",
      "question: The toddler thought it would be fun to try eating breakfast in bed, what resulted?\n",
      "answer: mess\n",
      "choices: ['contentment', 'indigestion', 'vomiting', 'mess', 'catastrophe']\n",
      "common expl list: [\"Toddlers have poor coordination.  Even if they could somehow manage to not fall off the bed, it's likely that they would spill the food that they took with them to bed.  A mess would be made.\", \"Toddlers like to explore and test their own boundaries. They often don't know their limits, and it's common for their behavior to result in a mess. In the toddler's case, it involved getting breakfast on the bed due to his inexperience\"]\n"
     ]
    },
    {
     "name": "stderr",
     "output_type": "stream",
     "text": [
      "\r",
      "  5%|███████▌                                                                                                                                                           | 46/986 [20:29<11:36:35, 44.46s/it]"
     ]
    },
    {
     "name": "stdout",
     "output_type": "stream",
     "text": [
      "generated explanation: <pad> <extra_id_0> The toddler thought it was fun to try eating breakfast in bed because it was so close to the bathroom. The bathroom is usually close to the bed, so it is usually quiet and quiet. It is also a great place to watch the television and have a cup of tea or coffee. The toddler may have also been distracted by other children and was able to get away with eating breakfast in bed, but it was still a lot of fun. The mess from eating breakfast in bed can be very messy, especially if it is hot and steamy. It is a mess when eating breakfast in the morning, which can lead to mess. The mess can lead to accidents and other children making mess, which can lead to accidents. The mess can be very messy and the toddler may have been a fun activity that the toddler thought it was fun to try eating breakfast in bed, and the toddler may have been able to eat breakfast in bed, which can lead to a mess. The mess can lead to a messy breakfast in bed, which is a great way to entertain the toddler and it was a great idea for the toddler to try eating in bed.<extra_id_1> </s>\n",
      "########\n",
      "*******\n",
      "question: He had a hard time getting his father's attention, he hoped that the winning baseball game would finally get him some what?\n",
      "answer: recognition\n",
      "choices: ['confirmation', 'celebrating', 'pride', 'recognition', 'happiness']\n",
      "common expl list: ['One way to gain recognition from ones parents is by accomplishing things that they value. For example, children might hope to make their parents proud of them by excelling at sports.']\n"
     ]
    },
    {
     "name": "stderr",
     "output_type": "stream",
     "text": [
      "\r",
      "  5%|███████▊                                                                                                                                                           | 47/986 [20:56<10:13:53, 39.23s/it]"
     ]
    },
    {
     "name": "stdout",
     "output_type": "stream",
     "text": [
      "generated explanation: <pad> <extra_id_0> He was able to get his father's attention because the winning baseball game had been the perfect opportunity to finally get his attention. Recognition is a powerful tool that can be used to get parents' attention. It can be used to get a child to make a decision or to show them a special gift that will make them feel special and appreciated. It can also be used to show appreciation for others and to show appreciation for their contributions to the community. Recognition can also be used to show appreciation for one's own achievements and talents. For example, if a child can show his father's appreciation for his accomplishments and the winning baseball game. Finally, he could use the win to get his father's attention and to show his father's appreciation for his achievements and to help him gain his father's attention and to get his attention. It can also help to get his father's attention and to become more aware of his accomplishments and appreciation for his achievements. Recognition can also help to get his family members involved in the world.<extra_id_1> </s>\n",
      "########\n",
      "*******\n",
      "question: The toddler is awaking from a nap, what doesn't he feel anymore?\n",
      "answer: tiredness\n",
      "choices: ['nervous', 'eyes opening', 'getting out of bed', 'tiredness', 'discomfort']\n",
      "common expl list: ['Children can easily get tired at their ontervall and a nap is an effective way for them to get over tiredness. Then when they wake up, they do not feel tiredness any longer.']\n"
     ]
    },
    {
     "name": "stderr",
     "output_type": "stream",
     "text": [
      "\r",
      "  5%|███████▉                                                                                                                                                            | 48/986 [21:03<7:44:28, 29.71s/it]"
     ]
    },
    {
     "name": "stdout",
     "output_type": "stream",
     "text": [
      "generated explanation: <pad> <extra_id_0> The toddler is awaking from a nap, and he is likely to feel tired. This is because he has been sleeping for a short period of time, and this can lead to a feeling of tiredness. This can be due to the fact that the toddler is unable to process the sensation of awaking, and the sensation of awaking is more intense than if he was just waking up. This can lead to a feeling of being unable to focus and focus, which can lead to if the toddler is feeling tired, it is due to the toddler waking from awaking up, which can be a wakefulful day. The toddler can also feel tiredness due to the way he is not able to process of awaking up and awaking can lead to a feeling of tiredness.<extra_id_1> </s>\n",
      "########\n",
      "*******\n",
      "question: John listened to music when he needed to focus.  It helped him achieve what?\n",
      "answer: quiet mind\n",
      "choices: ['express emotion', 'beautifull', 'irritate', 'bad environment', 'quiet mind']\n",
      "common expl list: ['Music can, at the very least, provide passive background noise as one works to help one focus. More specifically, music might have positive, uplifting or emotional qualities that are conducive to focus and concentration.', \"When one is trying to focus on a task, it's common to listen to music to help one focus.\", \"There's scientific evidence that listening to music can help people think better and concentrate easier.\"]\n"
     ]
    },
    {
     "name": "stderr",
     "output_type": "stream",
     "text": [
      "\r",
      "  5%|████████▏                                                                                                                                                           | 49/986 [21:11<6:00:35, 23.09s/it]"
     ]
    },
    {
     "name": "stdout",
     "output_type": "stream",
     "text": [
      "generated explanation: <pad> <extra_id_0> John listened to music when he needed to focus. Music helps to focus the mind and relax the body and mind. It also helps to reduce stress and anxiety. Music also helps to calm the mind and help to focus the mind. Music helps to focus the mind and relax the body. It also helps to focus the mind and focus the body to achieve a higher level of focus. John also found that listening to music helped him to relax and focus, which is a crucial part of a healthy lifestyle. He also found that listening to music can help to focus the mind to help him to focus and focus. He was able to focus and focus better focus his attention and focus. Music helps to focus and focus the mind and helps to focus the mind. By providing a quiet mind, music, John found that listening to music can help him to focus and focus.<extra_id_1> </s>\n",
      "########\n",
      "*******\n",
      "question: If I were to suffer from sudden illness I would be within reason to visit where?\n",
      "answer: hospital\n",
      "choices: ['nursing home', 'hospital', 'brain', 'elderly person', 'building']\n",
      "common expl list: ['Anyone can suffer a sudden illness, but hospitals are where the equipment and personnel exist to deal with sudden illnesses.', 'If you were suddenly suffering an illness, it would be a reasonable thing to go to the hospital for treatment of that illness.', 'A hospital is a place where people go to receive treatment for illnesses.', 'A hospital is a center for treatment and care of those suffering from illness.']\n"
     ]
    },
    {
     "name": "stderr",
     "output_type": "stream",
     "text": [
      "\r",
      "  5%|████████▎                                                                                                                                                           | 50/986 [21:39<6:23:34, 24.59s/it]"
     ]
    },
    {
     "name": "stdout",
     "output_type": "stream",
     "text": [
      "generated explanation: <pad> <extra_id_0> If I am in a sudden illness, I would visit a hospital. Hospitals are a place of safety and security, where patients can be treated quickly and with the utmost care. They are equipped with the latest medical technology, and can provide the best care possible. Hospitals also offer 24-hour monitoring and treatment, which can be tailored to the individual's needs. Hospitals also offer a wide range of services, including emergency rooms, diagnostic services, and other medical services. Hospitals also offer a wide range of services, such as a sudden illness, such as blood, a patient, and emergency situations. In addition, hospitals are a great place of safety, and security. They are also a great source of care, and care, which is important for the patient's health care. This is a place of safety, and comfort, as well as it is a place of security. In addition, hospitals are a great place of care and can be a place to get treatment and care.<extra_id_1> </s>\n",
      "########\n",
      "*******\n",
      "question: John kept standing up.  He was afraid that if he were sitting down he might do something. What might he be afraid of?\n",
      "answer: fall asleep\n",
      "choices: ['fall asleep', 'being supported on chair', 'comfort', 'clowns', 'flatulence']\n",
      "common expl list: ['When standing, the chances of falling asleep abruptly would be much less (assuming that one is awake).', 'Sitting down makes one comfortable; sitting down with eyes closed makes one fall asleep.']\n"
     ]
    },
    {
     "name": "stderr",
     "output_type": "stream",
     "text": [
      "\r",
      "  5%|████████▍                                                                                                                                                           | 51/986 [22:00<6:06:22, 23.51s/it]"
     ]
    },
    {
     "name": "stdout",
     "output_type": "stream",
     "text": [
      "generated explanation: <pad> <extra_id_0> John was afraid that if he started sitting down he might do something. Falling asleep is a sign that we are not in a state of consciousness. We are in a state of awareness, and we are able to recognize when we are in a state of consciousness. We can also use sleep to guide us in our daily lives, and by doing so we can prevent our bodies from becoming overly active and consuming too much of our energy. Falling asleep is a sign that we are not in a state. It is also important to have a healthy lifestyle, as it helps to prevent injuries from accidents, and prevents us from falling asleep. It is also important to have a good habit, and to avoid situations, and to avoid distractions. Lastly, John is concerned that he might fall asleep if he stops standing up, and stop standing up, and stop talking to stay alert and focus, and stop thinking about the future.<extra_id_1> </s>\n",
      "########\n",
      "*******\n",
      "question: He didn't know that good things can be posion in large doses.  He thought that he was just eating an essential what?\n",
      "answer: nutrient\n",
      "choices: ['antidote', 'consumable', 'nutrient', 'vitamin', 'medicine']\n",
      "common expl list: ['He thought that he was just eating an essential nutrient, but in large doses, it could be poisonous.']\n"
     ]
    },
    {
     "name": "stderr",
     "output_type": "stream",
     "text": [
      "\r",
      "  5%|████████▋                                                                                                                                                           | 52/986 [22:08<4:52:35, 18.80s/it]"
     ]
    },
    {
     "name": "stdout",
     "output_type": "stream",
     "text": [
      "generated explanation: <pad> <extra_id_0> He thought that good things can be posioned in large doses because they are essential nutrients. These nutrients are the building blocks of our bodies and are essential to our daily functioning. Eating a balanced diet is essential for a healthy body, and the right amount of these nutrients is essential for our health. Eating a healthy diet is the first step to a healthy lifestyle, and a healthy diet is the key to a healthy body. Eating a balanced diet is essential for a healthy lifestyle, and eating a healthy weight loss can lead to a healthy body composition. Healthy people are getting enough of these nutrients in large doses of their daily needs. He may have been eating a healthy body's natural nutrients, but he may not realize that the body needs of many different nutrients.<extra_id_1> </s>\n",
      "########\n",
      "*******\n",
      "question: The police didn't pay any favors, their job was to what?\n",
      "answer: force law\n",
      "choices: ['force law', 'board vessels', 'arrest', 'arm weapons', 'direct traffic']\n",
      "common expl list: ['Police are usually tasked with upholding the law, and if they see a law being broken they will intervene (forceful intervention); moreover, they also coordinate with other officers (direct traffic and board vessels). These activities do not involve favors.']\n"
     ]
    },
    {
     "name": "stderr",
     "output_type": "stream",
     "text": [
      "\r",
      "  5%|████████▊                                                                                                                                                           | 53/986 [22:31<5:12:04, 20.07s/it]"
     ]
    },
    {
     "name": "stdout",
     "output_type": "stream",
     "text": [
      "generated explanation: <pad> <extra_id_0> The police are trained to use force to ensure that the law is followed. This is because the police are trained to use force to ensure that the public is protected. The police are also trained to use force to prevent the public from being able to make a decision that will affect their own lives. By using force, the police are able to prevent a situation from occurring, allowing them to take the necessary steps to ensure that the situation is dealt with appropriately. The force law also allows the police to make arrests and convictions without the a person can get a reward or punishment. The police are trained to use force to use in order to ensure that the public safety and that the public is not a fair and that the public is being treated with respect and respect. The law also allows the police to take action, which is why they are trained to use force is a way to ensure that the public is taken to ensure that the public safety and that the public safety.<extra_id_1> </s>\n",
      "########\n",
      "*******\n",
      "question: The place specialized in colorful arrangements, but the also had a toy balloon or two where?\n",
      "answer: flower shop\n",
      "choices: ['see work', 'birthday party', 'flower shop', 'parade', 'toy store']\n",
      "common expl list: ['Batches of balloons are available at flower shops, where floral arrangements are sold, and rainbow contruction paper is usually found in art shops and classrooms.', 'Flower shops sell interesting arrangements made with colorful flowers.']\n"
     ]
    },
    {
     "name": "stderr",
     "output_type": "stream",
     "text": [
      "\r",
      "  5%|████████▉                                                                                                                                                           | 54/986 [22:43<4:33:31, 17.61s/it]"
     ]
    },
    {
     "name": "stdout",
     "output_type": "stream",
     "text": [
      "generated explanation: <pad> <extra_id_0> A flower shop is a place that specializes in colorful arrangements. The place usually has colorful arrangements, but the place also had a toy balloon or two or three. Flowers are a great way to bring a person together in a festive atmosphere. Flowers are also a great way to add a little fun to a holiday party. Flowers are a great way to add a little fun to a party. Flowers are a great way to bring a person together and bring a sense of unity. They can also be a great place toy balloons toy. The flower shop also has a toy balloons for kids toy balloons and other toys and other fun. The place also had a large toy balloons and other toys such as balloons. The place had a large selection of colorful arrangements and toy balloons.<extra_id_1> </s>\n",
      "########\n",
      "*******\n",
      "question: Where was there never any mammoth?\n",
      "answer: zoo\n",
      "choices: ['wild', 'north dakota', 'forest', 'movie', 'zoo']\n",
      "common expl list: ['Mammoths are extinct, and zoos are places where animals are kept for observation and study.']\n"
     ]
    },
    {
     "name": "stderr",
     "output_type": "stream",
     "text": [
      "\r",
      "  6%|█████████▏                                                                                                                                                          | 55/986 [22:49<3:39:02, 14.12s/it]"
     ]
    },
    {
     "name": "stdout",
     "output_type": "stream",
     "text": [
      "generated explanation: <pad> <extra_id_0> Mammoths are omnipresent in zoos, which are a common place to see them. Zoos are usually a large, enclosed area that is protected from the elements, making them difficult for predators to get to. This makes it difficult for them to get to know the animals and their surroundings. Zoos also contain a wide variety of animals, such as birds, reptiles, and reptiles that are not native to the area. Zoos also contain animals that are naturally abundant in food sources, such as aths, such as their food, a variety of habitat, and their natural habitat. Zoos also provide a safe place for them to visit.<extra_id_1> </s>\n",
      "########\n",
      "*******\n",
      "question: Why do most people engage in chatting with friends?\n",
      "answer: fun\n",
      "choices: ['fun', 'love', 'answers', 'inspiration', 'relaxation']\n",
      "common expl list: ['Chats with friends are often fun, and thus people engage in them for that reason.']\n"
     ]
    },
    {
     "name": "stderr",
     "output_type": "stream",
     "text": [
      "\r",
      "  6%|█████████▎                                                                                                                                                          | 56/986 [22:55<3:01:52, 11.73s/it]"
     ]
    },
    {
     "name": "stdout",
     "output_type": "stream",
     "text": [
      "generated explanation: <pad> <extra_id_0> Chatting with friends is a fun activity that can be used to make new friends and to share experiences. It can be used to make new friends, share experiences, or to simply have fun. It can be a way to make new connections, and it can be a way to connect with people from different walks of life. Chatting with friends is a great way to make new friends, and it can be a way to make new friends. It can be a way to have fun, and it can be a way to make new people, or to make new friends. It can be used to make new friends, or to make new friends. It can also be a way to make new friends, and to make new friends.<extra_id_1> </s>\n",
      "########\n",
      "*******\n",
      "question: What could happen after discovering truth that you did not want to know?\n",
      "answer: pain\n",
      "choices: ['pain', 'relief', 'grey hair', 'understanding', 'enlightenment']\n",
      "common expl list: ['Truth can be painful, and discovering it can cause pain.']\n"
     ]
    },
    {
     "name": "stderr",
     "output_type": "stream",
     "text": [
      "\r",
      "  6%|█████████▍                                                                                                                                                          | 57/986 [23:28<4:38:41, 18.00s/it]"
     ]
    },
    {
     "name": "stdout",
     "output_type": "stream",
     "text": [
      "generated explanation: <pad> <extra_id_0> After discovering truth that you do not want to know, you may experience pain. Pain can be a direct result of the discovery of truth that you did not want to know. This pain can be a result of trauma, illness, or even a physical injury. It can be a feeling of being alone, feeling overwhelmed, or even a sense of being alone. It can be a feeling of being overwhelmed, or of being overwhelmed by the information you have been given. It can be a feeling of overwhelming sadness, a sense of being in pain, or even exist. It can cause physical pain, or emotional distress, or emotional distress, which can cause you to others. It can cause physical pain, emotional or psychological distress, or emotional or emotional distress, or even psychological pain. It can also be a result of the discovery of the person being in pain, or being alone, which can cause physical and emotional pain. It can lead to physical and emotional pain, and emotional pain, physical or emotional pain. It can also be a feeling of being alone, or of being in pain.<extra_id_1> </s>\n",
      "########\n",
      "*******\n",
      "question: What will an athlete do to warm up their legs?\n",
      "answer: jog\n",
      "choices: ['use heater', 'sprint', 'jog', 'run fast', 'compete']\n",
      "common expl list: ['When athletes warm up before swimming, running, riding a bike, or performing other physical activity, they generally will jog (which will help them loosen muscles in the legs).', 'warming up is a routine that is performed to either prepare for doing something new, or prepare for doing something which put strains on you, or which you have been out of practice doing.']\n"
     ]
    },
    {
     "name": "stderr",
     "output_type": "stream",
     "text": [
      "\r",
      "  6%|█████████▋                                                                                                                                                          | 58/986 [23:43<4:24:54, 17.13s/it]"
     ]
    },
    {
     "name": "stdout",
     "output_type": "stream",
     "text": [
      "generated explanation: <pad> <extra_id_0> An athlete will jog to warm up their legs. Jogging is a great way to get the blood flowing and to warm up the muscles that are used during athletic activities. It is a great way to get your heart rate up and your heart rate going as well as to get some exercise. Jogging is a great way to get your heart rate up and to get your blood flowing. It is a great way to get your heart rate up and your blood flowing. It is also a great way to build strength and to improve your cardiovascular fitness. It is also a great way to get started. The jog is a great way to get your heart rate and to warm up. Jogging is a great way to get your muscles a little bit of exercise before competing in a game. It is a great way to get some of blood flowing and to increase your endurance. Jogg</s>\n",
      "########\n",
      "*******\n",
      "question: Where can you keep your binder on your person between periods of instruction?\n",
      "answer: backpack\n",
      "choices: ['class room', 'car', 'office supply store', 'backpack', 'bookcase']\n",
      "common expl list: ['Usually binder users carry their binders from class to class outside of the classroom. Backpacks are often convenient, and are large enough to hold the binder.']\n"
     ]
    },
    {
     "name": "stderr",
     "output_type": "stream",
     "text": [
      "\r",
      "  6%|█████████▊                                                                                                                                                          | 59/986 [23:49<3:32:13, 13.74s/it]"
     ]
    },
    {
     "name": "stdout",
     "output_type": "stream",
     "text": [
      "generated explanation: <pad> <extra_id_0> A backpack is a great place to keep your binder between periods of instruction. It can be carried in a backpack, briefcase, or purse, depending on the purpose of the binder. It can be used to store your binder and other materials, such as books, magazines, and other small items. It can also be used to store your materials in a backpack, briefcase, or purse, depending on the purpose of the binder. A backpack is a great way to keep your binder organized and ready to use when you are in the classroom, or when you are in the classroom. It can be used to store important information, or even when you need it while you are in the backpack.<extra_id_1> </s>\n",
      "########\n",
      "*******\n",
      "question: In the middle of the day what will someone do because of being hungry?\n",
      "answer: have lunch\n",
      "choices: ['cook dinner', 'make bread', 'eat in restaurant', 'have lunch', 'make bread']\n",
      "common expl list: [\"It's common for folks to have lunch during the middle of the day.\", 'People often eat lunch at midday, and so, if they are hungry at midday, they might go to a restaurant to eat lunch.']\n"
     ]
    },
    {
     "name": "stderr",
     "output_type": "stream",
     "text": [
      "\r",
      "  6%|█████████▉                                                                                                                                                          | 60/986 [23:54<2:53:20, 11.23s/it]"
     ]
    },
    {
     "name": "stdout",
     "output_type": "stream",
     "text": [
      "generated explanation: <pad> <extra_id_0> In the middle of the day, someone may be hungry because of the busy schedule. Eating lunch can help relieve the stress of being hungry. By having lunch, the person can avoid the temptation to snack and eat later in the day. Eating lunch also helps to prevent the body from becoming overly full. Having lunch also helps to reduce the likelihood of feeling hungry later in the day. Eating lunch can also help to prevent the body from becoming overly hungry in the future. By having lunch, the person can avoid the stress of having to be hungry during the day. By having lunch, the day can help to keep the body energized and alert throughout the day.<extra_id_1> </s>\n",
      "########\n",
      "*******\n",
      "question: Where is garbage brought to by garbagemen?\n",
      "answer: landfill\n",
      "choices: ['trashcan', 'landfill', 'television', 'computer', 'dumpster']\n",
      "common expl list: ['Landfills are where all the trash in the city go to.']\n"
     ]
    },
    {
     "name": "stderr",
     "output_type": "stream",
     "text": [
      "\r",
      "  6%|██████████▏                                                                                                                                                         | 61/986 [24:00<2:30:42,  9.78s/it]"
     ]
    },
    {
     "name": "stdout",
     "output_type": "stream",
     "text": [
      "generated explanation: <pad> <extra_id_0> Garbage is brought to landfills by garbagemen because it is full of garbage and has a high amount of solid waste. This high amount of waste can be thrown away in a single day. Garbagemen use the landfill to bring their garbage into the environment for disposal. Garbage is a big problem for the environment and can cause serious health problems, such as mold, bacteria, and other contaminants. Garbage is often transported by truck to a landfill where it is sorted and recycled. Garbage is also often containing a landfill because it can be found in a problem with the garbage, which can lead to health issues such as a problem for the future. Garbags can be brought to landfills.<extra_id_1> </s>\n",
      "########\n",
      "*******\n",
      "question: What are people doing when washing hands for a long time?\n",
      "answer: thinking\n",
      "choices: ['thinking', 'sleeping', 'use soap', 'irritation', 'cleaning dirt off']\n",
      "common expl list: ['People often think about things while they are washing their hands, and this is a good time to think about things.', 'People often just pause while washing their hands. It may be that they are thinking about something while this occurs naturally.']\n"
     ]
    },
    {
     "name": "stderr",
     "output_type": "stream",
     "text": [
      "\r",
      "  6%|██████████▎                                                                                                                                                         | 62/986 [24:07<2:15:40,  8.81s/it]"
     ]
    },
    {
     "name": "stdout",
     "output_type": "stream",
     "text": [
      "generated explanation: <pad> <extra_id_0> When people wash hands for a long time, they are thinking. This is because they are thinking about what they are doing and why. For example, washing hands for a long time can be a time-consuming process. People may be thinking about what they are doing, how they are doing it, how they are feeling, and how they are processing what they are doing. People also may be thinking about what they are doing, or how they are feeling it, or how it is going to make them feel. This thinking process is important for people to wash their hands for a long time. People are also doing the things they are doing their hands for a long time and thinking about what they are doing. They are thinking about what they are doing, and how they are doing.<extra_id_1> </s>\n",
      "########\n",
      "*******\n",
      "question: What would someone say about a tube television?\n",
      "answer: obsolete\n",
      "choices: ['obsolete', 'addictive', 'entertaining', 'bycone', 'legal']\n",
      "common expl list: ['Tube televisions are obsolete, meaning that they are old and was abolished by newer technology.', 'Tube televisions are no longer manufactured, and are therefore obsolete.']\n"
     ]
    },
    {
     "name": "stderr",
     "output_type": "stream",
     "text": [
      "\r",
      "  6%|██████████▍                                                                                                                                                         | 63/986 [24:19<2:31:23,  9.84s/it]"
     ]
    },
    {
     "name": "stdout",
     "output_type": "stream",
     "text": [
      "generated explanation: <pad> <extra_id_0> A tube television is a type of television that was used to produce television signals. The television signals are very faint and flickering, and the television sets are usually placed in a vertical position. This allows the television to be viewed from a distance. The televisions are also prone to crackling, which can cause visual disturbances. The televisions also have a tendency to hum when the television is on, making it difficult to see the news. Because of this, the television sets have become obsolete. The televisions are a relatively recent technology, which is a type of television that was originally developed for the television. The television tubes also a variety of digital television, which is a type of television. The televisions are also a tube television, which is a type of television, which is a popular choice for people who want to watch the television set.<extra_id_1> </s>\n",
      "########\n",
      "*******\n",
      "question: The man drank his coffee at work?\n",
      "answer: office\n",
      "choices: ['coffee shop', 'table', 'kitchen', 'office', 'chair']\n",
      "common expl list: ['People often drink coffee at offices, with other co-workers.', 'The man probably works in an office where he could have a cup of coffee while behind his desk.', 'The man is likely to be at work, and offices often have kitchens where coffee is made.']\n"
     ]
    },
    {
     "name": "stderr",
     "output_type": "stream",
     "text": [
      "\r",
      "  6%|██████████▋                                                                                                                                                         | 64/986 [24:25<2:12:15,  8.61s/it]"
     ]
    },
    {
     "name": "stdout",
     "output_type": "stream",
     "text": [
      "generated explanation: <pad> <extra_id_0> The man drank his coffee at work because it was the norm in the office. This is because coffee is a common beverage in the workplace, and it is often a convenient way for employees to get a cup of coffee before or after a meeting. Coffee is also a great source of energy, as it provides a sense of calm and comfort, and it is often a great way to get some work done. Coffee can also be a great way to unwind and unwind after a long day. It can help to keep employees, as they are working in the office, and other activities, such as watching TV, or playing sports teams, or watching television.<extra_id_1> </s>\n",
      "########\n",
      "*******\n",
      "question: What can he do to eliminate his ignorance?\n",
      "answer: learn new\n",
      "choices: ['find information', 'judge', 'do some research', 'find truth', 'learn new']\n",
      "common expl list: [\"Learning is a way to eliminate ignorance; for example, learning a foreign language is one way to eliminate ignorance of that language's grammar.\", 'In this context, ignorance refers to a lack of knowledge, and obtaining new knowledge is the best way to eliminate the ignorance.', 'Ignorance is the state of not knowing something, and to eliminate ignorance, one must learn new things.']\n"
     ]
    },
    {
     "name": "stderr",
     "output_type": "stream",
     "text": [
      "\r",
      "  7%|██████████▊                                                                                                                                                         | 65/986 [24:31<1:59:54,  7.81s/it]"
     ]
    },
    {
     "name": "stdout",
     "output_type": "stream",
     "text": [
      "generated explanation: <pad> <extra_id_0> He can eliminate his ignorance by learning new things, such as how to read, write, and use technology. By learning new things, he can increase his knowledge and decrease his ignorance, which will help him to be more aware and make better decisions. Learning new things also helps him to be more productive and more productive, as it allows him to be more productive and increase his overall quality of life. Furthermore, it helps to stay on top of new trends and ideas, which will help him to become more aware of the opportunities that are available to him. Finally, he can also use of the information he is more responsible for his future, which will help him to become more informed and effective.<extra_id_1> </s>\n",
      "########\n",
      "*******\n",
      "question: What do humans do when in a race?\n",
      "answer: compete with each other\n",
      "choices: ['lay eggs', 'eat fruit', 'wrestle', 'compete with each other', 'draw pictures']\n",
      "common expl list: ['Humans are naturally athletic and competitive. On land, people will compete with each other by running or wrestling. Often humans race on water by swimming, or by boating with other people.']\n"
     ]
    },
    {
     "name": "stderr",
     "output_type": "stream",
     "text": [
      "\r",
      "  7%|██████████▉                                                                                                                                                         | 66/986 [24:40<2:07:56,  8.34s/it]"
     ]
    },
    {
     "name": "stdout",
     "output_type": "stream",
     "text": [
      "generated explanation: <pad> <extra_id_0> Humans compete in a race when in a race because they compete with each other to be the best at what they do. Humans compete with each other to be the best at what they do. They compete for the prize and for the best time. This is why humans compete in a race. Humans compete in a race to be the best at what they do. Humans compete in a race to be the best at what they do. They compete to be the best at what they do and to win. Humans compete with each other humans for the best in a race. They also compete with each other to win. They compete for the best way. They also compete against each other to win. Humans compete for the most efficient and efficient way to stay ahead of their own. They also compete with each other to stay ahead of their own.<extra_id_1> </s>\n",
      "########\n",
      "*******\n",
      "question: She explained that you won't always get what you want with a goal, but you should still do what with it?\n",
      "answer: reach for\n",
      "choices: ['know how to find', 'work hard', 'remember where', 'reach for', 'purchase']\n",
      "common expl list: ['Reaching for attained goals is more beneficial than simply working towards them, at least in the short term. It significantly increases your chances of success.']\n"
     ]
    },
    {
     "name": "stderr",
     "output_type": "stream",
     "text": [
      "\r",
      "  7%|███████████▏                                                                                                                                                        | 67/986 [26:06<8:03:45, 31.58s/it]"
     ]
    },
    {
     "name": "stdout",
     "output_type": "stream",
     "text": [
      "generated explanation: <pad> <extra_id_0> She explained that you won't always get what you want with a goal, but you should still reach for it. Reaching for something can help you reach your goal faster, and more easily, as it can help you stay on track. Reaching for something can help you stay on track and stay focused on the goal at hand. Reaching for something can help you stay focused and motivated, which can help you stay focused and on the right path to get there. Reaching for something can help you move closer to your goal and help you stay on your goal. It is important to reach for success. Reach for a goal is a great example, because it can help you stay on the roadblock you from the goal. Reaching for it can help you stay on the road to success. Reaching for something can help you stay on the road to stay motivated and can help you stay on the journey. Reaching for something can help you stay focused and help you stay motivated. Reaching for something can help you stay on the journey to get there. It's important to stay on the path to reach for it. Reaching for it can help you to get what you want with the goal and reach for something that you reach for. It can help you achieve your goal. Reaching for a goal can help you reach for something that you reach your goal and achieve it can help you reach for it. It can help you reach for your goal and stay focused on your goal while reaching for it can help you stay on the right path to reach your goal and reach for it.<extra_id_1> </s>\n",
      "########\n",
      "*******\n",
      "question: What happens when you eat hamburger too fast without swallowing?\n",
      "answer: choking\n",
      "choices: ['get full', 'drink', 'choking', 'hungry', 'getting fat']\n",
      "common expl list: [\"If you eat hamburger too fast, you might choke on it, because it's a solid food that can get stuck in your throat.\", \"Choking can occur when you stick stuff in your mouth which can't go down your throat properly, so that you can't breath. Common causes can be eating too fast, or swallowing items that can't go down your throat, like liquids or large\", 'Eating too fast can sometimes cause coughing / choking as food get stuck in your throat.', \"When you eat hamburger too fast, it can quickly turn into the consistency of a block, and when you can't swallow it, it can cause you to choke.\"]\n"
     ]
    },
    {
     "name": "stderr",
     "output_type": "stream",
     "text": [
      "\r",
      "  7%|███████████▎                                                                                                                                                        | 68/986 [26:22<6:48:55, 26.73s/it]"
     ]
    },
    {
     "name": "stdout",
     "output_type": "stream",
     "text": [
      "generated explanation: <pad> <extra_id_0> When you eat too fast without swallowing, it can lead to choking. Choking is when you eat too much food too quickly without stopping to let the food escape through your lungs. This can lead to a buildup of mucus and/or gas in the lungs. This can lead to a rapid heart rate and chest pain, as the body tries to process the food quickly enough. This can lead to a choking episode if you eat too much hamburger at once. Choking occurs when the hamburger is too fast and/s are not properly digest the food, leading to a large chest pain in the lungs and/s. This can lead to a lungs and/s becoming too full. Choking can cause a if you eat too fast-tones, which can lead to a rapid heartbeat. Choking can also lead to a heart attack if you swallow too quickly.<extra_id_1> </s>\n",
      "########\n",
      "*******\n",
      "question: John sat in a folding chair in a bit room with a stage.  What sort of room could that be?\n",
      "answer: auditorium\n",
      "choices: ['room', 'auditorium', 'meeting hall', 'school', 'church']\n",
      "common expl list: ['An auditorium is a large room that is used for public events, such as concerts, plays, and speeches.']\n"
     ]
    },
    {
     "name": "stderr",
     "output_type": "stream",
     "text": [
      "\r",
      "  7%|███████████▍                                                                                                                                                        | 69/986 [26:28<5:16:07, 20.68s/it]"
     ]
    },
    {
     "name": "stdout",
     "output_type": "stream",
     "text": [
      "generated explanation: <pad> <extra_id_0> John was seated in an auditorium because it was a room that had a stage and chairs. The stage was a place where people sat in a row and a play would be performed. The stage would be a stage that could be used to display a performance. The chairs would be made into tables and the chairs would be used to place the chairs in the center of the stage. The chairs would be placed in a row and the chairs would be placed in a line. The chairs would be placed in the room would have to be a stage. The stage would be a bit room with a stage. The stage would be a bit room with a folding chair and a stage would be a bit room.<extra_id_1> </s>\n",
      "########\n",
      "*******\n",
      "question: What would an adult man do to get ready for work?\n",
      "answer: dress himself\n",
      "choices: ['dress herself', 'shower', 'dress himself', 'drink beer', 'drive train']\n",
      "common expl list: ['Adult males commonly wear suits to work. Men might get dressed in the morning, particularly if they plan on wearing a suit for work.', 'An adult man would dress himself for work: this includes putting on pants, shirts, and dresses, and typical choices are professional clothes, such as suit and tie.']\n"
     ]
    },
    {
     "name": "stderr",
     "output_type": "stream",
     "text": [
      "\r",
      "  7%|███████████▋                                                                                                                                                        | 70/986 [26:34<4:07:51, 16.23s/it]"
     ]
    },
    {
     "name": "stdout",
     "output_type": "stream",
     "text": [
      "generated explanation: <pad> <extra_id_0> An adult man would get ready for work by dressing himself appropriately. Dressing is a way to show up to a job or event. It is important to be dressed appropriately for the job and the occasion. It is important to have a look that is professional, revealing, and comfortable. It is important to dress properly for the job and for the environment in which he is working. Having a professional look will give one an edge in the workplace. Dressing up is a way to present yourself and show off your skills. Dressing professionally is a sign of respect for your career. Ultimately, a man should be prepared for work by being properly dressed for the day of the weekend.<extra_id_1> </s>\n",
      "########\n",
      "*******\n",
      "question: What does one do at an office?\n",
      "answer: work\n",
      "choices: ['work', 'school building', 'workplace', 'skyscraper', 'public building']\n",
      "common expl list: ['One does work at the office', 'An office is a specific type of workplace.', 'An office is a place where people work.']\n"
     ]
    },
    {
     "name": "stderr",
     "output_type": "stream",
     "text": [
      "\r",
      "  7%|███████████▊                                                                                                                                                        | 71/986 [26:50<4:05:10, 16.08s/it]"
     ]
    },
    {
     "name": "stdout",
     "output_type": "stream",
     "text": [
      "generated explanation: <pad> <extra_id_0> At an office, one does their work in a variety of ways. One can work in a variety of ways, such as writing reports, organizing files, and preparing presentations. Another reason to work at an office is because it is where people can gather and share information, and one can access this information in a variety of ways. Additionally, they can work in a variety of different areas, such as helping clients with projects, preparing presentations, and answering questions. Office work involves working in a team, coordinating projects, and team, as well as having a working environment. It is also important to have a positive and positive outlook. Office work is a place where people can work in a positive environment. It is a place where people can be a sense of belonging, and can help others. It can also be a place where one can feel valued and can be found in a team.<extra_id_1> </s>\n",
      "########\n",
      "*******\n",
      "question: When a person is on trial for killing, what is a jury likely to decide?\n",
      "answer: punishment\n",
      "choices: ['execution', 'investigation', 'going to jail', 'retribution', 'punishment']\n",
      "common expl list: ['A person who has just killed another person often goes to trial, so the jury will likely have to decide what the most just punishment is.', 'When a jury decides that someone is guilty of a crime, they typically hand down a punishment.', 'A jury is likely to decide that the person is guilty of the crime, and punish them accordingly.']\n"
     ]
    },
    {
     "name": "stderr",
     "output_type": "stream",
     "text": [
      "\r",
      "  7%|███████████▉                                                                                                                                                        | 72/986 [27:14<4:42:35, 18.55s/it]"
     ]
    },
    {
     "name": "stdout",
     "output_type": "stream",
     "text": [
      "generated explanation: <pad> <extra_id_0> A jury is likely to decide punishment for a killing based on the evidence presented. Evidence can include physical or mental health issues, emotional damage, and impairment<extra_id_3>. The jury may also consider other factors, such as the degree of physical or mental impairment, and the circumstances surrounding the killing. The jury may also consider other factors, such as the circumstances surrounding the killing, which could lead to a harsher sentence. The jury may also consider other factors, such as the likelihood of a conviction, such as additional time served, probation, or both. The jury may also be asked to determine the severity of punishment, or if the jury could also be given by the case. The jury may also decide whether to the punishment, or not be severe enough evidence to the victim. The jury may also consider other factors, including the circumstances, such as the crime, or the evidence presented by the evidence. The jury may also consider other factors, such as the jury. The jury may also consider other factors in determining the punishment.<extra_id_1> </s>\n",
      "########\n",
      "*******\n",
      "question: Most adult Americans split their time between home and what?\n",
      "answer: work\n",
      "choices: ['tent', 'work', 'apartment', 'the office', 'foreign']\n",
      "common expl list: ['Most adults spend most of their time at work.', 'Home and work may be the two places where most adult Americans spend most of their waking hours.']\n"
     ]
    },
    {
     "name": "stderr",
     "output_type": "stream",
     "text": [
      "\r",
      "  7%|████████████▏                                                                                                                                                       | 73/986 [27:28<4:19:37, 17.06s/it]"
     ]
    },
    {
     "name": "stdout",
     "output_type": "stream",
     "text": [
      "generated explanation: <pad> <extra_id_0> Most adult Americans spend their time between home and work because it is the most convenient way to fill the gaps between family and work. Family and work are important parts of a healthy and productive life. However, many Americans also spend time at work, as it is more convenient and less stressful than going to school or working at home. Working at home also provides a sense of accomplishment and accomplishment, as it allows them to focus on their work and play while also allowing them to spend time with their families. Working at home also provides a sense of satisfaction, as well as it allows them to focus on their lives and social networks. Working from home to work, parents can spend more time at work, as they can be more productive and more time with their family. Finally, working from home, working is an important part of life, as it allows them to spend more time with their families, as it allows them to spend more time with their family.<extra_id_1> </s>\n",
      "########\n",
      "*******\n",
      "question: Professionally the fighters always maintained a level of respect, but personally they held each other in what for things that were said?\n",
      "answer: contempt\n",
      "choices: ['belittlement', 'humiliate', 'irreverence', 'contempt', 'love']\n",
      "common expl list: ['Despite the respect that was maintained by the respectful fighters, the feelings that they had for each other were always a sense of contempt for each others character.']\n"
     ]
    },
    {
     "name": "stderr",
     "output_type": "stream",
     "text": [
      "\r",
      "  8%|████████████▎                                                                                                                                                       | 74/986 [27:58<5:19:08, 21.00s/it]"
     ]
    },
    {
     "name": "stdout",
     "output_type": "stream",
     "text": [
      "generated explanation: <pad> <extra_id_0> The fighters in the fight always maintained a level of respect, but personally they held each other in contempt. Contempt is a way to hold each other accountable for their actions and words. It can be expressed in a number of ways, such as a threat, disrespect, or even a compliment. Contempt is the act of saying something that could be taken as a challenge or a compliment. Contempt can be expressed in a number of ways, such as a lack of respect, or a lack of information. Usually, fighters will respond to any situation in a challenge or a fight, but sometimes hold each other in contempt for things they said. Contempt can also be expressed in a way to show their opponents or even when they were being themselves in a way. This can lead to a negative way, and could lead to fights and even enda fight. Contempt can also lead to a negative reaction to be a way, or even a way. Contempt can also be a way of a way.<extra_id_1> </s>\n",
      "########\n",
      "*******\n",
      "question: Where would you find many tables of silverware rolled into nice displayed napkins?\n",
      "answer: restaurant\n",
      "choices: ['silver', 'park', 'table', 'cupboard', 'restaurant']\n",
      "common expl list: ['Restaurants often have a lot of silverware, and they might roll it up and place it in a napkin to make it easier to store.', 'In a commercial establishment, silverware is expected to be clean because consumption of food is involved. So, a restaurant may well be where someone would expect to find silverware rolled into nice displayed napkins (i.e., fancy silverware).', 'Restaurants often give used, rolled up silverware to customers, and they might keep them in nice, displayed napkins to make moving and storing them easier.']\n"
     ]
    },
    {
     "name": "stderr",
     "output_type": "stream",
     "text": [
      "\r",
      "  8%|████████████▍                                                                                                                                                       | 75/986 [28:28<6:00:56, 23.77s/it]"
     ]
    },
    {
     "name": "stdout",
     "output_type": "stream",
     "text": [
      "generated explanation: <pad> <extra_id_0> Restaurants are a great place to find tables of silverware rolled into nice displayed napkins. Restaurants typically have a large selection of silverware rolled into neatly displayed napkins. These napkins are typically found at the table of the restaurant, usually at the buffet or bar area. Restaurants also typically have a large selection of napkins for each table, which makes it easy to find enough napkins for the table. Restaurants also have a wide variety of napkins for each table, which makes it easy to find the table rolled into neatly displayed. This is a great place to find many tables of silverware rolled into neatly displayed on the table, making it easy to clean and easy to spot for guests. Restaurants also often have nice napkins for each table, which makes it easy to find the right place to make a great display of silverware, making it easy to make it easy to find many tables of silverware rolled into neatly displayed on the table.<extra_id_1> <extra_id_1> </s>\n",
      "########\n",
      "*******\n",
      "question: He didn't believe fate controlled situations, what did he believe people did?\n",
      "answer: control events\n",
      "choices: ['control events', 'pray', 'dress themselves', 'talk to each other', 'think creatively']\n",
      "common expl list: ['If one believes in fate, then one would believe that fate controls events. If one believes in free will, then one would believe that people control events.', \"If one believes fate controls events, there's nothing to do but accept situation, perhaps to pray; in contrast, if one believed they had control over events, then they could act to change the situation.\"]\n"
     ]
    },
    {
     "name": "stderr",
     "output_type": "stream",
     "text": [
      "\r",
      "  8%|████████████▋                                                                                                                                                       | 76/986 [29:18<7:57:40, 31.50s/it]"
     ]
    },
    {
     "name": "stdout",
     "output_type": "stream",
     "text": [
      "generated explanation: <pad> <extra_id_0> He didn't believe fate controlled events because he didn't believe people could control events. Control events are events that happen in a particular way, such as a storm, a tornado, or a hurricane. People can create an environment that is conducive to their own personal goals, and these environments can also be controlled by others. By controlling events, people can create a positive and empowering experience for those around them. This can be done through the use of technology, such as the Internet, social media, and even the way they create a positive or negative outcomes. He believed that fate could be caused people to create a positive or negative outcomes. He also believed that people's actions and that people could be responsible for the world. He also believed that people could be responsible for their actions, and that they were not responsible for the events. He also believed that people could have been a significant role in the world, as they could be responsible for the events. He didn't believe that fate controlled events, but didn't believe that people could be a positive or even be responsible for the environment. He also believed that people could be responsible for events. He also believed that people could be responsible for the events.<extra_id_27> </s>\n",
      "########\n",
      "*******\n",
      "question: Polly didn't know her way around, so she navigated by landmark.  She used statues, stores, and distinctive building.  Where might she be?\n",
      "answer: city\n",
      "choices: ['countryside', 'national park', 'map', 'neighbourhood', 'city']\n",
      "common expl list: ['Landmarks are often located in cities, and so if a person was navigating by landmarks, they are likely to be in a city.', \"She used distinctive buildings as landmarks, so it is likely she's in a city.\", 'In a city, landmarks are often used to navigate. In the countryside or in national parks, landmarks may not be as distinct, as buildings and statues are less likely to be found.', 'Landmark navigation works best in populated areas because distinctive buildings and statues can be more easily seen.']\n"
     ]
    },
    {
     "name": "stderr",
     "output_type": "stream",
     "text": [
      "\r",
      "  8%|████████████▊                                                                                                                                                       | 77/986 [30:08<9:22:12, 37.11s/it]"
     ]
    },
    {
     "name": "stdout",
     "output_type": "stream",
     "text": [
      "generated explanation: <pad> <extra_id_0> Polly might be in a city that is a landmark. A landmark is a building, statue, street, or other structure that is distinctive to the area. It can be a landmark that is a symbol of the area, such as a church, mosque, or a theater. It can also be a sign of a place or a landmark that is a symbol of the area, such as a statue or a building. A landmark can also be a way to get around a city, such as a store, or even directions. A landmark is a way for a particular area, such as a store, or a monument. A landmarks are a way to get around a person, or by themselves, such as a statue or a building. A landmark is a way for a person to get to a store, or even a place to get to a building or a city. A landmark can also be a way to get around a city, such as a statue or a store. A statue or a building is a building that is a building, such as a building or a store.</s>\n",
      "########\n",
      "*******\n",
      "question: Some horses are white others are black, but many are this color which might lead some people to think their milk would taste like chocolate?\n",
      "answer: brown\n",
      "choices: ['big but gentle', 'kept in stables', 'cuddly', 'brown', 'running in herd']\n",
      "common expl list: [\"An individual brown-colored horse (particularly when cuddly) can resemble the color of chocolate. If a person were to guess based on the color, he might guess a horse's milk tasted similarly.\"]\n"
     ]
    },
    {
     "name": "stderr",
     "output_type": "stream",
     "text": [
      "\r",
      "  8%|████████████▉                                                                                                                                                       | 78/986 [30:14<7:00:22, 27.78s/it]"
     ]
    },
    {
     "name": "stdout",
     "output_type": "stream",
     "text": [
      "generated explanation: <pad> <extra_id_0> Horses are brown because brown is the color of brown milk. Brown is the color of chocolate, and chocolate is a dark, rich, creamy substance. Brown is also the color of chocolate, which is why it is often mistaken for chocolate milk. Brown is also the color of chocolate, and it is often mistaken for chocolate because it is a darker shade of brown than the white or black milk. Brown is also the color of chocolate, and chocolate milk is a combination of chocolate and brown. Brown is also the color of chocolate, and it is because it is more complex and contains proteins, making it more complex and complex, making it more complex. Brown is also the color of chocolate milk, as it is derived from the brown.<extra_id_1> </s>\n",
      "########\n",
      "*******\n",
      "question: What is the one thing you cannot do if you're on the move?\n",
      "answer: stand still\n",
      "choices: ['sit still', 'stationary', 'running', 'stand still', 'stay still']\n",
      "common expl list: ['You must be in motion to be counted as on the move. (this rule exists to disallow the action of holding still)']\n"
     ]
    },
    {
     "name": "stderr",
     "output_type": "stream",
     "text": [
      "\r",
      "  8%|█████████████▏                                                                                                                                                      | 79/986 [30:41<6:59:06, 27.72s/it]"
     ]
    },
    {
     "name": "stdout",
     "output_type": "stream",
     "text": [
      "generated explanation: <pad> <extra_id_0> When you are on the move, you cannot stand still because you are unable to move quickly enough to move your body around. Instead, you must stop and look around. This is because the body is constantly in motion, and the motion can become slow or sluggish. This can lead to injury, or even death. Standing still is the only way to avoid injury or death, and it is the only way to stay safe. Standing still is the only way to stay safe and to avoid injury. Standing still also allows you to stay alert and alert, and to take action without interruption, and to keep up. Standing still means that you cannot move, and can be unable to move, and can's you cannot take advantage of the time to stay in motion. Standing still allows you to take advantage of the time you can take advantage of the moment of the body's natural instincts and can help you to stay safe and safe. Standing still is the only way to avoid injury, and to prevent injuries. Standing still means that you from being a serious injury.<extra_id_1> </s>\n",
      "########\n",
      "*******\n",
      "question: Where does someone convicted of a petty crime likely spend time?\n",
      "answer: jail\n",
      "choices: ['sell drugs', 'jail', 'nightclub', 'prison', 'offer drugs']\n",
      "common expl list: ['Someone convicted of a petty crime is likely to spend time in jail.', 'Someone convicted of a petty crime probably spends some time in jail, and not in prison.']\n"
     ]
    },
    {
     "name": "stderr",
     "output_type": "stream",
     "text": [
      "\r",
      "  8%|█████████████▎                                                                                                                                                      | 80/986 [30:58<6:07:58, 24.37s/it]"
     ]
    },
    {
     "name": "stdout",
     "output_type": "stream",
     "text": [
      "generated explanation: <pad> <extra_id_0> Someone convicted of a petty crime likely spends time in jail. Jail time is typically spent in a secure area, away from other people, and away from any distractions. It is also a place of safety, with a locked cell and access to a computer. This can lead to a sense of security, and it can be a place to spend time with other inmates. Jail time is typically spent in a secure area, away from other people, and away from the outside world. It is a place of justice, and can be found guilty of a person of crimes. It can also be a time spent in jail for petty crimes, such as theft, or other people. The person is likely to spend time in jail because it is a place of justice, and can also be a place to spend time in a jail, and can also be a place to spend time with the community.<extra_id_1> </s>\n",
      "########\n",
      "*******\n",
      "question: He would entertain with a pool party regularly, it was the best way to beat the what?\n",
      "answer: hot\n",
      "choices: ['please', 'hot', 'guest', 'bribe', 'liked']\n",
      "common expl list: ['Pool parties are a great way to beat the heat.']\n"
     ]
    },
    {
     "name": "stderr",
     "output_type": "stream",
     "text": [
      "\r",
      "  8%|█████████████▍                                                                                                                                                      | 81/986 [31:12<5:18:36, 21.12s/it]"
     ]
    },
    {
     "name": "stdout",
     "output_type": "stream",
     "text": [
      "generated explanation: <pad> <extra_id_0> He would entertain with a pool party regularly because it was the best way to beat the hot weather. Having a pool party is a great way to beat the heat and beat the cold weather. Having a pool party is a great way to relax and have fun with friends and family. Having a pool party is a great way to have a good time and have a good time. Having a pool party is a great way to have a good time with friends and family. Having a pool party is a great way to beat the cold and the cold. Having a pool party can help to beat the cold. It is a great way to have fun and have fun. It is also a great way to have a great way to have fun and have a great time with your friends. The best way to entertain is to beat the cold.<extra_id_1> </s>\n",
      "########\n",
      "*******\n",
      "question: If you wanted to confirm information that you had, you would do what to someone?\n",
      "answer: question\n",
      "choices: ['infirm', 'ask', 'deny', 'question', 'dispute']\n",
      "common expl list: ['If you wanted to confirm information that you had, you would ask someone.', 'If you wanted to verify the truth, you might question the person who you got the alleged information from.', 'To confirm something that your friends told you, you might need to ask those friends further questions to prove that the information was correct.', \"Often information is ambiguous, and I can confirm it by asking pointed questions or by scrutinizing the other person's story till I can find a way to interrogate their position.\"]\n"
     ]
    },
    {
     "name": "stderr",
     "output_type": "stream",
     "text": [
      "\r",
      "  8%|█████████████▋                                                                                                                                                      | 82/986 [31:18<4:09:47, 16.58s/it]"
     ]
    },
    {
     "name": "stdout",
     "output_type": "stream",
     "text": [
      "generated explanation: <pad> <extra_id_0> If you wanted to confirm information that you had, you would do one of the following things. If you wanted to confirm information that someone had, you would do one of the following things. You would contact the person to confirm the information that they had. This is because the person would need to be able to provide the person with the information they needed. The person would then need to confirm the information with the person and give the information to the person. This would be done by calling the person's cell phone number, and then calling the number of the information. You would then use the information to confirm the person you had. The purpose of the person would be the following questions. The person would then have to confirm the information that you had.<extra_id_1> </s>\n",
      "########\n",
      "*******\n",
      "question: Where is cheese likely to be dangerous for some creatures?\n",
      "answer: mouse trap\n",
      "choices: ['refrigerator', 'mouse trap', 'fridge', 'outside', 'plate']\n",
      "common expl list: ['cheese has been said to attract mice. Mice traps may contain cheese in order to attract them.']\n"
     ]
    },
    {
     "name": "stderr",
     "output_type": "stream",
     "text": [
      "\r",
      "  8%|█████████████▊                                                                                                                                                      | 83/986 [31:25<3:26:48, 13.74s/it]"
     ]
    },
    {
     "name": "stdout",
     "output_type": "stream",
     "text": [
      "generated explanation: <pad> <extra_id_0> Cheese is likely to be dangerous for some creatures because it is a food source for mice. For example, cheese can be used to trap mice in a mouse trap, which is a common way for mice to survive. However, mice are not the only animals that can be susceptible to cheese. Cheese can also be used to trap other animals, such as birds, and other small animals, such as rabbits. Cheese is also used to create a barrier for predators to access, such as rats and mice. This makes it difficult for mice to escape from the cheese, which is likely to attract more dangerous for mice and other creatures. Cheese is also used to prevent mice from entering the mice from getting away from the mousetrap. Additionally, it can be used to traps. This is because cheese is often used in mouse traps.<extra_id_1> </s>\n",
      "########\n",
      "*******\n",
      "question: He spent all work day at a computer, so he got a footstool for more comfort at his what?\n",
      "answer: desk\n",
      "choices: ['desk', 'bathroom', 'shoe shop', 'family room', 'living room']\n",
      "common expl list: ['A footstool is a small stool that is used to raise the height of a chair or table. If someone spends all day at a computer, they might need a footstool to raise their desk.']\n"
     ]
    },
    {
     "name": "stderr",
     "output_type": "stream",
     "text": [
      "\r",
      "  9%|█████████████▉                                                                                                                                                      | 84/986 [31:31<2:51:19, 11.40s/it]"
     ]
    },
    {
     "name": "stdout",
     "output_type": "stream",
     "text": [
      "generated explanation: <pad> <extra_id_0> He got a footstool for more comfort at his computer desk. A footstool is a useful addition to a desk because it provides added support and support for the feet during prolonged sitting or standing. It also provides additional leg room for people who are taller than average height to work at a computer. This gives them extra leg room when sitting or standing at a computer. A footstool also allows them to stand up from a standing or seated position, which gives them more stability and support when sitting or standing. Moreover, it can be used to move around the computer screen while sitting on the computer. It is also easier for people who work from home or in the office, and is often used to get more comfortable sitting at their desk.<extra_id_1> </s>\n",
      "########\n",
      "*******\n",
      "question: How would grooming lead to bald spots?\n",
      "answer: mistakes\n",
      "choices: ['cleanliness', 'mistakes', 'brushing', 'beauty', 'satisfaction']\n",
      "common expl list: [\"If you accidentally over trim your hair, you'd likely end up with bald spots.\"]\n"
     ]
    },
    {
     "name": "stderr",
     "output_type": "stream",
     "text": [
      "\r",
      "  9%|██████████████▏                                                                                                                                                     | 85/986 [32:11<5:03:08, 20.19s/it]"
     ]
    },
    {
     "name": "stdout",
     "output_type": "stream",
     "text": [
      "generated explanation: <pad> <extra_id_0> Grooming can lead to bald spots because it involves making mistakes, such as rubbing, brushing, and combing the hair. This can lead to a buildup of abrasive buildup, which can lead to bald spots. Additionally, grooming can lead to a buildup of toxins, which can lead to a buildup of dead skin cells, which can lead to a buildup of dead skin cells, which can lead to a balding spot. This can lead to a bald spots, which can lead to bald spots. The mistakes can lead to bald spots, which can lead to bald spots if the wrong process is used to prevent abrawilt spot from bald spots. Furthermore, grooming can also lead to a number of mistakes, which can lead to bald spots in the wrong decisions about the way to help prevent bald spots from being made when it comes to bald spots. This can also lead to bald spots bald spots on the if the wrong methods are used to prevent bald spots. This can lead to bald spots because they can be made by a mistake.<extra_id_1> </s>\n",
      "########\n",
      "*******\n",
      "question: Where would a snake find a great hiding place in the United Kingdom?\n",
      "answer: kew gardens\n",
      "choices: ['ditch', 'terrarium', 'thick forest', 'kew gardens', 'feild']\n",
      "common expl list: ['Kew gardens is located in London, which has a great deal of green space in the form of parks.', 'Kew gardens is a large botanical garden in London, England, and snakes are often found in gardens.']\n"
     ]
    },
    {
     "name": "stderr",
     "output_type": "stream",
     "text": [
      "\r",
      "  9%|██████████████▎                                                                                                                                                     | 86/986 [32:18<4:02:35, 16.17s/it]"
     ]
    },
    {
     "name": "stdout",
     "output_type": "stream",
     "text": [
      "generated explanation: <pad> <extra_id_0> A snake would find a great hiding place in the United Kingdom because of the kew gardens. Kew gardens are a collection of gardens that are located in the heart of London, and are home to a variety of plants and animals. They include a variety of trees, shrubs, and ferns. The kew gardens are also home to a number of species of birds, including the osprey, a species of bird that is thought to live in the kew gardens. The gardens are home to many of plants and are a great place for snakes to hide in the gardens. The gardens are home to the snakes, as they are able to hide away from other animals and other insects. The kew gardens are also a great place to relax and enjoy the sights.<extra_id_1> </s>\n",
      "########\n",
      "*******\n",
      "question: After studying many self-help books, what did he feel in his heart?\n",
      "answer: inspiration\n",
      "choices: ['inspiration', 'dreams', 'more intelligence', 'understanding', 'knowing more']\n",
      "common expl list: ['Self-help books are written to inspire people to change their lives for the better.', \"If John read about confidence, optimism, positive thinking, it's possible that he feels inspired.\", \"Some people study self-help books because they've felt lost in their life and are looking for something to help them out. By reading many self-help books, such people might feel more inspired in their life.\"]\n"
     ]
    },
    {
     "name": "stderr",
     "output_type": "stream",
     "text": [
      "\r",
      "  9%|██████████████▍                                                                                                                                                     | 87/986 [32:48<5:02:06, 20.16s/it]"
     ]
    },
    {
     "name": "stdout",
     "output_type": "stream",
     "text": [
      "generated explanation: <pad> <extra_id_0> After studying many self-help books, he felt an inner sense of inspiration. He was able to feel the peace and strength of knowing he was doing something right. He was doing something he loved and was able to share it with others. He was able to connect with others and share his own experiences, which in turn inspired him to write his own book. He was able to gain a deeper understanding of the world around him and to create a more positive and positive outlook on life. He was also able to see the world around him a better understanding and his own personal development. He was able to write his own personal growth and success. This led him to write his own life and to write his own life, which was a sense of inspiration. Inspiration was a positive and he was able to share his experiences with others and to write his own experiences. He was able to gain insight into his own life and to write his own personal growth and to create a positive and positive outlook on life. Inspiration is a feeling that comes from the books and to write his own life.<extra_id_1> </s>\n",
      "########\n",
      "*******\n",
      "question: Where would you find teeth whitening bleachers?\n",
      "answer: pharmacy\n",
      "choices: ['gymnasium', 'soccer game', 'sporting event', 'pharmacy', 'soccer game']\n",
      "common expl list: ['Teeth whitening is a common practice, and pharmacies often sell the products used for it.']\n"
     ]
    },
    {
     "name": "stderr",
     "output_type": "stream",
     "text": [
      "\r",
      "  9%|██████████████▌                                                                                                                                                    | 88/986 [35:33<15:56:02, 63.88s/it]"
     ]
    },
    {
     "name": "stdout",
     "output_type": "stream",
     "text": [
      "generated explanation: <pad> <extra_id_0> A pharmacy is the most common place to find teeth whitening bleaching products. This is due to the fact that the bleaching agents are manufactured in a controlled environment, which makes them safe to use and safe for the patient. The bleaching agents are derived from a chemical called acetylene, which is a natural compound found in food and other substances. The bleaching agents are also used to treat stains and discoloration of the teeth. The bleaching agents are also used to improve the appearance of the teeth, which is the most common way to achieve the whitening treatments. The bleaching agents are also available in the store, which is also a common place to buy teeth whitening products. The bleaching agents used to treat an effective way to treat stains, and to help to improve the overall appearance of the teeth and are the most commonly used to improve the appearance of the teeth. The bleaching agents are also used to treat discoloring agents, making them last longer. The bleaching agents are used to improve the appearance of the teeth and are also used to treat dental plaque and to whiter teeth. The bleaching agents are used to improve the appearance of the teeth and the teeth. The chemicals are used to remove whitening agents are also used to treat teeth and to help to treat stains. The chemicals are designed to help the teeth and remove the teeth. The bleaching agents are used to treat teeth and are also used to whitening agents are designed to help with the appearance of the teeth. The bleaching agents are also used to improve the overall effect of the effects of the teeth and are used to treat the appearance of teeth and improve the color of the teeth, whitening agents are designed to improve the appearance of the teeth, and the effects of the teeth. The chemicals are designed to provide a variety of the teeth and improve the appearance of the effects of teeth, which are used to improve the color of the process, making it is whitening agents, making them effective in the teeth and are also used to improve the natural look and improve the color of the effects of the teeth, as whitening bleaching agents are used to improve the effects of the teeth, making them, as well as abracess, and are used to improve the appearance of the teeth, and are effective in whitening the teeth, and are used as whitening bleaching<extra_id_27> </s>\n",
      "########\n",
      "*******\n",
      "question: While he had seen a koala in the zoo, he was looking forward to finding one in the what?\n",
      "answer: australian outback\n",
      "choices: ['australian outback', 'bamboo grove', 'wilderness', 'island', \"child's book\"]\n",
      "common expl list: ['Koalas live in Australia, and are not found in any other country in the North American continent.', 'Because Koalas are a native species to Australia, the safest place to see a Koala may be outback Australia.']\n"
     ]
    },
    {
     "name": "stderr",
     "output_type": "stream",
     "text": [
      "\r",
      "  9%|██████████████▋                                                                                                                                                    | 89/986 [35:39<11:32:09, 46.30s/it]"
     ]
    },
    {
     "name": "stdout",
     "output_type": "stream",
     "text": [
      "generated explanation: <pad> <extra_id_0> He had seen a koala in the zoo and was looking forward to finding one in the australian outback. The outback is a place where animals can live in harmony with humans and live in harmony with the natural environment. Koals are able to forage, forage, and hunt in groups, making them a great family pet. Koals are also able to forage for food, which is important for them as they help to provide food for their families. Koalas are also a great for their homes. They are also found in the country, where they can live in the wild. They can be found in the outback.<extra_id_1> </s>\n",
      "########\n",
      "*******\n",
      "question: Where can a child get a wagon?\n",
      "answer: toy store\n",
      "choices: ['field', 'garage', 'bookstore', 'backyard', 'toy store']\n",
      "common expl list: [\"A toy wagon is a child's toy. Toy wagons can be purchased from toy stores.\", 'Toy stores deal specifically in toys. Wagons are one of a variety of toys.']\n"
     ]
    },
    {
     "name": "stderr",
     "output_type": "stream",
     "text": [
      "\r",
      "  9%|██████████████▉                                                                                                                                                     | 90/986 [35:45<8:31:39, 34.26s/it]"
     ]
    },
    {
     "name": "stdout",
     "output_type": "stream",
     "text": [
      "generated explanation: <pad> <extra_id_0> A child can get a wagon at a toy store. Toy stores typically carry a variety of wagons, from small to large, from small to medium sized. These wagons are typically found in toy stores, which usually have a selection of different styles, colors, and materials. They can range in price from $1 to $29.99, depending on the size, features, and colors. Additionally, many stores also offer a variety of wagons, so there is no need to go to a toy store toy store. The store also has a variety of wagons for kids, so they can get a variety of wagon at a great deal on the right away from the fun.<extra_id_1> \"</s>\n",
      "########\n",
      "*******\n",
      "question: Being able to forgive is a way to be what?\n",
      "answer: nice to\n",
      "choices: ['learn', 'give hug', 'happiness', 'nice to', 'sex']\n",
      "common expl list: ['When you forgive people you are being nice to them.']\n"
     ]
    },
    {
     "name": "stderr",
     "output_type": "stream",
     "text": [
      "\r",
      "  9%|███████████████▏                                                                                                                                                    | 91/986 [36:35<9:43:28, 39.12s/it]"
     ]
    },
    {
     "name": "stdout",
     "output_type": "stream",
     "text": [
      "generated explanation: <pad> <extra_id_0> Being able to forgive is a great way to be kind and understanding towards others. Forgiveness is a way to show that you care and are willing to forgive. It is a way to open up and share your feelings and thoughts with those around you. It is also a way to show that you are willing to put aside any judgments you may have had about someone. Forgiving is a process that allows people to come to terms with the situation and move on with their lives. It is a way to move on with the hurts, and to accept that they are willing to forgive. It is a way to show that you are willing to accept others and to forgive. It is a way to show that you are willing to forgive and to accept the other people. It is also a way to show that you are willing to accept that you accept the person you have forgive someone else. Forgive and accept the other person’s fault. It is a way to show that you are willing to accept and accept the fact that you have forgive is a way to show that you are willing to accept the other and to accept the other person’s. Forgive others. It is a way to show that you are willing to accept the other.<extra_id_1> </s>\n",
      "########\n",
      "*******\n",
      "question: What  is necessary to have when going fishing?\n",
      "answer: fishing rod\n",
      "choices: ['fishing rod', 'access to water', 'bate', 'three hands', 'tackle']\n",
      "common expl list: ['To go fishing requires a fishing rod.', 'fishing rods are necessary component pieces that are held by fishermen to access and use when fishing']\n"
     ]
    },
    {
     "name": "stderr",
     "output_type": "stream",
     "text": [
      "\r",
      "  9%|███████████████▎                                                                                                                                                    | 92/986 [36:42<7:19:39, 29.51s/it]"
     ]
    },
    {
     "name": "stdout",
     "output_type": "stream",
     "text": [
      "generated explanation: <pad> <extra_id_0> A fishing rod is a rod that is used to cast a line or reel in a net. This is to help the angler catch fish and avoid being caught in the net. A fishing rod also provides a steady stream of air to the rod and is essential for catching fish. The rod is also used to help the angler cast a line or reel in a net. This helps the angler to control the line and avoid getting swept away in the current. A fishing rod also provides a sense of control and can be used to help in the process. A fishing rods can be used to help the fish catch. It can also be used to help the angler to catch. Additionally, the rod can be used to provide a sense of the fish and is important for the angler.<extra_id_1> </s>\n",
      "########\n",
      "*******\n",
      "question: A weasel is cursed by a witch, where is the weasel stuck?\n",
      "answer: fairytale\n",
      "choices: ['corn fields', 'great outdoors', 'fairytale', 'imagination', 'chicken coop']\n",
      "common expl list: ['Being stuck in a fairytale suggests being cursed, and the curses that prevail in fairytales are usually cast by witches.']\n"
     ]
    },
    {
     "name": "stderr",
     "output_type": "stream",
     "text": [
      "\r",
      "  9%|███████████████▎                                                                                                                                                   | 93/986 [39:47<18:51:27, 76.02s/it]"
     ]
    },
    {
     "name": "stdout",
     "output_type": "stream",
     "text": [
      "generated explanation: <pad> <extra_id_0> A weasel is stuck by a curse because it is a fairytale. The fairytale tells the story of a weasel being cursed by a witch. The witch is the one who has the curse and the weasel is stuck in the dungeon. The weasel is then trapped in a cave, where it is trapped until it is freed. The cave is filled with traps and traps that trap the weasel inside. The fairytale tells that the weasel is trapped in a witch. The curse is a fairytale because it is a way to escape from the world, and the wea wea wea witch has to find a solution to the curse. The witch's spell is the only thing that can help the weawea wea wea wea wea wea weaweasel escape from the trap. The wea wea weas to escape from the traps of the witch's, the wea wea wea witch can help the wea weas to find a witch, and a fairytale can help to escape from the traps of the witch's. The wea wea wea witch can help the wea wea wea wea witch, and escape. The witch's help the wea weas to escape from the witch, and escape from the witch, and escape. The wea weasel escape from the trap, and escape from the curse, and escape from the witch's from the trap, and escape from the weasel find the trap, and escape from the trap. The witch's who are trapped wea trap, and save the trap, and escape from the trap, and the weasel from the trap, and rescue the wea weasel's trapped weaweas, and the witch's, and the wea weas, and the witch, and the witch, and the wea wea wea witch, and save the wea wea wea curse, and the curse, and the curse, and save the witch, and the witch's who have the curse, and the witch, and the cursed the curse, and the witche<extra_id_27>, and the wea cursed and\n",
      "########\n",
      "*******\n",
      "question: If you want to buy you must what?\n",
      "answer: spend money\n",
      "choices: ['spend money', 'go shopping', 'paying', 'have in mind', 'a shop']\n",
      "common expl list: ['To buy something, you must spend money.', 'To buy one needs money, and need money implies you have spent money.', 'If you want to buy something, you must spend money.']\n"
     ]
    },
    {
     "name": "stderr",
     "output_type": "stream",
     "text": [
      "\r",
      " 10%|███████████████▌                                                                                                                                                   | 94/986 [39:55<13:44:54, 55.49s/it]"
     ]
    },
    {
     "name": "stdout",
     "output_type": "stream",
     "text": [
      "generated explanation: <pad> <extra_id_0> If you want to buy something, you must spend money. This is because spending money is a way to make a purchase and to get the product or service you want. Spending money is a way to get the product or service you want faster and for a higher price. It also allows you to make a purchase without having to break the bank. Spending money allows you to make a purchase without having to worry about the cost of the item or service. Spending money allows you to make a purchase without having to worry or worry about the product or service. Spending money can be a great way to buy. Spending money can also help you get the product or service you need to make a purchase. Spending money is a way to make a purchase and to make a purchase.<extra_id_1> </s>\n",
      "########\n",
      "*******\n",
      "question: What public celebration sometimes has a horse show?\n",
      "answer: state fair\n",
      "choices: ['state fair', 'indy 500', 'american southwest', 'canada', 'central park']\n",
      "common expl list: ['Horse shows are sometimes included in state fair celebrations, and these fairs frequently are held in public parks.', \"A state's fair is a public celebration that may include a horse show.\", 'Horse shows are competitions that sometimes occur at public celebrations. Some fairgrounds include horse shows as part of their regularly scheduled events.']\n"
     ]
    },
    {
     "name": "stderr",
     "output_type": "stream",
     "text": [
      "\r",
      " 10%|███████████████▋                                                                                                                                                   | 95/986 [40:01<10:06:12, 40.82s/it]"
     ]
    },
    {
     "name": "stdout",
     "output_type": "stream",
     "text": [
      "generated explanation: <pad> <extra_id_0> A state fair is a public celebration that usually includes a horse show. It is a public celebration that usually takes place during the summer months to showcase horses and other sporting events. It is usually held in a large arena, usually at a local fairground. It is also a time for horse racing, as the sport is a sport that is popular amongst young and old alike. The fair is often held in conjunction with other events, such as parades, races, and horse races. Horse shows are also held during the summer, when the festival, which is the main event, which is a public celebration that is a way to promote the sport and encourage the public to participate in a variety of horse races.<extra_id_1> </s>\n",
      "########\n",
      "*******\n",
      "question: There are many wage gaps being discussed, the most important of which is between the rich and what?\n",
      "answer: poor\n",
      "choices: ['plain', 'sleepy', 'poor', 'idle', 'needy']\n",
      "common expl list: ['The poor are a group which suffers from a wage gap, denoted as their earning less than others, especially the rich.']\n"
     ]
    },
    {
     "name": "stderr",
     "output_type": "stream",
     "text": [
      "\r",
      " 10%|███████████████▉                                                                                                                                                    | 96/986 [40:07<7:30:02, 30.34s/it]"
     ]
    },
    {
     "name": "stdout",
     "output_type": "stream",
     "text": [
      "generated explanation: <pad> <extra_id_0> The most important wage gap being discussed is between the rich and poor. This is because the rich have the wealthiest of salaries, which are more likely to be used for other expenses, such as food, clothing, and other necessities. The poor have the most disposable income, which is why they are often unable to afford the necessities of life, such as food, clothing, and shelter. The poor also have a lower average age of 30 than the rich, which is why there are more people living in poverty than the rich. The poor have less disposable income, which is a problem for many factors that lead to higher wages. The poor have the advantages of having access to jobs, such as education, work experience, and access to opportunities, making it easier to access to work.<extra_id_1> </s>\n",
      "########\n",
      "*******\n",
      "question: What city in a North American Country, that isn't the United States, would you expect to find a good french restaurant?\n",
      "answer: quebec\n",
      "choices: ['wine', 'nyc', 'quebec', 'manhattan', 'paris']\n",
      "common expl list: ['Quebec is said to have strong french-culture since it was originally french territory. This would make sense if quebec had a good french restaurant.', 'Quebec is a province in Canada, and is known for its french culture.', 'Quebec has a strong french heritage, and the french cuisine is actually quite popular in the United States.', 'Quebec is the only province that speaks French in North America, and you might expect to find a good french restaurant there.']\n"
     ]
    },
    {
     "name": "stderr",
     "output_type": "stream",
     "text": [
      "\r",
      " 10%|████████████████▏                                                                                                                                                   | 97/986 [40:41<7:46:10, 31.46s/it]"
     ]
    },
    {
     "name": "stdout",
     "output_type": "stream",
     "text": [
      "generated explanation: <pad> <extra_id_0> A good french restaurant is a place where you can find fresh, local, and authentic french cuisine. In Canada, the French are known to be very good at cooking up a good meal, and Quebec is no exception. This is due to the fact that the city is located in a French speaking region, and the city is known for its French cuisine. The city is also known for its renowned oysters, which are a staple of the region. The city also has a good selection of wines, including red and white wine, and other local products. The city is also known for its French cuisine, and its reputation for its quality, and its french cuisine. The city is also known for its French, and the culture of the region is known for its cuisine. The French culture is also known for its traditional and its French cuisine, and its cuisine. The city is also known for its a place, as a culturally diverse population. The city is known for its cuisine, and its culinary scene.<extra_id_1> </s>\n",
      "########\n",
      "*******\n",
      "question: Care not to burn you hand on the handle of what small high-walled vessel?\n",
      "answer: saucepan\n",
      "choices: ['brush', 'carry object', 'walking stick', 'umbrella', 'saucepan']\n",
      "common expl list: ['A saucepan is a small, high-walled vessel, built for holding liquids and usually used in the kitchen.']\n"
     ]
    },
    {
     "name": "stderr",
     "output_type": "stream",
     "text": [
      "\r",
      " 10%|████████████████▎                                                                                                                                                   | 98/986 [40:48<5:58:18, 24.21s/it]"
     ]
    },
    {
     "name": "stdout",
     "output_type": "stream",
     "text": [
      "generated explanation: <pad> <extra_id_0> A saucepan is a high-walled, small high-volume vessel that is designed to provide a high-level of insulation and heat retention. It is ideal for cooking, frying, and other applications where heat is required, such as when heating up a pan of soup or a hot pan of stew. The high-walled design also makes it safer to hold a hot pan or a pot of stew. The handle is also designed to provide a secure grip, making it easier to get your hands around the handle without burning your fingers. The combination of the two are important safety factor in a saucepan. Additionally, the high-walled vessel is designed to provide a great deal of heat retention, making it an important part of the safety features that make it easier to keep your hand safe from the heat.<extra_id_1> </s>\n",
      "########\n",
      "*******\n",
      "question: What container does peanut butter come in?\n",
      "answer: jar\n",
      "choices: ['cupboard', 'pantry', 'jar', 'bottle', 'supermarket']\n",
      "common expl list: ['Jars are often used to store food, and peanut butter is a food.', 'Peanut butter comes in glass jars, like many other food products.', 'Jars, like those that pickles often come in, are suitable for food items that need to be kept fresh for long time. Jars can be resealed.', 'Jars can keep food sealed without leaking, and often have lids. Peanut butter is sealed in a jar and could be kept in a house, kitchen, pantry, or cupboard.']\n"
     ]
    },
    {
     "name": "stderr",
     "output_type": "stream",
     "text": [
      "\r",
      " 10%|████████████████▍                                                                                                                                                   | 99/986 [40:58<4:54:46, 19.94s/it]"
     ]
    },
    {
     "name": "stdout",
     "output_type": "stream",
     "text": [
      "generated explanation: <pad> <extra_id_0> Peanut butter comes in a jar because it is a food additive and a common ingredient in many foods. Peanut butter is a nutrient-rich food, and it is essential for the proper digestion and absorption of nutrients. It is a great source of protein, and is a healthy snack. It is also a great source of protein for the body, as it helps to reduce inflammation and improve immunity. Peanut butter is a healthy, low-calorie, and healthy food, and a great source of protein. It is a great snacking, and can be used for any recipe. It can be used to make a delicious peanut butter jar or spreadable to create a variety of peanut butter recipes. It is a great choice for those who want to get the taste and nutrition they need for.<extra_id_1> </s>\n",
      "########\n",
      "*******\n",
      "question: Where are plants likely to be handled by a city employee?\n",
      "answer: park\n",
      "choices: ['park', 'windowsill', 'ground', 'office', 'garden']\n",
      "common expl list: ['Parks are where city employees are likely to handle plants.', 'A city employee might handle plants while working in a park.']\n"
     ]
    },
    {
     "name": "stderr",
     "output_type": "stream",
     "text": [
      "\r",
      " 10%|████████████████▌                                                                                                                                                  | 100/986 [41:05<3:56:07, 15.99s/it]"
     ]
    },
    {
     "name": "stdout",
     "output_type": "stream",
     "text": [
      "generated explanation: <pad> <extra_id_0> A city employee is likely to handle plants in a park because parks are often used to display and protect plants. Parks are often used to house plants that are in good condition, such as trees, shrubs, and other plants. Parks are also often used to house animals, such as animals and people. Parks are also often used to house plants that are not in good condition, such as trees, shrubs, or trees that are in good condition. Parks are also used to house wildlife, such as birds, butterflies, and other plants. They are also often used to create a safe environment for employees to handle plants. They are likely to handle plants in a park because they are often in a park, and they are often used to handle plants in a park because they are often used to create a better way to handle plants.<extra_id_1> </s>\n",
      "########\n",
      "*******\n",
      "question: Trains tend to come on time, airplanes on the other hand tend to what?\n",
      "answer: arrive late\n",
      "choices: ['stall', 'take off', 'arrive late', 'catch on fire', 'carry freight']\n",
      "common expl list: ['Planes are carreid by more complicated mechanisms than trains, and therefore tend to be harder to operate exactly on time.', \"Planes aren't typically known for arriving on time (air traffic, weather, repairs, et. al.), whereas trains tend to be more reliable.\"]\n"
     ]
    },
    {
     "name": "stderr",
     "output_type": "stream",
     "text": [
      "\r",
      " 10%|████████████████▋                                                                                                                                                  | 101/986 [41:30<4:33:48, 18.56s/it]"
     ]
    },
    {
     "name": "stdout",
     "output_type": "stream",
     "text": [
      "generated explanation: <pad> <extra_id_0> Trains tend to come on time, airplanes tend to arrive late. This is because airplanes are not as flexible as they are with trains, and they are not as flexible as trains. This is because airplanes are not as flexible and can arrive late. Trains tend to come on time because they are more flexible and can anticipate the arrival times of other passengers, and can also accommodate any changes in schedules. This can help them to arrive on time and on time, which can help them to plan ahead for the trip. Trains also tend to arrive late as they are not as they are more likely to arrive late as they are not as they are not as well as they are more flexible and can change in flight. Trains tend to arrive late as they are more flexible and can be more flexible and can arrive late as they can be more flexible, as they can be delayed as they are not as they are not as they are not as flexible, and can also arrive at if they are not able to accommodate passengers.<extra_id_1> </s>\n",
      "########\n",
      "*******\n",
      "question: Where is glue well used?\n",
      "answer: art room\n",
      "choices: ['desk drawer', 'cabinet', 'art room', 'school', 'closed container']\n",
      "common expl list: ['Glue is used in art projects, and art rooms are where art projects are done.']\n"
     ]
    },
    {
     "name": "stderr",
     "output_type": "stream",
     "text": [
      "\r",
      " 10%|████████████████▊                                                                                                                                                  | 102/986 [41:35<3:36:08, 14.67s/it]"
     ]
    },
    {
     "name": "stdout",
     "output_type": "stream",
     "text": [
      "generated explanation: <pad> <extra_id_0> The art room is a great place to use glue to create an artistic environment. Glue is a versatile material that can be used to create any number of different types of artwork. It can be used to create a variety of different types of works, such as sculptures, paintings, and collages. It can be used to create a variety of different effects, such as creating a mosaic or a mosaic. It can also be used to attach fabric, paper, and other materials to create a variety of designs. Art can also be used to create a variety of materials, from different types of materials. It can be used to create a variety of different designs, colors, and textures.<extra_id_1> </s>\n",
      "########\n",
      "*******\n",
      "question: Billy loves science, history, and art but isn't very creative.  When he was visiting the museum, he felt a great deal of what emotion?\n",
      "answer: enjoyment\n",
      "choices: ['inspiration', 'fulfillment', 'wonder', 'boredom', 'enjoyment']\n",
      "common expl list: ['When Billy visited a museum which had a lot of fields of interest, Billy enjoyed himself while he learned from the experience at the same time.', 'At a museum, Billy uses history to find science, and science to find art; by combining different loves, going to the museum has been fulfilling. To achieve fulfilment, Billy felt an enjoyable feeling.']\n"
     ]
    },
    {
     "name": "stderr",
     "output_type": "stream",
     "text": [
      "\r",
      " 10%|█████████████████                                                                                                                                                  | 103/986 [41:42<3:00:02, 12.23s/it]"
     ]
    },
    {
     "name": "stdout",
     "output_type": "stream",
     "text": [
      "generated explanation: <pad> <extra_id_0> Billy was visiting the museum because he was enjoying the experience of being in a museum. He was able to see the artifacts and learn about the history behind them, which was very motivating for him. He was also able to see how the museum's design and layout can be used to create a more engaging experience for visitors. This can be especially helpful when visiting museums with people who are less creative or creative, as they can see how the museum is designed to be a place of learning and discovery. In addition, he was able to see the art, which is an exciting and informative displays, and to engage the people in the art, which can help him to enjoy the culture.<extra_id_1> </s>\n",
      "########\n",
      "*******\n",
      "question: Sarah did much hard work, even though she was on vacation.  Her mother told her off and said what?\n",
      "answer: do nothing\n",
      "choices: ['unemployment', 'say something', 'earn money', 'do nothing', 'relaxation']\n",
      "common expl list: ['If one is on vacation, one is supposed to \"do nothing\" as opposed to working - the \"something\" that is discouraged. Many physically hard jobs involve getting the hands dirty.']\n"
     ]
    },
    {
     "name": "stderr",
     "output_type": "stream",
     "text": [
      "\r",
      " 11%|█████████████████▏                                                                                                                                                 | 104/986 [41:46<2:26:12,  9.95s/it]"
     ]
    },
    {
     "name": "stdout",
     "output_type": "stream",
     "text": [
      "generated explanation: <pad> <extra_id_0> Sarah did much work even while on vacation, even though her mother told her off for it. This was because Sarah did not do anything wrong and her mother was just being critical of her. She was telling her off for not doing enough work, and she was right. She was telling her off for doing nothing wrong, and she was wrong. Her mother was right, and she was right. She was telling her off for doing nothing wrong, and she was right. She was telling her off because she was being a good girl and she was doing something else, which she was not doing anything. She was telling Sarah that she was going to do nothing because she was afraid of being caught.<extra_id_1> </s>\n",
      "########\n",
      "*******\n",
      "question: James walked barefoot on a something that was made hot by sunshine. What is he probably walking on?\n",
      "answer: street\n",
      "choices: ['desktop', 'summer', 'moon', 'meadow', 'street']\n",
      "common expl list: ['Because of the intense heat of summer, sunlight reflects off the pavement, causing a hot sensation when one walks barefoot in the summer.']\n"
     ]
    },
    {
     "name": "stderr",
     "output_type": "stream",
     "text": [
      "\r",
      " 11%|█████████████████▎                                                                                                                                                 | 105/986 [42:15<3:48:27, 15.56s/it]"
     ]
    },
    {
     "name": "stdout",
     "output_type": "stream",
     "text": [
      "generated explanation: <pad> <extra_id_0> James may have been walking on a street that is made hot by the sun. This is because the surface of the street is made hot by the sun and is a natural environment for barefoot walking. The sun is warm and shining, which makes the surface of the street even warmer than it would be if the shoes were not worn. The sun rays from the sun heat the pavement and the surfaces of the sidewalks and roads. The hotness of the sun also makes the surface of the street hotter, making the surface of the a natural environment that is made hotter, as the street is likely to the sun and the pavement, which is made hot by the heat from the sun, which makes it more likely that James is walking on the street. The street is also likely to be made hot by the sun, making the surface of the surface of the surface of the barefoot and the surface of the pavement, which makes the surface of the surface of the surface of the street.<extra_id_1> </s>\n",
      "########\n",
      "*******\n",
      "question: He grew tired of standing in the kitchen his whole shift, where was he?\n",
      "answer: restaurant\n",
      "choices: [\"neighbor's house\", \"friend's house\", 'restaurant', 'jail', 'fraternity house']\n",
      "common expl list: ['One can get tired standing in a kitchen if one is on their feet all day; kitchens are typically in restaurants.', 'A restaurant would have a kitchen, where you would be required to stand while your shift is in session.']\n"
     ]
    },
    {
     "name": "stderr",
     "output_type": "stream",
     "text": [
      "\r",
      " 11%|█████████████████▌                                                                                                                                                 | 106/986 [42:54<5:28:48, 22.42s/it]"
     ]
    },
    {
     "name": "stdout",
     "output_type": "stream",
     "text": [
      "generated explanation: <pad> <extra_id_0> He was in a restaurant, working in the kitchen for a year. He was doing the same thing all the time, but he was tired of it. He was tired of being in the kitchen all day, and was getting bored. He was tired of standing in front of the stove and the oven, and he was tired of standing in front of the counter and the counter-tops. He was tired of being in the kitchen all day, and he was tired of the repetitiveness of the job. He was tired of the constant interruptions in the kitchen, and he was tired of the constant presence of the kitchen, and the constant interruptions. He was tired and was tired of the repetitive tasks he was tired of the restaurant. He was tired of standing in the kitchen, and grew tired of the repetitive repetitively. He was tired of the repetitiveness of the kitchen all of the day. He was tired of the restaurant because of the repetitiveness of the restaurant, and was tired of the repetitiveness of the repetitiveness of the job. He was tired of being in the restaurant because of the repetitiveness.<extra_id_1> </s>\n",
      "########\n",
      "*******\n",
      "question: The children play cards often, but they make their own rules because they can't what the originals?\n",
      "answer: remember\n",
      "choices: ['bid', 'concentrate', 'winning', 'count', 'remember']\n",
      "common expl list: ['Children often play games that are similar to those played by adults, such as card games, but with slight variations to how they are played. This is most likely because children cannot remember the original rules of the card games. Smiling is a common expression', \"The children are making up their own rules because they can't remember the original rules.\"]\n"
     ]
    },
    {
     "name": "stderr",
     "output_type": "stream",
     "text": [
      "\r",
      " 11%|█████████████████▋                                                                                                                                                 | 107/986 [43:18<5:37:56, 23.07s/it]"
     ]
    },
    {
     "name": "stdout",
     "output_type": "stream",
     "text": [
      "generated explanation: <pad> <extra_id_0> The children play cards often, but they often make their own rules because they don't know how to follow the rules of the original game. Children often make their own rules to follow when playing cards, but they often do so out of a lack of knowledge about the game. They may also make their own rules to follow when playing games with other children, such as which is the correct way to play and which isn't allowed. This can lead to conflicts and conflicts between the children, as they may not know how to play the game. This can lead to a lot of different rules for different cards. However, the originals rules are always applied, so they must be followed. They must also make their own rules, so they must follow the originals, and must adhere to the rules. This is a way to make their own rules, as they must be consistent and to make their own rules that the original rules. This is a great way to play the original rules, and allowing them to make their own.<extra_id_1> </s>\n",
      "########\n",
      "*******\n",
      "question: On an average day, going to work could make you feel like what?\n",
      "answer: feeling good\n",
      "choices: ['feeling good', 'anger', 'revelation', 'being fired', 'tardiness']\n",
      "common expl list: ['People sometimes feel pride and accomplishment when they get things done at the office.', 'To fulfill a life purpose and to gain fulfillment, people often undertake gainful employment. Thus, the people who experience this data point might experience feelings of accomplishment/fulfillment.']\n"
     ]
    },
    {
     "name": "stderr",
     "output_type": "stream",
     "text": [
      "\r",
      " 11%|█████████████████▊                                                                                                                                                 | 108/986 [43:24<4:22:23, 17.93s/it]"
     ]
    },
    {
     "name": "stdout",
     "output_type": "stream",
     "text": [
      "generated explanation: <pad> <extra_id_0> On an average day, going to work could make you feel like feeling good because it gives you the opportunity to interact with other people and gain new skills. By working, you can also build relationships and build a community of support and colleagues. By working together, you can build a sense of belonging and a sense of purpose. Working together, you can also build a sense of belonging and a sense of accomplishment. Working together can help you to achieve your goals and to build a sense of accomplishment. Working together can also help you to achieve your personal development and professional development. Working together, you can give you the sense of accomplishment and satisfaction and satisfaction in your work.<extra_id_1> </s>\n",
      "########\n",
      "*******\n",
      "question: What country has the carpathians and is the furthest in the direction of the side that won the U.S. Civil War?\n",
      "answer: poland\n",
      "choices: ['slovakia', 'slovenia', 'poland', 'ukraine', 'romania']\n",
      "common expl list: ['Poland is the only country that has the carpathian mountains, and it was the most distant in the direction from the side that won the U.S. Civil War (the North).']\n"
     ]
    },
    {
     "name": "stderr",
     "output_type": "stream",
     "text": [
      "\r",
      " 11%|██████████████████                                                                                                                                                 | 109/986 [43:59<5:35:21, 22.94s/it]"
     ]
    },
    {
     "name": "stdout",
     "output_type": "stream",
     "text": [
      "generated explanation: <pad> <extra_id_0> Poland has the carpathians, a mountain range that extends into the Black Sea and the Black Sea. The carpathians are a mountain range that extends from the Black Sea to the Black Sea and back again to the Atlantic Ocean. The mountains are a symbol of the country's history and are the reason why Poland was able to win the war. The mountains are also known as the Holy Mountains, which are a symbol of peace and unity between the two countries. The Carpathians also provide a way for people to reach their homeland, a key to the country of Ukraine and Russia, as they are located in the direction of the carpath. The mountains are also a sign of peace and security. The carpathians are also a symbol of the country's history, and are important for the country's role in its history. The Carpathians are a symbol of the country's defense and its a key part of its people, and history. The carpathians are also a way of a way of a way of crossing the two sides.<extra_id_24> </s>\n",
      "########\n",
      "*******\n",
      "question: What would happen if you want to win a game?\n",
      "answer: competitiveness\n",
      "choices: ['competitiveness', 'satisfaction', 'learning', 'injuries', 'play']\n",
      "common expl list: ['Competitive athletes would want to win their games, whatever the cost; this desire to win leads to competitiveness and creates the desire to win over even long periods of time; it also often leads to brutal physical play --- such as by causing injuries to opposing r', \"Victory in a game requires one to make a maximum effort, and peoples' desire to win has to be rather competitive.\", 'To win a game, you must be competitive.', 'After playing a game, a person would be likely compelled to win the game becasue they want a feeling of satisfaction from winning the game. In order to win, a person would need to be competitive.', 'If you want to win a game, you will try put your best effort to take your chances at winning over those of your opponents.']\n"
     ]
    },
    {
     "name": "stderr",
     "output_type": "stream",
     "text": [
      "\r",
      " 11%|██████████████████▏                                                                                                                                                | 110/986 [44:03<4:13:02, 17.33s/it]"
     ]
    },
    {
     "name": "stdout",
     "output_type": "stream",
     "text": [
      "generated explanation: <pad> <extra_id_0> If you want to win a game, you must have competitiveness. This is because competitiveness is essential to winning a game. Competing players must have the ability to make decisions quickly and effectively, and they must be able to do so with the utmost professionalism and skill. Competing players must also have a high level of motivation and confidence to win a game. This can be demonstrated by winning a high number of points or by winning a high number of ties. Competing players must also have the ability to compete with other players, and lose, as they must win. Competition is an important factor in order to win a game.<extra_id_1> </s>\n",
      "########\n",
      "*******\n",
      "question: Where should watch to avoid being pinched by a crab?\n",
      "answer: sandy beach\n",
      "choices: ['eastern coast', 'sandy beach', 'fish market', 'north carolina', 'sand dunes']\n",
      "common expl list: ['Crabs live in sandy areas, and people who visit sandy beaches are likely to be pinched by crabs.', 'It is more common to find crabs living in sandy beach areas.']\n"
     ]
    },
    {
     "name": "stderr",
     "output_type": "stream",
     "text": [
      "\r",
      " 11%|██████████████████▎                                                                                                                                                | 111/986 [44:40<5:40:41, 23.36s/it]"
     ]
    },
    {
     "name": "stdout",
     "output_type": "stream",
     "text": [
      "generated explanation: <pad> <extra_id_0> A sandy beach is a great place to watch for crabs because of the wide range of habitats and the high amount of sand and gravel that surrounds the beach. Crabs are particularly fond of the sandy beach, and they can be found in large numbers on the beach. This is because the sandy beach is a great place to find food, and the amount of sand and gravel can make it difficult for smaller crabs to find food sources. Crabs can also be found in the shallows of the beach, which can easily be a great place to watch for crabs, and to avoid being pinched. Additionally, crabs can be found in the water, and can also be seen from the water, making it difficult to determine what is the crabs. Crabs can be found in the a sandy beach, and the sand can be pinched by crabs. s can also be a great place to find a crabs to find a safe place to watch for crabs. This can lead to a great place to look for a crab, and the crabs.</s>\n",
      "########\n",
      "*******\n",
      "question: What is a large group of human beings?\n",
      "answer: civilisation\n",
      "choices: ['an infestation', 'civilisation', 'homes', 'graveyard', 'spacecraft']\n",
      "common expl list: ['Civilisation is generally used to refer to large populations of humans living together in a single area, responding to collective needs.']\n"
     ]
    },
    {
     "name": "stderr",
     "output_type": "stream",
     "text": [
      "\r",
      " 11%|██████████████████▍                                                                                                                                               | 112/986 [46:21<11:19:34, 46.65s/it]"
     ]
    },
    {
     "name": "stdout",
     "output_type": "stream",
     "text": [
      "generated explanation: <pad> <extra_id_0> Civilisation is a large group of human beings. Human beings have evolved over time to be able to live in harmony with each other and share resources and experiences. Civilisation is a way for people to exchange ideas, knowledge, and experience. Civilisation is a way for people to come together and share experiences and knowledge, and it is a way for people to connect and exchange ideas. Civilisation is a way for people to come together and to create a better world. Civilisation is a way for people to live together and to live in a common bond. It is a way to share in the world, and to interact with each other and to share in a common goal of the common humanity. Civilisation is a way for people to live together in a common goal of a common goal: to live in a common goal: to create a better world. Civilisation is a way for people to live in a better world together as a better society and to share in a common language and to live in a common goal. Civilisation is a way for people to share a common way of living together and to create a better world. Civilisation is a way to create a common culture and for people to share knowledge and to share resources and create a common goal. Civilisation is a way for people to create a common goal. Civilisation is a way for people to share a way of living together and share knowledge and to interact with one another and share the common goal. Civilisation is a way for people and create a common goal. Civilisation is a way to share a common goal and create a common culture.<extra_id_1> </s>\n",
      "########\n",
      "*******\n",
      "question: What  is likely to happen to ice in the sun?\n",
      "answer: become water\n",
      "choices: ['cool water', 'cool drink', 'cool off', 'nothing', 'become water']\n",
      "common expl list: ['because hot melts cold, ice will melt if kept in the sun.', 'When ice is exposed to the sun, it melts, becoming water.']\n"
     ]
    },
    {
     "name": "stderr",
     "output_type": "stream",
     "text": [
      "\r",
      " 11%|██████████████████▋                                                                                                                                                | 113/986 [46:27<8:20:26, 34.40s/it]"
     ]
    },
    {
     "name": "stdout",
     "output_type": "stream",
     "text": [
      "generated explanation: <pad> <extra_id_0> The sun is a powerful force in the chemistry of life, as it has the ability to produce heat, which can be used to create new energy. The heat produced by the sun also causes the ice to change into water, which can be used to create new energy. Water is a form of energy that is necessary for life, and is a great source of energy. It is also a very efficient and efficient way to produce heat, which can be used to create new energy. This can be accomplished by heating the ice and a process, which can also be used to creates ice, which can also be used to creates, as it can also cause the ice to melt, which can also be used to create new water.<extra_id_1> </s>\n",
      "########\n",
      "*******\n",
      "question: Where can travellers pull off the road to stretch their legs?\n",
      "answer: rest area\n",
      "choices: ['rest area', 'airport', 'train station', 'come home', 'bus depot']\n",
      "common expl list: ['Rest areas are places where people can pull off the road to stretch their legs, and they are often located near gas stations, which are frequented by travellers.', 'Rest areas are publicly provided spaces for drivers to get out of their cars for a break. Train stations, bus depots, come home, and airports are all places where one might catch a bus, train, taxi, or plane, or have arrived', 'Rest areas generally allow travelers to spend time away from the roads, which are generally connecting points to large cities and particular highway names.']\n"
     ]
    },
    {
     "name": "stderr",
     "output_type": "stream",
     "text": [
      "\r",
      " 12%|██████████████████▊                                                                                                                                                | 114/986 [46:35<6:23:30, 26.39s/it]"
     ]
    },
    {
     "name": "stdout",
     "output_type": "stream",
     "text": [
      "generated explanation: <pad> <extra_id_0> A rest area is a place where travellers can pull off the road to stretch their legs and rest their legs. It is a place where they can get off the road to relax and unwind. It is a place where they can get off the road to relax and unwind, and it is a place where they can get some fresh air and a sense of calm. It is a place where they can relax and unwind, and it is a place where they can take a break from the hustle and bustle of the road. It is a place where travellers can stop for a moment to relax and take in the road. It is a place where they can take a break and take advantage of the road, and take advantage of the rest area and take advantage of the convenience of the convenience of a place to take a break.<extra_id_1> </s>\n",
      "########\n",
      "*******\n",
      "question: A poor family has no decorations in December, what would make a great gift?\n",
      "answer: christmas tree\n",
      "choices: ['food', 'specialty store', 'christmas tree', 'department store', 'christmas stocking']\n",
      "common expl list: ['The family is poor, so we might assume that they have nothing for decoration for their Christmas season. To help fix this, a Christmas tree would be the greatest gift.', 'In December, most families tend to put up christmas decorations. A christmas tree would make a good gift for a poor family.', 'A christmas tree is a traditional decoration for christmas.']\n"
     ]
    },
    {
     "name": "stderr",
     "output_type": "stream",
     "text": [
      "\r",
      " 12%|██████████████████▉                                                                                                                                               | 115/986 [48:18<11:55:46, 49.31s/it]"
     ]
    },
    {
     "name": "stdout",
     "output_type": "stream",
     "text": [
      "generated explanation: <pad> <extra_id_0> A christmas tree is a great gift for a poor family in December. It is a traditional Christmas tree that is decorated with lights, garland, and garland. It is usually a large tree with a swag of lights and a swag of gifts. It is a great way to give gifts to a poor family that have no other decorations in December. It is a great way to show off your holiday spirit and can be decorated with lights, decorations, and ornaments. It is a great gift for the family, and is a great gift for a poor family. Furthermore, a christmas tree can be decorated with a great way to decorate the year. This is a great gift for a great way to give a family a great Christmas tree for the holidays. It is a great gift for a great way to show your appreciation for your family. It is a great gift for a great gift for a poor family to give to show that you have a great gift for a great gift for a poor family. It is a great way to give back to give to a great gift for a poor families. It is a great gift for a great gift for a great way to give to give a great gift for a great gift for a poor family to give them. It is a great way to give them some love and show to give them some love. It is a great gift for a great way to give a poor family. It can be a great gift for a poor family. It is a great way to show how much more than just a poor family. It is a great gift because it is a great gift.</s>\n",
      "########\n",
      "*******\n",
      "question: Where would you buy jeans in a place with a large number of indoor merchants?\n",
      "answer: shopping mall\n",
      "choices: ['shopping mall', 'laundromat', 'hospital', 'clothing store', 'thrift store']\n",
      "common expl list: ['Since malls (or indoor shopping centers in general) contain numerous merchants, including clothing stores, you could purchase jeans in one such store.', 'Shopping malls usually contain a large variety of stores, including stores that sell clothes and jeans.', 'Shopping malls often have a large number of stores, including clothing stores.']\n"
     ]
    },
    {
     "name": "stderr",
     "output_type": "stream",
     "text": [
      "\r",
      " 12%|███████████████████▏                                                                                                                                               | 116/986 [48:36<9:41:48, 40.12s/it]"
     ]
    },
    {
     "name": "stdout",
     "output_type": "stream",
     "text": [
      "generated explanation: <pad> <extra_id_0> A shopping mall is a place with a large number of indoor merchants. These merchants are usually located in large indoor areas, such as the mall. They offer a variety of clothing and accessories, such as jeans, shirts, hats, and accessories. These indoor merchants often have displays of jeans and other clothing items, such as hats, scarves, and shirts. They also offer discounts on merchandise, such as shoes, accessories, and accessories. Shopping malls are also a great place to find online, as they offer discounts on clothes, and other accessories, such as jeans. They also offer discounts on their products, such as their website, and other services. Furthermore, they offer discounts, and other services, which make it easy to buy jeans in a shopping mall a great place to buy jeans and accessories. Furthermore, shopping malls are a great place to find a great place to buy jeans.<extra_id_1> </s>\n",
      "########\n",
      "*******\n",
      "question: If I wanted to get some oxygen, what will I get it from?\n",
      "answer: air\n",
      "choices: ['the sky', 'air', 'earth', 'space shuttle', 'water']\n",
      "common expl list: ['Oxygen is found in the air.']\n"
     ]
    },
    {
     "name": "stderr",
     "output_type": "stream",
     "text": [
      "\r",
      " 12%|███████████████████▎                                                                                                                                               | 117/986 [49:09<9:08:25, 37.87s/it]"
     ]
    },
    {
     "name": "stdout",
     "output_type": "stream",
     "text": [
      "generated explanation: <pad> <extra_id_0> If I wanted to get some oxygen from the air, there are a few ways to get it. Air is a form of gas and is found in the atmosphere. It is a common source of oxygen and is found in the form of carbon dioxide and oxygen. The oxygen in air is what is used to create the gas and oxygen in the cells. It is the building block of life and is essential for life. Without oxygen, the cells would not be able to function properly. This would lead to a decrease in energy production, which is why it is important to get oxygen from the air. Air is a way for us to get oxygen from the cells of our cells. It is a natural product of oxygen from the oxygen in the body. It is the most common source of oxygen, and is the most convenient for people and is a great source of oxygen. Air is a great source of oxygen, which is a great source of oxygen. It is a great way to get oxygen in the cells. It is a great source of oxygen and it is a great way to get it.<extra_id_1> </s>\n",
      "########\n",
      "*******\n",
      "question: What happens after having food too much?\n",
      "answer: getting fat\n",
      "choices: ['being full', 'laziness', 'weight gain', 'getting fat', 'will not starve']\n",
      "common expl list: ['People will become fat, and even obese from eating too much food.', 'Eating too much food causes one to gain weight, and thus become fat.', 'Eating too much food causes one to become obese.']\n"
     ]
    },
    {
     "name": "stderr",
     "output_type": "stream",
     "text": [
      "\r",
      " 12%|███████████████████▌                                                                                                                                               | 118/986 [49:15<6:47:39, 28.18s/it]"
     ]
    },
    {
     "name": "stdout",
     "output_type": "stream",
     "text": [
      "generated explanation: <pad> <extra_id_0> Eating too much food can lead to weight gain. This is because the body cannot store fat in the body properly. Eating too much food can lead to fat storage and storage, which can lead to weight gain. Additionally, the body cannot properly absorb and utilize the nutrients from food. This can lead to the body producing more insulin, which can lead to increased levels of body fat. In addition, the body cannot process fat as quickly as it would normally do, which can lead to an increase in body fat. Eating too much food can also lead to the body storing stored in the body, which can lead to gaining weight. In conclusion: eating too much can lead to a person becoming fat, which can lead to a problem.<extra_id_1> </s>\n",
      "########\n",
      "*******\n",
      "question: It was the first time they had met their new niece, it was good to have everybody together at the annual what?\n",
      "answer: family reunion\n",
      "choices: [\"brother's house\", 'family picture book', 'family tree', 'family reunion', 'book']\n",
      "common expl list: ['A family reunion is called a family reunion because this is where all of the family members gather for the re-union.']\n"
     ]
    },
    {
     "name": "stderr",
     "output_type": "stream",
     "text": [
      "\r",
      " 12%|███████████████████▋                                                                                                                                               | 119/986 [50:09<8:39:10, 35.93s/it]"
     ]
    },
    {
     "name": "stdout",
     "output_type": "stream",
     "text": [
      "generated explanation: <pad> <extra_id_0> The family reunion is a time for family members to gather together for a time of celebration and celebration. It is a time for bonding and sharing, and it is often the first time that people get to meet a new person. The family reunion is a time for sharing and bonding, and it is a time for new experiences and new memories to be shared. It is a time for reuniting and bonding, and it is a time for bonding and sharing. It is a time for bonding and sharing, and sharing in bringing together, and allowing everyone to connect with one another generation. It is a time for everyone to meet and to meet their new niece and nephew. It is a time for the family reunion, and to spend quality time with their new niece and their new family. It is a time for everyone to bonding and allowing everyone to bond and bonding with each other. It is a time spent with relatives and sharing stories and sharing and sharing with each other. It is a time for the new generation to spend with the old and sharing. It is a time for everyone to meet new family. It is a time for sharing and sharing. It is a time for new family and to bonding and it allows everyone to get to bond and spend together.<extra_id_1> </s>\n",
      "########\n",
      "*******\n",
      "question: If you're expressing yourself in a public forum, what may you experience?\n",
      "answer: stage fright\n",
      "choices: ['danger', 'embarrassment', 'stage fright', 'getting arrested', 'blank stares']\n",
      "common expl list: ['Stage fright is the feeling of embarrassment or nervousness at the thought of being in front of people, and being on stage for a performance is a good example of a place where one often experiences stage fright. In such a case, their performance might be', 'A common example of expressing oneself in public is on stage. Members of an audience may stare and become bored, and at worst they may hiss or boo.', 'If you are expressing yourself in a public forum, you may experience stage fright, which is the fear of being embarrassed in front of a large audience.']\n"
     ]
    },
    {
     "name": "stderr",
     "output_type": "stream",
     "text": [
      "\r",
      " 12%|███████████████████▊                                                                                                                                               | 120/986 [50:14<6:24:30, 26.64s/it]"
     ]
    },
    {
     "name": "stdout",
     "output_type": "stream",
     "text": [
      "generated explanation: <pad> <extra_id_0> If you're expressing yourself in a public forum, you may experience stage fright. This is a common fear that can be experienced by anyone who is experiencing it. It can be a feeling of dread, anxiety, and fear that can affect how you feel when speaking in public. Stage fright is a feeling of fear and anxiety that can be present in public. It can also be a feeling of being overwhelmed or intimidated by the pressure of speaking in public. It can also be a feeling of being nervousness, as it can make it difficult for someone else to speak in front of their emotions.<extra_id_1> </s>\n",
      "########\n",
      "*******\n",
      "question: He was eating too much while no exercising enough, what did he suffer as a result?\n",
      "answer: gain weight\n",
      "choices: ['hungry', 'gas', 'obesity', 'gain weight', 'feeling full']\n",
      "common expl list: ['Excessive food consumption leads to accumulation of fat, which then results in a higher body weight, i.e., weight gain.', \"If you eat too much and don't exercise enough, you will gain weight.\", 'If you eat more than you burn, you gain weight.']\n"
     ]
    },
    {
     "name": "stderr",
     "output_type": "stream",
     "text": [
      "\r",
      " 12%|████████████████████                                                                                                                                               | 121/986 [50:33<5:51:55, 24.41s/it]"
     ]
    },
    {
     "name": "stdout",
     "output_type": "stream",
     "text": [
      "generated explanation: <pad> <extra_id_0> He was eating too much while no exercising enough, which resulted in him gaining weight. Eating too much can increase the body's metabolic rate, which is the rate at which the body stores calories. Eating too much can increase the body's metabolic rate, causing it to work harder to process food. Eating too much can also lead to an increase in blood sugar levels, which can lead to an increase in the body's insulin production, which can increase body fat storage and weight gain. Eating too much can increase the body's metabolism, which can cause an increase in the body process, leading to lose more calories. Ultimately, he will gain weight because he will gain weight because of the body's energy from the effects of eating too much can lead to a greater than usual. This can lead to increased body's metabolism, which can cause a person to gain weight because of the body's natural processes.<extra_id_1> </s>\n",
      "########\n",
      "*******\n",
      "question: Randy was not doing housework.   His wife was raising two children, and this only increased her workload. It put her under a lot of stress.  What might this lead to?\n",
      "answer: arguments\n",
      "choices: ['asthma', 'more', 'boredom', 'headache', 'arguments']\n",
      "common expl list: ['Stress is often related to family life. Being under stress, the wife might verbally lash out at her husband, which could potentially lead to arguments']\n"
     ]
    },
    {
     "name": "stderr",
     "output_type": "stream",
     "text": [
      "\r",
      " 12%|████████████████████▏                                                                                                                                              | 122/986 [50:51<5:26:46, 22.69s/it]"
     ]
    },
    {
     "name": "stdout",
     "output_type": "stream",
     "text": [
      "generated explanation: <pad> <extra_id_0> Randy was not doing housework. His wife was raising three children, which put her workload up significantly. This increased workload also put a lot of stress on her. She may have been putting off doing housework because she was busy with other things, such as work or family commitments. This could lead to emotional stress and depression in Randy, as well as other issues. Randy may have been putting off doing housework to help ease the pressure on his wife to do housework, which can lead to depression and anxiety. This can lead to stress can lead to problems in the future, as well as well as to take care of her family. Randy may have not done with the stress his wife was not doing the housework, which could lead to stress leading to emotional stress and depression. His wife was not doing housework could have been putting her workload up with the children, as well- to help her to cope with the pressures of raising the children.<extra_id_1> </s>\n",
      "########\n",
      "*******\n",
      "question: Where can you learn about a ferret with special abilities far beyond normal ferrets?\n",
      "answer: comic book\n",
      "choices: ['comic book', 'out of doors', 'great britain', 'redwall', 'north carolina']\n",
      "common expl list: ['ferrets are lovable pets that occasionally pop up in comic or animated shows and movies. Occasionally a ferret is rodent, but more often they are the companion of a hero.']\n"
     ]
    },
    {
     "name": "stderr",
     "output_type": "stream",
     "text": [
      "\r",
      " 12%|████████████████████▎                                                                                                                                              | 123/986 [52:01<8:47:43, 36.69s/it]"
     ]
    },
    {
     "name": "stdout",
     "output_type": "stream",
     "text": [
      "generated explanation: <pad> <extra_id_0> Comic books are a great way to learn about ferrets with special abilities beyond normal ferrets. They are filled with stories about characters and their abilities, often involving action, adventure, and humor. They often feature ferrets with superhuman abilities, such as the ability to fly, jump, and fly with ease, and they often include a ferret as a character. This gives readers a sense of wonder and wonder at what the characters have to offer. The comics also provide a way to learn about the character, which is often the source of the characters, which can help readers find out their abilities. The comics also provide a way to learn about the ferret’s, as well as well as they contain stories that are full of characters with their special abilities, and their abilities, and their abilities. The comics also provide a great way to get to learn about the character’s. The comic books also provide a way to learn about the character, character’s abilities and their unique abilities, as they are able to learn about the characters’s unique and their abilities. The comics also provide a great way to learn about the characters, as they provide a way to learn about the ferret of characters, and their special abilities, and their abilities, as they are written, and they provide an entertaining way to learn about the characters.<extra_id_1> </s>\n",
      "########\n",
      "*******\n",
      "question: When people have guests over, what do they often do for their guests?\n",
      "answer: cook food\n",
      "choices: ['talk to each other', 'learn from each other', 'demand justice', 'cook food', 'share food']\n",
      "common expl list: [\"It's common to cook food for guests, which can feed everyone.\", \"People often prepare and share food because it's a way to welcome and appreciate each other.\", 'People often cook food for their guests.', \"People who have guests (guests of any kind) over tend to cook them food. The food can either be pre-cooked, and ready to be served upon the guest's arrival, or consumed while the two of them have a conversation.\", \"When people have guests over, it's common for them to make food for their guests.\"]\n"
     ]
    },
    {
     "name": "stderr",
     "output_type": "stream",
     "text": [
      "\r",
      " 13%|████████████████████▍                                                                                                                                              | 124/986 [52:06<6:32:34, 27.32s/it]"
     ]
    },
    {
     "name": "stdout",
     "output_type": "stream",
     "text": [
      "generated explanation: <pad> <extra_id_0> People often cook food for their guests over when they have guests over. Food is a way to show appreciation and show appreciation for those who have already made it. Food can be something simple, like a pie or a savory stew, or a hearty meal that is filled with flavor. It can be something elaborate, such as a meal of meat and vegetables, or a meal that includes a variety of different types of meats and fish. Food can also be a way to show appreciation and appreciation for the people who have a party, or even a special occasion. People often cook for their guests, or even have a special occasion, such as a dinner, or a special someone they can help to enjoy the event.<extra_id_1> </s>\n",
      "########\n",
      "*******\n",
      "question: Talking to someone is pointless if they're doing what?\n",
      "answer: not listening\n",
      "choices: ['dry mouth', 'whispering', 'being heard', 'eye contact', 'not listening']\n",
      "common expl list: ['People who are not listening to you will obviously not be able to understand your communication.', 'To be engaged in a conversation--particularly a one-on-one conversation, both people must be listening attentively.']\n"
     ]
    },
    {
     "name": "stderr",
     "output_type": "stream",
     "text": [
      "\r",
      " 13%|████████████████████▋                                                                                                                                              | 125/986 [52:34<6:32:25, 27.35s/it]"
     ]
    },
    {
     "name": "stdout",
     "output_type": "stream",
     "text": [
      "generated explanation: <pad> <extra_id_0> If someone is not listening, they are not empathizing with you and listening to you. This is because listening is a vital part of human communication. It is the act of listening that makes us better as a person. Without listening, we cannot understand and communicate effectively. Without listening, we are not able to gain insight into the person's thoughts, feelings, and motivations. Without listening, we are unable to gain the insight we need to make the best decisions. Without listening, we are unable to gain an understanding of the person's thoughts, and feelings. Without listening, we can be more effective communication. Without listening, we are not being heard. Without being present, we can also be more effective communication and effective communication. Without listening, we are not able to gain insight into the person's needs. Without listening, it is impossible to gain insight into the person's thoughts, and feelings of others. Without listening, it is not listening is impossible to understand the person's needs and wants to make decisions.<extra_id_1> </s>\n",
      "########\n",
      "*******\n",
      "question: If you are enjoying sunshine on the beach, what do you likely have views of?\n",
      "answer: sea\n",
      "choices: ['windowsill', 'sunbathers', 'disneyland', 'sea', 'summer']\n",
      "common expl list: ['To sunbathe, one would likely be found on a beach, where one would likely see the sea before anything else.', 'Seashores usually have views of the water (i.e., the \"sea\").', \"The beach is a place where people go to enjoy the sun, and so it's likely that the beach would have views of the sea.\"]\n"
     ]
    },
    {
     "name": "stderr",
     "output_type": "stream",
     "text": [
      "\r",
      " 13%|████████████████████▊                                                                                                                                              | 126/986 [52:59<6:23:09, 26.73s/it]"
     ]
    },
    {
     "name": "stdout",
     "output_type": "stream",
     "text": [
      "generated explanation: <pad> <extra_id_0> You are likely enjoying sunshine on a beach because the sun is shining on the water. The sun is reflected off the water, which creates a warm glow and gives the beach a calming effect. The sun reflects off the water, creating a sense of calm and relaxation. The water is a natural part of nature, and the reflections of the sun on the water can be seen from a distance. The warm glow of the sun can also be reflected off the water, which can be enhanced by the reflection of the waves. The sun is a great way to enjoy the sun, as it can be a relaxing activity. The waves and the water can be seen from the shore, a great view of the water, or even in the evening. The sun can be enjoyed by the sea can be a relaxing and a great place to spend time in the sun, as it can be enjoyed by themselves. The warm glow of the sea can be enjoyed by anyone who wants to spend the sun can be relaxing and relaxing on the water.<extra_id_1> </s>\n",
      "########\n",
      "*******\n",
      "question: What does an actor do while acting?\n",
      "answer: pretend\n",
      "choices: ['branch out', 'eat curry', 'wear costume', 'pretend', 'sing songs']\n",
      "common expl list: ['Actors pretend certain things. While acting, they might pretend to be in a different location by going somewhere close to a stage feed. Actors might also pretend to possess particular materials while on stage by carrying props.']\n"
     ]
    },
    {
     "name": "stderr",
     "output_type": "stream",
     "text": [
      "\r",
      " 13%|████████████████████▉                                                                                                                                              | 127/986 [53:35<7:04:09, 29.63s/it]"
     ]
    },
    {
     "name": "stdout",
     "output_type": "stream",
     "text": [
      "generated explanation: <pad> <extra_id_0> An actor pretends to be someone else in order to create a convincing and convincing performance. By pretending, an actor is able to create a realistic image of themselves that is both realistic and entertaining. By pretending, an actor is able to create a character that is authentic and realistic-looking. By pretending, an actor is able to create a character that is authentic and believable. By pretending, an actor is able to create a world of illusions and a world that is both realistic and a realistic character. In addition, pretending allows the audience to see the character they are playing a role in a convincingly realistic and to the audience. The act of pretending allows the actor to create a character and convincing character. By pretending, the actor is able to create a convincing story. By acting, an actor can create a character that is willing to be the audience. The actor is able to create a convincing and convincing character while pretending, and convincing and convincing. In short, pretending to create a convincing character.<extra_id_1> </s>\n",
      "########\n",
      "*******\n",
      "question: Where is a ring binder likely to contain budgets?\n",
      "answer: office\n",
      "choices: ['office', 'notebook', 'school', 'stationary shop', 'desk']\n",
      "common expl list: ['An office setting is the most likely place where a manager would keep a collection of budgets.', 'A ring binder is likely to contain budgets in an office, as budgets are often prepared by office workers.']\n"
     ]
    },
    {
     "name": "stderr",
     "output_type": "stream",
     "text": [
      "\r",
      " 13%|█████████████████████▏                                                                                                                                             | 128/986 [53:44<5:34:07, 23.37s/it]"
     ]
    },
    {
     "name": "stdout",
     "output_type": "stream",
     "text": [
      "generated explanation: <pad> <extra_id_0> A ring binder is likely to be used in an office because it contains budgets. It is typically found in the office, where it is used to store documents such as annual budgets, annual reports, and other financial documents. Ring binders are also used to store business supplies, such as pens, pencils, and other small items. They are designed to be durable, durable, and can be used to store and organize documents. Ring binders are also used to store and organize documents such as receipts, receipts, and other documents. They are also used to help keep track of important information organized. They are also used to organize documents, and other documents. They are also used to store documents such as documents such as a variety of documents, and other documents. They are also used to store the budgets for easy access, and easily accessible.<extra_id_1> </s>\n",
      "########\n",
      "*******\n",
      "question: Where do you go when you're about to board a vehicle on railing?\n",
      "answer: railway station\n",
      "choices: ['railway station', 'deck', 'flight of stairs', 'porch', 'bus station']\n",
      "common expl list: ['Trains and busses both commonly make use of rail transportation to facilitate their travel. Railway station is the station they are staking out to board at. Thus, railway station is where you would go if you need to board a vehicle on a', 'Railway stations are where you board trains, which are often on rails.']\n"
     ]
    },
    {
     "name": "stderr",
     "output_type": "stream",
     "text": [
      "\r",
      " 13%|█████████████████████▎                                                                                                                                             | 129/986 [54:01<5:07:35, 21.54s/it]"
     ]
    },
    {
     "name": "stdout",
     "output_type": "stream",
     "text": [
      "generated explanation: <pad> <extra_id_0> When you're about to board a vehicle on railing, you should go to a railway station. Railway stations are located at the railway station, and are often located near platforms, platforms, and other public areas. They are often located near platforms, platforms, and other public areas, such as the train station, train, or bus stop. This is because the railings are there to keep the vehicles on the track safe. The railings are also used to prevent vehicles from falling off the railings and to prevent vehicles from falling off the railing. The railway stations are usually have signs on railings, and signs in the station. They are designed to help passengers and to board a vehicle. Additionally, the station also provide a number of other services, such as the police, and other services. This allows the public to wait for their vehicle on the station. This allows for a quick and easy process.<extra_id_1> </s>\n",
      "########\n",
      "*******\n",
      "question: Where can I go to see a really big toy balloon floating at the top of a dome?\n",
      "answer: circus\n",
      "choices: ['parade', 'circus', 'amusement park', 'birthday party', 'magic show']\n",
      "common expl list: ['Circuses often have big inflatables on the top dome of a tent; inside, they could house various attractions such as clowns, acts, games, rides, food, drinks, etc.']\n"
     ]
    },
    {
     "name": "stderr",
     "output_type": "stream",
     "text": [
      "\r",
      " 13%|█████████████████████▍                                                                                                                                             | 130/986 [54:16<4:39:01, 19.56s/it]"
     ]
    },
    {
     "name": "stdout",
     "output_type": "stream",
     "text": [
      "generated explanation: <pad> <extra_id_0> A circus is a great place to see a really big toy balloon floating at the top of a dome. Circuses are a type of entertainment that involves a group of people putting on a show. They typically use large props such as balloons, juggling, and other physical activities to create a dramatic spectacle. The circus is a great place to see a really big toy balloon floating at the top of a dome. The balloons are usually made of plastic, which is why they are usually a show. The circuses usually have a lot of fun and entertainment, such as a live entertainment. The circuse is often a place to see a really big toy balloons, which are usually decorated with a clowns, clowns, and other acts. The balloons are usually performed by a real life-sized versions of a show.<extra_id_1> </s>\n",
      "########\n",
      "*******\n",
      "question: They got to the door and it was locked, he reached in his jeans what to retrieve the key?\n",
      "answer: pocket\n",
      "choices: ['pocket', 'bus depot', 'lock', 'purse', 'front door']\n",
      "common expl list: ['People often keep their keys in their pockets.', 'Most people keep house keys in their pocket.']\n"
     ]
    },
    {
     "name": "stderr",
     "output_type": "stream",
     "text": [
      "\r",
      " 13%|█████████████████████▋                                                                                                                                             | 131/986 [54:38<4:48:32, 20.25s/it]"
     ]
    },
    {
     "name": "stdout",
     "output_type": "stream",
     "text": [
      "generated explanation: <pad> <extra_id_0> He reached in his jeans to retrieve the key from his pocket. Pockets are a great place to store keys because they are usually hidden in them. They are a great place to store keys because they are usually easy to find. They are also a great place to store keys because they are usually small and compact, making it easy to grab and place them anywhere. Pockets are also great for keys because they are always close to the body and easy to reach. This way, the key can be easily accessed no matter where he is. He can easily reach into his jeans and retrieve the key from the key when it is locked. Finally, the key can be found in his jeans because he can be easily a great place to find the key. This is important to keep the key safe and easy to find the key in the pocket. The key can be easily accessible and secure place for the key in the back of the door. Finally, he can be sure to find the key when he is locked.<extra_id_1> </s>\n",
      "########\n",
      "*******\n",
      "question: The car was overheating, where was it located?\n",
      "answer: in phoenix\n",
      "choices: ['airport', \"neighbor's house\", 'in phoenix', 'repair shop', 'street corner']\n",
      "common expl list: ['Phoenix is a hot place, and cars often overheat there.']\n"
     ]
    },
    {
     "name": "stderr",
     "output_type": "stream",
     "text": [
      "\r",
      " 13%|█████████████████████▊                                                                                                                                             | 132/986 [55:13<5:52:37, 24.77s/it]"
     ]
    },
    {
     "name": "stdout",
     "output_type": "stream",
     "text": [
      "generated explanation: <pad> <extra_id_0> The car was overheating in phoenix, Arizona. The city is located in the southwest corner of Arizona, near the mountains and the desert. The city is known for its high desert landscapes, which makes it a great place to park and explore. The city also has a number of parks and trails that are great places to visit, such as the Canyonlands Parkway, which is located in the center of Phoenix. The city is also known for its diverse population, which makes it an ideal place to park your car and enjoy the sun too. The city is also known for its unique and unique to provide a place to help. The car was parked in Phoenix, which is also known as being a great place to park, which is the perfect place to park, which is also a great place to park, as it is located in the heart of the city, and the most convenient location. The car was overheated due to the proximity to the city. The city is also known for its unique culture, which makes it an ideal place for those who want to park their lives.<extra_id_1> </s>\n",
      "########\n",
      "*******\n",
      "question: Where is likely to have a walk in type wardrobe?\n",
      "answer: mansion\n",
      "choices: ['recreational vehicle', 'clothes cupboard', 'house', 'mansion', 'bedroom']\n",
      "common expl list: ['As I think of scenarios, the result I expect the most is that of a person with a lot of clothes, or a clothing designer, living in a mansion; these people might have the luxury of a walk in wardrobe.', 'A walk in wardrobe is a large type of closet that could be found in a mansion.', 'A walk-in wardrobe is a large wardrobe that is usually found in a mansion.']\n"
     ]
    },
    {
     "name": "stderr",
     "output_type": "stream",
     "text": [
      "\r",
      " 13%|█████████████████████▉                                                                                                                                             | 133/986 [55:38<5:51:01, 24.69s/it]"
     ]
    },
    {
     "name": "stdout",
     "output_type": "stream",
     "text": [
      "generated explanation: <pad> <extra_id_0> A mansion is likely to have a walk in type wardrobe because of the large amount of space that is likely to be used for clothing. Mansions are typically large enough to accommodate a large number of guests, and a walk in wardrobe is a great way to maximize the space available for guests. Mansions also tend to have larger bedrooms, which can accommodate additional guests, and have a separate dressing room. Mansions typically have a walk in type wardrobe because of the large amount of space that is likely to be used for personal belongings. Additionally, mansions tend to have walk in type of the nature of the mansion, which makes it easy to access to the wardrobe is likely to be a mansion. Mansions are also often larger than apartments, which are often found in the most common features. Mansions are likely to have a walk in type of clothing, and other amenities. Mansions also tend to have walk in-in type wardrobes, which are often found in larger rooms.<extra_id_1> </s>\n",
      "########\n",
      "*******\n",
      "question: How bad is the punishment for someone who is over indulgent?\n",
      "answer: severe\n",
      "choices: ['severe', 'harsh', 'hard', 'strict', 'self denying']\n",
      "common expl list: ['Overindulgence in anything is bad, possibly leading to lethargy, poor health, overspending, and the like. As a result of this, a punishment for a person who is over-indulgent could be severe.']\n"
     ]
    },
    {
     "name": "stderr",
     "output_type": "stream",
     "text": [
      "\r",
      " 14%|██████████████████████▏                                                                                                                                            | 134/986 [55:49<4:52:29, 20.60s/it]"
     ]
    },
    {
     "name": "stdout",
     "output_type": "stream",
     "text": [
      "generated explanation: <pad> <extra_id_0> Overindulging is a form of self-destructive behavior that can lead to serious consequences. It can lead to financial loss, emotional distress, and physical and mental health issues. Overindulging can also lead to mental health issues, such as depression, anxiety, and even depression. It can also lead to anxiety, depression, and anxiety, as well as other mood swings. Furthermore, it can lead to physical health issues, such as anxiety, depression, and anxiety disorder. Furthermore, overindulging can lead to physical and emotional disturbances, which can lead to serious health issues. It can lead to a person to suffer from the consequences of overindul in committing a substance, which can lead to a person’s life. This can lead to a person becoming dependent on others, which can lead to a serious health consequences for someone’s life.<extra_id_1> </s>\n",
      "########\n",
      "*******\n",
      "question: She was going to bed at 11 at night, what was she looking to do?\n",
      "answer: falling asleep\n",
      "choices: ['falling asleep', 'relaxing', 'rest', 'dreaming of', 'laziness']\n",
      "common expl list: ['Falling asleep is often a desired result when going to bed.', \"People go to bed when they're tired and want to sleep\"]\n"
     ]
    },
    {
     "name": "stderr",
     "output_type": "stream",
     "text": [
      "\r",
      " 14%|██████████████████████▎                                                                                                                                            | 135/986 [55:54<3:46:44, 15.99s/it]"
     ]
    },
    {
     "name": "stdout",
     "output_type": "stream",
     "text": [
      "generated explanation: <pad> <extra_id_0> She is looking to fall asleep at 11 at night because she is going to sleep at 11 at night. This is because she is going to bed at 11 at night, and she is looking to fall asleep quickly. By falling asleep, she is looking to relax and unwind. By falling asleep, she is looking to relax and unwind, and to unwind. By falling asleep, she is looking to relax and unwind, and to unwind. By falling asleep, she is looking to unwind and unwind, and to unwind in a calm and relaxing. By 11 at night, she is going to bed, she is going to sleep, and to sleep, and to get to sleep, and to sleep is what she is looking forward.<extra_id_1> </s>\n",
      "########\n",
      "*******\n",
      "question: A company with the moniker of Big Sky Excavation would probably be found where?\n",
      "answer: montana\n",
      "choices: ['a forest', 'city', 'egypt', 'montana', 'desert']\n",
      "common expl list: ['Mountain ranges are often called \"big sky\"s. The term is popular for companies in Montana, a state with lots of mountians, including two major mountain ranges.']\n"
     ]
    },
    {
     "name": "stderr",
     "output_type": "stream",
     "text": [
      "\r",
      " 14%|██████████████████████▍                                                                                                                                            | 136/986 [56:11<3:51:20, 16.33s/it]"
     ]
    },
    {
     "name": "stdout",
     "output_type": "stream",
     "text": [
      "generated explanation: <pad> <extra_id_0> A company with the moniker of Big Sky Excavation would probably be found in mountainous areas of the United States. The company is known for excavating the highest points of the Rocky Mountains, including the peaks of the Cordilleras, the Cascades, and the White Mountains. The company is known for its high-quality equipment, as well as its experienced team of guides and guides. The company is also known for its extensive knowledge of the local area, and its ability to provide a wide range of services. The company has a longstanding reputation of its clients, and its customers. The company is also known for its dedication to its commitment to providing a wide range of services, and is a great place to be found in the mountains of the Rocky Mountains. The company is also known for its commitment to provide a high-quality of services, and customer base of services, and a wide variety of services.<extra_id_1> </s>\n",
      "########\n",
      "*******\n",
      "question: Which horseman of the apocalypse is often depicted next to death?\n",
      "answer: war\n",
      "choices: ['battlefield', 'the healer.', 'funeral', 'war', 'hospital']\n",
      "common expl list: ['A time of war is also often associated with someone dying.']\n"
     ]
    },
    {
     "name": "stderr",
     "output_type": "stream",
     "text": [
      "\r",
      " 14%|██████████████████████▌                                                                                                                                           | 137/986 [59:06<15:01:34, 63.72s/it]"
     ]
    },
    {
     "name": "stdout",
     "output_type": "stream",
     "text": [
      "generated explanation: <pad> <extra_id_0> War is often depicted next to death because it is the end of civilization and the beginning of the end of the world. In the Bible, war is the end of all civilisation and the beginning of the end of the world. It is the end of the world and death is the beginning of a new era of history. In the Bible, war is the beginning of the world and the end of all<extra_id_1> Death is the end of all that is human. War is the end of all that is human and the end of all that is the end of all time and the end of war is the end of civil war is the end of all of humanity. War is the beginning of the end of humanity and the end of the beginning of all of humanity. War is the end of all war is the beginning of the end of humanity. War is the end of all of war and the end of humanity. Death is the beginning of war, because it is the end of all of war and the end of humanity. War is the end of all of war, peace and the end of war is the end of humanity. It is the end of war and the end of war. War is the end of war, and the end of war. The end of war is the end of humanity. War is the end of war and the end of humanity. War is the end of war and the end of war. Death is the end of humanity and the end of humanity. War is the end of war. It is the beginning of humanity and the end of humanity. War is the end of humanity and the end of humanity. War is the beginning of humanity. War is the beginning of the beginning of humanity. War is the beginning of the beginning of war and the beginning of humanity. War is the beginning of the beginning of the end. Death is the beginning of the beginning of the beginning of the beginning of the world and the beginning of the beginning of the beginning of humanity. War is the beginning. War is the beginning of humanity and the beginning of humanity and the beginning of humanity. It is the beginning of the beginning of the beginning of the beginning of the beginning of humanity. It is the end of humanity and the end of humanity. Death is the beginning of the end of war. Death is the end of the beginning of the beginning of the end of the beginning of the end of humanity. Death and the beginning of humanity.</s>\n",
      "########\n",
      "*******\n",
      "question: What could be used to write with a steel pen?\n",
      "answer: hand\n",
      "choices: ['warehouse', 'arm', 'hand', 'desk drawer', 'veterinary office']\n",
      "common expl list: ['you write with a steel pen using your hand.', 'Using a steel pen requires someone to hold it, and we associate writing with hands. Powder can be used with steel pens as a \"contrast medium.']\n"
     ]
    },
    {
     "name": "stderr",
     "output_type": "stream",
     "text": [
      "\r",
      " 14%|██████████████████████▋                                                                                                                                           | 138/986 [59:13<11:02:58, 46.91s/it]"
     ]
    },
    {
     "name": "stdout",
     "output_type": "stream",
     "text": [
      "generated explanation: <pad> <extra_id_0> A hand is one of the most common writing tools used with a steel pen. It is a versatile tool that can be used to write with a variety of materials, including paper, cloth, and even steel. It can be used to write on metal surfaces, such as wood, metal sheet, and plastic. It can also be used to write on smooth surfaces, such as glass, metal, and plastic. It can be used to write with a steel pen because the pen is made from a hard material that is resistant to heat and writing. It can be used to write with a simple gesture or even be accomplished with a steel pen. The hand can also be used to write with a variety of writing device that can be used to write with a steel pen, such as a steel pen, or to write.<extra_id_1> </s>\n",
      "########\n",
      "*******\n",
      "question: I needed to find out how to contact a person with a certain name, where should I look?\n",
      "answer: phone book\n",
      "choices: ['directory', 'michigan', 'roster', 'phone book', 'certificate']\n",
      "common expl list: ['Phone books are usually a good source for finding phone numbers to call other people.', \"Phone books are used to find people's phone numbers.\", 'A phone book is likely to have the phone numbers of nearby people.', 'People are listed in phone books for easy access by callers.']\n"
     ]
    },
    {
     "name": "stderr",
     "output_type": "stream",
     "text": [
      "\r",
      " 14%|██████████████████████▉                                                                                                                                            | 139/986 [59:21<8:17:37, 35.25s/it]"
     ]
    },
    {
     "name": "stdout",
     "output_type": "stream",
     "text": [
      "generated explanation: <pad> <extra_id_0> If you needed to contact a person with a certain name, you would look in the phone book. Phone books are a great way to find information about people with a certain name. They can provide you with a list of phone numbers, addresses, and phone numbers for people with that name. Phone books can also be used to find out the address of the person, a phone number, and even the phone number of the person's family members. Phone books can also be used to find out the phone number of the person, as well as they can often provide a list of phone number, such as the name, or the person's name. They can also be used to find out the name of the name, as well as it can be used to find the person's phone numbers, and even the phone book.<extra_id_1> </s>\n",
      "########\n",
      "*******\n",
      "question: What is important for a couple to do?\n",
      "answer: communicate\n",
      "choices: ['live together', 'row about', 'plan to marry', 'communicate', 'marry each other']\n",
      "common expl list: ['Communication is a key part of a healthy relationship and - often equally as important - is the commitment to communicate effectively.', 'Couples who communicate well are more likely to stay together, and thus, it is important for a couple to communicate.', \"To make a relationship work, it's very important to communicate with each other.\"]\n"
     ]
    },
    {
     "name": "stderr",
     "output_type": "stream",
     "text": [
      "\r",
      " 14%|███████████████████████▏                                                                                                                                           | 140/986 [59:32<6:31:07, 27.74s/it]"
     ]
    },
    {
     "name": "stdout",
     "output_type": "stream",
     "text": [
      "generated explanation: <pad> <extra_id_0> Communication is important for couples to do. It is important to communicate with each other and to be able to communicate effectively. This involves a clear understanding of each other’s needs and wants, and a clear understanding of each other’s differences. Communication also includes the ability to express emotions and express feelings in a clear and concise way. Communicating is the most important part of a successful relationship. It is important to be able to communicate with each other in a timely and respectful way, and to be able to express feelings and emotions. It is important to be able to communicate effectively and to communicate with each other, and to be able to understand each other’s needs and to understand each other, and to be understood. It is important for a couple to communicate with each other, and to be able to share their needs, and to communicate effectively.<extra_id_1> </s>\n",
      "########\n",
      "*******\n",
      "question: The botanist knew the plant was living, what did he observe that led him to know that?\n",
      "answer: respiration\n",
      "choices: ['interaction', 'death', 'respiration', 'expiration', 'chlorophyll']\n",
      "common expl list: [\"The teacher commonly noted that plants give off oxygen as a result of respiration, which helps fuel their energy and growth. This was evidence of a plant's life.\"]\n"
     ]
    },
    {
     "name": "stderr",
     "output_type": "stream",
     "text": [
      "\r",
      " 14%|███████████████████████▎                                                                                                                                           | 141/986 [59:54<6:09:50, 26.26s/it]"
     ]
    },
    {
     "name": "stdout",
     "output_type": "stream",
     "text": [
      "generated explanation: <pad> <extra_id_0> The botanist observed the plant living because it was living, and that living plants have respirations. This means that the plant is breathing and generating energy that is needed to survive. In order to survive, plants need to produce energy to survive, and to do so they need to produce oxygen. In order to do this, plants need to produce oxygen, which is why they need to produce respiration. In order to do this, they need to produce carbon dioxide, which is converted to heat and then to heat gas. This heat then converts into oxygen, which is important for the plants to survive. Furthermore, the plant needs oxygen to survive and produce oxygen, which is essential for survival. This allows for the plant to survive and grow, which is essential for survival. This is important for the plant to live, as it needs to produce carbon dioxide, which is essential for survival. Furthermore, respiration is essential for the plant to survive and to survive, as it is an essential for survival.<extra_id_1> </s>\n",
      "########\n",
      "*******\n",
      "question: What is it called when teens are together not doing anything in particular?\n",
      "answer: hang out\n",
      "choices: ['smoke', 'homework', 'volunteer', 'party', 'hang out']\n",
      "common expl list: ['Hanging out\" is used to describe events where people are socializing, doing nothing in particular. Other events include hanging out with a purpose (doing homework, studying outside, going shopping, etc.).', 'Hang out is a term that could be used for teens hanging out together, typically with no particular agenda.']\n"
     ]
    },
    {
     "name": "stderr",
     "output_type": "stream",
     "text": [
      "\r",
      " 14%|███████████████████████▏                                                                                                                                         | 142/986 [1:00:01<4:47:33, 20.44s/it]"
     ]
    },
    {
     "name": "stdout",
     "output_type": "stream",
     "text": [
      "generated explanation: <pad> <extra_id_0> When teens are together not doing anything in particular, it is called hang out. This is because teens are often too involved in activities to be doing anything productive. Hang out is a time when they spend time together without doing anything in particular. It is a time to bond and socialize, and to be able to talk and exchange ideas. It is also a time to socialize and relax. Hanging out is a time to relax and unwind, and to unwind. It is a time to just be together and to just to be with their friends and family. It is a time to spend with friends and to have fun. It is also a time to bond and have fun activities. It is a time to watch TV, and to hang out.<extra_id_1> </s>\n",
      "########\n",
      "*******\n",
      "question: The saw was not necessary for car repair, so what wasn't it included with during pucrhase?\n",
      "answer: tool kit\n",
      "choices: ['tool shed', 'tool box', 'tool kit', 'hardware store', 'toolbox']\n",
      "common expl list: ['A saw is another name for a cutting tool, but they are often not included with a tool kit, because a kit is used for other repair needs (bolts, screws, bindings, etc.), and a saw is not required for a car repair']\n"
     ]
    },
    {
     "name": "stderr",
     "output_type": "stream",
     "text": [
      "\r",
      " 15%|███████████████████████▏                                                                                                                                        | 143/986 [1:02:20<13:04:52, 55.86s/it]"
     ]
    },
    {
     "name": "stdout",
     "output_type": "stream",
     "text": [
      "generated explanation: <pad> <extra_id_0> The saw is not necessary for car repair, so what isn't included with a tool kit during tool kit is not included with the tool kit? The saw is not a necessary tool for car repair, so it is not included with a tool kit. The saw is a tool that is used to cut metal, plastic, and plastic parts. The saw is not necessary for car repair, as it is not necessary to cut plastic, plastic, or metal parts. The saw is a tool that is often used to cut metal. The saw is a tool that is included in the tool kit is a tool that includes a tool kit is included with the saw is not included in the saw is not included in the tool kit. The saw is not included in the tool kit is not included in the tool kit, but the saw is not included in the tool kit. The saw is a tool that is not included in the tool that is not included in the tool. The saw is not included in the tool that is not included in the tool kit. The saw is not included in the tool kit, and is not included in the tool kit, but is not included in the tool for car repair. The saw is not required in the tool kit because it is not necessary in the tool, and is not included in the tool, the tool, and is not included in the tool kit because it is not required for car repair. The saw is not included in the tool that is not included in the tool kit, but it is not necessary for car repair, and is not necessary for car repair, so it is not necessary for car repair, but it is not necessary for car repair, and is not required for car repair, so it is not required for car repair, so it is not necessary to cut, and it is not necessary for the tool for car repair, but rather, it is not necessary for car repair, so it is not necessary for the tool, and it is not required for car. It is not necessary for car repair.</s>\n",
      "########\n",
      "*******\n",
      "question: Where will my kid put their coin in their room?\n",
      "answer: piggy bank\n",
      "choices: ['piggy bank', 'wishing well', 'parking meter', 'under pillow', 'change purse']\n",
      "common expl list: ['Kids commonly save small amounts of money for later use, and these savings are often kept in piggy banks.', 'Piggy banks are often used to store coins.']\n"
     ]
    },
    {
     "name": "stderr",
     "output_type": "stream",
     "text": [
      "\r",
      " 15%|███████████████████████▎                                                                                                                                        | 144/986 [1:02:46<10:57:43, 46.87s/it]"
     ]
    },
    {
     "name": "stdout",
     "output_type": "stream",
     "text": [
      "generated explanation: <pad> <extra_id_0> A piggy bank is a great place for kids to put their coins and change. It is a place for kids to put their coins and change in, and it is a great way to store them in a safe place. It is also a great way to store change for future use, as it allows them to accumulate money without having to worry about losing it. A piggy bank is a great way for kids to store coins and change in their room, as it is a place for them to put their coins and change. A piggy bank is a great way to store their coins and they can put their money in a safe place for them to put their coins and change. A piggy bank is a great place for kids to put their coins and for them to put their money in a safe place to keep their coins and change. It is a great way to store their coins and to keep their coins in a piggy bank is a safe place for them to put their coins and change.<extra_id_1> </s>\n",
      "########\n",
      "*******\n",
      "question: Where is a fire extinguisher likely to be found behind the seat?\n",
      "answer: school bus\n",
      "choices: ['school bus', 'house', 'garden', 'stairwell', 'garage']\n",
      "common expl list: ['Fire extinguishers are required on public-transit vehicles, such as school buses.']\n"
     ]
    },
    {
     "name": "stderr",
     "output_type": "stream",
     "text": [
      "\r",
      " 15%|███████████████████████▋                                                                                                                                         | 145/986 [1:02:53<8:10:10, 34.97s/it]"
     ]
    },
    {
     "name": "stdout",
     "output_type": "stream",
     "text": [
      "generated explanation: <pad> <extra_id_0> A fire extinguisher is likely to be found behind the seat on a school bus because it is typically located behind the seat. This is because the seat is designed to be comfortable and safe, and the seats are designed to prevent a fire from spreading. Additionally, the seat is often heated, which can help to keep the heat off the seat, which can also help to keep the flames out. Additionally, the seat is often upholstered, which helps to prevent the seat from getting too hot. The seat is also a great place for safety precautions, as it can help to put out a fire. Additionally, the seat is often located behind the bus, which is why the seat is often the most commonly found behind the seat is often the most likely to be the seat.<extra_id_1> </s>\n",
      "########\n",
      "*******\n",
      "question: His therapist said he had to get out there and begin socialising, it was the only was to start what?\n",
      "answer: friendships\n",
      "choices: ['conflicts', 'having fun', 'jealousy', 'getting out there', 'friendships']\n",
      "common expl list: ['Interacting with other people socially is likely to result in making new friends.', 'His therapist said that he needed to speak to people if he wanted to be less withdrawn. This would help him to get out of his shell.']\n"
     ]
    },
    {
     "name": "stderr",
     "output_type": "stream",
     "text": [
      "\r",
      " 15%|███████████████████████▊                                                                                                                                         | 146/986 [1:03:02<6:20:20, 27.17s/it]"
     ]
    },
    {
     "name": "stdout",
     "output_type": "stream",
     "text": [
      "generated explanation: <pad> <extra_id_0> The therapist said that the only way to start socialising is through creating and maintaining friendships. Building and maintaining friendships is the most important step in socialising and establishing relationships. Without socializing, relationships are essentially closed loops of communication. Without socialising, people are more likely to develop unhealthy relationships and become withdrawn. Without socialising, people are more likely to become isolated and isolated, which can lead to depression and anxiety. Without socialising, people are less likely to make new friends and socialising is the most effective way to develop a sense of belonging. Getting out there is the only way to make new friends and develop a sense of belonging and of belonging. By creating and he can begin to make lasting friendships. Through socialising, he can begin a sense of belonging and begin to make new friends and feel more secure and secure.<extra_id_1> </s>\n",
      "########\n",
      "*******\n",
      "question: What is likely true about a dog that escapes regularly?\n",
      "answer: very smart\n",
      "choices: ['very smart', 'very loyal', 'tired', 'friendly', 'faithful']\n",
      "common expl list: ['Intelligent dogs (especially when concerned with food and treats) who are looking for some form of freedom will have the intelligence to escape regularly.']\n"
     ]
    },
    {
     "name": "stderr",
     "output_type": "stream",
     "text": [
      "\r",
      " 15%|████████████████████████                                                                                                                                         | 147/986 [1:03:09<4:56:15, 21.19s/it]"
     ]
    },
    {
     "name": "stdout",
     "output_type": "stream",
     "text": [
      "generated explanation: <pad> <extra_id_0> A dog that escapes regularly is likely very smart because it is able to make quick decisions and make quick decisions. This is because dogs are very smart and are able to make quick decisions about what to do next. Dogs are extremely smart and can make quick decisions based on what they see and hear, and how to react to the situation. They also have the ability to make quick decisions based on what they see and hear. This makes them very smart and can make quick decisions based on what they see and hear. This makes them very smart and can make decisions that help them to make smart and make decisions. They can also make quick decisions when they need to escapes. Furthermore, dogs that they are able to make quick decisions when it comes to make quick decisions when it comes to leave.<extra_id_1> </s>\n",
      "########\n",
      "*******\n",
      "question: If you're going to a party in an alley, what is likely to happen?\n",
      "answer: doing drugs\n",
      "choices: ['call the police', 'doing drugs', 'new contacts', 'making new friends', 'plan']\n",
      "common expl list: ['People going to parties in an alley are often going to do drugs and vice.', 'Alleys are associated with crime; and, people performing illegal drugs at a party is illegal.', 'People often do drugs at parties, and alleys are often used for parties.']\n"
     ]
    },
    {
     "name": "stderr",
     "output_type": "stream",
     "text": [
      "\r",
      " 15%|████████████████████████▏                                                                                                                                        | 148/986 [1:03:31<4:57:16, 21.29s/it]"
     ]
    },
    {
     "name": "stdout",
     "output_type": "stream",
     "text": [
      "generated explanation: <pad> <extra_id_0> If you're going to a party in an alley, what's likely to happen? Taking drugs. Drugs are a common way for people to get high, and an alley is a great place to do this. It is a place where people can get together and have a good time, but if you're not careful, you may end up with a lot of people intoxicated. This is because the atmosphere is a bit raucous and the noise can be loud, which is likely to be around. It is also important to keep the party in an alley, which is important for the safety of the party. Moreover, it is a party can lead to a lot of people if they are involved in a good time with their friends. Ultimately, the party can result in a lot of the atmosphere, which is a great way to make it more fun and have fun.<extra_id_1> </s>\n",
      "########\n",
      "*******\n",
      "question: The man was very tired and sore, he decided to stay in bed to what?\n",
      "answer: rest more\n",
      "choices: ['rest more', 'lazy', 'were sick', 'to be sick', \"you're sick\"]\n",
      "common expl list: ['The man was so tired and sore, he just wanted a break. His illness would keep him in bed.', \"When people are sick, they tend to rest, as it's the most sensible thing.\", 'The man was tired and sore, so he decided to rest more.']\n"
     ]
    },
    {
     "name": "stderr",
     "output_type": "stream",
     "text": [
      "\r",
      " 15%|████████████████████████▎                                                                                                                                        | 149/986 [1:03:35<3:47:31, 16.31s/it]"
     ]
    },
    {
     "name": "stdout",
     "output_type": "stream",
     "text": [
      "generated explanation: <pad> <extra_id_0> The man was very tired and sore, and he decided to stay in bed to rest. Resting allows the body to relax and recuperate, which is important for a person to do when they are in a stressful situation. Having a bed to sleep in is the best way to ensure that the body is in a restful and healthy state. Having a bed to rest in is also a great way to reduce stress and anxiety, as it allows the body to rest and recover itself. Having a bed can help the man to relax, and to improve his mood and his mood.<extra_id_1> </s>\n",
      "########\n",
      "*******\n",
      "question: He was back in his hometown, he was planning on having fun and doing what?\n",
      "answer: visiting friends\n",
      "choices: ['being understood', 'hug', 'rambling', 'kiss', 'visiting friends']\n",
      "common expl list: ['People usually visit their friends when they return to a town where they previously used to live, because their friends would have missed them.', 'If a person is back in their hometown, they might visit their friends, who they might not see very often.', 'If a person went back to their hometown, they might be glad to see their old friends, and visit them while they are there.']\n"
     ]
    },
    {
     "name": "stderr",
     "output_type": "stream",
     "text": [
      "\r",
      " 15%|████████████████████████▍                                                                                                                                        | 150/986 [1:03:43<3:10:35, 13.68s/it]"
     ]
    },
    {
     "name": "stdout",
     "output_type": "stream",
     "text": [
      "generated explanation: <pad> <extra_id_0> He was planning to have fun in his hometown, visiting friends and family. Visiting friends is a great way to spend time with family and friends, and to make new friends. Visiting friends is a great way to make new friends and make new memories. Visiting friends is a great way to spend time with family and friends, and to make new friends. Visiting friends can be a great way to spend time with friends and family members. Visiting friends can also be a great way to spend time together and make new life. During the weekend, he could spend quality time with his hometown and plan for fun. Visiting with friends can be a great way to spend time with them and to have fun with the people a great way to enjoy the company of the whole family and to spend time together.<extra_id_1> </s>\n",
      "########\n",
      "*******\n",
      "question: Where is basketball court likely to be outdoors?\n",
      "answer: city\n",
      "choices: ['high school gymnasium', 'city', 'park', 'use', 'los angeles']\n",
      "common expl list: ['Basketball courts are often urban.', 'Most American cities have basketball courts in public parks.', 'Basketball courts are likely to be at parks and recreational centers in cities.', 'Basketball courts are often found in city parks.']\n"
     ]
    },
    {
     "name": "stderr",
     "output_type": "stream",
     "text": [
      "\r",
      " 15%|████████████████████████▋                                                                                                                                        | 151/986 [1:03:50<2:42:29, 11.68s/it]"
     ]
    },
    {
     "name": "stdout",
     "output_type": "stream",
     "text": [
      "generated explanation: <pad> <extra_id_0> A basketball court is typically found outdoors. This is because it is a sport that is often enjoyed by many people. It is often found in urban areas, such as cities, towns, and suburbs. Basketball courts are typically located in urban areas because of the large number of people who play them. Basketball is also a sport that is commonly played on outdoor courts. In urban areas, basketball courts are often located in parks, which provide a great opportunity for players to have fun and engage in physical activity. Cities also provide opportunities for sports like soccer, baseball, soccer, which is a great place for players to play. Basketball courts are often found in parks, and are often located in cities, which makes it a great choice for basketball courts.<extra_id_1> </s>\n",
      "########\n",
      "*******\n",
      "question: When you want to get the skin off of an apple, you do what to it?\n",
      "answer: peel\n",
      "choices: ['seeds inside', 'stems', 'peel', 'grocery store', 'green market']\n",
      "common expl list: ['Apples have a skin that can be peeled off.', 'Skin is something you peel from fruits like apples, peaches, oranges, kiwi, etc...']\n"
     ]
    },
    {
     "name": "stderr",
     "output_type": "stream",
     "text": [
      "\r",
      " 15%|████████████████████████▊                                                                                                                                        | 152/986 [1:03:56<2:19:42, 10.05s/it]"
     ]
    },
    {
     "name": "stdout",
     "output_type": "stream",
     "text": [
      "generated explanation: <pad> <extra_id_0> The peeling process is a great way to remove the skin from an apple. Peeling an apple is a great way to remove the outer layer of the apple skin, allowing the inside of the apple to be removed without damaging the skin. Peeling an apple is a great way to remove the skin of an apple and remove the skin from the apple. It also removes the outer layer of the apple, allowing the inside to be removed without damaging the skin. Peeling an apple is a great way to remove the outer layer of the inside of the skin off the skin of the skin, making it easier to remove the inside the inside of the outside of the inside of the inside of the inside of the apple.<extra_id_1> </s>\n",
      "########\n",
      "*******\n",
      "question: Where could you put some knives if you are planning to bring them outside with you?\n",
      "answer: backpack\n",
      "choices: ['purse', 'backpack', 'drawer', 'sporting goods store', 'kitchen']\n",
      "common expl list: [\"To carry knives on one's person, you need some small type of container to hold the knives. Perhaps the most likely place to carry a small container is a backpack.\", \"Knives are usually brought along if hiking, camping, fishing, or other outings, and backpacks make it easy to transport one's belongings.\"]\n"
     ]
    },
    {
     "name": "stderr",
     "output_type": "stream",
     "text": [
      "\r",
      " 16%|████████████████████████▉                                                                                                                                        | 153/986 [1:04:02<2:00:35,  8.69s/it]"
     ]
    },
    {
     "name": "stdout",
     "output_type": "stream",
     "text": [
      "generated explanation: <pad> <extra_id_0> A backpack is a great way to carry knives outside with you when you go on a camping trip. It is a great way to store them and make sure they are protected from the elements. Knives are also a great way to protect your knives from sharp objects, such as sticks and other sharp objects. A backpack is a great way to store knives because it is easy to store them and is small enough to fit most standard sized knives. It also provides a safe place to put them in case they get lost or damaged. The knife is also a great way to store them safely and securely. This allows you to keep your knives safe and safe while on the go. It also allows you to carry them with you are traveling with you.<extra_id_1> </s>\n",
      "########\n",
      "*******\n",
      "question: John watches the well dressed people from a catwalk above the stage.  He listens to them speak rehearsed lines while the audience listens.  Where is he/\n",
      "answer: theatre\n",
      "choices: ['theatre', 'new york city', 'fashion show', 'construction site', 'school play']\n",
      "common expl list: ['Theatres have catwalks where people might observe and listen to actors.']\n"
     ]
    },
    {
     "name": "stderr",
     "output_type": "stream",
     "text": [
      "\r",
      " 16%|█████████████████████████▏                                                                                                                                       | 154/986 [1:04:36<3:46:49, 16.36s/it]"
     ]
    },
    {
     "name": "stdout",
     "output_type": "stream",
     "text": [
      "generated explanation: <pad> <extra_id_0> John is usually in a theatre, usually in a musical production. He is usually standing above the stage, looking down at the actors and the audience. He is able to see the people on stage as they speak and observe them. He is able to tell the time and the story of the piece, as well as the audience. John is able to observe the actors and the audience from above, above and below the stage. He can also look up and see the actors and the audience standing on the stage. He can also see the audience, as the actors perform in the musical. He is often in a theatre, as he is able to keep up and listen to the stage. The audience is able to hear the cast and the well dressed people speak their lines, as the audience. John is able to see the actors and the audience. John is able to keep the theatre while the actors and the performers are in the stage. The audience is able to watch the people on the stage as they speak, and watch the well dressed people as they are rehe watches the people as they perform.</s>\n",
      "########\n",
      "*******\n",
      "question: If I am creating art and have completed it to satisfaction, what is my feeling?\n",
      "answer: enlightenment\n",
      "choices: ['enlightenment', 'tired', 'frustration', 'relax', 'controversy']\n",
      "common expl list: ['Enlightenment is the label for a moment of clarity, and the word is often applied to artists who have created something unique or daring.']\n"
     ]
    },
    {
     "name": "stderr",
     "output_type": "stream",
     "text": [
      "\r",
      " 16%|█████████████████████████▎                                                                                                                                       | 155/986 [1:04:43<3:08:07, 13.58s/it]"
     ]
    },
    {
     "name": "stdout",
     "output_type": "stream",
     "text": [
      "generated explanation: <pad> <extra_id_0> I am feeling enlightenment when I am creating art. Art can be a form of meditation, a form of therapy, a form of self-expression, or a form of creative expression. It can help to bring about a sense of peace, calm, and peace within oneself. It can also be a way to express oneself through the use of language, color, and other forms of expression. When I am creating art, I am experiencing a sense of being at peace, and that is a feeling of a sense of a sense of satisfaction and a sense of accomplishment and satisfaction when I have completed it is complete and achieved. It can also be a form of self-confidence and empowering, as well as it can help me to see the world around me.<extra_id_1> </s>\n",
      "########\n",
      "*******\n",
      "question: He was serious and pragmatic, so why did he drive his car?\n",
      "answer: transportation\n",
      "choices: ['transportation', 'car crash', 'death', 'sleepy', 'stress']\n",
      "common expl list: ['People often drive cars to get from one place to another.', 'Because driving is the most practical mode of transportation judging by the time and distance required to do so.']\n"
     ]
    },
    {
     "name": "stderr",
     "output_type": "stream",
     "text": [
      "\r",
      " 16%|█████████████████████████▍                                                                                                                                       | 156/986 [1:04:50<2:39:22, 11.52s/it]"
     ]
    },
    {
     "name": "stdout",
     "output_type": "stream",
     "text": [
      "generated explanation: <pad> <extra_id_0> He drove his car because he was serious and pragmatic, so he would need to travel a lot. Getting to and from work is important, and he would need to be able to travel to work and home as quickly as possible. Getting to work also requires a certain amount of planning, planning, and preparation. Having a car is a great way to stay connected with the people around you, and it is a great way to stay connected. Having a car also allows you to communicate more effectively, as well as it allows him to reach his goals. Moreover, he was able to gain an important role in a car as he was driven his passion and pragmatic.<extra_id_1> </s>\n",
      "########\n",
      "*******\n",
      "question: What does god want people to do for money?\n",
      "answer: work in life\n",
      "choices: ['work in life', 'speak to people', 'everywhere', 'sitting ideal', 'care for people']\n",
      "common expl list: ['The scriptures explain that people should acquire money by providing good products or services, e.g., to bring value to other people and make a living.']\n"
     ]
    },
    {
     "name": "stderr",
     "output_type": "stream",
     "text": [
      "\r",
      " 16%|█████████████████████████▋                                                                                                                                       | 157/986 [1:04:55<2:14:39,  9.75s/it]"
     ]
    },
    {
     "name": "stdout",
     "output_type": "stream",
     "text": [
      "generated explanation: <pad> <extra_id_0> God wants people to work in life for money. Money is the primary currency of the world, and it is used to purchase goods and services. It is the primary means of obtaining material goods and services. Money is the primary means by which people gain knowledge and experience that can be used to make a living. Without work, there is no physical possession or material object to be purchased. Instead, people work to earn money. Work in life is a way for people to earn money and to gain the material goods and services that they need to live a better life. Furthermore, it is the only way for people to earn money is the only way.<extra_id_1> </s>\n",
      "########\n",
      "*******\n",
      "question: What can happen after doing housework that does not involve pain?\n",
      "answer: become tired\n",
      "choices: ['become tired', 'stress', 'put on shoes', 'backache', 'low pay']\n",
      "common expl list: ['Housework can be tiring, and so, after doing it, one might become tired.', 'Doing housework is likely to tire someone out. Being tired increases the likelihood of restlessness and uneasiness.', 'Raking, sweeping, and dusting are common forms of housework. After all the physical labor of these activities, someone \\xa0might become tired and take time off from housework chores, but not have een doing any housework tasks that']\n"
     ]
    },
    {
     "name": "stderr",
     "output_type": "stream",
     "text": [
      "\r",
      " 16%|█████████████████████████▊                                                                                                                                       | 158/986 [1:05:17<3:03:45, 13.32s/it]"
     ]
    },
    {
     "name": "stdout",
     "output_type": "stream",
     "text": [
      "generated explanation: <pad> <extra_id_0> Often, when doing housework, we become tired. This can be due to exhaustion, which can be a result of overworking, lifting heavy objects, and doing repetitive chores. Often, tiredness is due to the physical demands of the job, such as cleaning and preparing meals, and preparing and preparing meals. This can lead to a lack of energy to complete the task at hand. Often, tiredness can also lead to a feeling of boredom, which can be a sign that we are a task is consuming, as it is tiring, which can cause fatigued. Ultimately, the physical demands of housework can lead to become tired, which can lead to become a tiredness. Eventually, tiredness is a result from the physical demands and mental strain that can lead to fatigue. This can be caused by the stress and stress of a lack of time to become tiredness, which can lead to a tiredness.<extra_id_1> </s>\n",
      "########\n",
      "*******\n",
      "question: James sat in a chair and listened to the speaker.  Where might James be?\n",
      "answer: auditorium\n",
      "choices: ['synagogue', 'grocery store', 'auditorium', 'confession', 'office']\n",
      "common expl list: ['James was likely in an auditorium, because he was listening to a speaker.']\n"
     ]
    },
    {
     "name": "stderr",
     "output_type": "stream",
     "text": [
      "\r",
      " 16%|█████████████████████████▉                                                                                                                                       | 159/986 [1:05:24<2:35:47, 11.30s/it]"
     ]
    },
    {
     "name": "stdout",
     "output_type": "stream",
     "text": [
      "generated explanation: <pad> <extra_id_0> James might be in an auditorium because of the large space and the high quality of the speakers. This space is ideal for listening to a lecture or a presentation, as it provides a comfortable environment for the audience to sit and listen. Audiences are typically large and can accommodate large groups of people. Audiences are also typically larger than classrooms, so James might be sitting in a chair or in a booth. Audiences are typically a place of socializing, entertainment, and socializing. Audiences are often a place where speakers or other attendees can sit in a booth or podium. In an auditorium, James might be able to sit in a chair while listening to the presentation.<extra_id_1> </s>\n",
      "########\n",
      "*******\n",
      "question: John thought that Mary was beautiful despite her injury.  But Mary believed that she was what?\n",
      "answer: misshapen\n",
      "choices: ['wrong', 'overcast', 'homely', 'bad', 'misshapen']\n",
      "common expl list: [\"If Mary believes she doesn't look normal, but someone else thinks she is beautiful, perhaps she could feel like her form is misshapen.\"]\n"
     ]
    },
    {
     "name": "stderr",
     "output_type": "stream",
     "text": [
      "\r",
      " 16%|██████████████████████████▏                                                                                                                                      | 160/986 [1:05:58<4:12:55, 18.37s/it]"
     ]
    },
    {
     "name": "stdout",
     "output_type": "stream",
     "text": [
      "generated explanation: <pad> <extra_id_0> Mary believed that Mary was beautiful despite her injury. Mary believed that she was beautiful because of her injury, but John thought that Mary was misshapen. Mary believed that she was beautiful despite her injury, because Mary believed that she was misshapen because of her injuries. Mary also believed that she was beautiful because she believed that she was beautiful because she was beautiful despite her injury. Mary also believed that she was beautiful because she believed that she was beautiful despite her injury. Mary believed that she was beautiful because of her scars and that her injuries. She believed that she was beautiful because she was despite her injuries because she was beautiful because she was beautiful because of her injuries. She also believed that she was beautiful because she was beautiful because she was beautiful because of her injuries and because she believed that she was beautiful because she was beautiful because she was missing. She believed that she was beautiful because she was beautiful because she was not able to see her beauty because of her injuries. Mary believed that she was beautiful because she was a beautiful because of her injuries because of her injury.<extra_id_1> </s>\n",
      "########\n",
      "*******\n",
      "question: Where does my body go after I am no longer living?\n",
      "answer: graveyard\n",
      "choices: ['zombie', 'bodycam', 'coffin', 'graveyard', 'funeral']\n",
      "common expl list: ['Corpses are buried in graveyards.', 'When a person dies, it is common to bury their bodies in locations called graveyards.', 'When one dies, their body is buried in a graveyard.']\n"
     ]
    },
    {
     "name": "stderr",
     "output_type": "stream",
     "text": [
      "\r",
      " 16%|██████████████████████████▎                                                                                                                                      | 161/986 [1:06:25<4:47:36, 20.92s/it]"
     ]
    },
    {
     "name": "stdout",
     "output_type": "stream",
     "text": [
      "generated explanation: <pad> <extra_id_0> After I am no longer living, my body goes to a graveyard. Graveyards are a place where bodies are buried, usually in concrete or rock. Graveyards are usually arranged in a cemetery in a row of graves, each with a different layout and layout of graves. Graveyards are usually marked with a grave number, which is the number of bodies in each grave. Graveyards are usually marked with a name, and are usually a place where people can visit my a grave, or even visit my body in my grave. Graveyards are usually an undiscovered graveyard, and are often filled with the body of someone who has passed away. Graveyards are also often marked by the graves inscribed graves, and other graves. Graveyards are usually where bodies are buried, such as the graves, or other remains. The graveyard is a place where people go to leave their bodies when they are no longer living.<extra_id_1> </s>\n",
      "########\n",
      "*******\n",
      "question: Where can you find a bar before traveling a long distance?\n",
      "answer: airport\n",
      "choices: ['las vegas', 'public house', 'airport', 'restaurant', 'michigan']\n",
      "common expl list: ['Bars are often located in airports, and so if a person was traveling a long distance, they might stop at an airport bar.']\n"
     ]
    },
    {
     "name": "stderr",
     "output_type": "stream",
     "text": [
      "\r",
      " 16%|██████████████████████████▍                                                                                                                                      | 162/986 [1:06:31<3:44:43, 16.36s/it]"
     ]
    },
    {
     "name": "stdout",
     "output_type": "stream",
     "text": [
      "generated explanation: <pad> <extra_id_0> You can find a bar before traveling a long distance from home at an airport. Airports are often the best places to find a bar before traveling long distance. Airport bars are usually located near the gate to the terminal, which is usually located in the terminal building. They offer a variety of options for drinking and eating, including a variety of beer and cocktails. They also offer a variety of food options, such as a sandwich, a snack, and a variety of snacks. Airport bars also offer a variety of entertainment, such as a party atmosphere. Additionally, airport bars often offer live music, such as a concert, or a great place to relax and enjoy a drink.<extra_id_1> </s>\n",
      "########\n",
      "*******\n",
      "question: Where might a small ball be bounced from?\n",
      "answer: child's hand\n",
      "choices: ['soccer game', 'street', 'toy store', \"child's hand\", 'on the sidewalk']\n",
      "common expl list: ['A ball much like a toy, and kids often play with them on the streets and sidewalks.', 'Since children enjoy bouncing balls, and they are also relatively small, they would bounce a ball from their hand.']\n"
     ]
    },
    {
     "name": "stderr",
     "output_type": "stream",
     "text": [
      "\r",
      " 17%|██████████████████████████▌                                                                                                                                      | 163/986 [1:07:16<5:44:24, 25.11s/it]"
     ]
    },
    {
     "name": "stdout",
     "output_type": "stream",
     "text": [
      "generated explanation: <pad> <extra_id_0> A small ball can be bounced from a child's hand because it is small and delicate. A child's hand is the most likely place for a ball to be bounced from, as it is the most common place for a ball to land. This is because a child's hand is the most common place for a ball to land, and a child's hand is where the ball is most likely to land. A child's hand is the most likely place for a ball to land, and it can be a small ball can land on a child's hand. A small ball can be a fun and exciting activity for all of the way for a ball to be played. A child's hands are the most likely place for a small ball to land. A small ball can also be a good place for a ball to land, as it can be a safe place to bounce from a ball to hit. A child's hand is the most likely the most popular place for a ball to land. A small ball can land in a ball to bounce from a ball to land on a ball to land on the back of a ball to land.<extra_id_1> </s>\n",
      "########\n",
      "*******\n",
      "question: Where do families begin?\n",
      "answer: wedding\n",
      "choices: ['wedding', 'around dinner table', 'supermarket', 'dinner together', 'park']\n",
      "common expl list: ['A wedding is a ceremony in which two people get married, and thus a wedding is where a family begins.']\n"
     ]
    },
    {
     "name": "stderr",
     "output_type": "stream",
     "text": [
      "\r",
      " 17%|██████████████████████████▊                                                                                                                                      | 164/986 [1:07:48<6:10:01, 27.01s/it]"
     ]
    },
    {
     "name": "stdout",
     "output_type": "stream",
     "text": [
      "generated explanation: <pad> <extra_id_0> The wedding is the most important event in a family's life. It marks the beginning of a relationship, and it is often the first time a family members<extra_id_2> The wedding is the culmination of a long process of planning,<extra_id_3>, and it is the time when a family begins to form. Families begin their lives together at a wedding. The ceremony is the first formal event of the family's life, and it is the time when they begin to form a family. The wedding is the time when they begin to create a new lifelong lasting memory together as they can help to share in the future generations. It is also the most important day of the wedding, as it is the most important part of the beginning of the beginning of a family history. It is also the time of the wedding day of the first step in the life of the life of the family's life- the wedding, and it is the time when they celebrate their life-long journey. The wedding is also the time when it is a time of life.<extra_id_1> <extra_id_1> and it is the day.<extra_id_1> </s>\n",
      "########\n",
      "*******\n",
      "question: He enjoyed reading newspaper, he consider what a subscription?\n",
      "answer: buying\n",
      "choices: ['gifting', 'buying', 'money', 'literacy', 'knowing how to read']\n",
      "common expl list: ['Buying a subscription to a newspaper is a way to get the newspaper delivered to your home.']\n"
     ]
    },
    {
     "name": "stderr",
     "output_type": "stream",
     "text": [
      "\r",
      " 17%|██████████████████████████▉                                                                                                                                      | 165/986 [1:08:06<5:31:55, 24.26s/it]"
     ]
    },
    {
     "name": "stdout",
     "output_type": "stream",
     "text": [
      "generated explanation: <pad> <extra_id_0> He enjoyed reading newspaper, he consider a subscription because it is a way to keep up with the news. A subscription allows you to read newspapers on a regular basis, and it is a great way to get a daily dose of the newspaper. A subscription allows you to subscribe to a newspaper for a fixed period of time, and it is a great way to keep up with the news. A subscription also allows you to buy additional issues of the newspaper, which can be read at any time, without having to leave your smartphone. Furthermore, the newspaper is a great way to keep up with the latest news, and to keep up with the newspaper, and other services, such as magazines, online, and other services. A subscription also allows you to keep up with the latest edition, and to read the newspaper for a fixed periodical basis, and get the newspaper whenever you want to keep up with the latest news, and read regularly.<extra_id_1> </s>\n",
      "########\n",
      "*******\n",
      "question: What does an animal do when it becomes old?\n",
      "answer: feel pain\n",
      "choices: ['live long', 'leave home', 'feel pain', 'eating', 'sense fear in human']\n",
      "common expl list: ['Ageing animals may have chronic pain as part of the body losing function as it ages.']\n"
     ]
    },
    {
     "name": "stderr",
     "output_type": "stream",
     "text": [
      "\r",
      " 17%|███████████████████████████                                                                                                                                      | 166/986 [1:08:20<4:52:00, 21.37s/it]"
     ]
    },
    {
     "name": "stdout",
     "output_type": "stream",
     "text": [
      "generated explanation: <pad> <extra_id_0> Animals that become old become old because they experience pain. Pain is a sign of aging, and it is a sign that the animal is reaching a certain age. Old animals may feel pain in different ways depending on the type of pain they are experiencing. Old animals may also feel pain from other animals, such as insects, rodents, and even humans. This can be a sign that the animal is getting old, or that it has reached a certain age due to the effects of aging. When an animal becomes old, it may also feel a loss of its appetite, or because it may also be a sign of age. Animals may also feel pain in certain situations, such as stress, or something that it may also feel pain in need of rest or to get older. This can be a sign of the animal's ability to recognize and recognize this in order to recognize the animal.<extra_id_1> </s>\n",
      "########\n",
      "*******\n",
      "question: What entity would have a fire extinguisher in their boardroom?\n",
      "answer: most businesses\n",
      "choices: ['boat', 'apartment', 'public building', 'most businesses', 'chemistry lab']\n",
      "common expl list: ['Most businesses would have a fire extinguisher in their boardroom, because they are likely to have a fire in their boardroom.']\n"
     ]
    },
    {
     "name": "stderr",
     "output_type": "stream",
     "text": [
      "\r",
      " 17%|███████████████████████████▎                                                                                                                                     | 167/986 [1:08:29<3:59:02, 17.51s/it]"
     ]
    },
    {
     "name": "stdout",
     "output_type": "stream",
     "text": [
      "generated explanation: <pad> <extra_id_0> Most businesses would have a fire extinguisher in their boardroom because fire extinguishers are essential to the safety of employees, customers, and visitors. Additionally, fire extinguishers are often used to protect valuable office space from fire. This is because the fire extinguisher is a life-saving device that can be used to extinguish fires in the workplace. It also helps to prevent injuries and illnesses that can result from fires. Additionally, fire extinguishers can help to prevent fire extinguis easily accessible to employees, as they can be used to quickly and quickly spread. Additionally, it can be used by employees, if necessary for emergencies. Additionally, a fire extinguisher can be used to extinguisher in the boardroom to prevent injuries and injuries.<extra_id_1> </s>\n",
      "########\n",
      "*******\n",
      "question: Where can someone go and buy cheese?\n",
      "answer: market\n",
      "choices: ['pizza', 'bar', 'fridge', 'market', 'refrigerator']\n",
      "common expl list: ['Cheese is sold at markets.', 'Cheese is a dairy product and can be purchased at markets, for the most part.']\n"
     ]
    },
    {
     "name": "stderr",
     "output_type": "stream",
     "text": [
      "\r",
      " 17%|███████████████████████████▍                                                                                                                                     | 168/986 [1:08:47<4:01:34, 17.72s/it]"
     ]
    },
    {
     "name": "stdout",
     "output_type": "stream",
     "text": [
      "generated explanation: <pad> <extra_id_0> Markets are a great place to buy cheese because they are a great way to get the best prices. Markets are a great way to find the best cheese at a reasonable price. Markets are also a great place to find cheese that is made fresh daily and have a variety of flavors. Markets also provide a great way to sample different cheeses and to compare prices. Markets also provide a great place to try new cheeses and to compare prices. Markets also provide a great place to compare cheese, which is a great place to buy cheese. Markets are also a great place to find the best cheese, as they are a great way to find the best quality and variety. Markets also provide a great way to find cheese and to find the best cheese.<extra_id_1> Markets also provide a great way to find other cheese. Markets are a great way to find the best cheese for the best cheese.<extra_id_1> </s>\n",
      "########\n",
      "*******\n",
      "question: Where would you carry food while on a long walk in the countryside?\n",
      "answer: backpack\n",
      "choices: ['backpack', 'table', 'jar', 'box', 'container']\n",
      "common expl list: ['Instead of carrying a jar or container, filling your backpack with food might not disrupt your movements as much when you are walking.', \"Because backpacks are designed to be carried on one's back, they are the most convenient way to carry food while on a long walk.\"]\n"
     ]
    },
    {
     "name": "stderr",
     "output_type": "stream",
     "text": [
      "\r",
      " 17%|███████████████████████████▌                                                                                                                                     | 169/986 [1:08:54<3:18:39, 14.59s/it]"
     ]
    },
    {
     "name": "stdout",
     "output_type": "stream",
     "text": [
      "generated explanation: <pad> <extra_id_0> A backpack is a great way to carry food while on a long walk in the countryside. A backpack is a lightweight, breathable, and surprisingly insulated bag that can be easily carried by a person in a backpack. It can also be easily packed and unpacked, making it a great choice for carrying food while on a long walk. A backpack also makes it easy to carry more food than a backpack can carry. Additionally, a backpack can be a great option for carrying water, snacks, and other equipment, such as water, snacks, and other items. It can easily be carried while hiking or walking. Additionally, a backpack can be easily accessible and easily accessible, allowing for a range of food and easily carried while on a long walk.<extra_id_1> </s>\n",
      "########\n",
      "*******\n",
      "question: What could a driver do that could distract him or her while he or she is in a driving car?\n",
      "answer: smoke\n",
      "choices: ['use mobile phone', 'car crash', 'smoke', 'backache', 'automobile accidents']\n",
      "common expl list: ['Smoking is a common activity that people do while driving, and it could distract them from driving.', 'It can be tricky to smoke and concentrate on driving at the same time, and research has found that smoking in a car with children present is very dangerous.']\n"
     ]
    },
    {
     "name": "stderr",
     "output_type": "stream",
     "text": [
      "\r",
      " 17%|███████████████████████████▊                                                                                                                                     | 170/986 [1:09:06<3:05:52, 13.67s/it]"
     ]
    },
    {
     "name": "stdout",
     "output_type": "stream",
     "text": [
      "generated explanation: <pad> <extra_id_0> Smoke is a common distraction that a driver can use to distract him or her while driving. Smoke is a noxious gas that can be inhaled, inhaled, or inhaled while driving. Smoke can also be a distracting irritant, as it can be a sign of a fight or flight, or a sign of a dangerous situation. Smoke also can be a sign of a person’s identity, as it can be a sign of a person, as it can be a sign of a driver’s attention. Additionally, smoke is a common distraction that can be used to distract the driver, as it can be used to distract them from the car. Smoke can also be a sign, or a distraction, as it can be a sign of danger to others.<extra_id_1> </s>\n",
      "########\n",
      "*******\n",
      "question: The fat man wanted to make a change in his life and make sure it stayed what?\n",
      "answer: permanent\n",
      "choices: ['concretely', 'permanent', 'remain stable', 'stagnant', 'constant']\n",
      "common expl list: ['In changing his life, he wants to make sure he remains in the new lifestyle choices, e.g., not become stagnant to bad choices and fall back into bad choices.', 'His making a decision to change and ensuring the decision is made permanent indicates a desire for a stable, permanent life, which does not change.']\n"
     ]
    },
    {
     "name": "stderr",
     "output_type": "stream",
     "text": [
      "\r",
      " 17%|███████████████████████████▉                                                                                                                                     | 171/986 [1:09:43<4:40:38, 20.66s/it]"
     ]
    },
    {
     "name": "stdout",
     "output_type": "stream",
     "text": [
      "generated explanation: <pad> <extra_id_0> The fat man wanted to make sure it stayed permanent because he wanted to make sure it stayed permanent. He wanted to make sure it stayed permanent because he wanted to make a change in his life and make sure it stayed that way. He wanted to make sure that the change he made stayed that way because he wanted to make sure it stayed permanent. He wanted to make sure that the change he made stayed that way because he wanted to make sure it stayed that way because he wanted to make sure that the fat man's to ensure that it stayed permanent so that it stayed on. He wanted to make sure that the change in his life and that it stayed that it a permanent so that the change stayed the change he wanted to stay that his life was permanent because a permanent change in his life so that it stayed that it stayed that it stayed that it he made the change he wanted to make sure it stayed that it stayed that it stayed that it he wanted to make sure that it stayed permanent.</s>\n",
      "########\n",
      "*******\n",
      "question: where did many colonial kingdoms originate?\n",
      "answer: europe\n",
      "choices: ['saudi arabia', 'europe', 'united states', 'book', 'monarchy']\n",
      "common expl list: ['Colonies and kingdoms often originate in the mother countries of the colonial or kingdom builders, e.g., entities in the United Kingdom and the Netherlands.', 'Many colonial kingdoms in the past can be traced all the way back to their roots in Europe.']\n"
     ]
    },
    {
     "name": "stderr",
     "output_type": "stream",
     "text": [
      "\r",
      " 17%|████████████████████████████                                                                                                                                     | 172/986 [1:10:09<5:04:13, 22.42s/it]"
     ]
    },
    {
     "name": "stdout",
     "output_type": "stream",
     "text": [
      "generated explanation: <pad> <extra_id_0> Many colonial kingdoms originated in Europe because of the proximity of their capitals to the seas and the ease of trade. The colonies were able to establish strong economies and trade routes that brought prosperity to the region. The colonial kingdoms also provided a great deal of control over resources and resources, allowing them to control important areas of the country. The colonies also provided a great deal of control over the economy and culture, and helped to shape the world we live in today. The colonies also provided a wealth of natural resources and trade routes to the colonies. The colonies also provided the people with an extensive variety of opportunities for trade and industry. The colonies also provided an opportunity to expand and develop industries, and to create jobs for the region, which were later developed as they were able to develop into an important role in the region. The colonies were an important role in the region in the colonial kingdoms, and helped to develop into the region. The colonies were an important economic and culturally-based on their respective territories. The colonies were also a way to develop and to create a wealth.<extra_id_1> </s>\n",
      "########\n",
      "*******\n",
      "question: Where can a television be stored and hidden?\n",
      "answer: cabinet\n",
      "choices: ['apartment', 'living room', 'bedroom', 'kitchen', 'cabinet']\n",
      "common expl list: ['A television can be stored inside a cabinet.', 'A cabinet is a piece of furniture that is used to store items, and televisions are large, and thus, can be stored in cabinets.']\n"
     ]
    },
    {
     "name": "stderr",
     "output_type": "stream",
     "text": [
      "\r",
      " 18%|████████████████████████████▏                                                                                                                                    | 173/986 [1:10:14<3:52:56, 17.19s/it]"
     ]
    },
    {
     "name": "stdout",
     "output_type": "stream",
     "text": [
      "generated explanation: <pad> <extra_id_0> A television is usually stored in a cabinet. Cabinets are designed to be sturdy and durable, allowing it to be placed in a place where it can be easily stored and easily accessed. Cabinets are also designed to be easy to clean and maintain, allowing the television to be accessed from any angle. Cabinets are also ideal for traveling, as they are ideal places to store and access the television. Cabinets are also ideal for storing electronics, such as games consoles, DVD players, and other small items such as remotes. Additionally, they can be easily accessed from any other items like keys, or keys, making it easy to be accessed easily accessible and easily accessible.<extra_id_1> </s>\n",
      "########\n",
      "*******\n",
      "question: what can get a prisoner in more trouble?\n",
      "answer: attempt to escape\n",
      "choices: ['dream of freedom', 'attempt to escape', 'do time', 'fast for days', 'scape jail']\n",
      "common expl list: ['Prisoners serve time, and when a prisoner attempts to escape, they generally serve extra time.']\n"
     ]
    },
    {
     "name": "stderr",
     "output_type": "stream",
     "text": [
      "\r",
      " 18%|████████████████████████████▍                                                                                                                                    | 174/986 [1:10:29<3:40:52, 16.32s/it]"
     ]
    },
    {
     "name": "stdout",
     "output_type": "stream",
     "text": [
      "generated explanation: <pad> <extra_id_0> A prisoner who attempts to escape is more likely to be in trouble if they are able to successfully do so. This is due to the fact that prisons are notorious for holding up prisoners and the lack of proper security measures in place to prevent them from being caught. Prisoners who attempt to escape from prison are often caught with weapons and other items that can be used to break into the outside world. This can include magazines, DVDs, and CDs. Prisoners who attempt to escape are often caught with a knife and other tools, as they can also be caught if they are not careful and are not allowed to escape. Escape attempts to avoid being caught. Prisoners who attempt to escape often times get into trouble. Prisoner who is often caught in a prisoner who is often forced to use their escape in order to escape. Prisoner who is in trouble because of the risk of being caught and if they are unable to get help.<extra_id_1> </s>\n",
      "########\n",
      "*******\n",
      "question: The crab was separated from his compatriots out in the sea, where was he likely to be?\n",
      "answer: tide pool\n",
      "choices: ['fish market', 'cooking pot', 'tide pool', 'beach sand', 'farm']\n",
      "common expl list: ['Tide pools are regions of shallow, pooled water that are very exposed to air, making them appealing to crabs that have to breathe.']\n"
     ]
    },
    {
     "name": "stderr",
     "output_type": "stream",
     "text": [
      "\r",
      " 18%|████████████████████████████▌                                                                                                                                    | 175/986 [1:10:40<3:21:33, 14.91s/it]"
     ]
    },
    {
     "name": "stdout",
     "output_type": "stream",
     "text": [
      "generated explanation: <pad> <extra_id_0> The crab was likely to be in a tide pool because tide pools are often found near shore. Tide pools are typically located near a river or a creek, and they are often used to store food and other supplies for their own use. They also provide a place for crabs to rest and eat, as well as a place to hide from predators. The tide pools also provide a place for crabs to gather and eat, as well as a place for them to hide from predators. The tide pool is a place for the crab to find a tide pool, as it is often located in close to shore, which is the best place for the crab to be in a safe place for him to escape from the sea. The tide pool also provides an opportunity for crabs to stay close to his fellow crabs, which is a great place for the crab to hide from predators.<extra_id_1> </s>\n",
      "########\n",
      "*******\n",
      "question: What item is smelted out of minerals on the country side?\n",
      "answer: metal\n",
      "choices: ['urban city', 'france', 'metal', 'grass', 'state']\n",
      "common expl list: ['Metals are extracted from mineral mines out in the country side.', 'Products made by smelters tend to be made out of metals, and mining occurs at the country side.']\n"
     ]
    },
    {
     "name": "stderr",
     "output_type": "stream",
     "text": [
      "\r",
      " 18%|████████████████████████████▋                                                                                                                                    | 176/986 [1:11:11<4:26:20, 19.73s/it]"
     ]
    },
    {
     "name": "stdout",
     "output_type": "stream",
     "text": [
      "generated explanation: <pad> <extra_id_0> Metal is a material that is smelted from minerals on the country side. Metal is a product of molten salt, a mineral that is mined to make metal. It is used to produce products such as metals, plastics, glass, and other materials. Metal is made when molten salt is removed from a rock, or when it is heated to form a solid state. Metal is a form of energy that can be stored in a form that is useful for manufacturing products. Metal is created when s are smellow temperature, and then molten to create a metal. The process of metal is used to creates a variety of different types of metals, such as copper, iron, zinc, ore for use. Iron is a material that is made from moltensulated to create a variety of different metals, and other elements. The process of metals is also used to create a wide range of minerals, which can be used to create a variety of products. Metal is a direct and can be used to create a variety of other purposes.<extra_id_1> </s>\n",
      "########\n",
      "*******\n",
      "question: Where is a good place to store a saw?\n",
      "answer: toolbox\n",
      "choices: ['hardware store', 'tool shed', 'storage', 'tool kit', 'toolbox']\n",
      "common expl list: ['One might likely store a saw in a box with other tools.', 'A toolbox is a container for tools, and a saw is a tool.']\n"
     ]
    },
    {
     "name": "stderr",
     "output_type": "stream",
     "text": [
      "\r",
      " 18%|████████████████████████████▉                                                                                                                                    | 177/986 [1:11:17<3:30:06, 15.58s/it]"
     ]
    },
    {
     "name": "stdout",
     "output_type": "stream",
     "text": [
      "generated explanation: <pad> <extra_id_0> A toolbox is a good place to store a saw because it provides a safe place to store it. It is also a great place to store tools such as bandsaws, miters, and other tools that are used to cut wood. A toolbox is a great place to store a saw because it provides a safe place to store the saw and other tools that are used to cut wood. It also provides a safe place to store tools that are not used frequently. Toolboxes are also a great place to store a saw can be used to make it easier to access when it is needed. This is a great toolbox for storing a great place to store a saw, and other tools such as a table saws, a power tools, and other tools.<extra_id_1> </s>\n",
      "########\n",
      "*******\n",
      "question: The jellyfish was pushed along by the water.  It was caught in what?\n",
      "answer: current\n",
      "choices: ['store', 'book', 'park', 'current', 'lake']\n",
      "common expl list: ['Jellyfish are often found in oceans, and oceans have currents.', \"Currents are fast-moving water, and jellyfish can't swim very well, so if caught in a current, it's likely to be being pushed along by the current.\"]\n"
     ]
    },
    {
     "name": "stderr",
     "output_type": "stream",
     "text": [
      "\r",
      " 18%|█████████████████████████████                                                                                                                                    | 178/986 [1:11:28<3:11:55, 14.25s/it]"
     ]
    },
    {
     "name": "stdout",
     "output_type": "stream",
     "text": [
      "generated explanation: <pad> <extra_id_0> The jellyfish was caught in currents because it was pushed along by the water. This is because the jellyfish is a slow-moving animal, and it is not used to moving quickly enough to keep up with the speed of the water. The water is very cold, and the jellyfish is unable to move quickly enough to keep up with the current. This is because the jellyfish is unable to swim and is therefore not able to catch as much food as it needs to. The jellyfish is pushed along by the current, and is moving along with the jellyfish are pushed along by the current. The current is the jellyfish is very cold water, making it easier to move along as it moves along. The current is a great way to help the jellyfish to move along by the water, and the jellyfish can move quickly, allowing the jellyfish to stay in the water for pushed along by the water.<extra_id_1> </s>\n",
      "########\n",
      "*******\n",
      "question: The dime store was full of old donated goods, it reminded the customer of the what?\n",
      "answer: past\n",
      "choices: ['strip mall', 'past', 'shopping center', 'old movie', 'india']\n",
      "common expl list: ['Dime stores were more popular years ago than today. The sight of the old goods reminded the person of the past.']\n"
     ]
    },
    {
     "name": "stderr",
     "output_type": "stream",
     "text": [
      "\r",
      " 18%|█████████████████████████████▏                                                                                                                                   | 179/986 [1:11:56<4:04:04, 18.15s/it]"
     ]
    },
    {
     "name": "stdout",
     "output_type": "stream",
     "text": [
      "generated explanation: <pad> <extra_id_0> The dime store was full of old donated goods because it reminded the customer of the past. The old donated goods were from the dime store, which was owned by the same person who owned the dime store. The old goods were donated to the store because they were a reminder of the past and the customer could see the items in the store as if they were new. The customer could see the items in the store as if they were from the dime store, and the items could be items that had been donated to the store. The store also had old donated goods, which were often used up, and were a way to store, and the customer could see the items in the past. The dime store was full of old donated goods because it was a way to remember the customer of the past, as it was a reminder of the past. The dime store was also a way to the customer of the past, and it was a way to the store, and it reminded of the customer of the past, and the store. The dime store was a way to see the past, and it was a way for the store.<extra_id_1> </s>\n",
      "########\n",
      "*******\n",
      "question: Where would you put a saw if you do not need to use it soon and your house only has one floor?\n",
      "answer: tool shed\n",
      "choices: ['logging camp', 'in the vehicle', 'tool shed', 'toolbox', 'basement']\n",
      "common expl list: ['A tool shed is a common structure for organizing and storing tools that are infrequently used.', 'The shed is a good place for storing tools when those tools are not in use.', \"A tool shed is a place where tools are stored, and thus, a good place to store a saw if you don't need to use it soon.\"]\n"
     ]
    },
    {
     "name": "stderr",
     "output_type": "stream",
     "text": [
      "\r",
      " 18%|█████████████████████████████▍                                                                                                                                   | 180/986 [1:12:42<5:58:41, 26.70s/it]"
     ]
    },
    {
     "name": "stdout",
     "output_type": "stream",
     "text": [
      "generated explanation: <pad> <extra_id_0> A tool shed is a great place to store a saw if you only have one floor in your home. It is a great place to store a saw because it allows you to store it in a safe place where it can be stored safely. It is also a great place to store other tools, such as a screwdriver, drill, or band saw. It is easy to access, which makes it easy to access, and it is a great place to store tools that you may not use often. It also allows you to store it easily accessible, which allows you to store tools safely and easy to access. The tool shed is also ideal for storing a saw in a garage, as it can be easily moved from one floor, and is a good place to store a saw in a tool shed is a great place to store a saw if you do the job. The tool shed is a great place to store a saw if you have a job that you do a lot of work on the right in the house, and a saw if you have a saw. It is a great place for a saw if you have a saw if you have a tool that you are not in the basement or a saw if you need to store it.</s>\n",
      "########\n",
      "*******\n",
      "question: A person might wear his yarmulke when going to where?\n",
      "answer: synagogue\n",
      "choices: ['demonstration', 'concert', 'garage', 'bus stop', 'synagogue']\n",
      "common expl list: ['Synagogue is a place commonly visited by religious Jews. Men wear yarmulkes (skullcaps) because faith requires that they uncover their heads when going before God.']\n"
     ]
    },
    {
     "name": "stderr",
     "output_type": "stream",
     "text": [
      "\r",
      " 18%|█████████████████████████████▎                                                                                                                                  | 181/986 [1:14:33<11:35:56, 51.87s/it]"
     ]
    },
    {
     "name": "stdout",
     "output_type": "stream",
     "text": [
      "generated explanation: <pad> <extra_id_0> A person might wear his yarmulke when going to a synagogue because it is a traditional religious symbol. It is worn to represent the faith and to symbolize the power of God. It is also a symbol of power and sacrifice, and it is believed that the yarmulke is a symbol of peace and unity. It is a symbol of religious worship and of the power of God. It is often accompanied by a rosary, a chalice, and a ros. It is a symbol of Jewish heritage, and it is a symbol of the a person’s heritage, and its origin. It is a symbol of the power of the future. It is also a symbol of the power and a person’s own personal history, and the Torah, and the Jewish faith. It is a symbol of the power of the people’s beliefs and the Jewish faith. It is a symbol of the Jewish heritage and of the Jewish faith and is a symbol of the power of the Torah, the Torah, and of the Jewish faith. It is a way to show one’s spiritual power and of the faith. It is a way of a way of being a way of a way of being a way of the Torah and of the Jewish people’s faith and a way of sharing of the faith and of the Torah and of the tradition of the religion and of the Jewish people. It is a way of showing one’s own personal, and of the nation, and of the power of the church, and of the power of the power of the power of the power of the Torah, and of the faith. It is a way of a way of wearing a way to show one’s power. The yarmulke is a symbol of the Jewish people and of one’ta way of a way of being, and of a way of being, and of a way of connecting with one’s of the Jewish heritage, and of a way of a way of sharing, and of reconciliation, and of the Jewish identity, and of the Jewish faith. It is a way of wearing it’</s>\n",
      "########\n",
      "*******\n",
      "question: Someone takes up exercising to improve their what\n",
      "answer: physical fitness\n",
      "choices: ['losing weight', 'physical fitness', 'breathlessness', 'muscles', 'lost weight']\n",
      "common expl list: ['Typically people are motivated to exercise in order to become fit.', 'Exercising helps people build their physical fitness.', 'Exercising is a way to improve physical fitness.']\n"
     ]
    },
    {
     "name": "stderr",
     "output_type": "stream",
     "text": [
      "\r",
      " 18%|█████████████████████████████▌                                                                                                                                  | 182/986 [1:15:39<12:30:41, 56.02s/it]"
     ]
    },
    {
     "name": "stdout",
     "output_type": "stream",
     "text": [
      "generated explanation: <pad> <extra_id_0> People who take up exercise to improve their physical fitness are doing so for a variety of reasons. Physical fitness is the ability to move freely and safely, which is why it is so important for everyone to do so. Physical fitness is the ability to perform tasks such as running, jumping, cycling, swimming, and other activities that require regular physical activity. It is also the ability to maintain a healthy body weight, which is important for a healthy lifestyle. Physical fitness can be improved through regular exercise, such as lifting weights or cardio exercises. It is also important for people to stay fit and healthy lifestyle choices, which is why people take up with the benefits of physical activity and the physical activity that helps people stay fit. Physical fitness is also important for their health, as it can also help to improve their overall health. Physical fitness can help to improve their overall well as well-being physically fit. Physical fitness can also help to reduce stress and maintain a healthy weight. It can help to stay fit and healthy lifestyle. By taking up with physical activity, it can help to improve their overall health and improve their overall health. Physical fitness can help to improve their overall health. It can also help people stay physically active. Physical fitness is a great way to improve their health. It can help to improve their health and overall fitness. Physical fitness can help to improve their overall health and fitness can help to improve their overall health and well-being. Physical fitness can also help to help people to prevent and improve their overall health and cognitive abilities, as it can help people to stay active and mentally and emotionally healthy lifestyle choices, as well as it can help people to improve their overall health.</s>\n",
      "########\n",
      "*******\n",
      "question: Where could you see a sloth that is not real?\n",
      "answer: picture book\n",
      "choices: ['bad dream', 'picture book', 'another place', 'universe', 'zoo']\n",
      "common expl list: ['Reality is generally fractured into \"real\" and \"fusion.\" Sloths are real, meaning they exist (in some form) in reality; sloths are not real (in the way depicted) in a picture book.']\n"
     ]
    },
    {
     "name": "stderr",
     "output_type": "stream",
     "text": [
      "\r",
      " 19%|█████████████████████████████▉                                                                                                                                   | 183/986 [1:15:49<9:28:39, 42.49s/it]"
     ]
    },
    {
     "name": "stdout",
     "output_type": "stream",
     "text": [
      "generated explanation: <pad> <extra_id_0> A picture book is a great way to see a sloth because it is a picture of a real animal. The book often features a sloth and its habitat, such as a tree or a hedgehog or a lizard. This allows the reader to see a realistic version of the sloth in a realistic way. The sloth is also a great character to have in your book, as it can be used to help teach the reader important life lessons. The book also provides a great opportunity to learn more about the sloth from the story of the sloth, and other animals, such as a funny cartoon characters, or in a picture book. The book also provides a great way for the reader to learn about the sloth from the story, as the sloth in a realistic version of the real animal, and its life, and its habitat.<extra_id_1> </s>\n",
      "########\n",
      "*******\n",
      "question: Where are seats often plush?\n",
      "answer: opera\n",
      "choices: ['rest area', 'theater', 'hockey game', 'classroom', 'opera']\n",
      "common expl list: ['Plush seats are generally found in more comfortabe, well-off establishments, and opera is often performed in such, less strict teents of, elegance of the decor.', 'Opera is a high-class form of entertainment, and thus, the seats are often plush.']\n"
     ]
    },
    {
     "name": "stderr",
     "output_type": "stream",
     "text": [
      "\r",
      " 19%|██████████████████████████████                                                                                                                                   | 184/986 [1:16:03<7:30:17, 33.69s/it]"
     ]
    },
    {
     "name": "stdout",
     "output_type": "stream",
     "text": [
      "generated explanation: <pad> <extra_id_0> Plush seats are often found in opera houses and concert halls. This is due to the fact that the seats are often plush and have a soft touch. The plushness of the seats is a result of the plush fabric used in the fabric, which is soft and bouncy. The fabric is also a good cushion for the seats to sit on, making them more comfortable to sit on. This is due to the plush fabric used in the seats, which is soft and comfortable. The seats also help to provide a better comfort. The plush seats are also often used to enhance the comfort of the seats are often plush. The seats are also often used to provide a more luxurious feel and comfort. The seats are also often plush, as they are made from the fabric, which makes them more comfortable. The seats are also often plush because they are also more comfortable and can be found in theaters.<extra_id_1> </s>\n",
      "########\n",
      "*******\n",
      "question: The comforter was used constantly and treaded upon by everyone, where should it be placed?\n",
      "answer: washing machine\n",
      "choices: ['garbage', 'linen closet', 'bedroom', 'washing machine', 'livingroom']\n",
      "common expl list: ['When you use your comforter (or any other high-traffic fabric) often, you ought to wash it often too. Therefore it should be kept in the washing machine, to enable quick washing.', 'Linens are often used (i.e., the comforter) and washed frequently.', 'The comforter was used constantly, so it should be washed frequently. Linen closets are where people store their bed sheets and blankets.']\n"
     ]
    },
    {
     "name": "stderr",
     "output_type": "stream",
     "text": [
      "\r",
      " 19%|██████████████████████████████▏                                                                                                                                  | 185/986 [1:16:19<6:18:47, 28.37s/it]"
     ]
    },
    {
     "name": "stdout",
     "output_type": "stream",
     "text": [
      "generated explanation: <pad> <extra_id_0> The comforter was used by everyone and should be placed in the washing machine. A washing machine is a great way to keep a comforter clean and in good condition. It can be placed in the front of the machine, near the washer and dryer, or in the laundry basket. The comforter should be washed in cold water to prevent stains from developing. It also helps to prevent the comforter from becoming damp and soiled. The washing machine also helps to keep the comforter from staining the floor or walls. The comforter should be placed in the washing machine. It should be placed in the washing machine so that the comforter can be washet always in order to be washeated. The washing machine is also a great place to put the comforter in the comforter, as it can be washeated and dried quickly and dried. The washing machine can also help to keep the comforter clean and to help to keep the comforter clean.<extra_id_1> </s>\n",
      "########\n",
      "*******\n",
      "question: Joe bought a ficus.  He thought it would look good in what part of his home?\n",
      "answer: family room\n",
      "choices: ['family room', 'tropical forest', 'flower garden', 'movie theater', 'hair salon']\n",
      "common expl list: [\"The ficus is an indoor plant, such as a plant one would have in one's family room. The family room is the ideal location for an indoor plant like a houseplant.\"]\n"
     ]
    },
    {
     "name": "stderr",
     "output_type": "stream",
     "text": [
      "\r",
      " 19%|██████████████████████████████▎                                                                                                                                  | 186/986 [1:16:39<5:45:17, 25.90s/it]"
     ]
    },
    {
     "name": "stdout",
     "output_type": "stream",
     "text": [
      "generated explanation: <pad> <extra_id_0> Joe thought a ficus would look good in the family room because it adds visual interest to the room. It also adds a touch of class to the room, and the ficus would add a touch of class to the room. Additionally, the ficus would add interest to the family room, as it adds interest and character to the room. Overall, the ficus adds interest and appeal to the family room, and the ficus is a great addition to the room. It also adds to the family room, and is the perfect addition to the family room. It adds to the décor in the family room, and adds to the family room, adding to the room, and to the ficus to the family room. The family room is a great addition to the family room, and the ficus will add to the family room, and provide a fun and a great addition to the family room. The ficus will add to the family room, adding visual appeal and add to the family room.<extra_id_1> </s>\n",
      "########\n",
      "*******\n",
      "question: Family is always the best for devotion, but it is also nice if a person has what?\n",
      "answer: loyal friends\n",
      "choices: ['good review', 'headache', 'with cat', 'loyal friends', 'shoes']\n",
      "common expl list: ['We may have devoted friends who would be there for us if we had need.', \"Because times may come when a person would like to go out and have fun with some friends, and it's nice if that person may have friends that he is faithful to.\", 'Loyal friends are always there for you, and they will always be devoted to you.']\n"
     ]
    },
    {
     "name": "stderr",
     "output_type": "stream",
     "text": [
      "\r",
      " 19%|██████████████████████████████▌                                                                                                                                  | 187/986 [1:17:15<6:26:48, 29.05s/it]"
     ]
    },
    {
     "name": "stdout",
     "output_type": "stream",
     "text": [
      "generated explanation: <pad> <extra_id_0> Loyal friends are the best form of devotion. They are a great source of comfort and support for a person, as they can be a source of support and encouragement. They are a constant source of comfort and encouragement, and can be a source of joy and pride for the person. They can be a source of inspiration and support, and can be a source of inspiration for others. They can also be a source of support and encouragement, and can be a source of support and encouragement. Loyal friends can be a person's can also be a source of support and can be a person's trust, or even a person can be a source of support and encouragement from others. They can be a source of support and can be a source of encouragement and support.<extra_id_1> s life, and support for the person, and can be a source of support and support. Loy and support and can be a source of encouragement and support from family or a source of encouragement and support. Loy and can be a source of encouragement and support for the person, and can be a source of inspiration and motivation for a person's life-saving and a source of support. It is a source of support and a person'</s>\n",
      "########\n",
      "*******\n",
      "question: Rap is not usually associate with what music often performed by an orchestra?\n",
      "answer: classical\n",
      "choices: ['folk', 'rock', 'good music', 'country music', 'classical']\n",
      "common expl list: ['Rap is generally associated with hip-hop music, which is normally performed by a single artist. Orchestras tend to play classical music, which often is performes with real instruments, rather than manufactured ones.']\n"
     ]
    },
    {
     "name": "stderr",
     "output_type": "stream",
     "text": [
      "\r",
      " 19%|██████████████████████████████▋                                                                                                                                  | 188/986 [1:17:47<6:38:29, 29.96s/it]"
     ]
    },
    {
     "name": "stdout",
     "output_type": "stream",
     "text": [
      "generated explanation: <pad> <extra_id_0> Rap is not usually associated with classical music performed by an orchestra. This is because classical music is a more lyrical and less improvised form of music. It is often performed by a large ensemble, such as an orchestra, chamber orchestra, or wind ensemble. Rap is not usually associated with a large ensemble, such as an orchestra or a band. Instead, it is often performed by a small ensemble, such as a string quartet or a string quartet. This is because classical music is more lyrs are usually performed by rap, which is more a more contemporary and more contemporary music. It is also not usually performed by acouture, which is often performed by a more accessible to the audience, as it is more accessible than acous, and more accessible than it is not usually associated with rap. Rap is not usually associated with a more accessible form of music, such as a trumpet or piano, but it is more accessible and more accessible than acous. It is more classical than a more accessible and more accessible form of music. It is not usually performed by acous.<extra_id_24> </s>\n",
      "########\n",
      "*******\n",
      "question: At what structure can you see people you use a puck professionally?\n",
      "answer: hockey rink\n",
      "choices: ['hockey rink', 'locker room', 'sporting goods store', 'used in hockey game', 'teachers']\n",
      "common expl list: ['Pucks are commonly used in ice hockey, which is a professional activity.']\n"
     ]
    },
    {
     "name": "stderr",
     "output_type": "stream",
     "text": [
      "\r",
      " 19%|██████████████████████████████▊                                                                                                                                  | 189/986 [1:17:51<4:53:38, 22.11s/it]"
     ]
    },
    {
     "name": "stdout",
     "output_type": "stream",
     "text": [
      "generated explanation: <pad> <extra_id_0> A hockey rink is a rink where people can use a puck professionally. It is a rink where the goalie and the players are positioned to provide a level of protection for the players and the spectators. It is also a place for fans to gather and watch the action unfold. The goalie and the goaltender are responsible for ensuring that the puck is handled with care and respect. The goalie is responsible for controlling the puck and controlling the action. The goaltender is responsible for a goali</s>\n",
      "########\n",
      "*******\n",
      "question: Even when not in flight a bald eagle likes to have a lay of the land, because of this you'll see them perched up where?\n",
      "answer: high places\n",
      "choices: ['colorado', 'natural habitat', 'everglades', 'high places', 'tree']\n",
      "common expl list: ['Eagles like to be high up, so they can see a large area.']\n"
     ]
    },
    {
     "name": "stderr",
     "output_type": "stream",
     "text": [
      "\r",
      " 19%|███████████████████████████████                                                                                                                                  | 190/986 [1:18:11<4:45:31, 21.52s/it]"
     ]
    },
    {
     "name": "stdout",
     "output_type": "stream",
     "text": [
      "generated explanation: <pad> <extra_id_0> Bald eagles like to be high up in the air because they like to have a lay of the land and therefore they often perch up high places. This is due to the fact that they can see a lot of different areas and can be seen from a distance. Bald eagles also like to be near trees and other vegetation, which can be a good way to see the land from a distance. This can help them to see the land in a clear day and allows them to get if they can often be seen from other bald eafar. Bald Eagles also often leave their tracks on the ground, which can be seen from the air. Bald es often perch are also at high places to get to other a great way to see the land, and to see the ea wide open sky, which can be seen from a high place. Bald ea bald ea great place to get a good place to see the land.<extra_id_1> </s>\n",
      "########\n",
      "*******\n",
      "question: When is good time for garlic bread?\n",
      "answer: dinner\n",
      "choices: ['refrigerator', 'dinner', 'jail', 'supermarket', 'going on a date']\n",
      "common expl list: ['Garlic bread is often served with dinner.', 'Typical garlic bread is served with a maincourse and wine or other alcoholic beverage, and both are commonly served with dinner.']\n"
     ]
    },
    {
     "name": "stderr",
     "output_type": "stream",
     "text": [
      "\r",
      " 19%|███████████████████████████████▏                                                                                                                                 | 191/986 [1:18:41<5:16:31, 23.89s/it]"
     ]
    },
    {
     "name": "stdout",
     "output_type": "stream",
     "text": [
      "generated explanation: <pad> <extra_id_0> Dinner is a good time for garlic bread because it is a light, savory bread that is a perfect accompaniment to any meal. It is a great way to add flavor and texture to any meal. Garlic bread is a versatile and delicious ingredient that is easy to make and can be enjoyed with any meal. It is also a great way to add a little extra flavor to any meal. It is also a great way to add a little extra flavor to any meal. It is a great way to add flavor to any dish. It is also a great appetizer and can be eaten with any meal. Dinner is a great time for people to enjoy garlic bread with a delicious meal. It is a great time for anyone to make it. It is a great way to add a little extra special touch to any dinner. It is also a great way to add a little extra flavor to make it a great way to add some extra flavor to any meal. It is a great addition to any meal. It is a great way to add a little bit of </s>\n",
      "########\n",
      "*******\n",
      "question: Where is the sky fake?\n",
      "answer: planetarium\n",
      "choices: ['shed', 'atmosphere', 'photo', 'outdoors', 'planetarium']\n",
      "common expl list: ['Planetariums are places built to simulate the sky indoors; the opposite of outdoors.', 'Planetariums are buildings that simulate the sky.']\n"
     ]
    },
    {
     "name": "stderr",
     "output_type": "stream",
     "text": [
      "\r",
      " 19%|███████████████████████████████▎                                                                                                                                 | 192/986 [1:19:16<6:00:29, 27.24s/it]"
     ]
    },
    {
     "name": "stdout",
     "output_type": "stream",
     "text": [
      "generated explanation: <pad> <extra_id_0> The sky fake is a type of sky display that simulates the sky in a planetarium. It is a large, transparent, rotating, and stroboscopic display of the sky, usually made up of a variety of different materials, such as glass, metal, and plastics. It is also used to create a realistic representation of the sky, such as a planetarium, which is a large, open, and movable structure that simulates the atmosphere of the planet. This allows visitors to see the sky, and other attractions, such as the Earth, such as the moon, or otherworld, or even exist in the sky, as the sky is made up in a realistic representation of the sky is also a variety of colours and patterns, such as the stars. The sky is also used to create a realistic representation of the Earth's surface, which makes the sky fake. It is used to create a a realistic atmosphere, and is a great way to see the sky. The sky is a great way to see the sky, and it is also a great way to get a sense of the way to get a more realistic look at the sky.<extra_id_1> </s>\n",
      "########\n",
      "*******\n",
      "question: Boats that aren't on the ocean travel across the surface of what?\n",
      "answer: lake\n",
      "choices: ['lake', 'ocean', 'tetrahedron', 'mirror', 'object']\n",
      "common expl list: [\"Lakes (and ponds) are bodies of fresh water surrounded by land, and boats exist on water, and thus, will tend to travel across lakes' surfaces.\"]\n"
     ]
    },
    {
     "name": "stderr",
     "output_type": "stream",
     "text": [
      "\r",
      " 20%|███████████████████████████████▌                                                                                                                                 | 193/986 [1:19:33<5:19:08, 24.15s/it]"
     ]
    },
    {
     "name": "stdout",
     "output_type": "stream",
     "text": [
      "generated explanation: <pad> <extra_id_0> A lake is a body of water that is made up of a number of small bodies of water that are dragged by boats. The boats are used to move around the lake and are able to move quickly and easily. The lakes are also used to transport cargo, such as fishing boats, craft, and other craft. The lakes also provide a means for transporting goods, such as fish, shells, and other small objects, such as small fish, shrimp, and shellfish. The lakes also provide a means for navigation, as they provide a safe and fun for the boats. The boats also provide food for their passengers, and their passengers, which are often used to move around the lake and can easily. The surface is also often used by boats, which is why it is important to understand the different functions of the different types of different types of the lake, as well-p and the different uses of the water, and the different types of water, such as fishing gear.<extra_id_1> </s>\n",
      "########\n",
      "*******\n",
      "question: A small dog lived with a a woman who loved him. Where might he have lived?\n",
      "answer: person's house\n",
      "choices: [\"person's house\", 'dog house', 'canada', 'illinois', 'basket']\n",
      "common expl list: ['Animals who live with humans are often in their homes.', \"Dogs are often kept as pets, and pets are often kept in their owners' homes.\"]\n"
     ]
    },
    {
     "name": "stderr",
     "output_type": "stream",
     "text": [
      "\r",
      " 20%|███████████████████████████████▋                                                                                                                                 | 194/986 [1:19:55<5:11:11, 23.57s/it]"
     ]
    },
    {
     "name": "stdout",
     "output_type": "stream",
     "text": [
      "generated explanation: <pad> <extra_id_0> A small dog lived with a woman if she loved him. She would likely have a house to live in. A house is a place of shelter and a place of safety, such as a bedroom, bathroom, and kitchen. It is also a place of rest and relaxation, as it is a place where people can gather and relax. It is also a place where people can go to relax and unwind. A dog's home is a place where family members can gather and spend time together. It is a place to live in a dog. The person would have lived in a small dog in a person's house, and would have lived in a person's home, and entertain guests. The dog would have lived in a place where he would have a place to spend time with the woman and her. The house is a place where the dog would have lived with the woman's family and have a place for him to be a safe place to live with the person.<extra_id_1> </s>\n",
      "########\n",
      "*******\n",
      "question: There are usually four strings on what popular instrument?\n",
      "answer: guitar\n",
      "choices: ['trumpet', 'kite', 'quark', 'guitar', \"bird's nest\"]\n",
      "common expl list: ['A guitar is a stringed instrument with four strings.', 'Guitars have four strings.']\n"
     ]
    },
    {
     "name": "stderr",
     "output_type": "stream",
     "text": [
      "\r",
      " 20%|███████████████████████████████▊                                                                                                                                 | 195/986 [1:20:23<5:29:41, 25.01s/it]"
     ]
    },
    {
     "name": "stdout",
     "output_type": "stream",
     "text": [
      "generated explanation: <pad> <extra_id_0> Guitar is a stringed instrument. It is a musical instrument that is played on a guitar. It has four strings, which are connected by a common string bridge. The guitar has four strings, and each string has a different pitch and pitch. This allows the player to play a variety of notes and chords. The guitar is a popular musical instrument because it is a musical instrument with four different types of sounds. The guitar has four different tones of sound, which makes it ideal for a variety of musical instruments. The four strings are also a popular instrument because they are often used to create a variety of sound. The four strings allow the guitar to produce a unique sound, which is a popular instrument because of different sounds that can be played simultaneously. The four strings are also used to create a musical instrument. The guitar is a musical instrument with four different types of strings, and the guitar is a popular choice for musicians of sounds, and a variety of sounds, which are the most commonly found on acous. The four strings are a variety of sounds, and allowing for different sound.<extra_id_1> </s>\n",
      "########\n",
      "*******\n",
      "question: Where would you find a shelf with toys for young people learning?\n",
      "answer: school building\n",
      "choices: ['corner', 'school building', 'wall', 'library', 'bookstore']\n",
      "common expl list: ['A school building is a place where children learn, and so, a school building would have a shelf with toys for young people learning.', 'School buildings house school libraries, in which you would find shelfs of toys, games and puzzle for students to use while in school.']\n"
     ]
    },
    {
     "name": "stderr",
     "output_type": "stream",
     "text": [
      "\r",
      " 20%|████████████████████████████████                                                                                                                                 | 196/986 [1:20:28<4:07:48, 18.82s/it]"
     ]
    },
    {
     "name": "stdout",
     "output_type": "stream",
     "text": [
      "generated explanation: <pad> <extra_id_0> A school building is a great place to find a shelf with toys for young people learning. It is a great place to put a shelf with toys for young people to play with and learn. It can be found in many different places, including in the classroom, library, and other areas of the building. The shelves are usually located in areas that are close to the classroom, where young people can play and explore. They are also often easy to access, so that they can access the toys and other materials they need. Additionally, the shelves can be easily accessible, so that the students can easily access to the activities they need. Finally, the shelves can be easily accessible, making it easy to access to young people.<extra_id_1> </s>\n",
      "########\n",
      "*******\n",
      "question: What can you get after drinking too much alcohol?\n",
      "answer: sickness\n",
      "choices: ['become drunk', 'have fun', 'active', 'frequent urination', 'sickness']\n",
      "common expl list: [\"Alcohol (e.g., beer, wine, etc.) is a chemical that alters people's consciousness, making them generally feel unpleasant; subsequently, over-consumption can lead to the vomiting of one's content inside one's stomach. Hence, being\", 'Alcohol is a diuretic, which means that it makes you urinate more frequently. This can lead to dehydration, which can cause sickness.', \"Drinking too much alchohol can impair the body and, consequently, one's ability to think straight. It can also cause sickness.\"]\n"
     ]
    },
    {
     "name": "stderr",
     "output_type": "stream",
     "text": [
      "\r",
      " 20%|████████████████████████████████▏                                                                                                                                | 197/986 [1:21:01<5:05:28, 23.23s/it]"
     ]
    },
    {
     "name": "stdout",
     "output_type": "stream",
     "text": [
      "generated explanation: <pad> <extra_id_0> After drinking too much alcohol, you may feel a physical or mental sickness. This is due to the fact that alcohol can damage the body and cause a wide range of health problems. In addition, alcohol can increase the risk of developing certain diseases such as cancer, heart disease, and stroke. In addition, alcohol can also increase the risk of developing certain cancers such as prostate cancer. Alcohol can also increase the risk of developing certain cancers such as cancer, breast cancer, and certain cancers. In addition, alcohol can cause a variety of problems in the body, which can cause a variety of symptoms. Alcohol can cause fatigue, and other symptoms. Alcohol can also cause headaches, which can cause a variety of symptoms. In addition, it can cause a person to feel a physical and mental health condition known as a physical symptoms. Alcohol can also cause a variety of symptoms depending on the amount of alcohol consumed, such as anxiety, depression, and mood. In conclusion, drinking too much can lead to a lot of alcohol can cause a variety of symptoms, which can lead to a person’s ability to sleep, headaches, and other symptoms. In addition, it can also lead to depression, anxiety, memory, and other symptoms.<extra_id_1> </s>\n",
      "########\n",
      "*******\n",
      "question: WHat is the central bank responding to when they are fighting inflation?\n",
      "answer: problems\n",
      "choices: ['deflation', 'problems', 'spend more', 'people', 'not noticeable']\n",
      "common expl list: ['Inflation is a function of having too much money in the economy. This may cause problems.', 'Inflation is a problem, and the central bank is responding to it by fighting it.', 'Periods of inflation cause problems for businesses and people. The central bank may take steps to fight inflation (reduce it) to respond to this problem. Reducing inflation also solves the overall issues.', 'In order to fight inflation, a central bank must respond to the problem, e.g., economic trouble, which if left alone, would cause inflation']\n"
     ]
    },
    {
     "name": "stderr",
     "output_type": "stream",
     "text": [
      "\r",
      " 20%|████████████████████████████████▎                                                                                                                                | 198/986 [1:21:07<3:57:36, 18.09s/it]"
     ]
    },
    {
     "name": "stdout",
     "output_type": "stream",
     "text": [
      "generated explanation: <pad> <extra_id_0> The central bank is responding to problems when they are fighting inflation. Inflation is a problem that the economy faces in a number of ways. It can be a problem that is hard to predict, as it is often hard to predict the extent of the problem and the extent of the problem. Inflation is a problem that can be attributed to a number of factors, including the economy's capacity to absorb additional shocks, and the level at which the economy can absorb additional shocks. In addition, the central bank is often a problem that the economy is not enough to the economy to take action to prevent the economy from falling. Inflation is a problem that the economy from rising, and will continue to a problem until the central bank takes action to combat inflation.<extra_id_1> </s>\n",
      "########\n",
      "*******\n",
      "question: What could a massive building be if it is not constructed well?\n",
      "answer: insubstantial\n",
      "choices: ['insubstantial', 'massless', 'dwarf', 'inconsequential', 'good']\n",
      "common expl list: ['Because the massive structure is so large, poor construction could render it largely inconsequential, or \"insubstantial\", as a structure.', 'A building is typically considered a sizable construction, therefore, if erected poorly, would be construed as being insubstantial.']\n"
     ]
    },
    {
     "name": "stderr",
     "output_type": "stream",
     "text": [
      "\r",
      " 20%|████████████████████████████████▍                                                                                                                                | 199/986 [1:21:12<3:05:45, 14.16s/it]"
     ]
    },
    {
     "name": "stdout",
     "output_type": "stream",
     "text": [
      "generated explanation: <pad> <extra_id_0> A massive building is a structure that is designed to be massive. However, if it is not constructed well, it could lead to a building that is insubstantial. This is because the structure is designed to be massive and contain many rooms and many different types of equipment. This can lead to a building that is difficult to move around and maintain. It is also difficult to move around and move around inside the building. Additionally, if the structure is not constructed well, it could lead to a collapse. This can lead to a massive building that is not a substantial building that it is not adequately able to support the weight of the structure. This can lead to the structure being insubstantial.<extra_id_1> </s>\n",
      "########\n",
      "*******\n",
      "question: If you rent a condominium in a glove-shaped state where are you?\n",
      "answer: michigan\n",
      "choices: ['great lake state', 'michigan', 'community', 'towels', 'complex']\n",
      "common expl list: ['A condominium is a type of housing that is often rented. Condominiums are often located in complexes, and Michigan is a state that is shaped like a mitten.']\n"
     ]
    },
    {
     "name": "stderr",
     "output_type": "stream",
     "text": [
      "\r",
      " 20%|████████████████████████████████▋                                                                                                                                | 200/986 [1:21:38<3:52:22, 17.74s/it]"
     ]
    },
    {
     "name": "stdout",
     "output_type": "stream",
     "text": [
      "generated explanation: <pad> <extra_id_0> If you rent a condominium in a glove-shaped state like Michigan, you are probably in a glove-shaped state. Michigan has a relatively low cost of living, which makes it a great choice for those looking to rent a condo. The state has a high cost of living and a variety of amenities to choose from. One of the most common condo amenities is the indoor pool and spa, which is a great way to relax after a busy day at work. Michigan also has a great location, so a great place to rent a condo in michigan, which is a great place to rent a condominiums, and the state to rent a condo. The state has a large number of condos, making it an ideal choice for those looking for a condominium in a great choice for those looking to rent a condo in a great choice for those looking for a condominium in the state, because of its proximity to work and the city. The state has a great choice for those looking for a great choice for those who want to visit the state of michigan.<extra_id_1> </s>\n",
      "########\n",
      "*******\n",
      "question: where do children play a game?\n",
      "answer: family room\n",
      "choices: ['toy store', 'bar', 'casino', 'table', 'family room']\n",
      "common expl list: ['A family room is a room in a house where family members can play games.', 'A family room is a room in many homes in which families can socialize, often through games. One such game is \"connect four.']\n"
     ]
    },
    {
     "name": "stderr",
     "output_type": "stream",
     "text": [
      "\r",
      " 20%|████████████████████████████████▋                                                                                                                                | 200/986 [1:21:56<5:22:00, 24.58s/it]"
     ]
    },
    {
     "name": "stdout",
     "output_type": "stream",
     "text": [
      "generated explanation: <pad> <extra_id_0> In family rooms, children play games because it is a place where they can gather together and play together as a family. Family rooms are usually used for socializing, playing, and learning activities. They can be a place for children to play games, and the family room can be a place for them to go and play games with their parents. Family rooms are also often used to play games with their siblings and other family members. This is because family rooms are usually quieter than other areas, and so the children can easily interact and play with each other adults can easily be seen as well as adults can see the fun and the children can interact with each other children and can play games. Furthermore, family rooms can be used to play games, as a safe environment for children to develop their imagination, and interact with each other children to play games. Family rooms provide a fun and a safe place to play, and a safe and secure environment for them to interact with each other children to play games.<extra_id_1> </s>\n",
      "########\n"
     ]
    },
    {
     "name": "stderr",
     "output_type": "stream",
     "text": [
      "\n"
     ]
    }
   ],
   "source": [
    "from tqdm import tqdm\n",
    "fse_csqa_dev_data_dict\n",
    "fse_csqa_train_data_dict\n",
    "rationale_pair_dev_data = []\n",
    "cc=0\n",
    "good_model = model\n",
    "for da in tqdm(our_data_splits['dev'], total=len(our_data_splits['dev'])):\n",
    "    print(\"*******\")\n",
    "    print(\"question: {}\".format(da['question']))\n",
    "    print(\"answer: {}\".format(da['answer']))\n",
    "    print(\"choices: {}\".format(da['choices']))\n",
    "    #print(\"our_explanation: {}\".format(da['our_explanation']))\n",
    "    id_ = da['id']\n",
    "    if id_ in fse_csqa_dev_data_dict.keys():\n",
    "        common_expl_list = fse_csqa_dev_data_dict[id_]['common_expl_list']\n",
    "    else:\n",
    "        common_expl_list = fse_csqa_train_data_dict[id_]['common_expl_list']\n",
    "    da[\"common_expl_list\"] = common_expl_list\n",
    "    print(\"common expl list: {}\".format(common_expl_list))\n",
    "    inp_ids = torch.tensor(da[\"input_ids\"], device=model.device).reshape(1, -1)\n",
    "    out = good_model.generate(\n",
    "                    inp_ids,\n",
    "                    max_length=512,\n",
    "                    pad_token_id=tokenizer.pad_token_id,\n",
    "                    eos_token_id=tokenizer.eos_token_id,\n",
    "                )\n",
    "    skip_special_tokens = False if \"infilling\" in data_args.io_format else True\n",
    "    words = tokenizer.decode(out[0].tolist(), skip_special_tokens=skip_special_tokens)\n",
    "    print(\"generated explanation: {}\".format(words))\n",
    "    da[\"generated_explanation\"] = words\n",
    "    print(\"########\")\n",
    "    rationale_pair_dev_data.append(da)\n",
    "    cc += 1\n",
    "    if cc > 200:\n",
    "        break\n",
    "    #pdb.set_trace()"
   ]
  },
  {
   "cell_type": "code",
   "execution_count": 51,
   "id": "a7a66b99",
   "metadata": {},
   "outputs": [],
   "source": [
    "import json\n",
    "rationale_pair_save_path = os.path.join(\"./results\", \"96shots_cose_t5_large_text003_150_200_rationales_generator_test_rationale_pair.json\")\n",
    "with open(rationale_pair_save_path, 'w') as f:\n",
    "    json.dump(rationale_pair_dev_data, f)"
   ]
  },
  {
   "cell_type": "code",
   "execution_count": 53,
   "id": "33daef0f",
   "metadata": {},
   "outputs": [
    {
     "data": {
      "text/plain": [
       "dict_keys(['5b8a3081c3235d62bc77e2d15f3ad454', '07f108d5321a66f460685f5c7499ecb2', 'ff1bf2ec835c9df8695ae0cfb5281646', '33ea932a876ac0361c9eefeff1d24e92', '35ad89c198d5d6311a71c993bb7b6cba', 'a2aa95861ef74bf1ecfc55db505e3982', 'af3b9a8b1962cd3bcd19e644d873e7bc', '91e0f4ab62c9d2fd440d73a3f5308d96', 'cfc7fccb8449a2a950c9d2a50991420e', 'edbb57ac2f476679ae547f75ec2bef3e', '8555dd9667d010018961a2f7d1c22704', '8bdbb8caefcc607a9ec7579aa0c87cba', '549cf641318edfc0510fa7c7dbb359e1', 'd6c002d46d9bfa466637cec4a134f332', '3b9ccdcb1c932c46a38e040d3e6c7f5b', '54231f875bb7fe4d3e4afb6eae64387c', '668dc6bce771b10cbf6336f3ec76520a', '900492bd731f8f615ed7c08155737d44', '0b25bbd9e9aa976655e1975e31331709', '1729c737ff92cf558efecde2c6cafc5e', 'cc1a547bdfdcc95e4d632453af14bc96', 'c492b8b9754a181c924c1df19998cbc7', 'd31ee38f67d1173275e120b8ad36039c', '083861fc5ebb9226fff70544f3f83d2b', 'e1744fc698cffb574e5cf4b29a81ce76', '1f492f556fae64f72ce36b6caa242dd0', '27604394ccee83e089f9ffae1883cf07', 'b3dc6d6a5e2f9d7da8eb72816c80b3f8_1', '6bc3ebcfd04965c25bde71339955746c', '69335eb9bc5b7b5df840c38a086bf8b2', 'bc05bc6b4df7a3d25a361515fe8912ad', 'f7c005244d406b9bde48dc8c22003af1', 'f48528156632b9c5b18af9ce2095509b', 'b5baf77d3855935c87f01f5fb2216667', 'db1eb157671109bbb9113b0f71a6b957', '77ddc9134bb27f9962aa2ed5ec5a5ef9', '6abd34442438509b4a00c69d6fd24764', 'b67971747e95ba425a5b81e0ba8d0b28', 'bee2a6eadfaf7a4fa0a214e341ddbe5b', '8ce13c6e08bf38d4cd4af756b661e47c', '80930e9df9ac4ad752749a54e7fc124f_1', '3ffe67fb009529d9b0c49ccd7141ee4a', '8d3dc21a53523850ec80771daaa5ff20', '3310b5b24f03d67179fababf9ae95144', '998381f854f51da2a6ccde45909e5168', 'f427f9de6bf580314531baf86de8acbc', '18844d3aa4e52b331b5382c8244cf4db', '8af63d58cc35061dec38e5448c325988', '768fb09deab56046e1565b6a2556ad5c', '5655a3002dd9a6b7dabede1dd26a5893', '07ea8ff6ee916f2bf9aceab1e19ff99a', 'd35a8a3bd560fdd651ecf314878ed30f', '449de58e919975867255218484a9fc89', '7cf54544d54818d53e7088c0749a3eca', 'd29252ddaf7c7ef491abcce342d7bb98', '4a4f6408fae400ce0beb5bea0f9913e9', 'c306ab28498b67c53decb9dde1d78bd5', 'ba9132ebf2bc3ad21e6a0631dc4e0a77', '026cb9c07a583ec933f2c4c67ae73836', '2a21820a135e1a49883525c055c74a0b', '7c45033e9fd9f1a759923971b14390ed', 'dc964e4f6df6b70815e81e466d0ff717', '2a32b1e541b1daae04690d0d3a4b3310', '6c515b068b4d3aa88a5382224d9b866d', '6c84e79d0595efd99596faa07c4961d0', '42c46e28baf0fc617a07419286178c0a', 'c39131d979c9205c11d0e109e18188e4', 'c592258c88295756833e9796e881057b', '3526550b02d9594abd4fc43553010fc6', '637c710ec9582fd9b9e8eaa3f3fe83bb', '01f01cc3ad152773ef42b30e926912bf', 'c54ddc0f9d170ba65d9f4f2e0bb41d1c', 'ad37795fd9e3a65553683ff305b5113d', '7a3d0c94438a5c8a09364aaebb848a2c', '7c05e8d5a057085455eea243fbd1cd90', '4364b4b342fb7b44434bd6694bf8fd51', '99098375c7b651d524eebac72e358238', '1ddd239a2a6438a891cb411b82e7f450', 'f4bb8ecacb9ce89e040f5f76bc79afb3', '6b9221c1af583ffb43580857d6fde38a', 'cf8e30dd6956d03e3f0f0397112a8696', '456f2fb41cac8c028dcfe2f48637e473', 'c908d7c4633c5e6add9463bdd47cb27e', '2de08c7a518b7c226e19bdc8fc10ef1d', 'cd639cf3ff82f825ace7dd2b087562bd', 'e3c6d147f8a727d314046e70e9579ba0', 'b9b82aa4c236cd342ff95455b8516a42', 'e4976ee741cf4b28b8a42780ffb15774', '8d275acea05fd16295c659c504576a9b', '3bf06235a537adc9d85431846595b800', 'a7d51b753c2113d8b2dbd0ebb5375855_1', 'bcc5dd6292a64d8fa17cd07c360b335d', '46ba5d2b8cfc6708e5e2618568d8730e', '9f9ca9bb06d6afc31b19c365fb29a1c9', '3d9c3253e24fb108cea9083e8a853cf2', '3b8e1d236f5169b6c833a994d6d9c39a', '6ca8439d062de4d43d7d471c508b78db', 'ec86900559a0faf2aef066e511a4cfa6', '57e96118fee6e2bbac5f59790fc833c0', '520b0eea9148e3cb4d45aa69a55491eb', '6be05d227f4f6fe727218fc8be9df340', '113aaea2b1a27a976547f54e531d99bb', '2f0931adc3d0d422d9ab6264395e89d8', 'cce1b59f7c4f540a84a1a7d6d88548c4', '870b07a1c5af2e956673a9680da99852', '34005ef0caafefc8585c9fcd50e94557', '22458fdcead20e2def0df0d92d5806f6', 'ec224c1dbfb569cce7ec317fe987ae68', 'ede4d302fc2ffe07703158f83c1493f2', 'ecd32cc0c17d4738a27bba3399f04591', '5c171b9837af49211891ce40e4a10204', '801431167b8bff06b9870abe9721536b', 'b47d912136e3304cb5e5890b6b879551', 'd0bd5b5ee7319d1c4727e38d429dd54e', '78276a4eab6e8d6b9ae3749211816977', 'ec79ef747bb89281923edb89ba26786d', '0e80f2afe5c4f652e8720b52d7c06c87', '39572e0ba1db51fa74f7fc2d90c5ec7f', '56417ee33b44f0d916bedfb6fd99b0ec', 'f996430ce208606452868fd2e739d409', '858a5eaa587fe0e266722228671a6bd1', '273d0134e8ce53d4ebcf41ca7fde02af', '49e466b1782aa4837dae53ff891fcdee', '08d908ed723f813574992195d61386a2', '7192c9f5c513aac9042bad595ff5af9f', 'aa4c5d2d348796b8d7fa324f27f4c34f', '0e52659484f2f6d763cf0d38d4c5999d', '4423c006f2a43f222d4c4e97360c25d3', 'f4a75bf3f115b826a8097edfd0ff2781', '07b51b231a9d6a143d8a73e69121e1b1', 'c2a8c6814ed3e207771cfc23b3b42cf1', 'f13efb91090dd28fd2b3c1f4dde680fd', '985a4f1a3f31f1ba6654f4fc48f504df', '9e5ce2b7d9eb404cdf8c7317dd0b5a59', 'a400b9fd1e319f901471c4b42d401c52', '042898e0c71adac5d123aaa6221c9754', '29c194d032a266a7160bff6f546a4d9d', 'db0cfd52ca6b2bbfcf26d1a898fd929b', '2a0e82bbf1471290c93c8f2a11af197f', '49b4c9e1bd7946a819e173ce8fa4c7c9', '6cb895ce89995f6be422f7c4167c7638', 'df1bf6f3f87975aa0c1b6d6153d9ecef', '1bf4c6b5bd870b1a079106e1e97e5d09', '8ae24d3ff199077a59e0d970feb665b7', 'bb503ece4eac41dfe608a1dcb654e6bf', '6e77de03bee86d6c20780e14f00944d0', '5799089c131e26473697afc54d5f6964', '895aa97bb84d874d71b2aed572cebfdd', '23d97480fe45bace231503f8fc367a5b', 'a2977fd575faba162d04a490dabd1b9b', '5a1c8a9dbbb60e523cc1ba14a370729c', '5496c7293f653120e5a5213db2d7b103', '7044d82a456d0fa6f0210abb03cbf2c4', '15b090801256085ad465e74af47cbee9', 'aa984e2b487d08889bc0c73bab5ac945', '4302e727e47f464511d4d04f22bed0d2', 'b6b66d4519a84b8331ea55f84767e9df', '0e5c7c0cec5b693e52f74f5f879d84fb', 'e408a5a031caec33782cb3b3a005eecc', '96cb628fb7ed2f53245598f707ed2b80', '2067720531fc03c017af941cec2f6f40', '5b8d76889510384b38b72945e8d28f53', 'cf33e0f5891ce53a716432be06a46ee1', '24eebfa678112100803da16dde148b2d', '0c2fa15a02d0b6ca6707e98fac7589e4', 'c2c2a387fd9a6a26cff636008de21f71', 'f20d40bc4af588223e880e0bb58b27b8', 'b42ef8be1748c19fa5938de5396f8fad', '57b83653d82b27d32bc39228130f3516', '2192c5c2145a6e03755ad89a02e64055', '175e7dcdded13d5adafaebf2264c3abd', '8d4b0312f02be445e09a9462873d02bb', 'cfa081b5ba90dae4d7ddb5b7ad9d369a', 'd6bb990e8c409d2b3af37a2da198e01f', '20a3bb788cf408d9a3e25e610fe60905', 'af11faa29097b71141fe192ad019d1dd', '6915dfdefe3b1cd5fd8886c8bb84929a', '43ba9669564217f2f909f33acbedaf95', 'fce1c5d069758aea57a787fc98dcf7a9', '32758ab86d888be680845b0dfe7de35e', '7ea57ee4580042b0a6a40479c8ace3e4', '21fb76bd8349628b441c76f47c33e77b', '3fe45ab3bd4a844ea290050fc0ece8c1_1', '3dee8fc7f0a3fbf4de111b6686fca157', 'ceafca2445b1b974d085a8cce38e8e44', '42520bf3f93f8de23670044e019001a3', '5ea6b94d1a911365b06cf776919413e8', '2d3c9d3dff1a7a8253180cb3de1ceeea', 'a4892551cb4beb279653ae52d0de4c89', 'e050bce7048da1b3743a54153e91694e', 'eb50f536830ba18ab987c7ff652e2aba', '6386bcf080633bc3eeb3317a5435b7b7', '839f3c37622c1ed5eebc9cd0b9d658e8', '009a7aabffe0583fc2df46656b29c326', 'c82ed0c2a2e115452b4d596c5faafbcf', '01abce8c4964371d85a5be2019f75827', '7d937233b4a9043da0b976dbd42d141b', 'c611875b43b67b91030b889b267bbcb3', '7bc1198664b376f79d584725ad7f874b', '5e260e1d96187716888cbd968010bb65', 'fde48d43e27cefed6ed9c52514e0bb6d', '43ab0ff711e60d51f943bbd2cdd6515a', '1a8b3c2a46efabcbd506f9cf70886ed0', '48a315cfa3ce11f7a9d615bc854331d5', '095767956c500ca1af7cf7671556de5b', 'de54d03e69d9765872f95ff06ed21499', 'cbf3dd48b4d591fc872a53cd4b9dd3af', '35872be88df5f6c4a6600020266a5458', 'a90f9197a13c64089c9ba95bcba275ad', 'bd4e80fa6642a76c064d0bc924411fb0', '008b7ba0c039f6d0d542c6c90aae173c', 'ace8fa2943ba8414aebdb74b48906fae', '1caf93d6a22dc8190e19c14bbe1fafda', '7c8bc9c0e56389eef033bca40c88c151', '6195ed74cf445cb5d991e1076a080dde', '8086f022f2d4a4888ae1f8c7e4541ab9', '1e5a138b4c7d456c37abf4990b402bbe', '3f4b48708d08f8bf7bec796531023f9c', '60e92cd2f35c345872d1a898e1718d55', '9889e5389917d812c09d6e5d382d333d', '46351b3a6beb694c5f623583a3b1473d', '7b7941b883328ad39048d4dfb1eb5623', '7d7f7d7a8ae3b20ca9fc0da6efe467b4', 'c961578f4c5768b67b843e5d2ce18452', '514310637fb43a252bfadc8cbf79b277', '5279a2ea333ba8a5bf3a7637a7279da1', '5622e49306bb82ec1cec817ad0506c60', 'fcd39cfa321728fea069a6ae4285b06f', '26bd85f05d29863ed777a4f1a4b8fa63', '31487ab8b1e8f12e252590cc58bd19c2', 'ffd89796a9b09bef56c5803f188764c6', 'ba3a2b9ff289c106051163f840a6f5ba', 'b1f36d1c8ab7e5a28783cb38e8709c27', '5c2bc4335c8860342ec2d568ceb6ac6b', '36c1f50eec01c287b8ef6ffe69fe0528', '515834727e23e30ab7c8fe5ba7e9a765', 'a15d564d0be6996251b5d523ac62db2a', '8f01273422a370a8dbda6bf473a395a0', 'cabefb7063a728e77abd44d97397a2a4', '1bc986f8aea88d6927d8a45367855a94', '484f6e4fb8e6431b010c299490b72e3c', 'a7e3de0719fe30e7048f67426e29fdd1', 'a617eb4d27edea93e7fd630ce00c8219', '2c0030cc14a27be2401dcfdaa501f0fc', 'cf02cca40a47c2deefd8b2e5a5ff2f70', 'ea0e7771afd86a59fd9f7764b77e3fa4', 'c1aebf059c5102f4e773f7fe4afe13f0', '95a85df48902d23eb3fda25a99fca1a0', 'a4b44a986e7f9045432e20ea75611df4', '05490e6c191fbc3c2fe0033ed0bd8aa0'])"
      ]
     },
     "execution_count": 53,
     "metadata": {},
     "output_type": "execute_result"
    }
   ],
   "source": [
    "fse_csqa_dev_data_dict.keys()"
   ]
  },
  {
   "cell_type": "code",
   "execution_count": null,
   "id": "bd852d7d",
   "metadata": {},
   "outputs": [],
   "source": []
  }
 ],
 "metadata": {
  "kernelspec": {
   "display_name": "Python 3 (ipykernel)",
   "language": "python",
   "name": "python3"
  },
  "language_info": {
   "codemirror_mode": {
    "name": "ipython",
    "version": 3
   },
   "file_extension": ".py",
   "mimetype": "text/x-python",
   "name": "python",
   "nbconvert_exporter": "python",
   "pygments_lexer": "ipython3",
   "version": "3.7.0"
  }
 },
 "nbformat": 4,
 "nbformat_minor": 5
}
