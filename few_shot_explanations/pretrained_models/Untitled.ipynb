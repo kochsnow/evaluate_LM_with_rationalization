{
 "cells": [
  {
   "cell_type": "code",
   "execution_count": 20,
   "id": "ffe1f3e7",
   "metadata": {},
   "outputs": [
    {
     "name": "stdout",
     "output_type": "stream",
     "text": [
      "Requirement already satisfied: revChatGPT==0.0.29 in /home/huangyongfeng/miniconda3/envs/py3.7pytorch1.8new/lib/python3.7/site-packages (0.0.29)\n",
      "Requirement already satisfied: lxml in /home/huangyongfeng/miniconda3/envs/py3.7pytorch1.8new/lib/python3.7/site-packages (from revChatGPT==0.0.29) (4.9.1)\n",
      "Requirement already satisfied: tls-client in /home/huangyongfeng/miniconda3/envs/py3.7pytorch1.8new/lib/python3.7/site-packages (from revChatGPT==0.0.29) (0.1.8)\n",
      "Requirement already satisfied: requests in /home/huangyongfeng/miniconda3/envs/py3.7pytorch1.8new/lib/python3.7/site-packages (from revChatGPT==0.0.29) (2.26.0)\n",
      "Requirement already satisfied: bs4 in /home/huangyongfeng/miniconda3/envs/py3.7pytorch1.8new/lib/python3.7/site-packages (from revChatGPT==0.0.29) (0.0.1)\n",
      "Requirement already satisfied: beautifulsoup4 in /home/huangyongfeng/miniconda3/envs/py3.7pytorch1.8new/lib/python3.7/site-packages (from bs4->revChatGPT==0.0.29) (4.11.1)\n",
      "Requirement already satisfied: soupsieve>1.2 in /home/huangyongfeng/miniconda3/envs/py3.7pytorch1.8new/lib/python3.7/site-packages (from beautifulsoup4->bs4->revChatGPT==0.0.29) (2.3.2.post1)\n",
      "Requirement already satisfied: charset-normalizer~=2.0.0 in /home/huangyongfeng/miniconda3/envs/py3.7pytorch1.8new/lib/python3.7/site-packages (from requests->revChatGPT==0.0.29) (2.0.3)\n",
      "Requirement already satisfied: urllib3<1.27,>=1.21.1 in /home/huangyongfeng/miniconda3/envs/py3.7pytorch1.8new/lib/python3.7/site-packages (from requests->revChatGPT==0.0.29) (1.26.6)\n",
      "Requirement already satisfied: idna<4,>=2.5 in /home/huangyongfeng/miniconda3/envs/py3.7pytorch1.8new/lib/python3.7/site-packages (from requests->revChatGPT==0.0.29) (3.2)\n",
      "Requirement already satisfied: certifi>=2017.4.17 in /home/huangyongfeng/miniconda3/envs/py3.7pytorch1.8new/lib/python3.7/site-packages (from requests->revChatGPT==0.0.29) (2022.9.24)\n",
      "\u001b[33mWARNING: You are using pip version 21.2.4; however, version 22.3.1 is available.\n",
      "You should consider upgrading via the '/home/huangyongfeng/miniconda3/envs/py3.7pytorch1.8new/bin/python -m pip install --upgrade pip' command.\u001b[0m\n"
     ]
    }
   ],
   "source": [
    "!pip install revChatGPT==0.0.29"
   ]
  },
  {
   "cell_type": "code",
   "execution_count": 22,
   "id": "fdeb876a",
   "metadata": {},
   "outputs": [
    {
     "name": "stdout",
     "output_type": "stream",
     "text": [
      "Error refreshing session\n",
      "<!DOCTYPE html>\n",
      "<html lang=\"en-US\">\n",
      "<head>\n",
      "    <title>Just a moment...</title>\n",
      "    <meta http-equiv=\"Content-Type\" content=\"text/html; charset=UTF-8\">\n",
      "    <meta http-equiv=\"X-UA-Compatible\" content=\"IE=Edge\">\n",
      "    <meta name=\"robots\" content=\"noindex,nofollow\">\n",
      "    <meta name=\"viewport\" content=\"width=device-width,initial-scale=1\">\n",
      "    <link href=\"/cdn-cgi/styles/challenges.css\" rel=\"stylesheet\">\n",
      "    \n",
      "\n",
      "</head>\n",
      "<body class=\"no-js\">\n",
      "    <div class=\"main-wrapper\" role=\"main\">\n",
      "    <div class=\"main-content\">\n",
      "        <h1 class=\"zone-name-title h1\">\n",
      "            <img class=\"heading-favicon\" src=\"/favicon.ico\"\n",
      "                 onerror=\"this.onerror=null;this.parentNode.removeChild(this)\">\n",
      "            chat.openai.com\n",
      "        </h1>\n",
      "        <h2 class=\"h2\" id=\"challenge-running\">\n",
      "            Checking if the site connection is secure\n",
      "        </h2>\n",
      "        <noscript>\n",
      "            <div id=\"challenge-error-title\">\n",
      "                <div class=\"h2\">\n",
      "                    <span class=\"icon-wrapper\">\n",
      "                        <div class=\"heading-icon warning-icon\"></div>\n",
      "                    </span>\n",
      "                    <span id=\"challenge-error-text\">\n",
      "                        Enable JavaScript and cookies to continue\n",
      "                    </span>\n",
      "                </div>\n",
      "            </div>\n",
      "        </noscript>\n",
      "        <div id=\"trk_jschal_js\" style=\"display:none;background-image:url('/cdn-cgi/images/trace/managed/nojs/transparent.gif?ray=7875a90c8c6f24f5')\"></div>\n",
      "        <div id=\"challenge-body-text\" class=\"core-msg spacer\">\n",
      "            chat.openai.com needs to review the security of your connection before proceeding.\n",
      "        </div>\n",
      "        <form id=\"challenge-form\" action=\"/api/auth/session?__cf_chl_f_tk=c12dNF96x.NpPcMkFIzZVW38DbqO30V5mPumRIiOJ.I-1673356305-0-gaNycGzNEH0\" method=\"POST\" enctype=\"application/x-www-form-urlencoded\">\n",
      "            <input type=\"hidden\" name=\"md\" value=\"S1vznYFXg9tfiv5G7lejUizfzkzzFMwkzi05bsbM8TE-1673356305-0-AXq3ywWeiKqHxpim1-G8OUIpnyxComMNrrcz4reWQa2B2RBB0CvWnL_2ev0xlrQpbLNULhnZ4L07LPvAmKqKJ8efJ_3lnI2YkqvjSYqz5aU9go68EUP7uuee73sWmurA7XEU2yS9yXPzdwj580436CknNnBjaZorfWc3pzBB3aBmJw6_qtLbFumMMJ85H3Ud4hl1Ga3gd0uFthQQ08ZmVE9ebnwFxPddgitxt5GqdyaQdOTPhgkYk5_AARR8Z8TLdGfbSjWP3tMP0iahcJJA0hvh0wK6BJZPTAbYJzLICY9MRLCtxS4sQIWwzq8h8xqFOsqf8T7kkMse7NXtJ_TGoeBwEONpl-AdV5QfI6gKZWPybjgMkVVFnJhGLyedk49YR671g_3lrD4IADYKYS0JO0_aTFxbFJpYGjSv5zp0BSRc0iKaHxVTbdLQnNU5Xl0D_C1lPQtlvW3FoRHm63Guyer4V4R9B0V8NmHUXC2iNT0aBZdMvhOnFlb7Y57na2A7HyRf11tAn7wcu40k4xbugvCsyx76vk50GDHjhCkd--ts\">\n",
      "            <input type=\"hidden\" name=\"r\" value=\"ivj8FzDpahqbN7RtbIeNsNpgfx3PQ_pXKSONBO9SwHs-1673356305-0-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\">\n",
      "        </form>\n",
      "    </div>\n",
      "</div>\n",
      "<script>\n",
      "    (function(){\n",
      "        window._cf_chl_opt={\n",
      "            cvId: '2',\n",
      "            cType: 'managed',\n",
      "            cNounce: '76964',\n",
      "            cRay: '7875a90c8c6f24f5',\n",
      "            cHash: 'dd2b31a28118bf5',\n",
      "            cUPMDTk: \"\\/api\\/auth\\/session?__cf_chl_tk=c12dNF96x.NpPcMkFIzZVW38DbqO30V5mPumRIiOJ.I-1673356305-0-gaNycGzNEH0\",\n",
      "            cFPWv: 'b',\n",
      "            cTTimeMs: '1000',\n",
      "            cTplV: 4,\n",
      "            cTplB: 'cf',\n",
      "            cRq: {\n",
      "                ru: 'aHR0cHM6Ly9jaGF0Lm9wZW5haS5jb20vY2hhdC9mcm9udGVuZC8vYXBpL2F1dGgvc2Vzc2lvbg==',\n",
      "                ra: 'TW96aWxsYS81LjAgKE1hY2ludG9zaDsgSW50ZWwgTWFjIE9TIFggMTBfMTVfNykgQXBwbGVXZWJLaXQvNjA1LjEuMTUgKEtIVE1MLCBsaWtlIEdlY2tvKSBWZXJzaW9uLzE2LjEgU2FmYXJpLzYwNS4xLjE1',\n",
      "                rm: 'R0VU',\n",
      "                d: 'GC4hqtMwI/ZnbvZ+6r/n78v5KmrU0EuyR6+fc7UBREX11D6KWzegcR2gOx/fdgRNl3K+w+ehBAuOe7XM+3AwrIbI0R8XRytCDetOySBOyGFOC5kML66bkvkKf9nMj5d2k/mnU3QZrsVOyvg2+lnTLeNjLNjgKKj81sBTqHExqRVMKr75l3qQpdE7/mUHQPKp+aXRg5PiQ8qUwkghuyScB8VECcT44aXvoBSYuhKFKEj2WAZDsDk7xFfXoIz+VWlOHl4JHKsJGjHLPSG8p8O4UnxR6nlCZJhzfZOfpmLcZWLVPLgh7tUB+UEvg6gG8gG0cjjIuWqhnKQH8opA1tlEBQlfgkVp6pnbVuJpVABp5utnP/RJJiS2+llIbDyrO892AtOokGPcBIu/CySSga/tI/rclPpBJ2ua2ZEER5KNYVOvNOZ/7x6qpmTL01mqcH08eLBfYIdVKmSbAsZ/n/h0U8Br6zKKjE7qjJVchtTTHatyp7TkRsxyXsLtCb9oU1HpnG1vpM0//uKC83mjf8ElqSB13qkp9A13tsrMXYA0kds2NvwzrBtYgUIz/7canLo16kV/5KdVuauntbBYjgMjGXzxI/qU+0ZJxIRRvv9zkyJPsq3PgHRl6GhVk3bxeIMTZO2LhlgTez3p1B1qguP1TwcrpGIGi8LRYTuD47Cey6Q=',\n",
      "                t: 'MTY3MzM1NjMwNS4zNjkwMDA=',\n",
      "                m: 'beIpn5KgIM9oGVGvuCaGztlTLdAnyodeN8hkYOBNamw=',\n",
      "                i1: 'hepUkL1ZqPq19Z1b+pZ+VQ==',\n",
      "                i2: 'br9E4H228LAAZk4YcEDSUw==',\n",
      "                zh: 'iuyN59AGNgeBFFEOPj72EN+xtBfXXvoCyd1dJnIVFAc=',\n",
      "                uh: 'cm2wjUr6M+ZSWJGGpQRwl8TWzcHP0274MxfQYzAQXGE=',\n",
      "                hh: 'foaWmAUHGGlVCZaNUJIHhxzxFNzSPNnVe6rJjiQw728=',\n",
      "            }\n",
      "        };\n",
      "        var trkjs = document.createElement('img');\n",
      "        trkjs.setAttribute('src', '/cdn-cgi/images/trace/managed/js/transparent.gif?ray=7875a90c8c6f24f5');\n",
      "        trkjs.setAttribute('style', 'display: none');\n",
      "        document.body.appendChild(trkjs);\n",
      "        var cpo = document.createElement('script');\n",
      "        cpo.src = '/cdn-cgi/challenge-platform/h/b/orchestrate/managed/v1?ray=7875a90c8c6f24f5';\n",
      "        window._cf_chl_opt.cOgUHash = location.hash === '' && location.href.indexOf('#') !== -1 ? '#' : location.hash;\n",
      "        window._cf_chl_opt.cOgUQuery = location.search === '' && location.href.slice(0, -window._cf_chl_opt.cOgUHash.length).indexOf('?') !== -1 ? '?' : location.search;\n",
      "        if (window.history && window.history.replaceState) {\n",
      "            var ogU = location.pathname + window._cf_chl_opt.cOgUQuery + window._cf_chl_opt.cOgUHash;\n",
      "            history.replaceState(null, null, \"\\/api\\/auth\\/session?__cf_chl_rt_tk=c12dNF96x.NpPcMkFIzZVW38DbqO30V5mPumRIiOJ.I-1673356305-0-gaNycGzNEH0\" + window._cf_chl_opt.cOgUHash);\n",
      "            cpo.onload = function() {\n",
      "                history.replaceState(null, null, ogU);\n",
      "            };\n",
      "        }\n",
      "        document.getElementsByTagName('head')[0].appendChild(cpo);\n",
      "    }());\n",
      "</script>\n",
      "\n",
      "\n",
      "    <div class=\"footer\" role=\"contentinfo\">\n",
      "        <div class=\"footer-inner\">\n",
      "            <div class=\"clearfix diagnostic-wrapper\">\n",
      "                <div class=\"ray-id\">Ray ID: <code>7875a90c8c6f24f5</code></div>\n",
      "            </div>\n",
      "            <div class=\"text-center\">Performance &amp; security by <a rel=\"noopener noreferrer\" href=\"https://www.cloudflare.com?utm_source=challenge&utm_campaign=m\" target=\"_blank\">Cloudflare</a></div>\n",
      "        </div>\n",
      "    </div>\n",
      "</body>\n",
      "</html>\n",
      "\n"
     ]
    },
    {
     "ename": "Exception",
     "evalue": "Error refreshing session",
     "output_type": "error",
     "traceback": [
      "\u001b[0;31m---------------------------------------------------------------------------\u001b[0m",
      "\u001b[0;31mJSONDecodeError\u001b[0m                           Traceback (most recent call last)",
      "\u001b[0;32m~/miniconda3/envs/py3.7pytorch1.8new/lib/python3.7/site-packages/revChatGPT/revChatGPT.py\u001b[0m in \u001b[0;36mrefresh_session\u001b[0;34m(self)\u001b[0m\n\u001b[1;32m    158\u001b[0m                     \"__Secure-next-auth.session-token\")\n\u001b[0;32m--> 159\u001b[0;31m                 \u001b[0mself\u001b[0m\u001b[0;34m.\u001b[0m\u001b[0mconfig\u001b[0m\u001b[0;34m[\u001b[0m\u001b[0;34m'Authorization'\u001b[0m\u001b[0;34m]\u001b[0m \u001b[0;34m=\u001b[0m \u001b[0mresponse\u001b[0m\u001b[0;34m.\u001b[0m\u001b[0mjson\u001b[0m\u001b[0;34m(\u001b[0m\u001b[0;34m)\u001b[0m\u001b[0;34m[\u001b[0m\u001b[0;34m\"accessToken\"\u001b[0m\u001b[0;34m]\u001b[0m\u001b[0;34m\u001b[0m\u001b[0m\n\u001b[0m\u001b[1;32m    160\u001b[0m                 \u001b[0mself\u001b[0m\u001b[0;34m.\u001b[0m\u001b[0mrefresh_headers\u001b[0m\u001b[0;34m(\u001b[0m\u001b[0;34m)\u001b[0m\u001b[0;34m\u001b[0m\u001b[0m\n",
      "\u001b[0;32m~/miniconda3/envs/py3.7pytorch1.8new/lib/python3.7/site-packages/requests/models.py\u001b[0m in \u001b[0;36mjson\u001b[0;34m(self, **kwargs)\u001b[0m\n\u001b[1;32m    909\u001b[0m                     \u001b[0;32mpass\u001b[0m\u001b[0;34m\u001b[0m\u001b[0m\n\u001b[0;32m--> 910\u001b[0;31m         \u001b[0;32mreturn\u001b[0m \u001b[0mcomplexjson\u001b[0m\u001b[0;34m.\u001b[0m\u001b[0mloads\u001b[0m\u001b[0;34m(\u001b[0m\u001b[0mself\u001b[0m\u001b[0;34m.\u001b[0m\u001b[0mtext\u001b[0m\u001b[0;34m,\u001b[0m \u001b[0;34m**\u001b[0m\u001b[0mkwargs\u001b[0m\u001b[0;34m)\u001b[0m\u001b[0;34m\u001b[0m\u001b[0m\n\u001b[0m\u001b[1;32m    911\u001b[0m \u001b[0;34m\u001b[0m\u001b[0m\n",
      "\u001b[0;32m~/miniconda3/envs/py3.7pytorch1.8new/lib/python3.7/json/__init__.py\u001b[0m in \u001b[0;36mloads\u001b[0;34m(s, encoding, cls, object_hook, parse_float, parse_int, parse_constant, object_pairs_hook, **kw)\u001b[0m\n\u001b[1;32m    347\u001b[0m             parse_constant is None and object_pairs_hook is None and not kw):\n\u001b[0;32m--> 348\u001b[0;31m         \u001b[0;32mreturn\u001b[0m \u001b[0m_default_decoder\u001b[0m\u001b[0;34m.\u001b[0m\u001b[0mdecode\u001b[0m\u001b[0;34m(\u001b[0m\u001b[0ms\u001b[0m\u001b[0;34m)\u001b[0m\u001b[0;34m\u001b[0m\u001b[0m\n\u001b[0m\u001b[1;32m    349\u001b[0m     \u001b[0;32mif\u001b[0m \u001b[0mcls\u001b[0m \u001b[0;32mis\u001b[0m \u001b[0;32mNone\u001b[0m\u001b[0;34m:\u001b[0m\u001b[0;34m\u001b[0m\u001b[0m\n",
      "\u001b[0;32m~/miniconda3/envs/py3.7pytorch1.8new/lib/python3.7/json/decoder.py\u001b[0m in \u001b[0;36mdecode\u001b[0;34m(self, s, _w)\u001b[0m\n\u001b[1;32m    336\u001b[0m         \"\"\"\n\u001b[0;32m--> 337\u001b[0;31m         \u001b[0mobj\u001b[0m\u001b[0;34m,\u001b[0m \u001b[0mend\u001b[0m \u001b[0;34m=\u001b[0m \u001b[0mself\u001b[0m\u001b[0;34m.\u001b[0m\u001b[0mraw_decode\u001b[0m\u001b[0;34m(\u001b[0m\u001b[0ms\u001b[0m\u001b[0;34m,\u001b[0m \u001b[0midx\u001b[0m\u001b[0;34m=\u001b[0m\u001b[0m_w\u001b[0m\u001b[0;34m(\u001b[0m\u001b[0ms\u001b[0m\u001b[0;34m,\u001b[0m \u001b[0;36m0\u001b[0m\u001b[0;34m)\u001b[0m\u001b[0;34m.\u001b[0m\u001b[0mend\u001b[0m\u001b[0;34m(\u001b[0m\u001b[0;34m)\u001b[0m\u001b[0;34m)\u001b[0m\u001b[0;34m\u001b[0m\u001b[0m\n\u001b[0m\u001b[1;32m    338\u001b[0m         \u001b[0mend\u001b[0m \u001b[0;34m=\u001b[0m \u001b[0m_w\u001b[0m\u001b[0;34m(\u001b[0m\u001b[0ms\u001b[0m\u001b[0;34m,\u001b[0m \u001b[0mend\u001b[0m\u001b[0;34m)\u001b[0m\u001b[0;34m.\u001b[0m\u001b[0mend\u001b[0m\u001b[0;34m(\u001b[0m\u001b[0;34m)\u001b[0m\u001b[0;34m\u001b[0m\u001b[0m\n",
      "\u001b[0;32m~/miniconda3/envs/py3.7pytorch1.8new/lib/python3.7/json/decoder.py\u001b[0m in \u001b[0;36mraw_decode\u001b[0;34m(self, s, idx)\u001b[0m\n\u001b[1;32m    354\u001b[0m         \u001b[0;32mexcept\u001b[0m \u001b[0mStopIteration\u001b[0m \u001b[0;32mas\u001b[0m \u001b[0merr\u001b[0m\u001b[0;34m:\u001b[0m\u001b[0;34m\u001b[0m\u001b[0m\n\u001b[0;32m--> 355\u001b[0;31m             \u001b[0;32mraise\u001b[0m \u001b[0mJSONDecodeError\u001b[0m\u001b[0;34m(\u001b[0m\u001b[0;34m\"Expecting value\"\u001b[0m\u001b[0;34m,\u001b[0m \u001b[0ms\u001b[0m\u001b[0;34m,\u001b[0m \u001b[0merr\u001b[0m\u001b[0;34m.\u001b[0m\u001b[0mvalue\u001b[0m\u001b[0;34m)\u001b[0m \u001b[0;32mfrom\u001b[0m \u001b[0;32mNone\u001b[0m\u001b[0;34m\u001b[0m\u001b[0m\n\u001b[0m\u001b[1;32m    356\u001b[0m         \u001b[0;32mreturn\u001b[0m \u001b[0mobj\u001b[0m\u001b[0;34m,\u001b[0m \u001b[0mend\u001b[0m\u001b[0;34m\u001b[0m\u001b[0m\n",
      "\u001b[0;31mJSONDecodeError\u001b[0m: Expecting value: line 1 column 1 (char 0)",
      "\nThe above exception was the direct cause of the following exception:\n",
      "\u001b[0;31mException\u001b[0m                                 Traceback (most recent call last)",
      "\u001b[0;32m/tmp/ipykernel_2540462/3465962323.py\u001b[0m in \u001b[0;36m<module>\u001b[0;34m\u001b[0m\n\u001b[1;32m      5\u001b[0m     \u001b[0;34m\"session_token\"\u001b[0m\u001b[0;34m:\u001b[0m\u001b[0;34m\"eyJhbGciOiJkaXIiLCJlbmMiOiJBMjU2R0NNIn0..ilhBmyPuKb4abw6o.38MDrridAfFB2jE5Ij_hLM3-opwAMF5v-o_LhmT1QQP0L_Jw_iiu_NgZtfiijrbRgFj1EwAZmym5CPLqtXGcSlBJUu7Ab7RKL-SPpeKz9yeZiZhJdcOQUPA-GIHuGDx5kmwGTV6bJgy1xtkWrvDcRtWDzBnzM5ch2s9JoNOb7aIR2H_yJjSxPADHCx1L9UElMzm8QbwNeGhFw5sl1d6HdyhjXjhKBpA-1Y3GMNSIrJnQ6LZIguFkgceieiYi4Qauc0fhUn5JIzRPiSnw86AZdoSukDmeetubGHuOCSO1UwX7QwWsdLpRVv5axBheI-F6KBVZFJEbd1VrWCleGALMgUcOS8CfkTAF1eRmp_MjjY9Blpu7sV0l0HRC1Vzrp6x3uFp_-6ySE6gJupfmxG2YDOV8Y51qgdY2wfkFHc9Nr50AuwWV-kyx0D-TfTrFZFWBri3IL7qyYlpkI9FmYqNRe0xGhNL4fgeC4OowqLYlsAWDftVUQ_S6MXEz6f9VX1oaV4wYM__gFu7kZdKUaa0cITrSbIKpA9n7qGY4I-sYwQjMMDy0dB6DkBYVOEOxEKOtqT4gbFatJPQVmA1OSXWmWxtHbuGbowM2ryYEQEvW5EGTrVsB_3_-Hwe7DeK4qUHYCivrlZgCnKPyAKot4dV39GqenPf9DPQRkYDY7C-QPI_7Q4M5InKllhxhee37ElkNFzNFYXdji01w-0rXNB3xtY89SVaQNpksJHHHNmuW2LdbBKhNjBucPd_dm5hq3QkXZHmdkW05ghB81C3Ng7nqEffp04390vYZPWQyXAPrZqN7Ly_8o9LTqIcMYd4-UITbp97QdxhKBYRGvT_FnFXkWCPIgRseKFDC3mq3Xot20Dvh39igQcKrW0hjfHuWJnv7Kl1hs35O1TdDOX91XW4pNLp3FczolftIjl1__sveGowR4meeGEAcZjZLe7_ZFdmPoAmQ0QH5zqM7SZ-LGgkG35JzL8Npwnb1GPxdE5dF_p_52qdef8vOpMjUjTp9fIGgZHowfsmZpk4MUw4HPL01Ie72PY7Ej3d11nUbZB2Zo6v5-46m2oM1f3jJcsulEDRUYPthqJRAxG8FR7Egh34hCrchanHM52bXPwW1OWbGHkzbrkpWp622Lt49ZB4prbaMqrc-ZYhfmy6yrA0vw2UPoM26wXqk7OE2HyLqTI0mhR4RrvhBAyjo19pkd_XXylbRhAO31eT3P9UQtjfIS7rZrrE6dLc1721hBDclt14wcOCLWGCAyoP-5lT2NamiwswN0lZdCkWzFlwyfIiUOod3TciKHbxmGGazmVmUsz4Ka8IEMfw_yq9qwQJRXZ5poFVyTZTyqWKZPEK8Bo5b4vaW7MuTN5MgqimaPJqfh-g2aVa0s3sZ5rEcQQzyxGx47P337GAxiF6s_suHypEZnOrI7QaBQkWRKno90LNmHUML28WMtFw5pX6vcK96H_LuEhJNmajuGyqGwlgokUamiYj-IRc8PWY_9v4E2t0bEoDzMneIPZPNEz0kuDHIxDf-TvZyAPOlCjjsoAcUEt15d304tjFNXGu6K4HKL_FvaNTsyRiyJEWlsj2e4hDeQ3O7kojn6yYady2rXCiPB9osKSqeNvldCEO31VnlF-_unK6UZN8pVj-uq39cSckIQFnnQlugwcBSPFH5lQu387Q7HJZEBVAlgHi-C6gvgzSNGN_c--_f8WJRQSsH1F8rM_qNkA61VLy0N7WTzwziglWpIYNGVOwtBlgroxbNZRh1lj_e14ezYCB7dDvsDNTY3Jc_zKgufTi3e72zQgIcILFmbRk_VNPIddIZIdLy4R--sq0Stnb-3fXxZrtRyYRdSGAx1B8CdElCi5K5DDQRNEXfyGmCjyhZ-mn6HphNmm39HFzFiq1RHQi_h1EfC_RDoq79i4qtwzki0q7LEJBoejNlTdUl9ht4E4YpT-iOvEOzHWWttDFkuXPUsSaQUPV57E1FUt5CsxZE2RGlCZwA6xF44B-vkTKfdT0qy3nMCyVGJPrc5Tnjgrfa8xCUTTE7u_w0qDEwJBVJchCR3PUhug-7hqhzoE3EkL3q1zlJySqpbAcTRBNxoU9zDoHJ3XCHMt22PxktM1qb8urpVkwGGXlPRgJ67k1W3MSkVujc7o_KEyiSEM6G0CvAWAp7Ye84PfzSOS2871pNEAyZ_hwGbk6hBPQ1SVCWcmGZcUFgcGhkAUAH4hbMKtINbGASlGCp3L5alf5abisbFPJpv30hkVzzE6-jnKpOsLzxa5Yn7Q4ELvJrfwbZQ-Y7q86nlgXgaDBSOklA6FRmsRzlE2Df6jtrdkDqEqnBuC4nGE67pRLARoaByOHtzbQzCavg0EpQe_5W6M84gOFKRF7XSCZUI3S3kA.K3fQHeySVd_q4YKBkSdNkw\"\u001b[0m\u001b[0;34m\u001b[0m\u001b[0m\n\u001b[1;32m      6\u001b[0m  }\n\u001b[0;32m----> 7\u001b[0;31m \u001b[0mchatbot\u001b[0m \u001b[0;34m=\u001b[0m \u001b[0mChatbot\u001b[0m\u001b[0;34m(\u001b[0m\u001b[0mconfig\u001b[0m\u001b[0;34m,\u001b[0m \u001b[0mconversation_id\u001b[0m\u001b[0;34m=\u001b[0m\u001b[0;32mNone\u001b[0m\u001b[0;34m)\u001b[0m\u001b[0;34m\u001b[0m\u001b[0m\n\u001b[0m\u001b[1;32m      8\u001b[0m \u001b[0;32mwhile\u001b[0m \u001b[0;36m1\u001b[0m\u001b[0;34m==\u001b[0m\u001b[0;36m1\u001b[0m\u001b[0;34m:\u001b[0m\u001b[0;34m\u001b[0m\u001b[0m\n\u001b[1;32m      9\u001b[0m     \u001b[0mtext\u001b[0m \u001b[0;34m=\u001b[0m \u001b[0minput\u001b[0m\u001b[0;34m(\u001b[0m\u001b[0;34m\"Q:\"\u001b[0m\u001b[0;34m)\u001b[0m\u001b[0;34m\u001b[0m\u001b[0m\n",
      "\u001b[0;32m~/miniconda3/envs/py3.7pytorch1.8new/lib/python3.7/site-packages/revChatGPT/revChatGPT.py\u001b[0m in \u001b[0;36m__init__\u001b[0;34m(self, config, conversation_id)\u001b[0m\n\u001b[1;32m     29\u001b[0m         \u001b[0mself\u001b[0m\u001b[0;34m.\u001b[0m\u001b[0mparent_id\u001b[0m \u001b[0;34m=\u001b[0m \u001b[0mgenerate_uuid\u001b[0m\u001b[0;34m(\u001b[0m\u001b[0;34m)\u001b[0m\u001b[0;34m\u001b[0m\u001b[0m\n\u001b[1;32m     30\u001b[0m         \u001b[0;32mif\u001b[0m \u001b[0;34m'session_token'\u001b[0m \u001b[0;32min\u001b[0m \u001b[0mconfig\u001b[0m \u001b[0;32mor\u001b[0m \u001b[0;34m(\u001b[0m\u001b[0;34m'email'\u001b[0m \u001b[0;32min\u001b[0m \u001b[0mconfig\u001b[0m \u001b[0;32mand\u001b[0m \u001b[0;34m'password'\u001b[0m \u001b[0;32min\u001b[0m \u001b[0mconfig\u001b[0m\u001b[0;34m)\u001b[0m\u001b[0;34m:\u001b[0m\u001b[0;34m\u001b[0m\u001b[0m\n\u001b[0;32m---> 31\u001b[0;31m             \u001b[0mself\u001b[0m\u001b[0;34m.\u001b[0m\u001b[0mrefresh_session\u001b[0m\u001b[0;34m(\u001b[0m\u001b[0;34m)\u001b[0m\u001b[0;34m\u001b[0m\u001b[0m\n\u001b[0m\u001b[1;32m     32\u001b[0m \u001b[0;34m\u001b[0m\u001b[0m\n\u001b[1;32m     33\u001b[0m     \u001b[0;31m# Resets the conversation ID and parent ID\u001b[0m\u001b[0;34m\u001b[0m\u001b[0;34m\u001b[0m\u001b[0m\n",
      "\u001b[0;32m~/miniconda3/envs/py3.7pytorch1.8new/lib/python3.7/site-packages/revChatGPT/revChatGPT.py\u001b[0m in \u001b[0;36mrefresh_session\u001b[0;34m(self)\u001b[0m\n\u001b[1;32m    162\u001b[0m                 \u001b[0mprint\u001b[0m\u001b[0;34m(\u001b[0m\u001b[0;34m\"Error refreshing session\"\u001b[0m\u001b[0;34m)\u001b[0m\u001b[0;34m\u001b[0m\u001b[0m\n\u001b[1;32m    163\u001b[0m                 \u001b[0mprint\u001b[0m\u001b[0;34m(\u001b[0m\u001b[0mresponse\u001b[0m\u001b[0;34m.\u001b[0m\u001b[0mtext\u001b[0m\u001b[0;34m)\u001b[0m\u001b[0;34m\u001b[0m\u001b[0m\n\u001b[0;32m--> 164\u001b[0;31m                 \u001b[0;32mraise\u001b[0m \u001b[0mException\u001b[0m\u001b[0;34m(\u001b[0m\u001b[0;34m\"Error refreshing session\"\u001b[0m\u001b[0;34m)\u001b[0m \u001b[0;32mfrom\u001b[0m \u001b[0mexc\u001b[0m\u001b[0;34m\u001b[0m\u001b[0m\n\u001b[0m\u001b[1;32m    165\u001b[0m         \u001b[0;32melif\u001b[0m \u001b[0;34m'email'\u001b[0m \u001b[0;32min\u001b[0m \u001b[0mself\u001b[0m\u001b[0;34m.\u001b[0m\u001b[0mconfig\u001b[0m \u001b[0;32mand\u001b[0m \u001b[0;34m'password'\u001b[0m \u001b[0;32min\u001b[0m \u001b[0mself\u001b[0m\u001b[0;34m.\u001b[0m\u001b[0mconfig\u001b[0m\u001b[0;34m:\u001b[0m\u001b[0;34m\u001b[0m\u001b[0m\n\u001b[1;32m    166\u001b[0m             \u001b[0;32mtry\u001b[0m\u001b[0;34m:\u001b[0m\u001b[0;34m\u001b[0m\u001b[0m\n",
      "\u001b[0;31mException\u001b[0m: Error refreshing session"
     ]
    }
   ],
   "source": [
    "from revChatGPT.revChatGPT import Chatbot\n",
    "config = {\n",
    "    \"email\": \"dengdeng9209@gmail.com\",\n",
    "    \"password\": \"Yx250318940\",\n",
    "    \"session_token\":\"eyJhbGciOiJkaXIiLCJlbmMiOiJBMjU2R0NNIn0..ilhBmyPuKb4abw6o.38MDrridAfFB2jE5Ij_hLM3-opwAMF5v-o_LhmT1QQP0L_Jw_iiu_NgZtfiijrbRgFj1EwAZmym5CPLqtXGcSlBJUu7Ab7RKL-SPpeKz9yeZiZhJdcOQUPA-GIHuGDx5kmwGTV6bJgy1xtkWrvDcRtWDzBnzM5ch2s9JoNOb7aIR2H_yJjSxPADHCx1L9UElMzm8QbwNeGhFw5sl1d6HdyhjXjhKBpA-1Y3GMNSIrJnQ6LZIguFkgceieiYi4Qauc0fhUn5JIzRPiSnw86AZdoSukDmeetubGHuOCSO1UwX7QwWsdLpRVv5axBheI-F6KBVZFJEbd1VrWCleGALMgUcOS8CfkTAF1eRmp_MjjY9Blpu7sV0l0HRC1Vzrp6x3uFp_-6ySE6gJupfmxG2YDOV8Y51qgdY2wfkFHc9Nr50AuwWV-kyx0D-TfTrFZFWBri3IL7qyYlpkI9FmYqNRe0xGhNL4fgeC4OowqLYlsAWDftVUQ_S6MXEz6f9VX1oaV4wYM__gFu7kZdKUaa0cITrSbIKpA9n7qGY4I-sYwQjMMDy0dB6DkBYVOEOxEKOtqT4gbFatJPQVmA1OSXWmWxtHbuGbowM2ryYEQEvW5EGTrVsB_3_-Hwe7DeK4qUHYCivrlZgCnKPyAKot4dV39GqenPf9DPQRkYDY7C-QPI_7Q4M5InKllhxhee37ElkNFzNFYXdji01w-0rXNB3xtY89SVaQNpksJHHHNmuW2LdbBKhNjBucPd_dm5hq3QkXZHmdkW05ghB81C3Ng7nqEffp04390vYZPWQyXAPrZqN7Ly_8o9LTqIcMYd4-UITbp97QdxhKBYRGvT_FnFXkWCPIgRseKFDC3mq3Xot20Dvh39igQcKrW0hjfHuWJnv7Kl1hs35O1TdDOX91XW4pNLp3FczolftIjl1__sveGowR4meeGEAcZjZLe7_ZFdmPoAmQ0QH5zqM7SZ-LGgkG35JzL8Npwnb1GPxdE5dF_p_52qdef8vOpMjUjTp9fIGgZHowfsmZpk4MUw4HPL01Ie72PY7Ej3d11nUbZB2Zo6v5-46m2oM1f3jJcsulEDRUYPthqJRAxG8FR7Egh34hCrchanHM52bXPwW1OWbGHkzbrkpWp622Lt49ZB4prbaMqrc-ZYhfmy6yrA0vw2UPoM26wXqk7OE2HyLqTI0mhR4RrvhBAyjo19pkd_XXylbRhAO31eT3P9UQtjfIS7rZrrE6dLc1721hBDclt14wcOCLWGCAyoP-5lT2NamiwswN0lZdCkWzFlwyfIiUOod3TciKHbxmGGazmVmUsz4Ka8IEMfw_yq9qwQJRXZ5poFVyTZTyqWKZPEK8Bo5b4vaW7MuTN5MgqimaPJqfh-g2aVa0s3sZ5rEcQQzyxGx47P337GAxiF6s_suHypEZnOrI7QaBQkWRKno90LNmHUML28WMtFw5pX6vcK96H_LuEhJNmajuGyqGwlgokUamiYj-IRc8PWY_9v4E2t0bEoDzMneIPZPNEz0kuDHIxDf-TvZyAPOlCjjsoAcUEt15d304tjFNXGu6K4HKL_FvaNTsyRiyJEWlsj2e4hDeQ3O7kojn6yYady2rXCiPB9osKSqeNvldCEO31VnlF-_unK6UZN8pVj-uq39cSckIQFnnQlugwcBSPFH5lQu387Q7HJZEBVAlgHi-C6gvgzSNGN_c--_f8WJRQSsH1F8rM_qNkA61VLy0N7WTzwziglWpIYNGVOwtBlgroxbNZRh1lj_e14ezYCB7dDvsDNTY3Jc_zKgufTi3e72zQgIcILFmbRk_VNPIddIZIdLy4R--sq0Stnb-3fXxZrtRyYRdSGAx1B8CdElCi5K5DDQRNEXfyGmCjyhZ-mn6HphNmm39HFzFiq1RHQi_h1EfC_RDoq79i4qtwzki0q7LEJBoejNlTdUl9ht4E4YpT-iOvEOzHWWttDFkuXPUsSaQUPV57E1FUt5CsxZE2RGlCZwA6xF44B-vkTKfdT0qy3nMCyVGJPrc5Tnjgrfa8xCUTTE7u_w0qDEwJBVJchCR3PUhug-7hqhzoE3EkL3q1zlJySqpbAcTRBNxoU9zDoHJ3XCHMt22PxktM1qb8urpVkwGGXlPRgJ67k1W3MSkVujc7o_KEyiSEM6G0CvAWAp7Ye84PfzSOS2871pNEAyZ_hwGbk6hBPQ1SVCWcmGZcUFgcGhkAUAH4hbMKtINbGASlGCp3L5alf5abisbFPJpv30hkVzzE6-jnKpOsLzxa5Yn7Q4ELvJrfwbZQ-Y7q86nlgXgaDBSOklA6FRmsRzlE2Df6jtrdkDqEqnBuC4nGE67pRLARoaByOHtzbQzCavg0EpQe_5W6M84gOFKRF7XSCZUI3S3kA.K3fQHeySVd_q4YKBkSdNkw\"\n",
    " }\n",
    "chatbot = Chatbot(config, conversation_id=None)\n",
    "while 1==1:\n",
    "    text = input(\"Q:\")\n",
    "    if text == 'quit':\n",
    "        break\n",
    "    else:\n",
    "        response = chatbot.get_chat_response(text, output=\"text\")\n",
    "        print('A:',response['message'])"
   ]
  },
  {
   "cell_type": "code",
   "execution_count": 8,
   "id": "1127e3f8",
   "metadata": {},
   "outputs": [
    {
     "name": "stdout",
     "output_type": "stream",
     "text": [
      "Error refreshing session\n",
      "<!DOCTYPE html>\n",
      "<html lang=\"en-US\">\n",
      "<head>\n",
      "    <title>Just a moment...</title>\n",
      "    <meta http-equiv=\"Content-Type\" content=\"text/html; charset=UTF-8\">\n",
      "    <meta http-equiv=\"X-UA-Compatible\" content=\"IE=Edge\">\n",
      "    <meta name=\"robots\" content=\"noindex,nofollow\">\n",
      "    <meta name=\"viewport\" content=\"width=device-width,initial-scale=1\">\n",
      "    <link href=\"/cdn-cgi/styles/challenges.css\" rel=\"stylesheet\">\n",
      "    \n",
      "\n",
      "</head>\n",
      "<body class=\"no-js\">\n",
      "    <div class=\"main-wrapper\" role=\"main\">\n",
      "    <div class=\"main-content\">\n",
      "        <h1 class=\"zone-name-title h1\">\n",
      "            <img class=\"heading-favicon\" src=\"/favicon.ico\"\n",
      "                 onerror=\"this.onerror=null;this.parentNode.removeChild(this)\">\n",
      "            chat.openai.com\n",
      "        </h1>\n",
      "        <h2 class=\"h2\" id=\"challenge-running\">\n",
      "            Checking if the site connection is secure\n",
      "        </h2>\n",
      "        <noscript>\n",
      "            <div id=\"challenge-error-title\">\n",
      "                <div class=\"h2\">\n",
      "                    <span class=\"icon-wrapper\">\n",
      "                        <div class=\"heading-icon warning-icon\"></div>\n",
      "                    </span>\n",
      "                    <span id=\"challenge-error-text\">\n",
      "                        Enable JavaScript and cookies to continue\n",
      "                    </span>\n",
      "                </div>\n",
      "            </div>\n",
      "        </noscript>\n",
      "        <div id=\"trk_jschal_js\" style=\"display:none;background-image:url('/cdn-cgi/images/trace/managed/nojs/transparent.gif?ray=7865bc63ae370500')\"></div>\n",
      "        <div id=\"challenge-body-text\" class=\"core-msg spacer\">\n",
      "            chat.openai.com needs to review the security of your connection before proceeding.\n",
      "        </div>\n",
      "        <form id=\"challenge-form\" action=\"/api/auth/session?__cf_chl_f_tk=z3.WIKEWXhSVgIbYQmi5Q0JLqXt0Z0jONmytMIAXc8I-1673189325-0-gaNycGzNBiU\" method=\"POST\" enctype=\"application/x-www-form-urlencoded\">\n",
      "            <input type=\"hidden\" name=\"md\" value=\"AVjcaWaCAH56Rvda4wlBMtM50fQmLD669DuA4bEiizk-1673189325-0-AcM5b_qvLtzSL5CpNdCPBc6647d8M5JYVXK6ZHkaFO1H_gGtEHeNF3rTAHHLARlB1u42tYn51YpVi8AJWJZ_aybny1kX3k-ByvNLbHb96IoJWNP8taPl8VShFSB5yPd65HW5z2xSzXI1Y0G5RFjoDQGHoFflrNFRmtKTi-wFnqy_vEg5XVWD_-mBTrK6aZAjY9p88B0rU9WXFbKSkCMnMN-h8L1u585bohjl3Hj2vZ6O6OTmRPuGL1uW5gYU5uD22w5PFFBHdzk5-LY614twpBWqIz81q8dVTU_qWfyjZoGVhXdanI75Lnhys4QjSmrKEr3NFBKW_AVCbDz1UG9Ez6K_VTeDo8ecmwEh_lMkKbJPcaOvvtOyv3Bd09Lyy_VRoup1I_QzWZu_H08riENBWSAOo_zzJoD2mqtf3h4XmX3pM89r8B75LiJH_nnt5iWaAmeQ6MXfuAIgk-fTS60T_pi55Q268ksCUXUyLgs3Jl6pqh0A8fWrKiXPv6w_CnOMaW9hNpJJu0RkI8FXWNw2SBeJjxpyc-3lyut9qosgA8jK\">\n",
      "            <input type=\"hidden\" name=\"r\" value=\"HcqJ3iyoocHtN2tJ3oZlcZEmPagkoyJdJ3nWxrKMqOE-1673189325-0-Ae65EdVkj9qdVLj5P2D2Q4PrnX8S78jJhWejsQUmaKer4tzA6yRQFEPkGRJPhcMINrtx524MNxzfm0o4/YDMJ9Xmcm9ZUt9MYpyxSWHlxz84D9Ype2VKQBPusYzeVOX+jMGlRV4SYZxptm26s2sLrpGT4hqL8uoK0DLpddtid0yqOZG6cNIqwJct7nN3OESM23DfjFWzJgcMvA0hD+Le6BKFg+dZ+vIvU/ICd+zcUTm2sLqQPFJVzsKuwsA9GN2po1YeFC8r6Bxrbxy2RAa1lByAC3i3ug+PLmX/4c6xQJqPnfyRWqTfzU/+IFxP6bkBKD9JWUJWXE9upFAigyhYWdk/kTEojSIyelP0kYZlIfllE+/bKj8DbsTN6BG9+qBodX6eDoYQLuXgaCCeWeTCxcydD0J/Pe+cnQVPXxRJXOGydQ1WGVkkMNZm9T7vi7C6AqZov328dEcFliXB4zMclR32mcZurzpSQ/jPqVNoH5ey/N6hb4SaMKGKgN83kHW9BIoP0VMb4E7Q7Ze8v7eL1lS2MN2EvbKsDJHNsvzU2/VT69O6XPyh1F5gCoWcqmP6XvIYszjlFF/E1iN3YJExCeF+6FmTHkcVB063mtKsJU+wLBpIQf5Y2S2WOTwEd01wgJxVowdSFF4MLTLpACglWqxrjNW+a9UMDXdaM+v8pcFOdEzSBqOtm6XrxW+8QxZfrhU8S/VhhVZEq3jeVP0Am7QytxMsyj77SQXWBicaGN0fVp73WWxG54ZftIV798lHJ1bDldzHMtTkx331vLRW8oH9E2XScghkj+4h8amRcIH/gZJTavN6F0h8LnyBuCvqQgkCXIXpbVgg1CPIvvABEEAVOO/0HV0aKL3+0R+wDasdpFVe5IFcBykVMNMcqBEEHNV4XSWpPViMP4xTU0e0XeuMZztDXebnMDe8wzJ63aZEhi7UyDe3ACOHnVI7KxBGjuWafcQ21hM23OdsuGw7oKXcKjRA76Is9zCGJzsZQMQ1Szd7+L425yldOBPLksvrW21AebOABAsXh/WHgwFILSb0ecUym1O4PemUxJsCTLsuoVfkaj7nru/i7l8ozMDcDKeiAJjeUIeFkLYOwgJWL8HUmFd9fc437ToXr5+eOyGjZu4eEGm6ksGy9tQJht7/rRhXpk/k66nk+pjdGLWIfz7oKYtCvB4Nh4mzflUbBVMmESksh8MvsN3D37nABuX4JrA/l7lojLGs7GJXtjRGnp0aGrFLneWxmuiKU0swuuU7I3jsCnKNYLBRxrwkmDmljyIhOP2sBfWT+gDYsapiViJbpHo4NGq5V25/k8WLY2K6rAX9IGbgU2FKOggvJm+9ztEygv4yg/2ho2VDe8gcnsfqUKFFCFEqRS0+JuYmwPDC6fL1rF/ysQF+KjqdQo/wSnQXS1HWX6oNpS4zqKQzl/RRMuzaGolq/6lXQdxO3IEJleeMMPjObwlS0/Wh9uJHq4zgGPSILMpCoBT7bJdueZBGdB82ZJTW1OVuiVmBHZoL\">\n",
      "        </form>\n",
      "    </div>\n",
      "</div>\n",
      "<script>\n",
      "    (function(){\n",
      "        window._cf_chl_opt={\n",
      "            cvId: '2',\n",
      "            cType: 'managed',\n",
      "            cNounce: '97440',\n",
      "            cRay: '7865bc63ae370500',\n",
      "            cHash: 'ac9ff7f34a5eab4',\n",
      "            cUPMDTk: \"\\/api\\/auth\\/session?__cf_chl_tk=z3.WIKEWXhSVgIbYQmi5Q0JLqXt0Z0jONmytMIAXc8I-1673189325-0-gaNycGzNBiU\",\n",
      "            cFPWv: 'b',\n",
      "            cTTimeMs: '1000',\n",
      "            cTplV: 4,\n",
      "            cTplB: 'cf',\n",
      "            cRq: {\n",
      "                ru: 'aHR0cHM6Ly9jaGF0Lm9wZW5haS5jb20vY2hhdC9mcm9udGVuZC8vYXBpL2F1dGgvc2Vzc2lvbg==',\n",
      "                ra: 'TW96aWxsYS81LjAgKE1hY2ludG9zaDsgSW50ZWwgTWFjIE9TIFggMTBfMTVfNykgQXBwbGVXZWJLaXQvNjA1LjEuMTUgKEtIVE1MLCBsaWtlIEdlY2tvKSBWZXJzaW9uLzE2LjEgU2FmYXJpLzYwNS4xLjE1',\n",
      "                rm: 'R0VU',\n",
      "                d: 'xcnAgHC+h3//F3ZgRlQU5f7neRgu7/7QW/lARTJY+o5X9Y0drtVC/BlMogEmzny7NvKI2zctvkFgFcAkCwMI0+TkNOUckXAH6jhoWAD6XiLMZMg1phZBkCUpbDf/MHZ4EChIElR0KFhtd4gZ74uZ6RlxUy5fOMad9/khzMxB0gmJKxyk6wCEG7hidC7VGswYXJlrzZi7v9iKhaeXXpSNVld9MEAviJT1E+Wnf8ZQEO+6SURf7KZmLTeD+gIq9SOchRI0Lp+UNKPxtIk+6MwJGUDimSmYrdU496G1wQyR7byKS5Z30IUyU/sOzopPSYpz4Sh+xorEwpRWNHj4bMwRb38KTZ/CbFFj3501jmXYA4tIAaCqyjTaH3ZVGwmSUahc835Ta6LD6gwxrRxUPrutQpdHT1c4uzTEbNhpdY9xfunMxfXIPAXnJ8aVqqLDMRCAPzyhMghyMZhjZ0xftI3zihpPDoXYPtSEY7ueNPCmJdS8Earll5hTSzakShVe9+p4umIRqPLYbPvEFJUxmd+OGkfkljbMTamdRwbBUM7mkXiMODTORcAIkIHYJE4Q8pYPNGykbWTRyn/WNbYm6onQ7/Nz3+1M5GNnjVi/G+V1bds5U1YaCa58RM4feJDtGm1C+hh/rAOoi5O92wPy7lSB0G9MeMUFfaBfw8gC5OPbH3M=',\n",
      "                t: 'MTY3MzE4OTMyNS4zOTgwMDA=',\n",
      "                m: '6VV0tMYP/QE4IzN2ImbAJhd5SRasAzleAKImoQa6yxY=',\n",
      "                i1: '0rjP+dT1S1Dx+R5e27NjHA==',\n",
      "                i2: 'C7vCm0u/4pCuFQasjCGmVg==',\n",
      "                zh: 'iuyN59AGNgeBFFEOPj72EN+xtBfXXvoCyd1dJnIVFAc=',\n",
      "                uh: 'cm2wjUr6M+ZSWJGGpQRwl8TWzcHP0274MxfQYzAQXGE=',\n",
      "                hh: 'foaWmAUHGGlVCZaNUJIHhxzxFNzSPNnVe6rJjiQw728=',\n",
      "            }\n",
      "        };\n",
      "        var trkjs = document.createElement('img');\n",
      "        trkjs.setAttribute('src', '/cdn-cgi/images/trace/managed/js/transparent.gif?ray=7865bc63ae370500');\n",
      "        trkjs.setAttribute('style', 'display: none');\n",
      "        document.body.appendChild(trkjs);\n",
      "        var cpo = document.createElement('script');\n",
      "        cpo.src = '/cdn-cgi/challenge-platform/h/b/orchestrate/managed/v1?ray=7865bc63ae370500';\n",
      "        window._cf_chl_opt.cOgUHash = location.hash === '' && location.href.indexOf('#') !== -1 ? '#' : location.hash;\n",
      "        window._cf_chl_opt.cOgUQuery = location.search === '' && location.href.slice(0, -window._cf_chl_opt.cOgUHash.length).indexOf('?') !== -1 ? '?' : location.search;\n",
      "        if (window.history && window.history.replaceState) {\n",
      "            var ogU = location.pathname + window._cf_chl_opt.cOgUQuery + window._cf_chl_opt.cOgUHash;\n",
      "            history.replaceState(null, null, \"\\/api\\/auth\\/session?__cf_chl_rt_tk=z3.WIKEWXhSVgIbYQmi5Q0JLqXt0Z0jONmytMIAXc8I-1673189325-0-gaNycGzNBiU\" + window._cf_chl_opt.cOgUHash);\n",
      "            cpo.onload = function() {\n",
      "                history.replaceState(null, null, ogU);\n",
      "            };\n",
      "        }\n",
      "        document.getElementsByTagName('head')[0].appendChild(cpo);\n",
      "    }());\n",
      "</script>\n",
      "\n",
      "\n",
      "    <div class=\"footer\" role=\"contentinfo\">\n",
      "        <div class=\"footer-inner\">\n",
      "            <div class=\"clearfix diagnostic-wrapper\">\n",
      "                <div class=\"ray-id\">Ray ID: <code>7865bc63ae370500</code></div>\n",
      "            </div>\n",
      "            <div class=\"text-center\">Performance &amp; security by <a rel=\"noopener noreferrer\" href=\"https://www.cloudflare.com?utm_source=challenge&utm_campaign=m\" target=\"_blank\">Cloudflare</a></div>\n",
      "        </div>\n",
      "    </div>\n",
      "</body>\n",
      "</html>\n",
      "\n"
     ]
    },
    {
     "ename": "Exception",
     "evalue": "Error refreshing session",
     "output_type": "error",
     "traceback": [
      "\u001b[0;31m---------------------------------------------------------------------------\u001b[0m",
      "\u001b[0;31mJSONDecodeError\u001b[0m                           Traceback (most recent call last)",
      "\u001b[0;32m~/miniconda3/envs/py3.7pytorch1.8new/lib/python3.7/site-packages/revChatGPT/revChatGPT.py\u001b[0m in \u001b[0;36mrefresh_session\u001b[0;34m(self)\u001b[0m\n\u001b[1;32m    158\u001b[0m                     \"__Secure-next-auth.session-token\")\n\u001b[0;32m--> 159\u001b[0;31m                 \u001b[0mself\u001b[0m\u001b[0;34m.\u001b[0m\u001b[0mconfig\u001b[0m\u001b[0;34m[\u001b[0m\u001b[0;34m'Authorization'\u001b[0m\u001b[0;34m]\u001b[0m \u001b[0;34m=\u001b[0m \u001b[0mresponse\u001b[0m\u001b[0;34m.\u001b[0m\u001b[0mjson\u001b[0m\u001b[0;34m(\u001b[0m\u001b[0;34m)\u001b[0m\u001b[0;34m[\u001b[0m\u001b[0;34m\"accessToken\"\u001b[0m\u001b[0;34m]\u001b[0m\u001b[0;34m\u001b[0m\u001b[0m\n\u001b[0m\u001b[1;32m    160\u001b[0m                 \u001b[0mself\u001b[0m\u001b[0;34m.\u001b[0m\u001b[0mrefresh_headers\u001b[0m\u001b[0;34m(\u001b[0m\u001b[0;34m)\u001b[0m\u001b[0;34m\u001b[0m\u001b[0m\n",
      "\u001b[0;32m~/miniconda3/envs/py3.7pytorch1.8new/lib/python3.7/site-packages/requests/models.py\u001b[0m in \u001b[0;36mjson\u001b[0;34m(self, **kwargs)\u001b[0m\n\u001b[1;32m    909\u001b[0m                     \u001b[0;32mpass\u001b[0m\u001b[0;34m\u001b[0m\u001b[0m\n\u001b[0;32m--> 910\u001b[0;31m         \u001b[0;32mreturn\u001b[0m \u001b[0mcomplexjson\u001b[0m\u001b[0;34m.\u001b[0m\u001b[0mloads\u001b[0m\u001b[0;34m(\u001b[0m\u001b[0mself\u001b[0m\u001b[0;34m.\u001b[0m\u001b[0mtext\u001b[0m\u001b[0;34m,\u001b[0m \u001b[0;34m**\u001b[0m\u001b[0mkwargs\u001b[0m\u001b[0;34m)\u001b[0m\u001b[0;34m\u001b[0m\u001b[0m\n\u001b[0m\u001b[1;32m    911\u001b[0m \u001b[0;34m\u001b[0m\u001b[0m\n",
      "\u001b[0;32m~/miniconda3/envs/py3.7pytorch1.8new/lib/python3.7/json/__init__.py\u001b[0m in \u001b[0;36mloads\u001b[0;34m(s, encoding, cls, object_hook, parse_float, parse_int, parse_constant, object_pairs_hook, **kw)\u001b[0m\n\u001b[1;32m    347\u001b[0m             parse_constant is None and object_pairs_hook is None and not kw):\n\u001b[0;32m--> 348\u001b[0;31m         \u001b[0;32mreturn\u001b[0m \u001b[0m_default_decoder\u001b[0m\u001b[0;34m.\u001b[0m\u001b[0mdecode\u001b[0m\u001b[0;34m(\u001b[0m\u001b[0ms\u001b[0m\u001b[0;34m)\u001b[0m\u001b[0;34m\u001b[0m\u001b[0m\n\u001b[0m\u001b[1;32m    349\u001b[0m     \u001b[0;32mif\u001b[0m \u001b[0mcls\u001b[0m \u001b[0;32mis\u001b[0m \u001b[0;32mNone\u001b[0m\u001b[0;34m:\u001b[0m\u001b[0;34m\u001b[0m\u001b[0m\n",
      "\u001b[0;32m~/miniconda3/envs/py3.7pytorch1.8new/lib/python3.7/json/decoder.py\u001b[0m in \u001b[0;36mdecode\u001b[0;34m(self, s, _w)\u001b[0m\n\u001b[1;32m    336\u001b[0m         \"\"\"\n\u001b[0;32m--> 337\u001b[0;31m         \u001b[0mobj\u001b[0m\u001b[0;34m,\u001b[0m \u001b[0mend\u001b[0m \u001b[0;34m=\u001b[0m \u001b[0mself\u001b[0m\u001b[0;34m.\u001b[0m\u001b[0mraw_decode\u001b[0m\u001b[0;34m(\u001b[0m\u001b[0ms\u001b[0m\u001b[0;34m,\u001b[0m \u001b[0midx\u001b[0m\u001b[0;34m=\u001b[0m\u001b[0m_w\u001b[0m\u001b[0;34m(\u001b[0m\u001b[0ms\u001b[0m\u001b[0;34m,\u001b[0m \u001b[0;36m0\u001b[0m\u001b[0;34m)\u001b[0m\u001b[0;34m.\u001b[0m\u001b[0mend\u001b[0m\u001b[0;34m(\u001b[0m\u001b[0;34m)\u001b[0m\u001b[0;34m)\u001b[0m\u001b[0;34m\u001b[0m\u001b[0m\n\u001b[0m\u001b[1;32m    338\u001b[0m         \u001b[0mend\u001b[0m \u001b[0;34m=\u001b[0m \u001b[0m_w\u001b[0m\u001b[0;34m(\u001b[0m\u001b[0ms\u001b[0m\u001b[0;34m,\u001b[0m \u001b[0mend\u001b[0m\u001b[0;34m)\u001b[0m\u001b[0;34m.\u001b[0m\u001b[0mend\u001b[0m\u001b[0;34m(\u001b[0m\u001b[0;34m)\u001b[0m\u001b[0;34m\u001b[0m\u001b[0m\n",
      "\u001b[0;32m~/miniconda3/envs/py3.7pytorch1.8new/lib/python3.7/json/decoder.py\u001b[0m in \u001b[0;36mraw_decode\u001b[0;34m(self, s, idx)\u001b[0m\n\u001b[1;32m    354\u001b[0m         \u001b[0;32mexcept\u001b[0m \u001b[0mStopIteration\u001b[0m \u001b[0;32mas\u001b[0m \u001b[0merr\u001b[0m\u001b[0;34m:\u001b[0m\u001b[0;34m\u001b[0m\u001b[0m\n\u001b[0;32m--> 355\u001b[0;31m             \u001b[0;32mraise\u001b[0m \u001b[0mJSONDecodeError\u001b[0m\u001b[0;34m(\u001b[0m\u001b[0;34m\"Expecting value\"\u001b[0m\u001b[0;34m,\u001b[0m \u001b[0ms\u001b[0m\u001b[0;34m,\u001b[0m \u001b[0merr\u001b[0m\u001b[0;34m.\u001b[0m\u001b[0mvalue\u001b[0m\u001b[0;34m)\u001b[0m \u001b[0;32mfrom\u001b[0m \u001b[0;32mNone\u001b[0m\u001b[0;34m\u001b[0m\u001b[0m\n\u001b[0m\u001b[1;32m    356\u001b[0m         \u001b[0;32mreturn\u001b[0m \u001b[0mobj\u001b[0m\u001b[0;34m,\u001b[0m \u001b[0mend\u001b[0m\u001b[0;34m\u001b[0m\u001b[0m\n",
      "\u001b[0;31mJSONDecodeError\u001b[0m: Expecting value: line 1 column 1 (char 0)",
      "\nThe above exception was the direct cause of the following exception:\n",
      "\u001b[0;31mException\u001b[0m                                 Traceback (most recent call last)",
      "\u001b[0;32m/tmp/ipykernel_2540462/3063636879.py\u001b[0m in \u001b[0;36m<module>\u001b[0;34m\u001b[0m\n\u001b[1;32m      8\u001b[0m }\n\u001b[1;32m      9\u001b[0m \u001b[0;34m\u001b[0m\u001b[0m\n\u001b[0;32m---> 10\u001b[0;31m \u001b[0mchatbot\u001b[0m \u001b[0;34m=\u001b[0m \u001b[0mChatbot\u001b[0m\u001b[0;34m(\u001b[0m\u001b[0mconfig\u001b[0m\u001b[0;34m,\u001b[0m \u001b[0mconversation_id\u001b[0m\u001b[0;34m=\u001b[0m\u001b[0;32mNone\u001b[0m\u001b[0;34m)\u001b[0m\u001b[0;34m\u001b[0m\u001b[0m\n\u001b[0m\u001b[1;32m     11\u001b[0m \u001b[0;31m# chatbot.reset_chat() # Forgets conversation\u001b[0m\u001b[0;34m\u001b[0m\u001b[0;34m\u001b[0m\u001b[0m\n\u001b[1;32m     12\u001b[0m \u001b[0;31m# chatbot.refresh_session() # Uses the session_token to get a new bearer token\u001b[0m\u001b[0;34m\u001b[0m\u001b[0;34m\u001b[0m\u001b[0m\n",
      "\u001b[0;32m~/miniconda3/envs/py3.7pytorch1.8new/lib/python3.7/site-packages/revChatGPT/revChatGPT.py\u001b[0m in \u001b[0;36m__init__\u001b[0;34m(self, config, conversation_id)\u001b[0m\n\u001b[1;32m     29\u001b[0m         \u001b[0mself\u001b[0m\u001b[0;34m.\u001b[0m\u001b[0mparent_id\u001b[0m \u001b[0;34m=\u001b[0m \u001b[0mgenerate_uuid\u001b[0m\u001b[0;34m(\u001b[0m\u001b[0;34m)\u001b[0m\u001b[0;34m\u001b[0m\u001b[0m\n\u001b[1;32m     30\u001b[0m         \u001b[0;32mif\u001b[0m \u001b[0;34m'session_token'\u001b[0m \u001b[0;32min\u001b[0m \u001b[0mconfig\u001b[0m \u001b[0;32mor\u001b[0m \u001b[0;34m(\u001b[0m\u001b[0;34m'email'\u001b[0m \u001b[0;32min\u001b[0m \u001b[0mconfig\u001b[0m \u001b[0;32mand\u001b[0m \u001b[0;34m'password'\u001b[0m \u001b[0;32min\u001b[0m \u001b[0mconfig\u001b[0m\u001b[0;34m)\u001b[0m\u001b[0;34m:\u001b[0m\u001b[0;34m\u001b[0m\u001b[0m\n\u001b[0;32m---> 31\u001b[0;31m             \u001b[0mself\u001b[0m\u001b[0;34m.\u001b[0m\u001b[0mrefresh_session\u001b[0m\u001b[0;34m(\u001b[0m\u001b[0;34m)\u001b[0m\u001b[0;34m\u001b[0m\u001b[0m\n\u001b[0m\u001b[1;32m     32\u001b[0m \u001b[0;34m\u001b[0m\u001b[0m\n\u001b[1;32m     33\u001b[0m     \u001b[0;31m# Resets the conversation ID and parent ID\u001b[0m\u001b[0;34m\u001b[0m\u001b[0;34m\u001b[0m\u001b[0m\n",
      "\u001b[0;32m~/miniconda3/envs/py3.7pytorch1.8new/lib/python3.7/site-packages/revChatGPT/revChatGPT.py\u001b[0m in \u001b[0;36mrefresh_session\u001b[0;34m(self)\u001b[0m\n\u001b[1;32m    162\u001b[0m                 \u001b[0mprint\u001b[0m\u001b[0;34m(\u001b[0m\u001b[0;34m\"Error refreshing session\"\u001b[0m\u001b[0;34m)\u001b[0m\u001b[0;34m\u001b[0m\u001b[0m\n\u001b[1;32m    163\u001b[0m                 \u001b[0mprint\u001b[0m\u001b[0;34m(\u001b[0m\u001b[0mresponse\u001b[0m\u001b[0;34m.\u001b[0m\u001b[0mtext\u001b[0m\u001b[0;34m)\u001b[0m\u001b[0;34m\u001b[0m\u001b[0m\n\u001b[0;32m--> 164\u001b[0;31m                 \u001b[0;32mraise\u001b[0m \u001b[0mException\u001b[0m\u001b[0;34m(\u001b[0m\u001b[0;34m\"Error refreshing session\"\u001b[0m\u001b[0;34m)\u001b[0m \u001b[0;32mfrom\u001b[0m \u001b[0mexc\u001b[0m\u001b[0;34m\u001b[0m\u001b[0m\n\u001b[0m\u001b[1;32m    165\u001b[0m         \u001b[0;32melif\u001b[0m \u001b[0;34m'email'\u001b[0m \u001b[0;32min\u001b[0m \u001b[0mself\u001b[0m\u001b[0;34m.\u001b[0m\u001b[0mconfig\u001b[0m \u001b[0;32mand\u001b[0m \u001b[0;34m'password'\u001b[0m \u001b[0;32min\u001b[0m \u001b[0mself\u001b[0m\u001b[0;34m.\u001b[0m\u001b[0mconfig\u001b[0m\u001b[0;34m:\u001b[0m\u001b[0;34m\u001b[0m\u001b[0m\n\u001b[1;32m    166\u001b[0m             \u001b[0;32mtry\u001b[0m\u001b[0;34m:\u001b[0m\u001b[0;34m\u001b[0m\u001b[0m\n",
      "\u001b[0;31mException\u001b[0m: Error refreshing session"
     ]
    }
   ],
   "source": [
    "from revChatGPT.revChatGPT import Chatbot\n",
    "import json\n",
    "\n",
    "# Get your config in JSON\n",
    "config = {\n",
    "        \"Authorization\": \"<Your Bearer Token Here>\", # This is optional\n",
    "        \"session_token\": \"<Your Session Token here>\" # This is used to refresh the authentication\n",
    "}\n",
    "\n",
    "chatbot = Chatbot(config, conversation_id=None)\n",
    "# chatbot.reset_chat() # Forgets conversation\n",
    "# chatbot.refresh_session() # Uses the session_token to get a new bearer token"
   ]
  },
  {
   "cell_type": "code",
   "execution_count": null,
   "id": "f02a46a7",
   "metadata": {},
   "outputs": [],
   "source": []
  },
  {
   "cell_type": "code",
   "execution_count": 23,
   "id": "591109ba",
   "metadata": {},
   "outputs": [
    {
     "data": {
      "text/plain": [
       "Cookie(version=0, name='__Secure-next-auth.session-token', value='eyJhbGciOiJkaXIiLCJlbmMiOiJBMjU2R0NNIn0..ilhBmyPuKb4abw6o.38MDrridAfFB2jE5Ij_hLM3-opwAMF5v-o_LhmT1QQP0L_Jw_iiu_NgZtfiijrbRgFj1EwAZmym5CPLqtXGcSlBJUu7Ab7RKL-SPpeKz9yeZiZhJdcOQUPA-GIHuGDx5kmwGTV6bJgy1xtkWrvDcRtWDzBnzM5ch2s9JoNOb7aIR2H_yJjSxPADHCx1L9UElMzm8QbwNeGhFw5sl1d6HdyhjXjhKBpA-1Y3GMNSIrJnQ6LZIguFkgceieiYi4Qauc0fhUn5JIzRPiSnw86AZdoSukDmeetubGHuOCSO1UwX7QwWsdLpRVv5axBheI-F6KBVZFJEbd1VrWCleGALMgUcOS8CfkTAF1eRmp_MjjY9Blpu7sV0l0HRC1Vzrp6x3uFp_-6ySE6gJupfmxG2YDOV8Y51qgdY2wfkFHc9Nr50AuwWV-kyx0D-TfTrFZFWBri3IL7qyYlpkI9FmYqNRe0xGhNL4fgeC4OowqLYlsAWDftVUQ_S6MXEz6f9VX1oaV4wYM__gFu7kZdKUaa0cITrSbIKpA9n7qGY4I-sYwQjMMDy0dB6DkBYVOEOxEKOtqT4gbFatJPQVmA1OSXWmWxtHbuGbowM2ryYEQEvW5EGTrVsB_3_-Hwe7DeK4qUHYCivrlZgCnKPyAKot4dV39GqenPf9DPQRkYDY7C-QPI_7Q4M5InKllhxhee37ElkNFzNFYXdji01w-0rXNB3xtY89SVaQNpksJHHHNmuW2LdbBKhNjBucPd_dm5hq3QkXZHmdkW05ghB81C3Ng7nqEffp04390vYZPWQyXAPrZqN7Ly_8o9LTqIcMYd4-UITbp97QdxhKBYRGvT_FnFXkWCPIgRseKFDC3mq3Xot20Dvh39igQcKrW0hjfHuWJnv7Kl1hs35O1TdDOX91XW4pNLp3FczolftIjl1__sveGowR4meeGEAcZjZLe7_ZFdmPoAmQ0QH5zqM7SZ-LGgkG35JzL8Npwnb1GPxdE5dF_p_52qdef8vOpMjUjTp9fIGgZHowfsmZpk4MUw4HPL01Ie72PY7Ej3d11nUbZB2Zo6v5-46m2oM1f3jJcsulEDRUYPthqJRAxG8FR7Egh34hCrchanHM52bXPwW1OWbGHkzbrkpWp622Lt49ZB4prbaMqrc-ZYhfmy6yrA0vw2UPoM26wXqk7OE2HyLqTI0mhR4RrvhBAyjo19pkd_XXylbRhAO31eT3P9UQtjfIS7rZrrE6dLc1721hBDclt14wcOCLWGCAyoP-5lT2NamiwswN0lZdCkWzFlwyfIiUOod3TciKHbxmGGazmVmUsz4Ka8IEMfw_yq9qwQJRXZ5poFVyTZTyqWKZPEK8Bo5b4vaW7MuTN5MgqimaPJqfh-g2aVa0s3sZ5rEcQQzyxGx47P337GAxiF6s_suHypEZnOrI7QaBQkWRKno90LNmHUML28WMtFw5pX6vcK96H_LuEhJNmajuGyqGwlgokUamiYj-IRc8PWY_9v4E2t0bEoDzMneIPZPNEz0kuDHIxDf-TvZyAPOlCjjsoAcUEt15d304tjFNXGu6K4HKL_FvaNTsyRiyJEWlsj2e4hDeQ3O7kojn6yYady2rXCiPB9osKSqeNvldCEO31VnlF-_unK6UZN8pVj-uq39cSckIQFnnQlugwcBSPFH5lQu387Q7HJZEBVAlgHi-C6gvgzSNGN_c--_f8WJRQSsH1F8rM_qNkA61VLy0N7WTzwziglWpIYNGVOwtBlgroxbNZRh1lj_e14ezYCB7dDvsDNTY3Jc_zKgufTi3e72zQgIcILFmbRk_VNPIddIZIdLy4R--sq0Stnb-3fXxZrtRyYRdSGAx1B8CdElCi5K5DDQRNEXfyGmCjyhZ-mn6HphNmm39HFzFiq1RHQi_h1EfC_RDoq79i4qtwzki0q7LEJBoejNlTdUl9ht4E4YpT-iOvEOzHWWttDFkuXPUsSaQUPV57E1FUt5CsxZE2RGlCZwA6xF44B-vkTKfdT0qy3nMCyVGJPrc5Tnjgrfa8xCUTTE7u_w0qDEwJBVJchCR3PUhug-7hqhzoE3EkL3q1zlJySqpbAcTRBNxoU9zDoHJ3XCHMt22PxktM1qb8urpVkwGGXlPRgJ67k1W3MSkVujc7o_KEyiSEM6G0CvAWAp7Ye84PfzSOS2871pNEAyZ_hwGbk6hBPQ1SVCWcmGZcUFgcGhkAUAH4hbMKtINbGASlGCp3L5alf5abisbFPJpv30hkVzzE6-jnKpOsLzxa5Yn7Q4ELvJrfwbZQ-Y7q86nlgXgaDBSOklA6FRmsRzlE2Df6jtrdkDqEqnBuC4nGE67pRLARoaByOHtzbQzCavg0EpQe_5W6M84gOFKRF7XSCZUI3S3kA.K3fQHeySVd_q4YKBkSdNkw', port=None, port_specified=False, domain='', domain_specified=False, domain_initial_dot=False, path='/', path_specified=True, secure=False, expires=None, discard=True, comment=None, comment_url=None, rest={'HttpOnly': None}, rfc2109=False)"
      ]
     },
     "execution_count": 23,
     "metadata": {},
     "output_type": "execute_result"
    }
   ],
   "source": [
    "import requests\n",
    "key=\"eyJhbGciOiJkaXIiLCJlbmMiOiJBMjU2R0NNIn0..ilhBmyPuKb4abw6o.38MDrridAfFB2jE5Ij_hLM3-opwAMF5v-o_LhmT1QQP0L_Jw_iiu_NgZtfiijrbRgFj1EwAZmym5CPLqtXGcSlBJUu7Ab7RKL-SPpeKz9yeZiZhJdcOQUPA-GIHuGDx5kmwGTV6bJgy1xtkWrvDcRtWDzBnzM5ch2s9JoNOb7aIR2H_yJjSxPADHCx1L9UElMzm8QbwNeGhFw5sl1d6HdyhjXjhKBpA-1Y3GMNSIrJnQ6LZIguFkgceieiYi4Qauc0fhUn5JIzRPiSnw86AZdoSukDmeetubGHuOCSO1UwX7QwWsdLpRVv5axBheI-F6KBVZFJEbd1VrWCleGALMgUcOS8CfkTAF1eRmp_MjjY9Blpu7sV0l0HRC1Vzrp6x3uFp_-6ySE6gJupfmxG2YDOV8Y51qgdY2wfkFHc9Nr50AuwWV-kyx0D-TfTrFZFWBri3IL7qyYlpkI9FmYqNRe0xGhNL4fgeC4OowqLYlsAWDftVUQ_S6MXEz6f9VX1oaV4wYM__gFu7kZdKUaa0cITrSbIKpA9n7qGY4I-sYwQjMMDy0dB6DkBYVOEOxEKOtqT4gbFatJPQVmA1OSXWmWxtHbuGbowM2ryYEQEvW5EGTrVsB_3_-Hwe7DeK4qUHYCivrlZgCnKPyAKot4dV39GqenPf9DPQRkYDY7C-QPI_7Q4M5InKllhxhee37ElkNFzNFYXdji01w-0rXNB3xtY89SVaQNpksJHHHNmuW2LdbBKhNjBucPd_dm5hq3QkXZHmdkW05ghB81C3Ng7nqEffp04390vYZPWQyXAPrZqN7Ly_8o9LTqIcMYd4-UITbp97QdxhKBYRGvT_FnFXkWCPIgRseKFDC3mq3Xot20Dvh39igQcKrW0hjfHuWJnv7Kl1hs35O1TdDOX91XW4pNLp3FczolftIjl1__sveGowR4meeGEAcZjZLe7_ZFdmPoAmQ0QH5zqM7SZ-LGgkG35JzL8Npwnb1GPxdE5dF_p_52qdef8vOpMjUjTp9fIGgZHowfsmZpk4MUw4HPL01Ie72PY7Ej3d11nUbZB2Zo6v5-46m2oM1f3jJcsulEDRUYPthqJRAxG8FR7Egh34hCrchanHM52bXPwW1OWbGHkzbrkpWp622Lt49ZB4prbaMqrc-ZYhfmy6yrA0vw2UPoM26wXqk7OE2HyLqTI0mhR4RrvhBAyjo19pkd_XXylbRhAO31eT3P9UQtjfIS7rZrrE6dLc1721hBDclt14wcOCLWGCAyoP-5lT2NamiwswN0lZdCkWzFlwyfIiUOod3TciKHbxmGGazmVmUsz4Ka8IEMfw_yq9qwQJRXZ5poFVyTZTyqWKZPEK8Bo5b4vaW7MuTN5MgqimaPJqfh-g2aVa0s3sZ5rEcQQzyxGx47P337GAxiF6s_suHypEZnOrI7QaBQkWRKno90LNmHUML28WMtFw5pX6vcK96H_LuEhJNmajuGyqGwlgokUamiYj-IRc8PWY_9v4E2t0bEoDzMneIPZPNEz0kuDHIxDf-TvZyAPOlCjjsoAcUEt15d304tjFNXGu6K4HKL_FvaNTsyRiyJEWlsj2e4hDeQ3O7kojn6yYady2rXCiPB9osKSqeNvldCEO31VnlF-_unK6UZN8pVj-uq39cSckIQFnnQlugwcBSPFH5lQu387Q7HJZEBVAlgHi-C6gvgzSNGN_c--_f8WJRQSsH1F8rM_qNkA61VLy0N7WTzwziglWpIYNGVOwtBlgroxbNZRh1lj_e14ezYCB7dDvsDNTY3Jc_zKgufTi3e72zQgIcILFmbRk_VNPIddIZIdLy4R--sq0Stnb-3fXxZrtRyYRdSGAx1B8CdElCi5K5DDQRNEXfyGmCjyhZ-mn6HphNmm39HFzFiq1RHQi_h1EfC_RDoq79i4qtwzki0q7LEJBoejNlTdUl9ht4E4YpT-iOvEOzHWWttDFkuXPUsSaQUPV57E1FUt5CsxZE2RGlCZwA6xF44B-vkTKfdT0qy3nMCyVGJPrc5Tnjgrfa8xCUTTE7u_w0qDEwJBVJchCR3PUhug-7hqhzoE3EkL3q1zlJySqpbAcTRBNxoU9zDoHJ3XCHMt22PxktM1qb8urpVkwGGXlPRgJ67k1W3MSkVujc7o_KEyiSEM6G0CvAWAp7Ye84PfzSOS2871pNEAyZ_hwGbk6hBPQ1SVCWcmGZcUFgcGhkAUAH4hbMKtINbGASlGCp3L5alf5abisbFPJpv30hkVzzE6-jnKpOsLzxa5Yn7Q4ELvJrfwbZQ-Y7q86nlgXgaDBSOklA6FRmsRzlE2Df6jtrdkDqEqnBuC4nGE67pRLARoaByOHtzbQzCavg0EpQe_5W6M84gOFKRF7XSCZUI3S3kA.K3fQHeySVd_q4YKBkSdNkw\"\n",
    "s = requests.Session()\n",
    "s.cookies.set(\"__Secure-next-auth.session-token\",\n",
    "                          key)"
   ]
  },
  {
   "cell_type": "code",
   "execution_count": 17,
   "id": "ddc59960",
   "metadata": {},
   "outputs": [],
   "source": [
    "response = {\"user\":{\"id\":\"user-2xFFiLIFBVTHIboTWo6Ki9w8\",\"name\":\"dengdeng9209@gmail.com\",\"email\":\"dengdeng9209@gmail.com\",\"image\":\"https://s.gravatar.com/avatar/41299038d7a6705cf67c2383ef0720c9?s=480&r=pg&d=https%3A%2F%2Fcdn.auth0.com%2Favatars%2Fde.png\",\"picture\":\"https://s.gravatar.com/avatar/41299038d7a6705cf67c2383ef0720c9?s=480&r=pg&d=https%3A%2F%2Fcdn.auth0.com%2Favatars%2Fde.png\",\"groups\":[\"codex\"],\"features\":[\"saveHistory\"]},\"expires\":\"2023-02-07T10:34:06.427Z\",\"accessToken\":\"eyJhbGciOiJSUzI1NiIsInR5cCI6IkpXVCIsImtpZCI6Ik1UaEVOVUpHTkVNMVFURTRNMEZCTWpkQ05UZzVNRFUxUlRVd1FVSkRNRU13UmtGRVFrRXpSZyJ9.eyJodHRwczovL2FwaS5vcGVuYWkuY29tL3Byb2ZpbGUiOnsiZW1haWwiOiJkZW5nZGVuZzkyMDlAZ21haWwuY29tIiwiZW1haWxfdmVyaWZpZWQiOnRydWUsImdlb2lwX2NvdW50cnkiOiJVUyJ9LCJodHRwczovL2FwaS5vcGVuYWkuY29tL2F1dGgiOnsidXNlcl9pZCI6InVzZXItMnhGRmlMSUZCVlRISWJvVFdvNktpOXc4In0sImlzcyI6Imh0dHBzOi8vYXV0aDAub3BlbmFpLmNvbS8iLCJzdWIiOiJhdXRoMHw2MzFiZjdjMWQyM2EyZmM1OTExOGVhMjciLCJhdWQiOlsiaHR0cHM6Ly9hcGkub3BlbmFpLmNvbS92MSIsImh0dHBzOi8vb3BlbmFpLmF1dGgwLmNvbS91c2VyaW5mbyJdLCJpYXQiOjE2NzI2NDY2MzksImV4cCI6MTY3MzI1MTQzOSwiYXpwIjoiVGRKSWNiZTE2V29USHROOTVueXl3aDVFNHlPbzZJdEciLCJzY29wZSI6Im9wZW5pZCBwcm9maWxlIGVtYWlsIG1vZGVsLnJlYWQgbW9kZWwucmVxdWVzdCBvcmdhbml6YXRpb24ucmVhZCBvZmZsaW5lX2FjY2VzcyJ9.BFvqJKQ7CSPNl3hQGtzRBaylYmhaSgYIv7Ih6Hi1s432iXYdB8k0uzGAsuLDmUO4JjbGev0E_GmVS04X5WB87bh5s4rm1OyNMoJuwfbRRE0gd_9Mw0qn6wkHpvGbSm7GbaA4pCc0pByPFkO70HHn78MqRpzTJ5BU3GjWJMvAz71ms_pojAI6OP4BiMPJNG2dtYOuh3L_8f6u28c-p3fHFa2iqcE6TU2jl44Qsd8ZwcRQl9DORXVUroAUpKaiSUgo2Of_hEFEm5uGoMdtziQu8Pjc9TzUPY-BYjM5RWzJboT_Q9-_jUyAKyjSz-HbuACeUGXwwFISKwGhq_7M-G10zw\"}\n"
   ]
  },
  {
   "cell_type": "code",
   "execution_count": 19,
   "id": "98667085",
   "metadata": {},
   "outputs": [
    {
     "data": {
      "text/plain": [
       "dict_keys(['user', 'expires', 'accessToken'])"
      ]
     },
     "execution_count": 19,
     "metadata": {},
     "output_type": "execute_result"
    }
   ],
   "source": []
  },
  {
   "cell_type": "code",
   "execution_count": 24,
   "id": "0066c46b",
   "metadata": {},
   "outputs": [
    {
     "name": "stdout",
     "output_type": "stream",
     "text": [
      "Logging in...\n",
      "Error refreshing session: \n",
      "Error logging in\n",
      "Logging in...\n",
      "Error refreshing session: \n",
      "Error logging in\n"
     ]
    }
   ],
   "source": [
    "from revChatGPT.revChatGPT import Chatbot\n",
    "import json\n",
    "\n",
    "# Get your config in JSON\n",
    "config = {\n",
    "    \"email\": \"dengdeng9209@gmail.com\",\n",
    "    \"password\": \"Yx250318940\"\n",
    "}\n",
    "prompt = \"I love you\"\n",
    "chatbot = Chatbot(config, conversation_id=None)\n",
    "chatbot.reset_chat() # Forgets conversation\n",
    "chatbot.refresh_session() # Uses the session_token to get a new bearer token\n",
    "# resp = chatbot.get_chat_response(prompt, output=\"text\") # Sends a request to the API and returns the response by OpenAI\n",
    "# resp['message'] # The message sent by the response\n",
    "# resp['conversation_id'] # The current conversation id\n",
    "# resp['parent_id'] # The ID of the response\n",
    "\n",
    " # This returns a stream of text (live update)\n",
    "resp = chatbot.get_chat_response(prompt, output=\"stream\") \n"
   ]
  },
  {
   "cell_type": "code",
   "execution_count": 10,
   "id": "61964112",
   "metadata": {},
   "outputs": [
    {
     "data": {
      "text/plain": [
       "<generator object Chatbot.get_chat_stream at 0x7ff24821f8b8>"
      ]
     },
     "execution_count": 10,
     "metadata": {},
     "output_type": "execute_result"
    }
   ],
   "source": [
    "for line in resp: # You have to loop through the response stream\n",
    "        print(line['message']) # Same format as text return type\n",
    "   "
   ]
  },
  {
   "cell_type": "code",
   "execution_count": null,
   "id": "3d023bba",
   "metadata": {},
   "outputs": [],
   "source": [
    "!pip install tls_client"
   ]
  },
  {
   "cell_type": "code",
   "execution_count": 25,
   "id": "ea60edcb",
   "metadata": {},
   "outputs": [],
   "source": [
    "import uuid\n",
    "import re\n",
    "import json\n",
    "import tls_client\n",
    "import undetected_chromedriver as uc\n",
    "from selenium.webdriver.support.ui import WebDriverWait\n",
    "from selenium.webdriver.support import expected_conditions as EC\n",
    "from selenium.webdriver.common.by import By\n",
    "from time import sleep\n",
    "from twocaptcha import TwoCaptcha\n",
    "import logging\n",
    "# Disable all logging\n",
    "logging.basicConfig(level=logging.ERROR)\n",
    "\n",
    "BASE_URL = \"https://chat.openai.com/\""
   ]
  },
  {
   "cell_type": "code",
   "execution_count": 26,
   "id": "e8936518",
   "metadata": {},
   "outputs": [
    {
     "name": "stdout",
     "output_type": "stream",
     "text": [
      "Requirement already satisfied: chatgpt in /home/huangyongfeng/miniconda3/envs/py3.7pytorch1.8new/lib/python3.7/site-packages (2.2212.0)\n",
      "Requirement already satisfied: rich in /home/huangyongfeng/miniconda3/envs/py3.7pytorch1.8new/lib/python3.7/site-packages (from chatgpt) (13.0.1)\n",
      "Requirement already satisfied: tls-client in /home/huangyongfeng/miniconda3/envs/py3.7pytorch1.8new/lib/python3.7/site-packages (from chatgpt) (0.1.8)\n",
      "Requirement already satisfied: pygments<3.0.0,>=2.6.0 in /home/huangyongfeng/miniconda3/envs/py3.7pytorch1.8new/lib/python3.7/site-packages (from rich->chatgpt) (2.13.0)\n",
      "Requirement already satisfied: typing-extensions<5.0,>=4.0.0 in /home/huangyongfeng/miniconda3/envs/py3.7pytorch1.8new/lib/python3.7/site-packages (from rich->chatgpt) (4.3.0)\n",
      "Requirement already satisfied: commonmark<0.10.0,>=0.9.0 in /home/huangyongfeng/miniconda3/envs/py3.7pytorch1.8new/lib/python3.7/site-packages (from rich->chatgpt) (0.9.1)\n",
      "\u001b[33mWARNING: You are using pip version 21.2.4; however, version 22.3.1 is available.\n",
      "You should consider upgrading via the '/home/huangyongfeng/miniconda3/envs/py3.7pytorch1.8new/bin/python -m pip install --upgrade pip' command.\u001b[0m\n",
      "Note: you may need to restart the kernel to use updated packages.\n"
     ]
    }
   ],
   "source": [
    "pip install -U chatgpt"
   ]
  },
  {
   "cell_type": "code",
   "execution_count": 28,
   "id": "03104ae2",
   "metadata": {},
   "outputs": [
    {
     "ename": "IndexError",
     "evalue": "list index out of range",
     "output_type": "error",
     "traceback": [
      "\u001b[0;31m---------------------------------------------------------------------------\u001b[0m",
      "\u001b[0;31mHTTPError\u001b[0m                                 Traceback (most recent call last)",
      "\u001b[0;32m~/miniconda3/envs/py3.7pytorch1.8new/lib/python3.7/site-packages/chatgpt/chatgpt.py\u001b[0m in \u001b[0;36mchat\u001b[0;34m(self, message, retry_on_401, direct_response, stream)\u001b[0m\n\u001b[1;32m    352\u001b[0m             response = self._session.request(\n\u001b[0;32m--> 353\u001b[0;31m                 \"POST\", url, data=payload, headers=headers, stream=stream)\n\u001b[0m\u001b[1;32m    354\u001b[0m             \u001b[0;32mif\u001b[0m \u001b[0mdirect_response\u001b[0m\u001b[0;34m:\u001b[0m\u001b[0;34m\u001b[0m\u001b[0m\n",
      "\u001b[0;32m~/miniconda3/envs/py3.7pytorch1.8new/lib/python3.7/site-packages/chatgpt/sessions.py\u001b[0m in \u001b[0;36mrequest\u001b[0;34m(self, stream, *args, **kwargs)\u001b[0m\n\u001b[1;32m     83\u001b[0m                 *args, timeout=self._timeout, stream=stream, **kwargs)\n\u001b[0;32m---> 84\u001b[0;31m             \u001b[0mresponse\u001b[0m\u001b[0;34m.\u001b[0m\u001b[0mraise_for_status\u001b[0m\u001b[0;34m(\u001b[0m\u001b[0;34m)\u001b[0m\u001b[0;34m\u001b[0m\u001b[0m\n\u001b[0m\u001b[1;32m     85\u001b[0m             \u001b[0;32mreturn\u001b[0m \u001b[0mresponse\u001b[0m\u001b[0;34m\u001b[0m\u001b[0m\n",
      "\u001b[0;32m~/miniconda3/envs/py3.7pytorch1.8new/lib/python3.7/site-packages/requests/models.py\u001b[0m in \u001b[0;36mraise_for_status\u001b[0;34m(self)\u001b[0m\n\u001b[1;32m    952\u001b[0m         \u001b[0;32mif\u001b[0m \u001b[0mhttp_error_msg\u001b[0m\u001b[0;34m:\u001b[0m\u001b[0;34m\u001b[0m\u001b[0m\n\u001b[0;32m--> 953\u001b[0;31m             \u001b[0;32mraise\u001b[0m \u001b[0mHTTPError\u001b[0m\u001b[0;34m(\u001b[0m\u001b[0mhttp_error_msg\u001b[0m\u001b[0;34m,\u001b[0m \u001b[0mresponse\u001b[0m\u001b[0;34m=\u001b[0m\u001b[0mself\u001b[0m\u001b[0;34m)\u001b[0m\u001b[0;34m\u001b[0m\u001b[0m\n\u001b[0m\u001b[1;32m    954\u001b[0m \u001b[0;34m\u001b[0m\u001b[0m\n",
      "\u001b[0;31mHTTPError\u001b[0m: 403 Client Error: Forbidden for url: https://chat.openai.com/backend-api/conversation",
      "\nDuring handling of the above exception, another exception occurred:\n",
      "\u001b[0;31mIndexError\u001b[0m                                Traceback (most recent call last)",
      "\u001b[0;32m/tmp/ipykernel_2540462/3313995125.py\u001b[0m in \u001b[0;36m<module>\u001b[0;34m\u001b[0m\n\u001b[1;32m      2\u001b[0m \u001b[0;34m\u001b[0m\u001b[0m\n\u001b[1;32m      3\u001b[0m \u001b[0mconversation\u001b[0m \u001b[0;34m=\u001b[0m \u001b[0mConversation\u001b[0m\u001b[0;34m(\u001b[0m\u001b[0maccess_token\u001b[0m\u001b[0;34m=\u001b[0m\u001b[0;34m\"eyJhbGciOiJSUzI1NiIsInR5cCI6IkpXVCIsImtpZCI6Ik1UaEVOVUpHTkVNMVFURTRNMEZCTWpkQ05UZzVNRFUxUlRVd1FVSkRNRU13UmtGRVFrRXpSZyJ9.eyJodHRwczovL2FwaS5vcGVuYWkuY29tL3Byb2ZpbGUiOnsiZW1haWwiOiJkZW5nZGVuZzkyMDlAZ21haWwuY29tIiwiZW1haWxfdmVyaWZpZWQiOnRydWUsImdlb2lwX2NvdW50cnkiOiJVUyJ9LCJodHRwczovL2FwaS5vcGVuYWkuY29tL2F1dGgiOnsidXNlcl9pZCI6InVzZXItMnhGRmlMSUZCVlRISWJvVFdvNktpOXc4In0sImlzcyI6Imh0dHBzOi8vYXV0aDAub3BlbmFpLmNvbS8iLCJzdWIiOiJhdXRoMHw2MzFiZjdjMWQyM2EyZmM1OTExOGVhMjciLCJhdWQiOlsiaHR0cHM6Ly9hcGkub3BlbmFpLmNvbS92MSIsImh0dHBzOi8vb3BlbmFpLmF1dGgwLmNvbS91c2VyaW5mbyJdLCJpYXQiOjE2NzI2NDY2MzksImV4cCI6MTY3MzI1MTQzOSwiYXpwIjoiVGRKSWNiZTE2V29USHROOTVueXl3aDVFNHlPbzZJdEciLCJzY29wZSI6Im9wZW5pZCBwcm9maWxlIGVtYWlsIG1vZGVsLnJlYWQgbW9kZWwucmVxdWVzdCBvcmdhbml6YXRpb24ucmVhZCBvZmZsaW5lX2FjY2VzcyJ9.BFvqJKQ7CSPNl3hQGtzRBaylYmhaSgYIv7Ih6Hi1s432iXYdB8k0uzGAsuLDmUO4JjbGev0E_GmVS04X5WB87bh5s4rm1OyNMoJuwfbRRE0gd_9Mw0qn6wkHpvGbSm7GbaA4pCc0pByPFkO70HHn78MqRpzTJ5BU3GjWJMvAz71ms_pojAI6OP4BiMPJNG2dtYOuh3L_8f6u28c-p3fHFa2iqcE6TU2jl44Qsd8ZwcRQl9DORXVUroAUpKaiSUgo2Of_hEFEm5uGoMdtziQu8Pjc9TzUPY-BYjM5RWzJboT_Q9-_jUyAKyjSz-HbuACeUGXwwFISKwGhq_7M-G10zw\"\u001b[0m\u001b[0;34m)\u001b[0m\u001b[0;34m\u001b[0m\u001b[0m\n\u001b[0;32m----> 4\u001b[0;31m \u001b[0;32mfor\u001b[0m \u001b[0mx\u001b[0m \u001b[0;32min\u001b[0m \u001b[0mconversation\u001b[0m\u001b[0;34m.\u001b[0m\u001b[0mstream\u001b[0m\u001b[0;34m(\u001b[0m\u001b[0;34m\"Hello\"\u001b[0m\u001b[0;34m)\u001b[0m\u001b[0;34m:\u001b[0m\u001b[0;34m\u001b[0m\u001b[0m\n\u001b[0m\u001b[1;32m      5\u001b[0m     \u001b[0mprint\u001b[0m\u001b[0;34m(\u001b[0m\u001b[0mx\u001b[0m\u001b[0;34m)\u001b[0m\u001b[0;34m\u001b[0m\u001b[0m\n\u001b[1;32m      6\u001b[0m \u001b[0;31m# for chunk in conversation.stream(\"Hello\"):\u001b[0m\u001b[0;34m\u001b[0m\u001b[0;34m\u001b[0m\u001b[0m\n",
      "\u001b[0;32m~/miniconda3/envs/py3.7pytorch1.8new/lib/python3.7/site-packages/chatgpt/chatgpt.py\u001b[0m in \u001b[0;36mstream\u001b[0;34m(self, message, retry_on_401, only_new_characters)\u001b[0m\n\u001b[1;32m    265\u001b[0m         \u001b[0mstream_text_result\u001b[0m \u001b[0;34m=\u001b[0m \u001b[0;34m\"\"\u001b[0m\u001b[0;34m\u001b[0m\u001b[0m\n\u001b[1;32m    266\u001b[0m         \u001b[0mchunk_buffer\u001b[0m \u001b[0;34m=\u001b[0m \u001b[0;34m\"\"\u001b[0m\u001b[0;34m\u001b[0m\u001b[0m\n\u001b[0;32m--> 267\u001b[0;31m         \u001b[0mresponse\u001b[0m \u001b[0;34m=\u001b[0m \u001b[0mself\u001b[0m\u001b[0;34m.\u001b[0m\u001b[0mchat\u001b[0m\u001b[0;34m(\u001b[0m\u001b[0mmessage\u001b[0m\u001b[0;34m,\u001b[0m \u001b[0mretry_on_401\u001b[0m\u001b[0;34m,\u001b[0m \u001b[0;32mTrue\u001b[0m\u001b[0;34m,\u001b[0m \u001b[0;32mTrue\u001b[0m\u001b[0;34m)\u001b[0m\u001b[0;34m\u001b[0m\u001b[0m\n\u001b[0m\u001b[1;32m    268\u001b[0m         \u001b[0;32mfor\u001b[0m \u001b[0mchunk\u001b[0m \u001b[0;32min\u001b[0m \u001b[0mresponse\u001b[0m\u001b[0;34m.\u001b[0m\u001b[0miter_content\u001b[0m\u001b[0;34m(\u001b[0m\u001b[0mchunk_size\u001b[0m\u001b[0;34m=\u001b[0m\u001b[0;36m1024\u001b[0m\u001b[0;34m)\u001b[0m\u001b[0;34m:\u001b[0m\u001b[0;34m\u001b[0m\u001b[0m\n\u001b[1;32m    269\u001b[0m             \u001b[0mchunk_buffer\u001b[0m \u001b[0;34m+=\u001b[0m \u001b[0mchunk\u001b[0m\u001b[0;34m.\u001b[0m\u001b[0mdecode\u001b[0m\u001b[0;34m(\u001b[0m\u001b[0;34m\"utf-8\"\u001b[0m\u001b[0;34m)\u001b[0m\u001b[0;34m.\u001b[0m\u001b[0mreplace\u001b[0m\u001b[0;34m(\u001b[0m\u001b[0;34m\"data: \"\u001b[0m\u001b[0;34m,\u001b[0m \u001b[0;34m\"\"\u001b[0m\u001b[0;34m)\u001b[0m\u001b[0;34m\u001b[0m\u001b[0m\n",
      "\u001b[0;32m~/miniconda3/envs/py3.7pytorch1.8new/lib/python3.7/site-packages/chatgpt/chatgpt.py\u001b[0m in \u001b[0;36mchat\u001b[0;34m(self, message, retry_on_401, direct_response, stream)\u001b[0m\n\u001b[1;32m    382\u001b[0m             \u001b[0;32melif\u001b[0m \u001b[0merror_code\u001b[0m \u001b[0;34m==\u001b[0m \u001b[0;36m403\u001b[0m\u001b[0;34m:\u001b[0m\u001b[0;34m\u001b[0m\u001b[0m\n\u001b[1;32m    383\u001b[0m                 exception_message = str(reason).split(\n\u001b[0;32m--> 384\u001b[0;31m                     \"h2>\")[1].split(\"<\")[0]\n\u001b[0m\u001b[1;32m    385\u001b[0m \u001b[0;34m\u001b[0m\u001b[0m\n\u001b[1;32m    386\u001b[0m             \u001b[0;32melif\u001b[0m \u001b[0merror_code\u001b[0m \u001b[0;34m==\u001b[0m \u001b[0;36m500\u001b[0m\u001b[0;34m:\u001b[0m\u001b[0;34m\u001b[0m\u001b[0m\n",
      "\u001b[0;31mIndexError\u001b[0m: list index out of range"
     ]
    }
   ],
   "source": [
    "from chatgpt import Conversation\n",
    "\n",
    "conversation = Conversation(access_token=\"eyJhbGciOiJSUzI1NiIsInR5cCI6IkpXVCIsImtpZCI6Ik1UaEVOVUpHTkVNMVFURTRNMEZCTWpkQ05UZzVNRFUxUlRVd1FVSkRNRU13UmtGRVFrRXpSZyJ9.eyJodHRwczovL2FwaS5vcGVuYWkuY29tL3Byb2ZpbGUiOnsiZW1haWwiOiJkZW5nZGVuZzkyMDlAZ21haWwuY29tIiwiZW1haWxfdmVyaWZpZWQiOnRydWUsImdlb2lwX2NvdW50cnkiOiJVUyJ9LCJodHRwczovL2FwaS5vcGVuYWkuY29tL2F1dGgiOnsidXNlcl9pZCI6InVzZXItMnhGRmlMSUZCVlRISWJvVFdvNktpOXc4In0sImlzcyI6Imh0dHBzOi8vYXV0aDAub3BlbmFpLmNvbS8iLCJzdWIiOiJhdXRoMHw2MzFiZjdjMWQyM2EyZmM1OTExOGVhMjciLCJhdWQiOlsiaHR0cHM6Ly9hcGkub3BlbmFpLmNvbS92MSIsImh0dHBzOi8vb3BlbmFpLmF1dGgwLmNvbS91c2VyaW5mbyJdLCJpYXQiOjE2NzI2NDY2MzksImV4cCI6MTY3MzI1MTQzOSwiYXpwIjoiVGRKSWNiZTE2V29USHROOTVueXl3aDVFNHlPbzZJdEciLCJzY29wZSI6Im9wZW5pZCBwcm9maWxlIGVtYWlsIG1vZGVsLnJlYWQgbW9kZWwucmVxdWVzdCBvcmdhbml6YXRpb24ucmVhZCBvZmZsaW5lX2FjY2VzcyJ9.BFvqJKQ7CSPNl3hQGtzRBaylYmhaSgYIv7Ih6Hi1s432iXYdB8k0uzGAsuLDmUO4JjbGev0E_GmVS04X5WB87bh5s4rm1OyNMoJuwfbRRE0gd_9Mw0qn6wkHpvGbSm7GbaA4pCc0pByPFkO70HHn78MqRpzTJ5BU3GjWJMvAz71ms_pojAI6OP4BiMPJNG2dtYOuh3L_8f6u28c-p3fHFa2iqcE6TU2jl44Qsd8ZwcRQl9DORXVUroAUpKaiSUgo2Of_hEFEm5uGoMdtziQu8Pjc9TzUPY-BYjM5RWzJboT_Q9-_jUyAKyjSz-HbuACeUGXwwFISKwGhq_7M-G10zw\")\n",
    "for x in conversation.stream(\"Hello\"):\n",
    "    print(x)\n",
    "# for chunk in conversation.stream(\"Hello\"):\n",
    "#     print(chunk, end=\"\")"
   ]
  },
  {
   "cell_type": "code",
   "execution_count": null,
   "id": "96d13b66",
   "metadata": {},
   "outputs": [],
   "source": []
  }
 ],
 "metadata": {
  "kernelspec": {
   "display_name": "Python 3 (ipykernel)",
   "language": "python",
   "name": "python3"
  },
  "language_info": {
   "codemirror_mode": {
    "name": "ipython",
    "version": 3
   },
   "file_extension": ".py",
   "mimetype": "text/x-python",
   "name": "python",
   "nbconvert_exporter": "python",
   "pygments_lexer": "ipython3",
   "version": "3.7.0"
  }
 },
 "nbformat": 4,
 "nbformat_minor": 5
}
