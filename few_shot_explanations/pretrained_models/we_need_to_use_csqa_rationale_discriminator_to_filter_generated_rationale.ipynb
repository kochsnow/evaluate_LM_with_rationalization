{
 "cells": [
  {
   "cell_type": "code",
   "execution_count": 15,
   "id": "f156ee57",
   "metadata": {},
   "outputs": [],
   "source": [
    "'''\n",
    "A (hopefully) Simple API for serving explanation score requests.\n",
    "\n",
    "input_string = (\n",
    "    f\"{question} answer: {gold_label}. \"\n",
    "    + f\" explanation: {abstr_expl}.\"\n",
    ")\n",
    "\n",
    "here are some example input strings:\n",
    "\n",
    "If you feel like everything is spinning while climbing you are experiencing what? answer: vertigo. explanation: Vertigo is often experienced while climbing or at heights.\n",
    "Where do you get clothes in a shopping bag? answer: retail store. explanation: For any large item where convenience is beneficial, one might go to a retail store, either a regular one or a big-box store like walmart.\n",
    "Where should a cat be in a house? answer: floor. explanation: A cat should be on the floor, not on a rug.\n",
    "'''\n",
    "import pdb\n",
    "import argparse\n",
    "import torch\n",
    "import transformers\n",
    "import os\n",
    "import tqdm\n",
    "import numpy as np\n",
    "\n",
    "_model, _tokenizer = None, None\n",
    "\n",
    "model2url = {\n",
    "    'large': 'https://storage.googleapis.com/ai2-mosaic-public/projects/few-shot-explanations/pretrained_models/commonsense_qa/valloss%3D0.28665~model%3Dt5-large~lr%3D0.0001~seed%3D1~labelagg%3D0_just_weights.pt',\n",
    "    '3b': 'https://storage.googleapis.com/ai2-mosaic-public/projects/few-shot-explanations/pretrained_models/commonsense_qa/valloss%3D0.28925~model%3Dt5-3b~lr%3D0.0001~seed%3D1~labelagg%3D0_just_weights.pt',\n",
    "    '11b': 'https://storage.googleapis.com/ai2-mosaic-public/projects/few-shot-explanations/pretrained_models/commonsense_qa/cose_deepspeed_valloss%3D0.00000~model%3Dt5-11b~lr%3D0.00001~seed%3D1~labelagg%3D0.pt',\n",
    "}\n",
    "\n",
    "def get_model(model_type, device=None):\n",
    "    global _model, model2url\n",
    "    if model_type not in {'11b', '3b', 'large'}:\n",
    "        raise NotImplementedError('{} is not a valid model please use \"3b\" or \"large\"'.format(model_type))\n",
    "\n",
    "    if _model is None:\n",
    "        hf_model_name = 't5-' + model_type\n",
    "        print('Loading model: this will run only once.')\n",
    "\n",
    "        if model_type == 'large':\n",
    "            model_path = 'csqa_models/t5-large.pt'\n",
    "        elif model_type == '3b':\n",
    "            model_path = 'csqa_models/valloss=0.28925~model=t5-3b~lr=0.0001~seed=1~labelagg=0_just_weights.pt'\n",
    "        elif model_type == '11b':\n",
    "            model_path = 'csqa_models/cose_deepspeed_valloss=0.00000~model=t5-11b~lr=0.00001~seed=1~labelagg=0.pt'\n",
    "\n",
    "        if not os.path.exists(model_path):\n",
    "            print('Please download weights for {} model and put in current directory.'.format(model_path))\n",
    "            print('for example, wget {}'.format(model2url[model_type]))\n",
    "            quit()\n",
    "\n",
    "        state = torch.load(model_path)\n",
    "        if 'model_state_dict' in state:\n",
    "            state = state['model_state_dict']\n",
    "\n",
    "        _model = transformers.AutoModelForSeq2SeqLM.from_pretrained(hf_model_name)\n",
    "        if model_type == '11b': # need to resize due to deepspeed, these entires are not accessed.\n",
    "            _model.resize_token_embeddings(len(transformers.AutoTokenizer.from_pretrained(hf_model_name)))\n",
    "        _model.load_state_dict(state)\n",
    "        _model.eval()\n",
    "        if device is not None:\n",
    "            _model = _model.to(device)\n",
    "\n",
    "    return _model\n",
    "\n",
    "\n",
    "def get_tokenizer(model_type):\n",
    "    global _tokenizer\n",
    "    if model_type not in {'3b', 'large', '11b'}:\n",
    "        raise NotImplementedError('{} is not a valid model please use \"3b\" or \"large\" or \"11b\"'.format(model_type))\n",
    "\n",
    "    if _tokenizer is None:\n",
    "        hf_model_name = 't5-' + model_type\n",
    "        _tokenizer = transformers.T5TokenizerFast.from_pretrained(hf_model_name)\n",
    "\n",
    "    return _tokenizer\n",
    "\n",
    "\n",
    "class T5Dataset(torch.utils.data.Dataset):\n",
    "    def __init__(self, data, tokenizer):\n",
    "        self.data = data\n",
    "        self.tokenizer = tokenizer\n",
    "\n",
    "    def __getitem__(self, idx):\n",
    "        res = self.tokenizer(self.data[idx]['input'], truncation=True)\n",
    "        res['labels'] = self.tokenizer(self.data[idx]['label']).input_ids\n",
    "        return res\n",
    "\n",
    "    def __len__(self):\n",
    "        return len(self.data)\n",
    "\n",
    "\n",
    "def get_scores(inputs, model_type, device=None, batch_size=32, verbose=False):\n",
    "    '''\n",
    "    Inputs:\n",
    "      - a list of explanations to score, e.g.,:\n",
    "        premise: A man getting a tattoo on his back. hypothesis: A woman is getting a tattoo. answer: contradiction. explanation: Because the tattoo artist is a man, the person getting the tattoo is not a woman.\n",
    "      - model type, either \"3b\" or \"large\" or \"11b\"\n",
    "      - device: which torch device to load model on, e.g., \"cuda:3\"\n",
    "    Outputs:\n",
    "      - P(good explanation); higher is better\n",
    "    '''\n",
    "    assert model_type in {'large', '3b', '11b'}\n",
    "\n",
    "    if isinstance(inputs, str):\n",
    "        inputs = [inputs]\n",
    "\n",
    "    model = get_model(model_type, device=device)\n",
    "    tokenizer = get_tokenizer(model_type)\n",
    "\n",
    "    score_itr = T5Dataset([{'input': inp, 'label': 'x'} for inp in inputs], tokenizer) # dummy labels for inference\n",
    "    data_collator = transformers.DataCollatorForSeq2Seq(\n",
    "        tokenizer,\n",
    "        model=model,\n",
    "        label_pad_token_id=-100,\n",
    "#         return_tensors='pt'\n",
    "    )\n",
    "    score_itr = torch.utils.data.DataLoader(score_itr, shuffle=False, collate_fn=data_collator, batch_size=batch_size)\n",
    "    score_itr = score_itr if not verbose else tqdm.tqdm(score_itr, total=len(score_itr))\n",
    "\n",
    "    good_idx, bad_idx = tokenizer('good').input_ids[0], tokenizer('bad').input_ids[0]\n",
    "    scores = []\n",
    "    \n",
    "    with torch.no_grad():\n",
    "        for batch in score_itr:\n",
    "            if device is not None:\n",
    "                input_ids, attention_mask, targets = batch['input_ids'].to(device), batch['attention_mask'].to(device), batch['labels'].to(device)\n",
    "            model_output = model(input_ids=input_ids, attention_mask=attention_mask, labels=targets)\n",
    "            logits_pos = model_output['logits'][:, 0, good_idx].cpu().numpy()\n",
    "            logits_neg = model_output['logits'][:, 0, bad_idx].cpu().numpy()\n",
    "            exp_logit_pos, exp_logit_neg = np.exp(logits_pos), np.exp(logits_neg)\n",
    "            score = list([float(x) for x in exp_logit_pos / (exp_logit_pos + exp_logit_neg)])\n",
    "            #pdb.set_trace()\n",
    "            scores.extend(score)\n",
    "    return scores\n",
    "\n",
    "\n",
    "# def parse_args():\n",
    "#     '''\n",
    "#     Optional args for main function, mostly just to test.\n",
    "#     '''\n",
    "#     parser = argparse.ArgumentParser()\n",
    "#     parser.add_argument(\n",
    "#         'model_type',\n",
    "#         default='large',\n",
    "#         choices={'large', '3b', '11b'})\n",
    "#     parser.add_argument(\n",
    "#         '--batch_size',\n",
    "#         default=32,\n",
    "#         type=int)\n",
    "\n",
    "#     args = parser.parse_args(['--batch_size', '1'])\n",
    "#     return args"
   ]
  },
  {
   "cell_type": "code",
   "execution_count": 16,
   "id": "b6d73868",
   "metadata": {},
   "outputs": [],
   "source": [
    "# args = parse_args()\n",
    "# parser = argparse.ArgumentParser()\n",
    "# parser.add_argument(\n",
    "#     'model_type',\n",
    "#     default='large',\n",
    "#     choices={'large', '3b', '11b'})\n",
    "# parser.add_argument(\n",
    "#     '--batch_size',\n",
    "#     default=32,\n",
    "#     type=int)\n",
    "\n",
    "# args = parser.parse_args([\"--model_type\", \"3b\"])\n",
    "# args.device = 'cpu'#'cuda' if torch.cuda.is_available() else 'cpu'\n",
    "np.random.seed(1)\n",
    "import os \n",
    "os.environ[\"CUDA_VISIBLE_DEVICES\"] = \"2\"\n",
    "# scores = get_scores(\n",
    "#     ['If you feel like everything is spinning while climbing you are experiencing what? answer: vertigo. explanation: Vertigo is often experienced while climbing or at heights.',\n",
    "#      'Where do you get clothes in a shopping bag? answer: retail store. explanation: For any large item where convenience is beneficial, one might go to a retail store, either a regular one or a big-box store like walmart.',\n",
    "#      'Where should a cat be in a house? answer: floor. explanation: A cat should be on the floor, not on a rug.'],\n",
    "#     'large',\n",
    "#     device='cuda:0',\n",
    "#     batch_size=1,\n",
    "#     verbose=False)\n",
    "# print(scores)\n"
   ]
  },
  {
   "cell_type": "code",
   "execution_count": 17,
   "id": "a56e950e",
   "metadata": {},
   "outputs": [],
   "source": [
    "import json\n",
    "from tqdm import tqdm\n",
    "with open(\"../../scripts/results/dev_rationale_pair.json\") as f:\n",
    "    rationale_pair_dev_data = json.load(f)\n",
    "    \n",
    "    "
   ]
  },
  {
   "cell_type": "code",
   "execution_count": 18,
   "id": "a31588f0",
   "metadata": {},
   "outputs": [
    {
     "data": {
      "text/plain": [
       "(dict_keys(['id', 'question', 'choices', 'answer', 'abstractive_explanation', 'extractive_explanation', 'our_explanation', 'input_ids', 'attention_mask', 'labels', 'decoder_attention_mask', 'question_encoding', 'common_expl_list', 'generated_explanation']),\n",
       " 986)"
      ]
     },
     "execution_count": 18,
     "metadata": {},
     "output_type": "execute_result"
    }
   ],
   "source": [
    "rationale_pair_dev_data[0].keys(), len(rationale_pair_dev_data)"
   ]
  },
  {
   "cell_type": "code",
   "execution_count": 19,
   "id": "166a2bb8",
   "metadata": {},
   "outputs": [
    {
     "name": "stderr",
     "output_type": "stream",
     "text": [
      "\r",
      "  0%|                                                                                                                                                                               | 0/986 [00:00<?, ?it/s]"
     ]
    },
    {
     "name": "stdout",
     "output_type": "stream",
     "text": [
      "Loading model: this will run only once.\n"
     ]
    },
    {
     "name": "stderr",
     "output_type": "stream",
     "text": [
      "  0%|▌                                                                                                                                                                    | 3/986 [00:26<1:51:30,  6.81s/it]"
     ]
    },
    {
     "name": "stdout",
     "output_type": "stream",
     "text": [
      "question: Where can you likely buy many poems?\n",
      "answer: book store\n",
      "common_expl_list: ['A bookstore sells a variety of books, including poetry books; chains of bookstores sometimes specialize in categories such as poetry or literature.', 'A book store is a place where you can buy books, including poetry books.']\n",
      "generated_explanation: <pad> <extra_id_0> Books are a common way to collect poetry, and book stores often sell poetry collections.<extra_id_1> </s>\n",
      "score: 0.7897491455078125\n"
     ]
    },
    {
     "name": "stderr",
     "output_type": "stream",
     "text": [
      "  1%|█▌                                                                                                                                                                     | 9/986 [00:26<20:05,  1.23s/it]"
     ]
    },
    {
     "name": "stdout",
     "output_type": "stream",
     "text": [
      "question: James raked fallen leaves into a pile. Where might he leave the pile?\n",
      "answer: ground\n",
      "common_expl_list: ['Leaves are often raked into piles on the ground.']\n",
      "generated_explanation: <pad> <extra_id_0> Leaves often fall to the ground, and raking leaves can make a pile on the ground.<extra_id_1> </s>\n",
      "score: 0.7252485752105713\n"
     ]
    },
    {
     "name": "stderr",
     "output_type": "stream",
     "text": [
      "  2%|███▋                                                                                                                                                                  | 22/986 [00:27<02:32,  6.34it/s]"
     ]
    },
    {
     "name": "stdout",
     "output_type": "stream",
     "text": [
      "question: Where are files likely to be hanging?\n",
      "answer: filing cabinet\n",
      "common_expl_list: ['Filing cabinets are used to store files sometimes; these files can then be found by opening the filing cabinet and looking for hanging folders.', 'Files are likely to be hanging in a filing cabinet, since they are often organized by topic, and filing cabinets are often used to organize files.']\n",
      "generated_explanation: <pad> <extra_id_0> Files are typically stored in filing cabinets, which are metal cabinets with shelves inside.<extra_id_1> </s>\n",
      "score: 0.8039507865905762\n",
      "question: The roadway passed a sign and gate house, what was behind the gatehouse?\n",
      "answer: subdivision\n",
      "common_expl_list: ['A subdivision contains houses that formed around it; therefore, a subdivision has a gatehouse that controls who goes in and out.', 'Subdivisions are residential areas that are often gated, and so, if you see a gatehouse, you might be in a subdivision.']\n",
      "generated_explanation: <pad> <extra_id_0> Subdivisions are groups of properties connected by a common road. A gatehouse separates the subdivisions, and usually contains a sign.<extra_id_1> </s>\n",
      "score: 0.7075456380844116\n"
     ]
    },
    {
     "name": "stderr",
     "output_type": "stream",
     "text": [
      "  3%|█████▏                                                                                                                                                                | 31/986 [00:27<01:15, 12.68it/s]"
     ]
    },
    {
     "name": "stdout",
     "output_type": "stream",
     "text": [
      "question: James thought that analyzing all the data would help him learn more, but it did not.  It only gave him what?\n",
      "answer: headache\n",
      "common_expl_list: ['Analysis requires a lot of thinking with maybe little reward, which can give one a headache.']\n",
      "generated_explanation: <pad> <extra_id_0> The problem with analyzing large amounts of data is that it can be very time-consuming.<extra_id_1> </s>\n",
      "score: 0.15440183877944946\n",
      "question: Where do you keep a book to read before bed?\n",
      "answer: bedside table\n",
      "common_expl_list: ['Bedside tables are convenient for keeping things, e.g., a book, reading materials, glasses, etc., that you wish to keep near your bed for regular access; particularly things.', 'Bedside tables are where people keep things they use before bed, such as books, glasses, and water.']\n",
      "generated_explanation: <pad> <extra_id_0> Bedside tables are often found in bedrooms and are used to store things like books, magazines, and other items.<extra_id_1> </s>\n",
      "score: 0.8160199522972107\n"
     ]
    },
    {
     "name": "stderr",
     "output_type": "stream",
     "text": [
      "  4%|██████▌                                                                                                                                                               | 39/986 [00:28<00:58, 16.20it/s]"
     ]
    },
    {
     "name": "stdout",
     "output_type": "stream",
     "text": [
      "question: Where could you find multiple ruler that are owned by different people?\n",
      "answer: office\n",
      "common_expl_list: ['When someone works in an office, even if it is part-time or freelance, they may be required to measure distances e.g., in departments or cubicles, and so, offices are a good place to find ruler.', 'Office buildings often have rulers.']\n",
      "generated_explanation: <pad> <extra_id_0> Office supplies are often shared by several people, and it's common for people to have multiple rulers in their offices.<extra_id_1> </s>\n",
      "score: 0.7370136380195618\n"
     ]
    },
    {
     "name": "stderr",
     "output_type": "stream",
     "text": [
      "  4%|███████▏                                                                                                                                                              | 43/986 [00:28<00:54, 17.35it/s]"
     ]
    },
    {
     "name": "stdout",
     "output_type": "stream",
     "text": [
      "question: When a retired person returns to work they likely need to do what?\n",
      "answer: earn money\n",
      "common_expl_list: ['When a person is retired, they probably are not making enough money through a pension benefit to support themselves after retirement, so they work again, perhaps full-time, in order to have enough money.(money key)']\n",
      "generated_explanation: <pad> <extra_id_0> People who are retired often need to earn money, so they may want to consider returning to work to earn money.<extra_id_1> </s>\n",
      "score: 0.7318942546844482\n",
      "question: What can be the result of meeting people with similar attitudes?\n",
      "answer: making new friends\n",
      "common_expl_list: [\"Friends often share some interests and/or attitudes, and when someone meets people with similar attires, that's a good indicator they might be good candidates for becoming friends.\", 'People with similar interests are likely to be friends, or familiars to each other, having many opportunities to meet each other and have things in common to discuss.']\n",
      "generated_explanation: <pad> <extra_id_0> People often make friends because they have common interests, and similar interests can lead to friendships.<extra_id_1> </s>\n",
      "score: 0.7865158915519714\n"
     ]
    },
    {
     "name": "stderr",
     "output_type": "stream",
     "text": [
      "  5%|███████▉                                                                                                                                                              | 47/986 [00:28<00:53, 17.55it/s]"
     ]
    },
    {
     "name": "stdout",
     "output_type": "stream",
     "text": [
      "question: Where is a cord likely to be on a tent?\n",
      "answer: sporting goods store\n",
      "common_expl_list: ['Sporting goods stores likely have tents on display which generally come with their cords.']\n",
      "generated_explanation: <pad> <extra_id_0> Tents often have cords that run along the bottom, and manufacturers include cords in their products.<extra_id_1> </s>\n",
      "score: 0.16214348375797272\n"
     ]
    },
    {
     "name": "stderr",
     "output_type": "stream",
     "text": [
      "  5%|████████▌                                                                                                                                                             | 51/986 [00:28<00:50, 18.56it/s]"
     ]
    },
    {
     "name": "stdout",
     "output_type": "stream",
     "text": [
      "question: John listened to music when he needed to focus.  It helped him achieve what?\n",
      "answer: quiet mind\n",
      "common_expl_list: [\"When one is trying to focus on a task, it's common to listen to music to help one focus.\", 'Music can, at the very least, provide passive background noise as one works to help one focus. More specifically, music might have positive, uplifting or emotional qualities that are conducive to focus and concentration.', \"There's scientific evidence that listening to music can help people think better and concentrate easier.\"]\n",
      "generated_explanation: <pad> <extra_id_0> Music can help you focus, relax, and unwind.<extra_id_1> </s>\n",
      "score: 0.7699832320213318\n",
      "question: If I were to suffer from sudden illness I would be within reason to visit where?\n",
      "answer: hospital\n",
      "common_expl_list: ['If you were suddenly suffering an illness, it would be a reasonable thing to go to the hospital for treatment of that illness.', 'A hospital is a center for treatment and care of those suffering from illness.', 'A hospital is a place where people go to receive treatment for illnesses.', 'Anyone can suffer a sudden illness, but hospitals are where the equipment and personnel exist to deal with sudden illnesses.']\n",
      "generated_explanation: <pad> <extra_id_0> A hospital is a place where people go to recover from sudden illnesses.<extra_id_1> </s>\n",
      "score: 0.7329296469688416\n"
     ]
    },
    {
     "name": "stderr",
     "output_type": "stream",
     "text": [
      "  6%|██████████▎                                                                                                                                                           | 61/986 [00:29<00:49, 18.79it/s]"
     ]
    },
    {
     "name": "stdout",
     "output_type": "stream",
     "text": [
      "question: What will an athlete do to warm up their legs?\n",
      "answer: jog\n",
      "common_expl_list: ['warming up is a routine that is performed to either prepare for doing something new, or prepare for doing something which put strains on you, or which you have been out of practice doing.', 'When athletes warm up before swimming, running, riding a bike, or performing other physical activity, they generally will jog (which will help them loosen muscles in the legs).']\n",
      "generated_explanation: <pad> <extra_id_0> Jogging is a great way to warm up your legs, especially before competing.<extra_id_1> </s>\n",
      "score: 0.7466785311698914\n",
      "question: Where can you keep your binder on your person between periods of instruction?\n",
      "answer: backpack\n",
      "common_expl_list: ['Usually binder users carry their binders from class to class outside of the classroom. Backpacks are often convenient, and are large enough to hold the binder.']\n",
      "generated_explanation: <pad> <extra_id_0> Backpacks are convenient containers for carrying around items like books and binders, and they often have pockets for storing items like binders.<extra_id_1> </s>\n",
      "score: 0.8511800169944763\n"
     ]
    },
    {
     "name": "stderr",
     "output_type": "stream",
     "text": [
      "  7%|███████████▉                                                                                                                                                          | 71/986 [00:29<00:48, 18.96it/s]"
     ]
    },
    {
     "name": "stdout",
     "output_type": "stream",
     "text": [
      "question: What happens when you eat hamburger too fast without swallowing?\n",
      "answer: choking\n",
      "common_expl_list: [\"Choking can occur when you stick stuff in your mouth which can't go down your throat properly, so that you can't breath. Common causes can be eating too fast, or swallowing items that can't go down your throat, like liquids or large\", \"When you eat hamburger too fast, it can quickly turn into the consistency of a block, and when you can't swallow it, it can cause you to choke.\", \"If you eat hamburger too fast, you might choke on it, because it's a solid food that can get stuck in your throat.\", 'Eating too fast can sometimes cause coughing / choking as food get stuck in your throat.']\n",
      "generated_explanation: <pad> <extra_id_0> Choking occurs when food is swallowed too quickly, and the food gets stuck in the throat.<extra_id_1> </s>\n",
      "score: 0.732622504234314\n",
      "question: What does one do at an office?\n",
      "answer: work\n",
      "common_expl_list: ['An office is a specific type of workplace.', 'An office is a place where people work.', 'One does work at the office']\n",
      "generated_explanation: <pad> <extra_id_0> An office is a place where people come together to perform work, such as writing reports or keeping records.<extra_id_1> </s>\n",
      "score: 0.7657077312469482\n"
     ]
    },
    {
     "name": "stderr",
     "output_type": "stream",
     "text": [
      "  8%|████████████▉                                                                                                                                                         | 77/986 [00:30<00:51, 17.74it/s]"
     ]
    },
    {
     "name": "stdout",
     "output_type": "stream",
     "text": [
      "question: Where would you find many tables of silverware rolled into nice displayed napkins?\n",
      "answer: restaurant\n",
      "common_expl_list: ['In a commercial establishment, silverware is expected to be clean because consumption of food is involved. So, a restaurant may well be where someone would expect to find silverware rolled into nice displayed napkins (i.e., fancy silverware).', 'Restaurants often give used, rolled up silverware to customers, and they might keep them in nice, displayed napkins to make moving and storing them easier.', 'Restaurants often have a lot of silverware, and they might roll it up and place it in a napkin to make it easier to store.']\n",
      "generated_explanation: <pad> <extra_id_0> Silverware is often served at restaurants, where the tables are set with nice linens and the silverware is rolled up in napkins.<extra_id_1> </s>\n",
      "score: 0.849494993686676\n",
      "question: Polly didn't know her way around, so she navigated by landmark.  She used statues, stores, and distinctive building.  Where might she be?\n",
      "answer: city\n",
      "common_expl_list: [\"She used distinctive buildings as landmarks, so it is likely she's in a city.\", 'Landmark navigation works best in populated areas because distinctive buildings and statues can be more easily seen.', 'In a city, landmarks are often used to navigate. In the countryside or in national parks, landmarks may not be as distinct, as buildings and statues are less likely to be found.', 'Landmarks are often located in cities, and so if a person was navigating by landmarks, they are likely to be in a city.']\n",
      "generated_explanation: <pad> <extra_id_0> Cities often have landmarks, like statues or buildings, that people can recognize easily.<extra_id_1> </s>\n",
      "score: 0.7496119141578674\n",
      "question: Some horses are white others are black, but many are this color which might lead some people to think their milk would taste like chocolate?\n",
      "answer: brown\n",
      "common_expl_list: [\"An individual brown-colored horse (particularly when cuddly) can resemble the color of chocolate. If a person were to guess based on the color, he might guess a horse's milk tasted similarly.\"]\n",
      "generated_explanation: <pad> <extra_id_0> Brown is a color that is often found in horses.<extra_id_1> </s>\n",
      "score: 0.1614055335521698\n"
     ]
    },
    {
     "name": "stderr",
     "output_type": "stream",
     "text": [
      "  8%|█████████████▉                                                                                                                                                        | 83/986 [00:30<00:49, 18.14it/s]"
     ]
    },
    {
     "name": "stdout",
     "output_type": "stream",
     "text": [
      "question: Where does someone convicted of a petty crime likely spend time?\n",
      "answer: jail\n",
      "common_expl_list: ['Someone convicted of a petty crime is likely to spend time in jail.', 'Someone convicted of a petty crime probably spends some time in jail, and not in prison.']\n",
      "generated_explanation: <pad> <extra_id_0> People who are convicted of petty crimes likely spend time in jail, where they are confined.<extra_id_1> </s>\n",
      "score: 0.7633313536643982\n",
      "question: He would entertain with a pool party regularly, it was the best way to beat the what?\n",
      "answer: hot\n",
      "common_expl_list: ['Pool parties are a great way to beat the heat.']\n",
      "generated_explanation: <pad> <extra_id_0> Pool parties are a great way to cool off in the summer, especially if you live in a warm climate.<extra_id_1> </s>\n",
      "score: 0.7421180009841919\n",
      "question: Where is cheese likely to be dangerous for some creatures?\n",
      "answer: mouse trap\n",
      "common_expl_list: ['cheese has been said to attract mice. Mice traps may contain cheese in order to attract them.']\n",
      "generated_explanation: <pad> <extra_id_0> Cheese is a food that contains a lot of calcium, which is a mineral that is found in large quantities in mammals.<extra_id_1> </s>\n",
      "score: 0.06474892795085907\n"
     ]
    },
    {
     "name": "stderr",
     "output_type": "stream",
     "text": [
      "  9%|██████████████▋                                                                                                                                                       | 87/986 [00:30<00:48, 18.52it/s]"
     ]
    },
    {
     "name": "stdout",
     "output_type": "stream",
     "text": [
      "question: He spent all work day at a computer, so he got a footstool for more comfort at his what?\n",
      "answer: desk\n",
      "common_expl_list: ['A footstool is a small stool that is used to raise the height of a chair or table. If someone spends all day at a computer, they might need a footstool to raise their desk.']\n",
      "generated_explanation: <pad> <extra_id_0> Desks are places where people work at computers, and footstools are a common accessory for desks.<extra_id_1> </s>\n",
      "score: 0.8065491914749146\n"
     ]
    },
    {
     "name": "stderr",
     "output_type": "stream",
     "text": [
      "  9%|███████████████▋                                                                                                                                                      | 93/986 [00:31<00:48, 18.26it/s]"
     ]
    },
    {
     "name": "stdout",
     "output_type": "stream",
     "text": [
      "question: Where can a child get a wagon?\n",
      "answer: toy store\n",
      "common_expl_list: ['Toy stores deal specifically in toys. Wagons are one of a variety of toys.', \"A toy wagon is a child's toy. Toy wagons can be purchased from toy stores.\"]\n",
      "generated_explanation: <pad> <extra_id_0> Toy stores often sell small toys, like wagons, for children.<extra_id_1> </s>\n",
      "score: 0.7937924861907959\n",
      "question: What  is necessary to have when going fishing?\n",
      "answer: fishing rod\n",
      "common_expl_list: ['To go fishing requires a fishing rod.', 'fishing rods are necessary component pieces that are held by fishermen to access and use when fishing']\n",
      "generated_explanation: <pad> <extra_id_0> A fishing rod is a long rod that is used to catch fish, and it is very important to have one when going fishing.<extra_id_1> </s>\n",
      "score: 0.7815124988555908\n"
     ]
    },
    {
     "name": "stderr",
     "output_type": "stream",
     "text": [
      " 10%|████████████████▍                                                                                                                                                     | 98/986 [00:31<00:47, 18.88it/s]"
     ]
    },
    {
     "name": "stdout",
     "output_type": "stream",
     "text": [
      "question: What public celebration sometimes has a horse show?\n",
      "answer: state fair\n",
      "common_expl_list: [\"A state's fair is a public celebration that may include a horse show.\", 'Horse shows are competitions that sometimes occur at public celebrations. Some fairgrounds include horse shows as part of their regularly scheduled events.', 'Horse shows are sometimes included in state fair celebrations, and these fairs frequently are held in public parks.']\n",
      "generated_explanation: <pad> <extra_id_0> State fairs are public celebrations that sometimes have a horse show.<extra_id_1> </s>\n",
      "score: 0.7613064646720886\n",
      "question: What city in a North American Country, that isn't the United States, would you expect to find a good french restaurant?\n",
      "answer: quebec\n",
      "common_expl_list: ['Quebec is a province in Canada, and is known for its french culture.', 'Quebec is the only province that speaks French in North America, and you might expect to find a good french restaurant there.', 'Quebec has a strong french heritage, and the french cuisine is actually quite popular in the United States.', 'Quebec is said to have strong french-culture since it was originally french territory. This would make sense if quebec had a good french restaurant.']\n",
      "generated_explanation: <pad> <extra_id_0> Quebec is a city in Canada. Many French-speaking countries have large French-speaking populations.<extra_id_1> </s>\n",
      "score: 0.7043675184249878\n"
     ]
    },
    {
     "name": "stderr",
     "output_type": "stream",
     "text": [
      " 10%|█████████████████                                                                                                                                                    | 102/986 [00:31<00:46, 18.87it/s]"
     ]
    },
    {
     "name": "stdout",
     "output_type": "stream",
     "text": [
      "question: What container does peanut butter come in?\n",
      "answer: jar\n",
      "common_expl_list: ['Jars can keep food sealed without leaking, and often have lids. Peanut butter is sealed in a jar and could be kept in a house, kitchen, pantry, or cupboard.', 'Peanut butter comes in glass jars, like many other food products.', 'Jars, like those that pickles often come in, are suitable for food items that need to be kept fresh for long time. Jars can be resealed.', 'Jars are often used to store food, and peanut butter is a food.']\n",
      "generated_explanation: <pad> <extra_id_0> Jars are containers that contain liquids, such as peanut butter, and it's common for liquids to spill out of containers, like peanut butter, to leak out.<extra_id_1> </s>\n",
      "score: 0.706454336643219\n",
      "question: Where are plants likely to be handled by a city employee?\n",
      "answer: park\n",
      "common_expl_list: ['A city employee might handle plants while working in a park.', 'Parks are where city employees are likely to handle plants.']\n",
      "generated_explanation: <pad> <extra_id_0> Parks are places where plants are grown, and city employees often handle plants.<extra_id_1> </s>\n",
      "score: 0.7225075960159302\n"
     ]
    },
    {
     "name": "stderr",
     "output_type": "stream",
     "text": [
      " 11%|██████████████████▋                                                                                                                                                  | 112/986 [00:32<00:46, 18.70it/s]"
     ]
    },
    {
     "name": "stdout",
     "output_type": "stream",
     "text": [
      "question: What would happen if you want to win a game?\n",
      "answer: competitiveness\n",
      "common_expl_list: [\"Victory in a game requires one to make a maximum effort, and peoples' desire to win has to be rather competitive.\", 'To win a game, you must be competitive.', 'If you want to win a game, you will try put your best effort to take your chances at winning over those of your opponents.', 'After playing a game, a person would be likely compelled to win the game becasue they want a feeling of satisfaction from winning the game. In order to win, a person would need to be competitive.', 'Competitive athletes would want to win their games, whatever the cost; this desire to win leads to competitiveness and creates the desire to win over even long periods of time; it also often leads to brutal physical play --- such as by causing injuries to opposing r']\n",
      "generated_explanation: <pad> <extra_id_0> Competition in sports is a factor that players often pay attention to, because winning is a prize that can be won.<extra_id_1> </s>\n",
      "score: 0.7261724472045898\n",
      "question: What is a large group of human beings?\n",
      "answer: civilisation\n",
      "common_expl_list: ['Civilisation is generally used to refer to large populations of humans living together in a single area, responding to collective needs.']\n",
      "generated_explanation: <pad> <extra_id_0> Civilisations are large groups of humans that share a common language, culture, or other feature. These people are called a 'civilisation', and they often have a common language.<extra_id_1> </s>\n",
      "score: 0.7479172945022583\n"
     ]
    },
    {
     "name": "stderr",
     "output_type": "stream",
     "text": [
      " 12%|███████████████████▌                                                                                                                                                 | 117/986 [00:32<00:44, 19.39it/s]"
     ]
    },
    {
     "name": "stdout",
     "output_type": "stream",
     "text": [
      "question: Where can travellers pull off the road to stretch their legs?\n",
      "answer: rest area\n",
      "common_expl_list: ['Rest areas are publicly provided spaces for drivers to get out of their cars for a break. Train stations, bus depots, come home, and airports are all places where one might catch a bus, train, taxi, or plane, or have arrived', 'Rest areas generally allow travelers to spend time away from the roads, which are generally connecting points to large cities and particular highway names.', 'Rest areas are places where people can pull off the road to stretch their legs, and they are often located near gas stations, which are frequented by travellers.']\n",
      "generated_explanation: <pad> <extra_id_0> Rest areas are places where drivers can stop to rest and regroup.<extra_id_1> </s>\n",
      "score: 0.7508453130722046\n",
      "question: Where would you buy jeans in a place with a large number of indoor merchants?\n",
      "answer: shopping mall\n",
      "common_expl_list: ['Shopping malls usually contain a large variety of stores, including stores that sell clothes and jeans.', 'Shopping malls often have a large number of stores, including clothing stores.', 'Since malls (or indoor shopping centers in general) contain numerous merchants, including clothing stores, you could purchase jeans in one such store.']\n",
      "generated_explanation: <pad> <extra_id_0> Malls are large buildings with many stores inside. People often shop at malls because they are convenient places to find many different kinds of stores.<extra_id_1> </s>\n",
      "score: 0.7621490359306335\n"
     ]
    },
    {
     "name": "stderr",
     "output_type": "stream",
     "text": [
      " 12%|████████████████████▌                                                                                                                                                | 123/986 [00:32<00:48, 17.85it/s]"
     ]
    },
    {
     "name": "stdout",
     "output_type": "stream",
     "text": [
      "question: If you're expressing yourself in a public forum, what may you experience?\n",
      "answer: stage fright\n",
      "common_expl_list: ['A common example of expressing oneself in public is on stage. Members of an audience may stare and become bored, and at worst they may hiss or boo.', 'If you are expressing yourself in a public forum, you may experience stage fright, which is the fear of being embarrassed in front of a large audience.', 'Stage fright is the feeling of embarrassment or nervousness at the thought of being in front of people, and being on stage for a performance is a good example of a place where one often experiences stage fright. In such a case, their performance might be']\n",
      "generated_explanation: <pad> <extra_id_0> Stage fright is a fear of performing in front of others, especially in front of a large audience, and it can be very scary.<extra_id_1> </s>\n",
      "score: 0.789867639541626\n"
     ]
    },
    {
     "name": "stderr",
     "output_type": "stream",
     "text": [
      " 13%|█████████████████████▌                                                                                                                                               | 129/986 [00:32<00:47, 18.02it/s]"
     ]
    },
    {
     "name": "stdout",
     "output_type": "stream",
     "text": [
      "question: If you are enjoying sunshine on the beach, what do you likely have views of?\n",
      "answer: sea\n",
      "common_expl_list: [\"The beach is a place where people go to enjoy the sun, and so it's likely that the beach would have views of the sea.\", 'Seashores usually have views of the water (i.e., the \"sea\").', 'To sunbathe, one would likely be found on a beach, where one would likely see the sea before anything else.']\n",
      "generated_explanation: <pad> <extra_id_0> The sea is a body of water, and people often enjoy looking at the sea when they are on the beach.<extra_id_1> </s>\n",
      "score: 0.7280454039573669\n",
      "question: Where is a ring binder likely to contain budgets?\n",
      "answer: office\n",
      "common_expl_list: ['A ring binder is likely to contain budgets in an office, as budgets are often prepared by office workers.', 'An office setting is the most likely place where a manager would keep a collection of budgets.']\n",
      "generated_explanation: <pad> <extra_id_0> Ring binders are often used to store documents, such as budgets, in a single location.<extra_id_1> </s>\n",
      "score: 0.7931312918663025\n",
      "question: Where do you go when you're about to board a vehicle on railing?\n",
      "answer: railway station\n",
      "common_expl_list: ['Trains and busses both commonly make use of rail transportation to facilitate their travel. Railway station is the station they are staking out to board at. Thus, railway station is where you would go if you need to board a vehicle on a', 'Railway stations are where you board trains, which are often on rails.']\n",
      "generated_explanation: <pad> <extra_id_0> A railway station is a building where trains and other vehicles are waiting to be boarded.<extra_id_1> </s>\n",
      "score: 0.7374048829078674\n"
     ]
    },
    {
     "name": "stderr",
     "output_type": "stream",
     "text": [
      " 13%|██████████████████████▎                                                                                                                                              | 133/986 [00:33<00:48, 17.52it/s]"
     ]
    },
    {
     "name": "stdout",
     "output_type": "stream",
     "text": [
      "question: They got to the door and it was locked, he reached in his jeans what to retrieve the key?\n",
      "answer: pocket\n",
      "common_expl_list: ['Most people keep house keys in their pocket.', 'People often keep their keys in their pockets.']\n",
      "generated_explanation: <pad> <extra_id_0> Pockets are small spaces in clothing where items can be slipped into, such as keys.<extra_id_1> </s>\n",
      "score: 0.7265385389328003\n",
      "question: Where is likely to have a walk in type wardrobe?\n",
      "answer: mansion\n",
      "common_expl_list: ['As I think of scenarios, the result I expect the most is that of a person with a lot of clothes, or a clothing designer, living in a mansion; these people might have the luxury of a walk in wardrobe.', 'A walk-in wardrobe is a large wardrobe that is usually found in a mansion.', 'A walk in wardrobe is a large type of closet that could be found in a mansion.']\n",
      "generated_explanation: <pad> <extra_id_0> Walk-in wardrobes are common in mansions, where there is usually plenty of room for them.<extra_id_1> </s>\n",
      "score: 0.7311890721321106\n"
     ]
    },
    {
     "name": "stderr",
     "output_type": "stream",
     "text": [
      " 15%|███████████████████████▉                                                                                                                                             | 143/986 [00:33<00:44, 18.85it/s]"
     ]
    },
    {
     "name": "stdout",
     "output_type": "stream",
     "text": [
      "question: What is important for a couple to do?\n",
      "answer: communicate\n",
      "common_expl_list: [\"To make a relationship work, it's very important to communicate with each other.\", 'Couples who communicate well are more likely to stay together, and thus, it is important for a couple to communicate.', 'Communication is a key part of a healthy relationship and - often equally as important - is the commitment to communicate effectively.']\n",
      "generated_explanation: <pad> <extra_id_0> Communication is very important in a relationship.<extra_id_1> </s>\n",
      "score: 0.7419518232345581\n",
      "question: What is it called when teens are together not doing anything in particular?\n",
      "answer: hang out\n",
      "common_expl_list: ['Hanging out\" is used to describe events where people are socializing, doing nothing in particular. Other events include hanging out with a purpose (doing homework, studying outside, going shopping, etc.).', 'Hang out is a term that could be used for teens hanging out together, typically with no particular agenda.']\n",
      "generated_explanation: <pad> <extra_id_0> Teenagers often hang out when they are together, not doing anything, just hanging out.<extra_id_1> </s>\n",
      "score: 0.7348951697349548\n"
     ]
    },
    {
     "name": "stderr",
     "output_type": "stream",
     "text": [
      " 15%|████████████████████████▌                                                                                                                                            | 147/986 [00:33<00:44, 18.99it/s]"
     ]
    },
    {
     "name": "stdout",
     "output_type": "stream",
     "text": [
      "question: Where will my kid put their coin in their room?\n",
      "answer: piggy bank\n",
      "common_expl_list: ['Piggy banks are often used to store coins.', 'Kids commonly save small amounts of money for later use, and these savings are often kept in piggy banks.']\n",
      "generated_explanation: <pad> <extra_id_0> Piggy banks are containers that hold coins, and kids often keep coins in them.<extra_id_1> </s>\n",
      "score: 0.766596794128418\n"
     ]
    },
    {
     "name": "stderr",
     "output_type": "stream",
     "text": [
      " 15%|█████████████████████████▎                                                                                                                                           | 151/986 [00:34<00:44, 18.87it/s]"
     ]
    },
    {
     "name": "stdout",
     "output_type": "stream",
     "text": [
      "question: If you're going to a party in an alley, what is likely to happen?\n",
      "answer: doing drugs\n",
      "common_expl_list: ['Alleys are associated with crime; and, people performing illegal drugs at a party is illegal.', 'People often do drugs at parties, and alleys are often used for parties.', 'People going to parties in an alley are often going to do drugs and vice.']\n",
      "generated_explanation: <pad> <extra_id_0> Drug parties are often held in alleys, and people who are high on drugs will often go to parties in alleys to do drugs, because it's easier to get drugs in an alley than in a public place.<extra_id_1> </s>\n",
      "score: 0.7343075275421143\n",
      "question: Where is basketball court likely to be outdoors?\n",
      "answer: city\n",
      "common_expl_list: ['Most American cities have basketball courts in public parks.', 'Basketball courts are often found in city parks.', 'Basketball courts are often urban.', 'Basketball courts are likely to be at parks and recreational centers in cities.']\n",
      "generated_explanation: <pad> <extra_id_0> Basketball courts are often located outdoors, in parks or other open spaces.<extra_id_1> </s>\n",
      "score: 0.8078004717826843\n"
     ]
    },
    {
     "name": "stderr",
     "output_type": "stream",
     "text": [
      " 16%|█████████████████████████▉                                                                                                                                           | 155/986 [00:34<00:45, 18.16it/s]"
     ]
    },
    {
     "name": "stdout",
     "output_type": "stream",
     "text": [
      "question: Where could you put some knives if you are planning to bring them outside with you?\n",
      "answer: backpack\n",
      "common_expl_list: [\"To carry knives on one's person, you need some small type of container to hold the knives. Perhaps the most likely place to carry a small container is a backpack.\", \"Knives are usually brought along if hiking, camping, fishing, or other outings, and backpacks make it easy to transport one's belongings.\"]\n",
      "generated_explanation: <pad> <extra_id_0> Backpacks are great for carrying around small items, like knives, and they often have pockets where you can put things like coins or keys.<extra_id_1> </s>\n",
      "score: 0.8331301212310791\n",
      "question: He was serious and pragmatic, so why did he drive his car?\n",
      "answer: transportation\n",
      "common_expl_list: ['Because driving is the most practical mode of transportation judging by the time and distance required to do so.', 'People often drive cars to get from one place to another.']\n",
      "generated_explanation: <pad> <extra_id_0> Cars are convenient because they allow people to get around easily, and driving is convenient because it allows people to get from one place to another.<extra_id_1> </s>\n",
      "score: 0.7550069093704224\n"
     ]
    },
    {
     "name": "stderr",
     "output_type": "stream",
     "text": [
      " 16%|██████████████████████████▌                                                                                                                                          | 159/986 [00:34<00:44, 18.45it/s]"
     ]
    },
    {
     "name": "stdout",
     "output_type": "stream",
     "text": [
      "question: What does god want people to do for money?\n",
      "answer: work in life\n",
      "common_expl_list: ['The scriptures explain that people should acquire money by providing good products or services, e.g., to bring value to other people and make a living.']\n",
      "generated_explanation: <pad> <extra_id_0> Work in life is a way to earn money, and God wants people to work.<extra_id_1> </s>\n",
      "score: 0.7176262140274048\n"
     ]
    },
    {
     "name": "stderr",
     "output_type": "stream",
     "text": [
      " 17%|███████████████████████████▌                                                                                                                                         | 165/986 [00:34<00:43, 18.98it/s]"
     ]
    },
    {
     "name": "stdout",
     "output_type": "stream",
     "text": [
      "question: Where can you find a bar before traveling a long distance?\n",
      "answer: airport\n",
      "common_expl_list: ['Bars are often located in airports, and so if a person was traveling a long distance, they might stop at an airport bar.']\n",
      "generated_explanation: <pad> <extra_id_0> Airports often have bars where people can relax before taking off on a long trip.<extra_id_1> </s>\n",
      "score: 0.7333828210830688\n",
      "question: Where might a small ball be bounced from?\n",
      "answer: child's hand\n",
      "common_expl_list: ['A ball much like a toy, and kids often play with them on the streets and sidewalks.', 'Since children enjoy bouncing balls, and they are also relatively small, they would bounce a ball from their hand.']\n",
      "generated_explanation: <pad> <extra_id_0> A child's hand is a good place to bounce a ball, because a child's hand is a very flexible joint.<extra_id_1> </s>\n",
      "score: 0.7264962196350098\n",
      "question: He enjoyed reading newspaper, he consider what a subscription?\n",
      "answer: buying\n",
      "common_expl_list: ['Buying a subscription to a newspaper is a way to get the newspaper delivered to your home.']\n",
      "generated_explanation: <pad> <extra_id_0> Newspapers are often sold in subscriptions, with the buyer paying a monthly or annual fee to receive the paper.<extra_id_1> </s>\n",
      "score: 0.72944176197052\n"
     ]
    },
    {
     "name": "stderr",
     "output_type": "stream",
     "text": [
      " 17%|████████████████████████████▎                                                                                                                                        | 169/986 [00:35<00:43, 18.93it/s]"
     ]
    },
    {
     "name": "stdout",
     "output_type": "stream",
     "text": [
      "question: What entity would have a fire extinguisher in their boardroom?\n",
      "answer: most businesses\n",
      "common_expl_list: ['Most businesses would have a fire extinguisher in their boardroom, because they are likely to have a fire in their boardroom.']\n",
      "generated_explanation: <pad> <extra_id_0> Fire extinguishers are used to put out fires, and businesses often have boardrooms where people congregate in large groups.<extra_id_1> </s>\n",
      "score: 0.7262907028198242\n",
      "question: Where can someone go and buy cheese?\n",
      "answer: market\n",
      "common_expl_list: ['Cheese is a dairy product and can be purchased at markets, for the most part.', 'Cheese is sold at markets.']\n",
      "generated_explanation: <pad> <extra_id_0> Markets are places where people go to buy things, like cheese, that are for sale. People go to markets to buy things, like cheese, because markets are places where people can go to exchange goods.<extra_id_1> </s>\n",
      "score: 0.8086430430412292\n",
      "question: Where would you carry food while on a long walk in the countryside?\n",
      "answer: backpack\n",
      "common_expl_list: [\"Because backpacks are designed to be carried on one's back, they are the most convenient way to carry food while on a long walk.\", 'Instead of carrying a jar or container, filling your backpack with food might not disrupt your movements as much when you are walking.']\n",
      "generated_explanation: <pad> <extra_id_0> Backpacks are designed to carry things like food, water, and other supplies on long hikes.<extra_id_1> </s>\n",
      "score: 0.7589201927185059\n",
      "question: What could a driver do that could distract him or her while he or she is in a driving car?\n",
      "answer: smoke\n",
      "common_expl_list: ['It can be tricky to smoke and concentrate on driving at the same time, and research has found that smoking in a car with children present is very dangerous.', 'Smoking is a common activity that people do while driving, and it could distract them from driving.']\n",
      "generated_explanation: <pad> <extra_id_0> Smoke is a common distraction for drivers, especially while driving.<extra_id_1> </s>\n",
      "score: 0.7498080730438232\n"
     ]
    },
    {
     "name": "stderr",
     "output_type": "stream",
     "text": [
      " 18%|█████████████████████████████▎                                                                                                                                       | 175/986 [00:35<00:43, 18.62it/s]"
     ]
    },
    {
     "name": "stdout",
     "output_type": "stream",
     "text": [
      "question: where did many colonial kingdoms originate?\n",
      "answer: europe\n",
      "common_expl_list: ['Colonies and kingdoms often originate in the mother countries of the colonial or kingdom builders, e.g., entities in the United Kingdom and the Netherlands.', 'Many colonial kingdoms in the past can be traced all the way back to their roots in Europe.']\n",
      "generated_explanation: <pad> <extra_id_0> Many colonial kingdoms originated in europe, a continent with many countries.<extra_id_1> </s>\n",
      "score: 0.7702946662902832\n",
      "question: Where can a television be stored and hidden?\n",
      "answer: cabinet\n",
      "common_expl_list: ['A cabinet is a piece of furniture that is used to store items, and televisions are large, and thus, can be stored in cabinets.', 'A television can be stored inside a cabinet.']\n",
      "generated_explanation: <pad> <extra_id_0> A television can be stored in a cabinet, which is a roomy, enclosed space where items can be hidden.<extra_id_1> </s>\n",
      "score: 0.797191858291626\n"
     ]
    },
    {
     "name": "stderr",
     "output_type": "stream",
     "text": [
      " 18%|█████████████████████████████▉                                                                                                                                       | 179/986 [00:35<00:43, 18.47it/s]"
     ]
    },
    {
     "name": "stdout",
     "output_type": "stream",
     "text": [
      "question: Where is a good place to store a saw?\n",
      "answer: toolbox\n",
      "common_expl_list: ['A toolbox is a container for tools, and a saw is a tool.', 'One might likely store a saw in a box with other tools.']\n",
      "generated_explanation: <pad> <extra_id_0> A toolbox is a container for storing tools, and a saw is often stored in a toolbox.<extra_id_1> </s>\n",
      "score: 0.8077906370162964\n",
      "question: The dime store was full of old donated goods, it reminded the customer of the what?\n",
      "answer: past\n",
      "common_expl_list: ['Dime stores were more popular years ago than today. The sight of the old goods reminded the person of the past.']\n",
      "generated_explanation: <pad> <extra_id_0> Dime stores often sell donated goods, and customers often find it appealing to browse through the aisles of old goods.<extra_id_1> </s>\n",
      "score: 0.7304490208625793\n"
     ]
    },
    {
     "name": "stderr",
     "output_type": "stream",
     "text": [
      " 19%|██████████████████████████████▌                                                                                                                                      | 183/986 [00:35<00:43, 18.36it/s]"
     ]
    },
    {
     "name": "stdout",
     "output_type": "stream",
     "text": [
      "question: A person might wear his yarmulke when going to where?\n",
      "answer: synagogue\n",
      "common_expl_list: ['Synagogue is a place commonly visited by religious Jews. Men wear yarmulkes (skullcaps) because faith requires that they uncover their heads when going before God.']\n",
      "generated_explanation: <pad> <extra_id_0> A yarmulke is a head covering that Jews wear to synagogues, where Jews pray.<extra_id_1> </s>\n",
      "score: 0.7642395496368408\n",
      "question: Someone takes up exercising to improve their what\n",
      "answer: physical fitness\n",
      "common_expl_list: ['Exercising helps people build their physical fitness.', 'Exercising is a way to improve physical fitness.', 'Typically people are motivated to exercise in order to become fit.']\n",
      "generated_explanation: <pad> <extra_id_0> Physical fitness is the state of being physically fit, and being physically fit means being able to move around freely without pain. People who exercise regularly tend to be healthier, and so they may be more likely to be in better physical shape.<extra_id_1> </s>\n",
      "score: 0.7129448056221008\n"
     ]
    },
    {
     "name": "stderr",
     "output_type": "stream",
     "text": [
      " 20%|████████████████████████████████▋                                                                                                                                    | 195/986 [00:36<00:42, 18.49it/s]"
     ]
    },
    {
     "name": "stdout",
     "output_type": "stream",
     "text": [
      "question: Where is the sky fake?\n",
      "answer: planetarium\n",
      "common_expl_list: ['Planetariums are buildings that simulate the sky.', 'Planetariums are places built to simulate the sky indoors; the opposite of outdoors.']\n",
      "generated_explanation: <pad> <extra_id_0> Planetariums are places where the sky is simulated, so a planetarium will often show you a fake sky.<extra_id_1> </s>\n",
      "score: 0.7012763023376465\n",
      "question: There are usually four strings on what popular instrument?\n",
      "answer: guitar\n",
      "common_expl_list: ['Guitars have four strings.', 'A guitar is a stringed instrument with four strings.']\n",
      "generated_explanation: <pad> <extra_id_0> Guitars are stringed instruments, and a stringed instrument has four strings.<extra_id_1> </s>\n",
      "score: 0.7020318508148193\n"
     ]
    },
    {
     "name": "stderr",
     "output_type": "stream",
     "text": [
      " 20%|█████████████████████████████████▎                                                                                                                                   | 199/986 [00:36<00:41, 18.81it/s]"
     ]
    },
    {
     "name": "stdout",
     "output_type": "stream",
     "text": [
      "question: Where would you find a shelf with toys for young people learning?\n",
      "answer: school building\n",
      "common_expl_list: ['School buildings house school libraries, in which you would find shelfs of toys, games and puzzle for students to use while in school.', 'A school building is a place where children learn, and so, a school building would have a shelf with toys for young people learning.']\n",
      "generated_explanation: <pad> <extra_id_0> Schools are places where children learn, and shelves in school buildings often contain toys that help teach important lessons.<extra_id_1> </s>\n",
      "score: 0.8409003019332886\n",
      "question: What can you get after drinking too much alcohol?\n",
      "answer: sickness\n",
      "common_expl_list: ['Alcohol is a diuretic, which means that it makes you urinate more frequently. This can lead to dehydration, which can cause sickness.', \"Drinking too much alchohol can impair the body and, consequently, one's ability to think straight. It can also cause sickness.\", \"Alcohol (e.g., beer, wine, etc.) is a chemical that alters people's consciousness, making them generally feel unpleasant; subsequently, over-consumption can lead to the vomiting of one's content inside one's stomach. Hence, being\"]\n",
      "generated_explanation: <pad> <extra_id_0> Alcohol is a poisonous substance. Drinking too much of it can cause sickness, which can lead to death.<extra_id_1> </s>\n",
      "score: 0.7250375151634216\n"
     ]
    },
    {
     "name": "stderr",
     "output_type": "stream",
     "text": [
      " 21%|█████████████████████████████████▉                                                                                                                                   | 203/986 [00:36<00:41, 18.92it/s]"
     ]
    },
    {
     "name": "stdout",
     "output_type": "stream",
     "text": [
      "question: If you rent a condominium in a glove-shaped state where are you?\n",
      "answer: michigan\n",
      "common_expl_list: ['A condominium is a type of housing that is often rented. Condominiums are often located in complexes, and Michigan is a state that is shaped like a mitten.']\n",
      "generated_explanation: <pad> <extra_id_0> Michigan is a glove-shaped state, and condos there are shaped like gloves.<extra_id_1> </s>\n",
      "score: 0.714584231376648\n",
      "question: where do children play a game?\n",
      "answer: family room\n",
      "common_expl_list: ['A family room is a room in many homes in which families can socialize, often through games. One such game is \"connect four.', 'A family room is a room in a house where family members can play games.']\n",
      "generated_explanation: <pad> <extra_id_0> Family rooms are often places where children play games, such as chess, and other board games. Children can play games in family rooms, which are often larger than other rooms in the house.<extra_id_1> </s>\n",
      "score: 0.7876275181770325\n",
      "question: Where would have a specialty hair salon for guests?\n",
      "answer: hotel\n",
      "common_expl_list: ['Guests of a hotel, resort, resort, etc. would want to pamper themselves.']\n",
      "generated_explanation: <pad> <extra_id_0> Hair salons are common in hotels, and a hotel may have a specialty hair salon for its guests.<extra_id_1> </s>\n",
      "score: 0.8261355757713318\n"
     ]
    },
    {
     "name": "stderr",
     "output_type": "stream",
     "text": [
      " 21%|██████████████████████████████████▋                                                                                                                                  | 207/986 [00:37<00:41, 18.73it/s]"
     ]
    },
    {
     "name": "stdout",
     "output_type": "stream",
     "text": [
      "question: The best place for the troublemaker to sneak a smoke while he was in where, was in the bathroom?\n",
      "answer: school\n",
      "common_expl_list: ['The best place for the troublemaker to sneak a smoke could be in the bathroom because there tend to be few other people in the bathroom because it does not generally have lines, even during times when other parts of the school would have lots of traffic.']\n",
      "generated_explanation: <pad> <extra_id_0> Bathrooms are a common place for students to smoke, so if you want to sneak cigarettes into school, a good place to do it is in the bathroom.<extra_id_1> </s>\n",
      "score: 0.7158818244934082\n",
      "question: What is a person using their whole body for work likely to complain of?\n",
      "answer: sore muscles\n",
      "common_expl_list: ['In order to lift heavy cargoes one must use their whole body. Muscles are strained when something is very heavy and repetitive, such as when one is lifting crates regularly. Muscles tend to become sore until adjusted.', 'People who use their whole body to work are likely to develop sore muscles.']\n",
      "generated_explanation: <pad> <extra_id_0> People who work in occupations that require them to use their whole bodies often complain of sore muscles. This is because their bodies are constantly working, and using them causes them to use muscles.<extra_id_1> </s>\n",
      "score: 0.8180235624313354\n"
     ]
    },
    {
     "name": "stderr",
     "output_type": "stream",
     "text": [
      " 21%|███████████████████████████████████▎                                                                                                                                 | 211/986 [00:37<00:41, 18.81it/s]"
     ]
    },
    {
     "name": "stdout",
     "output_type": "stream",
     "text": [
      "question: What is likely heard by those going to a party?\n",
      "answer: laughter\n",
      "common_expl_list: ['Parties are likely a place where people will laugh, and laughter is commonly heard at parties.', 'Parties are often a place where people laugh and have a good time.', 'Typically parties involve lots of laughter, especially in the commen room, where people will let go of their worries and have a fun time, by laughing.']\n",
      "generated_explanation: <pad> <extra_id_0> Laughter is a common sound at parties, and people often laugh when they are having fun.<extra_id_1> </s>\n",
      "score: 0.8043195605278015\n",
      "question: What is something that happens when you are learning about science?\n",
      "answer: increased knowledge\n",
      "common_expl_list: ['When someone learns about science, their knowledge of the subject should increase, although inevitably the process of learning may involve some challenges.', 'Science learning involves gaining new scientific knowledge.', 'Learning about science often makes the student more knowledgeable about the subject, causing their newfound understanding to expand.']\n",
      "generated_explanation: <pad> <extra_id_0> Science is a branch of knowledge that deals with subjects that are interesting to people. People are always interested in new things, and learning new things can lead to increased knowledge.<extra_id_1> </s>\n",
      "score: 0.76567143201828\n",
      "question: Where would a woman store a train ticket on her person?\n",
      "answer: purse\n",
      "common_expl_list: ['A purse is something a woman can carry around with her.', 'A woman would keep the ticket she purchased from a train conductor in her purse. The ticket is small enough to fit in a small purse.']\n",
      "generated_explanation: <pad> <extra_id_0> A purse is a small bag that can hold small items, like a train ticket.<extra_id_1> </s>\n",
      "score: 0.7661086320877075\n"
     ]
    },
    {
     "name": "stderr",
     "output_type": "stream",
     "text": [
      " 22%|███████████████████████████████████▉                                                                                                                                 | 215/986 [00:37<00:40, 18.91it/s]"
     ]
    },
    {
     "name": "stdout",
     "output_type": "stream",
     "text": [
      "question: Where does a hat go when you wear it?\n",
      "answer: head\n",
      "common_expl_list: [\"Hats most often sit on top of people's heads.\", 'Hats are worn on the head.', 'Hats are worn on the head.']\n",
      "generated_explanation: <pad> <extra_id_0> Hats are worn on heads, and people usually wear them on their heads.<extra_id_1> </s>\n",
      "score: 0.7370534539222717\n",
      "question: Where would a business man keep a plane ticket with other documents?\n",
      "answer: briefcase\n",
      "common_expl_list: [\"Business men often also travel frequently, hence they'll often put plane tickets and other travel documents in their briefcases.\", 'A business man would keep a plane ticket inside of his briefcase.', 'Business men often carry briefcases, which are used to carry documents.']\n",
      "generated_explanation: <pad> <extra_id_0> A briefcase is a small bag that holds documents, such as a plane ticket, in one place.<extra_id_1> </s>\n",
      "score: 0.7389407753944397\n"
     ]
    },
    {
     "name": "stderr",
     "output_type": "stream",
     "text": [
      " 22%|████████████████████████████████████▉                                                                                                                                | 221/986 [00:37<00:40, 18.86it/s]"
     ]
    },
    {
     "name": "stdout",
     "output_type": "stream",
     "text": [
      "question: When someone is watching a film like Saw, what are they likely experiencing?\n",
      "answer: fear\n",
      "common_expl_list: ['Saw is a horror film, and people who watch horror films often experience fear.', 'Horror films would put the viewers through emotional transitition, ultimately frightening them.', 'Saw is a horror movie, and thus one might be hard to watch, and after watching such a film, you might find yourself feeling afraid.', 'Saw is a horror film with such unpleasant content, that it could make someone fear after witnessing it.']\n",
      "generated_explanation: <pad> <extra_id_0> Films like Saw are often about fear, and viewers are likely to experience fear while watching them.<extra_id_1> </s>\n",
      "score: 0.797657310962677\n",
      "question: If a person wants to hear music in their car, what can they do?\n",
      "answer: listen to radio\n",
      "common_expl_list: ['People with cars can listen to music on the radio.', 'Listening to the radio is a common way to listen to music in a car.', 'The radio is something in a car that people can use to play music.', 'Listening to the radio is often the way for people to hear music while in their cars.']\n",
      "generated_explanation: <pad> <extra_id_0> Radios play music, and people often listen to them in their cars.<extra_id_1> </s>\n",
      "score: 0.8163893818855286\n",
      "question: Wanting to listen to the radio, what did the man do to it?\n",
      "answer: turn on\n",
      "common_expl_list: ['Turning on a radio is done to listen to the radio.', 'One typically puts a radio into an \"on\" state to be able to listen to it.', 'If the radio was turned off, the man would have to turn it on to listen to it.']\n",
      "generated_explanation: <pad> <extra_id_0> Radios are designed to play music, and people often listen to music on them, so people will often turn them on when they want to listen to music.<extra_id_1> </s>\n",
      "score: 0.7822903394699097\n"
     ]
    },
    {
     "name": "stderr",
     "output_type": "stream",
     "text": [
      " 23%|█████████████████████████████████████▉                                                                                                                               | 227/986 [00:38<00:40, 18.86it/s]"
     ]
    },
    {
     "name": "stdout",
     "output_type": "stream",
     "text": [
      "question: What does a long session of procreating cause?\n",
      "answer: exhaustion\n",
      "common_expl_list: ['Having children is a long process, and it is physically demanding.', 'If procreating spans multiple days and/or attempts, people will tire out from expending so much physical energy and waiting for their bodies to recover afterwards.', 'we can assume procreating can be tiresome, because taking care of young children requires a lot of energy.']\n",
      "generated_explanation: <pad> <extra_id_0> Procreation is a sexual activity, and being sexually active can exhaust a person.<extra_id_1> </s>\n",
      "score: 0.7133524417877197\n",
      "question: Despite this name out front you will also find beer and wine where too?\n",
      "answer: liquor store\n",
      "common_expl_list: ['Liquor shops are stores that specialize in the sale of alcoholic drinks. This drinks can be malt, wine, beer, etc.', 'Beer and wine are sold at liquor stores, however, various other alcoholic products are sold at them as well.', 'Liquor stores often sell beer and wine, as well as hard liquor.']\n",
      "generated_explanation: <pad> <extra_id_0> Liquor stores sell a variety of alcoholic beverages, including beer and wine.<extra_id_1> </s>\n",
      "score: 0.7348682880401611\n",
      "question: The aorta is the main artery in what area of the body?\n",
      "answer: torso\n",
      "common_expl_list: ['Leaving the heart, the aorta travels through the abdomen and branches into arteries that supply the limbs.', 'The aorta is the main artery in the torso, which is the main part of the body.']\n",
      "generated_explanation: <pad> <extra_id_0> The aorta is an artery in the torso, which is the main part of the body.<extra_id_1> </s>\n",
      "score: 0.7920050024986267\n"
     ]
    },
    {
     "name": "stderr",
     "output_type": "stream",
     "text": [
      " 23%|██████████████████████████████████████▋                                                                                                                              | 231/986 [00:38<00:39, 19.16it/s]"
     ]
    },
    {
     "name": "stdout",
     "output_type": "stream",
     "text": [
      "question: Where can you find pamphlets regarding diseases and ailments?\n",
      "answer: health department\n",
      "common_expl_list: ['If someone is looking for information about a disease, the health department is a good place to find more information on the disease and the current state of research regarding it.', 'If you have a disease and need a pamphlet to educate yourself about it, you will often find them available from health department officials, who study diseases.']\n",
      "generated_explanation: <pad> <extra_id_0> Public health departments often publish information about diseases and ailments, including pamphlets.<extra_id_1> </s>\n",
      "score: 0.8338149785995483\n",
      "question: Where might a t-shirt be kept?\n",
      "answer: drawer\n",
      "common_expl_list: ['T-shirts are thin and folded up, so they can be stored in a drawer, where clothes are typically kept.', 'T-shirts are often kept in drawers, as they are small and can be folded up quite small.']\n",
      "generated_explanation: <pad> <extra_id_0> Drawers are often used to store items, such as clothes, in a more organized manner.<extra_id_1> </s>\n",
      "score: 0.8184806704521179\n"
     ]
    },
    {
     "name": "stderr",
     "output_type": "stream",
     "text": [
      " 24%|███████████████████████████████████████▎                                                                                                                             | 235/986 [00:38<00:39, 19.00it/s]"
     ]
    },
    {
     "name": "stdout",
     "output_type": "stream",
     "text": [
      "question: He though that a teakettle would be a good souvenir from his trip to merry old what?\n",
      "answer: england\n",
      "common_expl_list: ['Teakettles are often used in england, and are often used to make tea.']\n",
      "generated_explanation: <pad> <extra_id_0> Tea is a popular drink in England, and many people like to bring home souvenirs from their travels there.<extra_id_1> </s>\n",
      "score: 0.7234304547309875\n",
      "question: James went to outer space for the first time.  He packed everything, including his peanut butter, into a single object.  Where might his things be?\n",
      "answer: suitcase\n",
      "common_expl_list: ['Suitcases are mobile boxes used to carry possessions.', 'Suitcases are specifically designed to store many things into a compact area.', 'A suitcase is a container that can be used to store clothes and other items.']\n",
      "generated_explanation: <pad> <extra_id_0> Suitcases are small, lightweight objects that can hold a lot of things.<extra_id_1> </s>\n",
      "score: 0.7290318012237549\n"
     ]
    },
    {
     "name": "stderr",
     "output_type": "stream",
     "text": [
      " 24%|████████████████████████████████████████▎                                                                                                                            | 241/986 [00:38<00:37, 19.69it/s]"
     ]
    },
    {
     "name": "stdout",
     "output_type": "stream",
     "text": [
      "question: Where would you get a mailbox if you do not have one?\n",
      "answer: hardware store\n",
      "common_expl_list: ['Mailboxes are commonly sold at hardware stores.']\n",
      "generated_explanation: <pad> <extra_id_0> Hardware stores often sell items like mailboxes, so you might be able to find one at a hardware store.<extra_id_1> </s>\n",
      "score: 0.7519060969352722\n",
      "question: What would you use if you wanted to play music?\n",
      "answer: cassettes\n",
      "common_expl_list: ['A cassette would contained recorded music.', 'Cassettes used to be used for listening to music; today they are often still used for recording music, and so they could be used to record music.', 'Cassettes are often used to play music.']\n",
      "generated_explanation: <pad> <extra_id_0> Cassettes are small, round discs that contain music.<extra_id_1> </s>\n",
      "score: 0.7514607310295105\n"
     ]
    },
    {
     "name": "stderr",
     "output_type": "stream",
     "text": [
      " 25%|█████████████████████████████████████████▌                                                                                                                           | 248/986 [00:39<00:37, 19.66it/s]"
     ]
    },
    {
     "name": "stdout",
     "output_type": "stream",
     "text": [
      "question: The trainer told him to keep doing the same exercise, he said he had to keep doing it until he what?\n",
      "answer: get tired\n",
      "common_expl_list: [\"Once you get tired, the exercise should be taken a break; if you continue doing the exercise, you'll become exhausted, and potentially sick if you do not replenish your energy stores by eating or sleeping.\", 'A person who must do an exercise will stop only when they become so tired that they cannot continue.', 'To get tired you generally need do some type of activity, such as exercise, where your muscles tire.']\n",
      "generated_explanation: <pad> <extra_id_0> Exercise is a type of exercise in which you repeatedly do the same thing until you get tired.<extra_id_1> </s>\n",
      "score: 0.7301638126373291\n",
      "question: Where is not known for apple trees?\n",
      "answer: wisconsin\n",
      "common_expl_list: ['Wisconsin is well known for being flat, with farmland (which it has a lot of) and little wooded area. It has little apple tree growth.']\n",
      "generated_explanation: <pad> <extra_id_0> Apple trees are a type of tree that are native to the United States.<extra_id_1> </s>\n",
      "score: 0.15200190246105194\n",
      "question: Where would you keep paper files you're currently working on?\n",
      "answer: desk\n",
      "common_expl_list: ['Altough there are several possible answers for this question, they are not all plausible. Only the desk is something which is often found in houses or offices and constantly used for day-to-day work. Unlike drawers and harddisks, it', \"If a person is working on a paper file, they might want to keep it in the same room where they're primarily using their computer. This is likely to be in the person's office or cubicle, on the person's desk.\"]\n",
      "generated_explanation: <pad> <extra_id_0> Desks are where people usually work, so they're a good place to keep files.<extra_id_1> </s>\n",
      "score: 0.8034989237785339\n",
      "question: A hurricane can create what when it plows through a city?\n",
      "answer: disaster\n",
      "common_expl_list: ['A hurricane can result in devastation for a city.', 'A hurricane is a massive storm that can plow through a city, bringing with it destruction that can spread to areas outside the city.', 'A hurricane is a type of storm that can cause a lot of destruction.']\n",
      "generated_explanation: <pad> <extra_id_0> Hurricanes are powerful storms that can wreak havoc on cities.<extra_id_1> </s>\n",
      "score: 0.7673419713973999\n"
     ]
    },
    {
     "name": "stderr",
     "output_type": "stream",
     "text": [
      " 26%|██████████████████████████████████████████▌                                                                                                                          | 254/986 [00:39<00:37, 19.32it/s]"
     ]
    },
    {
     "name": "stdout",
     "output_type": "stream",
     "text": [
      "question: While getting drunk the body can only process so much at a time, go too fast and your belly might just make you what?\n",
      "answer: throw up\n",
      "common_expl_list: [\"When very drunk it's common for someone to throw up.\", 'When people drink too much, they often throw up.', 'The body processes alcohol one drink at a time. If someone drinks too quickly, they may vomit. If someone drinks too fast for their body to process the alcohol, they will throw up or even pass out.', \"With binge drinking it's possible to process too much alcohol at once, much like drugs. The stomach can only process so much in a short time frame. Vomiting is the main way to avoid health problems, if vomiting is not resulting in death\"]\n",
      "generated_explanation: <pad> <extra_id_0> Drinking too much alcohol can cause your body to overprocess food, causing you to throw up.<extra_id_1> </s>\n",
      "score: 0.7271432280540466\n",
      "question: Where is a tabby cat likely to be happiest?\n",
      "answer: lap\n",
      "common_expl_list: ['Tabby cats find pleasure in being in the laps of humans, as they are often docile creatures.']\n",
      "generated_explanation: <pad> <extra_id_0> Tabby cats are very affectionate cats. They like to curl up on laps, which makes them happy.<extra_id_1> </s>\n",
      "score: 0.793306827545166\n",
      "question: Janet likes dancing.   The swaying and the music gives her a feeling of what?\n",
      "answer: euphoria\n",
      "common_expl_list: ['The movement and repetitive rhythm of dancing can encourage a sensation of euphoria.', 'Janet likes dancing, and so she feels euphoric when she dances.']\n",
      "generated_explanation: <pad> <extra_id_0> Dancing can make you feel good, and euphoria is a good feeling.<extra_id_1> </s>\n",
      "score: 0.7111254930496216\n"
     ]
    },
    {
     "name": "stderr",
     "output_type": "stream",
     "text": [
      " 26%|███████████████████████████████████████████▌                                                                                                                         | 260/986 [00:39<00:37, 19.23it/s]"
     ]
    },
    {
     "name": "stdout",
     "output_type": "stream",
     "text": [
      "question: What is often the function of ice?\n",
      "answer: cool drink\n",
      "common_expl_list: ['Ice can be used to cool drinks.', 'Ice is often used to cool drinks.']\n",
      "generated_explanation: <pad> <extra_id_0> Drinks often contain ice, which helps to cool down drinks.<extra_id_1> </s>\n",
      "score: 0.754700779914856\n",
      "question: A person who is constantly grooming is try to preserve their what?\n",
      "answer: beauty\n",
      "common_expl_list: ['if a person is constantly grooming themselves, it may be for aesthetic reasons so as to look as pretty as they can.', 'People who are constantly grooming are likely trying to preserve their appearance, which is a sign of beauty.']\n",
      "generated_explanation: <pad> <extra_id_0> People who are constantly grooming try to preserve their beauty, and grooming is one way to do this.<extra_id_1> </s>\n",
      "score: 0.7274227738380432\n"
     ]
    },
    {
     "name": "stderr",
     "output_type": "stream",
     "text": [
      " 27%|████████████████████████████████████████████▏                                                                                                                        | 264/986 [00:40<00:37, 19.27it/s]"
     ]
    },
    {
     "name": "stdout",
     "output_type": "stream",
     "text": [
      "question: Where would you see footprints that happen due to the formation of an impression?\n",
      "answer: ground\n",
      "common_expl_list: ['Foot impressions occur on the ground; they are caused by pressure being exerted on the ground.', 'Footprints happen when someone steps into a surface. If this ground were soft earth, footprints would be an impression in the ground, not a mark on top of the earth.', 'As humans walk, their feet make an impression in the ground, resulting in footprints.']\n",
      "generated_explanation: <pad> <extra_id_0> Footprints are formed when the soles of the feet make contact with the ground, and the resulting impression is a permanent record of that contact.<extra_id_1> </s>\n",
      "score: 0.7788690328598022\n",
      "question: Where can someone level up?\n",
      "answer: video game\n",
      "common_expl_list: ['In video games, it is possible to \"level up\" by gaining experience. Video games are played at a building.', 'Video games often allow players to earn more points or levels by winning games, beating challenges, or defeating enemies. Points and levels are common goals for video game players to strive for.']\n",
      "generated_explanation: <pad> <extra_id_0> Video games often feature levels, where players can improve their skills through completing challenges.<extra_id_1> </s>\n",
      "score: 0.8026149272918701\n",
      "question: Where does a person usually plant a rosebush?\n",
      "answer: flower bed\n",
      "common_expl_list: ['People often plant rosebushes in flower beds, as they are often used to decorate the area.']\n",
      "generated_explanation: <pad> <extra_id_0> Rosebushes are typically planted in flower beds, where the soil is moist and the plants can grow freely.<extra_id_1> </s>\n",
      "score: 0.7836571931838989\n",
      "question: What does someone want when having fun with their friends and trying to fit in?\n",
      "answer: being understood\n",
      "common_expl_list: [\"One might say that one wants to be understood when they are with their friends; one often wants one's new friends to understand them better.\"]\n",
      "generated_explanation: <pad> <extra_id_0> People often try to fit in with their friends, and one way to do that is to try to understand their friends better. This can be achieved by trying to understand their friends, and by being understood by others.<extra_id_1> </s>\n",
      "score: 0.7210900783538818\n"
     ]
    },
    {
     "name": "stderr",
     "output_type": "stream",
     "text": [
      " 27%|█████████████████████████████████████████████▎                                                                                                                       | 271/986 [00:40<00:36, 19.55it/s]"
     ]
    },
    {
     "name": "stdout",
     "output_type": "stream",
     "text": [
      "question: What does a person do if they want to appear authroitative?\n",
      "answer: stand erect\n",
      "common_expl_list: ['Standing up straight is a way of appearing confident and authroitative.', 'People who want to project a sense of authority often have very good posture.']\n",
      "generated_explanation: <pad> <extra_id_0> Standing erect is a good way to appear authroitative, because it gives the appearance of being in control, and authroitance is associated with being in control.<extra_id_1> </s>\n",
      "score: 0.7469931244850159\n"
     ]
    },
    {
     "name": "stderr",
     "output_type": "stream",
     "text": [
      " 28%|██████████████████████████████████████████████▎                                                                                                                      | 277/986 [00:40<00:37, 19.11it/s]"
     ]
    },
    {
     "name": "stdout",
     "output_type": "stream",
     "text": [
      "question: while luck plays a big role, every person who is great at something has focus and what to it?\n",
      "answer: dedication\n",
      "common_expl_list: [\"Luck doesn't just dictate whether a person becomes great or merely average, but rather whether that person works really hard and sticks with what they want to do over the long term.\", \"Luck plays an important role at serendipitous moments, but skill is more important across the course of a person's life; people get lucky here and there, but the great ones focus toward learning continuing getting better through dedication.\", 'The question is asking what is necessary for every person who is great at something . Focus is necessary to dedicate oneself to the activity, and dedication is ingredient for success.']\n",
      "generated_explanation: <pad> <extra_id_0> Success in any endeavor requires focus, and great focus requires dedication. No one gets great at something without putting in the effort, and no one gets great at something without dedicating themselves to it.<extra_id_1> </s>\n",
      "score: 0.775198757648468\n"
     ]
    },
    {
     "name": "stderr",
     "output_type": "stream",
     "text": [
      " 29%|███████████████████████████████████████████████▎                                                                                                                     | 283/986 [00:41<00:36, 19.21it/s]"
     ]
    },
    {
     "name": "stdout",
     "output_type": "stream",
     "text": [
      "question: Where would you keep a container can of corn?\n",
      "answer: pantry\n",
      "common_expl_list: ['Most home pantries contain containers of food, and they usually do not contain liquid foods.']\n",
      "generated_explanation: <pad> <extra_id_0> Cans of corn are often kept in pantries, which are small rooms with shelving.<extra_id_1> </s>\n",
      "score: 0.7611377239227295\n",
      "question: Why would you be getting in shape?\n",
      "answer: good health\n",
      "common_expl_list: ['Getting in shape is a way to improve your health.', 'Getting in shape is usually done to improve your health. You might jog to lose weight, exercise to get muscles toned, etc. The goal of getting in shape to improve your health.', \"The main reason people exercise is to feel better and be healthy. Exercising reduces one's chance of getting sick and making one feel refreshed.\", 'In order to acquire good health, you might exercise. This exercise might be recreational, such as jogging, or it might be dedicated exercise, in the form of weight lifting.']\n",
      "generated_explanation: <pad> <extra_id_0> Good health is important, and getting in shape can help you achieve that.<extra_id_1> </s>\n",
      "score: 0.7724722623825073\n",
      "question: What do dogs need to be happy?\n",
      "answer: affection\n",
      "common_expl_list: ['Dogs are social animals, and need to be loved and cared for by their owners.', 'Human affection works as a reward for the dog, making it very happy.']\n",
      "generated_explanation: <pad> <extra_id_0> Dogs need affection to be happy, and being loved is a big part of that. Dogs seek out affection from their owners, and being loved is a big part of that.<extra_id_1> </s>\n",
      "score: 0.7312937378883362\n"
     ]
    },
    {
     "name": "stderr",
     "output_type": "stream",
     "text": [
      " 30%|████████████████████████████████████████████████▋                                                                                                                    | 291/986 [00:41<00:39, 17.65it/s]"
     ]
    },
    {
     "name": "stdout",
     "output_type": "stream",
     "text": [
      "question: Where can a human relax?\n",
      "answer: park\n",
      "common_expl_list: ['A park provides a relaxing green escape from the hecticness of work and war-zones.', 'Parks and other places similar provide a relaxing environment most of the time with a variety of less than challenging activities available to do.']\n",
      "generated_explanation: <pad> <extra_id_0> Parks are places where people can go to relax and enjoy themselves.<extra_id_1> </s>\n",
      "score: 0.7617856860160828\n"
     ]
    },
    {
     "name": "stderr",
     "output_type": "stream",
     "text": [
      " 31%|██████████████████████████████████████████████████▋                                                                                                                  | 303/986 [00:42<00:38, 17.59it/s]"
     ]
    },
    {
     "name": "stdout",
     "output_type": "stream",
     "text": [
      "question: What is typically the attitude of a child waiting for something?\n",
      "answer: impatience\n",
      "common_expl_list: ['When someone is used to getting what they want when they want it, waiting can cause them stress and anxiety. Thus, in a waiting situation, most children would feel tired.', 'Children are often impatient, and waiting for something is often boring, so they might be impatient.', 'When one is waiting on something, one is usually anxious about the arrival of that something.', \"Impatience comes from a desire to go faster toward one's goal. If a physical or intangible goal is important, someone will often show impatience.\"]\n",
      "generated_explanation: <pad> <extra_id_0> Children are naturally impatient, and impatience is a common trait among children. Children often become impatient when they are waiting for something, such as a meal, to be prepared.<extra_id_1> </s>\n",
      "score: 0.772328794002533\n"
     ]
    },
    {
     "name": "stderr",
     "output_type": "stream",
     "text": [
      " 32%|████████████████████████████████████████████████████▏                                                                                                                | 312/986 [00:42<00:35, 19.05it/s]"
     ]
    },
    {
     "name": "stdout",
     "output_type": "stream",
     "text": [
      "question: Where would a marmot feel most confined?\n",
      "answer: petting zoo\n",
      "common_expl_list: ['Marmots are wild animals, and thus would not feel comfortable in a petting zoo.']\n",
      "generated_explanation: <pad> <extra_id_0> Marmots are nocturnal animals, and they prefer to be left alone, so they may feel uncomfortable in zoos.<extra_id_1> </s>\n",
      "score: 0.15209519863128662\n"
     ]
    },
    {
     "name": "stderr",
     "output_type": "stream",
     "text": [
      " 32%|█████████████████████████████████████████████████████▌                                                                                                               | 320/986 [00:43<00:36, 18.33it/s]"
     ]
    },
    {
     "name": "stdout",
     "output_type": "stream",
     "text": [
      "question: What is likely the mood of those going to a party?\n",
      "answer: happiness\n",
      "common_expl_list: ['Parties are often held to celebrate something, and people often go to parties to have fun and be happy.', 'People are likely going to gatherings where they can have fun and find happiness. Even a party at a bar or an office might have this purpose, because times there often include laughter and the loosening of social inhibitions.', 'Happiness is a frequently sought mood, one that one may seek through various activities, like going to a party.', 'Most parties are going to happy places with atmosphere that make people happy, especially wedding receptions.', 'Parties have a positive atmosphere, featuring lots of fun people and activities; usually, people at a party are happy,']\n",
      "generated_explanation: <pad> <extra_id_0> Parties are often a time when people get together to celebrate, and being together is a great way to celebrate.<extra_id_1> </s>\n",
      "score: 0.7240832448005676\n",
      "question: What kind of building has many a book written in Hebrew?\n",
      "answer: synagogue\n",
      "common_expl_list: ['Synagogues are buildings that are used for religious purposes, and often contain books.', 'Books and other writings in Hebrew are likely to be found in synagogues.', 'Many, if not most synagogues will have many Hebrew books in them. This is because synagogues also offer religious services, which include prayers read from Hebrew.']\n",
      "generated_explanation: <pad> <extra_id_0> Synagogues are religious buildings where people gather to pray. Many of these buildings contain written books, which are read aloud in Hebrew.<extra_id_1> </s>\n",
      "score: 0.832905650138855\n"
     ]
    },
    {
     "name": "stderr",
     "output_type": "stream",
     "text": [
      " 34%|███████████████████████████████████████████████████████▉                                                                                                             | 334/986 [00:43<00:34, 18.99it/s]"
     ]
    },
    {
     "name": "stdout",
     "output_type": "stream",
     "text": [
      "question: If someone were to gain a lot of fat their doctor will likely tell them to do what?\n",
      "answer: lose weight\n",
      "common_expl_list: ['If a person gains a lot of fat, their doctor will likely tell them to lose weight to be healthy.', 'Doctors will prescribe diets that involve losing weight in order to reduce the fat quantity in the body of a person, thereby reducing physical problems caused by obesity in the future.', 'Gaining a lot of fat is unhealthy, and the doctor will likely tell the person to lose weight.']\n",
      "generated_explanation: <pad> <extra_id_0> People who gain weight often have health problems, and doctors often advise them to lose weight in order to improve their health.<extra_id_1> </s>\n",
      "score: 0.7248871326446533\n",
      "question: Being tired makes humans decide to go to this object?\n",
      "answer: go to bed\n",
      "common_expl_list: ['Humans go to bed to get sleep, which makes them feel less tired.', 'People are tired after a day of activity, and so they go to bed to allow for rest and renewal.', 'Humans often decide to go to bed when they are tired.']\n",
      "generated_explanation: <pad> <extra_id_0> Humans go to bed when they are tired, because sleeping helps them to rest.<extra_id_1> </s>\n",
      "score: 0.7317748069763184\n",
      "question: I need a balloon to decorate something, what am I buying it for?\n",
      "answer: birthday party\n",
      "common_expl_list: ['Birthday parties often use balloons to decorate, so balloons are something you might buy for a birthday party.', 'Balloons are often used as decorations for birthday parties.']\n",
      "generated_explanation: <pad> <extra_id_0> Birthday parties are a time when people get together to celebrate a birthday, so it's common for people to buy balloons to decorate birthday parties, to commemorate such a celebration.<extra_id_1> </s>\n",
      "score: 0.8031070828437805\n"
     ]
    },
    {
     "name": "stderr",
     "output_type": "stream",
     "text": [
      " 34%|████████████████████████████████████████████████████████▌                                                                                                            | 338/986 [00:44<00:33, 19.12it/s]"
     ]
    },
    {
     "name": "stdout",
     "output_type": "stream",
     "text": [
      "question: What kingdom is frequently associated with pubs?\n",
      "answer: great britain\n",
      "common_expl_list: ['The term \"pub\" comes from \"public house,\" and was prevalent in the UK, which is in the great britain kingdom.', 'Pubs are often associated with the United Kingdom, and the United Kingdom is a kingdom.', \"Great Britian often uses pubs as a term for it's taverns, which are used for social gathering.\"]\n",
      "generated_explanation: <pad> <extra_id_0> Pubs are often associated with great britain, and drinking in pubs is a common pastime in great britain.<extra_id_1> </s>\n",
      "score: 0.7715802192687988\n"
     ]
    },
    {
     "name": "stderr",
     "output_type": "stream",
     "text": [
      " 35%|█████████████████████████████████████████████████████████▌                                                                                                           | 344/986 [00:44<00:33, 19.14it/s]"
     ]
    },
    {
     "name": "stdout",
     "output_type": "stream",
     "text": [
      "question: When the farmer was reproducing sheep, what did one sheep give later?\n",
      "answer: birth\n",
      "common_expl_list: [\"Sheep reproduce to generate new sheep. One sheep's contribution would be the birth of the new sheep.\", 'Sheep give birth to new sheep.', 'When goats and sheep produce offspring, this is done by giving birth to offspring. Yielding this offspring is birth.', 'Reproduction requires a resulting baby. The resulting baby of a sheep was later when, they wanted to reproduce, a new baby sheep.']\n",
      "generated_explanation: <pad> <extra_id_0> Sheep reproduce by giving birth to offspring.<extra_id_1> </s>\n",
      "score: 0.776345431804657\n",
      "question: Even if not all events are enjoyable, what is a person traveling to many different places likely to have?\n",
      "answer: interesting experiences\n",
      "common_expl_list: ['When traveling between many locations which are spread out a person will naturally have lots of adventures and experiences to enjoy.', 'A person traveling to many different places is likely to have interesting experiences, because they are likely to be doing different things in different places.']\n",
      "generated_explanation: <pad> <extra_id_0> Traveling is likely to expose a person to a variety of experiences, and a variety of those experiences may be enjoyable.<extra_id_1> </s>\n",
      "score: 0.7123498320579529\n"
     ]
    },
    {
     "name": "stderr",
     "output_type": "stream",
     "text": [
      " 36%|███████████████████████████████████████████████████████████▏                                                                                                         | 354/986 [00:44<00:33, 19.00it/s]"
     ]
    },
    {
     "name": "stdout",
     "output_type": "stream",
     "text": [
      "question: Joe rented a loft, which is a type of what?\n",
      "answer: city apartment\n",
      "common_expl_list: ['Lofts are apartments located in cities', 'Lofts are often rented in cities, and are usually apartments.', 'Lofts can often be found rented as urban apartment spaces.']\n",
      "generated_explanation: <pad> <extra_id_0> Lofts are large, open spaces that are often used as apartments in cities.<extra_id_1> </s>\n",
      "score: 0.7813997864723206\n",
      "question: Where would a child be happy to find chocolate?\n",
      "answer: christmas stocking\n",
      "common_expl_list: ['Chocolate can be included as a stocking stuffer.']\n",
      "generated_explanation: <pad> <extra_id_0> Chocolate is a very popular gift at Christmas, and children are often very happy to find it in their stockings.<extra_id_1> </s>\n",
      "score: 0.7873064279556274\n",
      "question: It was breakfast time.  Brad ordered eggs, toast, and something to drink. What might he drink?\n",
      "answer: coffee\n",
      "common_expl_list: [\"Coffee is often a drink that takes place at breakfast, it helps to wake up one's mind and also prepare the stomach for digestion.\", 'Coffee is a drink that people often drink for breakfast.', 'Food is eaten for breakfast, and coffee can therefore be considered a breakfast drink. Coffee has the connotation of morning time.']\n",
      "generated_explanation: <pad> <extra_id_0> Coffee is a common beverage at breakfast, and many people order it at breakfast restaurants.<extra_id_1> </s>\n",
      "score: 0.72538822889328\n"
     ]
    },
    {
     "name": "stderr",
     "output_type": "stream",
     "text": [
      " 36%|███████████████████████████████████████████████████████████▉                                                                                                         | 358/986 [00:45<00:32, 19.16it/s]"
     ]
    },
    {
     "name": "stdout",
     "output_type": "stream",
     "text": [
      "question: What would you likely see a group of horses doing together?\n",
      "answer: running in herd\n",
      "common_expl_list: ['In group circumstance, horses often run in herds.', 'Horses are herd animals, and so they are likely to be running in a herd.']\n",
      "generated_explanation: <pad> <extra_id_0> Horses run in herds, and a herd will often run together.<extra_id_1> </s>\n",
      "score: 0.7821961045265198\n",
      "question: A cube has a top, bottom, two sides and what else?\n",
      "answer: front back\n",
      "common_expl_list: ['A cube has six sides, and the front and back are two of them.']\n",
      "generated_explanation: <pad> <extra_id_0> A cube has four faces, each of which has four sides.<extra_id_1> </s>\n",
      "score: 0.1614542305469513\n"
     ]
    },
    {
     "name": "stderr",
     "output_type": "stream",
     "text": [
      " 37%|█████████████████████████████████████████████████████████████▌                                                                                                       | 368/986 [00:45<00:32, 19.12it/s]"
     ]
    },
    {
     "name": "stdout",
     "output_type": "stream",
     "text": [
      "question: Where might a person store pamphlets?\n",
      "answer: drawer\n",
      "common_expl_list: ['A drawer is a place to store things.', 'Paper is commonly stored in drawers, and hence physical pamphlets are also likely stored in drawers.']\n",
      "generated_explanation: <pad> <extra_id_0> Drawers are often used to store items, and pamphlets are no exception.<extra_id_1> </s>\n",
      "score: 0.8266299366950989\n",
      "question: What do you do in court to alleviate curiosity?\n",
      "answer: hear testimony\n",
      "common_expl_list: ['Testimony is a type of evidence that can be presented in court to help explain a situation.', \"If a person is too curious about an case or a person's history, they can attend the trial, so they can find out more about the case or hear testimonies about it.\"]\n",
      "generated_explanation: <pad> <extra_id_0> Courts are places where people can go to get information, and hearing testimony can relieve curiosity.<extra_id_1> </s>\n",
      "score: 0.7353636622428894\n",
      "question: What are you likely to see on Independence Day?\n",
      "answer: fireworks display\n",
      "common_expl_list: ['The American Independence Day takes place on July 4th, and fireworks displays are held to celebrate this on this day.', 'Fireworks displays occur commonly on Independence Day, the 4th of July.', 'People typically set off fireworks on Independence Day.']\n",
      "generated_explanation: <pad> <extra_id_0> Fireworks are a common sight on Independence Day, a U.S. holiday. People light fireworks to celebrate the holiday, and many cities hold fireworks displays.<extra_id_1> </s>\n",
      "score: 0.7763705849647522\n"
     ]
    },
    {
     "name": "stderr",
     "output_type": "stream",
     "text": [
      " 38%|██████████████████████████████████████████████████████████████▌                                                                                                      | 374/986 [00:46<00:31, 19.17it/s]"
     ]
    },
    {
     "name": "stdout",
     "output_type": "stream",
     "text": [
      "question: Where  might someone find lots of homes with a balcony railing?\n",
      "answer: apartment complex\n",
      "common_expl_list: ['Balconies are often found in apartment complexes, as they are a nice place to relax and enjoy the outdoors.', 'Balconies are common on many apartment buildings, especially on ones in large cities like New Orleans.']\n",
      "generated_explanation: <pad> <extra_id_0> Apartment complexes often have railings on the balconies, which can prevent people from falling off their balconies and into the street below.<extra_id_1> </s>\n",
      "score: 0.7293472290039062\n"
     ]
    },
    {
     "name": "stderr",
     "output_type": "stream",
     "text": [
      " 39%|███████████████████████████████████████████████████████████████▌                                                                                                     | 380/986 [00:46<00:32, 18.79it/s]"
     ]
    },
    {
     "name": "stdout",
     "output_type": "stream",
     "text": [
      "question: What may you feel after standing in line for a long time and not getting what you were after?\n",
      "answer: frustration\n",
      "common_expl_list: [\"When something (usually an experience) doesn't go as planned, the situation may end up being frustrating as individuals are likely to be upset by the event.\"]\n",
      "generated_explanation: <pad> <extra_id_0> Frustration is a normal feeling when something important is waiting for you, but you have to wait for it. When you wait in line, you may feel frustrated because you are waiting for something you want, but you have to wait for it.<extra_id_1> </s>\n",
      "score: 0.7763139605522156\n",
      "question: What is a person's goal to ownas an adult with a family?\n",
      "answer: own home\n",
      "common_expl_list: ['When someone wants to raise a family, they likely want to eventually own their own home.', 'Owning a home is a goal for many people, as it is a way to provide shelter for a family.']\n",
      "generated_explanation: <pad> <extra_id_0> Home is something that most people want to own as an adult, especially if they have children.<extra_id_1> </s>\n",
      "score: 0.7333921790122986\n"
     ]
    },
    {
     "name": "stderr",
     "output_type": "stream",
     "text": [
      " 39%|████████████████████████████████████████████████████████████████▎                                                                                                    | 384/986 [00:46<00:31, 18.88it/s]"
     ]
    },
    {
     "name": "stdout",
     "output_type": "stream",
     "text": [
      "question: If people are competing for resources what emotional state are they likely to experience?\n",
      "answer: stress\n",
      "common_expl_list: ['When resources are limited for meeting endless demands, the people involved in the competition will experience stress.', \"When people compete for objects and aren't getting what they want, they are likely to exhibit high levels of stress as a danger response.\"]\n",
      "generated_explanation: <pad> <extra_id_0> In a world where people are competing for resources, it is reasonable to assume that they will experience stress as a result of this competition.<extra_id_1> </s>\n",
      "score: 0.781097412109375\n",
      "question: When will this summer end?\n",
      "answer: winter\n",
      "common_expl_list: ['Summer is the warmest season, and it ends in winter, when it is cold.', 'Summer is followed by autumn & winter.']\n",
      "generated_explanation: <pad> <extra_id_0> Summer usually lasts from June to August.<extra_id_1> </s>\n",
      "score: 0.15063610672950745\n"
     ]
    },
    {
     "name": "stderr",
     "output_type": "stream",
     "text": [
      " 40%|█████████████████████████████████████████████████████████████████▎                                                                                                   | 390/986 [00:46<00:31, 19.10it/s]"
     ]
    },
    {
     "name": "stdout",
     "output_type": "stream",
     "text": [
      "question: Where would someone be likely to see a moving airplane?\n",
      "answer: sky\n",
      "common_expl_list: ['Airplanes are designed for air travel, and thus must go into the sky to fly.']\n",
      "generated_explanation: <pad> <extra_id_0> Airplanes are objects that move through the air, so they are likely to be visible in the sky, where they can be seen moving.<extra_id_1> </s>\n",
      "score: 0.728364109992981\n",
      "question: Where would you find a cottage that gets flooded often?\n",
      "answer: rural area\n",
      "common_expl_list: ['Cottages are typically simple dwellings. Most of the time cottages are in the countryside. If a cottage is in the countryside and is close to where the ocean is, it would be subject to flooding by a tsunami. Thus, if you', 'Rurals areas are usually low-lying, and are thus subject to flooding if it rains.']\n",
      "generated_explanation: <pad> <extra_id_0> Floods are common in rural areas, especially in areas where rivers and streams are present. Cottages are often built in rural areas because they are more likely to flood.<extra_id_1> </s>\n",
      "score: 0.7899509072303772\n",
      "question: The roadway had fallen into disrepair, the citizens took their complaints to the where?\n",
      "answer: city\n",
      "common_expl_list: [\"most people living in neighborhoods would address any grievances they had regarding the neighborhood to the city because it's larger, more powerful, and representative of the people as a whole.\", 'The city is where the government is located, and where the people would likely take their complaints.']\n",
      "generated_explanation: <pad> <extra_id_0> Roads are maintained by cities, and it's common for citizens to complain when they see them in poor condition.<extra_id_1> </s>\n",
      "score: 0.7363168001174927\n"
     ]
    },
    {
     "name": "stderr",
     "output_type": "stream",
     "text": [
      " 40%|██████████████████████████████████████████████████████████████████▎                                                                                                  | 396/986 [00:47<00:29, 19.73it/s]"
     ]
    },
    {
     "name": "stdout",
     "output_type": "stream",
     "text": [
      "question: Where are leaves likely to cause an accident?\n",
      "answer: street\n",
      "common_expl_list: ['Leaves often gather on the ground and, if a vehicle runs through them, they can become lodged in the wheels, which will cause a driver to lose control.', 'Predominantly in autumn, leaves can travel on the road, in high winds, and cause cars to skid out of control.']\n",
      "generated_explanation: <pad> <extra_id_0> Streets are often wet and slippery, and falling leaves can cause accidents.<extra_id_1> </s>\n",
      "score: 0.7732911109924316\n",
      "question: What is a grumpy person likely to have?\n",
      "answer: headache\n",
      "common_expl_list: ['People with headaches often describe themselves as grumpy, so if you have a headache, you are grumpy.']\n",
      "generated_explanation: <pad> <extra_id_0> A grumpy person is likely to have a headache, which can make them feel irritable.<extra_id_1> </s>\n",
      "score: 0.7258819341659546\n",
      "question: Where are floors kept clean for holy purposes?\n",
      "answer: synagogue\n",
      "common_expl_list: ['Synagogues are places where people pray, and so floors in synagogues are likely to be kept clean for holy purposes.']\n",
      "generated_explanation: <pad> <extra_id_0> Synagogues are religious buildings where people gather to pray, and the floors are kept clean for religious purposes.<extra_id_1> </s>\n",
      "score: 0.8009986281394958\n"
     ]
    },
    {
     "name": "stderr",
     "output_type": "stream",
     "text": [
      " 41%|███████████████████████████████████████████████████████████████████                                                                                                  | 401/986 [00:47<00:30, 19.25it/s]"
     ]
    },
    {
     "name": "stdout",
     "output_type": "stream",
     "text": [
      "question: WHat is the size of the school cafeteria?\n",
      "answer: large room\n",
      "common_expl_list: ['A large room is a room that takes up a lot of space. Since a school cafeteria can hold many people, without question it would be a large room.', 'A school cafeteria is a large room where students can eat food purchased on campus or brought from home.', 'A school cafeteria is a large room where students eat.']\n",
      "generated_explanation: <pad> <extra_id_0> The cafeteria at our school is a large room, measuring approximately 450 square feet.<extra_id_1> </s>\n",
      "score: 0.7602956891059875\n",
      "question: What will happen after agreeing with verbally about a deal that you made with him or her?\n",
      "answer: shake hands\n",
      "common_expl_list: [\"After agreeing to a deal, it's common to shake hands as a way to seal the deal.\"]\n",
      "generated_explanation: <pad> <extra_id_0> When two people agree to something, they usually shake hands. Shaking hands is a way to show that you agree with someone.<extra_id_1> </s>\n",
      "score: 0.7318925261497498\n",
      "question: In a lot of Asian restaurants food is eaten in a?\n",
      "answer: bowl\n",
      "common_expl_list: ['In Asian cuisine, food is often eaten with chopsticks, and is placed in a bowl.']\n",
      "generated_explanation: <pad> <extra_id_0> Bowls are used to hold food, and in Asian restaurants, bowls are often used to hold food.<extra_id_1> </s>\n",
      "score: 0.8154017329216003\n"
     ]
    },
    {
     "name": "stderr",
     "output_type": "stream",
     "text": [
      " 41%|████████████████████████████████████████████████████████████████████                                                                                                 | 407/986 [00:47<00:29, 19.77it/s]"
     ]
    },
    {
     "name": "stdout",
     "output_type": "stream",
     "text": [
      "question: Drinking alcohol to excess can cause you to begin doing what?\n",
      "answer: vomiting\n",
      "common_expl_list: ['When one drinks too much alcohol, one can become sick and vomit.', 'Excessive drinking can cause one to become sick, e.g., with a hangover. This leads to vomiting as a natural response.']\n",
      "generated_explanation: <pad> <extra_id_0> Drinking alcohol in excess can cause you to vomit, which is a common symptom of alcohol poisoning.<extra_id_1> </s>\n",
      "score: 0.8221428394317627\n",
      "question: What do children often do to express happiness?\n",
      "answer: sing\n",
      "common_expl_list: ['To express happiness, children often sing, because it is a way for them to express pleasant emotions.']\n",
      "generated_explanation: <pad> <extra_id_0> Children often sing to express themselves, and singing has long been a popular way to express happiness.<extra_id_1> </s>\n",
      "score: 0.8002324104309082\n",
      "question: What is the goal for a student to improve in?\n",
      "answer: every aspect of life\n",
      "common_expl_list: ['A student will endeavor to learn, and thus improve in every aspect of their lives.', \"Improvement is a life-long process, so it's a reasonable thing for students to improve in every aspect of life (e.g., their health, appearance, outdoorsmanship).\", 'A student is a person who is in school, and school is a place where one learns. Learning is a process that occurs in every aspect of life.']\n",
      "generated_explanation: <pad> <extra_id_0> Every aspect of life has goals and a purpose. Students should strive to improve in these areas, because they will be better prepared for life.<extra_id_1> </s>\n",
      "score: 0.7420681715011597\n"
     ]
    },
    {
     "name": "stderr",
     "output_type": "stream",
     "text": [
      " 42%|█████████████████████████████████████████████████████████████████████▎                                                                                               | 414/986 [00:48<00:28, 19.99it/s]"
     ]
    },
    {
     "name": "stdout",
     "output_type": "stream",
     "text": [
      "question: What is good way to break boredom for kids?\n",
      "answer: play games\n",
      "common_expl_list: ['Boredom is often relieved by playing games.', \". Play is good for kids because they have lots of energy, but because they can't manage large or complex ideas, they might have trouble occupying themselves if they get bored. Play games are one good way for them to entertain themselves if they get bored\"]\n",
      "generated_explanation: <pad> <extra_id_0> Games are a great way to break up a long period of time and are a great way to keep kids busy.<extra_id_1> </s>\n",
      "score: 0.8389359712600708\n"
     ]
    },
    {
     "name": "stderr",
     "output_type": "stream",
     "text": [
      " 43%|██████████████████████████████████████████████████████████████████████▎                                                                                              | 420/986 [00:48<00:28, 20.18it/s]"
     ]
    },
    {
     "name": "stdout",
     "output_type": "stream",
     "text": [
      "question: James drove down the thoroughfare though his home what?\n",
      "answer: town\n",
      "common_expl_list: ['A thoroughfare is a major road connecting cities and/or towns.']\n",
      "generated_explanation: <pad> <extra_id_0> A thoroughfare runs through a city or town, and cars often travel along it to get to work or school.<extra_id_1> </s>\n",
      "score: 0.7191163897514343\n",
      "question: What is likely the result of remembering a deceased friend?\n",
      "answer: crying\n",
      "common_expl_list: ['Most likely because one will cry in memory of a deceased friend.', 'Because of sadness, often caused by the memory of a deceased loved one, a person often cries.']\n",
      "generated_explanation: <pad> <extra_id_0> When we remember someone who has died, we often cry. This is because we are saddened by the loss of that person.<extra_id_1> </s>\n",
      "score: 0.787248969078064\n",
      "question: What is often a side effect of traveling on the water?\n",
      "answer: motion sickness\n",
      "common_expl_list: ['If one travels on water, whether on a ship or a boat, during enough time, motion sickness can be a common side effect due to the rocking and compression.', \"Motion sickness is caused by the motion of a boat or ship, or more generally, anything that's in motion relative to the ground.\"]\n",
      "generated_explanation: <pad> <extra_id_0> Traveling by boat can cause motion sickness, which is a feeling of being sick while moving.<extra_id_1> </s>\n",
      "score: 0.7303299903869629\n"
     ]
    },
    {
     "name": "stderr",
     "output_type": "stream",
     "text": [
      " 43%|███████████████████████████████████████████████████████████████████████▎                                                                                             | 426/986 [00:48<00:29, 19.27it/s]"
     ]
    },
    {
     "name": "stdout",
     "output_type": "stream",
     "text": [
      "question: He wore the wrong shoes while walking all day, now he has what on his heels and toes?\n",
      "answer: blisters\n",
      "common_expl_list: ['Blisters form when the force of continuous friction overcomes the softness of the skin covering a body part, often when the skin is repeatedly twisted, bending, flexed, rubbed, etc.', 'Blisters are a common problem for people who walk a lot, and they can be caused by wearing the wrong shoes.']\n",
      "generated_explanation: <pad> <extra_id_0> Blisters are small, painful sores that develop on the bottoms of your feet when you walk in them. This is usually caused by friction from the ground, and walking in the wrong shoes can cause blisters.<extra_id_1> </s>\n",
      "score: 0.7221648097038269\n",
      "question: If something is very hard but you just manage to be able to do it, it can be called what?\n",
      "answer: bearable\n",
      "common_expl_list: ['Something bearable is hard but still possible to deal with.', 'Something that is bearable is something that you can manage to do, even though it is hard.']\n",
      "generated_explanation: <pad> <extra_id_0> A task that is very hard but that people can manage to do is called bearable, because people can usually handle it.<extra_id_1> </s>\n",
      "score: 0.7044016122817993\n"
     ]
    },
    {
     "name": "stderr",
     "output_type": "stream",
     "text": [
      " 44%|████████████████████████████████████████████████████████████████████████▋                                                                                            | 434/986 [00:49<00:27, 19.76it/s]"
     ]
    },
    {
     "name": "stdout",
     "output_type": "stream",
     "text": [
      "question: What is best for a rosebush?\n",
      "answer: temperate climate\n",
      "common_expl_list: ['A rosebush requires a temperate climate to flourish.', 'A rosebush is likely to grow best in a temperate climate.']\n",
      "generated_explanation: <pad> <extra_id_0> Roses thrive in temperate climates, where the temperature stays relatively constant throughout the year.<extra_id_1> </s>\n",
      "score: 0.716780424118042\n",
      "question: What do adults do with their clothing?\n",
      "answer: dress themselves\n",
      "common_expl_list: ['Adults are usually responsible for dressing themselves.']\n",
      "generated_explanation: <pad> <extra_id_0> Adults dress themselves, usually by selecting clothing that fits, and then altering it to fit.<extra_id_1> </s>\n",
      "score: 0.7146273255348206\n"
     ]
    },
    {
     "name": "stderr",
     "output_type": "stream",
     "text": [
      " 44%|█████████████████████████████████████████████████████████████████████████▎                                                                                           | 438/986 [00:49<00:28, 18.90it/s]"
     ]
    },
    {
     "name": "stdout",
     "output_type": "stream",
     "text": [
      "question: Where would a floor be covered in clothes?\n",
      "answer: closet\n",
      "common_expl_list: ['Clothes are often stored in closets.', 'Closets are used to store clothes.']\n",
      "generated_explanation: <pad> <extra_id_0> Closets are rooms where clothes are kept, usually in a room with a floor.<extra_id_1> </s>\n",
      "score: 0.7334264516830444\n",
      "question: Some people go their whole life doing what for love?\n",
      "answer: wait for\n",
      "common_expl_list: ['It takes time to build a relationship, so some people spend all their time waiting for that special person (eventually developing love later).']\n",
      "generated_explanation: <pad> <extra_id_0> Some people go to work for a living because they love what they do, and they don't have to worry about paying their bills.<extra_id_1> </s>\n",
      "score: 0.19458653032779694\n"
     ]
    },
    {
     "name": "stderr",
     "output_type": "stream",
     "text": [
      " 45%|██████████████████████████████████████████████████████████████████████████▎                                                                                          | 444/986 [00:49<00:30, 17.85it/s]"
     ]
    },
    {
     "name": "stdout",
     "output_type": "stream",
     "text": [
      "question: A material that is elastic is able to do what?\n",
      "answer: stretch\n",
      "common_expl_list: ['Elastic materials are able to stretch and then return to the initial form, i.e., stretch.', 'Elastic materials are able to stretch and then return to their original shape.']\n",
      "generated_explanation: <pad> <extra_id_0> Elastic materials are able to stretch, because they are able to stretch when they are stretched.<extra_id_1> </s>\n",
      "score: 0.7724925875663757\n"
     ]
    },
    {
     "name": "stderr",
     "output_type": "stream",
     "text": [
      " 46%|███████████████████████████████████████████████████████████████████████████▏                                                                                         | 449/986 [00:49<00:28, 18.74it/s]"
     ]
    },
    {
     "name": "stdout",
     "output_type": "stream",
     "text": [
      "question: Where could you find a steel cable that has not been completed yet?\n",
      "answer: factory\n",
      "common_expl_list: ['Steel cables are usually only finished in factories, by factory workers. \\u200b', 'Steel cables are often produced in factories.']\n",
      "generated_explanation: <pad> <extra_id_0> Steel cables are often produced in factories, and unfinished goods are often left over after production.<extra_id_1> </s>\n",
      "score: 0.7521609663963318\n",
      "question: What liquid can be kept in a large container?\n",
      "answer: juice\n",
      "common_expl_list: ['Juice is a thing that can be contained in a large container for keeping for some period of time.', 'Juice is a liquid, and so, it can be kept in a large container.']\n",
      "generated_explanation: <pad> <extra_id_0> Juice is a liquid that can be kept in a large container.<extra_id_1> </s>\n",
      "score: 0.7179846167564392\n",
      "question: Humans tend to have what round things that dart around?\n",
      "answer: two eyes\n",
      "common_expl_list: ['Humans have two eyes, which are round and dart around.']\n",
      "generated_explanation: <pad> <extra_id_0> Humans have two eyes, which are round and dart around the head.<extra_id_1> </s>\n",
      "score: 0.7107152342796326\n",
      "question: If you live by the shore than you probably live in a what?\n",
      "answer: seaside town\n",
      "common_expl_list: ['Towns which have access to the sea are often seaside towns.', 'Seaside towns are on the shore of a great body of water, usually an ocean.', 'The ocean is a large body of water that stretches along a great deal of the coastline. Most seaside towns are situated on oceans.']\n",
      "generated_explanation: <pad> <extra_id_0> Seaside towns are located by the sea, and people who live in them usually enjoy living there because they enjoy being near the water.<extra_id_1> </s>\n",
      "score: 0.8490478992462158\n"
     ]
    },
    {
     "name": "stderr",
     "output_type": "stream",
     "text": [
      " 46%|████████████████████████████████████████████████████████████████████████████▎                                                                                        | 456/986 [00:50<00:27, 19.18it/s]"
     ]
    },
    {
     "name": "stdout",
     "output_type": "stream",
     "text": [
      "question: If I need to store old stuff out of the way without concerns of them getting damp, where do I go?\n",
      "answer: attic\n",
      "common_expl_list: ['Attics are often used for storage, and are usually dry, and thus are a good place to store old stuff.', 'The attic is a good place to store old unused stuff, as the attic is usually insulated and is likely to not be moist.']\n",
      "generated_explanation: <pad> <extra_id_0> Attics are a great place to store things, because they are dry and insulated.<extra_id_1> </s>\n",
      "score: 0.7259532809257507\n"
     ]
    },
    {
     "name": "stderr",
     "output_type": "stream",
     "text": [
      " 47%|█████████████████████████████████████████████████████████████████████████████▉                                                                                       | 466/986 [00:50<00:28, 18.40it/s]"
     ]
    },
    {
     "name": "stdout",
     "output_type": "stream",
     "text": [
      "question: A large container was a dime a dozen, there were hundreds of rows of them in the giant what?\n",
      "answer: warehouse\n",
      "common_expl_list: ['A warehouse is a place where goods are stored, and a large warehouse can have hundreds of rows of containers.']\n",
      "generated_explanation: <pad> <extra_id_0> Containers are large, heavy objects. They are usually shipped in<extra_id_1> </s>\n",
      "score: 0.19273744523525238\n",
      "question: Where can a lady store a writing instrument while away from home?\n",
      "answer: purse\n",
      "common_expl_list: ['A lady might carry a purse with her, and it is likely that she would carry a writing instrument in it.', 'Women often keep pens in their purse.', 'As lady typically carry purses, the writing instrument is presumably in the purse when not in use.', 'When a person has a bag with them, such as a handbag or tote bag, the bag could presumably be used to store a pen.']\n",
      "generated_explanation: <pad> <extra_id_0> Purses are small, handy containers that can hold items like pens, pencils, and other writing instruments.<extra_id_1> </s>\n",
      "score: 0.837395429611206\n"
     ]
    },
    {
     "name": "stderr",
     "output_type": "stream",
     "text": [
      " 48%|██████████████████████████████████████████████████████████████████████████████▉                                                                                      | 472/986 [00:51<00:27, 18.58it/s]"
     ]
    },
    {
     "name": "stdout",
     "output_type": "stream",
     "text": [
      "question: Sometimes people are wronged, and sometimes getting revenge brings them what?\n",
      "answer: satisfaction\n",
      "common_expl_list: ['If someone causes you harm, you can get satisfaction by getting revenge.', 'Revenge, especially if you waited for a while for it to pay off, can grant a satisfied feeling.']\n",
      "generated_explanation: <pad> <extra_id_0> Revenge is a type of retaliation, and getting revenge can bring satisfaction.<extra_id_1> </s>\n",
      "score: 0.7262335419654846\n",
      "question: What does being fat lead a person to want to do in the gym?\n",
      "answer: get in shape\n",
      "common_expl_list: ['People who are overweight often want to lose weight, and they go to the gym to do so.']\n",
      "generated_explanation: <pad> <extra_id_0> Being fat makes it more likely that a person will want to get in shape, which often involves working out.<extra_id_1> </s>\n",
      "score: 0.7604149580001831\n"
     ]
    },
    {
     "name": "stderr",
     "output_type": "stream",
     "text": [
      " 48%|███████████████████████████████████████████████████████████████████████████████▋                                                                                     | 476/986 [00:51<00:27, 18.83it/s]"
     ]
    },
    {
     "name": "stdout",
     "output_type": "stream",
     "text": [
      "question: What traditional shop would one find a razor in?\n",
      "answer: barber shop\n",
      "common_expl_list: ['Razors are often found in barber shops; barbershops are where men go to get their hair cut. Showing up at the grocery store with a razor may be unnecessary and strange.']\n",
      "generated_explanation: <pad> <extra_id_0> Barber shops sell razors, and shaving is a common task in those shops.<extra_id_1> </s>\n",
      "score: 0.7255813479423523\n"
     ]
    },
    {
     "name": "stderr",
     "output_type": "stream",
     "text": [
      " 49%|████████████████████████████████████████████████████████████████████████████████▋                                                                                    | 482/986 [00:51<00:26, 18.67it/s]"
     ]
    },
    {
     "name": "stdout",
     "output_type": "stream",
     "text": [
      "question: Where is someone looking for a job likely to find a computer?\n",
      "answer: library\n",
      "common_expl_list: ['A computer is a tool for finding employment. Libraries often have computers towards the front (where employees can find employment if they choose to).']\n",
      "generated_explanation: <pad> <extra_id_0> Libraries are a common place to find computers, and people often use computers in libraries to look for jobs.<extra_id_1> </s>\n",
      "score: 0.7729887962341309\n"
     ]
    },
    {
     "name": "stderr",
     "output_type": "stream",
     "text": [
      " 49%|█████████████████████████████████████████████████████████████████████████████████▎                                                                                   | 486/986 [00:51<00:26, 18.86it/s]"
     ]
    },
    {
     "name": "stdout",
     "output_type": "stream",
     "text": [
      "question: Where would you find a computer near very young people learning?\n",
      "answer: classroom\n",
      "common_expl_list: ['Teaching technology to very young people is likely to occur in a classroom.', 'In my own experience as a student, computers were commonly present in school classrooms, in the hallway, and in libraries. The school classroom setting has large tables capable of accomodating laptops, and classrooms enabade students sit un-distracted', 'Young children are often taught in classrooms, and computers are commonly used in classrooms.']\n",
      "generated_explanation: <pad> <extra_id_0> Computers are used in classrooms, and young people often use computers in classrooms to help with their learning, since classrooms are where students learn.<extra_id_1> </s>\n",
      "score: 0.7986639142036438\n"
     ]
    },
    {
     "name": "stderr",
     "output_type": "stream",
     "text": [
      " 50%|██████████████████████████████████████████████████████████████████████████████████▌                                                                                  | 493/986 [00:52<00:25, 19.25it/s]"
     ]
    },
    {
     "name": "stdout",
     "output_type": "stream",
     "text": [
      "question: Where is a good place for a lawn chair?\n",
      "answer: porch\n",
      "common_expl_list: ['Porches and patios are commonly furnished with chairs.', 'Porches are a common place to put lawn chairs.', 'The porch is in place in which people often set their lawn chairs in order to relax, e.g., when cooling off after doing yardwork.']\n",
      "generated_explanation: <pad> <extra_id_0> Porches are a good place to put a lawn chair, because you can sit down and relax.<extra_id_1> </s>\n",
      "score: 0.8165954351425171\n",
      "question: How would chicken be served?\n",
      "answer: plate\n",
      "common_expl_list: ['Chicken is commonly served on a plate.', \"Food is usually served on a plate, unless it's eaten right out of the refrigerator freezer. The restaurant dish would likely be too big for most orders of chicken.\"]\n",
      "generated_explanation: <pad> <extra_id_0> Chicken is often served on a plate, usually with other foods on it.<extra_id_1> </s>\n",
      "score: 0.8516327142715454\n",
      "question: Why does she sing so much?\n",
      "answer: enjoy\n",
      "common_expl_list: [\"If someone sings a lot, it's probably because they enjoy it.\"]\n",
      "generated_explanation: <pad> <extra_id_0> Music is a form of entertainment, and people often sing for enjoyment.<extra_id_1> </s>\n",
      "score: 0.7030280828475952\n"
     ]
    },
    {
     "name": "stderr",
     "output_type": "stream",
     "text": [
      " 51%|███████████████████████████████████████████████████████████████████████████████████▌                                                                                 | 499/986 [00:52<00:25, 18.78it/s]"
     ]
    },
    {
     "name": "stdout",
     "output_type": "stream",
     "text": [
      "question: Cats are easily entertained, they love to what?\n",
      "answer: play with toys\n",
      "common_expl_list: ['Cats love toys that easily fit in their paws and/or are simple for them to move around. Playing with toys can help cats be happy.', \"Cats' owners often provide toys for the cats to play with. Play is a good way to entertain a cat (think of how a cat will chase and pounce).\"]\n",
      "generated_explanation: <pad> <extra_id_0> Cats are very curious animals. They are very interested in toys, and playing with toys can keep them entertained.<extra_id_1> </s>\n",
      "score: 0.8390704393386841\n",
      "question: What is the purpose of a basketball court?\n",
      "answer: use\n",
      "common_expl_list: ['Basketball courts have multiple functions. they can be used by basketball players, basketball courts have been used during riots, the courts can be used during sporting events and activities.']\n",
      "generated_explanation: <pad> <extra_id_0> Basketball courts are used for basketball games, and a court is a large open space where players can shoot hoops.<extra_id_1> </s>\n",
      "score: 0.7952030301094055\n",
      "question: What might two people competing get into?\n",
      "answer: argument\n",
      "common_expl_list: ['When people compete, they have the chance to win or lose, and overall result likely leads to stress, tension, or even arguments.', 'Two people competing against each other might get into arguments, particularly before and afterwards.', 'When two rivals compete over something, they might get into a dispute in hopes of winning over one another.', 'When people compete, they are likely to argue about the outcome.', 'Arguments are common when people debate about wins and losses. One loses, one wins, the other loses, etc.']\n",
      "generated_explanation: <pad> <extra_id_0> An argument is a disagreement between two people over something, and when two people are competing, it's common for them to get into arguments.<extra_id_1> </s>\n",
      "score: 0.8163677453994751\n",
      "question: If you're releasing energy through running, what will you likely find on your skin?\n",
      "answer: sweat\n",
      "common_expl_list: ['Exercise produces sweat! Excessive exercise can lead to dehydration, but sweating is a natural way your body has of maintaining a healthy balance in body heat.', 'Sweat is a common product of exercise, and it can be released through running.', 'Sweat is a byproduct of exercise, and it is often associated with exercise.']\n",
      "generated_explanation: <pad> <extra_id_0> Sweating is a natural way to release energy, and running can help you do that by releasing sweat.<extra_id_1> </s>\n",
      "score: 0.8322492241859436\n"
     ]
    },
    {
     "name": "stderr",
     "output_type": "stream",
     "text": [
      " 51%|████████████████████████████████████████████████████████████████████████████████████▋                                                                                | 506/986 [00:52<00:24, 19.47it/s]"
     ]
    },
    {
     "name": "stdout",
     "output_type": "stream",
     "text": [
      "question: What does a computer have to do before a program can exist?\n",
      "answer: compile\n",
      "common_expl_list: ['A computer program is a set of instructions that a computer can execute. To execute the instructions, the computer must compile the program.', 'Software written in source code must be compiled (transformed into object code) before the computer can read and run it.', 'A computer must compile a program before it can run, and compiling designates the program as an \"exe\" file, which can run.', \"A compiler is a program that translates source code into machine code so the computer's computer processor can be instructed to do something with it.\"]\n",
      "generated_explanation: <pad> <extra_id_0> A computer's programs are composed of instructions that describe operations on a computer, and instructions that describe what those operations are. A computer's instructions are compiled into a single file, known as a program. A program exists when the instructions for that program are combined into a single file, known as a program, and instructions describe what those operations are.<extra_id_1> </s>\n",
      "score: 0.7110058069229126\n",
      "question: What did Van Gogh feel when he found his long lost painting?\n",
      "answer: great relief\n",
      "common_expl_list: ['The painting was missing for many years, so his long term goal of finding it had been achieved. His relief at locating it would have been great.', 'Finding a long lost painting that he worked on for a long time would lead a person to relief in knowing they found it again.']\n",
      "generated_explanation: <pad> <extra_id_0> When a painting is found, it is often a source of great relief for the artist.<extra_id_1> </s>\n",
      "score: 0.7131003141403198\n"
     ]
    },
    {
     "name": "stderr",
     "output_type": "stream",
     "text": [
      " 52%|██████████████████████████████████████████████████████████████████████████████████████                                                                               | 514/986 [00:53<00:24, 19.35it/s]"
     ]
    },
    {
     "name": "stdout",
     "output_type": "stream",
     "text": [
      "question: Where would you buy wearable gold?\n",
      "answer: jewelry store\n",
      "common_expl_list: ['Gold is often used to make jewelry, and jewelry stores are a plausible place to buy jewelry.']\n",
      "generated_explanation: <pad> <extra_id_0> Gold is a precious metal, and jewelry stores sell wearable gold.<extra_id_1> </s>\n",
      "score: 0.7211082577705383\n",
      "question: The people wanted to do a demonstration, where did they decide to do it?\n",
      "answer: public place\n",
      "common_expl_list: ['Demonstrations often take place in public spaces; for example, at the entrance to a retail store, or a busy street.', 'When demonstrating about a cause, often you choose to do it in a public place, often where it will have great visibility, such as a city street, outside of a shopping mall, etc.', 'Demonstrations often confront perceived social injustices, or political opinions, in a public place; e.g., a town plaza, university green, or city street.', 'Demonstrations are often held in public places, e.g., parks, or on the sidewalk in front of a government building.', 'Demonstrations commonly take place in public on sidewalks, on roadsides, or in front of government buildings.']\n",
      "generated_explanation: <pad> <extra_id_0> Demonstrations often take place in public places, and people gather there to show their support for a cause.<extra_id_1> </s>\n",
      "score: 0.8370363116264343\n"
     ]
    },
    {
     "name": "stderr",
     "output_type": "stream",
     "text": [
      " 53%|███████████████████████████████████████████████████████████████████████████████████████                                                                              | 520/986 [00:53<00:24, 18.79it/s]"
     ]
    },
    {
     "name": "stdout",
     "output_type": "stream",
     "text": [
      "question: The man suffered from beef allergies, what did he suffer from as a result of eating hamburger?\n",
      "answer: gas\n",
      "common_expl_list: ['Some people are allergic to beef, so when they eat a hamburger, which often contains beef products, they experience the allergic reaction known as gas, which gives the man a reputation of releasing stink fuel when he exerted himself.', 'Allergies often present themselves in the form of gas, which can be quite uncomfortable. Someone having a beef allergy is likely to have gas and pain after eating hamburger.']\n",
      "generated_explanation: <pad> <extra_id_0> Beef is a common food that contains a lot of gas. If you have an allergy to beef, eating hamburgers may cause gas.<extra_id_1> </s>\n",
      "score: 0.7747717499732971\n"
     ]
    },
    {
     "name": "stderr",
     "output_type": "stream",
     "text": [
      " 53%|████████████████████████████████████████████████████████████████████████████████████████                                                                             | 526/986 [00:54<00:25, 18.20it/s]"
     ]
    },
    {
     "name": "stdout",
     "output_type": "stream",
     "text": [
      "question: You enter the parking lot of a grocery store from where?\n",
      "answer: street\n",
      "common_expl_list: ['Grocery stores usually have large parking lots that can be accessed by streets.']\n",
      "generated_explanation: <pad> <extra_id_0> Streets lead to grocery stores, and grocery stores often have parking lots.<extra_id_1> </s>\n",
      "score: 0.7471325397491455\n",
      "question: What can be the result of having an unhealthy lunch?\n",
      "answer: heartburn\n",
      "common_expl_list: ['Eating unhealthy meals might lead to indigestion, or heartburn.', 'Heartburn is a digestive problem where the stomach produces excess stomach acid, which can end up causing heartburn in the oesophagus, a burning sensation in your chest. An unhealth meal is one which produces a lot of acid, which can', 'Heartburn is a common symptom of eating unhealthy foods, and it can be caused by eating too much greasy food.', 'Eating unhealthy foods might leave someone with heartburn.']\n",
      "generated_explanation: <pad> <extra_id_0> Heartburn is a burning sensation that occurs after eating, especially if the meal contains fat. When you eat fat, your body releases chemicals that cause heartburn.<extra_id_1> </s>\n",
      "score: 0.7532501816749573\n"
     ]
    },
    {
     "name": "stderr",
     "output_type": "stream",
     "text": [
      " 54%|████████████████████████████████████████████████████████████████████████████████████████▋                                                                            | 530/986 [00:54<00:24, 18.41it/s]"
     ]
    },
    {
     "name": "stdout",
     "output_type": "stream",
     "text": [
      "question: Where do you go to see a dinosaur bone?\n",
      "answer: museum\n",
      "common_expl_list: ['Dinosaur bones are not normally in tombs (unless their discovery happened during the excavation of a tomb) or arms (ego bones). Most dinosaur bones come from dead dinosaurs, so they are more likely to be found in museums, or in an excavation', 'Museums are where you usually go to see dinosaur fossils, artifacts from long-ago civilizations, and other cultural history.']\n",
      "generated_explanation: <pad> <extra_id_0> Dinosaur bones are often displayed in museums, where they are kept in special cases.<extra_id_1> </s>\n",
      "score: 0.7874174118041992\n",
      "question: The people were confused by the words being spoken, why would this be?\n",
      "answer: mean many things\n",
      "common_expl_list: ['If a person says something that has many meanings, it can be confusing to the listener.', 'Words can have multiple meanings. Meanings could often be considered contrary to one another, or just unclear, causing confusion.']\n",
      "generated_explanation: <pad> <extra_id_0> Words can mean many things, and people often get them mixed up when they are trying to understand what someone is saying.<extra_id_1> </s>\n",
      "score: 0.7455369830131531\n"
     ]
    },
    {
     "name": "stderr",
     "output_type": "stream",
     "text": [
      " 54%|█████████████████████████████████████████████████████████████████████████████████████████▋                                                                           | 536/986 [00:54<00:24, 18.67it/s]"
     ]
    },
    {
     "name": "stdout",
     "output_type": "stream",
     "text": [
      "question: Where can a person use pencils to keep score?\n",
      "answer: bowling alley\n",
      "common_expl_list: ['In bowling, people commonly score their games with pencils.', 'In a bowling alley, the score is traditionally kept with pencil ticks on a scoreboard.', 'Bowling alleys often have score-keeping pencils, and people can use them to keep score.']\n",
      "generated_explanation: <pad> <extra_id_0> Bowling alleys use scoreboards to keep track of the balls being bowled down, and people can use pencils to keep score.<extra_id_1> </s>\n",
      "score: 0.8220341801643372\n"
     ]
    },
    {
     "name": "stderr",
     "output_type": "stream",
     "text": [
      " 55%|██████████████████████████████████████████████████████████████████████████████████████████▊                                                                          | 543/986 [00:54<00:23, 19.12it/s]"
     ]
    },
    {
     "name": "stdout",
     "output_type": "stream",
     "text": [
      "question: He bought a warranty for the fragile objects just it case they what?\n",
      "answer: become broken\n",
      "common_expl_list: ['A warranty is a promise that the seller will repair or replace the item if it becomes broken.']\n",
      "generated_explanation: <pad> <extra_id_0> Fragile objects are objects that are easily broken, so it's a good idea to buy a warranty for fragile objects, just in case they break.<extra_id_1> </s>\n",
      "score: 0.7104933857917786\n",
      "question: The robot shockingly began to read book after book, it had apparently done what?\n",
      "answer: learn to read\n",
      "common_expl_list: [\"Robots are not known for their ability to read, and so it's surprising when one does.\"]\n",
      "generated_explanation: <pad> <extra_id_0> Robots can read, but they can't write. That's because computers can't read.<extra_id_1> </s>\n",
      "score: 0.14117878675460815\n"
     ]
    },
    {
     "name": "stderr",
     "output_type": "stream",
     "text": [
      " 56%|███████████████████████████████████████████████████████████████████████████████████████████▋                                                                         | 548/986 [00:55<00:22, 19.39it/s]"
     ]
    },
    {
     "name": "stdout",
     "output_type": "stream",
     "text": [
      "question: Lance owns a vineyard.  To make grapes he needs plenty of what?\n",
      "answer: sunshine\n",
      "common_expl_list: ['Sunlight is needed to power photosynthesis in agriculture, thereby producing the grapes to make wine.', 'Sunlight is needed to grow grapes.', 'Lance needs sunlight to grow grapes, i.e,. in a sunny place.']\n",
      "generated_explanation: <pad> <extra_id_0> Grapes are grown in the sun, and a vineyard needs plenty of sunshine to grow grapes.<extra_id_1> </s>\n",
      "score: 0.7759196758270264\n"
     ]
    },
    {
     "name": "stderr",
     "output_type": "stream",
     "text": [
      " 56%|████████████████████████████████████████████████████████████████████████████████████████████▉                                                                        | 555/986 [00:55<00:22, 19.30it/s]"
     ]
    },
    {
     "name": "stdout",
     "output_type": "stream",
     "text": [
      "question: Where could you put some olives if you want to cook them?\n",
      "answer: pizza\n",
      "common_expl_list: ['Olives are often used on pizza, and are therefore often put on pizza.']\n",
      "generated_explanation: <pad> <extra_id_0> Pizza is a food that is cooked in a very hot oven, and cooking with olives will make them bitter.<extra_id_1> </s>\n",
      "score: 0.17715509235858917\n",
      "question: Where are hot dogs are a commonly sold item away from a grocery store?\n",
      "answer: sporting event\n",
      "common_expl_list: ['Hot dogs are commonly sold at sporting events, such as baseball games, because people congregate to watch the game and eat food. The vendors at these venues can offer hot dogs to the people. Generally there are multiple opportunities at each sporting game that for', 'Hot dogs are a snack item that can often be found at sporting events and ballparks.', 'Hot dogs are often sold from carts at events, such as sporting events.', 'Hot dogs are commonly sold at sporting events, because they are a quick and easy food to eat while watching a game.']\n",
      "generated_explanation: <pad> <extra_id_0> Hot dogs are commonly sold at sporting events, where fans can buy them for a small price.<extra_id_1> </s>\n",
      "score: 0.717808187007904\n"
     ]
    },
    {
     "name": "stderr",
     "output_type": "stream",
     "text": [
      " 57%|█████████████████████████████████████████████████████████████████████████████████████████████▉                                                                       | 561/986 [00:55<00:22, 18.95it/s]"
     ]
    },
    {
     "name": "stdout",
     "output_type": "stream",
     "text": [
      "question: Where are tires are found on all of the vehicles found where you can travel long distances?\n",
      "answer: airport\n",
      "common_expl_list: ['some airports have several runways, and have vehicles with large tires to transport people and goods between its facilities.', 'Airports have paved runways upon which planes can land and take off. An airplane needs tires in order to land.']\n",
      "generated_explanation: <pad> <extra_id_0> Tires are rubber parts that are used to make vehicles go faster.<extra_id_1> </s>\n",
      "score: 0.1547652781009674\n",
      "question: The man passed out from drinking alcohol, what did his brain suffer from?\n",
      "answer: toxicity\n",
      "common_expl_list: ['Alcohol toxicity involves negative chemical changes in the brain, in this case excessive consumption of alcohol can result in excessive activation of chemical signalling.', 'Alcohol might result in brain toxins, which can alter its normal function.', \"Alcohol can lead to excess alcohol poisoning, or alcohol toxicity. This may weaken a person's brain, making it not function well.\", 'Brain cells are sensitive to alcohol, and alcohol toxicity can occur when one drinks alcohol after their brain cells have been saturated with alcohol. Damage can therefore occur without someone usually associated with alcohol-diseases, e.g., alcohol poisoning.', 'Alcohol is toxic to the brain, and can cause it to suffer from toxicity.']\n",
      "generated_explanation: <pad> <extra_id_0> Alcohol is a poisonous substance that can harm your brain.<extra_id_1> </s>\n",
      "score: 0.7454968094825745\n"
     ]
    },
    {
     "name": "stderr",
     "output_type": "stream",
     "text": [
      " 57%|██████████████████████████████████████████████████████████████████████████████████████████████▌                                                                      | 565/986 [00:56<00:22, 18.71it/s]"
     ]
    },
    {
     "name": "stdout",
     "output_type": "stream",
     "text": [
      "question: If you have a ticket and you are planning to eat popcorn, where would you go?\n",
      "answer: movie\n",
      "common_expl_list: ['A movie is a place where people often eat popcorn.']\n",
      "generated_explanation: <pad> <extra_id_0> Movies often feature popcorn, and people often go to movies to eat the popcorn.<extra_id_1> </s>\n",
      "score: 0.7614601254463196\n",
      "question: Where can you find cord along side nails and bolts?\n",
      "answer: hardware store\n",
      "common_expl_list: ['You can find cord along side nails/bolts at hardware stores, because they generally sell hardware along with paint, hardware tools, and nails/bolts.', 'Hardware stores sell cord along with nails and bolts.', 'Hardware stores sell cords along with nails, screws, bolts, and so forth.']\n",
      "generated_explanation: <pad> <extra_id_0> Hardware stores often sell cords alongside nails, screws, and other building materials, such as lumber.<extra_id_1> </s>\n",
      "score: 0.7437008619308472\n",
      "question: Many people complain after jumping up and down of which dizziness and?\n",
      "answer: headaches\n",
      "common_expl_list: [\"Jumping can produce tiny concussions to the upper portion of one's head, and footages one to sometimes get headaches; headaches are also caused by involuntary, muscle-wrenching jumps often done without warmup.\", \"During high impact activities such as jumping, one's brain should spin more rapidly than during low impact activities. This effectively shakes up a person and could possibly cause one to get headaches.\", 'Jumping up and down can cause headaches, as the head is moved up and down rapidly.']\n",
      "generated_explanation: <pad> <extra_id_0> Dizziness and headaches are both common complaints after vigorous exercise, and a common cause of complaint after a jump is that it causes headaches.<extra_id_1> </s>\n",
      "score: 0.7512362003326416\n",
      "question: How do central banks go about fighting inflation?\n",
      "answer: deflation\n",
      "common_expl_list: ['Inflation is a rise in the general level of prices of goods and services in an economy over a period of time. Central banks can fight inflation by decreasing the money supply, which can lead to deflation.']\n",
      "generated_explanation: <pad> <extra_id_0> Central banks fight inflation by reducing the money supply, which is a process known as deflation.<extra_id_1> </s>\n",
      "score: 0.767175018787384\n"
     ]
    },
    {
     "name": "stderr",
     "output_type": "stream",
     "text": [
      " 58%|████████████████████████████████████████████████████████████████████████████████████████████████▏                                                                    | 575/986 [00:56<00:22, 18.45it/s]"
     ]
    },
    {
     "name": "stdout",
     "output_type": "stream",
     "text": [
      "question: If a person feels they are getting a job but they never get the offer, how might they feel?\n",
      "answer: let down\n",
      "common_expl_list: ['It feels bad to have expected something as welcome, only to never receive it.', 'Letdown often comes from expecting something great to happen and then being dissapointed when that event does not.']\n",
      "generated_explanation: <pad> <extra_id_0> Let down is a feeling that comes after someone expects something to happen, such as getting a job offer, and it doesn't happen.<extra_id_1> </s>\n",
      "score: 0.712782084941864\n"
     ]
    },
    {
     "name": "stderr",
     "output_type": "stream",
     "text": [
      "\r",
      " 59%|████████████████████████████████████████████████████████████████████████████████████████████████▌                                                                    | 577/986 [00:56<00:23, 17.68it/s]"
     ]
    },
    {
     "name": "stdout",
     "output_type": "stream",
     "text": [
      "question: When giving assistance to family members in need you may feel what?\n",
      "answer: pleasure\n",
      "common_expl_list: ['A sense of fulfillment comes from helping those in need.']\n",
      "generated_explanation: <pad> <extra_id_0> When you give assistance to family members, you may feel a sense of pleasure. This may be because you are helping others, and helping others can be a rewarding experience.<extra_id_1> </s>\n",
      "score: 0.7698221802711487\n",
      "question: What type of presentation might be set up on a table?\n",
      "answer: demonstration\n",
      "common_expl_list: ['Demonstrations are generally performed on a simple table set up in a room, where people can observe the objects being put through the paces. Such demonstrations would include furniture, electrical, or food products and preparations.', 'Demonstrations are often set up on tables, as they are used to show people how to use various products.']\n",
      "generated_explanation: <pad> <extra_id_0> A demonstration might be set up on a table, with objects set up on the table to demonstrate a concept.<extra_id_1> </s>\n",
      "score: 0.761380672454834\n",
      "question: Houses require a study what to be built on?\n",
      "answer: foundation\n",
      "common_expl_list: ['Houses require a foundation to be built on.']\n",
      "generated_explanation: <pad> <extra_id_0> Houses are built on foundations, which are a firm, level base on which the house will be built.<extra_id_1> </s>\n",
      "score: 0.7110356688499451\n"
     ]
    },
    {
     "name": "stderr",
     "output_type": "stream",
     "text": [
      " 59%|█████████████████████████████████████████████████████████████████████████████████████████████████▌                                                                   | 583/986 [00:57<00:21, 19.13it/s]"
     ]
    },
    {
     "name": "stdout",
     "output_type": "stream",
     "text": [
      "question: Where is a automobile likely to go after an accident?\n",
      "answer: repair shop\n",
      "common_expl_list: ['Cars are repaired at repair shops. Cars are often damaged when crashing.']\n",
      "generated_explanation: <pad> <extra_id_0> Automobiles are often damaged in accidents, and the vehicle may need to be repaired.<extra_id_1> </s>\n",
      "score: 0.7171367406845093\n"
     ]
    },
    {
     "name": "stderr",
     "output_type": "stream",
     "text": [
      " 61%|███████████████████████████████████████████████████████████████████████████████████████████████████▉                                                                 | 597/986 [00:57<00:21, 18.49it/s]"
     ]
    },
    {
     "name": "stdout",
     "output_type": "stream",
     "text": [
      "question: Where might someone drive through rows of apple tree?\n",
      "answer: countryside\n",
      "common_expl_list: ['Apple trees are commonly found in the countryside.', 'Apple tree orchards are grown in the countryside, not in cities just outside of it.']\n",
      "generated_explanation: <pad> <extra_id_0> Apple trees grow in the countryside, and driving through them can provide a scenic view of the land.<extra_id_1> </s>\n",
      "score: 0.7562079429626465\n"
     ]
    },
    {
     "name": "stderr",
     "output_type": "stream",
     "text": [
      " 61%|████████████████████████████████████████████████████████████████████████████████████████████████████▋                                                                | 602/986 [00:58<00:20, 19.12it/s]"
     ]
    },
    {
     "name": "stdout",
     "output_type": "stream",
     "text": [
      "question: A human wants to go shopping in a dense urban area.  Where might be a good place for a person to go shopping?\n",
      "answer: downtown\n",
      "common_expl_list: ['Most stores and businesses are located downtown, on city blocks or on streets.', 'Downtown areas are typically where people go to shop in cities.']\n",
      "generated_explanation: <pad> <extra_id_0> Downtown is a place that's densely populated, so people often go there to shop.<extra_id_1> </s>\n",
      "score: 0.7451484203338623\n",
      "question: James was planning a vacation. he was doing this because he worked hard and needed something. What did he need?\n",
      "answer: relaxation\n",
      "common_expl_list: ['James was planning a vacation because he worked hard and needed to relax.', 'People on vacation often seek out relaxation.', 'He worked hard; he needed relaxation.']\n",
      "generated_explanation: <pad> <extra_id_0> Vacations are a time for people to relax, usually after they have worked hard all year. People take vacations to relax, because they need to recharge their batteries.<extra_id_1> </s>\n",
      "score: 0.7442307472229004\n"
     ]
    },
    {
     "name": "stderr",
     "output_type": "stream",
     "text": [
      " 61%|█████████████████████████████████████████████████████████████████████████████████████████████████████▍                                                               | 606/986 [00:58<00:20, 18.70it/s]"
     ]
    },
    {
     "name": "stdout",
     "output_type": "stream",
     "text": [
      "question: Putting on a professional stage play requires what kind of effort?\n",
      "answer: serious\n",
      "common_expl_list: ['While putting now for a play is often fun, it also requires a great deal of effort to put together a production of any kind, which is largely serious.', 'A stage play should be taken seriously; so, it is a serious sort of effort.']\n",
      "generated_explanation: <pad> <extra_id_0> Stage plays are performed for an audience, and professional stage plays require serious effort.<extra_id_1> </s>\n",
      "score: 0.7484475374221802\n"
     ]
    },
    {
     "name": "stderr",
     "output_type": "stream",
     "text": [
      " 62%|██████████████████████████████████████████████████████████████████████████████████████████████████████▍                                                              | 612/986 [00:58<00:19, 19.00it/s]"
     ]
    },
    {
     "name": "stdout",
     "output_type": "stream",
     "text": [
      "question: Where will you find more than one door?\n",
      "answer: apartment\n",
      "common_expl_list: ['Apartments have multiple doors, one for each apartment.', 'An apartment complex has multiple entries.']\n",
      "generated_explanation: <pad> <extra_id_0> Apartments often have more than one door, which allows you to enter and exit the building.<extra_id_1> </s>\n",
      "score: 0.8481503129005432\n"
     ]
    },
    {
     "name": "stderr",
     "output_type": "stream",
     "text": [
      "\r",
      " 62%|██████████████████████████████████████████████████████████████████████████████████████████████████████▉                                                              | 615/986 [00:58<00:19, 19.44it/s]"
     ]
    },
    {
     "name": "stdout",
     "output_type": "stream",
     "text": [
      "question: What is the goal of most people playing games?\n",
      "answer: winning\n",
      "common_expl_list: ['People play games to win.', 'People seek victory in almost all games, because winning is the objective, and therefore, a goal.', 'Games often have pre-defined clear goals meant to be achieved in order to win. These goals are the definition of winning.', 'The players are likely to become upset or discouraged if they lose the game, so winning is their goal.']\n",
      "generated_explanation: <pad> <extra_id_0> Games are played for fun, and most people like to win.<extra_id_1> </s>\n",
      "score: 0.7275646328926086\n",
      "question: Where would you go if you didn't feel like baking a cake yourself?\n",
      "answer: bakery\n",
      "common_expl_list: [\"A bakery sells cakes. Sometimes people may not feel like baking cakes; if they don't they can go to a bakery and buy one prepreviously baked.\"]\n",
      "generated_explanation: <pad> <extra_id_0> Bakeries make cakes, cookies, and other sweet treats. People often go to bakeries when they want a cake, but they don't want to bake it themselves.<extra_id_1> </s>\n",
      "score: 0.7936739921569824\n",
      "question: What is a popular pork bbq dish?\n",
      "answer: ribs\n",
      "common_expl_list: ['BBQ Pork rib is a popular food in the southern USA.', 'Pork ribs are a popular bbq dish.']\n",
      "generated_explanation: <pad> <extra_id_0> Ribs are a popular pork bbq dish, often made from pork.<extra_id_1> </s>\n",
      "score: 0.8003532290458679\n"
     ]
    },
    {
     "name": "stderr",
     "output_type": "stream",
     "text": [
      " 63%|████████████████████████████████████████████████████████████████████████████████████████████████████████                                                             | 622/986 [00:59<00:18, 19.24it/s]"
     ]
    },
    {
     "name": "stdout",
     "output_type": "stream",
     "text": [
      "question: The king needed to feel safe, where did he go?\n",
      "answer: castle\n",
      "common_expl_list: ['Castles usually have lots of guards and security features. That way, they can provide a lot of protection to those inside.', 'A castle is a fortified building, and thus, it is a safe place to be.']\n",
      "generated_explanation: <pad> <extra_id_0> Castles are places where kings or other powerful people go to feel safe.<extra_id_1> </s>\n",
      "score: 0.721943199634552\n",
      "question: Dan's mother always told him that bathing was necessary because it led to what?\n",
      "answer: cleanliness\n",
      "common_expl_list: ['Bathing is a way to clean oneself.']\n",
      "generated_explanation: <pad> <extra_id_0> Bathing is a good way to maintain cleanliness, and Dan's mother always said that bathing was necessary because it led to cleanliness.<extra_id_1> </s>\n",
      "score: 0.7498948574066162\n"
     ]
    },
    {
     "name": "stderr",
     "output_type": "stream",
     "text": [
      " 64%|█████████████████████████████████████████████████████████████████████████████████████████████████████████                                                            | 628/986 [00:59<00:18, 19.27it/s]"
     ]
    },
    {
     "name": "stdout",
     "output_type": "stream",
     "text": [
      "question: What would cause someone to have to re illustrate point?\n",
      "answer: did not understand\n",
      "common_expl_list: ['When you understand a concept taught by a teacher, little or no illustration needs to be done. In a similar sense, when you do not understand a concept, more illustration is needed to understand the concept.']\n",
      "generated_explanation: <pad> <extra_id_0> A good explanation of a problem is to show that a solution has been found that does not involve re-examining the problem.<extra_id_1> </s>\n",
      "score: 0.1800311952829361\n",
      "question: If you need more information on a subject you can read books to what?\n",
      "answer: further knowledge\n",
      "common_expl_list: [\"A subject that is interesting to you may require further knowledge on the subject; if you want to learn more, you'd read related books to learn more about the subject.\", 'Books are a good source of information, and so if you need more information on a subject, you can read books to get it.']\n",
      "generated_explanation: <pad> <extra_id_0> Books are written about a subject and contain information about that subject. You can use books to further your knowledge of a subject, for example, by reading about it in a book.<extra_id_1> </s>\n",
      "score: 0.7908788323402405\n"
     ]
    },
    {
     "name": "stderr",
     "output_type": "stream",
     "text": [
      " 64%|█████████████████████████████████████████████████████████████████████████████████████████████████████████▉                                                           | 633/986 [00:59<00:17, 19.77it/s]"
     ]
    },
    {
     "name": "stdout",
     "output_type": "stream",
     "text": [
      "question: If a person is feeling sick, but has a project to finish, what should they do?\n",
      "answer: work at home\n",
      "common_expl_list: ['The person should finish work at home to avoid missing work as they are ill. At home, they are also close to home to get treatment.', \"If the person has a project to finish, and they're feeling sick, they shouldn't miss work, so they should work from home.\"]\n",
      "generated_explanation: <pad> <extra_id_0> People often work at home when they are sick, because they can usually finish projects at home while they are feeling well.<extra_id_1> </s>\n",
      "score: 0.8187330365180969\n",
      "question: The president is the leader of what institution?\n",
      "answer: government\n",
      "common_expl_list: ['The President is part of the executive branch of US government.', 'The president is the executive officer of the government of a country, and the leader of that country.', 'The President of the USA is the head of the executive branch. In modern day democracies, the executive branch runs the governemt. It is common for the executive branch to be lead by a President.']\n",
      "generated_explanation: <pad> <extra_id_0> The president is the leader of the United States government, the highest institution in the country.<extra_id_1> </s>\n",
      "score: 0.736851692199707\n"
     ]
    },
    {
     "name": "stderr",
     "output_type": "stream",
     "text": [
      " 66%|████████████████████████████████████████████████████████████████████████████████████████████████████████████                                                         | 646/986 [01:00<00:17, 19.74it/s]"
     ]
    },
    {
     "name": "stdout",
     "output_type": "stream",
     "text": [
      "question: The teacher told the class they would be taking a lot of notes this semester, he recommended buying a what just for this class?\n",
      "answer: notebook\n",
      "common_expl_list: ['The teacher recommended that the students buy a notebook just for this class, because they would be taking a lot of notes.']\n",
      "generated_explanation: <pad> <extra_id_0> Notebooks are useful for taking notes, and classes often require students to take notes.<extra_id_1> </s>\n",
      "score: 0.714607298374176\n",
      "question: What do you receive a new credit card in?\n",
      "answer: envelope\n",
      "common_expl_list: ['Credit cards are often mailed to people in envelopes.', 'Credit card companies generally send customers free credit cards in envelopes. This is likely the most efficient method for sending credit cards.']\n",
      "generated_explanation: <pad> <extra_id_0> Credit cards are often sent in an envelope, and a credit card company will seal the envelope, keeping the card inside.<extra_id_1> </s>\n",
      "score: 0.7995579838752747\n",
      "question: How do you signal that you are agreeing with someone on a deal?\n",
      "answer: shaking hand\n",
      "common_expl_list: ['When two people agree on a deal, they may shake hands to signal that they are in agreement.', 'When two parties agree on a deal, they typically shake hands to signify agreement.', 'When people make deals with each other, they often shake hands before or after making a deal.']\n",
      "generated_explanation: <pad> <extra_id_0> Shaking hands is a way to signal that you are agreeing with someone, and that you are willing to make a deal.<extra_id_1> </s>\n",
      "score: 0.7940930724143982\n",
      "question: What could you put a ruler either on top of or into?\n",
      "answer: desk\n",
      "common_expl_list: [\"Desks are likely to have rulers in them, and even if they don't have rulers, sometimes they have either a pencil cup or one of those plastic cups on top which would allow you to put a ruler on top.\", 'Many types of rulers can be put on desks to be used, and many rulers can be put into desks as well to be stored. In fact, in many types of desks, rulers are made a part of the desk itself for storage purposes.']\n",
      "generated_explanation: <pad> <extra_id_0> Desks are used for storing things, like books, and rulers could be stored on top of them.<extra_id_1> </s>\n",
      "score: 0.7767390608787537\n"
     ]
    },
    {
     "name": "stderr",
     "output_type": "stream",
     "text": [
      " 66%|█████████████████████████████████████████████████████████████████████████████████████████████████████████████                                                        | 652/986 [01:00<00:16, 20.13it/s]"
     ]
    },
    {
     "name": "stdout",
     "output_type": "stream",
     "text": [
      "question: What can drinking alcohol in excess to the point of poisoning cause?\n",
      "answer: death\n",
      "common_expl_list: ['Alcohol at high enough concentrations can cause death due to its toxicity.']\n",
      "generated_explanation: <pad> <extra_id_0> Alcohol is a poison that can cause death if consumed in excess.<extra_id_1> </s>\n",
      "score: 0.74711012840271\n",
      "question: When doing housework, what would be most useful to clean the patio?\n",
      "answer: broom\n",
      "common_expl_list: ['A broom is useful for sweeping dirt and dust off of a patio.']\n",
      "generated_explanation: <pad> <extra_id_0> Brooms are useful for cleaning surfaces, such as patios, driveways, and sidewalks.<extra_id_1> </s>\n",
      "score: 0.7820047736167908\n",
      "question: Where might a traveler keep their comb?\n",
      "answer: suitcase\n",
      "common_expl_list: [\"A comb is a small item that could be kept in a pocket, but it's more likely to be kept in a suitcase, which is a large item that is likely to be kept in a traveler's hotel room.\"]\n",
      "generated_explanation: <pad> <extra_id_0> Travelers often keep combs in their suitcases, because suitcases are convenient for carrying around small items.<extra_id_1> </s>\n",
      "score: 0.8309040665626526\n"
     ]
    },
    {
     "name": "stderr",
     "output_type": "stream",
     "text": [
      " 67%|██████████████████████████████████████████████████████████████████████████████████████████████████████████████▌                                                      | 661/986 [01:01<00:16, 20.13it/s]"
     ]
    },
    {
     "name": "stdout",
     "output_type": "stream",
     "text": [
      "question: Where can you buy clothing, sporting goods, and housewares?\n",
      "answer: department store\n",
      "common_expl_list: ['Department stores often sell not only clothing, sporting goods, and housewares, but also other things such as groceries, toys, and furniture.', 'Department stores sell a variety of goods, including clothing, sporting goods, and housewares.']\n",
      "generated_explanation: <pad> <extra_id_0> Department stores are large stores where people can buy clothing, shoes, and other items for a home or for business.<extra_id_1> </s>\n",
      "score: 0.7017529010772705\n",
      "question: What would cause a person to have  headaches?\n",
      "answer: brain tumor\n",
      "common_expl_list: ['A brain tumor can inflame part of the brain, resulting in headaches.', 'An undiagnosed brain tumor would be a cause for headaches.']\n",
      "generated_explanation: <pad> <extra_id_0> Brain tumors are very common causes of headaches, and they can affect anyone.<extra_id_1> </s>\n",
      "score: 0.713058352470398\n",
      "question: You eat popcorn when you go to see what?\n",
      "answer: movies\n",
      "common_expl_list: [\"The movie theater is oftentimes combined with a popcorn concession, so it's common to choose popcorn during the movie.\", 'The theater is the place that presents movies. If you are seeing a movie, you might enjoy some snacks like popcorn or a hotdog.', 'Popcorn is a common snack at movie theaters.']\n",
      "generated_explanation: <pad> <extra_id_0> Popcorn is a common food that people eat when they are at the movies, and it's often served at movies as an appetizer, and people often eat it while watching the movie.<extra_id_1> </s>\n",
      "score: 0.7427794337272644\n",
      "question: Bald eagles naturally live where?\n",
      "answer: great outdoors\n",
      "common_expl_list: ['Bald eagles are birds, and birds live in the great outdoors.', 'Bald eagles live in natural environments, like great outdoors.']\n",
      "generated_explanation: <pad> <extra_id_0> Bald eagles are solitary birds and live in large groups, usually in large open spaces, such as forests or deserts. They hunt for food, and may take other animals as food, so they are not considered to be a threat to humans.<extra_id_1> </s>\n",
      "score: 0.1960562914609909\n"
     ]
    },
    {
     "name": "stderr",
     "output_type": "stream",
     "text": [
      " 68%|███████████████████████████████████████████████████████████████████████████████████████████████████████████████▌                                                     | 667/986 [01:01<00:15, 20.28it/s]"
     ]
    },
    {
     "name": "stdout",
     "output_type": "stream",
     "text": [
      "question: Where might I find a bowl nestled among other bowls in the kitchen?\n",
      "answer: cupboard\n",
      "common_expl_list: ['A cupboard is a type of interior wall cabinet used for storage. A bowl could feasibly be inside of it.', 'Bowls are usually stored in cupboards.']\n",
      "generated_explanation: <pad> <extra_id_0> Cupboards are places where items are kept, and bowls are often found.<extra_id_1> </s>\n",
      "score: 0.8281583786010742\n",
      "question: If you ate some spicy food, what could happen to you?\n",
      "answer: heartburn\n",
      "common_expl_list: ['Spicy food can cause heartburn, which is a burning sensation in the chest.']\n",
      "generated_explanation: <pad> <extra_id_0> Spicy foods can cause heartburn, which is a burning sensation in the chest that occurs after eating the food.<extra_id_1> </s>\n",
      "score: 0.8444072604179382\n",
      "question: Why might someone want to be buying beer?\n",
      "answer: pleasure\n",
      "common_expl_list: ['People often want to drink beer in order to feel pleasured by the drug-like effects of alcohol, or just feel pleasure in general.', 'Many people drink beer for the positive feeling of intoxification.', 'Many people enjoy drinking beer, and so they might buy beer, especially if they wanted to get intoxicated.', 'Beer is commonly consumed recreationally.']\n",
      "generated_explanation: <pad> <extra_id_0> Beer is a drink that people buy to enjoy, and buying it gives them pleasure.<extra_id_1> </s>\n",
      "score: 0.7798978090286255\n",
      "question: Why was the line formed outside of the hot-dog stand?\n",
      "answer: wait turn\n",
      "common_expl_list: ['People formed a line because they needed to wait in turn in order to make purchases.']\n",
      "generated_explanation: <pad> <extra_id_0> Hot dogs are usually sold at stands, and stands are often located in areas where people congregate to wait their turn to be served.<extra_id_1> </s>\n",
      "score: 0.7012923955917358\n"
     ]
    },
    {
     "name": "stderr",
     "output_type": "stream",
     "text": [
      " 69%|█████████████████████████████████████████████████████████████████████████████████████████████████████████████████                                                    | 676/986 [01:01<00:15, 19.77it/s]"
     ]
    },
    {
     "name": "stdout",
     "output_type": "stream",
     "text": [
      "question: Sam was a short distance runner. He couldn't do long distances.  What might happen if he tried long distances?\n",
      "answer: get tired\n",
      "common_expl_list: ['Short distance runners have a difficult time at longer distances, because they may get tired and have trouble running longer distances.', 'Short distance runners are not built to run long distances. They might get tired and have to stop running.']\n",
      "generated_explanation: <pad> <extra_id_0> Short distance runners usually get tired very quickly. This is because their bodies are not designed to run long distances.<extra_id_1> </s>\n",
      "score: 0.7126632332801819\n",
      "question: Where are people usually most comfortable?\n",
      "answer: own home\n",
      "common_expl_list: ['People are most comfortable in their own homes, where they can do whatever they want.', 'The most comfortable place to people are likely there own homes, where they can cook their own food, sleep on their own beds, etc.']\n",
      "generated_explanation: <pad> <extra_id_0> People usually feel most comfortable in their own homes, because that is where they are familiar with their surroundings.<extra_id_1> </s>\n",
      "score: 0.7839952111244202\n",
      "question: Where do uniformed officials search travelers looking for terrorists?\n",
      "answer: airport\n",
      "common_expl_list: ['Certain officials from many countries help to look for terrorists anywhere they may be found, i.e., in the airports they might use to fly from place to place, given they think terrorists could be looking to attack elsewhere, such as in Afghanistan.', 'An airport is one of many places where a person would go to and from different destinations; airports make sense for travelers. Participants in searches for terrorists in other countries would also be searching people leaving as opposed to entering the places.']\n",
      "generated_explanation: <pad> <extra_id_0> Airports are places where people can be searched for terrorists, and officials are trained to look for signs of terrorism.<extra_id_1> </s>\n",
      "score: 0.7900843620300293\n",
      "question: The comforter was a favorite for cuddling in front of the TV, where did the family put it?\n",
      "answer: livingroom\n",
      "common_expl_list: ['The TV is likely to be in the living room in a family home.']\n",
      "generated_explanation: <pad> <extra_id_0> Living rooms often have TVs, and people like to curl up in front of the TV with a good book or magazine.<extra_id_1> </s>\n",
      "score: 0.7301433086395264\n"
     ]
    },
    {
     "name": "stderr",
     "output_type": "stream",
     "text": [
      " 69%|██████████████████████████████████████████████████████████████████████████████████████████████████████████████████▎                                                  | 683/986 [01:02<00:15, 19.45it/s]"
     ]
    },
    {
     "name": "stdout",
     "output_type": "stream",
     "text": [
      "question: Why would you be able to wait for someone?\n",
      "answer: have patience\n",
      "common_expl_list: [\"people can wait for other because they have patience; they'll be standing in one place, waiting for something.\"]\n",
      "generated_explanation: <pad> <extra_id_0> Patience is the quality of being able to wait for someone without becoming impatient.<extra_id_1> </s>\n",
      "score: 0.7418788075447083\n"
     ]
    },
    {
     "name": "stderr",
     "output_type": "stream",
     "text": [
      " 70%|███████████████████████████████████████████████████████████████████████████████████████████████████████████████████▎                                                 | 689/986 [01:02<00:15, 18.98it/s]"
     ]
    },
    {
     "name": "stdout",
     "output_type": "stream",
     "text": [
      "question: Where would you put some coffee if you are thirsty?\n",
      "answer: cup\n",
      "common_expl_list: ['People drink beverages such as coffee and water from vessels like cups.']\n",
      "generated_explanation: <pad> <extra_id_0> A cup is a container that holds liquids, such as coffee.<extra_id_1> </s>\n",
      "score: 0.7000998854637146\n"
     ]
    },
    {
     "name": "stderr",
     "output_type": "stream",
     "text": [
      " 70%|███████████████████████████████████████████████████████████████████████████████████████████████████████████████████▉                                                 | 693/986 [01:02<00:15, 18.97it/s]"
     ]
    },
    {
     "name": "stdout",
     "output_type": "stream",
     "text": [
      "question: He used hair styling gel, he kept it where?\n",
      "answer: bathroom\n",
      "common_expl_list: ['Hair styling gel is used to style hair, and is often kept in the bathroom.']\n",
      "generated_explanation: <pad> <extra_id_0> Hair styling gel is a product that is used to style hair, and it is usually kept in bathrooms.<extra_id_1> </s>\n",
      "score: 0.7213969230651855\n",
      "question: The broadcast studio had a booth set up for interviews, the host sat down and adjusted his what so the audience could hear?\n",
      "answer: microphone\n",
      "common_expl_list: ['A microphone is used to pick up sound so that it can be fed to a radio or television station for broadcasting. The host of a show will usually have a microphone to pick up their voice.']\n",
      "generated_explanation: <pad> <extra_id_0> Microphones are devices that transmit sound, and hosts often use them during interviews.<extra_id_1> </s>\n",
      "score: 0.7594138383865356\n"
     ]
    },
    {
     "name": "stderr",
     "output_type": "stream",
     "text": [
      " 71%|████████████████████████████████████████████████████████████████████████████████████████████████████████████████████▉                                                | 699/986 [01:03<00:15, 18.64it/s]"
     ]
    },
    {
     "name": "stdout",
     "output_type": "stream",
     "text": [
      "question: What appliance uses water and soap?\n",
      "answer: washing machine\n",
      "common_expl_list: ['Washing machines require water and soap to wash clothes.', 'washing machines are often used for washing clothes, clothes are washed using soapy water.', 'Washing machines use water and soap to clean clothes.']\n",
      "generated_explanation: <pad> <extra_id_0> A washing machine uses water and soap to clean clothes.<extra_id_1> </s>\n",
      "score: 0.7791626453399658\n",
      "question: Where will a bullet projectile be found during a war?\n",
      "answer: battle field\n",
      "common_expl_list: ['Bullets are fired from guns during battles.', 'Bullets and bullet shell casings could be found on battlefields, remnants from gunfire during wartime.', 'Bullets are fired as projectiles during a war, and thus are likely to be found on battle fields.', 'Most ammunition will remain in the gun in which it is fired from --- when battles are fought, land, including weapons and portions of the opposing forces are thus present on the battle field']\n",
      "generated_explanation: <pad> <extra_id_0> Bullets are projectiles that are fired during battles.<extra_id_1> </s>\n",
      "score: 0.7165870070457458\n"
     ]
    },
    {
     "name": "stderr",
     "output_type": "stream",
     "text": [
      " 71%|█████████████████████████████████████████████████████████████████████████████████████████████████████████████████████▋                                               | 703/986 [01:03<00:14, 19.01it/s]"
     ]
    },
    {
     "name": "stdout",
     "output_type": "stream",
     "text": [
      "question: What can be done with a product on a table?\n",
      "answer: demonstration\n",
      "common_expl_list: ['Often products are demonstrated in stores on tables.', 'A product on a table is likely to be demonstrated, e.g., by a salesperson.']\n",
      "generated_explanation: <pad> <extra_id_0> A product on a table can be used to demonstrate its use, for example, by displaying it on a table.<extra_id_1> </s>\n",
      "score: 0.804597020149231\n",
      "question: The mountain was very massive.  It did what to the nearby hills?\n",
      "answer: dwarf\n",
      "common_expl_list: ['Dwarf is a size term that refers to small objects that are short, e.g., \"He\\'s a dwarf!\" Often this can apply to hills. Small hills can often be otherwise unnoteworthy when next to a much bigger mountain.']\n",
      "generated_explanation: <pad> <extra_id_0> Mountains are usually very large, but some are very massive. Because mountains are very massive, they can crush smaller mountains.<extra_id_1> </s>\n",
      "score: 0.17117008566856384\n"
     ]
    },
    {
     "name": "stderr",
     "output_type": "stream",
     "text": [
      " 72%|██████████████████████████████████████████████████████████████████████████████████████████████████████████████████████▋                                              | 709/986 [01:03<00:13, 19.84it/s]"
     ]
    },
    {
     "name": "stdout",
     "output_type": "stream",
     "text": [
      "question: If a person accidentally harms another person, what happens to them?\n",
      "answer: feel ashamed\n",
      "common_expl_list: ['If a person harms another person, they may feel ashamed of what they did.']\n",
      "generated_explanation: <pad> <extra_id_0> If someone accidentally harms another person, that person may feel ashamed. Shame can cause a person to feel bad about themselves.<extra_id_1> </s>\n",
      "score: 0.7014162540435791\n"
     ]
    },
    {
     "name": "stderr",
     "output_type": "stream",
     "text": [
      " 73%|████████████████████████████████████████████████████████████████████████████████████████████████████████████████████████▎                                            | 719/986 [01:04<00:13, 19.93it/s]"
     ]
    },
    {
     "name": "stdout",
     "output_type": "stream",
     "text": [
      "question: He lit another candle in the Menorah, everybody at the what watched?\n",
      "answer: synagogue\n",
      "common_expl_list: [\"While people light candles for personal reasons, like a birthday celebration, it's also typical for the members of a synagogue to light candles at a synagogue in a menorah, e.g., during Hanukkah or to celebrate a Jewish holiday.\", 'In synagogues, menorahs are often put on display at a classy, public place where others can watch them, e.g., near in front of the stage, etc.', 'Jews celebrate Hanukkah by lighting the Menorah, and so, as is fitting for this type of solemn event, they usually do it in a synagogue.']\n",
      "generated_explanation: <pad> <extra_id_0> Menorahs are lit during religious services, and people in the synagogue watch as the candle is lit.<extra_id_1> </s>\n",
      "score: 0.7044599652290344\n",
      "question: What is water rapids that are choppy considered?\n",
      "answer: dangerous\n",
      "common_expl_list: ['Water rapids are dangerous, as they can be choppy and unpredictable.', 'Choppy water is dangerous.']\n",
      "generated_explanation: <pad> <extra_id_0> Water rapids that are choppy are considered dangerous because they can cause large waves.<extra_id_1> </s>\n",
      "score: 0.7575188875198364\n",
      "question: What would a person do if he or she wants to buy something at a store?\n",
      "answer: wait in line\n",
      "common_expl_list: [\"Sometimes, when you want to buy something from a store, you have to wait in line, either because that the store wasn't restocked recently, or because it's very busy.\"]\n",
      "generated_explanation: <pad> <extra_id_0> Stores often have lines outside, and people who want to buy things in stores have to wait in line.<extra_id_1> </s>\n",
      "score: 0.7636924982070923\n",
      "question: Where can you find a place to eat and places to buy items of many different kinds?\n",
      "answer: shopping center\n",
      "common_expl_list: ['A shopping center is a place where you can find a variety of stores, e.g., clothing stores, grocery stores, restaurants, etc.', 'Shopping centers has places to eat, places to buy items of different mentalities, and usually a place of entertainment.']\n",
      "generated_explanation: <pad> <extra_id_0> Shopping centers are large buildings where people can go to buy goods. Often, people go to shopping centers to eat at restaurants and to shop.<extra_id_1> </s>\n",
      "score: 0.7579088807106018\n"
     ]
    },
    {
     "name": "stderr",
     "output_type": "stream",
     "text": [
      " 74%|█████████████████████████████████████████████████████████████████████████████████████████████████████████████████████████▋                                           | 727/986 [01:04<00:12, 20.00it/s]"
     ]
    },
    {
     "name": "stdout",
     "output_type": "stream",
     "text": [
      "question: A human is hitch hiking near Hoboken, where is he?\n",
      "answer: new jersey\n",
      "common_expl_list: ['Hoboken is a city in New Jersey.', 'Hoboken is a city near the coast in New Jersey.', 'Hoboken is located in New Jersey.', 'Hoboken is a city in New Jersey.']\n",
      "generated_explanation: <pad> <extra_id_0> A human can hitchhike in New Jersey, but he cannot walk there.<extra_id_1> </s>\n",
      "score: 0.13739658892154694\n",
      "question: Where can you get gasoline?\n",
      "answer: gas station\n",
      "common_expl_list: ['Gas stations are places where gasoline is sold.']\n",
      "generated_explanation: <pad> <extra_id_0> Gas stations sell gasoline, and people often buy gasoline at gas stations rather than at the pump, because the pump prices gasoline very high.<extra_id_1> </s>\n",
      "score: 0.7218502163887024\n"
     ]
    },
    {
     "name": "stderr",
     "output_type": "stream",
     "text": [
      "\r",
      " 74%|██████████████████████████████████████████████████████████████████████████████████████████████████████████████████████████▏                                          | 730/986 [01:04<00:12, 20.18it/s]"
     ]
    },
    {
     "name": "stdout",
     "output_type": "stream",
     "text": [
      "question: What places would have a cemetery?\n",
      "answer: most cities\n",
      "common_expl_list: ['Most cities have a cemetery, which is a place to bury corpses.']\n",
      "generated_explanation: <pad> <extra_id_0> Cemeteries are common places to find buried remains, especially in urban areas.<extra_id_1> </s>\n",
      "score: 0.8196551203727722\n"
     ]
    },
    {
     "name": "stderr",
     "output_type": "stream",
     "text": [
      " 75%|███████████████████████████████████████████████████████████████████████████████████████████████████████████████████████████▏                                         | 736/986 [01:04<00:12, 20.16it/s]"
     ]
    },
    {
     "name": "stdout",
     "output_type": "stream",
     "text": [
      "question: If a person has stage fright and is about to go on stage what will they experience?\n",
      "answer: anxiety\n",
      "common_expl_list: ['Anxiety is a feeling of worry or fear. Stage fright is a feeling of anxiety about performing in front of an audience.']\n",
      "generated_explanation: <pad> <extra_id_0> Stage fright is a type of anxiety in which a person feels fear when they are about to perform on stage. People who have stage fright often experience anxiety before performing on stage because they are afraid of what they will say or do.<extra_id_1> </s>\n",
      "score: 0.8464989066123962\n"
     ]
    },
    {
     "name": "stderr",
     "output_type": "stream",
     "text": [
      " 75%|████████████████████████████████████████████████████████████████████████████████████████████████████████████████████████████▏                                        | 742/986 [01:05<00:11, 20.35it/s]"
     ]
    },
    {
     "name": "stdout",
     "output_type": "stream",
     "text": [
      "question: where do some monkeys tend to live taht is hot?\n",
      "answer: tropical areas\n",
      "common_expl_list: [\"Monkeys are often found in tropical areas, where it's hot and humid.\"]\n",
      "generated_explanation: <pad> <extra_id_0> Monkeys tend to live in tropical areas, where it's hot and humid.<extra_id_1> </s>\n",
      "score: 0.7332179546356201\n"
     ]
    },
    {
     "name": "stderr",
     "output_type": "stream",
     "text": [
      " 76%|██████████████████████████████████████████████████████████████████████████████████████████████████████████████████████████████                                       | 753/986 [01:05<00:11, 20.02it/s]"
     ]
    },
    {
     "name": "stdout",
     "output_type": "stream",
     "text": [
      "question: Where would you find a sign with some people lined up next to it?\n",
      "answer: bus stop\n",
      "common_expl_list: ['People waiting for busses to take them places, e.g., to work, are often lined up next to signs saying something like \"line up here\".']\n",
      "generated_explanation: <pad> <extra_id_0> Bus stops are places where people wait for buses to come along. You might see people lined up at bus stops, waiting for the bus to come along.<extra_id_1> </s>\n",
      "score: 0.770908534526825\n",
      "question: Where might  jellyfish stay warm?\n",
      "answer: pacific ocean\n",
      "common_expl_list: ['Jellyfish live in the Pacific ocean, and the Pacific ocean is warmer than the Atlantic ocean.', 'Jellyfish are found in the Pacific, and creatures tend to stay in warmer places during the winter, as it is too cold to go without shelter or adequate clothing.']\n",
      "generated_explanation: <pad> <extra_id_0> Jellyfish live in the pacific ocean, where temperatures are generally warmer than on land.<extra_id_1> </s>\n",
      "score: 0.7006997466087341\n"
     ]
    },
    {
     "name": "stderr",
     "output_type": "stream",
     "text": [
      " 77%|███████████████████████████████████████████████████████████████████████████████████████████████████████████████████████████████                                      | 759/986 [01:06<00:11, 20.13it/s]"
     ]
    },
    {
     "name": "stdout",
     "output_type": "stream",
     "text": [
      "question: Where do people typically store a drill?\n",
      "answer: garage\n",
      "common_expl_list: ['Drills are usually used for home improvement projects, and so, are often stored in garages.', 'Drills are usually used for fixing objects, hence most people keep them in garages of houses, or in the garages of fix-it shops.', 'Drills are usually used to fix objects. If people repair things themselves, they are likely to keep tools in their garage.']\n",
      "generated_explanation: <pad> <extra_id_0> Drills are typically stored in garages, which are enclosed spaces where tools are kept out of the way.<extra_id_1> </s>\n",
      "score: 0.7775449752807617\n",
      "question: What is moving cars without looking likely to result in?\n",
      "answer: accidents\n",
      "common_expl_list: ['Failure to pay attention is very likely to result in accidents.', 'Accidents are likely to occur when people are not paying attention to the road.']\n",
      "generated_explanation: <pad> <extra_id_0> Moving cars without looking is likely to result in accidents, especially if the cars are not paying attention.<extra_id_1> </s>\n",
      "score: 0.7074295282363892\n",
      "question: The teacher encouraged note taking because everything was important, but it turned out the information that day was what for the upcoming quiz?\n",
      "answer: useless\n",
      "common_expl_list: ['The information that was presented was not important for the upcoming quiz.', 'Note taking was ineffectual in this case because the information across the board was useless.']\n",
      "generated_explanation: <pad> <extra_id_0> The teacher encouraged note taking because the upcoming quiz would be about the material covered on the quiz.<extra_id_1> </s>\n",
      "score: 0.16875091195106506\n"
     ]
    },
    {
     "name": "stderr",
     "output_type": "stream",
     "text": [
      "\r",
      " 77%|███████████████████████████████████████████████████████████████████████████████████████████████████████████████████████████████▌                                     | 762/986 [01:06<00:11, 20.24it/s]"
     ]
    },
    {
     "name": "stdout",
     "output_type": "stream",
     "text": [
      "question: Where do you hang notes in the kitchen?\n",
      "answer: fridge\n",
      "common_expl_list: ['You might hang notes on a fridge for your family to see in an easy to see area, such as by the door. It is also common to put notes on fridges to remind family members to pick up groceries.']\n",
      "generated_explanation: <pad> <extra_id_0> Fridges are great places to keep things like notes, recipes, and other items.<extra_id_1> </s>\n",
      "score: 0.7424376606941223\n",
      "question: Shopping all day is likely to lead to?\n",
      "answer: tiredness\n",
      "common_expl_list: ['Having to stand for long periods of time leads to physical fatigue that can wear someone down substantially, if done on an all day basis.', 'Shopping is a physically demanding activity, and so, after shopping all day, one would be tired.', 'A full day of shopping would likely tire someone out, as they would have stood around for 10+ hours.', 'If one goes shopping for very long, it becomes a physically tiring experience. Given that customers must walk, stand up, and carry heavy items, visiting stores for too long can leave a person physically exhausted.']\n",
      "generated_explanation: <pad> <extra_id_0> Shopping all day can lead to a lot of tiredness, which can lead to a variety of health problems.<extra_id_1> </s>\n",
      "score: 0.7597148418426514\n"
     ]
    },
    {
     "name": "stderr",
     "output_type": "stream",
     "text": [
      " 78%|█████████████████████████████████████████████████████████████████████████████████████████████████████████████████████████████████                                    | 771/986 [01:06<00:10, 20.35it/s]"
     ]
    },
    {
     "name": "stdout",
     "output_type": "stream",
     "text": [
      "question: Bar service is a very important part of what kind of celebration?\n",
      "answer: wedding\n",
      "common_expl_list: ['Bar service is a very important part of wedding receptions, where alcohol is served.']\n",
      "generated_explanation: <pad> <extra_id_0> Weddings are very formal affairs, and bars are often set up in reception areas to serve alcohol.<extra_id_1> </s>\n",
      "score: 0.7215585708618164\n"
     ]
    },
    {
     "name": "stderr",
     "output_type": "stream",
     "text": [
      " 79%|██████████████████████████████████████████████████████████████████████████████████████████████████████████████████████████████████                                   | 777/986 [01:06<00:10, 20.34it/s]"
     ]
    },
    {
     "name": "stdout",
     "output_type": "stream",
     "text": [
      "question: The prisoner would often escape but he was also just as often what?\n",
      "answer: being caught\n",
      "common_expl_list: ['The person may have escaped from jail, but he was also caught and imprisoned at times. Prision escapes are usually wasted if one is only caught after the long escape.']\n",
      "generated_explanation: <pad> <extra_id_0> Prisoners are often caught when they try to escape, and escaping often means they will be caught.<extra_id_1> </s>\n",
      "score: 0.7170016765594482\n",
      "question: If a person wants to make sure their lemonade is the most refreshing, where might they store it?\n",
      "answer: refrigerator\n",
      "common_expl_list: ['Refrigerators are used to store food and drinks, which can be kept cool to prevent spoilage.']\n",
      "generated_explanation: <pad> <extra_id_0> A refrigerator is a place where food and drinks are kept cool, so drinks like lemonade will stay cool.<extra_id_1> </s>\n",
      "score: 0.7058466672897339\n",
      "question: The judge found him guilty of committing perjury, this brought the man great what?\n",
      "answer: shame\n",
      "common_expl_list: ['Perjury is a crime, and the judge found him guilty of it, so he would feel shame.', 'Perjury is considered criminal act because lies can be abused to corrupt the course of justice. A person who lies when they profess to believe in the truth and integrity of their testimony would have sullied their \"good name\" and so would be', 'A judge would accuse someone of committing perjury (lying under oath) if the said person lied regarding some serious legal matter in court, which might bring individuals whose behavior is in question shame, or the feeling that they are bad, because they misbehaved']\n",
      "generated_explanation: <pad> <extra_id_0> Perjury is the act of lying, and being found guilty of it brings shame to a person.<extra_id_1> </s>\n",
      "score: 0.7733021378517151\n"
     ]
    },
    {
     "name": "stderr",
     "output_type": "stream",
     "text": [
      " 79%|███████████████████████████████████████████████████████████████████████████████████████████████████████████████████████████████████                                  | 783/986 [01:07<00:09, 20.33it/s]"
     ]
    },
    {
     "name": "stdout",
     "output_type": "stream",
     "text": [
      "question: A town between two mountains is located in a what?\n",
      "answer: valley\n",
      "common_expl_list: ['A town in between mountains presumably would be in a valley, in which case it is plausable that it would be surrounded by heights in every direction.', 'A valley is a low area between two mountains.', 'A valley is usually between two mountains, where it is located in the place where the mountains are closest to each other.']\n",
      "generated_explanation: <pad> <extra_id_0> Valleys are hollow areas between mountains, and towns often are located in valleys.<extra_id_1> </s>\n",
      "score: 0.7227272987365723\n"
     ]
    },
    {
     "name": "stderr",
     "output_type": "stream",
     "text": [
      " 81%|█████████████████████████████████████████████████████████████████████████████████████████████████████████████████████████████████████                                | 795/986 [01:07<00:09, 20.34it/s]"
     ]
    },
    {
     "name": "stdout",
     "output_type": "stream",
     "text": [
      "question: If I did not have a rosebush, where would I get one?\n",
      "answer: garden center\n",
      "common_expl_list: ['The store where you can buy flowers or plants is called a garden center.', 'A garden center is a place that sells shrubs, trees, and other forms of greenery.', 'Certain plants, like roses, often grown outdoors. Garden centers typically sell garden plants.', 'Garden centers sell plants, including rosebushes.']\n",
      "generated_explanation: <pad> <extra_id_0> Rosebushes are often sold in garden centers, and people often buy them there because they are pretty.<extra_id_1> </s>\n",
      "score: 0.7603442668914795\n",
      "question: Why do people play chess on the weekends?\n",
      "answer: have fun\n",
      "common_expl_list: ['People play a variety of games for a variety of reasons, including playing chess to have fun.', \"One might only do things that they enjoy on the weekend, and so it's reasonable to infer that if people play chess on the weekend, they do so to have fun.\", 'Chess is an enjoyable game for many, and it does not require much effort or particularly advanced intelligence to play.', 'People often engage in activities for pleasure; chess is fun if you like playing it.', 'Chess is a game that can be played for fun.']\n",
      "generated_explanation: <pad> <extra_id_0> Chess is a game that people play on weekends to have fun.<extra_id_1> </s>\n",
      "score: 0.7791961431503296\n"
     ]
    },
    {
     "name": "stderr",
     "output_type": "stream",
     "text": [
      " 81%|██████████████████████████████████████████████████████████████████████████████████████████████████████████████████████████████████████                               | 801/986 [01:08<00:09, 20.30it/s]"
     ]
    },
    {
     "name": "stdout",
     "output_type": "stream",
     "text": [
      "question: Where can books be read?\n",
      "answer: table\n",
      "common_expl_list: [\"Tables are where people sit, so it's logical that they might read books there. During the day, these tables might be in an outdoor cafe, where people can sit outdoors with some privacy, perhaps under an umbrella covered for shade, but still have\", 'Books are often read on tables, as they are flat and can be easily read from.', \"Tables are often used for reading books, holding food, and having meals; and, they're usually on the inside of buildings.\"]\n",
      "generated_explanation: <pad> <extra_id_0> Books are written down on sheets of paper and are usually kept in libraries, but people can also read them in public places, like in a coffee shop or the like.<extra_id_1> </s>\n",
      "score: 0.18381120264530182\n",
      "question: A computer user working on an important work assignment is located in what structure?\n",
      "answer: office building\n",
      "common_expl_list: ['People often work on computers while in an office building.', 'Computers are used very often for work, and people often work in office buildings to use computers.', 'Most office buildings have computers available to their workers.']\n",
      "generated_explanation: <pad> <extra_id_0> Office buildings are where people have offices, and computers are located in those offices.<extra_id_1> </s>\n",
      "score: 0.7283787131309509\n"
     ]
    },
    {
     "name": "stderr",
     "output_type": "stream",
     "text": [
      " 82%|███████████████████████████████████████████████████████████████████████████████████████████████████████████████████████████████████████                              | 807/986 [01:08<00:08, 20.35it/s]"
     ]
    },
    {
     "name": "stdout",
     "output_type": "stream",
     "text": [
      "question: What is the purpose of playing games for children?\n",
      "answer: learning\n",
      "common_expl_list: ['Playing games helps children learn important life skills, such as how to win, to accept loss, control their anger, control the circumstances surrounding their circumstances, think critically, etc.', 'Games are a way for children to learn how to interact with others, and to learn how to win and lose.']\n",
      "generated_explanation: <pad> <extra_id_0> Games are played by children to learn, and learning is a major purpose of playing games.<extra_id_1> </s>\n",
      "score: 0.754760205745697\n",
      "question: When an elderly person needs help performing daily tasks, who might they call?\n",
      "answer: caregiver\n",
      "common_expl_list: ['Care givers typically help the elderly out with daily life (personal living, meals, transportation, activities, etc...).']\n",
      "generated_explanation: <pad> <extra_id_0> Caregivers provide assistance to older people, often in their homes, with daily activities such as bathing, dressing, and toileting.<extra_id_1> </s>\n",
      "score: 0.7422051429748535\n"
     ]
    },
    {
     "name": "stderr",
     "output_type": "stream",
     "text": [
      " 82%|████████████████████████████████████████████████████████████████████████████████████████████████████████████████████████████████████████                             | 813/986 [01:08<00:08, 20.14it/s]"
     ]
    },
    {
     "name": "stdout",
     "output_type": "stream",
     "text": [
      "question: If a person were going to bed, what would be their goal?\n",
      "answer: falling asleep\n",
      "common_expl_list: ['People go to bed when they are sleepy or want to go to bed to rest or fall asleep.', 'People are typically in bed to sleep.']\n",
      "generated_explanation: <pad> <extra_id_0> Falling asleep is a common goal when going to bed, and falling asleep is a goal that many people have in common.<extra_id_1> </s>\n",
      "score: 0.7479689717292786\n",
      "question: How could you have fun by yourself with no one around you?\n",
      "answer: watching television\n",
      "common_expl_list: ['Television can be watched by yourself, and this enjoyment is typically an activity one can do alone.', 'Watching television is a common way to have fun when you are alone.', \"Television is a traditional format for entertainment; it's fun to watch human-made programs, even if one is alone; it can easily transport you to imaginary worlds (of shows, etc.).\"]\n",
      "generated_explanation: <pad> <extra_id_0> Television is a great way to pass the time when you're alone, but you're not with anyone else. You can watch television while you're alone, and you can enjoy it without anyone else being around to watch it with you.<extra_id_1> </s>\n",
      "score: 0.753132700920105\n",
      "question: Where would you find gazelle under a G?\n",
      "answer: encyclopedia\n",
      "common_expl_list: ['A gazelle is a species of animal, and so you might find their name under G when looking at an encyclopedia or dictionary.', \"Gazelle are an animal, that are similar to deer, and are under the heading 'g' in most encyclopedias.\"]\n",
      "generated_explanation: <pad> <extra_id_0> Gazelle is a type of gazelle. Gazelles are nocturnal animals.<extra_id_1> </s>\n",
      "score: 0.13289639353752136\n"
     ]
    },
    {
     "name": "stderr",
     "output_type": "stream",
     "text": [
      " 84%|██████████████████████████████████████████████████████████████████████████████████████████████████████████████████████████████████████████▌                          | 828/986 [01:09<00:07, 20.01it/s]"
     ]
    },
    {
     "name": "stdout",
     "output_type": "stream",
     "text": [
      "question: What do you need to do to use television if it is already turned on?\n",
      "answer: open eyes\n",
      "common_expl_list: ['Television is a visual medium, and so, in order to use it, one must open their eyes.']\n",
      "generated_explanation: <pad> <extra_id_0> Televisions are always on, even when they are off.<extra_id_1> </s>\n",
      "score: 0.123441681265831\n",
      "question: Where is a drug kept in a home bathroom?\n",
      "answer: medicine cabinet\n",
      "common_expl_list: [\"Drugs are kept in the home bathroom's medicine cabinet because the purpose of the cabinet is to serve as storage for potentially dangerous, toxic substances which one would not want children to get their hands on.\"]\n",
      "generated_explanation: <pad> <extra_id_0> Medicine is a drug that is kept in a cabinet, usually in a bathroom, where people often keep their medicines.<extra_id_1> </s>\n",
      "score: 0.7049849033355713\n"
     ]
    },
    {
     "name": "stderr",
     "output_type": "stream",
     "text": [
      " 85%|███████████████████████████████████████████████████████████████████████████████████████████████████████████████████████████████████████████▌                         | 834/986 [01:09<00:07, 20.11it/s]"
     ]
    },
    {
     "name": "stdout",
     "output_type": "stream",
     "text": [
      "question: How is riding a bike getting it to move?\n",
      "answer: pedalling\n",
      "common_expl_list: ['Pedalling is the act of pushing the pedals on a bike to make it move.']\n",
      "generated_explanation: <pad> <extra_id_0> Bikes are propelled by the user pushing down on the pedals, which causes the bike to move.<extra_id_1> </s>\n",
      "score: 0.7500648498535156\n",
      "question: Most people who are family like to greet each other with a what?\n",
      "answer: hug\n",
      "common_expl_list: ['Since a family is a group of relatives, the most typical greeting between family members is a hug.', 'Greeting a family member would require a hug, since a handshake might be a little formal, but a hug would indicate a close relation.']\n",
      "generated_explanation: <pad> <extra_id_0> Hugs are a common way to greet people, especially family members. People who are close to each other often hug, and this can be a way to show affection.<extra_id_1> </s>\n",
      "score: 0.8554595708847046\n",
      "question: If you jump in any of the oceans you will get?\n",
      "answer: wet\n",
      "common_expl_list: ['Oceans are large bodies of water. Water is wet.']\n",
      "generated_explanation: <pad> <extra_id_0> Oceans are very wet, and swimming in them can be very wet.<extra_id_1> </s>\n",
      "score: 0.7398627400398254\n"
     ]
    },
    {
     "name": "stderr",
     "output_type": "stream",
     "text": [
      " 85%|████████████████████████████████████████████████████████████████████████████████████████████████████████████████████████████████████████████▌                        | 840/986 [01:10<00:07, 19.94it/s]"
     ]
    },
    {
     "name": "stdout",
     "output_type": "stream",
     "text": [
      "question: The dad wanted to protect his house, where did he put his gun?\n",
      "answer: drawer\n",
      "common_expl_list: [\"Most people keep guns in their drawer when they aren't using it. The dad simply keeps the gun in the drawer when he isn't using it, to protect his house.\", \"A father has a drawer in his house to store things; it's reasonable that he'd use this storage space for his personally-owned gun, since he wouldn't want to leave the gun lying around.\", \"A gun is a weapon, and it's likely that a person would want to keep it in a safe place, like a drawer, when they are not using it.\"]\n",
      "generated_explanation: <pad> <extra_id_0> Guns are often kept in drawers, because drawers are a common place for people to stash things like guns.<extra_id_1> </s>\n",
      "score: 0.7377102375030518\n"
     ]
    },
    {
     "name": "stderr",
     "output_type": "stream",
     "text": [
      "\r",
      " 85%|█████████████████████████████████████████████████████████████████████████████████████████████████████████████████████████████████████████████                        | 843/986 [01:10<00:07, 19.96it/s]"
     ]
    },
    {
     "name": "stdout",
     "output_type": "stream",
     "text": [
      "question: What is a salesman responsible to do at work?\n",
      "answer: sell products\n",
      "common_expl_list: [\"Salesmen are responsible to sell products to promote their employer's interests.\", 'A salesman is responsible to sell products, and therefore must be able to sell products.', 'Sales people are responsible to sell their assigned products.', \"A salesman's job is to sell, which means he is entrusted to sell product at his employer's request.\"]\n",
      "generated_explanation: <pad> <extra_id_0> Salesmen's main job is to sell products, which they do by visiting stores and talking to customers about the products they sell.<extra_id_1> </s>\n",
      "score: 0.7181934714317322\n"
     ]
    },
    {
     "name": "stderr",
     "output_type": "stream",
     "text": [
      " 86%|█████████████████████████████████████████████████████████████████████████████████████████████████████████████████████████████████████████████▋                       | 847/986 [01:10<00:07, 19.78it/s]"
     ]
    },
    {
     "name": "stdout",
     "output_type": "stream",
     "text": [
      "question: Where is a monkey likely to enjoy being?\n",
      "answer: banana tree\n",
      "common_expl_list: ['Monkeys enjoy eating fruit from a banana tree.', 'Monkeys naturally love bananas, and a banana tree naturally grows bananas.']\n",
      "generated_explanation: <pad> <extra_id_0> Monkeys like to hang out in trees, and banana trees are a good place for them to do that because they can climb up and down the branches.<extra_id_1> </s>\n",
      "score: 0.7249873876571655\n",
      "question: If while driving to work another car makes a careless maneuver, what emotion might you feel?\n",
      "answer: road rage\n",
      "common_expl_list: ['Road rage is sometimes used as a way of describing anger at other drivers on the road for different types of carelessness (failing to indicate, changing lanes without signaling, speeding, taking a parking space away from someone else, etc.).']\n",
      "generated_explanation: <pad> <extra_id_0> Road rage is an emotion that occurs when a driver is enraged by another driver for making a careless maneuver.<extra_id_1> </s>\n",
      "score: 0.7200904488563538\n"
     ]
    },
    {
     "name": "stderr",
     "output_type": "stream",
     "text": [
      " 87%|███████████████████████████████████████████████████████████████████████████████████████████████████████████████████████████████████████████████▏                     | 856/986 [01:10<00:06, 20.20it/s]"
     ]
    },
    {
     "name": "stdout",
     "output_type": "stream",
     "text": [
      "question: If someone found out their brother was having a daughter, they would have to add a niece limb to the what?\n",
      "answer: family tree\n",
      "common_expl_list: ['A family tree is a diagram that shows the relationships between family members. A family tree would need to be updated to include a niece.']\n",
      "generated_explanation: <pad> <extra_id_0> Family trees are a way to keep track of the relationships among family members, and adding new members to a tree can be a fun way to remember them.<extra_id_1> </s>\n",
      "score: 0.714271068572998\n"
     ]
    },
    {
     "name": "stderr",
     "output_type": "stream",
     "text": [
      " 88%|████████████████████████████████████████████████████████████████████████████████████████████████████████████████████████████████████████████████▊                    | 865/986 [01:11<00:05, 20.28it/s]"
     ]
    },
    {
     "name": "stdout",
     "output_type": "stream",
     "text": [
      "question: What kind of cold storage could you find in your house?\n",
      "answer: refrigerator\n",
      "common_expl_list: ['Refrigerators are a type of cold storage found in homes.', 'Refrigerator is the most commonly referred to type of cold storage in homes.']\n",
      "generated_explanation: <pad> <extra_id_0> Refrigerators are devices that cool things down, usually by evaporating water. They are very useful in keeping food cold, and they are common in homes.<extra_id_1> </s>\n",
      "score: 0.7458841800689697\n",
      "question: What might you need to do cleaning?\n",
      "answer: using water\n",
      "common_expl_list: ['Cleaning often involves using water.', 'Using water is an important part of most cleaning practices.', 'Water is a common thing to use in cleaning.', 'When a large enough amount is needed, a cleaning can be done by washing a surface with large quantities of water.']\n",
      "generated_explanation: <pad> <extra_id_0> Cleaning involves using water, and a common cleaning product is water.<extra_id_1> </s>\n",
      "score: 0.7770214080810547\n",
      "question: Where is a doormat likely to be in front of?\n",
      "answer: front door\n",
      "common_expl_list: ['Front doors often have doormats infront of them.']\n",
      "generated_explanation: <pad> <extra_id_0> A doormat is a piece of floor covering that is placed in front of a front door, usually at the bottom.<extra_id_1> </s>\n",
      "score: 0.706416130065918\n",
      "question: Playing baseball is a lot like any other sport, there is always a risk of what?\n",
      "answer: injury\n",
      "common_expl_list: ['Injuries happen during most sports, such as baseball.', 'Playing baseball, like most sports, tends to leave participants sore and sometimes injured.', 'Playing baseball can be dangerous, particularly if one is not careful. There is always the risk of injury during the game.', 'Baseball is a sport that involves a lot of running, throwing, and hitting, all of which can lead to injuries.']\n",
      "generated_explanation: <pad> <extra_id_0> Injuries are a part of playing any sport, and baseball is no different.<extra_id_1> </s>\n",
      "score: 0.724369466304779\n"
     ]
    },
    {
     "name": "stderr",
     "output_type": "stream",
     "text": [
      " 88%|█████████████████████████████████████████████████████████████████████████████████████████████████████████████████████████████████████████████████▊                   | 871/986 [01:11<00:05, 20.28it/s]"
     ]
    },
    {
     "name": "stdout",
     "output_type": "stream",
     "text": [
      "question: If there is a place that is hot and arid, what could it be?\n",
      "answer: lifeless\n",
      "common_expl_list: [\"A place that is hot and arid is likely to be lifeless, because it's too hot and dry for life to exist.\"]\n",
      "generated_explanation: <pad> <extra_id_0> Arid regions are those that are very hot and dry, and there are few living things there.<extra_id_1> </s>\n",
      "score: 0.73454350233078\n",
      "question: Talking to the same person about the same thing over and over again is something someone can what?\n",
      "answer: get tired of\n",
      "common_expl_list: ['People can get tired of talking to the same person about the same thing over and over again.', 'Talking about the same things time after time can become boring.']\n",
      "generated_explanation: <pad> <extra_id_0> People can get tired of hearing the same thing repeated over and over again, especially if the topic being discussed is similar to another topic.<extra_id_1> </s>\n",
      "score: 0.7021708488464355\n"
     ]
    },
    {
     "name": "stderr",
     "output_type": "stream",
     "text": [
      " 89%|██████████████████████████████████████████████████████████████████████████████████████████████████████████████████████████████████████████████████▊                  | 877/986 [01:11<00:05, 20.11it/s]"
     ]
    },
    {
     "name": "stdout",
     "output_type": "stream",
     "text": [
      "question: How does a planet usually move around the sun?\n",
      "answer: orbit\n",
      "common_expl_list: ['Planets orbit the sun.']\n",
      "generated_explanation: <pad> <extra_id_0> Planets usually move around the sun in an orbit, which is a circle.<extra_id_1> </s>\n",
      "score: 0.7395938038825989\n",
      "question: Sean was a wreck.  He  loved to build houses, but in his current state, he couldn't do what?\n",
      "answer: construct\n",
      "common_expl_list: ['Sean is unable to construct houses when in a wrecked state: he requires a state of not being in a wrecked state in order to go on with the process of constructing houses.', \"Sean was a wreck, which means he was in a state of disarray. He couldn't build houses because he was in a state of disarray.\"]\n",
      "generated_explanation: <pad> <extra_id_0> Houses are constructed out of blocks, and Sean was a skilled builder.<extra_id_1> </s>\n",
      "score: 0.19643932580947876\n",
      "question: What is a place that has a bench nestled in trees?\n",
      "answer: state park\n",
      "common_expl_list: ['State parks are parks in which natural or historic landmarks are preserved, often nestled in trees. It would be natural for benches to be nestled in trees, in state parks.', \"A state park is a place where people can go to enjoy nature, and so it's likely that there would be a bench nestled in trees.\"]\n",
      "generated_explanation: <pad> <extra_id_0> State parks often have benches nestled in trees, and visitors can sit on those benches and enjoy the scenery.<extra_id_1> </s>\n",
      "score: 0.8328476548194885\n",
      "question: Where would you get some wood if you do not have any?\n",
      "answer: lumberyard\n",
      "common_expl_list: ['Lumberyards are places where wood is sold.', 'A lumberyard is a place where one buys wood.', 'Lumberyards sell wood, especially in bulk quantities.', 'Lumberyards sell wood.']\n",
      "generated_explanation: <pad> <extra_id_0> Lumberyards sell wood, and people often buy wood there for building projects, furniture, and other things.<extra_id_1> </s>\n",
      "score: 0.7478307485580444\n"
     ]
    },
    {
     "name": "stderr",
     "output_type": "stream",
     "text": [
      " 90%|███████████████████████████████████████████████████████████████████████████████████████████████████████████████████████████████████████████████████▉                 | 884/986 [01:12<00:05, 19.19it/s]"
     ]
    },
    {
     "name": "stdout",
     "output_type": "stream",
     "text": [
      "question: I am cold, what should I do to stay warm?\n",
      "answer: light fire\n",
      "common_expl_list: ['A fire can be used to keep warm. It produces heat, and can be used to keep warm.', \"It's possibly to stay warm by staying in a heated space. Fire sources have been used since immemorial times to stay warm in freezing temperatures. This includes staying inside a building which is a heated space.\", 'Setting light to organic material, e.g., wood, heaters, and fireplaces can cause an increase in body temperature since that heat will be thermal radiation.', 'It is generally wise to light a fire in the winter to keep the body warm. A fire produces heat, which contains engery which is needed to keep the body warm. Because engery circulates through the blood, the body warms up.']\n",
      "generated_explanation: <pad> <extra_id_0> Fire is a great way to stay warm, especially if you are cold.<extra_id_1> </s>\n",
      "score: 0.7961575984954834\n",
      "question: I want to see a prepared slide up close, what would I use to help?\n",
      "answer: microscope\n",
      "common_expl_list: ['Microscopes are commonly used to get a close up look at things too small to see with the standard eye.', 'a microscope helps a user to see a prepared slide with a closer view, a telescope helps a user to see a prepared slide from a farther view.', 'A microscope is a device that allows one to see small objects up close.', \"If somehting's too small for the unaided eye to see, like a prepared slide, a microscope is needed to see it.\"]\n",
      "generated_explanation: <pad> <extra_id_0> A microscope allows you to see objects up close, so you can see details of objects that are normally difficult to see.<extra_id_1> </s>\n",
      "score: 0.7208545804023743\n"
     ]
    },
    {
     "name": "stderr",
     "output_type": "stream",
     "text": [
      " 90%|█████████████████████████████████████████████████████████████████████████████████████████████████████████████████████████████████████████████████████▎               | 892/986 [01:12<00:05, 18.61it/s]"
     ]
    },
    {
     "name": "stdout",
     "output_type": "stream",
     "text": [
      "question: Where is a salt shaker most often kept?\n",
      "answer: table setting\n",
      "common_expl_list: ['Saltshakers are placed on tables with other dishes, to provide salt if they are needed.', 'A salt shaker will often be seen at a table setting.', 'Salt shakers are usually kept on the table during meals.']\n",
      "generated_explanation: <pad> <extra_id_0> Salt shakers are used at the table, usually at the center of the table, to season food.<extra_id_1> </s>\n",
      "score: 0.7321900725364685\n",
      "question: To get clean clothes you to what to them?\n",
      "answer: launder\n",
      "common_expl_list: ['For clothes to be clean, one could wash or launder them.', 'To get clean clothes, you must launder them.', 'In order to get clean clothes dirty ones must be laundered via washing them.', 'Laundromats are businesses that wash clothes, which end up clean. So in order to get clean clothes, they must be laundered.']\n",
      "generated_explanation: <pad> <extra_id_0> Clothes are cleaned by being put in a machine and then steamed or boiled.<extra_id_1> </s>\n",
      "score: 0.15292443335056305\n"
     ]
    },
    {
     "name": "stderr",
     "output_type": "stream",
     "text": [
      " 92%|███████████████████████████████████████████████████████████████████████████████████████████████████████████████████████████████████████████████████████▌             | 906/986 [01:13<00:03, 20.01it/s]"
     ]
    },
    {
     "name": "stdout",
     "output_type": "stream",
     "text": [
      "question: What do professors primarily do?\n",
      "answer: teach courses\n",
      "common_expl_list: ['This occupation specifically involves teaching college students at university.', 'Professors are teachers, and so they teach courses.']\n",
      "generated_explanation: <pad> <extra_id_0> Professors are trained to teach courses, usually in academic disciplines, to students.<extra_id_1> </s>\n",
      "score: 0.7796844840049744\n",
      "question: If someone laughs after surprising them they have a good sense of what?\n",
      "answer: humor\n",
      "common_expl_list: ['If someone laughs after being surprised, it means they found the surprise funny, and so they have a good sense of humor.']\n",
      "generated_explanation: <pad> <extra_id_0> Humor is the quality of enjoying something, especially when it involves surprise. People who have a good sense of humor usually enjoy being surprised, and this is because they enjoy being surprised.<extra_id_1> </s>\n",
      "score: 0.7381790280342102\n"
     ]
    },
    {
     "name": "stderr",
     "output_type": "stream",
     "text": [
      " 92%|████████████████████████████████████████████████████████████████████████████████████████████████████████████████████████████████████████████████████████▌            | 912/986 [01:13<00:03, 20.28it/s]"
     ]
    },
    {
     "name": "stdout",
     "output_type": "stream",
     "text": [
      "question: If you wanted a license to catch crabs, what government office would you go to?\n",
      "answer: fish department\n",
      "common_expl_list: ['Fishermen have a need to get official documentation to prove to others that they have the right to fish, and get compensation for catching something. Thus, it makes sense that a fishing permit would come from a fish department, where the people there would be', 'The fish department is likely to be the place to go to get a license to catch crabs.']\n",
      "generated_explanation: <pad> <extra_id_0> Fish departments issue licenses to people who want to catch fish, such as crabs. A license allows people to catch fish, and some states have fisheries departments.<extra_id_1> </s>\n",
      "score: 0.715300977230072\n"
     ]
    },
    {
     "name": "stderr",
     "output_type": "stream",
     "text": [
      " 94%|██████████████████████████████████████████████████████████████████████████████████████████████████████████████████████████████████████████████████████████▍          | 923/986 [01:14<00:03, 20.25it/s]"
     ]
    },
    {
     "name": "stdout",
     "output_type": "stream",
     "text": [
      "question: What is the primary purpose of cars?\n",
      "answer: move people\n",
      "common_expl_list: ['The primary purpose of most cars is to transport people.', 'Cars are used to move people from one place to another.']\n",
      "generated_explanation: <pad> <extra_id_0> Cars are machines that move people, and moving people is one of the most important purposes of cars.<extra_id_1> </s>\n",
      "score: 0.7734415531158447\n",
      "question: The man started to learn jogging, what was he hoping to do?\n",
      "answer: getting in shape\n",
      "common_expl_list: ['Jogging is a kind of exercise that is usually designed to help one get in shape.', 'Jogging is a way to get in shape.', 'Jogging is a form of exercise, and it can help one better manage their fitness.']\n",
      "generated_explanation: <pad> <extra_id_0> Jogging is a good exercise because it helps you stay in shape, and getting in shape can help you lose weight.<extra_id_1> </s>\n",
      "score: 0.7700936794281006\n"
     ]
    },
    {
     "name": "stderr",
     "output_type": "stream",
     "text": [
      " 94%|███████████████████████████████████████████████████████████████████████████████████████████████████████████████████████████████████████████████████████████▍         | 929/986 [01:14<00:02, 20.41it/s]"
     ]
    },
    {
     "name": "stdout",
     "output_type": "stream",
     "text": [
      "question: Sally was standing in queue.  The line was very, very slow.  What was she feeling?\n",
      "answer: frustration\n",
      "common_expl_list: ['Sally was likely to be frustrated because the line was moving slowly.']\n",
      "generated_explanation: <pad> <extra_id_0> When something goes slowly, it's normal for people to get frustrated. This can be especially true when the thing being queued up is something that happens often, like when a train is delayed.<extra_id_1> </s>\n",
      "score: 0.7502799034118652\n",
      "question: Where is a great place to buy fresh fruit?\n",
      "answer: market\n",
      "common_expl_list: ['Markets are typically known for selling fruits and vegetables. The bulk of the produce usually comes from farmers who have not yet sold their produce to chain retailers.', 'Fruit stands are places to buy fresh fruit. A market is generally recognized as a place to buy fresh fruit or vegetables.']\n",
      "generated_explanation: <pad> <extra_id_0> Markets are places where people go to buy fresh produce, such as fruit.<extra_id_1> </s>\n",
      "score: 0.9034728407859802\n"
     ]
    },
    {
     "name": "stderr",
     "output_type": "stream",
     "text": [
      " 95%|████████████████████████████████████████████████████████████████████████████████████████████████████████████████████████████████████████████████████████████▍        | 935/986 [01:14<00:02, 20.38it/s]"
     ]
    },
    {
     "name": "stdout",
     "output_type": "stream",
     "text": [
      "question: What city will likely have many parking structures?\n",
      "answer: chicago\n",
      "common_expl_list: ['Chicago is a large city, and parking structures are often used in large cities.']\n",
      "generated_explanation: <pad> <extra_id_0> Chicago is a large city, so it makes sense that it would have many parking structures.<extra_id_1> </s>\n",
      "score: 0.706768810749054\n",
      "question: What island country is ferret popular?\n",
      "answer: great britain\n",
      "common_expl_list: ['Ferrets are popular in Great Britain, and are kept as pets.', 'Great Britain is a country which is commonly associated with ferret owning.']\n",
      "generated_explanation: <pad> <extra_id_0> Ferrets are popular in Great Britain, a country located in the British Isles.<extra_id_1> </s>\n",
      "score: 0.8598310351371765\n"
     ]
    },
    {
     "name": "stderr",
     "output_type": "stream",
     "text": [
      " 95%|█████████████████████████████████████████████████████████████████████████████████████████████████████████████████████████████████████████████████████████████▍       | 941/986 [01:15<00:02, 20.24it/s]"
     ]
    },
    {
     "name": "stdout",
     "output_type": "stream",
     "text": [
      "question: Where can you store you spare linens near your socks?\n",
      "answer: dresser drawers\n",
      "common_expl_list: ['Dresser drawers are where you keep your socks and other textile garments like t-shirts and underwear.', 'A dresser is a piece of furniture that is used to store clothing. It has drawers, which are used to store socks and other small items.', 'A dresser includes a large drawer (and typically several smaller ones) for the purpose of storing clothes and linens in a household. Drawers in a dresser are typically in the home.', 'A person might have socks on the top drawer on a dresser, and might have spare linens near there. On this particular dresser, say, who even knows if the bottom drawers have space for storing socks?']\n",
      "generated_explanation: <pad> <extra_id_0> Dressers often have drawers where you can store things like socks, underwear, and other small items.<extra_id_1> </s>\n",
      "score: 0.7957854866981506\n",
      "question: What is a treat that you dog will enjoy?\n",
      "answer: bone\n",
      "common_expl_list: ['bones are often the treat for dogs.', 'A bone is a tasty treat for dogs.', 'A dog will enjoy a bone because it is a treat.']\n",
      "generated_explanation: <pad> <extra_id_0> Bones are a common dog treat, and dogs especially enjoy them.<extra_id_1> </s>\n",
      "score: 0.8026913404464722\n",
      "question: Where would you find a large dining room containing a fancy chandelier?\n",
      "answer: mansion\n",
      "common_expl_list: ['Mansions generally have large dining room tables meant for large groups. A fancy chandelier adds to the fancy appeal of such large rooms.']\n",
      "generated_explanation: <pad> <extra_id_0> Mansions often have large dining rooms, and fancy chandeliers are a common feature.<extra_id_1> </s>\n",
      "score: 0.8000786304473877\n"
     ]
    },
    {
     "name": "stderr",
     "output_type": "stream",
     "text": [
      " 96%|██████████████████████████████████████████████████████████████████████████████████████████████████████████████████████████████████████████████████████████████▉      | 950/986 [01:15<00:01, 20.41it/s]"
     ]
    },
    {
     "name": "stdout",
     "output_type": "stream",
     "text": [
      "question: A loud machine is irritating, but many are expected where?\n",
      "answer: industrial area\n",
      "common_expl_list: ['Factories and similar buildings often employ loud machinery, and these buildings could also be located in industrial areas.']\n",
      "generated_explanation: <pad> <extra_id_0> Industrial areas are places where machines make noise, and people often complain about the noise.<extra_id_1> </s>\n",
      "score: 0.707144558429718\n"
     ]
    },
    {
     "name": "stderr",
     "output_type": "stream",
     "text": [
      " 97%|███████████████████████████████████████████████████████████████████████████████████████████████████████████████████████████████████████████████████████████████▉     | 956/986 [01:15<00:01, 20.30it/s]"
     ]
    },
    {
     "name": "stdout",
     "output_type": "stream",
     "text": [
      "question: The hostess was good at her job, she always had a smile when she would what?\n",
      "answer: welcome guests\n",
      "common_expl_list: ['A job that involves welcoming guests is likely to require smiling, or at least appearing happy, to make guests feel welcome.', 'The hostess is the person at the door who greets guests to an event, party, gathering, etc. Given that an important part of filling her role is to be always ready to greet guests, the hostess is likely kind and friendly, i', 'A hostess is someone who welcomes guests to a party or other event.']\n",
      "generated_explanation: <pad> <extra_id_0> Hostesses are people who welcome guests to a restaurant or other gathering. They usually have a smile on their faces and are polite to guests.<extra_id_1> </s>\n",
      "score: 0.8113504648208618\n",
      "question: What do you do when you're in a new place and want to see new things?\n",
      "answer: look around\n",
      "common_expl_list: ['When someone is in a new place, e.g., on vacation, they are interested in looking around, since many new things are available to be seen. When someone is in an old place, they are more likely to be familiar with the area', 'If you are in a new place, you might want to look around to see what is there.', 'Many new things can be seen in a new place if you take the time to look for them.']\n",
      "generated_explanation: <pad> <extra_id_0> When you're in a new place, you might want to look around to see what interesting things are around you.<extra_id_1> </s>\n",
      "score: 0.7540475726127625\n"
     ]
    },
    {
     "name": "stderr",
     "output_type": "stream",
     "text": [
      "\r",
      " 97%|████████████████████████████████████████████████████████████████████████████████████████████████████████████████████████████████████████████████████████████████▍    | 959/986 [01:16<00:01, 20.37it/s]"
     ]
    },
    {
     "name": "stdout",
     "output_type": "stream",
     "text": [
      "question: Where is a good place to have a fireplace in a house?\n",
      "answer: living room\n",
      "common_expl_list: [\"If there is a fireplace in a house, it is likely to be in the living room so that people can warm up after they've gone out in the cold winter.\"]\n",
      "generated_explanation: <pad> <extra_id_0> Living rooms are often larger than other rooms in a home, and a fireplace is a good place to put one.<extra_id_1> </s>\n",
      "score: 0.7197442650794983\n"
     ]
    },
    {
     "name": "stderr",
     "output_type": "stream",
     "text": [
      " 98%|█████████████████████████████████████████████████████████████████████████████████████████████████████████████████████████████████████████████████████████████████▉   | 968/986 [01:16<00:00, 20.05it/s]"
     ]
    },
    {
     "name": "stdout",
     "output_type": "stream",
     "text": [
      "question: The man was going fishing instead of work, what is he seeking?\n",
      "answer: relaxation\n",
      "common_expl_list: ['The man wants to make himself feel less stressed from work. Fishing is a relaxing, stress-relieving activity.', 'Fishing is a relaxing activity.', 'A man seeking relaxation does so by doing something enjoyable, e.g., taking a fishing trip.']\n",
      "generated_explanation: <pad> <extra_id_0> Fishing is a great way to relax, especially if you're working at a desk all day. You can relax by being outside, and fishing can provide that kind of relaxation.<extra_id_1> </s>\n",
      "score: 0.7517766356468201\n",
      "question: What would you need if you want to smoke?\n",
      "answer: cigarette\n",
      "common_expl_list: ['Cigarettes are the most common form of tobacco smoking.']\n",
      "generated_explanation: <pad> <extra_id_0> Cigarettes are lighted sticks of tobacco that are rolled up and smoked.<extra_id_1> </s>\n",
      "score: 0.7065684795379639\n",
      "question: Where is a likely place to store unused soap?\n",
      "answer: cabinet\n",
      "common_expl_list: ['Soap is often stored in cabinets, as it is a household item that is not used often.']\n",
      "generated_explanation: <pad> <extra_id_0> Cabinets are a common place to store unused items, such as unused soap.<extra_id_1> </s>\n",
      "score: 0.8170161843299866\n"
     ]
    },
    {
     "name": "stderr",
     "output_type": "stream",
     "text": [
      " 99%|███████████████████████████████████████████████████████████████████████████████████████████████████████████████████████████████████████████████████████████████████▉ | 980/986 [01:17<00:00, 20.33it/s]"
     ]
    },
    {
     "name": "stdout",
     "output_type": "stream",
     "text": [
      "question: The detective was finding information from witnesses, why would he do that?\n",
      "answer: get answers\n",
      "common_expl_list: ['A detective role, and a job of other cops and detectives, is to get answers; thus, one would need to talk to witnesses to do this.', 'A detective is trying to solve a crime, and so he would want to get answers from witnesses.']\n",
      "generated_explanation: <pad> <extra_id_0> Detectives are trained to find information from witnesses, and one of the best ways to find information from witnesses is to talk to them.<extra_id_1> </s>\n",
      "score: 0.7269184589385986\n",
      "question: If you want to kill someone you can do what to them with a gun?\n",
      "answer: shoot\n",
      "common_expl_list: ['Shooting someone is a common way they can be killed, as a bullet from a gun could penetrate their skin and kill them directly.', 'If you shoot someone with a gun, they will die.']\n",
      "generated_explanation: <pad> <extra_id_0> Guns can be used to kill people by shooting them.<extra_id_1> </s>\n",
      "score: 0.7199507355690002\n"
     ]
    },
    {
     "name": "stderr",
     "output_type": "stream",
     "text": [
      "100%|█████████████████████████████████████████████████████████████████████████████████████████████████████████████████████████████████████████████████████████████████████| 986/986 [01:17<00:00, 12.74it/s]"
     ]
    },
    {
     "name": "stdout",
     "output_type": "stream",
     "text": [
      "question: What is main benefit to exercising?\n",
      "answer: get in shape\n",
      "common_expl_list: ['From a health perspective, exercising is healthy. It increases flexibility, circulation, improves mood, burns calories, strengthens muscles, helps us sleep better, etc.', 'To get in shape, work out. Exercising can help you become stronger or thinner. Exercising is sometimes done to strengthen the heart or lungs, or sweat.', \"Exercise is a way to get in shape, which is a way to improve one's physical health.\", 'One major reason to exercise is to get healthier by becoming in shape.']\n",
      "generated_explanation: <pad> <extra_id_0> Exercise is a great way to get in shape, and getting in shape has many benefits.<extra_id_1> </s>\n",
      "score: 0.8633697628974915\n",
      "question: What can you use to store a book while traveling?\n",
      "answer: suitcase\n",
      "common_expl_list: ['People can store books in their suitcases, especially if they are on the move.']\n",
      "generated_explanation: <pad> <extra_id_0> A suitcase is a container that holds items, such as books, during travel.<extra_id_1> </s>\n",
      "score: 0.8220701813697815\n"
     ]
    },
    {
     "name": "stderr",
     "output_type": "stream",
     "text": [
      "\n"
     ]
    }
   ],
   "source": [
    "from tqdm import tqdm\n",
    "qae_list = []\n",
    "score_list = []\n",
    "for da in tqdm(rationale_pair_dev_data, total=len(rationale_pair_dev_data)):\n",
    "    qae = \"{} answer: {} explanation: {}\".format(da['question'], \n",
    "                                                 da['answer'], \n",
    "                                                 da['generated_explanation'])\n",
    "\n",
    "    scores = get_scores(\n",
    "        [qae],\n",
    "        'large',\n",
    "        device='cuda:0',\n",
    "        batch_size=1,\n",
    "        verbose=False)\n",
    "    score_list.append(scores[0])\n",
    "    if scores[0] > 0.7 or scores[0] < 0.2:\n",
    "        print(\"question: {}\".format(da['question']))\n",
    "        print(\"answer: {}\".format(da['answer']))\n",
    "        print(\"common_expl_list: {}\".format(da['common_expl_list']))\n",
    "        print(\"generated_explanation: {}\".format(da['generated_explanation']))\n",
    "        print(\"score: {}\".format(scores[0]))"
   ]
  },
  {
   "cell_type": "markdown",
   "id": "83bb020b",
   "metadata": {},
   "source": [
    "## evaluate generated rationale with bert-score"
   ]
  },
  {
   "cell_type": "code",
   "execution_count": 3,
   "id": "d6b285d7",
   "metadata": {},
   "outputs": [],
   "source": [
    "import datasets\n",
    "\n",
    "bertscore_metric = datasets.load_metric(\"bertscore\")"
   ]
  },
  {
   "cell_type": "code",
   "execution_count": 10,
   "id": "7708d652",
   "metadata": {},
   "outputs": [
    {
     "name": "stderr",
     "output_type": "stream",
     "text": [
      "100%|█████████████████████████████████████████████████████████████████████████████████████████████████████████████████████████████████████████████████████████████████████| 986/986 [01:23<00:00, 11.77it/s]\n"
     ]
    },
    {
     "ename": "NameError",
     "evalue": "name 'np' is not defined",
     "output_type": "error",
     "traceback": [
      "\u001b[0;31m---------------------------------------------------------------------------\u001b[0m",
      "\u001b[0;31mNameError\u001b[0m                                 Traceback (most recent call last)",
      "\u001b[0;32m/tmp/ipykernel_1133244/3646393997.py\u001b[0m in \u001b[0;36m<module>\u001b[0;34m\u001b[0m\n\u001b[1;32m     13\u001b[0m         \u001b[0minstance_bertscores\u001b[0m\u001b[0;34m.\u001b[0m\u001b[0mappend\u001b[0m\u001b[0;34m(\u001b[0m\u001b[0mscore\u001b[0m\u001b[0;34m)\u001b[0m\u001b[0;34m\u001b[0m\u001b[0m\n\u001b[1;32m     14\u001b[0m     \u001b[0mbertscores\u001b[0m\u001b[0;34m.\u001b[0m\u001b[0mappend\u001b[0m\u001b[0;34m(\u001b[0m\u001b[0mmax\u001b[0m\u001b[0;34m(\u001b[0m\u001b[0minstance_bertscores\u001b[0m\u001b[0;34m)\u001b[0m\u001b[0;34m)\u001b[0m\u001b[0;34m\u001b[0m\u001b[0m\n\u001b[0;32m---> 15\u001b[0;31m \u001b[0mbertscore\u001b[0m \u001b[0;34m=\u001b[0m \u001b[0mnp\u001b[0m\u001b[0;34m.\u001b[0m\u001b[0mmean\u001b[0m\u001b[0;34m(\u001b[0m\u001b[0mbertscores\u001b[0m\u001b[0;34m)\u001b[0m\u001b[0;34m\u001b[0m\u001b[0m\n\u001b[0m\u001b[1;32m     16\u001b[0m     \u001b[0;31m#pdb.set_trace()\u001b[0m\u001b[0;34m\u001b[0m\u001b[0;34m\u001b[0m\u001b[0m\n",
      "\u001b[0;31mNameError\u001b[0m: name 'np' is not defined"
     ]
    }
   ],
   "source": [
    "import pdb\n",
    "bertscores = []\n",
    "for da in tqdm(rationale_pair_dev_data, total=len(rationale_pair_dev_data)):\n",
    "    generated_expl = da['generated_explanation']\n",
    "    common_expl_list = da['common_expl_list']\n",
    "    pred_expl = generated_expl.split(\"<extra_id_0> \")[1].split(\"<extra_id_1>\")[0]\n",
    "    list_gold_expl = common_expl_list\n",
    "    #print(generated_expl)\n",
    "    #print(generated_expl.split(\"<extra_id_0> \")[1].split(\"<extra_id_1>\")[0])\n",
    "    instance_bertscores = []\n",
    "    for gold_expl in list_gold_expl: \n",
    "        score = bertscore_metric.compute(predictions=[pred_expl.lower()], references=[gold_expl.lower()], lang=\"en\")[\"f1\"][0]*100\n",
    "        instance_bertscores.append(score)\n",
    "    bertscores.append(max(instance_bertscores))\n",
    "bertscore = np.mean(bertscores)\n",
    "    #pdb.set_trace()"
   ]
  },
  {
   "cell_type": "code",
   "execution_count": 11,
   "id": "e8d9896e",
   "metadata": {},
   "outputs": [],
   "source": [
    "\n",
    "import numpy as np\n",
    "bertscore = np.mean(bertscores)\n"
   ]
  },
  {
   "cell_type": "code",
   "execution_count": 12,
   "id": "8e2d6d09",
   "metadata": {},
   "outputs": [
    {
     "data": {
      "text/plain": [
       "89.63499489952537"
      ]
     },
     "execution_count": 12,
     "metadata": {},
     "output_type": "execute_result"
    }
   ],
   "source": [
    "bertscore"
   ]
  },
  {
   "cell_type": "code",
   "execution_count": 13,
   "id": "90205fc2",
   "metadata": {},
   "outputs": [
    {
     "data": {
      "text/plain": [
       "[89.01979327201843,\n",
       " 90.37740230560303,\n",
       " 85.25624871253967,\n",
       " 93.10430884361267,\n",
       " 87.44266033172607,\n",
       " 87.51632571220398,\n",
       " 91.12799167633057,\n",
       " 91.29958748817444,\n",
       " 88.49538564682007,\n",
       " 89.39582109451294,\n",
       " 90.31085968017578,\n",
       " 90.40752053260803,\n",
       " 87.21712827682495,\n",
       " 93.52872371673584,\n",
       " 88.200443983078,\n",
       " 91.08121991157532,\n",
       " 88.90480399131775,\n",
       " 85.6385886669159,\n",
       " 89.80599641799927,\n",
       " 87.95192837715149,\n",
       " 89.95508551597595,\n",
       " 86.57296895980835,\n",
       " 90.90205430984497,\n",
       " 90.48690795898438,\n",
       " 89.27825689315796,\n",
       " 89.53070044517517,\n",
       " 90.07056951522827,\n",
       " 88.45992684364319,\n",
       " 87.71679401397705,\n",
       " 92.56680011749268,\n",
       " 93.09734106063843,\n",
       " 88.12485337257385,\n",
       " 85.48378348350525,\n",
       " 87.04838156700134,\n",
       " 88.9463484287262,\n",
       " 89.0618622303009,\n",
       " 88.52788805961609,\n",
       " 90.0373101234436,\n",
       " 91.38297438621521,\n",
       " 89.05656337738037,\n",
       " 90.01131057739258,\n",
       " 89.20090794563293,\n",
       " 90.45494794845581,\n",
       " 87.87121176719666,\n",
       " 86.95672154426575,\n",
       " 88.81932497024536,\n",
       " 87.67191767692566,\n",
       " 88.77227306365967,\n",
       " 89.5970106124878,\n",
       " 96.81265354156494,\n",
       " 89.0777051448822,\n",
       " 86.13960146903992,\n",
       " 88.46344351768494,\n",
       " 92.30915307998657,\n",
       " 92.34291315078735,\n",
       " 87.93657422065735,\n",
       " 88.58144879341125,\n",
       " 88.39660286903381,\n",
       " 88.55077028274536,\n",
       " 90.15200734138489,\n",
       " 88.63124251365662,\n",
       " 90.35947918891907,\n",
       " 90.8052384853363,\n",
       " 90.97866415977478,\n",
       " 90.10740518569946,\n",
       " 86.9893491268158,\n",
       " 87.26480603218079,\n",
       " 91.26868844032288,\n",
       " 88.1830096244812,\n",
       " 91.64513945579529,\n",
       " 92.69784688949585,\n",
       " 90.59971570968628,\n",
       " 89.07389640808105,\n",
       " 85.53727865219116,\n",
       " 90.08450508117676,\n",
       " 88.07229995727539,\n",
       " 89.46663737297058,\n",
       " 85.3785753250122,\n",
       " 85.38715243339539,\n",
       " 94.79779601097107,\n",
       " 94.96232867240906,\n",
       " 89.36682939529419,\n",
       " 86.11581921577454,\n",
       " 88.7047529220581,\n",
       " 84.22846794128418,\n",
       " 91.72952771186829,\n",
       " 90.7613217830658,\n",
       " 90.34679532051086,\n",
       " 91.66187047958374,\n",
       " 90.65746068954468,\n",
       " 87.75185942649841,\n",
       " 90.16920328140259,\n",
       " 88.65929841995239,\n",
       " 98.91673922538757,\n",
       " 95.93960642814636,\n",
       " 87.00474500656128,\n",
       " 93.34902167320251,\n",
       " 90.23904204368591,\n",
       " 87.75999546051025,\n",
       " 93.0885910987854,\n",
       " 88.67538571357727,\n",
       " 89.37732577323914,\n",
       " 86.70019507408142,\n",
       " 85.77613830566406,\n",
       " 89.26174640655518,\n",
       " 89.13344144821167,\n",
       " 88.94833326339722,\n",
       " 89.35105204582214,\n",
       " 87.7789556980133,\n",
       " 87.96647191047668,\n",
       " 88.68440389633179,\n",
       " 86.58448457717896,\n",
       " 91.3055956363678,\n",
       " 92.56657361984253,\n",
       " 88.09763193130493,\n",
       " 90.44531583786011,\n",
       " 88.3117139339447,\n",
       " 92.0086145401001,\n",
       " 89.21909928321838,\n",
       " 91.34112596511841,\n",
       " 91.09859466552734,\n",
       " 88.14594745635986,\n",
       " 85.75157523155212,\n",
       " 92.58044362068176,\n",
       " 88.4270429611206,\n",
       " 90.83715677261353,\n",
       " 86.95263862609863,\n",
       " 89.78706002235413,\n",
       " 90.76617956161499,\n",
       " 85.37338972091675,\n",
       " 88.30798268318176,\n",
       " 88.40662240982056,\n",
       " 89.48261737823486,\n",
       " 92.26639866828918,\n",
       " 86.96672320365906,\n",
       " 84.439218044281,\n",
       " 86.84430122375488,\n",
       " 89.25235271453857,\n",
       " 91.11101031303406,\n",
       " 91.90426468849182,\n",
       " 87.97243237495422,\n",
       " 87.31954097747803,\n",
       " 88.77857327461243,\n",
       " 94.16190385818481,\n",
       " 90.71853756904602,\n",
       " 89.37181830406189,\n",
       " 89.96100425720215,\n",
       " 91.98586344718933,\n",
       " 88.62884640693665,\n",
       " 88.60514163970947,\n",
       " 94.3824827671051,\n",
       " 89.2973780632019,\n",
       " 88.49545121192932,\n",
       " 90.68769216537476,\n",
       " 83.49478244781494,\n",
       " 90.62147736549377,\n",
       " 86.88114881515503,\n",
       " 86.39281988143921,\n",
       " 86.41325831413269,\n",
       " 89.411860704422,\n",
       " 98.26557040214539,\n",
       " 89.11519050598145,\n",
       " 88.34415078163147,\n",
       " 87.75310516357422,\n",
       " 88.04830312728882,\n",
       " 91.04970693588257,\n",
       " 88.92794847488403,\n",
       " 86.73266768455505,\n",
       " 90.56132435798645,\n",
       " 93.34209561347961,\n",
       " 87.48507499694824,\n",
       " 90.68616032600403,\n",
       " 94.51993703842163,\n",
       " 88.28350305557251,\n",
       " 89.84936475753784,\n",
       " 85.96413135528564,\n",
       " 95.90904712677002,\n",
       " 90.37337303161621,\n",
       " 89.23607468605042,\n",
       " 93.62515807151794,\n",
       " 89.17629718780518,\n",
       " 87.32348680496216,\n",
       " 88.08861970901489,\n",
       " 88.4550392627716,\n",
       " 88.44784498214722,\n",
       " 87.6606285572052,\n",
       " 87.21168041229248,\n",
       " 90.73705077171326,\n",
       " 88.42936158180237,\n",
       " 88.85884284973145,\n",
       " 94.50193047523499,\n",
       " 93.17988753318787,\n",
       " 88.70960474014282,\n",
       " 86.99432015419006,\n",
       " 92.69930720329285,\n",
       " 92.99744963645935,\n",
       " 89.69962000846863,\n",
       " 88.2397472858429,\n",
       " 91.46441221237183,\n",
       " 88.10539841651917,\n",
       " 90.65979719161987,\n",
       " 94.49121952056885,\n",
       " 86.69525980949402,\n",
       " 88.19773197174072,\n",
       " 93.05079579353333,\n",
       " 89.60568904876709,\n",
       " 89.6131157875061,\n",
       " 87.52792477607727,\n",
       " 91.93412065505981,\n",
       " 89.18941020965576,\n",
       " 89.33166265487671,\n",
       " 86.73083782196045,\n",
       " 91.5425181388855,\n",
       " 89.2171859741211,\n",
       " 88.83846998214722,\n",
       " 90.0346040725708,\n",
       " 91.8205738067627,\n",
       " 91.65920615196228,\n",
       " 89.55535888671875,\n",
       " 92.21497774124146,\n",
       " 87.78090476989746,\n",
       " 89.19662833213806,\n",
       " 98.65806102752686,\n",
       " 88.20781111717224,\n",
       " 90.21232724189758,\n",
       " 87.41679787635803,\n",
       " 94.99369859695435,\n",
       " 98.89408946037292,\n",
       " 90.09745121002197,\n",
       " 88.56330513954163,\n",
       " 87.7633273601532,\n",
       " 89.98298048973083,\n",
       " 87.79529929161072,\n",
       " 92.4649178981781,\n",
       " 87.06389665603638,\n",
       " 86.62484288215637,\n",
       " 87.57418394088745,\n",
       " 90.89141488075256,\n",
       " 89.14116621017456,\n",
       " 91.49050712585449,\n",
       " 91.35085940361023,\n",
       " 86.1777126789093,\n",
       " 86.98766231536865,\n",
       " 86.17565631866455,\n",
       " 94.27854418754578,\n",
       " 87.86004781723022,\n",
       " 85.14320850372314,\n",
       " 87.35873699188232,\n",
       " 91.51352643966675,\n",
       " 92.3505187034607,\n",
       " 91.54008030891418,\n",
       " 91.94350242614746,\n",
       " 90.39652943611145,\n",
       " 90.06497263908386,\n",
       " 86.78054213523865,\n",
       " 88.32988739013672,\n",
       " 92.58001446723938,\n",
       " 92.01915860176086,\n",
       " 90.49457311630249,\n",
       " 93.62672567367554,\n",
       " 90.03509879112244,\n",
       " 91.88513159751892,\n",
       " 90.0732934474945,\n",
       " 89.66959118843079,\n",
       " 89.00268077850342,\n",
       " 92.81994104385376,\n",
       " 89.6007776260376,\n",
       " 87.32478618621826,\n",
       " 87.09179162979126,\n",
       " 89.1159176826477,\n",
       " 91.99548363685608,\n",
       " 87.98693418502808,\n",
       " 92.31708645820618,\n",
       " 88.7451708316803,\n",
       " 88.60381245613098,\n",
       " 87.20115423202515,\n",
       " 87.38617300987244,\n",
       " 85.87661385536194,\n",
       " 86.51874661445618,\n",
       " 87.63370513916016,\n",
       " 93.05979609489441,\n",
       " 94.10979747772217,\n",
       " 89.55499529838562,\n",
       " 91.77521467208862,\n",
       " 90.8568799495697,\n",
       " 87.13560700416565,\n",
       " 86.91297769546509,\n",
       " 88.01340460777283,\n",
       " 89.06002044677734,\n",
       " 89.62553143501282,\n",
       " 86.44747138023376,\n",
       " 94.31756734848022,\n",
       " 88.9258086681366,\n",
       " 86.19232177734375,\n",
       " 85.48318147659302,\n",
       " 89.77155685424805,\n",
       " 87.3511016368866,\n",
       " 89.14268016815186,\n",
       " 89.95379209518433,\n",
       " 90.28109312057495,\n",
       " 91.80490970611572,\n",
       " 92.93200969696045,\n",
       " 88.16556930541992,\n",
       " 88.23832273483276,\n",
       " 87.04890608787537,\n",
       " 89.13630247116089,\n",
       " 84.54089760780334,\n",
       " 90.1366651058197,\n",
       " 89.38514590263367,\n",
       " 93.14621686935425,\n",
       " 92.04156398773193,\n",
       " 89.8392915725708,\n",
       " 88.41045498847961,\n",
       " 85.88999509811401,\n",
       " 91.78690910339355,\n",
       " 88.64784836769104,\n",
       " 91.20997786521912,\n",
       " 86.92938089370728,\n",
       " 86.94931864738464,\n",
       " 92.96917915344238,\n",
       " 90.73979258537292,\n",
       " 85.26061773300171,\n",
       " 87.13382482528687,\n",
       " 90.5259907245636,\n",
       " 90.38792252540588,\n",
       " 87.78658509254456,\n",
       " 89.94587063789368,\n",
       " 85.08119583129883,\n",
       " 88.75353932380676,\n",
       " 88.02351951599121,\n",
       " 95.57268619537354,\n",
       " 92.87586808204651,\n",
       " 95.13753652572632,\n",
       " 91.2892997264862,\n",
       " 89.12067413330078,\n",
       " 88.54458928108215,\n",
       " 96.86755537986755,\n",
       " 85.54096817970276,\n",
       " 93.09384822845459,\n",
       " 91.87281131744385,\n",
       " 91.92575216293335,\n",
       " 90.3364360332489,\n",
       " 88.14973831176758,\n",
       " 87.07895278930664,\n",
       " 94.43420171737671,\n",
       " 89.05893564224243,\n",
       " 91.17326140403748,\n",
       " 92.05770492553711,\n",
       " 87.88783550262451,\n",
       " 92.04661846160889,\n",
       " 93.36670637130737,\n",
       " 90.7945454120636,\n",
       " 87.2071623802185,\n",
       " 93.5972511768341,\n",
       " 88.45497965812683,\n",
       " 91.75509214401245,\n",
       " 92.23591685295105,\n",
       " 100.00320672988892,\n",
       " 92.04606413841248,\n",
       " 87.87616491317749,\n",
       " 86.02444529533386,\n",
       " 90.41621088981628,\n",
       " 86.08184456825256,\n",
       " 92.81674027442932,\n",
       " 90.65570831298828,\n",
       " 90.39494395256042,\n",
       " 89.40598368644714,\n",
       " 91.22703671455383,\n",
       " 90.75179100036621,\n",
       " 91.59163236618042,\n",
       " 87.70807385444641,\n",
       " 88.63480687141418,\n",
       " 94.47680115699768,\n",
       " 85.88019013404846,\n",
       " 88.23570013046265,\n",
       " 85.84837317466736,\n",
       " 87.05177903175354,\n",
       " 90.55477380752563,\n",
       " 89.62821960449219,\n",
       " 89.98931646347046,\n",
       " 90.0675117969513,\n",
       " 86.01412773132324,\n",
       " 89.44586515426636,\n",
       " 95.05990147590637,\n",
       " 86.61577701568604,\n",
       " 85.8408272266388,\n",
       " 88.51510882377625,\n",
       " 87.17127442359924,\n",
       " 87.86596655845642,\n",
       " 88.50927948951721,\n",
       " 90.0711715221405,\n",
       " 90.5535101890564,\n",
       " 86.53626441955566,\n",
       " 89.21715021133423,\n",
       " 90.03105163574219,\n",
       " 90.52536487579346,\n",
       " 94.09602880477905,\n",
       " 91.23944044113159,\n",
       " 91.3031280040741,\n",
       " 92.71894097328186,\n",
       " 88.94190192222595,\n",
       " 91.6310727596283,\n",
       " 90.84749817848206,\n",
       " 90.71537852287292,\n",
       " 92.5736665725708,\n",
       " 93.48397254943848,\n",
       " 90.32431244850159,\n",
       " 90.78583121299744,\n",
       " 87.09818124771118,\n",
       " 87.66695261001587,\n",
       " 89.75861668586731,\n",
       " 93.2458758354187,\n",
       " 88.16924095153809,\n",
       " 89.45015072822571,\n",
       " 87.34832406044006,\n",
       " 89.99573588371277,\n",
       " 89.6318256855011,\n",
       " 87.44907975196838,\n",
       " 86.68318390846252,\n",
       " 91.13990068435669,\n",
       " 89.52985405921936,\n",
       " 89.39244151115417,\n",
       " 88.83192539215088,\n",
       " 91.12445116043091,\n",
       " 86.89482808113098,\n",
       " 85.84612607955933,\n",
       " 91.78406596183777,\n",
       " 90.73494672775269,\n",
       " 85.98342537879944,\n",
       " 90.42255878448486,\n",
       " 88.73254656791687,\n",
       " 87.03609108924866,\n",
       " 89.61217403411865,\n",
       " 90.35300016403198,\n",
       " 91.23601913452148,\n",
       " 90.9767210483551,\n",
       " 87.92732357978821,\n",
       " 88.11951279640198,\n",
       " 85.52750945091248,\n",
       " 90.91622233390808,\n",
       " 86.92382574081421,\n",
       " 91.86698794364929,\n",
       " 90.75337052345276,\n",
       " 88.12013268470764,\n",
       " 89.58377838134766,\n",
       " 95.70510983467102,\n",
       " 95.77093124389648,\n",
       " 98.22141528129578,\n",
       " 90.58107733726501,\n",
       " 87.91216611862183,\n",
       " 86.37634515762329,\n",
       " 87.53102421760559,\n",
       " 87.63238191604614,\n",
       " 94.36256885528564,\n",
       " 93.20367574691772,\n",
       " 86.38279438018799,\n",
       " 88.71780037879944,\n",
       " 91.40518307685852,\n",
       " 89.14266228675842,\n",
       " 93.87670159339905,\n",
       " 93.26318502426147,\n",
       " 89.09555077552795,\n",
       " 87.17990517616272,\n",
       " 91.31295680999756,\n",
       " 86.77396774291992,\n",
       " 89.38566446304321,\n",
       " 91.96282029151917,\n",
       " 90.8988893032074,\n",
       " 89.03225660324097,\n",
       " 90.41517376899719,\n",
       " 90.09785652160645,\n",
       " 87.43574023246765,\n",
       " 87.09961771965027,\n",
       " 89.29416537284851,\n",
       " 88.19990754127502,\n",
       " 88.90987038612366,\n",
       " 87.79711723327637,\n",
       " 89.34619426727295,\n",
       " 89.97462391853333,\n",
       " 87.85406947135925,\n",
       " 85.59209704399109,\n",
       " 85.56994795799255,\n",
       " 88.63583207130432,\n",
       " 89.0602171421051,\n",
       " 92.67883896827698,\n",
       " 89.92180228233337,\n",
       " 88.60481381416321,\n",
       " 90.24186730384827,\n",
       " 90.6861960887909,\n",
       " 88.40329647064209,\n",
       " 94.83891129493713,\n",
       " 91.12194776535034,\n",
       " 95.35449743270874,\n",
       " 88.65014314651489,\n",
       " 87.16470003128052,\n",
       " 89.29184675216675,\n",
       " 89.64795470237732,\n",
       " 90.69415330886841,\n",
       " 90.44005274772644,\n",
       " 87.90167570114136,\n",
       " 88.4419322013855,\n",
       " 89.57039713859558,\n",
       " 89.32820558547974,\n",
       " 88.23728561401367,\n",
       " 86.24390363693237,\n",
       " 91.18461608886719,\n",
       " 88.76819014549255,\n",
       " 86.54741644859314,\n",
       " 88.60912322998047,\n",
       " 88.87659907341003,\n",
       " 88.9871597290039,\n",
       " 89.60046172142029,\n",
       " 91.47089123725891,\n",
       " 93.7955915927887,\n",
       " 90.85273146629333,\n",
       " 88.25000524520874,\n",
       " 89.98294472694397,\n",
       " 87.7680242061615,\n",
       " 89.55180048942566,\n",
       " 93.05340051651001,\n",
       " 88.22335004806519,\n",
       " 88.38393092155457,\n",
       " 91.06598496437073,\n",
       " 88.5595977306366,\n",
       " 89.79536890983582,\n",
       " 89.17332887649536,\n",
       " 86.99358105659485,\n",
       " 88.7322723865509,\n",
       " 90.22642374038696,\n",
       " 89.46840763092041,\n",
       " 84.16521549224854,\n",
       " 90.98994731903076,\n",
       " 93.62368583679199,\n",
       " 87.38197088241577,\n",
       " 89.43859934806824,\n",
       " 89.45286870002747,\n",
       " 85.81835627555847,\n",
       " 86.0334575176239,\n",
       " 88.07278871536255,\n",
       " 87.1926486492157,\n",
       " 86.43440008163452,\n",
       " 88.14858198165894,\n",
       " 89.74202275276184,\n",
       " 94.20831203460693,\n",
       " 88.29575181007385,\n",
       " 89.2486035823822,\n",
       " 86.87518239021301,\n",
       " 87.81875967979431,\n",
       " 87.19640374183655,\n",
       " 88.50863575935364,\n",
       " 88.64790797233582,\n",
       " 87.21773624420166,\n",
       " 87.34826445579529,\n",
       " 94.07440423965454,\n",
       " 90.52025079727173,\n",
       " 88.58118057250977,\n",
       " 90.57629108428955,\n",
       " 87.15806603431702,\n",
       " 89.91729021072388,\n",
       " 90.66939353942871,\n",
       " 92.47668385505676,\n",
       " 92.58877635002136,\n",
       " 94.09896731376648,\n",
       " 87.26888298988342,\n",
       " 90.57384729385376,\n",
       " 88.09260725975037,\n",
       " 89.45581912994385,\n",
       " 86.86299920082092,\n",
       " 85.80047488212585,\n",
       " 96.69272303581238,\n",
       " 87.0963454246521,\n",
       " 90.89969396591187,\n",
       " 88.62372040748596,\n",
       " 90.00675082206726,\n",
       " 88.51842284202576,\n",
       " 89.5859956741333,\n",
       " 86.77919507026672,\n",
       " 91.62025451660156,\n",
       " 90.15253186225891,\n",
       " 91.42104983329773,\n",
       " 88.73838186264038,\n",
       " 86.43766641616821,\n",
       " 92.51137375831604,\n",
       " 92.83103942871094,\n",
       " 87.69541382789612,\n",
       " 88.77927660942078,\n",
       " 87.77615427970886,\n",
       " 88.59524726867676,\n",
       " 91.94023013114929,\n",
       " 92.44053363800049,\n",
       " 89.28185701370239,\n",
       " 94.13118362426758,\n",
       " 89.40632343292236,\n",
       " 91.90237522125244,\n",
       " 90.11361598968506,\n",
       " 93.11156272888184,\n",
       " 89.89319205284119,\n",
       " 88.06729912757874,\n",
       " 87.81724572181702,\n",
       " 91.18627905845642,\n",
       " 85.9074592590332,\n",
       " 91.12791419029236,\n",
       " 89.65675234794617,\n",
       " 90.15474915504456,\n",
       " 92.32975244522095,\n",
       " 87.92698979377747,\n",
       " 86.27030849456787,\n",
       " 88.014155626297,\n",
       " 98.83841872215271,\n",
       " 90.18959403038025,\n",
       " 87.26375699043274,\n",
       " 87.42064833641052,\n",
       " 87.57274150848389,\n",
       " 90.98208546638489,\n",
       " 89.32079672813416,\n",
       " 93.16427707672119,\n",
       " 90.5954897403717,\n",
       " 90.37854075431824,\n",
       " 88.2057785987854,\n",
       " 88.03461790084839,\n",
       " 90.04796147346497,\n",
       " 87.33408451080322,\n",
       " 87.24689483642578,\n",
       " 85.92813611030579,\n",
       " 86.13394498825073,\n",
       " 85.57448387145996,\n",
       " 88.59973549842834,\n",
       " 89.10559415817261,\n",
       " 89.9832010269165,\n",
       " 89.95420336723328,\n",
       " 92.36820936203003,\n",
       " 95.89099287986755,\n",
       " 87.78565526008606,\n",
       " 88.43186497688293,\n",
       " 90.17528891563416,\n",
       " 88.2563054561615,\n",
       " 88.66453170776367,\n",
       " 88.58336210250854,\n",
       " 87.28088140487671,\n",
       " 88.08056712150574,\n",
       " 93.23813915252686,\n",
       " 88.7444019317627,\n",
       " 89.65428471565247,\n",
       " 91.8619692325592,\n",
       " 90.70651531219482,\n",
       " 87.48778104782104,\n",
       " 92.67866015434265,\n",
       " 90.41084051132202,\n",
       " 90.4417872428894,\n",
       " 91.38073921203613,\n",
       " 89.64466452598572,\n",
       " 88.12288641929626,\n",
       " 87.04612851142883,\n",
       " 85.79650521278381,\n",
       " 95.72778344154358,\n",
       " 97.40742444992065,\n",
       " 87.63234615325928,\n",
       " 91.167551279068,\n",
       " 91.19384288787842,\n",
       " 89.77274298667908,\n",
       " 92.4238383769989,\n",
       " 90.93996286392212,\n",
       " 87.91015148162842,\n",
       " 87.5073790550232,\n",
       " 89.55038189888,\n",
       " 97.25180268287659,\n",
       " 89.30954337120056,\n",
       " 89.47032690048218,\n",
       " 87.97970414161682,\n",
       " 91.65351390838623,\n",
       " 87.010258436203,\n",
       " 93.76636147499084,\n",
       " 88.9089822769165,\n",
       " 93.87264251708984,\n",
       " 87.77825832366943,\n",
       " 88.49478960037231,\n",
       " 85.17913818359375,\n",
       " 87.09054589271545,\n",
       " 88.22068572044373,\n",
       " 87.44356632232666,\n",
       " 90.51531553268433,\n",
       " 89.10154104232788,\n",
       " 89.7188127040863,\n",
       " 90.5786395072937,\n",
       " 88.12869787216187,\n",
       " 88.47895860671997,\n",
       " 89.70649242401123,\n",
       " 88.30060362815857,\n",
       " 91.32041335105896,\n",
       " 88.93142938613892,\n",
       " 96.37972712516785,\n",
       " 89.09898400306702,\n",
       " 86.44078373908997,\n",
       " 89.28932547569275,\n",
       " 86.56299710273743,\n",
       " 97.6483166217804,\n",
       " 93.5100793838501,\n",
       " 88.32550048828125,\n",
       " 90.17798900604248,\n",
       " 86.8344783782959,\n",
       " 91.71408414840698,\n",
       " 85.14624834060669,\n",
       " 88.87817859649658,\n",
       " 91.32776260375977,\n",
       " 85.73369979858398,\n",
       " 94.5111334323883,\n",
       " 86.82162165641785,\n",
       " 89.26905393600464,\n",
       " 87.20812797546387,\n",
       " 91.94884300231934,\n",
       " 88.0869209766388,\n",
       " 89.31944370269775,\n",
       " 89.32583928108215,\n",
       " 88.59726786613464,\n",
       " 89.02726769447327,\n",
       " 88.58627676963806,\n",
       " 87.53279447555542,\n",
       " 93.9399003982544,\n",
       " 90.6444251537323,\n",
       " 85.75953841209412,\n",
       " 89.3716812133789,\n",
       " 85.9535276889801,\n",
       " 87.46686577796936,\n",
       " 91.1469578742981,\n",
       " 90.4697835445404,\n",
       " 88.31390738487244,\n",
       " 89.32762145996094,\n",
       " 90.6267762184143,\n",
       " 87.00159192085266,\n",
       " 88.03372979164124,\n",
       " 87.56281733512878,\n",
       " 92.89997816085815,\n",
       " 88.190758228302,\n",
       " 89.80564475059509,\n",
       " 90.39801955223083,\n",
       " 87.32662796974182,\n",
       " 89.25349712371826,\n",
       " 87.26881146430969,\n",
       " 91.02309942245483,\n",
       " 96.77992463111877,\n",
       " 94.3135678768158,\n",
       " 87.25056052207947,\n",
       " 89.8402452468872,\n",
       " 87.9943311214447,\n",
       " 86.72088980674744,\n",
       " 91.45829677581787,\n",
       " 92.25759506225586,\n",
       " 87.59142756462097,\n",
       " 87.9138708114624,\n",
       " 90.27168154716492,\n",
       " 89.22156095504761,\n",
       " 94.43039894104004,\n",
       " 90.2952253818512,\n",
       " 88.07139992713928,\n",
       " 91.19808673858643,\n",
       " 91.91817045211792,\n",
       " 87.14161515235901,\n",
       " 86.58633232116699,\n",
       " 89.37706351280212,\n",
       " 87.41036653518677,\n",
       " 87.91260123252869,\n",
       " 90.70524573326111,\n",
       " 87.91359066963196,\n",
       " 94.17927265167236,\n",
       " 87.52524852752686,\n",
       " 88.6432945728302,\n",
       " 92.29586720466614,\n",
       " 88.16934823989868,\n",
       " 89.1258955001831,\n",
       " 84.54335927963257,\n",
       " 90.83091616630554,\n",
       " 87.55836486816406,\n",
       " 88.3050799369812,\n",
       " 88.67949843406677,\n",
       " 90.65155982971191,\n",
       " 90.84664583206177,\n",
       " 86.99207305908203,\n",
       " 90.66727757453918,\n",
       " 87.34668493270874,\n",
       " 88.18054795265198,\n",
       " 86.48216724395752,\n",
       " 92.04232096672058,\n",
       " 92.83181428909302,\n",
       " 88.31481337547302,\n",
       " 84.5621407032013,\n",
       " 86.5674078464508,\n",
       " 88.587087392807,\n",
       " 88.16254734992981,\n",
       " 91.12734198570251,\n",
       " 86.50498986244202,\n",
       " 91.81619882583618,\n",
       " 89.04741406440735,\n",
       " 85.01281142234802,\n",
       " 97.60728478431702,\n",
       " 92.38542914390564,\n",
       " 94.69895362854004,\n",
       " 97.28230237960815,\n",
       " 88.9484703540802,\n",
       " 92.61215329170227,\n",
       " 92.30788350105286,\n",
       " 89.08275961875916,\n",
       " 90.70140719413757,\n",
       " 86.09557747840881,\n",
       " 87.4092698097229,\n",
       " 89.41657543182373,\n",
       " 84.1526985168457,\n",
       " 88.20319771766663,\n",
       " 90.39614200592041,\n",
       " 88.49085569381714,\n",
       " 88.5966956615448,\n",
       " 90.42351841926575,\n",
       " 91.0564661026001,\n",
       " 86.8387222290039,\n",
       " 90.23337960243225,\n",
       " 86.10051274299622,\n",
       " 96.64025902748108,\n",
       " 89.08998966217041,\n",
       " 94.95939016342163,\n",
       " 97.64177203178406,\n",
       " 87.76658773422241,\n",
       " 89.75909948348999,\n",
       " 90.73829054832458,\n",
       " 88.83824348449707,\n",
       " 90.23358821868896,\n",
       " 86.5407645702362,\n",
       " 87.20728158950806,\n",
       " 89.53882455825806,\n",
       " 92.78546571731567,\n",
       " 95.12165784835815,\n",
       " 90.43117165565491,\n",
       " 89.15905356407166,\n",
       " 89.21989798545837,\n",
       " 87.8101110458374,\n",
       " 88.9611303806305,\n",
       " 91.88535213470459,\n",
       " 92.43842959403992,\n",
       " 88.48262429237366,\n",
       " 91.19115471839905,\n",
       " 87.22436428070068,\n",
       " 92.16082692146301,\n",
       " 91.79571866989136,\n",
       " 90.10438323020935,\n",
       " 88.02639842033386,\n",
       " 84.21368598937988,\n",
       " 88.46386075019836,\n",
       " 89.68089818954468,\n",
       " 89.40520286560059,\n",
       " 87.82594203948975,\n",
       " 96.14492058753967,\n",
       " 90.63832759857178,\n",
       " 88.57041597366333,\n",
       " 89.12450671195984,\n",
       " 92.02290773391724,\n",
       " 89.34774994850159,\n",
       " 88.8279378414154,\n",
       " 86.86931729316711,\n",
       " 88.95010352134705,\n",
       " 90.48537611961365,\n",
       " 86.44740581512451,\n",
       " 88.8265073299408,\n",
       " 89.1026496887207,\n",
       " 91.13897681236267,\n",
       " 93.49507093429565,\n",
       " 88.14486861228943,\n",
       " 89.95276093482971,\n",
       " 86.7649793624878,\n",
       " 90.13802409172058,\n",
       " 89.7857666015625,\n",
       " 89.51983451843262,\n",
       " 87.50595450401306,\n",
       " 88.08103203773499,\n",
       " 94.5459246635437,\n",
       " 92.23324060440063,\n",
       " 87.7819836139679,\n",
       " 92.01714396476746,\n",
       " 86.06155514717102,\n",
       " 92.40877628326416,\n",
       " 89.73785638809204,\n",
       " 87.94006705284119,\n",
       " 87.01360821723938,\n",
       " 95.3481137752533,\n",
       " 88.59265446662903,\n",
       " 89.39428925514221,\n",
       " 90.56435823440552,\n",
       " 92.7130937576294,\n",
       " 95.60747146606445,\n",
       " 85.6562077999115,\n",
       " 86.73923015594482,\n",
       " 92.7730917930603,\n",
       " 89.06844854354858,\n",
       " 87.09247708320618,\n",
       " 90.15580415725708,\n",
       " 88.2860779762268,\n",
       " 91.22748970985413,\n",
       " 86.57516837120056,\n",
       " 88.93000483512878,\n",
       " 90.5733585357666,\n",
       " 87.29708790779114,\n",
       " 90.12029767036438,\n",
       " 91.29571914672852,\n",
       " 86.68407797813416,\n",
       " 87.33725547790527,\n",
       " 90.75665473937988,\n",
       " 91.05446338653564,\n",
       " 96.01786732673645,\n",
       " 85.82987785339355,\n",
       " 90.63240885734558,\n",
       " 89.63229060173035,\n",
       " 91.15478992462158,\n",
       " 87.61823177337646,\n",
       " 89.72771763801575,\n",
       " 85.26399731636047,\n",
       " 89.64499235153198,\n",
       " 88.50561380386353,\n",
       " 88.59421014785767,\n",
       " 86.71282529830933,\n",
       " 91.88433885574341,\n",
       " 88.87470364570618,\n",
       " 91.01338982582092,\n",
       " 93.53029131889343,\n",
       " 86.73685789108276,\n",
       " 90.54104089736938,\n",
       " 93.87542009353638,\n",
       " 88.52728605270386,\n",
       " 91.01464748382568,\n",
       " 84.58502292633057,\n",
       " 87.5273585319519,\n",
       " 90.07204174995422,\n",
       " 91.88374876976013,\n",
       " 88.21215033531189,\n",
       " 88.74802589416504,\n",
       " 94.9601948261261,\n",
       " 87.59745359420776,\n",
       " 86.63627505302429,\n",
       " 86.67101860046387,\n",
       " 92.80192255973816,\n",
       " 91.18250608444214,\n",
       " 92.5191879272461,\n",
       " 85.70894598960876,\n",
       " 91.75946712493896,\n",
       " 94.31575536727905,\n",
       " 94.29188370704651,\n",
       " 86.8582546710968,\n",
       " 89.65569734573364,\n",
       " 88.4788990020752,\n",
       " 87.5159204006195,\n",
       " 89.98327851295471,\n",
       " 89.63354825973511,\n",
       " 90.68306088447571,\n",
       " 88.02438974380493,\n",
       " 88.70640993118286,\n",
       " 92.75253415107727,\n",
       " 89.99719619750977,\n",
       " 88.01049590110779,\n",
       " 87.5237762928009,\n",
       " 97.72517085075378,\n",
       " 87.3937726020813,\n",
       " 90.64095616340637,\n",
       " 91.78268313407898,\n",
       " 85.16833186149597,\n",
       " 88.18978071212769,\n",
       " 85.10352969169617,\n",
       " 88.93022537231445,\n",
       " 88.65776062011719,\n",
       " 89.3437147140503,\n",
       " 89.5085334777832,\n",
       " 86.1759603023529,\n",
       " 86.14870309829712,\n",
       " 88.69454264640808,\n",
       " 90.82512855529785,\n",
       " 88.94621133804321,\n",
       " 89.8574709892273,\n",
       " 85.6227159500122,\n",
       " 95.01844048500061,\n",
       " 90.125572681427,\n",
       " 90.90192914009094,\n",
       " 90.2162492275238,\n",
       " 94.31238174438477,\n",
       " 89.57810401916504,\n",
       " 89.6698534488678,\n",
       " 89.99696969985962,\n",
       " 87.61454820632935,\n",
       " 87.57951855659485,\n",
       " 91.62418246269226,\n",
       " 93.15988421440125,\n",
       " 88.5218620300293]"
      ]
     },
     "execution_count": 13,
     "metadata": {},
     "output_type": "execute_result"
    }
   ],
   "source": [
    "bertscores"
   ]
  },
  {
   "cell_type": "code",
   "execution_count": 21,
   "id": "9f5150ff",
   "metadata": {},
   "outputs": [
    {
     "data": {
      "text/plain": [
       "0.5893898972330905"
      ]
     },
     "execution_count": 21,
     "metadata": {},
     "output_type": "execute_result"
    }
   ],
   "source": [
    "np.mean(score_list)"
   ]
  },
  {
   "cell_type": "code",
   "execution_count": 23,
   "id": "50922226",
   "metadata": {},
   "outputs": [
    {
     "name": "stderr",
     "output_type": "stream",
     "text": [
      "100%|█████████████████████████████████████████████████████████████████████████████████████████████████████████████████████████████████████████████████████████████████████| 986/986 [00:36<00:00, 26.82it/s]"
     ]
    },
    {
     "name": "stdout",
     "output_type": "stream",
     "text": [
      "90.0988023131179\n"
     ]
    },
    {
     "name": "stderr",
     "output_type": "stream",
     "text": [
      "\n"
     ]
    }
   ],
   "source": [
    "import json\n",
    "from tqdm import tqdm\n",
    "with open(\"../../scripts/results/dev_rationale_pair_115shots.json\") as f:\n",
    "    rationale_pair_dev_data = json.load(f)\n",
    "\n",
    "import pdb\n",
    "bertscores = []\n",
    "for da in tqdm(rationale_pair_dev_data, total=len(rationale_pair_dev_data)):\n",
    "    generated_expl = da['generated_explanation']\n",
    "    common_expl_list = da['common_expl_list']\n",
    "    pred_expl = generated_expl.split(\"<extra_id_0> \")[1].split(\"<extra_id_1>\")[0]\n",
    "    list_gold_expl = common_expl_list\n",
    "    #print(generated_expl)\n",
    "    #print(generated_expl.split(\"<extra_id_0> \")[1].split(\"<extra_id_1>\")[0])\n",
    "    instance_bertscores = []\n",
    "    for gold_expl in list_gold_expl: \n",
    "        score = bertscore_metric.compute(predictions=[pred_expl.lower()], references=[gold_expl.lower()], lang=\"en\")[\"f1\"][0]*100\n",
    "        instance_bertscores.append(score)\n",
    "    bertscores.append(max(instance_bertscores))\n",
    "bertscore = np.mean(bertscores)\n",
    "print(bertscore)\n",
    "    #pdb.set_trace()"
   ]
  },
  {
   "cell_type": "code",
   "execution_count": 24,
   "id": "0f0256b5",
   "metadata": {},
   "outputs": [
    {
     "name": "stderr",
     "output_type": "stream",
     "text": [
      "  0%|▌                                                                                                                                                                      | 3/986 [00:00<01:14, 13.27it/s]"
     ]
    },
    {
     "name": "stdout",
     "output_type": "stream",
     "text": [
      "question: Where can you likely buy many poems?\n",
      "answer: book store\n",
      "common_expl_list: ['A bookstore sells a variety of books, including poetry books; chains of bookstores sometimes specialize in categories such as poetry or literature.', 'A book store is a place where you can buy books, including poetry books.']\n",
      "generated_explanation: <pad> <extra_id_0> Poems are often published in books, and book stores often sell poetry.<extra_id_1> </s>\n",
      "score: 0.812351405620575\n",
      "question: A person who yawns and paces to help pass the time is likely feeling what?\n",
      "answer: boredom\n",
      "common_expl_list: ['By yawning and pacing one shows signs of being bored.', 'Yawning and pacing is a sign of being bored, etc...', 'A bored person would pace and yawn to make time go by faster.']\n",
      "generated_explanation: <pad> <extra_id_0> Boredom is a common cause of yawning and pacing, and it's common for people to do these things to pass the time while waiting for something to happen.<extra_id_1> </s>\n",
      "score: 0.7509153485298157\n"
     ]
    },
    {
     "name": "stderr",
     "output_type": "stream",
     "text": [
      "  2%|███                                                                                                                                                                   | 18/986 [00:00<00:48, 19.93it/s]"
     ]
    },
    {
     "name": "stdout",
     "output_type": "stream",
     "text": [
      "question: What is a good way to carry a small dog?\n",
      "answer: backpack\n",
      "common_expl_list: ['Backpacks are a good way to carry things, and small dogs are things.']\n",
      "generated_explanation: <pad> <extra_id_0> Small dogs are often carried in backpacks, which are designed to fit over the shoulders.<extra_id_1> </s>\n",
      "score: 0.7544651031494141\n"
     ]
    },
    {
     "name": "stderr",
     "output_type": "stream",
     "text": [
      "\r",
      "  2%|███▌                                                                                                                                                                  | 21/986 [00:01<00:48, 20.10it/s]"
     ]
    },
    {
     "name": "stdout",
     "output_type": "stream",
     "text": [
      "question: Where are files likely to be hanging?\n",
      "answer: filing cabinet\n",
      "common_expl_list: ['Filing cabinets are used to store files sometimes; these files can then be found by opening the filing cabinet and looking for hanging folders.', 'Files are likely to be hanging in a filing cabinet, since they are often organized by topic, and filing cabinets are often used to organize files.']\n",
      "generated_explanation: <pad> <extra_id_0> Files are stored in filing cabinets, and files are usually hung from the filing cabinet's shelves.<extra_id_1> </s>\n",
      "score: 0.8170482516288757\n"
     ]
    },
    {
     "name": "stderr",
     "output_type": "stream",
     "text": [
      "  3%|████▌                                                                                                                                                                 | 27/986 [00:01<00:47, 20.25it/s]"
     ]
    },
    {
     "name": "stdout",
     "output_type": "stream",
     "text": [
      "question: What can occur in fencing if you are not careful?\n",
      "answer: severe injuries\n",
      "common_expl_list: ['Fencing is a sport that involves hitting your opponent with a sword, and if you are not careful, you can get injured.', 'Fencing is a sport, which involves hitting your opponent with a sharp piece of metal, which will almost certainly result in some physical pain.', 'The sport of fencing causes people to be hit by weapons, which may cause cuts or other wounds if someone is not careful.']\n",
      "generated_explanation: <pad> <extra_id_0> Fencing is a contact sport, and as such, injuries can occur if you are not careful.<extra_id_1> </s>\n",
      "score: 0.7831896543502808\n",
      "question: John ran out of pencils.  Where did  he go to get more?\n",
      "answer: office depot\n",
      "common_expl_list: ['Office Depot is a company that specializes in office furniture; it also sells pens and pencils.', 'When people need pencils (or pens), they often buy them at office depots.', 'Office Depot is a store that sells office supplies, including pencils.', 'John can buy new pencils at an office depot.', 'Pencils can be found at an office supply store, e.g., an office depot.']\n",
      "generated_explanation: <pad> <extra_id_0> Office depot sells office supplies, and John ran out of pencils. To buy more, he went to office depot.<extra_id_1> </s>\n",
      "score: 0.7965620160102844\n",
      "question: James thought that analyzing all the data would help him learn more, but it did not.  It only gave him what?\n",
      "answer: headache\n",
      "common_expl_list: ['Analysis requires a lot of thinking with maybe little reward, which can give one a headache.']\n",
      "generated_explanation: <pad> <extra_id_0> Analyzing large amounts of data can be very time consuming, and it's common for people to put off learning new things until the last minute.<extra_id_1> </s>\n",
      "score: 0.13728609681129456\n"
     ]
    },
    {
     "name": "stderr",
     "output_type": "stream",
     "text": [
      "  3%|█████▌                                                                                                                                                                | 33/986 [00:01<00:46, 20.35it/s]"
     ]
    },
    {
     "name": "stdout",
     "output_type": "stream",
     "text": [
      "question: Where do you keep a book to read before bed?\n",
      "answer: bedside table\n",
      "common_expl_list: ['Bedside tables are convenient for keeping things, e.g., a book, reading materials, glasses, etc., that you wish to keep near your bed for regular access; particularly things.', 'Bedside tables are where people keep things they use before bed, such as books, glasses, and water.']\n",
      "generated_explanation: <pad> <extra_id_0> Bedside tables are places where people keep books to read before going to sleep.<extra_id_1> </s>\n",
      "score: 0.8581851124763489\n"
     ]
    },
    {
     "name": "stderr",
     "output_type": "stream",
     "text": [
      "  4%|██████▌                                                                                                                                                               | 39/986 [00:02<00:46, 20.39it/s]"
     ]
    },
    {
     "name": "stdout",
     "output_type": "stream",
     "text": [
      "question: Where could you find multiple ruler that are owned by different people?\n",
      "answer: office\n",
      "common_expl_list: ['When someone works in an office, even if it is part-time or freelance, they may be required to measure distances e.g., in departments or cubicles, and so, offices are a good place to find ruler.', 'Office buildings often have rulers.']\n",
      "generated_explanation: <pad> <extra_id_0> Offices are places where people work, and where they might have multiple rulers.<extra_id_1> </s>\n",
      "score: 0.7673039436340332\n",
      "question: In what western sate might one find a bald eagle?\n",
      "answer: colorado\n",
      "common_expl_list: ['Eagles are native to the western United States, and Colorado is a western state.']\n",
      "generated_explanation: <pad> <extra_id_0> colorado is a western sate in the united states, and as such, bald eagles are often found there.<extra_id_1> </s>\n",
      "score: 0.759431779384613\n"
     ]
    },
    {
     "name": "stderr",
     "output_type": "stream",
     "text": [
      "  5%|███████▌                                                                                                                                                              | 45/986 [00:02<00:45, 20.50it/s]"
     ]
    },
    {
     "name": "stdout",
     "output_type": "stream",
     "text": [
      "question: What can be the result of meeting people with similar attitudes?\n",
      "answer: making new friends\n",
      "common_expl_list: [\"Friends often share some interests and/or attitudes, and when someone meets people with similar attires, that's a good indicator they might be good candidates for becoming friends.\", 'People with similar interests are likely to be friends, or familiars to each other, having many opportunities to meet each other and have things in common to discuss.']\n",
      "generated_explanation: <pad> <extra_id_0> Meeting new people with similar attitudes can result in new friendships, since people with similar attitudes are more likely to share common interests.<extra_id_1> </s>\n",
      "score: 0.8271056413650513\n"
     ]
    },
    {
     "name": "stderr",
     "output_type": "stream",
     "text": [
      "\r",
      "  5%|████████                                                                                                                                                              | 48/986 [00:02<00:45, 20.45it/s]"
     ]
    },
    {
     "name": "stdout",
     "output_type": "stream",
     "text": [
      "question: The toddler thought it would be fun to try eating breakfast in bed, what resulted?\n",
      "answer: mess\n",
      "common_expl_list: [\"Toddlers like to explore and test their own boundaries. They often don't know their limits, and it's common for their behavior to result in a mess. In the toddler's case, it involved getting breakfast on the bed due to his inexperience\", \"Toddlers have poor coordination.  Even if they could somehow manage to not fall off the bed, it's likely that they would spill the food that they took with them to bed.  A mess would be made.\"]\n",
      "generated_explanation: <pad> <extra_id_0> Eating breakfast in bed is a common activity for toddlers, and often results in a mess.<extra_id_1> </s>\n",
      "score: 0.78924560546875\n",
      "question: John listened to music when he needed to focus.  It helped him achieve what?\n",
      "answer: quiet mind\n",
      "common_expl_list: [\"When one is trying to focus on a task, it's common to listen to music to help one focus.\", \"There's scientific evidence that listening to music can help people think better and concentrate easier.\", 'Music can, at the very least, provide passive background noise as one works to help one focus. More specifically, music might have positive, uplifting or emotional qualities that are conducive to focus and concentration.']\n",
      "generated_explanation: <pad> <extra_id_0> Music can be used to quiet the mind, and focusing on a task can be difficult when the mind is busy.<extra_id_1> </s>\n",
      "score: 0.7586366534233093\n"
     ]
    },
    {
     "name": "stderr",
     "output_type": "stream",
     "text": [
      "  6%|██████████                                                                                                                                                            | 60/986 [00:03<00:44, 20.60it/s]"
     ]
    },
    {
     "name": "stdout",
     "output_type": "stream",
     "text": [
      "question: Why do most people engage in chatting with friends?\n",
      "answer: fun\n",
      "common_expl_list: ['Chats with friends are often fun, and thus people engage in them for that reason.']\n",
      "generated_explanation: <pad> <extra_id_0> Chatting with friends is a social activity, and people often engage in it for fun.<extra_id_1> </s>\n",
      "score: 0.8336770534515381\n",
      "question: What will an athlete do to warm up their legs?\n",
      "answer: jog\n",
      "common_expl_list: ['warming up is a routine that is performed to either prepare for doing something new, or prepare for doing something which put strains on you, or which you have been out of practice doing.', 'When athletes warm up before swimming, running, riding a bike, or performing other physical activity, they generally will jog (which will help them loosen muscles in the legs).']\n",
      "generated_explanation: <pad> <extra_id_0> Jogging is a good way to warm up the legs before participating in an activity, as it increases blood flow to the muscles.<extra_id_1> </s>\n",
      "score: 0.7650156617164612\n"
     ]
    },
    {
     "name": "stderr",
     "output_type": "stream",
     "text": [
      "  7%|███████████▌                                                                                                                                                          | 69/986 [00:03<00:44, 20.48it/s]"
     ]
    },
    {
     "name": "stdout",
     "output_type": "stream",
     "text": [
      "question: What can he do to eliminate his ignorance?\n",
      "answer: learn new\n",
      "common_expl_list: ['In this context, ignorance refers to a lack of knowledge, and obtaining new knowledge is the best way to eliminate the ignorance.', 'Ignorance is the state of not knowing something, and to eliminate ignorance, one must learn new things.', \"Learning is a way to eliminate ignorance; for example, learning a foreign language is one way to eliminate ignorance of that language's grammar.\"]\n",
      "generated_explanation: <pad> <extra_id_0> Ignorance is the result of a lack of knowledge, which can be eliminated by learning new information.<extra_id_1> </s>\n",
      "score: 0.7468584179878235\n",
      "question: What do humans do when in a race?\n",
      "answer: compete with each other\n",
      "common_expl_list: ['Humans are naturally athletic and competitive. On land, people will compete with each other by running or wrestling. Often humans race on water by swimming, or by boating with other people.']\n",
      "generated_explanation: <pad> <extra_id_0> Humans compete with each other when they are in a race.<extra_id_1> </s>\n",
      "score: 0.7107385993003845\n"
     ]
    },
    {
     "name": "stderr",
     "output_type": "stream",
     "text": [
      "  8%|████████████▋                                                                                                                                                         | 75/986 [00:03<00:44, 20.44it/s]"
     ]
    },
    {
     "name": "stdout",
     "output_type": "stream",
     "text": [
      "question: What does one do at an office?\n",
      "answer: work\n",
      "common_expl_list: ['An office is a place where people work.', 'An office is a specific type of workplace.', 'One does work at the office']\n",
      "generated_explanation: <pad> <extra_id_0> An office is a place where people can go to do their work.<extra_id_1> </s>\n",
      "score: 0.7389314770698547\n",
      "question: Where would you find many tables of silverware rolled into nice displayed napkins?\n",
      "answer: restaurant\n",
      "common_expl_list: ['In a commercial establishment, silverware is expected to be clean because consumption of food is involved. So, a restaurant may well be where someone would expect to find silverware rolled into nice displayed napkins (i.e., fancy silverware).', 'Restaurants often have a lot of silverware, and they might roll it up and place it in a napkin to make it easier to store.', 'Restaurants often give used, rolled up silverware to customers, and they might keep them in nice, displayed napkins to make moving and storing them easier.']\n",
      "generated_explanation: <pad> <extra_id_0> Restaurants often serve meals to customers at long tables, and silverware is often served on napkins.<extra_id_1> </s>\n",
      "score: 0.817734956741333\n"
     ]
    },
    {
     "name": "stderr",
     "output_type": "stream",
     "text": [
      "  8%|█████████████▋                                                                                                                                                        | 81/986 [00:04<00:44, 20.35it/s]"
     ]
    },
    {
     "name": "stdout",
     "output_type": "stream",
     "text": [
      "question: Polly didn't know her way around, so she navigated by landmark.  She used statues, stores, and distinctive building.  Where might she be?\n",
      "answer: city\n",
      "common_expl_list: ['Landmark navigation works best in populated areas because distinctive buildings and statues can be more easily seen.', \"She used distinctive buildings as landmarks, so it is likely she's in a city.\", 'Landmarks are often located in cities, and so if a person was navigating by landmarks, they are likely to be in a city.', 'In a city, landmarks are often used to navigate. In the countryside or in national parks, landmarks may not be as distinct, as buildings and statues are less likely to be found.']\n",
      "generated_explanation: <pad> <extra_id_0> Cities are large, congested places where it's easy to get lost. People often use landmarks to help them find their way around.<extra_id_1> </s>\n",
      "score: 0.7505687475204468\n",
      "question: Some horses are white others are black, but many are this color which might lead some people to think their milk would taste like chocolate?\n",
      "answer: brown\n",
      "common_expl_list: [\"An individual brown-colored horse (particularly when cuddly) can resemble the color of chocolate. If a person were to guess based on the color, he might guess a horse's milk tasted similarly.\"]\n",
      "generated_explanation: <pad> <extra_id_0> Horses are often white, but some are black.<extra_id_1> </s>\n",
      "score: 0.0687379390001297\n"
     ]
    },
    {
     "name": "stderr",
     "output_type": "stream",
     "text": [
      "  9%|██████████████▋                                                                                                                                                       | 87/986 [00:04<00:44, 20.22it/s]"
     ]
    },
    {
     "name": "stdout",
     "output_type": "stream",
     "text": [
      "question: How would grooming lead to bald spots?\n",
      "answer: mistakes\n",
      "common_expl_list: [\"If you accidentally over trim your hair, you'd likely end up with bald spots.\"]\n",
      "generated_explanation: <pad> <extra_id_0> Mistakes in grooming can lead to bald spots.<extra_id_1> </s>\n",
      "score: 0.7110833525657654\n",
      "question: Where would a snake find a great hiding place in the United Kingdom?\n",
      "answer: kew gardens\n",
      "common_expl_list: ['Kew gardens is located in London, which has a great deal of green space in the form of parks.', 'Kew gardens is a large botanical garden in London, England, and snakes are often found in gardens.']\n",
      "generated_explanation: <pad> <extra_id_0> Kew gardens are a large botanical garden in Kew, London, United Kingdom.<extra_id_1> </s>\n",
      "score: 0.7057239413261414\n"
     ]
    },
    {
     "name": "stderr",
     "output_type": "stream",
     "text": [
      "  9%|███████████████▋                                                                                                                                                      | 93/986 [00:04<00:44, 20.29it/s]"
     ]
    },
    {
     "name": "stdout",
     "output_type": "stream",
     "text": [
      "question: While he had seen a koala in the zoo, he was looking forward to finding one in the what?\n",
      "answer: australian outback\n",
      "common_expl_list: ['Because Koalas are a native species to Australia, the safest place to see a Koala may be outback Australia.', 'Koalas live in Australia, and are not found in any other country in the North American continent.']\n",
      "generated_explanation: <pad> <extra_id_0> The australian outback is a vast area of land in Australia, and koalas are often found there.<extra_id_1> </s>\n",
      "score: 0.7173514366149902\n",
      "question: Where can a child get a wagon?\n",
      "answer: toy store\n",
      "common_expl_list: ['Toy stores deal specifically in toys. Wagons are one of a variety of toys.', \"A toy wagon is a child's toy. Toy wagons can be purchased from toy stores.\"]\n",
      "generated_explanation: <pad> <extra_id_0> Wagons are toys, and toy stores often sell them.<extra_id_1> </s>\n",
      "score: 0.7321836352348328\n"
     ]
    },
    {
     "name": "stderr",
     "output_type": "stream",
     "text": [
      "\r",
      " 10%|████████████████▏                                                                                                                                                     | 96/986 [00:04<00:44, 20.20it/s]"
     ]
    },
    {
     "name": "stdout",
     "output_type": "stream",
     "text": [
      "question: If you want to buy you must what?\n",
      "answer: spend money\n",
      "common_expl_list: ['If you want to buy something, you must spend money.', 'To buy one needs money, and need money implies you have spent money.', 'To buy something, you must spend money.']\n",
      "generated_explanation: <pad> <extra_id_0> If you want to buy something, you must spend money.<extra_id_1> </s>\n",
      "score: 0.7177768349647522\n",
      "question: What public celebration sometimes has a horse show?\n",
      "answer: state fair\n",
      "common_expl_list: [\"A state's fair is a public celebration that may include a horse show.\", 'Horse shows are sometimes included in state fair celebrations, and these fairs frequently are held in public parks.', 'Horse shows are competitions that sometimes occur at public celebrations. Some fairgrounds include horse shows as part of their regularly scheduled events.']\n",
      "generated_explanation: <pad> <extra_id_0> State fairs are public celebrations that sometimes include horse shows.<extra_id_1> </s>\n",
      "score: 0.7695338726043701\n",
      "question: What city in a North American Country, that isn't the United States, would you expect to find a good french restaurant?\n",
      "answer: quebec\n",
      "common_expl_list: ['Quebec is the only province that speaks French in North America, and you might expect to find a good french restaurant there.', 'Quebec is a province in Canada, and is known for its french culture.', 'Quebec is said to have strong french-culture since it was originally french territory. This would make sense if quebec had a good french restaurant.', 'Quebec has a strong french heritage, and the french cuisine is actually quite popular in the United States.']\n",
      "generated_explanation: <pad> <extra_id_0> Quebec is a Canadian city, and as such, has a large French-speaking population. Therefore, it's likely that there would be good french restaurants in quebec.<extra_id_1> </s>\n",
      "score: 0.7655518054962158\n"
     ]
    },
    {
     "name": "stderr",
     "output_type": "stream",
     "text": [
      " 10%|█████████████████                                                                                                                                                    | 102/986 [00:05<00:43, 20.25it/s]"
     ]
    },
    {
     "name": "stdout",
     "output_type": "stream",
     "text": [
      "question: What container does peanut butter come in?\n",
      "answer: jar\n",
      "common_expl_list: ['Jars can keep food sealed without leaking, and often have lids. Peanut butter is sealed in a jar and could be kept in a house, kitchen, pantry, or cupboard.', 'Jars, like those that pickles often come in, are suitable for food items that need to be kept fresh for long time. Jars can be resealed.', 'Peanut butter comes in glass jars, like many other food products.', 'Jars are often used to store food, and peanut butter is a food.']\n",
      "generated_explanation: <pad> <extra_id_0> Peanut butter is usually sold in jars, and this is because peanut butter is a liquid, and it is therefore easier to transport.<extra_id_1> </s>\n",
      "score: 0.7642476558685303\n",
      "question: Where are plants likely to be handled by a city employee?\n",
      "answer: park\n",
      "common_expl_list: ['A city employee might handle plants while working in a park.', 'Parks are where city employees are likely to handle plants.']\n",
      "generated_explanation: <pad> <extra_id_0> Parks often have gardens or other areas with plants, and city employees may be responsible for maintaining these areas.<extra_id_1> </s>\n",
      "score: 0.7709636092185974\n"
     ]
    },
    {
     "name": "stderr",
     "output_type": "stream",
     "text": [
      " 11%|██████████████████                                                                                                                                                   | 108/986 [00:05<00:43, 19.99it/s]"
     ]
    },
    {
     "name": "stdout",
     "output_type": "stream",
     "text": [
      "question: Sarah did much hard work, even though she was on vacation.  Her mother told her off and said what?\n",
      "answer: do nothing\n",
      "common_expl_list: ['If one is on vacation, one is supposed to \"do nothing\" as opposed to working - the \"something\" that is discouraged. Many physically hard jobs involve getting the hands dirty.']\n",
      "generated_explanation: <pad> <extra_id_0> Vacations are times when people relax and enjoy themselves, and it's common for people to work hard even when on vacation.<extra_id_1> </s>\n",
      "score: 0.19605496525764465\n",
      "question: He grew tired of standing in the kitchen his whole shift, where was he?\n",
      "answer: restaurant\n",
      "common_expl_list: ['One can get tired standing in a kitchen if one is on their feet all day; kitchens are typically in restaurants.', 'A restaurant would have a kitchen, where you would be required to stand while your shift is in session.']\n",
      "generated_explanation: <pad> <extra_id_0> Restaurants often have kitchens, and people working there often stand in the kitchen.<extra_id_1> </s>\n",
      "score: 0.726525604724884\n",
      "question: On an average day, going to work could make you feel like what?\n",
      "answer: feeling good\n",
      "common_expl_list: ['To fulfill a life purpose and to gain fulfillment, people often undertake gainful employment. Thus, the people who experience this data point might experience feelings of accomplishment/fulfillment.', 'People sometimes feel pride and accomplishment when they get things done at the office.']\n",
      "generated_explanation: <pad> <extra_id_0> Going to work is often associated with feeling good, and going to work can make you feel good.<extra_id_1> </s>\n",
      "score: 0.700857400894165\n"
     ]
    },
    {
     "name": "stderr",
     "output_type": "stream",
     "text": [
      " 12%|███████████████████                                                                                                                                                  | 114/986 [00:05<00:43, 20.12it/s]"
     ]
    },
    {
     "name": "stdout",
     "output_type": "stream",
     "text": [
      "question: What would happen if you want to win a game?\n",
      "answer: competitiveness\n",
      "common_expl_list: [\"Victory in a game requires one to make a maximum effort, and peoples' desire to win has to be rather competitive.\", 'After playing a game, a person would be likely compelled to win the game becasue they want a feeling of satisfaction from winning the game. In order to win, a person would need to be competitive.', 'To win a game, you must be competitive.', 'Competitive athletes would want to win their games, whatever the cost; this desire to win leads to competitiveness and creates the desire to win over even long periods of time; it also often leads to brutal physical play --- such as by causing injuries to opposing r', 'If you want to win a game, you will try put your best effort to take your chances at winning over those of your opponents.']\n",
      "generated_explanation: <pad> <extra_id_0> If you want to win a game, you'd probably be competitive.<extra_id_1> </s>\n",
      "score: 0.7352306246757507\n"
     ]
    },
    {
     "name": "stderr",
     "output_type": "stream",
     "text": [
      "\r",
      " 12%|███████████████████▌                                                                                                                                                 | 117/986 [00:05<00:43, 20.20it/s]"
     ]
    },
    {
     "name": "stdout",
     "output_type": "stream",
     "text": [
      "question: A poor family has no decorations in December, what would make a great gift?\n",
      "answer: christmas tree\n",
      "common_expl_list: ['In December, most families tend to put up christmas decorations. A christmas tree would make a good gift for a poor family.', 'The family is poor, so we might assume that they have nothing for decoration for their Christmas season. To help fix this, a Christmas tree would be the greatest gift.', 'A christmas tree is a traditional decoration for christmas.']\n",
      "generated_explanation: <pad> <extra_id_0> Christmas trees are a traditional decoration for Christmas, and if a family does not have one, it would be a great gift to buy one for them.<extra_id_1> </s>\n",
      "score: 0.7330268621444702\n",
      "question: Where would you buy jeans in a place with a large number of indoor merchants?\n",
      "answer: shopping mall\n",
      "common_expl_list: ['Shopping malls usually contain a large variety of stores, including stores that sell clothes and jeans.', 'Since malls (or indoor shopping centers in general) contain numerous merchants, including clothing stores, you could purchase jeans in one such store.', 'Shopping malls often have a large number of stores, including clothing stores.']\n",
      "generated_explanation: <pad> <extra_id_0> Shopping malls are indoor shopping centers with a number of merchants, including clothing stores.<extra_id_1> </s>\n",
      "score: 0.7773105502128601\n",
      "question: If I wanted to get some oxygen, what will I get it from?\n",
      "answer: air\n",
      "common_expl_list: ['Oxygen is found in the air.']\n",
      "generated_explanation: <pad> <extra_id_0> Oxygen can be found in the air, and breathing it in will give you some.<extra_id_1> </s>\n",
      "score: 0.7239946126937866\n"
     ]
    },
    {
     "name": "stderr",
     "output_type": "stream",
     "text": [
      " 12%|████████████████████▌                                                                                                                                                | 123/986 [00:06<00:42, 20.26it/s]"
     ]
    },
    {
     "name": "stdout",
     "output_type": "stream",
     "text": [
      "question: If you're expressing yourself in a public forum, what may you experience?\n",
      "answer: stage fright\n",
      "common_expl_list: ['A common example of expressing oneself in public is on stage. Members of an audience may stare and become bored, and at worst they may hiss or boo.', 'Stage fright is the feeling of embarrassment or nervousness at the thought of being in front of people, and being on stage for a performance is a good example of a place where one often experiences stage fright. In such a case, their performance might be', 'If you are expressing yourself in a public forum, you may experience stage fright, which is the fear of being embarrassed in front of a large audience.']\n",
      "generated_explanation: <pad> <extra_id_0> Stage fright is the fear of making a public speech or presentation in front of others, especially in front of a large audience. It can be a very nerve-wracking experience, especially if you're not used to public speaking.<extra_id_1> </s>\n",
      "score: 0.8120585083961487\n",
      "question: He was eating too much while no exercising enough, what did he suffer as a result?\n",
      "answer: gain weight\n",
      "common_expl_list: ['If you eat more than you burn, you gain weight.', \"If you eat too much and don't exercise enough, you will gain weight.\", 'Excessive food consumption leads to accumulation of fat, which then results in a higher body weight, i.e., weight gain.']\n",
      "generated_explanation: <pad> <extra_id_0> When one eats too much, and does not exercise enough, they will gain weight.<extra_id_1> </s>\n",
      "score: 0.7056896686553955\n",
      "question: Where can you learn about a ferret with special abilities far beyond normal ferrets?\n",
      "answer: comic book\n",
      "common_expl_list: ['ferrets are lovable pets that occasionally pop up in comic or animated shows and movies. Occasionally a ferret is rodent, but more often they are the companion of a hero.']\n",
      "generated_explanation: <pad> <extra_id_0> Comic books often feature super-powered ferrets, which are fictional characters with super-human abilities.<extra_id_1> </s>\n",
      "score: 0.7001208662986755\n",
      "question: When people have guests over, what do they often do for their guests?\n",
      "answer: cook food\n",
      "common_expl_list: [\"People often prepare and share food because it's a way to welcome and appreciate each other.\", \"People who have guests (guests of any kind) over tend to cook them food. The food can either be pre-cooked, and ready to be served upon the guest's arrival, or consumed while the two of them have a conversation.\", 'People often cook food for their guests.', \"It's common to cook food for guests, which can feed everyone.\", \"When people have guests over, it's common for them to make food for their guests.\"]\n",
      "generated_explanation: <pad> <extra_id_0> When people have guests over, they often prepare food for them.<extra_id_1> </s>\n",
      "score: 0.8159385919570923\n"
     ]
    },
    {
     "name": "stderr",
     "output_type": "stream",
     "text": [
      " 13%|█████████████████████▌                                                                                                                                               | 129/986 [00:06<00:41, 20.48it/s]"
     ]
    },
    {
     "name": "stdout",
     "output_type": "stream",
     "text": [
      "question: If you are enjoying sunshine on the beach, what do you likely have views of?\n",
      "answer: sea\n",
      "common_expl_list: [\"The beach is a place where people go to enjoy the sun, and so it's likely that the beach would have views of the sea.\", 'Seashores usually have views of the water (i.e., the \"sea\").', 'To sunbathe, one would likely be found on a beach, where one would likely see the sea before anything else.']\n",
      "generated_explanation: <pad> <extra_id_0> The sea is a large body of water, and if you are on the beach, you are likely to have views of the sea.<extra_id_1> </s>\n",
      "score: 0.7293725609779358\n",
      "question: Where is a ring binder likely to contain budgets?\n",
      "answer: office\n",
      "common_expl_list: ['A ring binder is likely to contain budgets in an office, as budgets are often prepared by office workers.', 'An office setting is the most likely place where a manager would keep a collection of budgets.']\n",
      "generated_explanation: <pad> <extra_id_0> Budgets are often kept in offices, and ring binders are a convenient way to store important documents, such as budgets.<extra_id_1> </s>\n",
      "score: 0.8851295709609985\n"
     ]
    },
    {
     "name": "stderr",
     "output_type": "stream",
     "text": [
      " 14%|██████████████████████▌                                                                                                                                              | 135/986 [00:06<00:41, 20.52it/s]"
     ]
    },
    {
     "name": "stdout",
     "output_type": "stream",
     "text": [
      "question: They got to the door and it was locked, he reached in his jeans what to retrieve the key?\n",
      "answer: pocket\n",
      "common_expl_list: ['Most people keep house keys in their pocket.', 'People often keep their keys in their pockets.']\n",
      "generated_explanation: <pad> <extra_id_0> Jeans have pockets, and keys are often kept in them.<extra_id_1> </s>\n",
      "score: 0.7850804924964905\n"
     ]
    },
    {
     "name": "stderr",
     "output_type": "stream",
     "text": [
      " 14%|███████████████████████▌                                                                                                                                             | 141/986 [00:07<00:41, 20.55it/s]"
     ]
    },
    {
     "name": "stdout",
     "output_type": "stream",
     "text": [
      "question: What could be used to write with a steel pen?\n",
      "answer: hand\n",
      "common_expl_list: ['Using a steel pen requires someone to hold it, and we associate writing with hands. Powder can be used with steel pens as a \"contrast medium.', 'you write with a steel pen using your hand.']\n",
      "generated_explanation: <pad> <extra_id_0> A steel pen is a writing instrument, and it's usually attached to a writing instrument, such as a hand.<extra_id_1> </s>\n",
      "score: 0.7111852169036865\n",
      "question: I needed to find out how to contact a person with a certain name, where should I look?\n",
      "answer: phone book\n",
      "common_expl_list: ['A phone book is likely to have the phone numbers of nearby people.', \"Phone books are used to find people's phone numbers.\", 'Phone books are usually a good source for finding phone numbers to call other people.', 'People are listed in phone books for easy access by callers.']\n",
      "generated_explanation: <pad> <extra_id_0> A phone book contains contact information for people with specific names. If you needed to contact someone with a specific name, you might look in the phone book.<extra_id_1> </s>\n",
      "score: 0.7428520917892456\n",
      "question: The botanist knew the plant was living, what did he observe that led him to know that?\n",
      "answer: respiration\n",
      "common_expl_list: [\"The teacher commonly noted that plants give off oxygen as a result of respiration, which helps fuel their energy and growth. This was evidence of a plant's life.\"]\n",
      "generated_explanation: <pad> <extra_id_0> Respiration is a process that occurs in living things, and observing respiration would indicate that the plant is alive.<extra_id_1> </s>\n",
      "score: 0.7309474349021912\n"
     ]
    },
    {
     "name": "stderr",
     "output_type": "stream",
     "text": [
      " 15%|████████████████████████▌                                                                                                                                            | 147/986 [00:07<00:40, 20.56it/s]"
     ]
    },
    {
     "name": "stdout",
     "output_type": "stream",
     "text": [
      "question: Where will my kid put their coin in their room?\n",
      "answer: piggy bank\n",
      "common_expl_list: ['Piggy banks are often used to store coins.', 'Kids commonly save small amounts of money for later use, and these savings are often kept in piggy banks.']\n",
      "generated_explanation: <pad> <extra_id_0> Piggy banks are containers that kids can fill with coins, and then put the coins in the bank.<extra_id_1> </s>\n",
      "score: 0.7379580140113831\n",
      "question: Where is a fire extinguisher likely to be found behind the seat?\n",
      "answer: school bus\n",
      "common_expl_list: ['Fire extinguishers are required on public-transit vehicles, such as school buses.']\n",
      "generated_explanation: <pad> <extra_id_0> School buses are often used by children, and it's likely that a fire extinguisher would be located behind the seat, which is a common location for fire extinguishers.<extra_id_1> </s>\n",
      "score: 0.7291679382324219\n",
      "question: If you're going to a party in an alley, what is likely to happen?\n",
      "answer: doing drugs\n",
      "common_expl_list: ['People often do drugs at parties, and alleys are often used for parties.', 'Alleys are associated with crime; and, people performing illegal drugs at a party is illegal.', 'People going to parties in an alley are often going to do drugs and vice.']\n",
      "generated_explanation: <pad> <extra_id_0> Alley parties are often held in secluded areas, and it's not uncommon for people to do drugs at these parties.<extra_id_1> </s>\n",
      "score: 0.8205840587615967\n"
     ]
    },
    {
     "name": "stderr",
     "output_type": "stream",
     "text": [
      " 16%|█████████████████████████▌                                                                                                                                           | 153/986 [00:07<00:40, 20.53it/s]"
     ]
    },
    {
     "name": "stdout",
     "output_type": "stream",
     "text": [
      "question: Where is basketball court likely to be outdoors?\n",
      "answer: city\n",
      "common_expl_list: ['Basketball courts are often found in city parks.', 'Most American cities have basketball courts in public parks.', 'Basketball courts are often urban.', 'Basketball courts are likely to be at parks and recreational centers in cities.']\n",
      "generated_explanation: <pad> <extra_id_0> Cities are often located near basketball courts, and basketball courts are often outdoors.<extra_id_1> </s>\n",
      "score: 0.7400036454200745\n",
      "question: If I am creating art and have completed it to satisfaction, what is my feeling?\n",
      "answer: enlightenment\n",
      "common_expl_list: ['Enlightenment is the label for a moment of clarity, and the word is often applied to artists who have created something unique or daring.']\n",
      "generated_explanation: <pad> <extra_id_0> Art is a form of expression, and when it is created, it evokes feelings of enlightenment in the creator.<extra_id_1> </s>\n",
      "score: 0.7364369034767151\n"
     ]
    },
    {
     "name": "stderr",
     "output_type": "stream",
     "text": [
      " 16%|███████████████████████████                                                                                                                                          | 162/986 [00:08<00:39, 20.66it/s]"
     ]
    },
    {
     "name": "stdout",
     "output_type": "stream",
     "text": [
      "question: What can happen after doing housework that does not involve pain?\n",
      "answer: become tired\n",
      "common_expl_list: ['Doing housework is likely to tire someone out. Being tired increases the likelihood of restlessness and uneasiness.', 'Housework can be tiring, and so, after doing it, one might become tired.', 'Raking, sweeping, and dusting are common forms of housework. After all the physical labor of these activities, someone \\xa0might become tired and take time off from housework chores, but not have een doing any housework tasks that']\n",
      "generated_explanation: <pad> <extra_id_0> Housework is usually done in a relaxed, unhurried manner, and it is common for people to become tired after doing housework.<extra_id_1> </s>\n",
      "score: 0.7562764883041382\n"
     ]
    },
    {
     "name": "stderr",
     "output_type": "stream",
     "text": [
      " 17%|████████████████████████████                                                                                                                                         | 168/986 [00:08<00:39, 20.65it/s]"
     ]
    },
    {
     "name": "stdout",
     "output_type": "stream",
     "text": [
      "question: He enjoyed reading newspaper, he consider what a subscription?\n",
      "answer: buying\n",
      "common_expl_list: ['Buying a subscription to a newspaper is a way to get the newspaper delivered to your home.']\n",
      "generated_explanation: <pad> <extra_id_0> Newspapers are published by publishers, and if someone likes reading them, they might consider buying a subscription.<extra_id_1> </s>\n",
      "score: 0.7636047601699829\n",
      "question: What entity would have a fire extinguisher in their boardroom?\n",
      "answer: most businesses\n",
      "common_expl_list: ['Most businesses would have a fire extinguisher in their boardroom, because they are likely to have a fire in their boardroom.']\n",
      "generated_explanation: <pad> <extra_id_0> Businesses often have boardrooms where important decisions are made, and fires can occur. For this reason, it's a good idea to have a fire extinguisher nearby.<extra_id_1> </s>\n",
      "score: 0.754587709903717\n",
      "question: Where can someone go and buy cheese?\n",
      "answer: market\n",
      "common_expl_list: ['Cheese is a dairy product and can be purchased at markets, for the most part.', 'Cheese is sold at markets.']\n",
      "generated_explanation: <pad> <extra_id_0> Markets are places where people can buy food, including cheese.<extra_id_1> </s>\n",
      "score: 0.8755603432655334\n",
      "question: Where would you carry food while on a long walk in the countryside?\n",
      "answer: backpack\n",
      "common_expl_list: [\"Because backpacks are designed to be carried on one's back, they are the most convenient way to carry food while on a long walk.\", 'Instead of carrying a jar or container, filling your backpack with food might not disrupt your movements as much when you are walking.']\n",
      "generated_explanation: <pad> <extra_id_0> When walking in the countryside, it's common to carry a backpack, which can hold a lot of gear and food.<extra_id_1> </s>\n",
      "score: 0.7699229717254639\n"
     ]
    },
    {
     "name": "stderr",
     "output_type": "stream",
     "text": [
      " 18%|█████████████████████████████                                                                                                                                        | 174/986 [00:08<00:39, 20.65it/s]"
     ]
    },
    {
     "name": "stdout",
     "output_type": "stream",
     "text": [
      "question: What could a driver do that could distract him or her while he or she is in a driving car?\n",
      "answer: smoke\n",
      "common_expl_list: ['It can be tricky to smoke and concentrate on driving at the same time, and research has found that smoking in a car with children present is very dangerous.', 'Smoking is a common activity that people do while driving, and it could distract them from driving.']\n",
      "generated_explanation: <pad> <extra_id_0> Smoking is a common distraction among drivers, and it's possible that smoking could cause a driver to become distracted while driving.<extra_id_1> </s>\n",
      "score: 0.7722025513648987\n",
      "question: Where can a television be stored and hidden?\n",
      "answer: cabinet\n",
      "common_expl_list: ['A cabinet is a piece of furniture that is used to store items, and televisions are large, and thus, can be stored in cabinets.', 'A television can be stored inside a cabinet.']\n",
      "generated_explanation: <pad> <extra_id_0> A cabinet is a place where a television can be stored and hidden.<extra_id_1> </s>\n",
      "score: 0.7250422835350037\n"
     ]
    },
    {
     "name": "stderr",
     "output_type": "stream",
     "text": [
      " 18%|██████████████████████████████                                                                                                                                       | 180/986 [00:08<00:39, 20.61it/s]"
     ]
    },
    {
     "name": "stdout",
     "output_type": "stream",
     "text": [
      "question: Where is a good place to store a saw?\n",
      "answer: toolbox\n",
      "common_expl_list: ['A toolbox is a container for tools, and a saw is a tool.', 'One might likely store a saw in a box with other tools.']\n",
      "generated_explanation: <pad> <extra_id_0> Saws are often used to cut wood, and toolboxes are a good place to store tools, including saws.<extra_id_1> </s>\n",
      "score: 0.853147566318512\n",
      "question: Where would you put a saw if you do not need to use it soon and your house only has one floor?\n",
      "answer: tool shed\n",
      "common_expl_list: [\"A tool shed is a place where tools are stored, and thus, a good place to store a saw if you don't need to use it soon.\", 'The shed is a good place for storing tools when those tools are not in use.', 'A tool shed is a common structure for organizing and storing tools that are infrequently used.']\n",
      "generated_explanation: <pad> <extra_id_0> A tool shed is a building where you can store tools that you do not need to use soon, e.g., a saw. A tool shed is usually attached to your house, and has one floor.<extra_id_1> </s>\n",
      "score: 0.7326512932777405\n",
      "question: A person might wear his yarmulke when going to where?\n",
      "answer: synagogue\n",
      "common_expl_list: ['Synagogue is a place commonly visited by religious Jews. Men wear yarmulkes (skullcaps) because faith requires that they uncover their heads when going before God.']\n",
      "generated_explanation: <pad> <extra_id_0> A synagogue is a Jewish religious building where Jews worship. A yarmulke is a head covering worn by Jews when entering the building.<extra_id_1> </s>\n",
      "score: 0.7971500754356384\n"
     ]
    },
    {
     "name": "stderr",
     "output_type": "stream",
     "text": [
      " 19%|███████████████████████████████▏                                                                                                                                     | 186/986 [00:09<00:39, 20.51it/s]"
     ]
    },
    {
     "name": "stdout",
     "output_type": "stream",
     "text": [
      "question: Someone takes up exercising to improve their what\n",
      "answer: physical fitness\n",
      "common_expl_list: ['Exercising helps people build their physical fitness.', 'Typically people are motivated to exercise in order to become fit.', 'Exercising is a way to improve physical fitness.']\n",
      "generated_explanation: <pad> <extra_id_0> Physical fitness is a measure of one's physical health, and exercising can improve one's physical health.<extra_id_1> </s>\n",
      "score: 0.8012856841087341\n"
     ]
    },
    {
     "name": "stderr",
     "output_type": "stream",
     "text": [
      "\r",
      " 19%|███████████████████████████████▋                                                                                                                                     | 189/986 [00:09<00:38, 20.60it/s]"
     ]
    },
    {
     "name": "stdout",
     "output_type": "stream",
     "text": [
      "question: Family is always the best for devotion, but it is also nice if a person has what?\n",
      "answer: loyal friends\n",
      "common_expl_list: ['Loyal friends are always there for you, and they will always be devoted to you.', \"Because times may come when a person would like to go out and have fun with some friends, and it's nice if that person may have friends that he is faithful to.\", 'We may have devoted friends who would be there for us if we had need.']\n",
      "generated_explanation: <pad> <extra_id_0> Loyalty can be shown to family and friends, and it is especially nice to have loyal friends.<extra_id_1> </s>\n",
      "score: 0.7549893856048584\n",
      "question: When is good time for garlic bread?\n",
      "answer: dinner\n",
      "common_expl_list: ['Typical garlic bread is served with a maincourse and wine or other alcoholic beverage, and both are commonly served with dinner.', 'Garlic bread is often served with dinner.']\n",
      "generated_explanation: <pad> <extra_id_0> Garlic bread is often served as a side dish at dinner, and is often accompanied by tomato sauce.<extra_id_1> </s>\n",
      "score: 0.7351791858673096\n"
     ]
    },
    {
     "name": "stderr",
     "output_type": "stream",
     "text": [
      " 20%|█████████████████████████████████▏                                                                                                                                   | 198/986 [00:09<00:38, 20.64it/s]"
     ]
    },
    {
     "name": "stdout",
     "output_type": "stream",
     "text": [
      "question: Where would you find a shelf with toys for young people learning?\n",
      "answer: school building\n",
      "common_expl_list: ['School buildings house school libraries, in which you would find shelfs of toys, games and puzzle for students to use while in school.', 'A school building is a place where children learn, and so, a school building would have a shelf with toys for young people learning.']\n",
      "generated_explanation: <pad> <extra_id_0> Toys can be used to help young people learn. Schools often have toy shelves in their buildings to accommodate the toys.<extra_id_1> </s>\n",
      "score: 0.845904529094696\n",
      "question: What can you get after drinking too much alcohol?\n",
      "answer: sickness\n",
      "common_expl_list: [\"Drinking too much alchohol can impair the body and, consequently, one's ability to think straight. It can also cause sickness.\", 'Alcohol is a diuretic, which means that it makes you urinate more frequently. This can lead to dehydration, which can cause sickness.', \"Alcohol (e.g., beer, wine, etc.) is a chemical that alters people's consciousness, making them generally feel unpleasant; subsequently, over-consumption can lead to the vomiting of one's content inside one's stomach. Hence, being\"]\n",
      "generated_explanation: <pad> <extra_id_0> Alcohol is a depressant, and if you drink too much of it, you may feel sick.<extra_id_1> </s>\n",
      "score: 0.7188557982444763\n",
      "question: WHat is the central bank responding to when they are fighting inflation?\n",
      "answer: problems\n",
      "common_expl_list: ['In order to fight inflation, a central bank must respond to the problem, e.g., economic trouble, which if left alone, would cause inflation', 'Inflation is a problem, and the central bank is responding to it by fighting it.', 'Inflation is a function of having too much money in the economy. This may cause problems.', 'Periods of inflation cause problems for businesses and people. The central bank may take steps to fight inflation (reduce it) to respond to this problem. Reducing inflation also solves the overall issues.']\n",
      "generated_explanation: <pad> <extra_id_0> Inflation is caused by price increases, which are a response to problems in the economy.<extra_id_1> </s>\n",
      "score: 0.7159860730171204\n"
     ]
    },
    {
     "name": "stderr",
     "output_type": "stream",
     "text": [
      " 21%|██████████████████████████████████▏                                                                                                                                  | 204/986 [00:10<00:40, 19.50it/s]"
     ]
    },
    {
     "name": "stdout",
     "output_type": "stream",
     "text": [
      "question: where do children play a game?\n",
      "answer: family room\n",
      "common_expl_list: ['A family room is a room in many homes in which families can socialize, often through games. One such game is \"connect four.', 'A family room is a room in a house where family members can play games.']\n",
      "generated_explanation: <pad> <extra_id_0> Families often have a family room where they can gather to play games.<extra_id_1> </s>\n",
      "score: 0.8028553128242493\n",
      "question: Where is there a very large graveyard?\n",
      "answer: arlington\n",
      "common_expl_list: ['Arlington is a military burial ground, and is the largest cemetery in the United States.', 'Arlington National Cemetery is a national cemetery in Arlington County, Virginia containing the remains of more than 275,000 men and women, soldiers and civilians who served in the armed forces of the United States.']\n",
      "generated_explanation: <pad> <extra_id_0> Arlington is a city in Virginia, United States, where there is a large number of cemeteries.<extra_id_1> </s>\n",
      "score: 0.7654135823249817\n",
      "question: Where would have a specialty hair salon for guests?\n",
      "answer: hotel\n",
      "common_expl_list: ['Guests of a hotel, resort, resort, etc. would want to pamper themselves.']\n",
      "generated_explanation: <pad> <extra_id_0> Hotels are places where guests stay, and where amenities such as hair salons are available to them.<extra_id_1> </s>\n",
      "score: 0.7055578827857971\n"
     ]
    },
    {
     "name": "stderr",
     "output_type": "stream",
     "text": [
      " 21%|███████████████████████████████████▎                                                                                                                                 | 211/986 [00:10<00:39, 19.49it/s]"
     ]
    },
    {
     "name": "stdout",
     "output_type": "stream",
     "text": [
      "question: What is likely heard by those going to a party?\n",
      "answer: laughter\n",
      "common_expl_list: ['Parties are likely a place where people will laugh, and laughter is commonly heard at parties.', 'Parties are often a place where people laugh and have a good time.', 'Typically parties involve lots of laughter, especially in the commen room, where people will let go of their worries and have a fun time, by laughing.']\n",
      "generated_explanation: <pad> <extra_id_0> Parties are often held at homes, and the sound of laughter can be heard throughout the house.<extra_id_1> </s>\n",
      "score: 0.7730190753936768\n",
      "question: What is something that happens when you are learning about science?\n",
      "answer: increased knowledge\n",
      "common_expl_list: ['Science learning involves gaining new scientific knowledge.', 'When someone learns about science, their knowledge of the subject should increase, although inevitably the process of learning may involve some challenges.', 'Learning about science often makes the student more knowledgeable about the subject, causing their newfound understanding to expand.']\n",
      "generated_explanation: <pad> <extra_id_0> Science is a subject that involves a great deal of knowledge, and learning about it increases your knowledge of that subject.<extra_id_1> </s>\n",
      "score: 0.7682441473007202\n",
      "question: Where would a woman store a train ticket on her person?\n",
      "answer: purse\n",
      "common_expl_list: ['A purse is something a woman can carry around with her.', 'A woman would keep the ticket she purchased from a train conductor in her purse. The ticket is small enough to fit in a small purse.']\n",
      "generated_explanation: <pad> <extra_id_0> A woman's purse is a place where she keeps personal items, including tickets for trains.<extra_id_1> </s>\n",
      "score: 0.7993009090423584\n",
      "question: Where does a hat go when you wear it?\n",
      "answer: head\n",
      "common_expl_list: ['Hats are worn on the head.', \"Hats most often sit on top of people's heads.\", 'Hats are worn on the head.']\n",
      "generated_explanation: <pad> <extra_id_0> A hat is worn on the head, and it covers the top of the head.<extra_id_1> </s>\n",
      "score: 0.7373573184013367\n"
     ]
    },
    {
     "name": "stderr",
     "output_type": "stream",
     "text": [
      " 22%|████████████████████████████████████▊                                                                                                                                | 220/986 [00:10<00:37, 20.19it/s]"
     ]
    },
    {
     "name": "stdout",
     "output_type": "stream",
     "text": [
      "question: Where would a business man keep a plane ticket with other documents?\n",
      "answer: briefcase\n",
      "common_expl_list: [\"Business men often also travel frequently, hence they'll often put plane tickets and other travel documents in their briefcases.\", 'A business man would keep a plane ticket inside of his briefcase.', 'Business men often carry briefcases, which are used to carry documents.']\n",
      "generated_explanation: <pad> <extra_id_0> A briefcase is a small, leather case that can hold a variety of documents, including tickets to flights.<extra_id_1> </s>\n",
      "score: 0.737053394317627\n",
      "question: If a person wants to hear music in their car, what can they do?\n",
      "answer: listen to radio\n",
      "common_expl_list: ['Listening to the radio is a common way to listen to music in a car.', 'People with cars can listen to music on the radio.', 'Listening to the radio is often the way for people to hear music while in their cars.', 'The radio is something in a car that people can use to play music.']\n",
      "generated_explanation: <pad> <extra_id_0> Radios play music, and people can listen to them in their cars.<extra_id_1> </s>\n",
      "score: 0.795991837978363\n"
     ]
    },
    {
     "name": "stderr",
     "output_type": "stream",
     "text": [
      " 23%|██████████████████████████████████████▎                                                                                                                              | 229/986 [00:11<00:36, 20.52it/s]"
     ]
    },
    {
     "name": "stdout",
     "output_type": "stream",
     "text": [
      "question: What does a long session of procreating cause?\n",
      "answer: exhaustion\n",
      "common_expl_list: ['If procreating spans multiple days and/or attempts, people will tire out from expending so much physical energy and waiting for their bodies to recover afterwards.', 'Having children is a long process, and it is physically demanding.', 'we can assume procreating can be tiresome, because taking care of young children requires a lot of energy.']\n",
      "generated_explanation: <pad> <extra_id_0> Procreation is a physically demanding activity, and a long session of procreation can be exhausting.<extra_id_1> </s>\n",
      "score: 0.7967660427093506\n",
      "question: Where would you throw some pennies?\n",
      "answer: water fountain\n",
      "common_expl_list: ['Pennies can sometimes be thrown into water fountains to make wishes.']\n",
      "generated_explanation: <pad> <extra_id_0> Water fountains are places where people can throw coins to cool off, and pennies are small enough to fit into the fountain.<extra_id_1> </s>\n",
      "score: 0.8130941987037659\n",
      "question: The aorta is the main artery in what area of the body?\n",
      "answer: torso\n",
      "common_expl_list: ['Leaving the heart, the aorta travels through the abdomen and branches into arteries that supply the limbs.', 'The aorta is the main artery in the torso, which is the main part of the body.']\n",
      "generated_explanation: <pad> <extra_id_0> The torso is the largest part of the body, and the aorta runs through it.<extra_id_1> </s>\n",
      "score: 0.7002057433128357\n",
      "question: Where can you find pamphlets regarding diseases and ailments?\n",
      "answer: health department\n",
      "common_expl_list: ['If someone is looking for information about a disease, the health department is a good place to find more information on the disease and the current state of research regarding it.', 'If you have a disease and need a pamphlet to educate yourself about it, you will often find them available from health department officials, who study diseases.']\n",
      "generated_explanation: <pad> <extra_id_0> Health departments often publish information about diseases and ailments, and pamphlets describing those diseases and ailments are available at the health departments.<extra_id_1> </s>\n",
      "score: 0.8480582237243652\n"
     ]
    },
    {
     "name": "stderr",
     "output_type": "stream",
     "text": [
      " 24%|███████████████████████████████████████▎                                                                                                                             | 235/986 [00:11<00:36, 20.57it/s]"
     ]
    },
    {
     "name": "stdout",
     "output_type": "stream",
     "text": [
      "question: Where might a t-shirt be kept?\n",
      "answer: drawer\n",
      "common_expl_list: ['T-shirts are thin and folded up, so they can be stored in a drawer, where clothes are typically kept.', 'T-shirts are often kept in drawers, as they are small and can be folded up quite small.']\n",
      "generated_explanation: <pad> <extra_id_0> T-shirts are often worn by people, and storing them in a drawer could be a convenient way to keep them clean.<extra_id_1> </s>\n",
      "score: 0.7311288714408875\n",
      "question: Where could someone give you a plate with a grape on it?\n",
      "answer: restaurant\n",
      "common_expl_list: ['A server in a restaurant could bring a salad with a grape on it.', 'A restaurant is a place where you can get food, and a plate with a grape on it is a type of food.']\n",
      "generated_explanation: <pad> <extra_id_0> A restaurant is a place where people go to eat, and a plate with a grape on it is a common sight.<extra_id_1> </s>\n",
      "score: 0.7277960777282715\n",
      "question: He though that a teakettle would be a good souvenir from his trip to merry old what?\n",
      "answer: england\n",
      "common_expl_list: ['Teakettles are often used in england, and are often used to make tea.']\n",
      "generated_explanation: <pad> <extra_id_0> England is a country known for its tea, and a teakettle is a common souvenir from england.<extra_id_1> </s>\n",
      "score: 0.7697721123695374\n",
      "question: Where are you likely to see more than one office building?\n",
      "answer: city\n",
      "common_expl_list: ['Offices are necessary in a few different kinds of places, but work, industry, and commerce are likely to require employees who would need offices to work. Therefore, cities would be the best place to find more than one office building, another likely place', 'Company offices are likely to be found in cities. In more suburbanized areas, industrial parks might have many, much larger office buildings.']\n",
      "generated_explanation: <pad> <extra_id_0> Cities are places where many people work, and where office buildings are common.<extra_id_1> </s>\n",
      "score: 0.7707980275154114\n"
     ]
    },
    {
     "name": "stderr",
     "output_type": "stream",
     "text": [
      " 24%|████████████████████████████████████████▎                                                                                                                            | 241/986 [00:11<00:36, 20.60it/s]"
     ]
    },
    {
     "name": "stdout",
     "output_type": "stream",
     "text": [
      "question: Where would you get a mailbox if you do not have one?\n",
      "answer: hardware store\n",
      "common_expl_list: ['Mailboxes are commonly sold at hardware stores.']\n",
      "generated_explanation: <pad> <extra_id_0> Hardware stores sell items such as mailboxes, and if you do not already own one, you can usually buy one for a reasonable price.<extra_id_1> </s>\n",
      "score: 0.787035346031189\n",
      "question: What does waiting for something for a response from an interview cause?\n",
      "answer: anxiety\n",
      "common_expl_list: ['Anxiety is a feeling of worry or unease, and waiting for a response from an interview can cause anxiety.', 'Someone may be anxious for an interview, or hearing back from another person, and experience anxiety during the waiting period.']\n",
      "generated_explanation: <pad> <extra_id_0> Waiting for something to happen, such as an interview, can cause anxiety.<extra_id_1> </s>\n",
      "score: 0.7012732028961182\n",
      "question: Where does a potato become softer?\n",
      "answer: vegetable stew\n",
      "common_expl_list: ['Potatoes are often cooked in vegetable stews, and so, the potato becomes softer in the stew.', 'It likely softens via boiling, a process in which the heat applied softens vegetables, in this case, potatoes.', 'Potatoes are often cooked in stews to make them softer.']\n",
      "generated_explanation: <pad> <extra_id_0> Potatoes are often added to vegetable stews to make them softer.<extra_id_1> </s>\n",
      "score: 0.7999514937400818\n",
      "question: What would you use if you wanted to play music?\n",
      "answer: cassettes\n",
      "common_expl_list: ['Cassettes used to be used for listening to music; today they are often still used for recording music, and so they could be used to record music.', 'A cassette would contained recorded music.', 'Cassettes are often used to play music.']\n",
      "generated_explanation: <pad> <extra_id_0> Cassettes are used to store music, and therefore, can be played back.<extra_id_1> </s>\n",
      "score: 0.8013532161712646\n"
     ]
    },
    {
     "name": "stderr",
     "output_type": "stream",
     "text": [
      " 25%|█████████████████████████████████████████▊                                                                                                                           | 250/986 [00:12<00:35, 20.54it/s]"
     ]
    },
    {
     "name": "stdout",
     "output_type": "stream",
     "text": [
      "question: Where would you keep paper files you're currently working on?\n",
      "answer: desk\n",
      "common_expl_list: ['Altough there are several possible answers for this question, they are not all plausible. Only the desk is something which is often found in houses or offices and constantly used for day-to-day work. Unlike drawers and harddisks, it', \"If a person is working on a paper file, they might want to keep it in the same room where they're primarily using their computer. This is likely to be in the person's office or cubicle, on the person's desk.\"]\n",
      "generated_explanation: <pad> <extra_id_0> Desks are places where people usually work, and where they might keep files.<extra_id_1> </s>\n",
      "score: 0.8128872513771057\n",
      "question: A hurricane can create what when it plows through a city?\n",
      "answer: disaster\n",
      "common_expl_list: ['A hurricane can result in devastation for a city.', 'A hurricane is a type of storm that can cause a lot of destruction.', 'A hurricane is a massive storm that can plow through a city, bringing with it destruction that can spread to areas outside the city.']\n",
      "generated_explanation: <pad> <extra_id_0> Hurricanes are powerful storms that can wreak havoc on cities when they pass through them.<extra_id_1> </s>\n",
      "score: 0.7643559575080872\n",
      "question: While getting drunk the body can only process so much at a time, go too fast and your belly might just make you what?\n",
      "answer: throw up\n",
      "common_expl_list: [\"When very drunk it's common for someone to throw up.\", \"With binge drinking it's possible to process too much alcohol at once, much like drugs. The stomach can only process so much in a short time frame. Vomiting is the main way to avoid health problems, if vomiting is not resulting in death\", 'The body processes alcohol one drink at a time. If someone drinks too quickly, they may vomit. If someone drinks too fast for their body to process the alcohol, they will throw up or even pass out.', 'When people drink too much, they often throw up.']\n",
      "generated_explanation: <pad> <extra_id_0> Drinking too much alcohol can cause the body to throw up because it can't process it fast enough.<extra_id_1> </s>\n",
      "score: 0.7767249345779419\n"
     ]
    },
    {
     "name": "stderr",
     "output_type": "stream",
     "text": [
      " 26%|██████████████████████████████████████████▊                                                                                                                          | 256/986 [00:12<00:35, 20.60it/s]"
     ]
    },
    {
     "name": "stdout",
     "output_type": "stream",
     "text": [
      "question: I am at school and want a glass of milk, where do I look?\n",
      "answer: cafeteria\n",
      "common_expl_list: ['Cafeterias are often found in schools, and milk is a common accompaniment to a meal.']\n",
      "generated_explanation: <pad> <extra_id_0> Schools often have cafeterias where students can buy food, and milk is often available for purchase.<extra_id_1> </s>\n",
      "score: 0.7964375019073486\n",
      "question: Janet likes dancing.   The swaying and the music gives her a feeling of what?\n",
      "answer: euphoria\n",
      "common_expl_list: ['The movement and repetitive rhythm of dancing can encourage a sensation of euphoria.', 'Janet likes dancing, and so she feels euphoric when she dances.']\n",
      "generated_explanation: <pad> <extra_id_0> Dancing is a way to release tension and enjoy yourself, and euphoria is a feeling that comes from enjoying yourself.<extra_id_1> </s>\n",
      "score: 0.7360801696777344\n"
     ]
    },
    {
     "name": "stderr",
     "output_type": "stream",
     "text": [
      " 27%|████████████████████████████████████████████▎                                                                                                                        | 265/986 [00:13<00:35, 20.38it/s]"
     ]
    },
    {
     "name": "stdout",
     "output_type": "stream",
     "text": [
      "question: Where can someone level up?\n",
      "answer: video game\n",
      "common_expl_list: ['In video games, it is possible to \"level up\" by gaining experience. Video games are played at a building.', 'Video games often allow players to earn more points or levels by winning games, beating challenges, or defeating enemies. Points and levels are common goals for video game players to strive for.']\n",
      "generated_explanation: <pad> <extra_id_0> Video games allow players to earn \"levels\" by completing certain objectives, and by doing so, they can improve their skills.<extra_id_1> </s>\n",
      "score: 0.7819855809211731\n",
      "question: Where does a person usually plant a rosebush?\n",
      "answer: flower bed\n",
      "common_expl_list: ['People often plant rosebushes in flower beds, as they are often used to decorate the area.']\n",
      "generated_explanation: <pad> <extra_id_0> Rosebushes are plants that are grown for their flowers, and therefore are often planted in flower beds.<extra_id_1> </s>\n",
      "score: 0.739976704120636\n",
      "question: What does someone want when having fun with their friends and trying to fit in?\n",
      "answer: being understood\n",
      "common_expl_list: [\"One might say that one wants to be understood when they are with their friends; one often wants one's new friends to understand them better.\"]\n",
      "generated_explanation: <pad> <extra_id_0> Being understood is the key to being able to have fun with friends, and to fit in with the group.<extra_id_1> </s>\n",
      "score: 0.7038419842720032\n"
     ]
    },
    {
     "name": "stderr",
     "output_type": "stream",
     "text": [
      " 27%|█████████████████████████████████████████████▎                                                                                                                       | 271/986 [00:13<00:35, 20.36it/s]"
     ]
    },
    {
     "name": "stdout",
     "output_type": "stream",
     "text": [
      "question: What does a person do if they want to appear authroitative?\n",
      "answer: stand erect\n",
      "common_expl_list: ['Standing up straight is a way of appearing confident and authroitative.', 'People who want to project a sense of authority often have very good posture.']\n",
      "generated_explanation: <pad> <extra_id_0> Standing erect is a sign of being authroitative, and it makes a person appear more confident.<extra_id_1> </s>\n",
      "score: 0.7164581418037415\n",
      "question: When a play starts in an auditorium, what tends to fade out?\n",
      "answer: lights\n",
      "common_expl_list: ['Lights are dimmed in an auditorium for a play, so that one can focus on the stage.', 'with the lights dimmed, people focus more on the performance.', 'Lights are often dimmed in auditoriums before a play starts.']\n",
      "generated_explanation: <pad> <extra_id_0> When a play starts, the lights in the auditorium are turned on, and as the play progresses, the lights fade out.<extra_id_1> </s>\n",
      "score: 0.7304799556732178\n"
     ]
    },
    {
     "name": "stderr",
     "output_type": "stream",
     "text": [
      "\r",
      " 28%|█████████████████████████████████████████████▊                                                                                                                       | 274/986 [00:13<00:34, 20.42it/s]"
     ]
    },
    {
     "name": "stdout",
     "output_type": "stream",
     "text": [
      "question: I was intoxicated and driving my car, what would I do with havoc?\n",
      "answer: wreak\n",
      "common_expl_list: [\"Wreaking havoc, or causing mass destruction, is what usually happens if one drives one's car while intoxicated.\", 'an alcoholic inebriant would wreak havoc upon getting behind a wheel', \"Wreaking havoc is a term that means causing a lot of damage, and so it's likely that a person who is intoxicated and driving would cause a lot of damage.\"]\n",
      "generated_explanation: <pad> <extra_id_0> Drunk drivers often wreak havoc on the roads, and if you were driving drunk, you might be more likely to cause accidents.<extra_id_1> </s>\n",
      "score: 0.7536970973014832\n",
      "question: What is the hope of playing sports without competition?\n",
      "answer: have fun\n",
      "common_expl_list: ['When it comes to sport, the goal is to have fun, and so when it lacks competition, it is more fun.', \"Playing sports with no competition is purely for fun, under the assumption that everyone making the team are friends and just want to play with one another. Playing within the context of a competition means that you're trying to get a score for the game.\"]\n",
      "generated_explanation: <pad> <extra_id_0> Sports without competition are played for fun, and often without any monetary prize.<extra_id_1> </s>\n",
      "score: 0.7703052759170532\n",
      "question: while luck plays a big role, every person who is great at something has focus and what to it?\n",
      "answer: dedication\n",
      "common_expl_list: [\"Luck plays an important role at serendipitous moments, but skill is more important across the course of a person's life; people get lucky here and there, but the great ones focus toward learning continuing getting better through dedication.\", \"Luck doesn't just dictate whether a person becomes great or merely average, but rather whether that person works really hard and sticks with what they want to do over the long term.\", 'The question is asking what is necessary for every person who is great at something . Focus is necessary to dedicate oneself to the activity, and dedication is ingredient for success.']\n",
      "generated_explanation: <pad> <extra_id_0> Focus and dedication are two important components of success, and luck can play a role in determining success.<extra_id_1> </s>\n",
      "score: 0.7116312980651855\n"
     ]
    },
    {
     "name": "stderr",
     "output_type": "stream",
     "text": [
      " 28%|██████████████████████████████████████████████▊                                                                                                                      | 280/986 [00:13<00:34, 20.22it/s]"
     ]
    },
    {
     "name": "stdout",
     "output_type": "stream",
     "text": [
      "question: If one needed peas and shopped local, where might they go?\n",
      "answer: farmer's market\n",
      "common_expl_list: [\"Shoppers at farmer's markets could select from a diverse set of local crops, including peas, likely from a farm nearby.\", \"Peas are a type of vegetable, and if one wanted to buy them locally, they might go to a farmer's market, where they could be purchased directly from the farmer.\", \"In many regions of the world, one can go to a farmer's stand (e.g., in summer), or market (e.g., in winter) to get fruits and vegetables directly from the farmer.\"]\n",
      "generated_explanation: <pad> <extra_id_0> Farmers markets are places where local foods are sold, and peas are often sold.<extra_id_1> </s>\n",
      "score: 0.83713698387146\n",
      "question: Where can you buy opera glasses that are old?\n",
      "answer: antique store\n",
      "common_expl_list: ['Antique stores often sell old items, including opera glasses.', 'People sometimes buy treasures such as old fashioned opera glasses at antique stores.', 'Antique stores can buy and sell old items, like spectacles (i.e., opera glasses).']\n",
      "generated_explanation: <pad> <extra_id_0> Antique stores often sell items that are centuries old, and opera glasses are an example of an item that might be found in an antique store.<extra_id_1> </s>\n",
      "score: 0.7819012999534607\n"
     ]
    },
    {
     "name": "stderr",
     "output_type": "stream",
     "text": [
      " 29%|████████████████████████████████████████████████▎                                                                                                                    | 289/986 [00:14<00:34, 20.44it/s]"
     ]
    },
    {
     "name": "stdout",
     "output_type": "stream",
     "text": [
      "question: Joe likes to pretend, and he knows that to pretend you need something special.  What is necessary to pretend?\n",
      "answer: have imagination\n",
      "common_expl_list: ['To pretend, one must have imagination.', 'Anything one would require to pretend is technically something that would require an imagination.', 'One has to have imagination to pretend.']\n",
      "generated_explanation: <pad> <extra_id_0> Pretending is a way of playing a role, and to play a role, you need to have imagination.<extra_id_1> </s>\n",
      "score: 0.7148837447166443\n",
      "question: Where can a human relax?\n",
      "answer: park\n",
      "common_expl_list: ['A park provides a relaxing green escape from the hecticness of work and war-zones.', 'Parks and other places similar provide a relaxing environment most of the time with a variety of less than challenging activities available to do.']\n",
      "generated_explanation: <pad> <extra_id_0> Humans can relax in parks, which are open spaces where people can walk around and relax.<extra_id_1> </s>\n",
      "score: 0.8159365057945251\n",
      "question: To learn must have the right book, to work efficiently what must one have?\n",
      "answer: have tools\n",
      "common_expl_list: ['In order to work efficiently, one must have the proper tools, training, and the materials needed to do the job; all of these are best when put in place once the job is learned.', 'If one does not have the proper tools, one cannot effectively accomplish the goals at hand, and without tools one will not achieve these goals.', 'If one wants to work efficiently, one must have the right tools for the job.']\n",
      "generated_explanation: <pad> <extra_id_0> Tools are necessary for performing a task, and to work efficiently, one must have the right tools.<extra_id_1> </s>\n",
      "score: 0.7016496658325195\n"
     ]
    },
    {
     "name": "stderr",
     "output_type": "stream",
     "text": [
      " 31%|██████████████████████████████████████████████████▊                                                                                                                  | 304/986 [00:14<00:32, 20.70it/s]"
     ]
    },
    {
     "name": "stdout",
     "output_type": "stream",
     "text": [
      "question: What is typically the attitude of a child waiting for something?\n",
      "answer: impatience\n",
      "common_expl_list: ['Children are often impatient, and waiting for something is often boring, so they might be impatient.', 'When someone is used to getting what they want when they want it, waiting can cause them stress and anxiety. Thus, in a waiting situation, most children would feel tired.', \"Impatience comes from a desire to go faster toward one's goal. If a physical or intangible goal is important, someone will often show impatience.\", 'When one is waiting on something, one is usually anxious about the arrival of that something.']\n",
      "generated_explanation: <pad> <extra_id_0> Children are naturally impatient, and this impatience can be exacerbated by waiting for something to happen.<extra_id_1> </s>\n",
      "score: 0.7493727207183838\n"
     ]
    },
    {
     "name": "stderr",
     "output_type": "stream",
     "text": [
      " 31%|███████████████████████████████████████████████████▉                                                                                                                 | 310/986 [00:15<00:32, 20.65it/s]"
     ]
    },
    {
     "name": "stdout",
     "output_type": "stream",
     "text": [
      "question: The Canadian farmer wondered if potatoes would grow where he lived, where was his likely location?\n",
      "answer: prince edward island\n",
      "common_expl_list: ['Prince edward island is part of Canada, and so are the people that live there. Prince edward island is known for potato production.', 'Prince Edward Island is a province in Canada, and it is known for its potatoes.']\n",
      "generated_explanation: <pad> <extra_id_0> Prince edward island is a Canadian territory located off the coast of British columbia, and is home to a number of farmers who grow potatoes.<extra_id_1> </s>\n",
      "score: 0.7467950582504272\n",
      "question: She was known for be soft and sensitive, but when all their wills were tested she was the only one who stood what?\n",
      "answer: stoic\n",
      "common_expl_list: [\"Stoicism is the recognition that the things that happen to you are out of your control. There is no point in getting upset about the things that you can't control.\", 'Stoicism is a philosophy that teaches people to be strong and not let their emotions get the best of them.']\n",
      "generated_explanation: <pad> <extra_id_0> Stoics are people who have strong, independent wills.<extra_id_1> </s>\n",
      "score: 0.710321307182312\n"
     ]
    },
    {
     "name": "stderr",
     "output_type": "stream",
     "text": [
      " 32%|████████████████████████████████████████████████████▉                                                                                                                | 316/986 [00:15<00:32, 20.55it/s]"
     ]
    },
    {
     "name": "stdout",
     "output_type": "stream",
     "text": [
      "question: When someone is learning about science what happens to them?\n",
      "answer: become educated\n",
      "common_expl_list: ['Science is a field of study that can be used to learn about the world around us.', \"Scientific advances can introduce people to facts and principles they were previously unfamiliar with. As such, it's possible scientific discoveries could inspire some to become more knowledgeable about the subject.\"]\n",
      "generated_explanation: <pad> <extra_id_0> Science is a subject that requires education, and learning about it involves becoming educated.<extra_id_1> </s>\n",
      "score: 0.7286673188209534\n"
     ]
    },
    {
     "name": "stderr",
     "output_type": "stream",
     "text": [
      " 33%|█████████████████████████████████████████████████████▉                                                                                                               | 322/986 [00:15<00:32, 20.58it/s]"
     ]
    },
    {
     "name": "stdout",
     "output_type": "stream",
     "text": [
      "question: What is a negative effect to someone other than a spouse when two spouses are getting divorced?\n",
      "answer: children suffer\n",
      "common_expl_list: ['Divorce has a serious effect on children: their family split and their daily routines, life expectations, and so on are upset.', 'If two spouses (generally a mother and a father) are getting divorced, their children often suffer: for example, they may undergo mid-transition moves, lose time with a parent, need to lower their expectations for what they receive financially and']\n",
      "generated_explanation: <pad> <extra_id_0> Divorces are difficult for both spouses, and it's common for children to suffer because of them.<extra_id_1> </s>\n",
      "score: 0.746760904788971\n",
      "question: What kind of building has many a book written in Hebrew?\n",
      "answer: synagogue\n",
      "common_expl_list: ['Synagogues are buildings that are used for religious purposes, and often contain books.', 'Many, if not most synagogues will have many Hebrew books in them. This is because synagogues also offer religious services, which include prayers read from Hebrew.', 'Books and other writings in Hebrew are likely to be found in synagogues.']\n",
      "generated_explanation: <pad> <extra_id_0> Synagoges are religious buildings where people pray and read scriptures.<extra_id_1> </s>\n",
      "score: 0.7255855798721313\n",
      "question: When love is not reciprocated, what are the feelings that are involved?\n",
      "answer: pain and suffering\n",
      "common_expl_list: [\"When someone feels warmth for you, but you don't feel the same way back at them, they will feel pain and suffering.\", 'Love can bring sadness and pain when you feel it for someone who does not feel it for you.', \"If someone loves you, but you don't love them back, they will likely feel pain and suffering.\", 'Love brings emotional pain if it is not reciprocated. This is because you loved another, but they did not feel the same.']\n",
      "generated_explanation: <pad> <extra_id_0> When a person falls in love with someone, he or she may feel pain and suffering because the person is not returning the love.<extra_id_1> </s>\n",
      "score: 0.7861027121543884\n"
     ]
    },
    {
     "name": "stderr",
     "output_type": "stream",
     "text": [
      " 34%|████████████████████████████████████████████████████████▍                                                                                                            | 337/986 [00:16<00:31, 20.80it/s]"
     ]
    },
    {
     "name": "stdout",
     "output_type": "stream",
     "text": [
      "question: I need a balloon to decorate something, what am I buying it for?\n",
      "answer: birthday party\n",
      "common_expl_list: ['Birthday parties often use balloons to decorate, so balloons are something you might buy for a birthday party.', 'Balloons are often used as decorations for birthday parties.']\n",
      "generated_explanation: <pad> <extra_id_0> Birthday parties are often held at homes, and balloons can be used to decorate the room.<extra_id_1> </s>\n",
      "score: 0.728256106376648\n",
      "question: What kingdom is frequently associated with pubs?\n",
      "answer: great britain\n",
      "common_expl_list: ['The term \"pub\" comes from \"public house,\" and was prevalent in the UK, which is in the great britain kingdom.', 'Pubs are often associated with the United Kingdom, and the United Kingdom is a kingdom.', \"Great Britian often uses pubs as a term for it's taverns, which are used for social gathering.\"]\n",
      "generated_explanation: <pad> <extra_id_0> Pubs are commonly found in great britain, and the term \"pub\" comes from the English language.<extra_id_1> </s>\n",
      "score: 0.8096197843551636\n",
      "question: Where might one find a bench of people sitting before they are taken away?\n",
      "answer: bus stop\n",
      "common_expl_list: ['At a bus stop, people gather together to wait until a bus arrives to take them away.', 'Buses pick up and drop off passengers at bus stops.', 'Bus stops are places where people wait for a bus to arrive.', 'Buses pick up and drop of passengers at bus stops.']\n",
      "generated_explanation: <pad> <extra_id_0> Buses pick up and drop off passengers at bus stops, and people can wait for their buses to arrive before they are taken away.<extra_id_1> </s>\n",
      "score: 0.7066670060157776\n",
      "question: Where can you buy a binder?\n",
      "answer: office supply store\n",
      "common_expl_list: ['A \"binder\" would likely be an office supply store. Office supply stores have a wide selection of files, folders, papers, tab dividers, and other supplies that could be contained in a binder. Rigid binders are commonly found', 'A binder is a type of document folder, which is likely to be available in a college bookstore or an office supply store, from which you would purchase either a binder itself or a binder full of documents.']\n",
      "generated_explanation: <pad> <extra_id_0> Binders can be purchased at office supply stores, which sell supplies such as binders.<extra_id_1> </s>\n",
      "score: 0.8539628386497498\n"
     ]
    },
    {
     "name": "stderr",
     "output_type": "stream",
     "text": [
      " 35%|█████████████████████████████████████████████████████████▍                                                                                                           | 343/986 [00:16<00:30, 20.78it/s]"
     ]
    },
    {
     "name": "stdout",
     "output_type": "stream",
     "text": [
      "question: When the farmer was reproducing sheep, what did one sheep give later?\n",
      "answer: birth\n",
      "common_expl_list: ['Sheep give birth to new sheep.', \"Sheep reproduce to generate new sheep. One sheep's contribution would be the birth of the new sheep.\", 'Reproduction requires a resulting baby. The resulting baby of a sheep was later when, they wanted to reproduce, a new baby sheep.', 'When goats and sheep produce offspring, this is done by giving birth to offspring. Yielding this offspring is birth.']\n",
      "generated_explanation: <pad> <extra_id_0> Reproduction involves giving birth to new sheep.<extra_id_1> </s>\n",
      "score: 0.7073458433151245\n"
     ]
    },
    {
     "name": "stderr",
     "output_type": "stream",
     "text": [
      " 36%|██████████████████████████████████████████████████████████▉                                                                                                          | 352/986 [00:17<00:30, 20.58it/s]"
     ]
    },
    {
     "name": "stdout",
     "output_type": "stream",
     "text": [
      "question: Why would a camper start burning logs?\n",
      "answer: make breakfast\n",
      "common_expl_list: ['A camper might start a fire to cook breakfast.']\n",
      "generated_explanation: <pad> <extra_id_0> Campers often cook their breakfast over an open fire, which they start by burning logs.<extra_id_1> </s>\n",
      "score: 0.7500324845314026\n",
      "question: Joe rented a loft, which is a type of what?\n",
      "answer: city apartment\n",
      "common_expl_list: ['Lofts are apartments located in cities', 'Lofts can often be found rented as urban apartment spaces.', 'Lofts are often rented in cities, and are usually apartments.']\n",
      "generated_explanation: <pad> <extra_id_0> Lofts are located in cities, and are often converted into living spaces.<extra_id_1> </s>\n",
      "score: 0.7065497636795044\n",
      "question: It was breakfast time.  Brad ordered eggs, toast, and something to drink. What might he drink?\n",
      "answer: coffee\n",
      "common_expl_list: ['Coffee is a drink that people often drink for breakfast.', \"Coffee is often a drink that takes place at breakfast, it helps to wake up one's mind and also prepare the stomach for digestion.\", 'Food is eaten for breakfast, and coffee can therefore be considered a breakfast drink. Coffee has the connotation of morning time.']\n",
      "generated_explanation: <pad> <extra_id_0> Coffee is often drunk for breakfast, and breakfast often includes eggs, toast, and something to drink.<extra_id_1> </s>\n",
      "score: 0.7444447875022888\n"
     ]
    },
    {
     "name": "stderr",
     "output_type": "stream",
     "text": [
      " 36%|███████████████████████████████████████████████████████████▉                                                                                                         | 358/986 [00:17<00:30, 20.65it/s]"
     ]
    },
    {
     "name": "stdout",
     "output_type": "stream",
     "text": [
      "question: What would you likely see a group of horses doing together?\n",
      "answer: running in herd\n",
      "common_expl_list: ['In group circumstance, horses often run in herds.', 'Horses are herd animals, and so they are likely to be running in a herd.']\n",
      "generated_explanation: <pad> <extra_id_0> Horses often run in herds, and it's common to see them running together.<extra_id_1> </s>\n",
      "score: 0.808681845664978\n",
      "question: What is the name of the government building that houses the U.S. Congress?\n",
      "answer: capitol building\n",
      "common_expl_list: ['The capitol building is the building that houses the U.S. Congress.', \"The government building housing the U.S. Congress is known as the Capitol Building; it's located in a city named Washington.\"]\n",
      "generated_explanation: <pad> <extra_id_0> The U.S. Congress meets in the capitol building, which is a large, stately building.<extra_id_1> </s>\n",
      "score: 0.748457670211792\n"
     ]
    },
    {
     "name": "stderr",
     "output_type": "stream",
     "text": [
      " 37%|█████████████████████████████████████████████████████████████▍                                                                                                       | 367/986 [00:18<00:29, 20.66it/s]"
     ]
    },
    {
     "name": "stdout",
     "output_type": "stream",
     "text": [
      "question: Where might a person play an acoustic guitar as they wear headphones and sit in a booth with a window?\n",
      "answer: studio\n",
      "common_expl_list: ['Acoustic guitars can have their \"sound\" amplified through the use of headphones. People who like to play musical instruments often play in the recording studio, as the sound engineers there know what good acoustics are.', 'A studio is a place where people record music, and a studio might have a booth with a window where a person could play an acoustic guitar while wearing headphones.', 'One might play an acoustic guitar as they wear headphones and sit in a booth with a window if in a recording studio, as the sounds would be contained.']\n",
      "generated_explanation: <pad> <extra_id_0> A studio is a place where musicians record their work, and a person might play an acoustic guitar in a booth while wearing headphones.<extra_id_1> </s>\n",
      "score: 0.7516066431999207\n",
      "question: Where might a person store pamphlets?\n",
      "answer: drawer\n",
      "common_expl_list: ['Paper is commonly stored in drawers, and hence physical pamphlets are also likely stored in drawers.', 'A drawer is a place to store things.']\n",
      "generated_explanation: <pad> <extra_id_0> Pamphlets are often folded and stored in a drawer, where they are easily accessible.<extra_id_1> </s>\n",
      "score: 0.8386791944503784\n",
      "question: You might hear someone say árbol de manzana instead of apple tree where?\n",
      "answer: spain\n",
      "common_expl_list: ['In Spanish, árbol de manzana translates to apple tree.']\n",
      "generated_explanation: <pad> <extra_id_0> árbol de manzana is a Spanish word for apple tree. It is commonly used in Spanish-speaking countries, especially in the Basque Country.<extra_id_1> </s>\n",
      "score: 0.7098914384841919\n",
      "question: What do you do in court to alleviate curiosity?\n",
      "answer: hear testimony\n",
      "common_expl_list: ['Testimony is a type of evidence that can be presented in court to help explain a situation.', \"If a person is too curious about an case or a person's history, they can attend the trial, so they can find out more about the case or hear testimonies about it.\"]\n",
      "generated_explanation: <pad> <extra_id_0> Courts are often used to hear testimony from witnesses, and hearing testimony from witnesses can alleviate curiosity.<extra_id_1> </s>\n",
      "score: 0.8054633736610413\n",
      "question: What are you likely to see on Independence Day?\n",
      "answer: fireworks display\n",
      "common_expl_list: ['The American Independence Day takes place on July 4th, and fireworks displays are held to celebrate this on this day.', 'Fireworks displays occur commonly on Independence Day, the 4th of July.', 'People typically set off fireworks on Independence Day.']\n",
      "generated_explanation: <pad> <extra_id_0> Independence Day is a U.S. holiday that is observed on July 4. Many people celebrate by watching fireworks displays.<extra_id_1> </s>\n",
      "score: 0.7731582522392273\n"
     ]
    },
    {
     "name": "stderr",
     "output_type": "stream",
     "text": [
      " 38%|██████████████████████████████████████████████████████████████▍                                                                                                      | 373/986 [00:18<00:29, 20.65it/s]"
     ]
    },
    {
     "name": "stdout",
     "output_type": "stream",
     "text": [
      "question: Where  might someone find lots of homes with a balcony railing?\n",
      "answer: apartment complex\n",
      "common_expl_list: ['Balconies are often found in apartment complexes, as they are a nice place to relax and enjoy the outdoors.', 'Balconies are common on many apartment buildings, especially on ones in large cities like New Orleans.']\n",
      "generated_explanation: <pad> <extra_id_0> Apartment complexes are communities of homes, and many of the homes in an apartment complex have balconies.<extra_id_1> </s>\n",
      "score: 0.775632917881012\n",
      "question: The paper sign had notice of a civic meeting, where should it be posted?\n",
      "answer: public place\n",
      "common_expl_list: ['the civic meeting announcement is governmental information that everyone should know.']\n",
      "generated_explanation: <pad> <extra_id_0> Public meetings are often held in public places, and a sign announcing one should be posted there.<extra_id_1> </s>\n",
      "score: 0.7337261438369751\n"
     ]
    },
    {
     "name": "stderr",
     "output_type": "stream",
     "text": [
      " 38%|███████████████████████████████████████████████████████████████▍                                                                                                     | 379/986 [00:18<00:29, 20.66it/s]"
     ]
    },
    {
     "name": "stdout",
     "output_type": "stream",
     "text": [
      "question: What is KFC who serves chicken?\n",
      "answer: fast food restaurant\n",
      "common_expl_list: ['The letters \"KFC\" stand for \"Kentucky Fried Chicken\"; they mostly serve chicken, and thus they are a fast food restaurant with chicken.']\n",
      "generated_explanation: <pad> <extra_id_0> KFC is a fast food restaurant chain that specializes in serving chicken.<extra_id_1> </s>\n",
      "score: 0.7115241885185242\n",
      "question: What may you feel after standing in line for a long time and not getting what you were after?\n",
      "answer: frustration\n",
      "common_expl_list: [\"When something (usually an experience) doesn't go as planned, the situation may end up being frustrating as individuals are likely to be upset by the event.\"]\n",
      "generated_explanation: <pad> <extra_id_0> Standing in line for something often involves waiting in line. If you are waiting in line for something, you may feel frustrated if you are not able to get it right away.<extra_id_1> </s>\n",
      "score: 0.7306066751480103\n",
      "question: What prevents someone from buying beer?\n",
      "answer: have no money\n",
      "common_expl_list: ['People use money to buy things, e.g., beer. Being \"broke\" refers to not having enough money in the bank. So, somebody might not be able to buy beer because they don\\'t have enough cash to make the purchase.', \"Beer is expensive, and if you don't have enough moeny to buy beer, you wouldn't be able to buy any.\", 'Cash is a means of valuae that is used to buy beverages like beer. If someone had no cash, they might not buy beer.']\n",
      "generated_explanation: <pad> <extra_id_0> People often lack money, which makes it difficult to buy beer.<extra_id_1> </s>\n",
      "score: 0.7293672561645508\n"
     ]
    },
    {
     "name": "stderr",
     "output_type": "stream",
     "text": [
      " 39%|████████████████████████████████████████████████████████████████▍                                                                                                    | 385/986 [00:18<00:29, 20.55it/s]"
     ]
    },
    {
     "name": "stdout",
     "output_type": "stream",
     "text": [
      "question: If people are competing for resources what emotional state are they likely to experience?\n",
      "answer: stress\n",
      "common_expl_list: ['When resources are limited for meeting endless demands, the people involved in the competition will experience stress.', \"When people compete for objects and aren't getting what they want, they are likely to exhibit high levels of stress as a danger response.\"]\n",
      "generated_explanation: <pad> <extra_id_0> When people are competing for resources, they may experience stress. This is because they are likely to be limited in the resources they have available.<extra_id_1> </s>\n",
      "score: 0.7786641120910645\n"
     ]
    },
    {
     "name": "stderr",
     "output_type": "stream",
     "text": [
      " 40%|█████████████████████████████████████████████████████████████████▍                                                                                                   | 391/986 [00:19<00:28, 20.64it/s]"
     ]
    },
    {
     "name": "stdout",
     "output_type": "stream",
     "text": [
      "question: Where would you find a cottage that gets flooded often?\n",
      "answer: rural area\n",
      "common_expl_list: ['Cottages are typically simple dwellings. Most of the time cottages are in the countryside. If a cottage is in the countryside and is close to where the ocean is, it would be subject to flooding by a tsunami. Thus, if you', 'Rurals areas are usually low-lying, and are thus subject to flooding if it rains.']\n",
      "generated_explanation: <pad> <extra_id_0> Rural areas are often inundated by rivers and streams, which can lead to flooding of cottages.<extra_id_1> </s>\n",
      "score: 0.7888402342796326\n",
      "question: Where is a bad place to put a cemetery?\n",
      "answer: populated area\n",
      "common_expl_list: [\"A cemetery is often the final resting place for a dead body, and some people don't want to live near one.\", 'Cemeteries are places where dead bodies are buried, and so, they are not likely to be in populated areas.']\n",
      "generated_explanation: <pad> <extra_id_0> Cemeteries are often located in populated areas, and it's a bad idea to put one in a populated area.<extra_id_1> </s>\n",
      "score: 0.7066294550895691\n",
      "question: Where will glue stay usable?\n",
      "answer: closed container\n",
      "common_expl_list: ['Without exposure to air, glue can stay usable for a long time.', 'The most important factor in preserving items is sealing it up to keep it away from moisture and the damaging effects of oxygen. A closed container is pretty much the best way to do this.']\n",
      "generated_explanation: <pad> <extra_id_0> Glue is a chemical that, when used, will usually stay usable in a closed container.<extra_id_1> </s>\n",
      "score: 0.806300699710846\n"
     ]
    },
    {
     "name": "stderr",
     "output_type": "stream",
     "text": [
      " 40%|██████████████████████████████████████████████████████████████████▍                                                                                                  | 397/986 [00:19<00:28, 20.73it/s]"
     ]
    },
    {
     "name": "stdout",
     "output_type": "stream",
     "text": [
      "question: Where are leaves likely to cause an accident?\n",
      "answer: street\n",
      "common_expl_list: ['Leaves often gather on the ground and, if a vehicle runs through them, they can become lodged in the wheels, which will cause a driver to lose control.', 'Predominantly in autumn, leaves can travel on the road, in high winds, and cause cars to skid out of control.']\n",
      "generated_explanation: <pad> <extra_id_0> Leaves can fall from the sky and cause accidents on streets.<extra_id_1> </s>\n",
      "score: 0.7268786430358887\n",
      "question: Where are floors kept clean for holy purposes?\n",
      "answer: synagogue\n",
      "common_expl_list: ['Synagogues are places where people pray, and so floors in synagogues are likely to be kept clean for holy purposes.']\n",
      "generated_explanation: <pad> <extra_id_0> Synagoges are houses of worship, and as such, their floors are often kept clean.<extra_id_1> </s>\n",
      "score: 0.8067531585693359\n"
     ]
    },
    {
     "name": "stderr",
     "output_type": "stream",
     "text": [
      " 41%|███████████████████████████████████████████████████████████████████▍                                                                                                 | 403/986 [00:19<00:28, 20.67it/s]"
     ]
    },
    {
     "name": "stdout",
     "output_type": "stream",
     "text": [
      "question: WHat is the size of the school cafeteria?\n",
      "answer: large room\n",
      "common_expl_list: ['A large room is a room that takes up a lot of space. Since a school cafeteria can hold many people, without question it would be a large room.', 'A school cafeteria is a large room where students eat.', 'A school cafeteria is a large room where students can eat food purchased on campus or brought from home.']\n",
      "generated_explanation: <pad> <extra_id_0> A school cafeteria is a large room.<extra_id_1> </s>\n",
      "score: 0.7623104453086853\n",
      "question: If you have a lot of money after cashing in your chips at a casino, what would the casino owner feel towards you?\n",
      "answer: resentment\n",
      "common_expl_list: ['Casinos make money by taking a percentage of the money that people gamble with, so, if a person were to win a lot of money, the casino would feel resentment towards them.', \"casino owners who profit off of gambling are often wary of patrons who have cashed in chips showing up again to encourage them to gamble more, and so, the casino owner may feel resentment towards a patron who cashes in chips and don't come back\"]\n",
      "generated_explanation: <pad> <extra_id_0> Casino owners often resent players who win big and take their money, and resentment towards players who lose big is a common emotion.<extra_id_1> </s>\n",
      "score: 0.7089022994041443\n",
      "question: What will happen after agreeing with verbally about a deal that you made with him or her?\n",
      "answer: shake hands\n",
      "common_expl_list: [\"After agreeing to a deal, it's common to shake hands as a way to seal the deal.\"]\n",
      "generated_explanation: <pad> <extra_id_0> When two people agree to do business together, they will usually shake hands to show that they are in agreement.<extra_id_1> </s>\n",
      "score: 0.7056873440742493\n",
      "question: In a lot of Asian restaurants food is eaten in a?\n",
      "answer: bowl\n",
      "common_expl_list: ['In Asian cuisine, food is often eaten with chopsticks, and is placed in a bowl.']\n",
      "generated_explanation: <pad> <extra_id_0> In Asian restaurants, food is often served in bowls.<extra_id_1> </s>\n",
      "score: 0.8166126012802124\n",
      "question: Drinking alcohol to excess can cause you to begin doing what?\n",
      "answer: vomiting\n",
      "common_expl_list: ['When one drinks too much alcohol, one can become sick and vomit.', 'Excessive drinking can cause one to become sick, e.g., with a hangover. This leads to vomiting as a natural response.']\n",
      "generated_explanation: <pad> <extra_id_0> Drinking alcohol can cause you to do certain things, including vomiting.<extra_id_1> </s>\n",
      "score: 0.7312664985656738\n"
     ]
    },
    {
     "name": "stderr",
     "output_type": "stream",
     "text": [
      " 42%|████████████████████████████████████████████████████████████████████▉                                                                                                | 412/986 [00:20<00:27, 20.72it/s]"
     ]
    },
    {
     "name": "stdout",
     "output_type": "stream",
     "text": [
      "question: What is good way to break boredom for kids?\n",
      "answer: play games\n",
      "common_expl_list: [\". Play is good for kids because they have lots of energy, but because they can't manage large or complex ideas, they might have trouble occupying themselves if they get bored. Play games are one good way for them to entertain themselves if they get bored\", 'Boredom is often relieved by playing games.']\n",
      "generated_explanation: <pad> <extra_id_0> Playing games is a good way to break boredom for kids.<extra_id_1> </s>\n",
      "score: 0.7714644074440002\n",
      "question: where do you typically buy apples?\n",
      "answer: grocery store\n",
      "common_expl_list: ['Most people will buy apples from a grocery store, but they can also be found at farmers markets.', 'Apples are usually sold in grocery stores.']\n",
      "generated_explanation: <pad> <extra_id_0> Apples can be purchased at grocery stores because they are readily available.<extra_id_1> </s>\n",
      "score: 0.8376844525337219\n",
      "question: If you like learning about science, you are all?\n",
      "answer: smiles\n",
      "common_expl_list: ['Science is a field of study that is often associated with smiles, because it is a field that is often associated with learning and gaining new information.', 'Science involves interesting phenomena that one can learn about, so someone who likes to do science is likely be happy.', 'Smiles indicate that they are satisfied. Learning about science is likely to bring you satisfaction.']\n",
      "generated_explanation: <pad> <extra_id_0> Science is a branch of knowledge that is constantly evolving.<extra_id_1> </s>\n",
      "score: 0.1817387491464615\n"
     ]
    },
    {
     "name": "stderr",
     "output_type": "stream",
     "text": [
      " 42%|█████████████████████████████████████████████████████████████████████▉                                                                                               | 418/986 [00:20<00:27, 20.63it/s]"
     ]
    },
    {
     "name": "stdout",
     "output_type": "stream",
     "text": [
      "question: Sam  spent time chatting with friends about important things because he wanted to get what?\n",
      "answer: answers\n",
      "common_expl_list: ['Sam articulated that he wanted answers. He asked his friends for answers for the answers. Answers to important things.', 'Sam wanted answers to his questions, and thus spent time chatting with friends.']\n",
      "generated_explanation: <pad> <extra_id_0> Sam wanted to get answers to his questions, and chatting with friends about important things allowed him to get answers.<extra_id_1> </s>\n",
      "score: 0.7528905868530273\n"
     ]
    },
    {
     "name": "stderr",
     "output_type": "stream",
     "text": [
      " 43%|██████████████████████████████████████████████████████████████████████▉                                                                                              | 424/986 [00:20<00:27, 20.63it/s]"
     ]
    },
    {
     "name": "stdout",
     "output_type": "stream",
     "text": [
      "question: What is likely the result of remembering a deceased friend?\n",
      "answer: crying\n",
      "common_expl_list: ['Most likely because one will cry in memory of a deceased friend.', 'Because of sadness, often caused by the memory of a deceased loved one, a person often cries.']\n",
      "generated_explanation: <pad> <extra_id_0> When we think of a deceased person, we often cry. This is because we are remembering them and their life.<extra_id_1> </s>\n",
      "score: 0.7079760432243347\n",
      "question: What sport do fans often watch people loose teeth?\n",
      "answer: hockey game\n",
      "common_expl_list: [\"Hockey is a sport with a lot of rough action, during which players can get injured, for example, they might have their teeth kicked in by an opponent's stick.\"]\n",
      "generated_explanation: <pad> <extra_id_0> Hockey is a contact sport, meaning that players are often skating on ice while playing.<extra_id_1> </s>\n",
      "score: 0.1383148580789566\n",
      "question: There are hundreds of bars and eateries in what east coast metropolis?\n",
      "answer: new york city\n",
      "common_expl_list: ['Numerous bars and restaurants are present in NYC, the large city on the east coast of the United States.']\n",
      "generated_explanation: <pad> <extra_id_0> New york city is a large city on the east coast of the United States. Because it is a major metropolis, it has many bars and restaurants.<extra_id_1> </s>\n",
      "score: 0.7560730576515198\n"
     ]
    },
    {
     "name": "stderr",
     "output_type": "stream",
     "text": [
      " 44%|███████████████████████████████████████████████████████████████████████▉                                                                                             | 430/986 [00:21<00:26, 20.60it/s]"
     ]
    },
    {
     "name": "stdout",
     "output_type": "stream",
     "text": [
      "question: Where is known for a multitude of wedding chapels?\n",
      "answer: nevada\n",
      "common_expl_list: ['People are known to get married in Las Vegas, Nevada, so it is famous for wedding chapels.', 'There are a large number of chapels in Nevada that specialize in weddings.']\n",
      "generated_explanation: <pad> <extra_id_0> nevada is a state known for its wedding chapels; therefore, if you are getting married there, it's likely that you will find a wedding chapel there.<extra_id_1> </s>\n",
      "score: 0.7356101274490356\n",
      "question: What is best for a rosebush?\n",
      "answer: temperate climate\n",
      "common_expl_list: ['A rosebush requires a temperate climate to flourish.', 'A rosebush is likely to grow best in a temperate climate.']\n",
      "generated_explanation: <pad> <extra_id_0> Rosebushes grow best in temperate climates, e.g., in the United States.<extra_id_1> </s>\n",
      "score: 0.7246805429458618\n",
      "question: The athlete was competing in a race and saw the finish line, what did he feel as a result?\n",
      "answer: adrenaline rush\n",
      "common_expl_list: ['An adrenaline rush is a rush of hormones that are involved in responding to situations that seem frightening or exciting. Because a finish line is often associated with something that is exhilarating, an athlete can often have an increased heart rate and an adrenaline rush during a', 'When athletes make it to the finish line, they usually feel a rush of adrenaline because of their closeness to winning or losing (finishing second instead of first).']\n",
      "generated_explanation: <pad> <extra_id_0> A race involves running a certain distance and seeing the finish line causes an adrenaline rush.<extra_id_1> </s>\n",
      "score: 0.7035303711891174\n"
     ]
    },
    {
     "name": "stderr",
     "output_type": "stream",
     "text": [
      " 45%|█████████████████████████████████████████████████████████████████████████▍                                                                                           | 439/986 [00:21<00:26, 20.71it/s]"
     ]
    },
    {
     "name": "stdout",
     "output_type": "stream",
     "text": [
      "question: The bald eagle made a nest in a tree surrounded by others, it made it's home in a vast what?\n",
      "answer: forrest\n",
      "common_expl_list: ['Bald eagles are birds that live in forests.', \"Eagles build nests in trees. An eagles' nest is typically in a forest, since forests usually have trees.\", 'Bald eagles nest in forrests and trees.']\n",
      "generated_explanation: <pad> <extra_id_0> A forest is a large area of trees, and bald eagles are known to make their homes in trees. Because they nest in trees, they are likely to live in large groups.<extra_id_1> </s>\n",
      "score: 0.7264197468757629\n",
      "question: Some people go their whole life doing what for love?\n",
      "answer: wait for\n",
      "common_expl_list: ['It takes time to build a relationship, so some people spend all their time waiting for that special person (eventually developing love later).']\n",
      "generated_explanation: <pad> <extra_id_0> People can wait for love, or they can wait for work.<extra_id_1> </s>\n",
      "score: 0.19152361154556274\n"
     ]
    },
    {
     "name": "stderr",
     "output_type": "stream",
     "text": [
      " 45%|██████████████████████████████████████████████████████████████████████████▍                                                                                          | 445/986 [00:21<00:26, 20.72it/s]"
     ]
    },
    {
     "name": "stdout",
     "output_type": "stream",
     "text": [
      "question: A material that is elastic is able to do what?\n",
      "answer: stretch\n",
      "common_expl_list: ['Elastic materials are able to stretch and then return to the initial form, i.e., stretch.', 'Elastic materials are able to stretch and then return to their original shape.']\n",
      "generated_explanation: <pad> <extra_id_0> Elastic materials are able to stretch, e.g., to make them longer.<extra_id_1> </s>\n",
      "score: 0.8425751328468323\n",
      "question: What is something that you feel when you go to the opera?\n",
      "answer: relaxation\n",
      "common_expl_list: ['Opera is a form of entertainment, and entertainment is relaxing.']\n",
      "generated_explanation: <pad> <extra_id_0> Going to the opera is a relaxing experience, and this relaxation is induced by the music played at the opera.<extra_id_1> </s>\n",
      "score: 0.7280211448669434\n",
      "question: Where could you find a steel cable that has not been completed yet?\n",
      "answer: factory\n",
      "common_expl_list: ['Steel cables are usually only finished in factories, by factory workers. \\u200b', 'Steel cables are often produced in factories.']\n",
      "generated_explanation: <pad> <extra_id_0> Steel cables are manufactured in factories, and unfinished cables are often left over from previous jobs.<extra_id_1> </s>\n",
      "score: 0.7227717638015747\n"
     ]
    },
    {
     "name": "stderr",
     "output_type": "stream",
     "text": [
      " 46%|███████████████████████████████████████████████████████████████████████████▍                                                                                         | 451/986 [00:22<00:26, 20.56it/s]"
     ]
    },
    {
     "name": "stdout",
     "output_type": "stream",
     "text": [
      "question: Humans tend to have what round things that dart around?\n",
      "answer: two eyes\n",
      "common_expl_list: ['Humans have two eyes, which are round and dart around.']\n",
      "generated_explanation: <pad> <extra_id_0> Humans are characterized by having two eyes, which are like little cameras that dart around, capturing images of the world around them.<extra_id_1> </s>\n",
      "score: 0.7500048279762268\n",
      "question: If you live by the shore than you probably live in a what?\n",
      "answer: seaside town\n",
      "common_expl_list: ['Seaside towns are on the shore of a great body of water, usually an ocean.', 'Towns which have access to the sea are often seaside towns.', 'The ocean is a large body of water that stretches along a great deal of the coastline. Most seaside towns are situated on oceans.']\n",
      "generated_explanation: <pad> <extra_id_0> Seaside towns are located near the sea, and if you live by the sea, you probably live in a seaside town.<extra_id_1> </s>\n",
      "score: 0.8160998225212097\n",
      "question: What is someone likely to do when trying to memorize something?\n",
      "answer: concentrate\n",
      "common_expl_list: ['Concentrating is a way to try to memorize something.', 'A person is likely to concentrate when they are trying to memorize.', 'Concentration helps long-term memory. Activities done while memorizing are likely to be important ways of helping to keep information in memory.']\n",
      "generated_explanation: <pad> <extra_id_0> When trying to memorize something, it's often helpful to concentrate.<extra_id_1> </s>\n",
      "score: 0.7815923094749451\n",
      "question: A person made coffee using hot water and coffee grounds, now where should he pour it?\n",
      "answer: coffee cup\n",
      "common_expl_list: ['Coffee cups are used to hold coffee.']\n",
      "generated_explanation: <pad> <extra_id_0> Coffee is usually brewed in a coffee cup, because coffee is made using hot water and coffee grounds.<extra_id_1> </s>\n",
      "score: 0.7634174823760986\n"
     ]
    },
    {
     "name": "stderr",
     "output_type": "stream",
     "text": [
      " 46%|████████████████████████████████████████████████████████████████████████████▍                                                                                        | 457/986 [00:22<00:25, 20.61it/s]"
     ]
    },
    {
     "name": "stdout",
     "output_type": "stream",
     "text": [
      "question: If I need to store old stuff out of the way without concerns of them getting damp, where do I go?\n",
      "answer: attic\n",
      "common_expl_list: ['Attics are often used for storage, and are usually dry, and thus are a good place to store old stuff.', 'The attic is a good place to store old unused stuff, as the attic is usually insulated and is likely to not be moist.']\n",
      "generated_explanation: <pad> <extra_id_0> Attics are places where things can be stored out of the way, out of the way of water and dampness.<extra_id_1> </s>\n",
      "score: 0.7088564038276672\n",
      "question: Other than water, sugar is the main ingredient in what?\n",
      "answer: soda pop\n",
      "common_expl_list: ['The most common ingredients in soda are: sugar, water, and carbon dioxide. The ingredient represented here is sugar (in types such soda as Coke and Pepsi, etc.).']\n",
      "generated_explanation: <pad> <extra_id_0> Soda pop is a carbonated beverage that contains sugar as one of the main ingredients.<extra_id_1> </s>\n",
      "score: 0.7345502376556396\n"
     ]
    },
    {
     "name": "stderr",
     "output_type": "stream",
     "text": [
      " 47%|█████████████████████████████████████████████████████████████████████████████▍                                                                                       | 463/986 [00:22<00:25, 20.69it/s]"
     ]
    },
    {
     "name": "stdout",
     "output_type": "stream",
     "text": [
      "question: What has a surface with ripples?\n",
      "answer: lake\n",
      "common_expl_list: ['Ponds and lakes typically have ripples on their surfaces.', 'Lakes are known to have ripples on their surface.', 'Lakes are large bodies of water, and while lakesthey are calm on top, any ripples caused by storm or boats are typically realistic on the surface for this size of a body of water.']\n",
      "generated_explanation: <pad> <extra_id_0> Lakes are bodies of water with a sloping, lily-like surface. Because water reflects light, it is likely that ripples will appear on the surface.<extra_id_1> </s>\n",
      "score: 0.7300321459770203\n",
      "question: What do teachers encourage a child to do?\n",
      "answer: ask many questions\n",
      "common_expl_list: ['Teachers encourage children to ask many questions, because it shows them to be curious about matters relevant to classwork.']\n",
      "generated_explanation: <pad> <extra_id_0> Teachers often encourage their students to ask many questions, because asking questions is a good way to learn.<extra_id_1> </s>\n",
      "score: 0.7161170244216919\n"
     ]
    },
    {
     "name": "stderr",
     "output_type": "stream",
     "text": [
      " 48%|██████████████████████████████████████████████████████████████████████████████▍                                                                                      | 469/986 [00:22<00:24, 20.73it/s]"
     ]
    },
    {
     "name": "stdout",
     "output_type": "stream",
     "text": [
      "question: Where can a lady store a writing instrument while away from home?\n",
      "answer: purse\n",
      "common_expl_list: ['Women often keep pens in their purse.', 'A lady might carry a purse with her, and it is likely that she would carry a writing instrument in it.', 'As lady typically carry purses, the writing instrument is presumably in the purse when not in use.', 'When a person has a bag with them, such as a handbag or tote bag, the bag could presumably be used to store a pen.']\n",
      "generated_explanation: <pad> <extra_id_0> A purse is a small, handy bag that can hold small items, such as a writing instrument.<extra_id_1> </s>\n",
      "score: 0.7831382751464844\n"
     ]
    },
    {
     "name": "stderr",
     "output_type": "stream",
     "text": [
      " 48%|███████████████████████████████████████████████████████████████████████████████▍                                                                                     | 475/986 [00:23<00:24, 20.71it/s]"
     ]
    },
    {
     "name": "stdout",
     "output_type": "stream",
     "text": [
      "question: What does being fat lead a person to want to do in the gym?\n",
      "answer: get in shape\n",
      "common_expl_list: ['People who are overweight often want to lose weight, and they go to the gym to do so.']\n",
      "generated_explanation: <pad> <extra_id_0> Being fat makes a person want to get in shape, and going to the gym is one way to get in shape.<extra_id_1> </s>\n",
      "score: 0.7950595617294312\n",
      "question: WHat does someone usually produce a lot of when getting divorce?\n",
      "answer: tears\n",
      "common_expl_list: ['Emotions such as sadness, are usually associated with divorce. Sad people tend to cry, producing an excess of tears.']\n",
      "generated_explanation: <pad> <extra_id_0> Divorces are difficult, and it's common for people to cry a lot.<extra_id_1> </s>\n",
      "score: 0.7312884330749512\n",
      "question: If someone is quite crafty with needles they might have all sorts of hobbies like needlepoint, crocheting, or just plain what?\n",
      "answer: sewing\n",
      "common_expl_list: ['People who are crafty with needles often enjoy sewing, and may have a sewing machine in their living room.']\n",
      "generated_explanation: <pad> <extra_id_0> Sewing is a hobby that involves using needles to create something, and needles are often used in sewing.<extra_id_1> </s>\n",
      "score: 0.7029889822006226\n",
      "question: What traditional shop would one find a razor in?\n",
      "answer: barber shop\n",
      "common_expl_list: ['Razors are often found in barber shops; barbershops are where men go to get their hair cut. Showing up at the grocery store with a razor may be unnecessary and strange.']\n",
      "generated_explanation: <pad> <extra_id_0> Barber shops are traditionally run by barbers, and as such, often sell shaving equipment, such as razors, to customers.<extra_id_1> </s>\n",
      "score: 0.7627828121185303\n"
     ]
    },
    {
     "name": "stderr",
     "output_type": "stream",
     "text": [
      "\r",
      " 48%|███████████████████████████████████████████████████████████████████████████████▉                                                                                     | 478/986 [00:23<00:24, 20.71it/s]"
     ]
    },
    {
     "name": "stdout",
     "output_type": "stream",
     "text": [
      "question: A builder looking for wood to build a new home is likely to visit what location?\n",
      "answer: lumberyard\n",
      "common_expl_list: ['Lumberyards sells boards of wood for usage in buildings and the like, and thus might be the best place to look if you were in need of wood with which to build something.']\n",
      "generated_explanation: <pad> <extra_id_0> Lumber is typically sold at lumberyards, and a builder may be looking for lumber at a particular lumberyard to use in his project.<extra_id_1> </s>\n",
      "score: 0.7036805748939514\n",
      "question: There was only one place that specialized in sports equipment in the town, what seemed really had a shop for everything?\n",
      "answer: mall\n",
      "common_expl_list: ['A mall is a place where many different stores are located, and sports equipment is a type of good that can be sold in a store.', 'Malls tend to contain a variety of stores, and therefore if an item is a sport-related one, it likely would be contained within a mall.']\n",
      "generated_explanation: <pad> <extra_id_0> Malls are shopping centers with a variety of shops, and sports equipment shops are usually located in them.<extra_id_1> </s>\n",
      "score: 0.7639144062995911\n"
     ]
    },
    {
     "name": "stderr",
     "output_type": "stream",
     "text": [
      " 49%|█████████████████████████████████████████████████████████████████████████████████▍                                                                                   | 487/986 [00:23<00:24, 20.70it/s]"
     ]
    },
    {
     "name": "stdout",
     "output_type": "stream",
     "text": [
      "question: Where would you find a computer near very young people learning?\n",
      "answer: classroom\n",
      "common_expl_list: ['Teaching technology to very young people is likely to occur in a classroom.', 'Young children are often taught in classrooms, and computers are commonly used in classrooms.', 'In my own experience as a student, computers were commonly present in school classrooms, in the hallway, and in libraries. The school classroom setting has large tables capable of accomodating laptops, and classrooms enabade students sit un-distracted']\n",
      "generated_explanation: <pad> <extra_id_0> Computers are often used in classrooms, and young people learn on computers.<extra_id_1> </s>\n",
      "score: 0.7347147464752197\n",
      "question: what is a characteristic of one who want to give assistance?\n",
      "answer: helpful\n",
      "common_expl_list: ['People who want to help others are often helpful, and helpful people are often prepared to help others.']\n",
      "generated_explanation: <pad> <extra_id_0> Helpfulness is a quality that people want to have, and it is often exhibited by those who want to give assistance.<extra_id_1> </s>\n",
      "score: 0.7580018639564514\n",
      "question: Computers were important in John's work, but they were useless if they weren't what?\n",
      "answer: networked\n",
      "common_expl_list: ['Computers are useless if they are not networked, since they cannot be used to do work without being connected to other computers.', \"It's possible that the people John worked with used a computer network for communication purposes, like a LAN, and thus, computers were only useful if they were networked.\", 'Computers need to be networked with one another and the necessary resources in order to do work or enable users to do work.']\n",
      "generated_explanation: <pad> <extra_id_0> Networking is a way of connecting computers so that they can share resources, such as files and printers, with each other.<extra_id_1> </s>\n",
      "score: 0.7242665886878967\n"
     ]
    },
    {
     "name": "stderr",
     "output_type": "stream",
     "text": [
      " 50%|██████████████████████████████████████████████████████████████████████████████████▌                                                                                  | 493/986 [00:24<00:23, 20.66it/s]"
     ]
    },
    {
     "name": "stdout",
     "output_type": "stream",
     "text": [
      "question: John plays brass instruments in a band that has a lot of diverse people in it and many different instruments.   They mostly play at clubs.  What sort of band might he be in.\n",
      "answer: jazz band\n",
      "common_expl_list: ['Jazz bands have brass instruments (e.g., horns), including: saxophones, trumpets, trombones, flairs, and the like.', 'A jazz band combines a lot of instruments, including brass ones, such as bass and drums, piano, and flutes, and so on.']\n",
      "generated_explanation: <pad> <extra_id_0> Jazz bands are often composed of many different people who play different instruments. Jazz bands often play at clubs, and clubs are often very diverse.<extra_id_1> </s>\n",
      "score: 0.7476453185081482\n",
      "question: Where is a good place for a lawn chair?\n",
      "answer: porch\n",
      "common_expl_list: ['Porches and patios are commonly furnished with chairs.', 'Porches are a common place to put lawn chairs.', 'The porch is in place in which people often set their lawn chairs in order to relax, e.g., when cooling off after doing yardwork.']\n",
      "generated_explanation: <pad> <extra_id_0> A porch is a covered area where you can sit outside and enjoy the weather, and a lawn chair would be a good place to put one.<extra_id_1> </s>\n",
      "score: 0.704841136932373\n",
      "question: How would chicken be served?\n",
      "answer: plate\n",
      "common_expl_list: ['Chicken is commonly served on a plate.', \"Food is usually served on a plate, unless it's eaten right out of the refrigerator freezer. The restaurant dish would likely be too big for most orders of chicken.\"]\n",
      "generated_explanation: <pad> <extra_id_0> Chicken is usually served on a plate, and this is the most common way to serve it.<extra_id_1> </s>\n",
      "score: 0.8226366639137268\n"
     ]
    },
    {
     "name": "stderr",
     "output_type": "stream",
     "text": [
      " 51%|███████████████████████████████████████████████████████████████████████████████████▌                                                                                 | 499/986 [00:24<00:23, 20.74it/s]"
     ]
    },
    {
     "name": "stdout",
     "output_type": "stream",
     "text": [
      "question: Cats are easily entertained, they love to what?\n",
      "answer: play with toys\n",
      "common_expl_list: ['Cats love toys that easily fit in their paws and/or are simple for them to move around. Playing with toys can help cats be happy.', \"Cats' owners often provide toys for the cats to play with. Play is a good way to entertain a cat (think of how a cat will chase and pounce).\"]\n",
      "generated_explanation: <pad> <extra_id_0> Cats are naturally very playful animals, and they enjoy playing with toys.<extra_id_1> </s>\n",
      "score: 0.8710248470306396\n",
      "question: What is the purpose of a basketball court?\n",
      "answer: use\n",
      "common_expl_list: ['Basketball courts have multiple functions. they can be used by basketball players, basketball courts have been used during riots, the courts can be used during sporting events and activities.']\n",
      "generated_explanation: <pad> <extra_id_0> Basketball is a game played on a court, and basketball courts are used for playing the game.<extra_id_1> </s>\n",
      "score: 0.7237086892127991\n",
      "question: What might two people competing get into?\n",
      "answer: argument\n",
      "common_expl_list: ['When people compete, they have the chance to win or lose, and overall result likely leads to stress, tension, or even arguments.', 'When people compete, they are likely to argue about the outcome.', 'Two people competing against each other might get into arguments, particularly before and afterwards.', 'Arguments are common when people debate about wins and losses. One loses, one wins, the other loses, etc.', 'When two rivals compete over something, they might get into a dispute in hopes of winning over one another.']\n",
      "generated_explanation: <pad> <extra_id_0> When two people are competing, they may get into an argument.<extra_id_1> </s>\n",
      "score: 0.7457666397094727\n",
      "question: If you're releasing energy through running, what will you likely find on your skin?\n",
      "answer: sweat\n",
      "common_expl_list: ['Exercise produces sweat! Excessive exercise can lead to dehydration, but sweating is a natural way your body has of maintaining a healthy balance in body heat.', 'Sweat is a common product of exercise, and it can be released through running.', 'Sweat is a byproduct of exercise, and it is often associated with exercise.']\n",
      "generated_explanation: <pad> <extra_id_0> Running is a form of energy release, and sweating is a way to release energy.<extra_id_1> </s>\n",
      "score: 0.7837968468666077\n",
      "question: What is a good thing to do while eating?\n",
      "answer: drink\n",
      "common_expl_list: [\"Usually, while one's eating, the best thing to do is to drink some water. Failing to drink water while eating (especially while eating the spicy food of an ethnic cuisine) can cause dehydration and lead to health problems.\", 'Because of the importance of hydration and refreshment associated with eating and drinking, commonly people drink while eating.', 'A good thing to do while people are eating is to drink an accompanying beverage; typically, such beverages are liquids.']\n",
      "generated_explanation: <pad> <extra_id_0> Drinking is a good thing to do while eating, because it dilutes the food, which is good for you.<extra_id_1> </s>\n",
      "score: 0.7198871970176697\n"
     ]
    },
    {
     "name": "stderr",
     "output_type": "stream",
     "text": [
      " 51%|████████████████████████████████████████████████████████████████████████████████████▌                                                                                | 505/986 [00:24<00:23, 20.79it/s]"
     ]
    },
    {
     "name": "stdout",
     "output_type": "stream",
     "text": [
      "question: A person who does good to others garners what pleasing quality in their reputation?\n",
      "answer: admiration\n",
      "common_expl_list: ['A person who does good to others garners admiration in their reputation, and often themselves feel rewarded for their act of goodwill.', 'Someone who is willing to help other people in need would likely be accepted by others and be looked up to for having a good reputation.', 'People who do good to others are often admired for their good deeds.', 'The world often admires those who do good to others, giving them credit or recognition for their good deeds.']\n",
      "generated_explanation: <pad> <extra_id_0> People are drawn to good deeds, and those who do good deeds are admired by others.<extra_id_1> </s>\n",
      "score: 0.8501218557357788\n",
      "question: What does a real estate agent typically do when describing homes?\n",
      "answer: exaggerate\n",
      "common_expl_list: ['When describing a house, the agent will typically amplify positive characteristics and make them seem greater than they are (e.g., \"The ceilings are 10 feet tall!\").', 'Real estate agents are often paid on commission, and therefore have an incentive to exaggerate the positive aspects of a home.']\n",
      "generated_explanation: <pad> <extra_id_0> Real estate agents often exaggerate when describing homes, in order to make the homes appear larger and more luxurious.<extra_id_1> </s>\n",
      "score: 0.7693231105804443\n"
     ]
    },
    {
     "name": "stderr",
     "output_type": "stream",
     "text": [
      " 52%|█████████████████████████████████████████████████████████████████████████████████████▌                                                                               | 511/986 [00:25<00:22, 20.76it/s]"
     ]
    },
    {
     "name": "stdout",
     "output_type": "stream",
     "text": [
      "question: What will children do with dodge balls?\n",
      "answer: throw things\n",
      "common_expl_list: ['Dodge balls are used to play dodgeball; in dodgeball, one physically throws the ball in an attempt to hit the opposing teams players.', 'Dodgeball is a type of game where the players throw balls at each other. Other possible options could include playing sports or watching TV.']\n",
      "generated_explanation: <pad> <extra_id_0> Dodge balls are used to throw objects, and children often throw things with them.<extra_id_1> </s>\n",
      "score: 0.8055157661437988\n",
      "question: The people wanted to do a demonstration, where did they decide to do it?\n",
      "answer: public place\n",
      "common_expl_list: ['Demonstrations often take place in public spaces; for example, at the entrance to a retail store, or a busy street.', 'Demonstrations are often held in public places, e.g., parks, or on the sidewalk in front of a government building.', 'When demonstrating about a cause, often you choose to do it in a public place, often where it will have great visibility, such as a city street, outside of a shopping mall, etc.', 'Demonstrations commonly take place in public on sidewalks, on roadsides, or in front of government buildings.', 'Demonstrations often confront perceived social injustices, or political opinions, in a public place; e.g., a town plaza, university green, or city street.']\n",
      "generated_explanation: <pad> <extra_id_0> Demonstrations often take place in public places, and if people wanted to hold one, they would need to find a public place to do it.<extra_id_1> </s>\n",
      "score: 0.7627775073051453\n"
     ]
    },
    {
     "name": "stderr",
     "output_type": "stream",
     "text": [
      " 52%|██████████████████████████████████████████████████████████████████████████████████████▌                                                                              | 517/986 [00:25<00:23, 19.97it/s]"
     ]
    },
    {
     "name": "stdout",
     "output_type": "stream",
     "text": [
      "question: What is a corrupt government likely to lead to?\n",
      "answer: trouble\n",
      "common_expl_list: ['When governments are corrupt, they can lead to chaos, in which practical services are no longer operating. In addition, corruption leads to suspicion and distrust within the government, and often lays the groundwork for lawlessness and crime.', 'A corrupt government is likely to lead to trouble, as it is not providing the services it is supposed to.']\n",
      "generated_explanation: <pad> <extra_id_0> Corrupt governments are often in power because of a lack of accountability, which can lead to abuses of power.<extra_id_1> </s>\n",
      "score: 0.7419451475143433\n",
      "question: The college freshmen was set on getting a fresh start, he was determined on making friends so did lots of what?\n",
      "answer: talking\n",
      "common_expl_list: ['Lots of people set on getting a fresh start would probably do lots of talking, because talking is important for befriending other people.', 'Making friends often involves talking to people, and if someone is determined to make friends, they might talk to lots of people.', 'Talking to lots of people is a good way to get friends, and making friends is a sure sign of getting a fresh start.']\n",
      "generated_explanation: <pad> <extra_id_0> Freshmen in college are often determined to make friends, and making friends involves talking to other students about their interests and goals.<extra_id_1> </s>\n",
      "score: 0.7404339909553528\n"
     ]
    },
    {
     "name": "stderr",
     "output_type": "stream",
     "text": [
      " 54%|████████████████████████████████████████████████████████████████████████████████████████▌                                                                            | 529/986 [00:25<00:22, 20.54it/s]"
     ]
    },
    {
     "name": "stdout",
     "output_type": "stream",
     "text": [
      "question: What can be the result of having an unhealthy lunch?\n",
      "answer: heartburn\n",
      "common_expl_list: ['Heartburn is a digestive problem where the stomach produces excess stomach acid, which can end up causing heartburn in the oesophagus, a burning sensation in your chest. An unhealth meal is one which produces a lot of acid, which can', 'Eating unhealthy meals might lead to indigestion, or heartburn.', 'Eating unhealthy foods might leave someone with heartburn.', 'Heartburn is a common symptom of eating unhealthy foods, and it can be caused by eating too much greasy food.']\n",
      "generated_explanation: <pad> <extra_id_0> Eating an unhealthy lunch can cause heartburn, which is caused by the digestion of the foods that you have eaten.<extra_id_1> </s>\n",
      "score: 0.8217045068740845\n",
      "question: Where do you go to see a dinosaur bone?\n",
      "answer: museum\n",
      "common_expl_list: ['Dinosaur bones are not normally in tombs (unless their discovery happened during the excavation of a tomb) or arms (ego bones). Most dinosaur bones come from dead dinosaurs, so they are more likely to be found in museums, or in an excavation', 'Museums are where you usually go to see dinosaur fossils, artifacts from long-ago civilizations, and other cultural history.']\n",
      "generated_explanation: <pad> <extra_id_0> A dinosaur bone can be found in a museum, and you can see it there.<extra_id_1> </s>\n",
      "score: 0.711379885673523\n",
      "question: To prevent any glare during the big football game he made sure to clean the dust of his what?\n",
      "answer: television\n",
      "common_expl_list: ['If you want to watch a football game, you might want to clean the dust off your television.']\n",
      "generated_explanation: <pad> <extra_id_0> Televisions are often used to broadcast sporting events, and to prevent glare, people often clean the screens before watching the games.<extra_id_1> </s>\n",
      "score: 0.7120095491409302\n"
     ]
    },
    {
     "name": "stderr",
     "output_type": "stream",
     "text": [
      "\r",
      " 54%|█████████████████████████████████████████████████████████████████████████████████████████                                                                            | 532/986 [00:26<00:22, 20.55it/s]"
     ]
    },
    {
     "name": "stdout",
     "output_type": "stream",
     "text": [
      "question: What accused of committing a murder what is a person facing?\n",
      "answer: jail time\n",
      "common_expl_list: ['Because they committed a crime (crime = murder) a person will face jail time.', 'A person accused of a murder might have to appear in court, where the judge would decide if jail time would be appropriate.']\n",
      "generated_explanation: <pad> <extra_id_0> A person who is accused of committing a murder is likely to face jail time.<extra_id_1> </s>\n",
      "score: 0.7366730570793152\n",
      "question: Two year college degrees are either an associates of science or an associates of what?\n",
      "answer: arts\n",
      "common_expl_list: ['Associates degrees are typically awarded in a field of study such as art or science, and awards with the word Arts in them seem to indicate people focused on the arts, rather than on the sciences.', 'Two-year degrees are usually grants in the arts or sciences.']\n",
      "generated_explanation: <pad> <extra_id_0> Two year colleges usually offer a two year degree program, and the degree can be either in science or in arts.<extra_id_1> </s>\n",
      "score: 0.7478398084640503\n"
     ]
    },
    {
     "name": "stderr",
     "output_type": "stream",
     "text": [
      " 55%|██████████████████████████████████████████████████████████████████████████████████████████                                                                           | 538/986 [00:26<00:21, 20.57it/s]"
     ]
    },
    {
     "name": "stdout",
     "output_type": "stream",
     "text": [
      "question: What would a sick person do if he or she is not treated?\n",
      "answer: throw up\n",
      "common_expl_list: ['Many people do not feel well when they are sick. When one eats bad food or does too much physical activity, they may feel nauseous and vomit.', 'Ill people are prone to sickness, therefore, if they are not treated, they will feel dangerous contractions that make them hurl.']\n",
      "generated_explanation: <pad> <extra_id_0> Sick people are often contagious, and if they are not treated, they may become very ill. If this happens, they may throw up.<extra_id_1> </s>\n",
      "score: 0.7316299676895142\n",
      "question: What causes an apple tree to grow?\n",
      "answer: sunshine\n",
      "common_expl_list: ['Apple trees typically grow in sunny places, such as outside.']\n",
      "generated_explanation: <pad> <extra_id_0> Apple trees are grown in sunny areas, and they therefore require sunlight to grow.<extra_id_1> </s>\n",
      "score: 0.8007264733314514\n"
     ]
    },
    {
     "name": "stderr",
     "output_type": "stream",
     "text": [
      " 56%|████████████████████████████████████████████████████████████████████████████████████████████▌                                                                        | 553/986 [00:27<00:20, 20.73it/s]"
     ]
    },
    {
     "name": "stdout",
     "output_type": "stream",
     "text": [
      "question: The graphic designer worked in tile, these digital tiles made up the maps of a what?\n",
      "answer: computer game\n",
      "common_expl_list: ['The graphics in a game could be made up of virtual tiles, and each individual tile in a game could be different.']\n",
      "generated_explanation: <pad> <extra_id_0> Computer games are played using maps, which are created digitally using a graphic design program.<extra_id_1> </s>\n",
      "score: 0.7674068808555603\n",
      "question: Where could you put some olives if you want to cook them?\n",
      "answer: pizza\n",
      "common_expl_list: ['Olives are often used on pizza, and are therefore often put on pizza.']\n",
      "generated_explanation: <pad> <extra_id_0> Olives are often added to pizzas, and pizzas are often baked.<extra_id_1> </s>\n",
      "score: 0.7387425303459167\n",
      "question: I person is likely to say they are what after a good dance?\n",
      "answer: am happy\n",
      "common_expl_list: ['Dancing is often pleasurable, and after a good dance, people can feel happy, content, and carefree.', 'After attending a nice dance, one will likely have a strong desire to go on and express their happiness, want to meet new people, and be able to say that they had a good time.', 'After enjoyable dances, people tend feel happy about the dance.']\n",
      "generated_explanation: <pad> <extra_id_0> A good dance is a way to express happiness, and people often say they are happy after a good dance.<extra_id_1> </s>\n",
      "score: 0.7744762897491455\n"
     ]
    },
    {
     "name": "stderr",
     "output_type": "stream",
     "text": [
      " 57%|█████████████████████████████████████████████████████████████████████████████████████████████▌                                                                       | 559/986 [00:27<00:20, 20.76it/s]"
     ]
    },
    {
     "name": "stdout",
     "output_type": "stream",
     "text": [
      "question: When they got a divorce, they stopped talking to each other, so what did they have?\n",
      "answer: bad feelings\n",
      "common_expl_list: ['When divorces occur, the ex-partners sometimes turn to bad feelings such as anger or hurt in order to deal with the loss of the relationship they were in.']\n",
      "generated_explanation: <pad> <extra_id_0> Divorces are difficult because spouses often have bad feelings towards each other after the divorce.<extra_id_1> </s>\n",
      "score: 0.7060536742210388\n"
     ]
    },
    {
     "name": "stderr",
     "output_type": "stream",
     "text": [
      " 57%|██████████████████████████████████████████████████████████████████████████████████████████████▌                                                                      | 565/986 [00:27<00:20, 20.56it/s]"
     ]
    },
    {
     "name": "stdout",
     "output_type": "stream",
     "text": [
      "question: The man passed out from drinking alcohol, what did his brain suffer from?\n",
      "answer: toxicity\n",
      "common_expl_list: ['Alcohol toxicity involves negative chemical changes in the brain, in this case excessive consumption of alcohol can result in excessive activation of chemical signalling.', 'Brain cells are sensitive to alcohol, and alcohol toxicity can occur when one drinks alcohol after their brain cells have been saturated with alcohol. Damage can therefore occur without someone usually associated with alcohol-diseases, e.g., alcohol poisoning.', 'Alcohol might result in brain toxins, which can alter its normal function.', 'Alcohol is toxic to the brain, and can cause it to suffer from toxicity.', \"Alcohol can lead to excess alcohol poisoning, or alcohol toxicity. This may weaken a person's brain, making it not function well.\"]\n",
      "generated_explanation: <pad> <extra_id_0> Alcohol is a depressant, and depressants can cause toxicity in the brain.<extra_id_1> </s>\n",
      "score: 0.7308825850486755\n",
      "question: Where can you find cord along side nails and bolts?\n",
      "answer: hardware store\n",
      "common_expl_list: ['You can find cord along side nails/bolts at hardware stores, because they generally sell hardware along with paint, hardware tools, and nails/bolts.', 'Hardware stores sell cords along with nails, screws, bolts, and so forth.', 'Hardware stores sell cord along with nails and bolts.']\n",
      "generated_explanation: <pad> <extra_id_0> Hardware stores often sell building supplies, and cord is one of those building supplies.<extra_id_1> </s>\n",
      "score: 0.7108429670333862\n",
      "question: How do central banks go about fighting inflation?\n",
      "answer: deflation\n",
      "common_expl_list: ['Inflation is a rise in the general level of prices of goods and services in an economy over a period of time. Central banks can fight inflation by decreasing the money supply, which can lead to deflation.']\n",
      "generated_explanation: <pad> <extra_id_0> Central banks fight inflation by attempting to reduce the price level through various means, including deflation.<extra_id_1> </s>\n",
      "score: 0.7682927250862122\n"
     ]
    },
    {
     "name": "stderr",
     "output_type": "stream",
     "text": [
      " 58%|███████████████████████████████████████████████████████████████████████████████████████████████▌                                                                     | 571/986 [00:27<00:20, 20.68it/s]"
     ]
    },
    {
     "name": "stdout",
     "output_type": "stream",
     "text": [
      "question: What is a good thing about playing football?\n",
      "answer: having fun\n",
      "common_expl_list: ['Football players often compete on teams and have fun by doing so, so it is a good thing about playing football.', 'Football is a game that is played for fun, and it is a popular sport.']\n",
      "generated_explanation: <pad> <extra_id_0> Football is a contact sport, which means that players must be able to make accurate throws.<extra_id_1> </s>\n",
      "score: 0.19431528449058533\n",
      "question: Reading a newspaper gives you a what about local current events?\n",
      "answer: education\n",
      "common_expl_list: ['Reading a newspaper provides information about local news and developments.', 'Reading a newspaper gives you knowledge about current events.']\n",
      "generated_explanation: <pad> <extra_id_0> Newspapers are published daily, and contain articles about local current events.<extra_id_1> </s>\n",
      "score: 0.7374205589294434\n"
     ]
    },
    {
     "name": "stderr",
     "output_type": "stream",
     "text": [
      " 59%|█████████████████████████████████████████████████████████████████████████████████████████████████                                                                    | 580/986 [00:28<00:19, 20.70it/s]"
     ]
    },
    {
     "name": "stdout",
     "output_type": "stream",
     "text": [
      "question: When giving assistance to family members in need you may feel what?\n",
      "answer: pleasure\n",
      "common_expl_list: ['A sense of fulfillment comes from helping those in need.']\n",
      "generated_explanation: <pad> <extra_id_0> When you help family members, you may feel a sense of satisfaction and well-being.<extra_id_1> </s>\n",
      "score: 0.7046266198158264\n",
      "question: Houses require a study what to be built on?\n",
      "answer: foundation\n",
      "common_expl_list: ['Houses require a foundation to be built on.']\n",
      "generated_explanation: <pad> <extra_id_0> Houses are built on foundations, and foundations require studies.<extra_id_1> </s>\n",
      "score: 0.770593523979187\n"
     ]
    },
    {
     "name": "stderr",
     "output_type": "stream",
     "text": [
      "\r",
      " 59%|█████████████████████████████████████████████████████████████████████████████████████████████████▌                                                                   | 583/986 [00:28<00:19, 20.74it/s]"
     ]
    },
    {
     "name": "stdout",
     "output_type": "stream",
     "text": [
      "question: What might learning about science  lead to?\n",
      "answer: new ideas\n",
      "common_expl_list: ['Running experiments and learning science could spark new ideas, sometimes leading to inventions. Science and learning can also lead to a better understanding of the world, which may lead to an invention that changes things around you, so that you can avoid having accidents.', 'Science may lead to new ideas. Inventions and scientific discoveries tend to lead to new ideas and inventions.', 'Science is a way of learning about the world, and new ideas can be formed from this.']\n",
      "generated_explanation: <pad> <extra_id_0> Science is a broad field that deals with many different topics, and it's possible that studying a particular topic in depth could lead to the development of new ideas.<extra_id_1> </s>\n",
      "score: 0.7495638728141785\n",
      "question: In December how can you throw water at your friends?\n",
      "answer: snowball\n",
      "common_expl_list: ['Snowballs are made of snow, which is water.']\n",
      "generated_explanation: <pad> <extra_id_0> Snowballs are made of ice and water, and are thrown at people in cold weather.<extra_id_1> </s>\n",
      "score: 0.7236143350601196\n"
     ]
    },
    {
     "name": "stderr",
     "output_type": "stream",
     "text": [
      " 60%|██████████████████████████████████████████████████████████████████████████████████████████████████▌                                                                  | 589/986 [00:28<00:19, 20.77it/s]"
     ]
    },
    {
     "name": "stdout",
     "output_type": "stream",
     "text": [
      "question: Where can one use opera glasses?\n",
      "answer: theater\n",
      "common_expl_list: ['Opera glasses are often used in theatres, where patrons can better observe the fine details of performances.']\n",
      "generated_explanation: <pad> <extra_id_0> Operas are often performed in theaters, and opera glasses are often worn by the actors in the plays.<extra_id_1> </s>\n",
      "score: 0.7075614929199219\n"
     ]
    },
    {
     "name": "stderr",
     "output_type": "stream",
     "text": [
      " 60%|███████████████████████████████████████████████████████████████████████████████████████████████████▌                                                                 | 595/986 [00:29<00:18, 20.79it/s]"
     ]
    },
    {
     "name": "stdout",
     "output_type": "stream",
     "text": [
      "question: What kind of water comes from a faucet?\n",
      "answer: room temperature\n",
      "common_expl_list: ['Water that comes from a faucet is usually room temperature.', 'Water most commonly exits a building through a faucet , and tap water (water from faucets) is typically room temperature.']\n",
      "generated_explanation: <pad> <extra_id_0> Water that comes from a faucet is usually room temperature.<extra_id_1> </s>\n",
      "score: 0.7083461880683899\n",
      "question: Something that you need to have inside of you when opening a business is a lot of?\n",
      "answer: determination\n",
      "common_expl_list: ['Determination is needed to start a business, because you need to be motivated to do so.', \"Starting a business often requires determination (and creativity, too!) in order to get it off the ground. An entrepreneur needs to be determined because if the business succeeds, it generally won't be easy. A successful business means a lot of hard work in\", 'You need a lot of determination and drive to make a business successful (and to succeed, as a whole, in general).']\n",
      "generated_explanation: <pad> <extra_id_0> Opening a business requires a lot of determination.<extra_id_1> </s>\n",
      "score: 0.7143580913543701\n",
      "question: Where might someone drive through rows of apple tree?\n",
      "answer: countryside\n",
      "common_expl_list: ['Apple trees are commonly found in the countryside.', 'Apple tree orchards are grown in the countryside, not in cities just outside of it.']\n",
      "generated_explanation: <pad> <extra_id_0> Apple trees are often found in the countryside, and driving through such a landscape might involve passing through several rows of trees.<extra_id_1> </s>\n",
      "score: 0.844609260559082\n"
     ]
    },
    {
     "name": "stderr",
     "output_type": "stream",
     "text": [
      " 61%|█████████████████████████████████████████████████████████████████████████████████████████████████████                                                                | 604/986 [00:29<00:18, 20.68it/s]"
     ]
    },
    {
     "name": "stdout",
     "output_type": "stream",
     "text": [
      "question: A human wants to go shopping in a dense urban area.  Where might be a good place for a person to go shopping?\n",
      "answer: downtown\n",
      "common_expl_list: ['Most stores and businesses are located downtown, on city blocks or on streets.', 'Downtown areas are typically where people go to shop in cities.']\n",
      "generated_explanation: <pad> <extra_id_0> Downtown areas are densely populated and therefore, shopping is likely to be very convenient.<extra_id_1> </s>\n",
      "score: 0.7700607776641846\n",
      "question: What is a mobile launching platform found in the ocean?\n",
      "answer: aircraft carrier\n",
      "common_expl_list: ['Airplanes launch off of aircraft carriers that are located on the ocean.', 'Aircraft carriers are large ships that carry airplanes, and are used to launch airplanes.']\n",
      "generated_explanation: <pad> <extra_id_0> An aircraft carrier is a ship that can launch aircraft from a launch pad on top of a ship, usually in the ocean.<extra_id_1> </s>\n",
      "score: 0.7214407324790955\n",
      "question: James was planning a vacation. he was doing this because he worked hard and needed something. What did he need?\n",
      "answer: relaxation\n",
      "common_expl_list: ['People on vacation often seek out relaxation.', 'James was planning a vacation because he worked hard and needed to relax.', 'He worked hard; he needed relaxation.']\n",
      "generated_explanation: <pad> <extra_id_0> Vacations are often taken to relax after working hard all week, and James was planning a relaxing vacation.<extra_id_1> </s>\n",
      "score: 0.7333347797393799\n"
     ]
    },
    {
     "name": "stderr",
     "output_type": "stream",
     "text": [
      " 62%|██████████████████████████████████████████████████████████████████████████████████████████████████████▌                                                              | 613/986 [00:29<00:18, 20.67it/s]"
     ]
    },
    {
     "name": "stdout",
     "output_type": "stream",
     "text": [
      "question: Where will you find more than one door?\n",
      "answer: apartment\n",
      "common_expl_list: ['Apartments have multiple doors, one for each apartment.', 'An apartment complex has multiple entries.']\n",
      "generated_explanation: <pad> <extra_id_0> Apartments are often divided into several rooms, each of which has a door.<extra_id_1> </s>\n",
      "score: 0.7216463088989258\n"
     ]
    },
    {
     "name": "stderr",
     "output_type": "stream",
     "text": [
      " 63%|███████████████████████████████████████████████████████████████████████████████████████████████████████▌                                                             | 619/986 [00:30<00:17, 20.70it/s]"
     ]
    },
    {
     "name": "stdout",
     "output_type": "stream",
     "text": [
      "question: What is a popular pork bbq dish?\n",
      "answer: ribs\n",
      "common_expl_list: ['BBQ Pork rib is a popular food in the southern USA.', 'Pork ribs are a popular bbq dish.']\n",
      "generated_explanation: <pad> <extra_id_0> Pork ribs are a popular pork bbq dish.<extra_id_1> </s>\n",
      "score: 0.7401165962219238\n",
      "question: What is something you do at a concert?\n",
      "answer: make noise\n",
      "common_expl_list: ['People often make noise at concerts, e.g., by clapping, cheering, or singing.', \"Most people attend concerts to listen to music together, so it's common to see hoots, hollers, side conversations, and shouting at concerts, making noise.\"]\n",
      "generated_explanation: <pad> <extra_id_0> Concerts are often held in large open spaces, and people make noise to attract attention.<extra_id_1> </s>\n",
      "score: 0.7695095539093018\n",
      "question: The king needed to feel safe, where did he go?\n",
      "answer: castle\n",
      "common_expl_list: ['Castles usually have lots of guards and security features. That way, they can provide a lot of protection to those inside.', 'A castle is a fortified building, and thus, it is a safe place to be.']\n",
      "generated_explanation: <pad> <extra_id_0> Castles are places where kings and their families are kept safe from harm.<extra_id_1> </s>\n",
      "score: 0.7090911865234375\n"
     ]
    },
    {
     "name": "stderr",
     "output_type": "stream",
     "text": [
      " 64%|█████████████████████████████████████████████████████████████████████████████████████████████████████████                                                            | 628/986 [00:30<00:17, 20.74it/s]"
     ]
    },
    {
     "name": "stdout",
     "output_type": "stream",
     "text": [
      "question: Feet that have been in boots all day will what?\n",
      "answer: stink\n",
      "common_expl_list: ['Feet can have a buildup of sweat and bacteria that get really strong if you keep them in boots all day!']\n",
      "generated_explanation: <pad> <extra_id_0> Boots are designed to keep feet warm, and to prevent sweating.<extra_id_1> </s>\n",
      "score: 0.13486778736114502\n",
      "question: What would cause someone to have to re illustrate point?\n",
      "answer: did not understand\n",
      "common_expl_list: ['When you understand a concept taught by a teacher, little or no illustration needs to be done. In a similar sense, when you do not understand a concept, more illustration is needed to understand the concept.']\n",
      "generated_explanation: <pad> <extra_id_0> A person may have to re illustrate a point if they did not understand it the first time.<extra_id_1> </s>\n",
      "score: 0.7033515572547913\n",
      "question: If you need more information on a subject you can read books to what?\n",
      "answer: further knowledge\n",
      "common_expl_list: [\"A subject that is interesting to you may require further knowledge on the subject; if you want to learn more, you'd read related books to learn more about the subject.\", 'Books are a good source of information, and so if you need more information on a subject, you can read books to get it.']\n",
      "generated_explanation: <pad> <extra_id_0> Books contain information, and reading them can further your knowledge of a subject.<extra_id_1> </s>\n",
      "score: 0.7011004686355591\n"
     ]
    },
    {
     "name": "stderr",
     "output_type": "stream",
     "text": [
      " 64%|██████████████████████████████████████████████████████████████████████████████████████████████████████████                                                           | 634/986 [00:30<00:17, 20.64it/s]"
     ]
    },
    {
     "name": "stdout",
     "output_type": "stream",
     "text": [
      "question: If a person is feeling sick, but has a project to finish, what should they do?\n",
      "answer: work at home\n",
      "common_expl_list: ['The person should finish work at home to avoid missing work as they are ill. At home, they are also close to home to get treatment.', \"If the person has a project to finish, and they're feeling sick, they shouldn't miss work, so they should work from home.\"]\n",
      "generated_explanation: <pad> <extra_id_0> If a person is feeling sick, it's often a good idea to work from home to finish a project.<extra_id_1> </s>\n",
      "score: 0.783964991569519\n"
     ]
    },
    {
     "name": "stderr",
     "output_type": "stream",
     "text": [
      " 66%|████████████████████████████████████████████████████████████████████████████████████████████████████████████                                                         | 646/986 [00:31<00:16, 20.65it/s]"
     ]
    },
    {
     "name": "stdout",
     "output_type": "stream",
     "text": [
      "question: If I wanted to travel and get bar service, what is one of my best options?\n",
      "answer: train\n",
      "common_expl_list: ['Trains are often used to do tourist trains, and thus would likely have a bar or provide bar service.']\n",
      "generated_explanation: <pad> <extra_id_0> Trains are convenient ways to travel, and many of them have bars.<extra_id_1> </s>\n",
      "score: 0.770074188709259\n",
      "question: How do you signal that you are agreeing with someone on a deal?\n",
      "answer: shaking hand\n",
      "common_expl_list: ['When two people agree on a deal, they may shake hands to signal that they are in agreement.', 'When two parties agree on a deal, they typically shake hands to signify agreement.', 'When people make deals with each other, they often shake hands before or after making a deal.']\n",
      "generated_explanation: <pad> <extra_id_0> Shaking hands is a sign of agreement, and it is often used in business negotiations.<extra_id_1> </s>\n",
      "score: 0.8042615056037903\n",
      "question: What could you put a ruler either on top of or into?\n",
      "answer: desk\n",
      "common_expl_list: [\"Desks are likely to have rulers in them, and even if they don't have rulers, sometimes they have either a pencil cup or one of those plastic cups on top which would allow you to put a ruler on top.\", 'Many types of rulers can be put on desks to be used, and many rulers can be put into desks as well to be stored. In fact, in many types of desks, rulers are made a part of the desk itself for storage purposes.']\n",
      "generated_explanation: <pad> <extra_id_0> A desk is a surface on which things can be placed, such as files or books. A ruler could be placed on top of or into a desk.<extra_id_1> </s>\n",
      "score: 0.7644148468971252\n"
     ]
    },
    {
     "name": "stderr",
     "output_type": "stream",
     "text": [
      " 66%|█████████████████████████████████████████████████████████████████████████████████████████████████████████████▌                                                       | 655/986 [00:31<00:15, 20.71it/s]"
     ]
    },
    {
     "name": "stdout",
     "output_type": "stream",
     "text": [
      "question: The romantic vacation had gone perfectly, she had always wanted this moment of sitting at a cafe on the streets of where?\n",
      "answer: paris\n",
      "common_expl_list: ['Paris is a romantic place, largely because of famous facades in the city, and cafes in Paris are also quite famous.']\n",
      "generated_explanation: <pad> <extra_id_0> Paris is a city in France, and a romantic vacation there can be a wonderful experience.<extra_id_1> </s>\n",
      "score: 0.7007261514663696\n",
      "question: Where might a traveler keep their comb?\n",
      "answer: suitcase\n",
      "common_expl_list: [\"A comb is a small item that could be kept in a pocket, but it's more likely to be kept in a suitcase, which is a large item that is likely to be kept in a traveler's hotel room.\"]\n",
      "generated_explanation: <pad> <extra_id_0> A traveler's suitcase is likely to contain small items, such as a comb, which might be useful while traveling.<extra_id_1> </s>\n",
      "score: 0.7701511383056641\n",
      "question: What does the D in DRC stand for?\n",
      "answer: democratic\n",
      "common_expl_list: [\"Democratic Republic of Congo is a central Africa nation that is democratic. It's name stands for Democratic Republic of Congo. The D stands for democratic, which is the political, economic, and social structure they are practicing.\"]\n",
      "generated_explanation: <pad> <extra_id_0> The Democratic Republic of the Congo is a democratic country, and as such, its government is democratically elected.<extra_id_1> </s>\n",
      "score: 0.8353986144065857\n"
     ]
    },
    {
     "name": "stderr",
     "output_type": "stream",
     "text": [
      " 67%|██████████████████████████████████████████████████████████████████████████████████████████████████████████████▌                                                      | 661/986 [00:32<00:15, 20.70it/s]"
     ]
    },
    {
     "name": "stdout",
     "output_type": "stream",
     "text": [
      "question: Where can you buy clothing, sporting goods, and housewares?\n",
      "answer: department store\n",
      "common_expl_list: ['Department stores often sell not only clothing, sporting goods, and housewares, but also other things such as groceries, toys, and furniture.', 'Department stores sell a variety of goods, including clothing, sporting goods, and housewares.']\n",
      "generated_explanation: <pad> <extra_id_0> Department stores often sell a variety of goods, including clothing, sporting goods, and housewares.<extra_id_1> </s>\n",
      "score: 0.8714004158973694\n",
      "question: What would cause a person to have  headaches?\n",
      "answer: brain tumor\n",
      "common_expl_list: ['A brain tumor can inflame part of the brain, resulting in headaches.', 'An undiagnosed brain tumor would be a cause for headaches.']\n",
      "generated_explanation: <pad> <extra_id_0> A brain tumor is a malignant growth that occurs in the brain. A brain tumor can cause headaches because it is pressing on nearby nerves.<extra_id_1> </s>\n",
      "score: 0.7660672068595886\n",
      "question: You eat popcorn when you go to see what?\n",
      "answer: movies\n",
      "common_expl_list: [\"The movie theater is oftentimes combined with a popcorn concession, so it's common to choose popcorn during the movie.\", 'Popcorn is a common snack at movie theaters.', 'The theater is the place that presents movies. If you are seeing a movie, you might enjoy some snacks like popcorn or a hotdog.']\n",
      "generated_explanation: <pad> <extra_id_0> Popcorn is a snack food that is often served at movies, and people often eat it while watching the movie.<extra_id_1> </s>\n",
      "score: 0.7794120907783508\n"
     ]
    },
    {
     "name": "stderr",
     "output_type": "stream",
     "text": [
      " 68%|███████████████████████████████████████████████████████████████████████████████████████████████████████████████▌                                                     | 667/986 [00:32<00:15, 20.65it/s]"
     ]
    },
    {
     "name": "stdout",
     "output_type": "stream",
     "text": [
      "question: Where might I find a bowl nestled among other bowls in the kitchen?\n",
      "answer: cupboard\n",
      "common_expl_list: ['A cupboard is a type of interior wall cabinet used for storage. A bowl could feasibly be inside of it.', 'Bowls are usually stored in cupboards.']\n",
      "generated_explanation: <pad> <extra_id_0> A cupboard is a storage space for items, and bowls are often stored in cupboards.<extra_id_1> </s>\n",
      "score: 0.8103389739990234\n",
      "question: If you ate some spicy food, what could happen to you?\n",
      "answer: heartburn\n",
      "common_expl_list: ['Spicy food can cause heartburn, which is a burning sensation in the chest.']\n",
      "generated_explanation: <pad> <extra_id_0> Spicy foods can cause heartburn when they are eaten too hot.<extra_id_1> </s>\n",
      "score: 0.7168131470680237\n",
      "question: Why might someone want to be buying beer?\n",
      "answer: pleasure\n",
      "common_expl_list: ['Many people drink beer for the positive feeling of intoxification.', 'People often want to drink beer in order to feel pleasured by the drug-like effects of alcohol, or just feel pleasure in general.', 'Many people enjoy drinking beer, and so they might buy beer, especially if they wanted to get intoxicated.', 'Beer is commonly consumed recreationally.']\n",
      "generated_explanation: <pad> <extra_id_0> Beer is a beverage that people buy for pleasure, and buying it can provide a sense of pleasure.<extra_id_1> </s>\n",
      "score: 0.8401689529418945\n"
     ]
    },
    {
     "name": "stderr",
     "output_type": "stream",
     "text": [
      " 69%|█████████████████████████████████████████████████████████████████████████████████████████████████████████████████                                                    | 676/986 [00:32<00:14, 20.68it/s]"
     ]
    },
    {
     "name": "stdout",
     "output_type": "stream",
     "text": [
      "question: The person was looking for the bus arrival time, what did he do with the station schedule?\n",
      "answer: read text\n",
      "common_expl_list: ['If someone is lookingat a bus schedule, he or she would want to view the times, and these times are indicated in a way, i.e., text.', 'The schedule would contain al of the relevant information to when the bus would arrive at the bus station, and reading the schedule is the typical way to find this information.', 'The station schedule is likely to be printed on a piece of paper, and so if a person was reading it, they could be looking for the bus arrival time.', 'The station schedule is usually expressed in text.']\n",
      "generated_explanation: <pad> <extra_id_0> Bus arrival times are displayed on station schedules, and people often use them to plan their journeys.<extra_id_1> </s>\n",
      "score: 0.7645110487937927\n",
      "question: Where do uniformed officials search travelers looking for terrorists?\n",
      "answer: airport\n",
      "common_expl_list: ['Certain officials from many countries help to look for terrorists anywhere they may be found, i.e., in the airports they might use to fly from place to place, given they think terrorists could be looking to attack elsewhere, such as in Afghanistan.', 'An airport is one of many places where a person would go to and from different destinations; airports make sense for travelers. Participants in searches for terrorists in other countries would also be searching people leaving as opposed to entering the places.']\n",
      "generated_explanation: <pad> <extra_id_0> Airports are places where people can be searched for terrorists, and officials are trained to look for these individuals.<extra_id_1> </s>\n",
      "score: 0.7794009447097778\n",
      "question: The comforter was a favorite for cuddling in front of the TV, where did the family put it?\n",
      "answer: livingroom\n",
      "common_expl_list: ['The TV is likely to be in the living room in a family home.']\n",
      "generated_explanation: <pad> <extra_id_0> Living rooms are often used to watch TV, and if a family has a comforter, it's likely that the family would keep it in the livingroom.<extra_id_1> </s>\n",
      "score: 0.789984941482544\n"
     ]
    },
    {
     "name": "stderr",
     "output_type": "stream",
     "text": [
      " 69%|██████████████████████████████████████████████████████████████████████████████████████████████████████████████████▏                                                  | 682/986 [00:33<00:14, 20.70it/s]"
     ]
    },
    {
     "name": "stdout",
     "output_type": "stream",
     "text": [
      "question: Why would you be able to wait for someone?\n",
      "answer: have patience\n",
      "common_expl_list: [\"people can wait for other because they have patience; they'll be standing in one place, waiting for something.\"]\n",
      "generated_explanation: <pad> <extra_id_0> Patience is the quality of being able to wait for someone without getting impatient.<extra_id_1> </s>\n",
      "score: 0.7465910315513611\n"
     ]
    },
    {
     "name": "stderr",
     "output_type": "stream",
     "text": [
      " 70%|███████████████████████████████████████████████████████████████████████████████████████████████████████████████████▋                                                 | 691/986 [00:33<00:14, 20.75it/s]"
     ]
    },
    {
     "name": "stdout",
     "output_type": "stream",
     "text": [
      "question: Where would you put some coffee if you are thirsty?\n",
      "answer: cup\n",
      "common_expl_list: ['People drink beverages such as coffee and water from vessels like cups.']\n",
      "generated_explanation: <pad> <extra_id_0> Coffee is often drunk when one is thirsty, and a cup can hold liquids.<extra_id_1> </s>\n",
      "score: 0.7862059473991394\n",
      "question: Joe loved the smell of the food on their plates.  It really made his what flutter?\n",
      "answer: stomach\n",
      "common_expl_list: [\"Smells can stimulate people's appetite, particularly at the stomach.\", \"The smell of food can make one's stomach growl.\", 'Smells help give insights into whether a food is good or bad. This may cause your stomach to flutter.']\n",
      "generated_explanation: <pad> <extra_id_0> Food is odorous, and the smell of it can make your stomach flutter.<extra_id_1> </s>\n",
      "score: 0.717892050743103\n",
      "question: He used hair styling gel, he kept it where?\n",
      "answer: bathroom\n",
      "common_expl_list: ['Hair styling gel is used to style hair, and is often kept in the bathroom.']\n",
      "generated_explanation: <pad> <extra_id_0> Hair styling gel is a product that can be used to style hair. It is usually kept in the bathroom, because this is where people wash their hair.<extra_id_1> </s>\n",
      "score: 0.7535776495933533\n"
     ]
    },
    {
     "name": "stderr",
     "output_type": "stream",
     "text": [
      "\r",
      " 70%|████████████████████████████████████████████████████████████████████████████████████████████████████████████████████▏                                                | 694/986 [00:33<00:14, 20.70it/s]"
     ]
    },
    {
     "name": "stdout",
     "output_type": "stream",
     "text": [
      "question: The broadcast studio had a booth set up for interviews, the host sat down and adjusted his what so the audience could hear?\n",
      "answer: microphone\n",
      "common_expl_list: ['A microphone is used to pick up sound so that it can be fed to a radio or television station for broadcasting. The host of a show will usually have a microphone to pick up their voice.']\n",
      "generated_explanation: <pad> <extra_id_0> When a host conducts an interview, he or she usually sits down at a microphone, which he or she adjusts so that the audience can hear him.<extra_id_1> </s>\n",
      "score: 0.7247604131698608\n",
      "question: Where can you find millions of apple tree?\n",
      "answer: spain\n",
      "common_expl_list: ['Spain is the largest producer of apples in the world.']\n",
      "generated_explanation: <pad> <extra_id_0> Spain is a country with a large apple growing industry, and it's also a country with many apple trees.<extra_id_1> </s>\n",
      "score: 0.7274152040481567\n",
      "question: Where does a tabby cat go to get warm?\n",
      "answer: home\n",
      "common_expl_list: ['Tabbies are often kept as pets, and if they are indoors, they will be kept in a house or apartment, and not a barn.']\n",
      "generated_explanation: <pad> <extra_id_0> Tabby cats are warm-blooded, and will usually go to their homes to get warm.<extra_id_1> </s>\n",
      "score: 0.7813411951065063\n",
      "question: What appliance uses water and soap?\n",
      "answer: washing machine\n",
      "common_expl_list: ['washing machines are often used for washing clothes, clothes are washed using soapy water.', 'Washing machines require water and soap to wash clothes.', 'Washing machines use water and soap to clean clothes.']\n",
      "generated_explanation: <pad> <extra_id_0> A washing machine is a machine that washes clothes. To clean clothes, one must add water and soap to the water.<extra_id_1> </s>\n",
      "score: 0.7149491906166077\n"
     ]
    },
    {
     "name": "stderr",
     "output_type": "stream",
     "text": [
      " 72%|██████████████████████████████████████████████████████████████████████████████████████████████████████████████████████▋                                              | 709/986 [00:34<00:13, 20.72it/s]"
     ]
    },
    {
     "name": "stdout",
     "output_type": "stream",
     "text": [
      "question: Billy bounced the ball off the wall.  There was a target on the wall for him to bounce against.  Where might he be?\n",
      "answer: playroom\n",
      "common_expl_list: ['The target was on the wall, so the wall had to be the interior of a playroom, e.g., a room designed for recreational activity.']\n",
      "generated_explanation: <pad> <extra_id_0> Playrooms are often used by children to play, and a target on the wall might be a target for a ball to bounce off of.<extra_id_1> </s>\n",
      "score: 0.764613687992096\n",
      "question: Joe was driven by curiosity to take up a career doing what?\n",
      "answer: design software\n",
      "common_expl_list: ['Software designers are curious people.']\n",
      "generated_explanation: <pad> <extra_id_0> Design software is used to create computer programs, and curiosity about computers and software drives many people to pursue careers in this field.<extra_id_1> </s>\n",
      "score: 0.7340100407600403\n"
     ]
    },
    {
     "name": "stderr",
     "output_type": "stream",
     "text": [
      " 73%|████████████████████████████████████████████████████████████████████████████████████████████████████████████████████████▏                                            | 718/986 [00:35<00:12, 20.74it/s]"
     ]
    },
    {
     "name": "stdout",
     "output_type": "stream",
     "text": [
      "question: The archaeologist was seeing artifacts that he knew were fake, how did he feel?\n",
      "answer: angry\n",
      "common_expl_list: ['The archaeologist was angry because he knew the artifacts were fake, and he was probably thinking about how he could prove it.']\n",
      "generated_explanation: <pad> <extra_id_0> Fake artifacts are often sold at auctions, and the proceeds go to the consignor, not the museum.<extra_id_1> </s>\n",
      "score: 0.13467057049274445\n",
      "question: What is water rapids that are choppy considered?\n",
      "answer: dangerous\n",
      "common_expl_list: ['Water rapids are dangerous, as they can be choppy and unpredictable.', 'Choppy water is dangerous.']\n",
      "generated_explanation: <pad> <extra_id_0> Rapids are a type of water flow that can be choppy and therefore dangerous.<extra_id_1> </s>\n",
      "score: 0.737356960773468\n"
     ]
    },
    {
     "name": "stderr",
     "output_type": "stream",
     "text": [
      " 73%|█████████████████████████████████████████████████████████████████████████████████████████████████████████████████████████▏                                           | 724/986 [00:35<00:12, 20.73it/s]"
     ]
    },
    {
     "name": "stdout",
     "output_type": "stream",
     "text": [
      "question: In the city the family didn't have a back yard, but now they did since they lived in a what?\n",
      "answer: suburb\n",
      "common_expl_list: ['Most suburbs have yards, where families can do such things as have barbecues or cookouts.', 'Houses in suburbs are often equipped with back yards.', 'Those who live in suburban or exurban areas tend to live on plots of land which is subdivided into lots containing homes. Such sub-divisions tend to comprise homeowners (such as the newly-arrived family) and their associated backyards.', 'Suburbs are often characterized by having back yards.']\n",
      "generated_explanation: <pad> <extra_id_0> Suburbs are generally smaller than cities, and often have yards.<extra_id_1> </s>\n",
      "score: 0.7280055284500122\n",
      "question: How can a company get things to their customers?\n",
      "answer: ship goods\n",
      "common_expl_list: ['Companies can ship goods to customers, and this is the most plausible option.']\n",
      "generated_explanation: <pad> <extra_id_0> A company can ship goods to customers by using carriers such as shipping companies or postal services.<extra_id_1> </s>\n",
      "score: 0.7215169072151184\n"
     ]
    },
    {
     "name": "stderr",
     "output_type": "stream",
     "text": [
      " 74%|██████████████████████████████████████████████████████████████████████████████████████████████████████████████████████████▏                                          | 730/986 [00:35<00:12, 20.65it/s]"
     ]
    },
    {
     "name": "stdout",
     "output_type": "stream",
     "text": [
      "question: What places would have a cemetery?\n",
      "answer: most cities\n",
      "common_expl_list: ['Most cities have a cemetery, which is a place to bury corpses.']\n",
      "generated_explanation: <pad> <extra_id_0> Cities are often large enough that cemeteries are common. Therefore, cemeteries are often found in large cities.<extra_id_1> </s>\n",
      "score: 0.793189525604248\n"
     ]
    },
    {
     "name": "stderr",
     "output_type": "stream",
     "text": [
      " 75%|███████████████████████████████████████████████████████████████████████████████████████████████████████████████████████████▏                                         | 736/986 [00:35<00:12, 20.68it/s]"
     ]
    },
    {
     "name": "stdout",
     "output_type": "stream",
     "text": [
      "question: If a person has stage fright and is about to go on stage what will they experience?\n",
      "answer: anxiety\n",
      "common_expl_list: ['Anxiety is a feeling of worry or fear. Stage fright is a feeling of anxiety about performing in front of an audience.']\n",
      "generated_explanation: <pad> <extra_id_0> Stage fright is a condition that causes people to feel anxious before performing.<extra_id_1> </s>\n",
      "score: 0.780547022819519\n"
     ]
    },
    {
     "name": "stderr",
     "output_type": "stream",
     "text": [
      " 76%|█████████████████████████████████████████████████████████████████████████████████████████████████████████████████████████████▋                                       | 751/986 [00:36<00:11, 20.67it/s]"
     ]
    },
    {
     "name": "stdout",
     "output_type": "stream",
     "text": [
      "question: Where would you find a sign with some people lined up next to it?\n",
      "answer: bus stop\n",
      "common_expl_list: ['People waiting for busses to take them places, e.g., to work, are often lined up next to signs saying something like \"line up here\".']\n",
      "generated_explanation: <pad> <extra_id_0> Bus stops are places where people wait for buses to arrive. Often, there are signs at bus stops indicating that buses are about to arrive.<extra_id_1> </s>\n",
      "score: 0.7244120836257935\n",
      "question: Where is a snake likely to startle a farmer?\n",
      "answer: feild\n",
      "common_expl_list: ['Snakes are likely to be found in feilds, and farmers are likely to be found in feilds.']\n",
      "generated_explanation: <pad> <extra_id_0> Snakes are often found in fields, and if a farmer is working in the field, he or she may be startled by the snake's sudden appearance.<extra_id_1> </s>\n",
      "score: 0.7749363780021667\n"
     ]
    },
    {
     "name": "stderr",
     "output_type": "stream",
     "text": [
      " 77%|██████████████████████████████████████████████████████████████████████████████████████████████████████████████████████████████▋                                      | 757/986 [00:36<00:11, 20.72it/s]"
     ]
    },
    {
     "name": "stdout",
     "output_type": "stream",
     "text": [
      "question: Where do people typically store a drill?\n",
      "answer: garage\n",
      "common_expl_list: ['Drills are usually used for home improvement projects, and so, are often stored in garages.', 'Drills are usually used for fixing objects, hence most people keep them in garages of houses, or in the garages of fix-it shops.', 'Drills are usually used to fix objects. If people repair things themselves, they are likely to keep tools in their garage.']\n",
      "generated_explanation: <pad> <extra_id_0> A garage is a place where people typically store tools, and drills are common household items.<extra_id_1> </s>\n",
      "score: 0.8086159229278564\n"
     ]
    },
    {
     "name": "stderr",
     "output_type": "stream",
     "text": [
      " 78%|████████████████████████████████████████████████████████████████████████████████████████████████████████████████████████████████▏                                    | 766/986 [00:37<00:10, 20.60it/s]"
     ]
    },
    {
     "name": "stdout",
     "output_type": "stream",
     "text": [
      "question: Shopping all day is likely to lead to?\n",
      "answer: tiredness\n",
      "common_expl_list: ['Shopping is a physically demanding activity, and so, after shopping all day, one would be tired.', 'Having to stand for long periods of time leads to physical fatigue that can wear someone down substantially, if done on an all day basis.', 'If one goes shopping for very long, it becomes a physically tiring experience. Given that customers must walk, stand up, and carry heavy items, visiting stores for too long can leave a person physically exhausted.', 'A full day of shopping would likely tire someone out, as they would have stood around for 10+ hours.']\n",
      "generated_explanation: <pad> <extra_id_0> Shopping all day can be very tiring, especially if you are doing it for a long time.<extra_id_1> </s>\n",
      "score: 0.7685787677764893\n",
      "question: What state north of alabama has many a beaver?\n",
      "answer: kentucky\n",
      "common_expl_list: [\"Kentucky has many beavers because it's in close proximity to lakes on the Ohio river in which they live.\", 'Kentucky is a state in the United States, and it is north of Alabama. Kentucky is known for its many beavers.']\n",
      "generated_explanation: <pad> <extra_id_0> Kentucky is a state located north of alabama, and is home to many beavers.<extra_id_1> </s>\n",
      "score: 0.7929884791374207\n"
     ]
    },
    {
     "name": "stderr",
     "output_type": "stream",
     "text": [
      " 78%|█████████████████████████████████████████████████████████████████████████████████████████████████████████████████████████████████▏                                   | 772/986 [00:37<00:10, 20.67it/s]"
     ]
    },
    {
     "name": "stdout",
     "output_type": "stream",
     "text": [
      "question: Bar service is a very important part of what kind of celebration?\n",
      "answer: wedding\n",
      "common_expl_list: ['Bar service is a very important part of wedding receptions, where alcohol is served.']\n",
      "generated_explanation: <pad> <extra_id_0> Weddings are very formal affairs, and as such, bar service is often provided.<extra_id_1> </s>\n",
      "score: 0.7295855283737183\n",
      "question: Where do people go to shop for fruit?\n",
      "answer: go to market\n",
      "common_expl_list: ['People can go to markets to shop for fruit; markets are places where all kinds of merchandise are sold.', 'A market is a place where buyers and sellers converge to conduct business: both sellers and buyers go there.']\n",
      "generated_explanation: <pad> <extra_id_0> Markets are places where people can buy fresh fruit.<extra_id_1> </s>\n",
      "score: 0.8705111145973206\n",
      "question: What is something bad unlikely to be to anyone?\n",
      "answer: advantageous\n",
      "common_expl_list: ['If something bad happens, it is not good; it is an advantage to no one.']\n",
      "generated_explanation: <pad> <extra_id_0> Probabilities are a measure of how likely something is to be, given certain circumstances.<extra_id_1> </s>\n",
      "score: 0.15629121661186218\n"
     ]
    },
    {
     "name": "stderr",
     "output_type": "stream",
     "text": [
      " 79%|██████████████████████████████████████████████████████████████████████████████████████████████████████████████████████████████████▏                                  | 778/986 [00:37<00:10, 20.67it/s]"
     ]
    },
    {
     "name": "stdout",
     "output_type": "stream",
     "text": [
      "question: If a person wants to make sure their lemonade is the most refreshing, where might they store it?\n",
      "answer: refrigerator\n",
      "common_expl_list: ['Refrigerators are used to store food and drinks, which can be kept cool to prevent spoilage.']\n",
      "generated_explanation: <pad> <extra_id_0> Lemonade is a refreshing drink, and it's often stored in the refrigerator to keep it cool.<extra_id_1> </s>\n",
      "score: 0.7882350087165833\n",
      "question: The judge found him guilty of committing perjury, this brought the man great what?\n",
      "answer: shame\n",
      "common_expl_list: ['Perjury is a crime, and the judge found him guilty of it, so he would feel shame.', 'A judge would accuse someone of committing perjury (lying under oath) if the said person lied regarding some serious legal matter in court, which might bring individuals whose behavior is in question shame, or the feeling that they are bad, because they misbehaved', 'Perjury is considered criminal act because lies can be abused to corrupt the course of justice. A person who lies when they profess to believe in the truth and integrity of their testimony would have sullied their \"good name\" and so would be']\n",
      "generated_explanation: <pad> <extra_id_0> Perjury is a serious crime that carries serious consequences, and if a person is found guilty of it, they may feel great shame.<extra_id_1> </s>\n",
      "score: 0.7709966897964478\n"
     ]
    },
    {
     "name": "stderr",
     "output_type": "stream",
     "text": [
      " 80%|███████████████████████████████████████████████████████████████████████████████████████████████████████████████████████████████████▏                                 | 784/986 [00:38<00:09, 20.71it/s]"
     ]
    },
    {
     "name": "stdout",
     "output_type": "stream",
     "text": [
      "question: The crass men were talking about what they called a broad, one said he thought she was too what?\n",
      "answer: skinny\n",
      "common_expl_list: ['The men were discussing a young woman, noting that she is slender and skinny, perhaps too much so to be considered attractive.']\n",
      "generated_explanation: <pad> <extra_id_0> A broad is someone who is too wide for her height, e.g., 5'9\" or 175 lbs.<extra_id_1> </s>\n",
      "score: 0.05782269313931465\n",
      "question: What does everyone have in relation to other people?\n",
      "answer: feelings\n",
      "common_expl_list: ['Everyone has feelings, which are subjective and unique to each person.']\n",
      "generated_explanation: <pad> <extra_id_0> People are social animals, and as such, have feelings towards other people.<extra_id_1> </s>\n",
      "score: 0.7224742770195007\n"
     ]
    },
    {
     "name": "stderr",
     "output_type": "stream",
     "text": [
      " 80%|████████████████████████████████████████████████████████████████████████████████████████████████████████████████████████████████████▋                                | 793/986 [00:38<00:09, 20.75it/s]"
     ]
    },
    {
     "name": "stdout",
     "output_type": "stream",
     "text": [
      "question: Jane works for the government as a senator, where does she spend a lot of time?\n",
      "answer: capitol building\n",
      "common_expl_list: ['Senators in the USA really almost almost always spend a lot of time in congress in washington DC, this building is known interchangeably as Capitol Building and US Capitol.', 'The capitol building is where the government is located, and senators work for the government.', 'Senator Jane lives in Washington, D.C., where the capitol building is located. She is a senator, working for the government, likely she spends a lot of her time at the capitol building.']\n",
      "generated_explanation: <pad> <extra_id_0> Senators work for the government, and so they spend a lot of time in government buildings, such as the capitol building.<extra_id_1> </s>\n",
      "score: 0.7390079498291016\n"
     ]
    },
    {
     "name": "stderr",
     "output_type": "stream",
     "text": [
      " 81%|██████████████████████████████████████████████████████████████████████████████████████████████████████████████████████████████████████▏                              | 802/986 [00:39<00:08, 20.68it/s]"
     ]
    },
    {
     "name": "stdout",
     "output_type": "stream",
     "text": [
      "question: Where can books be read?\n",
      "answer: table\n",
      "common_expl_list: [\"Tables are where people sit, so it's logical that they might read books there. During the day, these tables might be in an outdoor cafe, where people can sit outdoors with some privacy, perhaps under an umbrella covered for shade, but still have\", 'Books are often read on tables, as they are flat and can be easily read from.', \"Tables are often used for reading books, holding food, and having meals; and, they're usually on the inside of buildings.\"]\n",
      "generated_explanation: <pad> <extra_id_0> Books can be read on a table, e.g., a coffee table.<extra_id_1> </s>\n",
      "score: 0.7149110436439514\n",
      "question: A computer user working on an important work assignment is located in what structure?\n",
      "answer: office building\n",
      "common_expl_list: ['People often work on computers while in an office building.', 'Most office buildings have computers available to their workers.', 'Computers are used very often for work, and people often work in office buildings to use computers.']\n",
      "generated_explanation: <pad> <extra_id_0> Office buildings are where people go to work, and where computers are often used for work-related tasks.<extra_id_1> </s>\n",
      "score: 0.7814387679100037\n"
     ]
    },
    {
     "name": "stderr",
     "output_type": "stream",
     "text": [
      " 82%|███████████████████████████████████████████████████████████████████████████████████████████████████████████████████████████████████████▋                             | 811/986 [00:39<00:08, 20.71it/s]"
     ]
    },
    {
     "name": "stdout",
     "output_type": "stream",
     "text": [
      "question: What southern U.S. state is know for having many swamps?\n",
      "answer: louisiana\n",
      "common_expl_list: ['Louisiana is a southern U.S. state, and is noted for having marshes, swamps, which contain fresh water.', 'Louisiana has many \"swamps\" compared to other US states, because its land is very low near its coast, so so water flows in, and the land stays submerged.']\n",
      "generated_explanation: <pad> <extra_id_0> Louisiana is a state in the south of the United States, and is known for its many swamps.<extra_id_1> </s>\n",
      "score: 0.8154305219650269\n",
      "question: When an elderly person needs help performing daily tasks, who might they call?\n",
      "answer: caregiver\n",
      "common_expl_list: ['Care givers typically help the elderly out with daily life (personal living, meals, transportation, activities, etc...).']\n",
      "generated_explanation: <pad> <extra_id_0> Caregivers provide assistance to elderly people, and often these tasks involve lifting heavy objects or doing other daily tasks that require strength and dexterity.<extra_id_1> </s>\n",
      "score: 0.7130094766616821\n",
      "question: If a person were going to bed, what would be their goal?\n",
      "answer: falling asleep\n",
      "common_expl_list: ['People go to bed when they are sleepy or want to go to bed to rest or fall asleep.', 'People are typically in bed to sleep.']\n",
      "generated_explanation: <pad> <extra_id_0> Going to bed is often associated with the goal of falling asleep, which is a natural consequence of relaxing and unwinding after a long day.<extra_id_1> </s>\n",
      "score: 0.758787989616394\n"
     ]
    },
    {
     "name": "stderr",
     "output_type": "stream",
     "text": [
      " 83%|█████████████████████████████████████████████████████████████████████████████████████████████████████████████████████████████████████████▏                           | 820/986 [00:39<00:07, 20.78it/s]"
     ]
    },
    {
     "name": "stdout",
     "output_type": "stream",
     "text": [
      "question: At a grocery store they sell individual potatoes, where does the grocery clerk likely put the potato?\n",
      "answer: paper bag\n",
      "common_expl_list: [\"Potatoes are often sold in paper bags, which are placed in a grocery store's produce section.\", 'Paper bags are often used to bag individual items at a supermarket, such as potatoes.']\n",
      "generated_explanation: <pad> <extra_id_0> Individual potatoes are sold at grocery stores in paper bags.<extra_id_1> </s>\n",
      "score: 0.7220431566238403\n"
     ]
    },
    {
     "name": "stderr",
     "output_type": "stream",
     "text": [
      " 84%|██████████████████████████████████████████████████████████████████████████████████████████████████████████████████████████████████████████▏                          | 826/986 [00:40<00:07, 20.75it/s]"
     ]
    },
    {
     "name": "stdout",
     "output_type": "stream",
     "text": [
      "question: What would you put meat on top of to cook it?\n",
      "answer: frying pan\n",
      "common_expl_list: ['People cook food in frying pans. While some people have ovens on their roof, the one in these pictures seems to lack one.', 'A frying pan is used to cook food on top of it.', 'The frying pan provides a cooking surface under which to cook the meat, while heating from below.']\n",
      "generated_explanation: <pad> <extra_id_0> Meat is usually cooked in a frying pan, which is a flat, shallow pan.<extra_id_1> </s>\n",
      "score: 0.7107248306274414\n",
      "question: What must a student in engineering do?\n",
      "answer: do mathematics\n",
      "common_expl_list: ['Most engineering students learn some form of mathematics, such as physics and engineering mathematics, and pass calculus classes.', 'In order to be a successful engineer, one must have a good handle on advanced mathematics.', 'Mathematics is a subject commonly taught in engineering courses.', 'Engineering is a field where one must do mathematics to be able to design things.']\n",
      "generated_explanation: <pad> <extra_id_0> Engineering is a subject that requires a lot of mathematics.<extra_id_1> </s>\n",
      "score: 0.7069425582885742\n"
     ]
    },
    {
     "name": "stderr",
     "output_type": "stream",
     "text": [
      "\r",
      " 84%|██████████████████████████████████████████████████████████████████████████████████████████████████████████████████████████████████████████▋                          | 829/986 [00:40<00:07, 20.74it/s]"
     ]
    },
    {
     "name": "stdout",
     "output_type": "stream",
     "text": [
      "question: What mall store sells jeans for a decent price?\n",
      "answer: gap\n",
      "common_expl_list: ['Gap clothing is sold at Gap retail store, and tends to be more affordable than at other mall clothing stores.']\n",
      "generated_explanation: <pad> <extra_id_0> Gap is a clothing store located in malls, and its prices are generally reasonable.<extra_id_1> </s>\n",
      "score: 0.7597241401672363\n",
      "question: Most people who are family like to greet each other with a what?\n",
      "answer: hug\n",
      "common_expl_list: ['Since a family is a group of relatives, the most typical greeting between family members is a hug.', 'Greeting a family member would require a hug, since a handshake might be a little formal, but a hug would indicate a close relation.']\n",
      "generated_explanation: <pad> <extra_id_0> Family members are often close, and greeting each other with a hug is a common way to greet each other.<extra_id_1> </s>\n",
      "score: 0.8438063263893127\n"
     ]
    },
    {
     "name": "stderr",
     "output_type": "stream",
     "text": [
      " 85%|███████████████████████████████████████████████████████████████████████████████████████████████████████████████████████████████████████████▋                         | 835/986 [00:40<00:07, 20.66it/s]"
     ]
    },
    {
     "name": "stdout",
     "output_type": "stream",
     "text": [
      "question: If you jump in any of the oceans you will get?\n",
      "answer: wet\n",
      "common_expl_list: ['Oceans are large bodies of water. Water is wet.']\n",
      "generated_explanation: <pad> <extra_id_0> Oceans are full of water, and if you jump in one, you will get wet.<extra_id_1> </s>\n",
      "score: 0.7726726531982422\n",
      "question: Where would you hear a violin along side many string and wind instruments?\n",
      "answer: orchestra\n",
      "common_expl_list: [\"Orchestras commonly include instruments aside from strings and woodwinds; these instruments include piano's and violin's.\", 'orchestras are musical ensembles that contain many instrumets, including the violin.']\n",
      "generated_explanation: <pad> <extra_id_0> A violin is a string instrument, and it is often found in an orchestra.<extra_id_1> </s>\n",
      "score: 0.7230677008628845\n",
      "question: What would you do to a rock when climb up a cliff?\n",
      "answer: grab\n",
      "common_expl_list: ['If you were climbing up a cliff, you would probably want to grab on to the rock to support yourself.', 'When climbing a cliff, you might grab onto rocks to help you climb up.']\n",
      "generated_explanation: <pad> <extra_id_0> Climbing up a cliff usually requires you to grab onto a rock, and grabbing onto a rock is a common way to secure yourself while climbing.<extra_id_1> </s>\n",
      "score: 0.7601643204689026\n"
     ]
    },
    {
     "name": "stderr",
     "output_type": "stream",
     "text": [
      " 85%|████████████████████████████████████████████████████████████████████████████████████████████████████████████████████████████████████████████▋                        | 841/986 [00:40<00:07, 20.70it/s]"
     ]
    },
    {
     "name": "stdout",
     "output_type": "stream",
     "text": [
      "question: Where can a bath towel be borrowed?\n",
      "answer: at hotel\n",
      "common_expl_list: [\"peoples' towels are often used at hotels, but many people don't bring towels with them, so are borrow towels from hotels.\"]\n",
      "generated_explanation: <pad> <extra_id_0> Hotels often provide guests with free towels, which can be used during their stay.<extra_id_1> </s>\n",
      "score: 0.7004057765007019\n",
      "question: What western state has thousands of miles of shore?\n",
      "answer: california\n",
      "common_expl_list: ['California is a western state that has thousands of miles of shoreline.']\n",
      "generated_explanation: <pad> <extra_id_0> California is a state in the United States that is very large and has a lot of coastline. Because of this, it is likely that it would have many beaches.<extra_id_1> </s>\n",
      "score: 0.7004494071006775\n",
      "question: People do many things to alleviate boredom.  If you can't get out of the house you might decide to do what?\n",
      "answer: listen to music\n",
      "common_expl_list: [\"Boredom is a feeling that can be alleviated through relaxing activities that you enjoy. Listening to music is a very common hobby that relieves one's boredom.\", \"Listening to music doesn't require moving around, and can be an anti-boredom strategy.\", 'Boredom is a feeling that can be alleviated by doing something to entertain oneself. Listening to music is one way to do this.', 'Things people commonly do in a house to alleviate boredom include listening to music and watching television.']\n",
      "generated_explanation: <pad> <extra_id_0> Music is often played to pass the time when people are bored, and if you're stuck at home, you might decide to listen to music.<extra_id_1> </s>\n",
      "score: 0.7978609204292297\n"
     ]
    },
    {
     "name": "stderr",
     "output_type": "stream",
     "text": [
      " 86%|██████████████████████████████████████████████████████████████████████████████████████████████████████████████████████████████████████████████▏                      | 850/986 [00:41<00:06, 20.69it/s]"
     ]
    },
    {
     "name": "stdout",
     "output_type": "stream",
     "text": [
      "question: Where would you expect to find white mice?\n",
      "answer: laboratory\n",
      "common_expl_list: ['White mice are used in laboratory experiments, so the mouse would most likely be found in a lab. Not having an alternative answer says that the most likely possibility occurred.']\n",
      "generated_explanation: <pad> <extra_id_0> White mice are commonly found in laboratories, and it's likely that white mice would be in a laboratory.<extra_id_1> </s>\n",
      "score: 0.7371941804885864\n"
     ]
    },
    {
     "name": "stderr",
     "output_type": "stream",
     "text": [
      " 87%|███████████████████████████████████████████████████████████████████████████████████████████████████████████████████████████████████████████████▋                     | 859/986 [00:41<00:06, 20.71it/s]"
     ]
    },
    {
     "name": "stdout",
     "output_type": "stream",
     "text": [
      "question: Where are you if you've paid to get a pizza?\n",
      "answer: restaurant\n",
      "common_expl_list: ['If you pay for pizza, you obtain it at a restaurant, either by consuming it there, or by having it delivered.']\n",
      "generated_explanation: <pad> <extra_id_0> Pizza is usually ordered at restaurants, and restaurants usually charge for their services.<extra_id_1> </s>\n",
      "score: 0.725630521774292\n",
      "question: what do you fill with ink to write?\n",
      "answer: fountain pen\n",
      "common_expl_list: ['A fountain pen requires a container to fill with ink, and one such container is the reservoir down the length of the pen which holds the reservoir, this reservoir is filled with ink.', 'A fountain pen has an internal ink reservoir, rather than, say, an external ink cartridge.', 'A fountain pen would hold ink, which would be used to fill the pen to write words with.']\n",
      "generated_explanation: <pad> <extra_id_0> Fountain pens are pens that can be filled with ink.<extra_id_1> </s>\n",
      "score: 0.786108136177063\n"
     ]
    },
    {
     "name": "stderr",
     "output_type": "stream",
     "text": [
      " 88%|████████████████████████████████████████████████████████████████████████████████████████████████████████████████████████████████████████████████▊                    | 865/986 [00:42<00:05, 20.63it/s]"
     ]
    },
    {
     "name": "stdout",
     "output_type": "stream",
     "text": [
      "question: What kind of cold storage could you find in your house?\n",
      "answer: refrigerator\n",
      "common_expl_list: ['Refrigerators are a type of cold storage found in homes.', 'Refrigerator is the most commonly referred to type of cold storage in homes.']\n",
      "generated_explanation: <pad> <extra_id_0> Refrigerators are devices that keep food cold, and therefore are often found in homes.<extra_id_1> </s>\n",
      "score: 0.7608006596565247\n",
      "question: Playing baseball is a lot like any other sport, there is always a risk of what?\n",
      "answer: injury\n",
      "common_expl_list: ['Playing baseball, like most sports, tends to leave participants sore and sometimes injured.', 'Injuries happen during most sports, such as baseball.', 'Baseball is a sport that involves a lot of running, throwing, and hitting, all of which can lead to injuries.', 'Playing baseball can be dangerous, particularly if one is not careful. There is always the risk of injury during the game.']\n",
      "generated_explanation: <pad> <extra_id_0> Baseball is a contact sport, and as with any contact sport, there is a risk of injury.<extra_id_1> </s>\n",
      "score: 0.7805109620094299\n"
     ]
    },
    {
     "name": "stderr",
     "output_type": "stream",
     "text": [
      " 88%|█████████████████████████████████████████████████████████████████████████████████████████████████████████████████████████████████████████████████▊                   | 871/986 [00:42<00:05, 20.64it/s]"
     ]
    },
    {
     "name": "stdout",
     "output_type": "stream",
     "text": [
      "question: When are people buying products more?\n",
      "answer: economic boom\n",
      "common_expl_list: ['When the economy is booming, people have more money to spend on products.', 'When the economy is booming more products will be bought, as people will have more money to use on those products.', \"With the economy booming, people will have more purchasing power, and be able to buy products that they couldn't afford before.\", 'When the economy is booming, it is common to see products purchased.']\n",
      "generated_explanation: <pad> <extra_id_0> When an economy is booming, people are more likely to buy products.<extra_id_1> </s>\n",
      "score: 0.7155164480209351\n",
      "question: If I wanted to grow plants, where could I put a lot of dirt?\n",
      "answer: garden\n",
      "common_expl_list: ['Plants require a large amount of dirt if they are going to grow. A good place to store a lot of dirt might be a garden.']\n",
      "generated_explanation: <pad> <extra_id_0> Gardens are places where plants can grow, and dirt is often used to grow plants.<extra_id_1> </s>\n",
      "score: 0.7113538980484009\n"
     ]
    },
    {
     "name": "stderr",
     "output_type": "stream",
     "text": [
      "\r",
      " 89%|██████████████████████████████████████████████████████████████████████████████████████████████████████████████████████████████████████████████████▎                  | 874/986 [00:42<00:05, 20.67it/s]"
     ]
    },
    {
     "name": "stdout",
     "output_type": "stream",
     "text": [
      "question: Talking to the same person about the same thing over and over again is something someone can what?\n",
      "answer: get tired of\n",
      "common_expl_list: ['People can get tired of talking to the same person about the same thing over and over again.', 'Talking about the same things time after time can become boring.']\n",
      "generated_explanation: <pad> <extra_id_0> Talking to someone about the same thing over and over again is something people can get tired of.<extra_id_1> </s>\n",
      "score: 0.7547476291656494\n",
      "question: How does a planet usually move around the sun?\n",
      "answer: orbit\n",
      "common_expl_list: ['Planets orbit the sun.']\n",
      "generated_explanation: <pad> <extra_id_0> Planets usually move around the sun in an orbit, which is a circle.<extra_id_1> </s>\n",
      "score: 0.7395938038825989\n",
      "question: Sean was a wreck.  He  loved to build houses, but in his current state, he couldn't do what?\n",
      "answer: construct\n",
      "common_expl_list: ['Sean is unable to construct houses when in a wrecked state: he requires a state of not being in a wrecked state in order to go on with the process of constructing houses.', \"Sean was a wreck, which means he was in a state of disarray. He couldn't build houses because he was in a state of disarray.\"]\n",
      "generated_explanation: <pad> <extra_id_0> People often build houses out of wood, and people in bad shape can't do that.<extra_id_1> </s>\n",
      "score: 0.1928255259990692\n",
      "question: What is a place that has a bench nestled in trees?\n",
      "answer: state park\n",
      "common_expl_list: ['State parks are parks in which natural or historic landmarks are preserved, often nestled in trees. It would be natural for benches to be nestled in trees, in state parks.', \"A state park is a place where people can go to enjoy nature, and so it's likely that there would be a bench nestled in trees.\"]\n",
      "generated_explanation: <pad> <extra_id_0> State parks are places where people go to relax in the shade of trees, and benches are often found in these parks.<extra_id_1> </s>\n",
      "score: 0.7481507062911987\n"
     ]
    },
    {
     "name": "stderr",
     "output_type": "stream",
     "text": [
      " 89%|███████████████████████████████████████████████████████████████████████████████████████████████████████████████████████████████████████████████████▎                 | 880/986 [00:42<00:05, 20.69it/s]"
     ]
    },
    {
     "name": "stdout",
     "output_type": "stream",
     "text": [
      "question: Where would you sit in a chair while working toward an advanced degree?\n",
      "answer: university\n",
      "common_expl_list: ['People often sit in chairs while studying at a university, and they are often studying for advanced degrees.', 'Those in academia typically study in a university setting in a classroom, cubicle, or other academic building.']\n",
      "generated_explanation: <pad> <extra_id_0> Universities are places where people study for advanced degrees, and where chairs are usually available for students to sit in while studying.<extra_id_1> </s>\n",
      "score: 0.7413687109947205\n",
      "question: What will happen if you inject water into yourself?\n",
      "answer: thin blood\n",
      "common_expl_list: ['Injecting water into the body will thin the blood, which can be dangerous.']\n",
      "generated_explanation: <pad> <extra_id_0> Water is a diuretic, meaning that it thins the blood. If you inject water into yourself, your blood will become thin.<extra_id_1> </s>\n",
      "score: 0.7094038128852844\n",
      "question: I am cold, what should I do to stay warm?\n",
      "answer: light fire\n",
      "common_expl_list: [\"It's possibly to stay warm by staying in a heated space. Fire sources have been used since immemorial times to stay warm in freezing temperatures. This includes staying inside a building which is a heated space.\", 'A fire can be used to keep warm. It produces heat, and can be used to keep warm.', 'It is generally wise to light a fire in the winter to keep the body warm. A fire produces heat, which contains engery which is needed to keep the body warm. Because engery circulates through the blood, the body warms up.', 'Setting light to organic material, e.g., wood, heaters, and fireplaces can cause an increase in body temperature since that heat will be thermal radiation.']\n",
      "generated_explanation: <pad> <extra_id_0> When it is cold outside, it is often the case that people will light a fire to stay warm.<extra_id_1> </s>\n",
      "score: 0.72380131483078\n"
     ]
    },
    {
     "name": "stderr",
     "output_type": "stream",
     "text": [
      " 90%|████████████████████████████████████████████████████████████████████████████████████████████████████████████████████████████████████████████████████▎                | 886/986 [00:43<00:04, 20.69it/s]"
     ]
    },
    {
     "name": "stdout",
     "output_type": "stream",
     "text": [
      "question: Where would you store a pillow case that is not in use?\n",
      "answer: drawer\n",
      "common_expl_list: ['Pillow cases are often stored in drawers.', \"Pillowcases are usually lined up in drawers. Since pillow cases that are in use can be in use for a while, they aren't placed in the drawer.\"]\n",
      "generated_explanation: <pad> <extra_id_0> Pillow cases are often used when sleeping, and when they are not, they are stored in a drawer.<extra_id_1> </s>\n",
      "score: 0.7990856170654297\n",
      "question: I want to see a prepared slide up close, what would I use to help?\n",
      "answer: microscope\n",
      "common_expl_list: ['Microscopes are commonly used to get a close up look at things too small to see with the standard eye.', 'A microscope is a device that allows one to see small objects up close.', 'a microscope helps a user to see a prepared slide with a closer view, a telescope helps a user to see a prepared slide from a farther view.', \"If somehting's too small for the unaided eye to see, like a prepared slide, a microscope is needed to see it.\"]\n",
      "generated_explanation: <pad> <extra_id_0> Microscopes are used to magnify objects, and to view them up close, so that you can see details of the object.<extra_id_1> </s>\n",
      "score: 0.7952703833580017\n",
      "question: The fresh herbs, flowers, and vegetables will shrivel up if people don't do this?\n",
      "answer: water plants\n",
      "common_expl_list: ['Plants need water to survive, and if they are not given water, they would shrivel up.', \"Plants need water to survive, and if they don't get it, they will die.\", 'Plants need water in order to stay healthy and grow.']\n",
      "generated_explanation: <pad> <extra_id_0> Fresh herbs, flowers, and vegetables need to be watered to keep them from shriveling up.<extra_id_1> </s>\n",
      "score: 0.7027719616889954\n",
      "question: What is the best way to begin going into trance?\n",
      "answer: closed eyes\n",
      "common_expl_list: ['People frequently begin to go into a trance by closing their eyes while speaking, since this orients attention internally.', 'Closed eye meditation or closed eye hypnosis are common methods for entering the trance state. Closed eye takes advantage of lowered conscious perception openings suggestibility.']\n",
      "generated_explanation: <pad> <extra_id_0> Trance states are often induced by closing the eyes, which helps to relax the body.<extra_id_1> </s>\n",
      "score: 0.7264537215232849\n"
     ]
    },
    {
     "name": "stderr",
     "output_type": "stream",
     "text": [
      " 90%|█████████████████████████████████████████████████████████████████████████████████████████████████████████████████████████████████████████████████████▎               | 892/986 [00:43<00:04, 20.71it/s]"
     ]
    },
    {
     "name": "stdout",
     "output_type": "stream",
     "text": [
      "question: Where is a salt shaker most often kept?\n",
      "answer: table setting\n",
      "common_expl_list: ['Saltshakers are placed on tables with other dishes, to provide salt if they are needed.', 'Salt shakers are usually kept on the table during meals.', 'A salt shaker will often be seen at a table setting.']\n",
      "generated_explanation: <pad> <extra_id_0> Salt shakers are used at table settings, and so are most often kept at table settings.<extra_id_1> </s>\n",
      "score: 0.7513718605041504\n",
      "question: To get clean clothes you to what to them?\n",
      "answer: launder\n",
      "common_expl_list: ['To get clean clothes, you must launder them.', 'For clothes to be clean, one could wash or launder them.', 'In order to get clean clothes dirty ones must be laundered via washing them.', 'Laundromats are businesses that wash clothes, which end up clean. So in order to get clean clothes, they must be laundered.']\n",
      "generated_explanation: <pad> <extra_id_0> Clothes can get dirty through wear and tear, stains, and other factors. To get clean clothes, you need to launder them.<extra_id_1> </s>\n",
      "score: 0.7437957525253296\n"
     ]
    },
    {
     "name": "stderr",
     "output_type": "stream",
     "text": [
      " 91%|██████████████████████████████████████████████████████████████████████████████████████████████████████████████████████████████████████████████████████▊              | 901/986 [00:43<00:04, 20.68it/s]"
     ]
    },
    {
     "name": "stdout",
     "output_type": "stream",
     "text": [
      "question: What do people do when networking?\n",
      "answer: build trust\n",
      "common_expl_list: ['People attending to business/professional networking events are often interested in developing trust with the other attendees.']\n",
      "generated_explanation: <pad> <extra_id_0> Networking is a way of establishing connections with other people, and it's often used to build trust between different groups of people.<extra_id_1> </s>\n",
      "score: 0.8252329230308533\n",
      "question: The pioneer went to the general store for storage measures, what was he looking for?\n",
      "answer: barrels\n",
      "common_expl_list: ['Barrels are often used to store things, such as salt, or other goods.', 'A pioneer would want to keep things that were fragile from spoiling, or to store water. One can store water in barrels.']\n",
      "generated_explanation: <pad> <extra_id_0> Barrels are a common storage measure among pioneers, and a general store may sell barrels.<extra_id_1> </s>\n",
      "score: 0.7322410941123962\n"
     ]
    },
    {
     "name": "stderr",
     "output_type": "stream",
     "text": [
      " 92%|████████████████████████████████████████████████████████████████████████████████████████████████████████████████████████████████████████████████████████▎            | 910/986 [00:44<00:03, 20.67it/s]"
     ]
    },
    {
     "name": "stdout",
     "output_type": "stream",
     "text": [
      "question: If I'm playing ball, I'm mostly trying to do what?\n",
      "answer: having fun\n",
      "common_expl_list: ['People usually play sports (and other competitive activities) for fun.']\n",
      "generated_explanation: <pad> <extra_id_0> Playing ball is a sport, and a sport is mostly about having fun.<extra_id_1> </s>\n",
      "score: 0.7622267603874207\n",
      "question: If someone laughs after surprising them they have a good sense of what?\n",
      "answer: humor\n",
      "common_expl_list: ['If someone laughs after being surprised, it means they found the surprise funny, and so they have a good sense of humor.']\n",
      "generated_explanation: <pad> <extra_id_0> Humor is a quality that people possess, and if someone has a good sense of humor, they are likely to be surprised by things that happen to them.<extra_id_1> </s>\n",
      "score: 0.7589915990829468\n"
     ]
    },
    {
     "name": "stderr",
     "output_type": "stream",
     "text": [
      " 93%|█████████████████████████████████████████████████████████████████████████████████████████████████████████████████████████████████████████████████████████▎           | 916/986 [00:44<00:03, 20.71it/s]"
     ]
    },
    {
     "name": "stdout",
     "output_type": "stream",
     "text": [
      "question: Where do you store a large container?\n",
      "answer: cabinet\n",
      "common_expl_list: ['Large containers like bottles are likely to be stored in kitchen cabinets (and pantry if relevant).']\n",
      "generated_explanation: <pad> <extra_id_0> Large containers are often used for food storage, and cabinets are places where food can be stored safely.<extra_id_1> </s>\n",
      "score: 0.7578291296958923\n",
      "question: John loved to paint houses.  How did he usually do it?\n",
      "answer: with brush\n",
      "common_expl_list: ['People usually paint houses with brushes.']\n",
      "generated_explanation: <pad> <extra_id_0> Painting houses usually requires the use of brushes, and John probably had one at home.<extra_id_1> </s>\n",
      "score: 0.7356505393981934\n"
     ]
    },
    {
     "name": "stderr",
     "output_type": "stream",
     "text": [
      " 94%|██████████████████████████████████████████████████████████████████████████████████████████████████████████████████████████████████████████████████████████▎          | 922/986 [00:44<00:03, 20.65it/s]"
     ]
    },
    {
     "name": "stdout",
     "output_type": "stream",
     "text": [
      "question: What is the primary purpose of cars?\n",
      "answer: move people\n",
      "common_expl_list: ['The primary purpose of most cars is to transport people.', 'Cars are used to move people from one place to another.']\n",
      "generated_explanation: <pad> <extra_id_0> Cars are designed to move people from one place to another, and typically carry a driver.<extra_id_1> </s>\n",
      "score: 0.7494802474975586\n",
      "question: The man started to learn jogging, what was he hoping to do?\n",
      "answer: getting in shape\n",
      "common_expl_list: ['Jogging is a way to get in shape.', 'Jogging is a kind of exercise that is usually designed to help one get in shape.', 'Jogging is a form of exercise, and it can help one better manage their fitness.']\n",
      "generated_explanation: <pad> <extra_id_0> Jogging is a good way to get in shape, and getting in shape is a goal that many people have.<extra_id_1> </s>\n",
      "score: 0.8320831656455994\n",
      "question: Where will a cheap book be found?\n",
      "answer: discount store\n",
      "common_expl_list: ['Discount stores sell cheap books.', 'Discount store usually sell cheaper book.']\n",
      "generated_explanation: <pad> <extra_id_0> Discount stores often sell used books at reduced prices.<extra_id_1> </s>\n",
      "score: 0.7800298929214478\n"
     ]
    },
    {
     "name": "stderr",
     "output_type": "stream",
     "text": [
      " 94%|███████████████████████████████████████████████████████████████████████████████████████████████████████████████████████████████████████████████████████████▎         | 928/986 [00:45<00:02, 20.31it/s]"
     ]
    },
    {
     "name": "stdout",
     "output_type": "stream",
     "text": [
      "question: In what kind of environment does an anemone live?\n",
      "answer: sea water\n",
      "common_expl_list: ['Anemones live in marine environments, which typically contain sea water.']\n",
      "generated_explanation: <pad> <extra_id_0> Anemones are animals that live in sea water.<extra_id_1> </s>\n",
      "score: 0.7647003531455994\n",
      "question: what does a person do to stay healthy?\n",
      "answer: eat every day\n",
      "common_expl_list: ['A healthy person eats every day to keep their energy up.', \"A person who doesn't eat every day is more likely to catch a fever or develop some illness, because they are not receiving their necessary daily energy. This is why eating is important in health.\"]\n",
      "generated_explanation: <pad> <extra_id_0> Eating is very important for staying healthy, because it keeps the body working properly.<extra_id_1> </s>\n",
      "score: 0.7087419629096985\n"
     ]
    },
    {
     "name": "stderr",
     "output_type": "stream",
     "text": [
      "\r",
      " 94%|███████████████████████████████████████████████████████████████████████████████████████████████████████████████████████████████████████████████████████████▊         | 931/986 [00:45<00:02, 19.47it/s]"
     ]
    },
    {
     "name": "stdout",
     "output_type": "stream",
     "text": [
      "question: Where is a great place to buy fresh fruit?\n",
      "answer: market\n",
      "common_expl_list: ['Markets are typically known for selling fruits and vegetables. The bulk of the produce usually comes from farmers who have not yet sold their produce to chain retailers.', 'Fruit stands are places to buy fresh fruit. A market is generally recognized as a place to buy fresh fruit or vegetables.']\n",
      "generated_explanation: <pad> <extra_id_0> Fresh fruit is often sold at markets, and markets are places where people can buy fresh produce.<extra_id_1> </s>\n",
      "score: 0.8961478471755981\n",
      "question: Where is one likely to find a brownstone?\n",
      "answer: new york city\n",
      "common_expl_list: [\"brownstones are in general in New York City, since in the 1800's in New York City in the USA, they were one of the more common housinetype.\", 'Brownstones are a type of house that are common in New York City.', 'Brownstones are popular dwellings in New York City.']\n",
      "generated_explanation: <pad> <extra_id_0> New york city is a city in the United States that is known for its brownstones.<extra_id_1> </s>\n",
      "score: 0.738470196723938\n",
      "question: What city will likely have many parking structures?\n",
      "answer: chicago\n",
      "common_expl_list: ['Chicago is a large city, and parking structures are often used in large cities.']\n",
      "generated_explanation: <pad> <extra_id_0> Chicago is a large city, and as such, parking structures are common.<extra_id_1> </s>\n",
      "score: 0.7530961036682129\n"
     ]
    },
    {
     "name": "stderr",
     "output_type": "stream",
     "text": [
      " 95%|█████████████████████████████████████████████████████████████████████████████████████████████████████████████████████████████████████████████████████████████▎       | 940/986 [00:45<00:02, 19.57it/s]"
     ]
    },
    {
     "name": "stdout",
     "output_type": "stream",
     "text": [
      "question: What island country is ferret popular?\n",
      "answer: great britain\n",
      "common_expl_list: ['Ferrets are popular in Great Britain, and are kept as pets.', 'Great Britain is a country which is commonly associated with ferret owning.']\n",
      "generated_explanation: <pad> <extra_id_0> Ferrets are small, island animals that are popular in great britain.<extra_id_1> </s>\n",
      "score: 0.7941343784332275\n",
      "question: Why does having a disability sometimes making academic tasks hard for a person?\n",
      "answer: mentally challenged\n",
      "common_expl_list: ['If one learns new things, one needs to be able to focus on an objective. Disabilities, like autism, might make it more difficult to learn academic subjects.', 'If a person is mentally challenged, they might have trouble with academic tasks.']\n",
      "generated_explanation: <pad> <extra_id_0> People with mental disabilities sometimes find it hard to concentrate on academic tasks, such as studying.<extra_id_1> </s>\n",
      "score: 0.7108467221260071\n",
      "question: Where can you store you spare linens near your socks?\n",
      "answer: dresser drawers\n",
      "common_expl_list: ['A dresser is a piece of furniture that is used to store clothing. It has drawers, which are used to store socks and other small items.', 'Dresser drawers are where you keep your socks and other textile garments like t-shirts and underwear.', 'A person might have socks on the top drawer on a dresser, and might have spare linens near there. On this particular dresser, say, who even knows if the bottom drawers have space for storing socks?', 'A dresser includes a large drawer (and typically several smaller ones) for the purpose of storing clothes and linens in a household. Drawers in a dresser are typically in the home.']\n",
      "generated_explanation: <pad> <extra_id_0> Dressers often have drawers inside, and you can store linens inside of them.<extra_id_1> </s>\n",
      "score: 0.7593239545822144\n",
      "question: What is a treat that you dog will enjoy?\n",
      "answer: bone\n",
      "common_expl_list: ['A bone is a tasty treat for dogs.', 'bones are often the treat for dogs.', 'A dog will enjoy a bone because it is a treat.']\n",
      "generated_explanation: <pad> <extra_id_0> Bones are a type of treat that dogs will enjoy, because they are chewable.<extra_id_1> </s>\n",
      "score: 0.7349774241447449\n"
     ]
    },
    {
     "name": "stderr",
     "output_type": "stream",
     "text": [
      "\r",
      " 96%|█████████████████████████████████████████████████████████████████████████████████████████████████████████████████████████████████████████████████████████████▊       | 943/986 [00:45<00:02, 19.85it/s]"
     ]
    },
    {
     "name": "stdout",
     "output_type": "stream",
     "text": [
      "question: Where would you find a large dining room containing a fancy chandelier?\n",
      "answer: mansion\n",
      "common_expl_list: ['Mansions generally have large dining room tables meant for large groups. A fancy chandelier adds to the fancy appeal of such large rooms.']\n",
      "generated_explanation: <pad> <extra_id_0> Mansions are large, luxurious homes that often contain elaborate dining rooms. These elaborate dining rooms often contain chandeliers.<extra_id_1> </s>\n",
      "score: 0.8408018350601196\n",
      "question: What is a possible outcome for committing murder?\n",
      "answer: imprisonment\n",
      "common_expl_list: ['Prison time is a typical outcome for committing murder.', 'Murder is a serious crime, and if you get caught you could be imprisoned.', 'Murder is a crime, and the punishment for committing murder is imprisonment.']\n",
      "generated_explanation: <pad> <extra_id_0> Murder is a serious crime, and the punishment for it is usually imprisonment.<extra_id_1> </s>\n",
      "score: 0.7686524391174316\n"
     ]
    },
    {
     "name": "stderr",
     "output_type": "stream",
     "text": [
      " 96%|██████████████████████████████████████████████████████████████████████████████████████████████████████████████████████████████████████████████████████████████▊      | 949/986 [00:46<00:01, 20.21it/s]"
     ]
    },
    {
     "name": "stdout",
     "output_type": "stream",
     "text": [
      "question: What is the main purpose of having a bath?\n",
      "answer: cleanness\n",
      "common_expl_list: ['When one takes a bath, the main goal is to become clean.', \"Bathers usually get in there in order to get clean. That's the main purpose of taking a bath.\"]\n",
      "generated_explanation: <pad> <extra_id_0> Bathing is a way to remove dirt and other impurities from the body, and to feel clean.<extra_id_1> </s>\n",
      "score: 0.7262678146362305\n",
      "question: Which large land mass is home to the most monkeys?\n",
      "answer: african continent\n",
      "common_expl_list: ['The african continent is home to enourmous numbers of monkeys and thus outnumbers the other locations combined.', 'more monkeys exist on the african continent than any other land mass on earth']\n",
      "generated_explanation: <pad> <extra_id_0> The african continent is the largest land mass on earth, and it is also the continent with the most monkeys.<extra_id_1> </s>\n",
      "score: 0.7192710041999817\n"
     ]
    },
    {
     "name": "stderr",
     "output_type": "stream",
     "text": [
      " 97%|███████████████████████████████████████████████████████████████████████████████████████████████████████████████████████████████████████████████████████████████▊     | 955/986 [00:46<00:01, 20.33it/s]"
     ]
    },
    {
     "name": "stdout",
     "output_type": "stream",
     "text": [
      "question: What can happen if you are buying products that someone else does not want you to buy?\n",
      "answer: disagreements\n",
      "common_expl_list: ['If you are buying products that someone else does not want you to buy, they may disagree with your decision.']\n",
      "generated_explanation: <pad> <extra_id_0> When people are buying products, they sometimes have disagreements about the products, e.g., whether to buy certain products or not.<extra_id_1> </s>\n",
      "score: 0.7428365349769592\n",
      "question: The hostess was good at her job, she always had a smile when she would what?\n",
      "answer: welcome guests\n",
      "common_expl_list: ['A job that involves welcoming guests is likely to require smiling, or at least appearing happy, to make guests feel welcome.', 'The hostess is the person at the door who greets guests to an event, party, gathering, etc. Given that an important part of filling her role is to be always ready to greet guests, the hostess is likely kind and friendly, i', 'A hostess is someone who welcomes guests to a party or other event.']\n",
      "generated_explanation: <pad> <extra_id_0> Hostesses are people who welcome guests to a restaurant or other public place. They usually have a smile on their face when they welcome them, because they are usually happy to see them.<extra_id_1> </s>\n",
      "score: 0.7959316372871399\n",
      "question: Tweed is a rare fabric in modern clothing, what brand should I look for when buying it?\n",
      "answer: eddie bauer\n",
      "common_expl_list: ['Eddie Bauer is a store that sells clothing and durable goods, and fabric for textile manufacture; hence, you would likely be able to buy tweed fabric at this brand.', 'Tweed is a type of fabric that is often used in the production of suits. Eddie Bauer is a clothing store that specializes in selling suits.']\n",
      "generated_explanation: <pad> <extra_id_0> Eddie bauer is a brand that specializes in tweed clothing, and it is rare to find modern clothing made from tweed.<extra_id_1> </s>\n",
      "score: 0.7783527970314026\n"
     ]
    },
    {
     "name": "stderr",
     "output_type": "stream",
     "text": [
      "\r",
      " 97%|████████████████████████████████████████████████████████████████████████████████████████████████████████████████████████████████████████████████████████████████▎    | 958/986 [00:46<00:01, 20.11it/s]"
     ]
    },
    {
     "name": "stdout",
     "output_type": "stream",
     "text": [
      "question: What do you do when you're in a new place and want to see new things?\n",
      "answer: look around\n",
      "common_expl_list: ['If you are in a new place, you might want to look around to see what is there.', 'When someone is in a new place, e.g., on vacation, they are interested in looking around, since many new things are available to be seen. When someone is in an old place, they are more likely to be familiar with the area', 'Many new things can be seen in a new place if you take the time to look for them.']\n",
      "generated_explanation: <pad> <extra_id_0> When you're in a new place, you might want to look around to see what's there.<extra_id_1> </s>\n",
      "score: 0.7066907286643982\n",
      "question: Where is a good place to have a fireplace in a house?\n",
      "answer: living room\n",
      "common_expl_list: [\"If there is a fireplace in a house, it is likely to be in the living room so that people can warm up after they've gone out in the cold winter.\"]\n",
      "generated_explanation: <pad> <extra_id_0> Living rooms are often used as places to relax and entertain guests, and a fireplace can provide a nice atmosphere in a room.<extra_id_1> </s>\n",
      "score: 0.8173807263374329\n",
      "question: There was many a bottle to choose from behind the cashier where?\n",
      "answer: liquor store\n",
      "common_expl_list: [\"Liquor stores often have a large selection of bottles, and so, it's plausible that one could find a bottle of liquor in a liquor store.\", 'Liquor stores are the most likely of these options to sell alcohol, which must be placed in bottles, cases, or coolers.']\n",
      "generated_explanation: <pad> <extra_id_0> Liquor stores sell alcoholic beverages, and behind the cashier is where you can find the bottles.<extra_id_1> </s>\n",
      "score: 0.7198659181594849\n"
     ]
    },
    {
     "name": "stderr",
     "output_type": "stream",
     "text": [
      " 98%|█████████████████████████████████████████████████████████████████████████████████████████████████████████████████████████████████████████████████████████████████▊   | 967/986 [00:47<00:00, 20.32it/s]"
     ]
    },
    {
     "name": "stdout",
     "output_type": "stream",
     "text": [
      "question: The man was going fishing instead of work, what is he seeking?\n",
      "answer: relaxation\n",
      "common_expl_list: ['The man wants to make himself feel less stressed from work. Fishing is a relaxing, stress-relieving activity.', 'Fishing is a relaxing activity.', 'A man seeking relaxation does so by doing something enjoyable, e.g., taking a fishing trip.']\n",
      "generated_explanation: <pad> <extra_id_0> Fishing is a relaxing activity, and if you are going fishing instead of working, you are seeking relaxation.<extra_id_1> </s>\n",
      "score: 0.7439183592796326\n"
     ]
    },
    {
     "name": "stderr",
     "output_type": "stream",
     "text": [
      " 99%|███████████████████████████████████████████████████████████████████████████████████████████████████████████████████████████████████████████████████████████████████▊ | 979/986 [00:47<00:00, 20.40it/s]"
     ]
    },
    {
     "name": "stdout",
     "output_type": "stream",
     "text": [
      "question: He needed more information to fix it, so he consulted the what?\n",
      "answer: manual\n",
      "common_expl_list: ['When it comes to home repairs, one is likely to consult an online or printed search manual to learn how to fix the problem. Such publications are often hard cover (or loose leaf, but not electronically).', 'For the most part, one would need to consult a manual of instructions (\"instructions manual\") of a broken appliance to attempt to fix it.', \"If one is trying to fix a problem with a machine, it's common to consult the manual for the machine.\"]\n",
      "generated_explanation: <pad> <extra_id_0> Manuals contain instructions on how to fix a particular problem, and if you need more information, you can consult the manual.<extra_id_1> </s>\n",
      "score: 0.7305561900138855\n"
     ]
    },
    {
     "name": "stderr",
     "output_type": "stream",
     "text": [
      "100%|█████████████████████████████████████████████████████████████████████████████████████████████████████████████████████████████████████████████████████████████████████| 986/986 [00:48<00:00, 20.51it/s]"
     ]
    },
    {
     "name": "stdout",
     "output_type": "stream",
     "text": [
      "question: What is it called when two people in love have children?\n",
      "answer: procreate\n",
      "common_expl_list: ['Procreation is the act of creating new life, and is often done by people in love.', 'A main purpose of marriage, particularly in the past, was to have children. Procreation is a means to produce children.']\n",
      "generated_explanation: <pad> <extra_id_0> When two people are in love, they may decide to have children. This is called procreation, and it occurs when they are in a relationship.<extra_id_1> </s>\n",
      "score: 0.7677991986274719\n",
      "question: What is main benefit to exercising?\n",
      "answer: get in shape\n",
      "common_expl_list: ['To get in shape, work out. Exercising can help you become stronger or thinner. Exercising is sometimes done to strengthen the heart or lungs, or sweat.', 'From a health perspective, exercising is healthy. It increases flexibility, circulation, improves mood, burns calories, strengthens muscles, helps us sleep better, etc.', \"Exercise is a way to get in shape, which is a way to improve one's physical health.\", 'One major reason to exercise is to get healthier by becoming in shape.']\n",
      "generated_explanation: <pad> <extra_id_0> Exercise is a good way to stay in shape.<extra_id_1> </s>\n",
      "score: 0.7099466323852539\n",
      "question: What can you use to store a book while traveling?\n",
      "answer: suitcase\n",
      "common_expl_list: ['People can store books in their suitcases, especially if they are on the move.']\n",
      "generated_explanation: <pad> <extra_id_0> A suitcase is a container that can hold many different items, including books. Because people often travel by air, it's common for suitcases to also hold books.<extra_id_1> </s>\n",
      "score: 0.785671591758728\n"
     ]
    },
    {
     "name": "stderr",
     "output_type": "stream",
     "text": [
      "\n"
     ]
    }
   ],
   "source": [
    "from tqdm import tqdm\n",
    "qae_list = []\n",
    "score_list = []\n",
    "for da in tqdm(rationale_pair_dev_data, total=len(rationale_pair_dev_data)):\n",
    "    qae = \"{} answer: {} explanation: {}\".format(da['question'], \n",
    "                                                 da['answer'], \n",
    "                                                 da['generated_explanation'])\n",
    "\n",
    "    scores = get_scores(\n",
    "        [qae],\n",
    "        'large',\n",
    "        device='cuda:0',\n",
    "        batch_size=1,\n",
    "        verbose=False)\n",
    "    score_list.append(scores[0])\n",
    "    if scores[0] > 0.7 or scores[0] < 0.2:\n",
    "        print(\"question: {}\".format(da['question']))\n",
    "        print(\"answer: {}\".format(da['answer']))\n",
    "        print(\"common_expl_list: {}\".format(da['common_expl_list']))\n",
    "        print(\"generated_explanation: {}\".format(da['generated_explanation']))\n",
    "        print(\"score: {}\".format(scores[0]))"
   ]
  },
  {
   "cell_type": "code",
   "execution_count": 25,
   "id": "af025c75",
   "metadata": {},
   "outputs": [
    {
     "data": {
      "text/plain": [
       "0.6216207986648438"
      ]
     },
     "execution_count": 25,
     "metadata": {},
     "output_type": "execute_result"
    }
   ],
   "source": [
    "np.mean(score_list)"
   ]
  },
  {
   "cell_type": "code",
   "execution_count": null,
   "id": "4f2a8da7",
   "metadata": {},
   "outputs": [],
   "source": []
  }
 ],
 "metadata": {
  "kernelspec": {
   "display_name": "Python 3 (ipykernel)",
   "language": "python",
   "name": "python3"
  },
  "language_info": {
   "codemirror_mode": {
    "name": "ipython",
    "version": 3
   },
   "file_extension": ".py",
   "mimetype": "text/x-python",
   "name": "python",
   "nbconvert_exporter": "python",
   "pygments_lexer": "ipython3",
   "version": "3.7.0"
  }
 },
 "nbformat": 4,
 "nbformat_minor": 5
}
