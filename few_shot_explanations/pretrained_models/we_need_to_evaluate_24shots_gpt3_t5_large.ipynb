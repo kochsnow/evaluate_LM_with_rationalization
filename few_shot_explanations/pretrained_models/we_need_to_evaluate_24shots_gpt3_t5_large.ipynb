{
 "cells": [
  {
   "cell_type": "code",
   "execution_count": 1,
   "id": "f156ee57",
   "metadata": {},
   "outputs": [],
   "source": [
    "'''\n",
    "A (hopefully) Simple API for serving explanation score requests.\n",
    "\n",
    "input_string = (\n",
    "    f\"{question} answer: {gold_label}. \"\n",
    "    + f\" explanation: {abstr_expl}.\"\n",
    ")\n",
    "\n",
    "here are some example input strings:\n",
    "\n",
    "If you feel like everything is spinning while climbing you are experiencing what? answer: vertigo. explanation: Vertigo is often experienced while climbing or at heights.\n",
    "Where do you get clothes in a shopping bag? answer: retail store. explanation: For any large item where convenience is beneficial, one might go to a retail store, either a regular one or a big-box store like walmart.\n",
    "Where should a cat be in a house? answer: floor. explanation: A cat should be on the floor, not on a rug.\n",
    "'''\n",
    "import pdb\n",
    "import argparse\n",
    "import torch\n",
    "import transformers\n",
    "import os\n",
    "import tqdm\n",
    "import numpy as np\n",
    "\n",
    "_model, _tokenizer = None, None\n",
    "\n",
    "model2url = {\n",
    "    'large': 'https://storage.googleapis.com/ai2-mosaic-public/projects/few-shot-explanations/pretrained_models/commonsense_qa/valloss%3D0.28665~model%3Dt5-large~lr%3D0.0001~seed%3D1~labelagg%3D0_just_weights.pt',\n",
    "    '3b': 'https://storage.googleapis.com/ai2-mosaic-public/projects/few-shot-explanations/pretrained_models/commonsense_qa/valloss%3D0.28925~model%3Dt5-3b~lr%3D0.0001~seed%3D1~labelagg%3D0_just_weights.pt',\n",
    "    '11b': 'https://storage.googleapis.com/ai2-mosaic-public/projects/few-shot-explanations/pretrained_models/commonsense_qa/cose_deepspeed_valloss%3D0.00000~model%3Dt5-11b~lr%3D0.00001~seed%3D1~labelagg%3D0.pt',\n",
    "}\n",
    "\n",
    "def get_model(model_type, device=None):\n",
    "    global _model, model2url\n",
    "    if model_type not in {'11b', '3b', 'large'}:\n",
    "        raise NotImplementedError('{} is not a valid model please use \"3b\" or \"large\"'.format(model_type))\n",
    "\n",
    "    if _model is None:\n",
    "        hf_model_name = 't5-' + model_type\n",
    "        print('Loading model: this will run only once.')\n",
    "\n",
    "        if model_type == 'large':\n",
    "            model_path = 'csqa_models/t5-large.pt'\n",
    "        elif model_type == '3b':\n",
    "            model_path = 'csqa_models/valloss=0.28925~model=t5-3b~lr=0.0001~seed=1~labelagg=0_just_weights.pt'\n",
    "        elif model_type == '11b':\n",
    "            model_path = 'csqa_models/cose_deepspeed_valloss=0.00000~model=t5-11b~lr=0.00001~seed=1~labelagg=0.pt'\n",
    "\n",
    "        if not os.path.exists(model_path):\n",
    "            print('Please download weights for {} model and put in current directory.'.format(model_path))\n",
    "            print('for example, wget {}'.format(model2url[model_type]))\n",
    "            quit()\n",
    "\n",
    "        state = torch.load(model_path)\n",
    "        if 'model_state_dict' in state:\n",
    "            state = state['model_state_dict']\n",
    "\n",
    "        _model = transformers.AutoModelForSeq2SeqLM.from_pretrained(hf_model_name)\n",
    "        if model_type == '11b': # need to resize due to deepspeed, these entires are not accessed.\n",
    "            _model.resize_token_embeddings(len(transformers.AutoTokenizer.from_pretrained(hf_model_name)))\n",
    "        _model.load_state_dict(state)\n",
    "        _model.eval()\n",
    "        if device is not None:\n",
    "            _model = _model.to(device)\n",
    "\n",
    "    return _model\n",
    "\n",
    "\n",
    "def get_tokenizer(model_type):\n",
    "    global _tokenizer\n",
    "    if model_type not in {'3b', 'large', '11b'}:\n",
    "        raise NotImplementedError('{} is not a valid model please use \"3b\" or \"large\" or \"11b\"'.format(model_type))\n",
    "\n",
    "    if _tokenizer is None:\n",
    "        hf_model_name = 't5-' + model_type\n",
    "        _tokenizer = transformers.T5TokenizerFast.from_pretrained(hf_model_name)\n",
    "\n",
    "    return _tokenizer\n",
    "\n",
    "\n",
    "class T5Dataset(torch.utils.data.Dataset):\n",
    "    def __init__(self, data, tokenizer):\n",
    "        self.data = data\n",
    "        self.tokenizer = tokenizer\n",
    "\n",
    "    def __getitem__(self, idx):\n",
    "        res = self.tokenizer(self.data[idx]['input'], truncation=True)\n",
    "        res['labels'] = self.tokenizer(self.data[idx]['label']).input_ids\n",
    "        return res\n",
    "\n",
    "    def __len__(self):\n",
    "        return len(self.data)\n",
    "\n",
    "\n",
    "def get_scores(inputs, model_type, device=None, batch_size=32, verbose=False):\n",
    "    '''\n",
    "    Inputs:\n",
    "      - a list of explanations to score, e.g.,:\n",
    "        premise: A man getting a tattoo on his back. hypothesis: A woman is getting a tattoo. answer: contradiction. explanation: Because the tattoo artist is a man, the person getting the tattoo is not a woman.\n",
    "      - model type, either \"3b\" or \"large\" or \"11b\"\n",
    "      - device: which torch device to load model on, e.g., \"cuda:3\"\n",
    "    Outputs:\n",
    "      - P(good explanation); higher is better\n",
    "    '''\n",
    "    assert model_type in {'large', '3b', '11b'}\n",
    "\n",
    "    if isinstance(inputs, str):\n",
    "        inputs = [inputs]\n",
    "\n",
    "    model = get_model(model_type, device=device)\n",
    "    tokenizer = get_tokenizer(model_type)\n",
    "\n",
    "    score_itr = T5Dataset([{'input': inp, 'label': 'x'} for inp in inputs], tokenizer) # dummy labels for inference\n",
    "    data_collator = transformers.DataCollatorForSeq2Seq(\n",
    "        tokenizer,\n",
    "        model=model,\n",
    "        label_pad_token_id=-100,\n",
    "#         return_tensors='pt'\n",
    "    )\n",
    "    score_itr = torch.utils.data.DataLoader(score_itr, shuffle=False, collate_fn=data_collator, batch_size=batch_size)\n",
    "    score_itr = score_itr if not verbose else tqdm.tqdm(score_itr, total=len(score_itr))\n",
    "\n",
    "    good_idx, bad_idx = tokenizer('good').input_ids[0], tokenizer('bad').input_ids[0]\n",
    "    scores = []\n",
    "    \n",
    "    with torch.no_grad():\n",
    "        for batch in score_itr:\n",
    "            if device is not None:\n",
    "                input_ids, attention_mask, targets = batch['input_ids'].to(device), batch['attention_mask'].to(device), batch['labels'].to(device)\n",
    "            model_output = model(input_ids=input_ids, attention_mask=attention_mask, labels=targets)\n",
    "            logits_pos = model_output['logits'][:, 0, good_idx].cpu().numpy()\n",
    "            logits_neg = model_output['logits'][:, 0, bad_idx].cpu().numpy()\n",
    "            exp_logit_pos, exp_logit_neg = np.exp(logits_pos), np.exp(logits_neg)\n",
    "            score = list([float(x) for x in exp_logit_pos / (exp_logit_pos + exp_logit_neg)])\n",
    "            #pdb.set_trace()\n",
    "            scores.extend(score)\n",
    "    return scores\n",
    "\n",
    "\n",
    "# def parse_args():\n",
    "#     '''\n",
    "#     Optional args for main function, mostly just to test.\n",
    "#     '''\n",
    "#     parser = argparse.ArgumentParser()\n",
    "#     parser.add_argument(\n",
    "#         'model_type',\n",
    "#         default='large',\n",
    "#         choices={'large', '3b', '11b'})\n",
    "#     parser.add_argument(\n",
    "#         '--batch_size',\n",
    "#         default=32,\n",
    "#         type=int)\n",
    "\n",
    "#     args = parser.parse_args(['--batch_size', '1'])\n",
    "#     return args"
   ]
  },
  {
   "cell_type": "code",
   "execution_count": 2,
   "id": "b6d73868",
   "metadata": {},
   "outputs": [],
   "source": [
    "# args = parse_args()\n",
    "# parser = argparse.ArgumentParser()\n",
    "# parser.add_argument(\n",
    "#     'model_type',\n",
    "#     default='large',\n",
    "#     choices={'large', '3b', '11b'})\n",
    "# parser.add_argument(\n",
    "#     '--batch_size',\n",
    "#     default=32,\n",
    "#     type=int)\n",
    "\n",
    "# args = parser.parse_args([\"--model_type\", \"3b\"])\n",
    "# args.device = 'cpu'#'cuda' if torch.cuda.is_available() else 'cpu'\n",
    "np.random.seed(1)\n",
    "import os \n",
    "os.environ[\"CUDA_VISIBLE_DEVICES\"] = \"3\"\n",
    "# scores = get_scores(\n",
    "#     ['If you feel like everything is spinning while climbing you are experiencing what? answer: vertigo. explanation: Vertigo is often experienced while climbing or at heights.',\n",
    "#      'Where do you get clothes in a shopping bag? answer: retail store. explanation: For any large item where convenience is beneficial, one might go to a retail store, either a regular one or a big-box store like walmart.',\n",
    "#      'Where should a cat be in a house? answer: floor. explanation: A cat should be on the floor, not on a rug.'],\n",
    "#     'large',\n",
    "#     device='cuda:0',\n",
    "#     batch_size=1,\n",
    "#     verbose=False)\n",
    "# print(scores)\n"
   ]
  },
  {
   "cell_type": "code",
   "execution_count": 3,
   "id": "a56e950e",
   "metadata": {},
   "outputs": [],
   "source": [
    "import json\n",
    "from tqdm import tqdm\n",
    "# with open(\"../../scripts/results/dev_rationale_pair.json\") as f:\n",
    "#     rationale_pair_dev_data = json.load(f)\n",
    "import json\n",
    "file_path = \"../../scripts/results/24shots_cose_t5_large_authorwritten_rationales_generator_test_rationale_pair.json\"\n",
    "with open(file_path, 'r') as f:\n",
    "    rationale_pair_dev_data = json.load(f)\n",
    "    "
   ]
  },
  {
   "cell_type": "code",
   "execution_count": 4,
   "id": "a31588f0",
   "metadata": {},
   "outputs": [
    {
     "data": {
      "text/plain": [
       "(dict_keys(['id', 'question', 'choices', 'answer', 'abstractive_explanation', 'extractive_explanation', 'our_explanation', 'input_ids', 'attention_mask', 'labels', 'decoder_attention_mask', 'question_encoding', 'common_expl_list', 'generated_explanation']),\n",
       " 201)"
      ]
     },
     "execution_count": 4,
     "metadata": {},
     "output_type": "execute_result"
    }
   ],
   "source": [
    "rationale_pair_dev_data[0].keys(), len(rationale_pair_dev_data)"
   ]
  },
  {
   "cell_type": "code",
   "execution_count": 5,
   "id": "166a2bb8",
   "metadata": {},
   "outputs": [
    {
     "name": "stderr",
     "output_type": "stream",
     "text": [
      "\r",
      "  0%|                                                                                                                                                                               | 0/201 [00:00<?, ?it/s]"
     ]
    },
    {
     "name": "stdout",
     "output_type": "stream",
     "text": [
      "Loading model: this will run only once.\n"
     ]
    },
    {
     "name": "stderr",
     "output_type": "stream",
     "text": [
      "100%|█████████████████████████████████████████████████████████████████████████████████████████████████████████████████████████████████████████████████████████████████████| 201/201 [01:44<00:00,  1.91it/s]\n"
     ]
    }
   ],
   "source": [
    "from tqdm import tqdm\n",
    "qae_list = []\n",
    "score_list = []\n",
    "for da in tqdm(rationale_pair_dev_data, total=len(rationale_pair_dev_data)):\n",
    "    qae = \"{} answer: {} explanation: {}\".format(da['question'], \n",
    "                                                 da['answer'], \n",
    "                                                 da['generated_explanation'])\n",
    "\n",
    "    scores = get_scores(\n",
    "        [qae],\n",
    "        '3b',\n",
    "        device='cuda:0',\n",
    "        batch_size=1,\n",
    "        verbose=False)\n",
    "    score_list.append(scores[0])\n",
    "#     if scores[0] > 0.7 or scores[0] < 0.2:\n",
    "#         print(\"question: {}\".format(da['question']))\n",
    "#         print(\"answer: {}\".format(da['answer']))\n",
    "#         print(\"common_expl_list: {}\".format(da['common_expl_list']))\n",
    "#         print(\"generated_explanation: {}\".format(da['generated_explanation']))\n",
    "#         print(\"score: {}\".format(scores[0]))"
   ]
  },
  {
   "cell_type": "code",
   "execution_count": 6,
   "id": "ba055119",
   "metadata": {},
   "outputs": [
    {
     "data": {
      "text/plain": [
       "(0.6127539177735647, 0.6324313282966614)"
      ]
     },
     "execution_count": 6,
     "metadata": {},
     "output_type": "execute_result"
    }
   ],
   "source": [
    "np.mean(score_list), np.median(score_list)"
   ]
  },
  {
   "cell_type": "markdown",
   "id": "83bb020b",
   "metadata": {},
   "source": [
    "## evaluate generated rationale with bert-score"
   ]
  },
  {
   "cell_type": "code",
   "execution_count": null,
   "id": "c556f234",
   "metadata": {},
   "outputs": [],
   "source": []
  },
  {
   "cell_type": "code",
   "execution_count": 7,
   "id": "d6b285d7",
   "metadata": {},
   "outputs": [],
   "source": [
    "import datasets\n",
    "import numpy as np\n",
    "bertscore_metric = datasets.load_metric(\"bertscore\")\n",
    "rouge_metric = datasets.load_metric('rouge')\n",
    "bleu_metric = datasets.load_metric('sacrebleu')"
   ]
  },
  {
   "cell_type": "code",
   "execution_count": 8,
   "id": "7708d652",
   "metadata": {},
   "outputs": [
    {
     "name": "stderr",
     "output_type": "stream",
     "text": [
      "100%|█████████████████████████████████████████████████████████████████████████████████████████████████████████████████████████████████████████████████████████████████████| 201/201 [02:27<00:00,  1.36it/s]\n"
     ]
    }
   ],
   "source": [
    "import pdb\n",
    "\n",
    "bert_scores = []\n",
    "bleu_scores = []\n",
    "rouge1_scores = []\n",
    "rouge2_scores = []\n",
    "rougeL_scores = []\n",
    "\n",
    "for da in tqdm(rationale_pair_dev_data, total=len(rationale_pair_dev_data)):\n",
    "    generated_expl = da['generated_explanation']\n",
    "    common_expl_list = da['common_expl_list']\n",
    "    pred_expl = generated_expl.split(\"<extra_id_0> \")[1].split(\"<extra_id_1>\")[0]\n",
    "    list_gold_expl = [l.lower() for l in common_expl_list]\n",
    "    \n",
    "    bert_score = bertscore_metric.compute(predictions=[pred_expl.lower()], references=[list_gold_expl], lang=\"en\")[\"f1\"][0]*100\n",
    "    bleu_score = bleu_metric.compute(predictions=[pred_expl.lower()], references=[list_gold_expl])['score']\n",
    "    rouge_score = rouge_metric.compute(predictions=[pred_expl.lower()]*len(list_gold_expl), references=list_gold_expl)\n",
    "    rouge1_score = rouge_score[\"rouge1\"].mid.fmeasure\n",
    "    rouge2_score = rouge_score[\"rouge2\"].mid.fmeasure\n",
    "    rougeL_score = rouge_score[\"rougeL\"].mid.fmeasure\n",
    "    bert_scores.append(bert_score)\n",
    "    bleu_scores.append(bleu_score)\n",
    "    rouge1_scores.append(rouge1_score)\n",
    "    rouge2_scores.append(rouge2_score)\n",
    "    rougeL_scores.append(rougeL_score)\n",
    "    \n",
    "    \n",
    "#     #print(generated_expl)\n",
    "#     #print(generated_expl.split(\"<extra_id_0> \")[1].split(\"<extra_id_1>\")[0])\n",
    "#     instance_bertscores = []\n",
    "#     for gold_expl in list_gold_expl: \n",
    "#         score = bertscore_metric.compute(predictions=[pred_expl.lower()]*len(), references=[gold_expl.lower()], lang=\"en\")[\"f1\"][0]*100\n",
    "#         instance_bertscores.append(score)\n",
    "#     bertscores.append(np.mean(instance_bertscores))\n",
    "    \n",
    "#     bleuscore = bleu_score(pred_expl, list_gold_expl)\n",
    "#     bleuscores.append(bleuscore)\n",
    "    \n",
    "#     rougescore = rouge(pred_expl, list_gold_expl)\n",
    "#     rouge1_scores.append(rougescore['rouge1_fmeasure'].numpy()[0])\n",
    "#     rouge2_scores.append(rougescore['rouge2_fmeasure'].numpy()[0])\n",
    "#     rougeL_scores.append(rougescore['rougeL_fmeasure'].numpy()[0])\n",
    "    \n",
    "    \n",
    "\n",
    "\n",
    "    #pdb.set_trace()"
   ]
  },
  {
   "cell_type": "code",
   "execution_count": 9,
   "id": "a77a5407",
   "metadata": {},
   "outputs": [
    {
     "name": "stdout",
     "output_type": "stream",
     "text": [
      "bert_score: 89.04250827594777\n",
      "bleu_score: 7.44128689978477\n",
      "rouge1_score: 0.2538444176242664\n",
      "rouge2_score: 0.07460788539005685\n",
      "rougeL_score: 0.1975521905703874\n"
     ]
    }
   ],
   "source": [
    "print(\"bert_score: {}\".format(np.mean(bert_scores)))\n",
    "print(\"bleu_score: {}\".format(np.mean(bleu_scores)))\n",
    "print(\"rouge1_score: {}\".format(np.mean(rouge1_scores)))\n",
    "print(\"rouge2_score: {}\".format(np.mean(rouge2_scores)))\n",
    "print(\"rougeL_score: {}\".format(np.mean(rougeL_scores)))\n"
   ]
  },
  {
   "cell_type": "code",
   "execution_count": 10,
   "id": "e8d9896e",
   "metadata": {},
   "outputs": [
    {
     "data": {
      "text/plain": [
       "{'rouge1': AggregateScore(low=Score(precision=0.625, recall=0.21739130434782608, fmeasure=0.3225806451612903), mid=Score(precision=0.625, recall=0.2753623188405797, fmeasure=0.37868162692847124), high=Score(precision=0.625, recall=0.3333333333333333, fmeasure=0.43478260869565216)),\n",
       " 'rouge2': AggregateScore(low=Score(precision=0.14285714285714285, recall=0.045454545454545456, fmeasure=0.06896551724137931), mid=Score(precision=0.21428571428571427, recall=0.09415584415584416, fmeasure=0.1297208538587849), high=Score(precision=0.2857142857142857, recall=0.14285714285714285, fmeasure=0.19047619047619047)),\n",
       " 'rougeL': AggregateScore(low=Score(precision=0.5, recall=0.17391304347826086, fmeasure=0.25806451612903225), mid=Score(precision=0.5, recall=0.22028985507246376, fmeasure=0.302945301542777), high=Score(precision=0.5, recall=0.26666666666666666, fmeasure=0.3478260869565218)),\n",
       " 'rougeLsum': AggregateScore(low=Score(precision=0.5, recall=0.17391304347826086, fmeasure=0.25806451612903225), mid=Score(precision=0.5, recall=0.22028985507246376, fmeasure=0.302945301542777), high=Score(precision=0.5, recall=0.26666666666666666, fmeasure=0.3478260869565218))}"
      ]
     },
     "execution_count": 10,
     "metadata": {},
     "output_type": "execute_result"
    }
   ],
   "source": [
    "rouge_score"
   ]
  },
  {
   "cell_type": "code",
   "execution_count": 11,
   "id": "8e2d6d09",
   "metadata": {},
   "outputs": [
    {
     "ename": "NameError",
     "evalue": "name 'bertscore' is not defined",
     "output_type": "error",
     "traceback": [
      "\u001b[0;31m---------------------------------------------------------------------------\u001b[0m",
      "\u001b[0;31mNameError\u001b[0m                                 Traceback (most recent call last)",
      "\u001b[0;32m/tmp/ipykernel_1258262/4021306630.py\u001b[0m in \u001b[0;36m<module>\u001b[0;34m\u001b[0m\n\u001b[0;32m----> 1\u001b[0;31m \u001b[0mbertscore\u001b[0m\u001b[0;34m\u001b[0m\u001b[0m\n\u001b[0m",
      "\u001b[0;31mNameError\u001b[0m: name 'bertscore' is not defined"
     ]
    }
   ],
   "source": [
    "bertscore"
   ]
  },
  {
   "cell_type": "code",
   "execution_count": null,
   "id": "90205fc2",
   "metadata": {},
   "outputs": [],
   "source": [
    "bertscores"
   ]
  },
  {
   "cell_type": "code",
   "execution_count": null,
   "id": "9f5150ff",
   "metadata": {},
   "outputs": [],
   "source": [
    "np.mean(score_list)"
   ]
  }
 ],
 "metadata": {
  "kernelspec": {
   "display_name": "Python 3 (ipykernel)",
   "language": "python",
   "name": "python3"
  },
  "language_info": {
   "codemirror_mode": {
    "name": "ipython",
    "version": 3
   },
   "file_extension": ".py",
   "mimetype": "text/x-python",
   "name": "python",
   "nbconvert_exporter": "python",
   "pygments_lexer": "ipython3",
   "version": "3.7.0"
  }
 },
 "nbformat": 4,
 "nbformat_minor": 5
}
